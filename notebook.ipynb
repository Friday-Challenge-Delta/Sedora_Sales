{
 "cells": [
  {
   "cell_type": "code",
   "metadata": {
    "tags": [],
    "cell_id": "00000-ce165b33-6f18-41e3-82c0-ef1b1036af70",
    "deepnote_to_be_reexecuted": false,
    "source_hash": "e2329e55",
    "execution_start": 1620990656720,
    "execution_millis": 2,
    "deepnote_cell_type": "code"
   },
   "source": "# 1. Create  a model that is able to predict if a customer will make a purcase\n# 2. Report what features made that model succesful\n# 3. Create visual represenation of previous 2 points using graphex. ",
   "execution_count": null,
   "outputs": []
  },
  {
   "cell_type": "code",
   "metadata": {
    "tags": [],
    "cell_id": "00000-8c1a4f1d-dc4e-480c-a34d-ad093c115f2f",
    "deepnote_to_be_reexecuted": false,
    "source_hash": "546b7dd8",
    "execution_start": 1621007849666,
    "execution_millis": 9,
    "deepnote_cell_type": "code"
   },
   "source": "import time\nfrom IPython.display import clear_output\nimport numpy    as np\nimport pandas   as pd\nimport seaborn  as sns\nimport matplotlib.pyplot as plt\nimport sklearn  as skl\n\nfrom sklearn import pipeline      # Pipeline\nfrom sklearn import preprocessing # OrdinalEncoder, LabelEncoder\nfrom sklearn import impute\nfrom sklearn import compose\nfrom sklearn import model_selection # train_test_split\nfrom sklearn import metrics         # accuracy_score, balanced_accuracy_score, plot_confusion_matrix\nfrom sklearn import set_config\nfrom sklearn.impute import KNNImputer\nfrom sklearn.preprocessing import PowerTransformer\nfrom sklearn.preprocessing import QuantileTransformer\nfrom sklearn.preprocessing import OneHotEncoder\n\nfrom sklearn.metrics import mean_squared_error\nfrom sklearn.preprocessing import MinMaxScaler\nfrom sklearn.preprocessing import MaxAbsScaler\nfrom sklearn.preprocessing import StandardScaler\nfrom sklearn.preprocessing import RobustScaler\nfrom sklearn.preprocessing import Normalizer\nfrom sklearn.preprocessing import QuantileTransformer\nfrom sklearn.preprocessing import PowerTransformer\n\nimport pandas as pd\nimport numpy as np\nimport matplotlib.pyplot as plt\n#import seaborn as sb\nimport sklearn as skl\nimport time as t\nfrom IPython.display import display, clear_output\n\n\n\nimport json\nimport pickle\n\nset_config(display='diagram') # Useful for display the pipeline\n\nprint(\"Pandas  \", pd.__version__)\nprint(\"Sklearn \", skl.__version__) # Try to use 0.24",
   "execution_count": null,
   "outputs": [
    {
     "name": "stdout",
     "text": "Pandas   1.2.4\nSklearn  0.24.2\n",
     "output_type": "stream"
    }
   ]
  },
  {
   "cell_type": "markdown",
   "source": "The dataset consists of 10 numerical and 8 categorical attributes.\nThe 'Revenue' attribute can be used as the class label.\n\n\"Administrative\", \"Administrative Duration\", \"Informational\", \"Informational Duration\", \"Product Related\" and \"Product Related Duration\" represent the number of different types of pages visited by the visitor in that session and total time spent in each of these page categories. \n\nThe values of these features are derived from the URL information of the pages visited by the user and updated in real time when a user takes an action, e.g. moving from one page to another. \n\nThe \"Bounce Rate\", \"Exit Rate\" and \"Page Value\" features represent the metrics measured by \"Google Analytics\" for each page in the e-commerce site. The value of \"Bounce Rate\" feature for a web page refers to the percentage of visitors who enter the site from that page and then leave (\"bounce\") without triggering any other requests to the analytics server during that session. \n\nThe value of \"Exit Rate\" feature for a specific web page is calculated as for all pageviews to the page, the percentage that were the last in the session. The \"Page Value\" feature represents the average value for a web page that a user visited before completing an e-commerce transaction. \n\nThe \"Special Day\" feature indicates the closeness of the site visiting time to a specific special day (e.g. Mother’s Day, Valentine's Day) in which the sessions are more likely to be finalized with transaction. The value of this attribute is determined by considering the dynamics of e-commerce such as the duration between the order date and delivery date. \n\nFor example, for Valentina’s day, this value takes a nonzero value between February 2 and February 12, zero before and after this date unless it is close to another special day, and its maximum value of 1 on February 8. The dataset also includes operating system, browser, region, traffic type, visitor type as returning or new visitor, a Boolean value indicating whether the date of the visit is weekend, and month of the year.",
   "metadata": {
    "tags": [],
    "cell_id": "00001-9e91a0d3-eacc-4a1c-a4f5-9034fcdbba37",
    "deepnote_cell_type": "markdown"
   }
  },
  {
   "cell_type": "code",
   "metadata": {
    "tags": [],
    "cell_id": "00001-d0045f42-8605-42ff-8520-e82739d181a9",
    "deepnote_to_be_reexecuted": false,
    "source_hash": "34e21c0e",
    "execution_start": 1620995716904,
    "execution_millis": 151,
    "deepnote_cell_type": "code"
   },
   "source": "df=pd.read_csv(\"/work/Sedora_Sales/online_shoppers_intention.csv\")\ndf.head()",
   "execution_count": null,
   "outputs": [
    {
     "output_type": "execute_result",
     "execution_count": 127,
     "data": {
      "application/vnd.deepnote.dataframe.v2+json": {
       "row_count": 5,
       "column_count": 18,
       "columns": [
        {
         "name": "Administrative",
         "dtype": "int64",
         "stats": {
          "unique_count": 1,
          "nan_count": 0,
          "min": "0",
          "max": "0",
          "histogram": [
           {
            "bin_start": -0.5,
            "bin_end": -0.4,
            "count": 0
           },
           {
            "bin_start": -0.4,
            "bin_end": -0.3,
            "count": 0
           },
           {
            "bin_start": -0.3,
            "bin_end": -0.19999999999999996,
            "count": 0
           },
           {
            "bin_start": -0.19999999999999996,
            "bin_end": -0.09999999999999998,
            "count": 0
           },
           {
            "bin_start": -0.09999999999999998,
            "bin_end": 0,
            "count": 0
           },
           {
            "bin_start": 0,
            "bin_end": 0.10000000000000009,
            "count": 5
           },
           {
            "bin_start": 0.10000000000000009,
            "bin_end": 0.20000000000000007,
            "count": 0
           },
           {
            "bin_start": 0.20000000000000007,
            "bin_end": 0.30000000000000004,
            "count": 0
           },
           {
            "bin_start": 0.30000000000000004,
            "bin_end": 0.4,
            "count": 0
           },
           {
            "bin_start": 0.4,
            "bin_end": 0.5,
            "count": 0
           }
          ]
         }
        },
        {
         "name": "Administrative_Duration",
         "dtype": "float64",
         "stats": {
          "unique_count": 1,
          "nan_count": 0,
          "min": "0.0",
          "max": "0.0",
          "histogram": [
           {
            "bin_start": -0.5,
            "bin_end": -0.4,
            "count": 0
           },
           {
            "bin_start": -0.4,
            "bin_end": -0.3,
            "count": 0
           },
           {
            "bin_start": -0.3,
            "bin_end": -0.19999999999999996,
            "count": 0
           },
           {
            "bin_start": -0.19999999999999996,
            "bin_end": -0.09999999999999998,
            "count": 0
           },
           {
            "bin_start": -0.09999999999999998,
            "bin_end": 0,
            "count": 0
           },
           {
            "bin_start": 0,
            "bin_end": 0.10000000000000009,
            "count": 5
           },
           {
            "bin_start": 0.10000000000000009,
            "bin_end": 0.20000000000000007,
            "count": 0
           },
           {
            "bin_start": 0.20000000000000007,
            "bin_end": 0.30000000000000004,
            "count": 0
           },
           {
            "bin_start": 0.30000000000000004,
            "bin_end": 0.4,
            "count": 0
           },
           {
            "bin_start": 0.4,
            "bin_end": 0.5,
            "count": 0
           }
          ]
         }
        },
        {
         "name": "Informational",
         "dtype": "int64",
         "stats": {
          "unique_count": 1,
          "nan_count": 0,
          "min": "0",
          "max": "0",
          "histogram": [
           {
            "bin_start": -0.5,
            "bin_end": -0.4,
            "count": 0
           },
           {
            "bin_start": -0.4,
            "bin_end": -0.3,
            "count": 0
           },
           {
            "bin_start": -0.3,
            "bin_end": -0.19999999999999996,
            "count": 0
           },
           {
            "bin_start": -0.19999999999999996,
            "bin_end": -0.09999999999999998,
            "count": 0
           },
           {
            "bin_start": -0.09999999999999998,
            "bin_end": 0,
            "count": 0
           },
           {
            "bin_start": 0,
            "bin_end": 0.10000000000000009,
            "count": 5
           },
           {
            "bin_start": 0.10000000000000009,
            "bin_end": 0.20000000000000007,
            "count": 0
           },
           {
            "bin_start": 0.20000000000000007,
            "bin_end": 0.30000000000000004,
            "count": 0
           },
           {
            "bin_start": 0.30000000000000004,
            "bin_end": 0.4,
            "count": 0
           },
           {
            "bin_start": 0.4,
            "bin_end": 0.5,
            "count": 0
           }
          ]
         }
        },
        {
         "name": "Informational_Duration",
         "dtype": "float64",
         "stats": {
          "unique_count": 1,
          "nan_count": 0,
          "min": "0.0",
          "max": "0.0",
          "histogram": [
           {
            "bin_start": -0.5,
            "bin_end": -0.4,
            "count": 0
           },
           {
            "bin_start": -0.4,
            "bin_end": -0.3,
            "count": 0
           },
           {
            "bin_start": -0.3,
            "bin_end": -0.19999999999999996,
            "count": 0
           },
           {
            "bin_start": -0.19999999999999996,
            "bin_end": -0.09999999999999998,
            "count": 0
           },
           {
            "bin_start": -0.09999999999999998,
            "bin_end": 0,
            "count": 0
           },
           {
            "bin_start": 0,
            "bin_end": 0.10000000000000009,
            "count": 5
           },
           {
            "bin_start": 0.10000000000000009,
            "bin_end": 0.20000000000000007,
            "count": 0
           },
           {
            "bin_start": 0.20000000000000007,
            "bin_end": 0.30000000000000004,
            "count": 0
           },
           {
            "bin_start": 0.30000000000000004,
            "bin_end": 0.4,
            "count": 0
           },
           {
            "bin_start": 0.4,
            "bin_end": 0.5,
            "count": 0
           }
          ]
         }
        },
        {
         "name": "ProductRelated",
         "dtype": "int64",
         "stats": {
          "unique_count": 3,
          "nan_count": 0,
          "min": "1",
          "max": "10",
          "histogram": [
           {
            "bin_start": 1,
            "bin_end": 1.9,
            "count": 2
           },
           {
            "bin_start": 1.9,
            "bin_end": 2.8,
            "count": 2
           },
           {
            "bin_start": 2.8,
            "bin_end": 3.7,
            "count": 0
           },
           {
            "bin_start": 3.7,
            "bin_end": 4.6,
            "count": 0
           },
           {
            "bin_start": 4.6,
            "bin_end": 5.5,
            "count": 0
           },
           {
            "bin_start": 5.5,
            "bin_end": 6.4,
            "count": 0
           },
           {
            "bin_start": 6.4,
            "bin_end": 7.3,
            "count": 0
           },
           {
            "bin_start": 7.3,
            "bin_end": 8.2,
            "count": 0
           },
           {
            "bin_start": 8.2,
            "bin_end": 9.1,
            "count": 0
           },
           {
            "bin_start": 9.1,
            "bin_end": 10,
            "count": 1
           }
          ]
         }
        },
        {
         "name": "ProductRelated_Duration",
         "dtype": "float64",
         "stats": {
          "unique_count": 4,
          "nan_count": 0,
          "min": "0.0",
          "max": "627.5",
          "histogram": [
           {
            "bin_start": 0,
            "bin_end": 62.75,
            "count": 3
           },
           {
            "bin_start": 62.75,
            "bin_end": 125.5,
            "count": 1
           },
           {
            "bin_start": 125.5,
            "bin_end": 188.25,
            "count": 0
           },
           {
            "bin_start": 188.25,
            "bin_end": 251,
            "count": 0
           },
           {
            "bin_start": 251,
            "bin_end": 313.75,
            "count": 0
           },
           {
            "bin_start": 313.75,
            "bin_end": 376.5,
            "count": 0
           },
           {
            "bin_start": 376.5,
            "bin_end": 439.25,
            "count": 0
           },
           {
            "bin_start": 439.25,
            "bin_end": 502,
            "count": 0
           },
           {
            "bin_start": 502,
            "bin_end": 564.75,
            "count": 0
           },
           {
            "bin_start": 564.75,
            "bin_end": 627.5,
            "count": 1
           }
          ]
         }
        },
        {
         "name": "BounceRates",
         "dtype": "float64",
         "stats": {
          "unique_count": 4,
          "nan_count": 0,
          "min": "0.0",
          "max": "0.2",
          "histogram": [
           {
            "bin_start": 0,
            "bin_end": 0.02,
            "count": 1
           },
           {
            "bin_start": 0.02,
            "bin_end": 0.04,
            "count": 1
           },
           {
            "bin_start": 0.04,
            "bin_end": 0.06,
            "count": 1
           },
           {
            "bin_start": 0.06,
            "bin_end": 0.08,
            "count": 0
           },
           {
            "bin_start": 0.08,
            "bin_end": 0.1,
            "count": 0
           },
           {
            "bin_start": 0.1,
            "bin_end": 0.12,
            "count": 0
           },
           {
            "bin_start": 0.12,
            "bin_end": 0.14,
            "count": 0
           },
           {
            "bin_start": 0.14,
            "bin_end": 0.16,
            "count": 0
           },
           {
            "bin_start": 0.16,
            "bin_end": 0.18,
            "count": 0
           },
           {
            "bin_start": 0.18,
            "bin_end": 0.2,
            "count": 2
           }
          ]
         }
        },
        {
         "name": "ExitRates",
         "dtype": "float64",
         "stats": {
          "unique_count": 4,
          "nan_count": 0,
          "min": "0.05",
          "max": "0.2",
          "histogram": [
           {
            "bin_start": 0.05,
            "bin_end": 0.065,
            "count": 1
           },
           {
            "bin_start": 0.065,
            "bin_end": 0.08000000000000002,
            "count": 0
           },
           {
            "bin_start": 0.08000000000000002,
            "bin_end": 0.09500000000000001,
            "count": 0
           },
           {
            "bin_start": 0.09500000000000001,
            "bin_end": 0.11000000000000001,
            "count": 1
           },
           {
            "bin_start": 0.11000000000000001,
            "bin_end": 0.125,
            "count": 0
           },
           {
            "bin_start": 0.125,
            "bin_end": 0.14,
            "count": 0
           },
           {
            "bin_start": 0.14,
            "bin_end": 0.15500000000000003,
            "count": 1
           },
           {
            "bin_start": 0.15500000000000003,
            "bin_end": 0.17000000000000004,
            "count": 0
           },
           {
            "bin_start": 0.17000000000000004,
            "bin_end": 0.18500000000000005,
            "count": 0
           },
           {
            "bin_start": 0.18500000000000005,
            "bin_end": 0.2,
            "count": 2
           }
          ]
         }
        },
        {
         "name": "PageValues",
         "dtype": "float64",
         "stats": {
          "unique_count": 1,
          "nan_count": 0,
          "min": "0.0",
          "max": "0.0",
          "histogram": [
           {
            "bin_start": -0.5,
            "bin_end": -0.4,
            "count": 0
           },
           {
            "bin_start": -0.4,
            "bin_end": -0.3,
            "count": 0
           },
           {
            "bin_start": -0.3,
            "bin_end": -0.19999999999999996,
            "count": 0
           },
           {
            "bin_start": -0.19999999999999996,
            "bin_end": -0.09999999999999998,
            "count": 0
           },
           {
            "bin_start": -0.09999999999999998,
            "bin_end": 0,
            "count": 0
           },
           {
            "bin_start": 0,
            "bin_end": 0.10000000000000009,
            "count": 5
           },
           {
            "bin_start": 0.10000000000000009,
            "bin_end": 0.20000000000000007,
            "count": 0
           },
           {
            "bin_start": 0.20000000000000007,
            "bin_end": 0.30000000000000004,
            "count": 0
           },
           {
            "bin_start": 0.30000000000000004,
            "bin_end": 0.4,
            "count": 0
           },
           {
            "bin_start": 0.4,
            "bin_end": 0.5,
            "count": 0
           }
          ]
         }
        },
        {
         "name": "SpecialDay",
         "dtype": "float64",
         "stats": {
          "unique_count": 1,
          "nan_count": 0,
          "min": "0.0",
          "max": "0.0",
          "histogram": [
           {
            "bin_start": -0.5,
            "bin_end": -0.4,
            "count": 0
           },
           {
            "bin_start": -0.4,
            "bin_end": -0.3,
            "count": 0
           },
           {
            "bin_start": -0.3,
            "bin_end": -0.19999999999999996,
            "count": 0
           },
           {
            "bin_start": -0.19999999999999996,
            "bin_end": -0.09999999999999998,
            "count": 0
           },
           {
            "bin_start": -0.09999999999999998,
            "bin_end": 0,
            "count": 0
           },
           {
            "bin_start": 0,
            "bin_end": 0.10000000000000009,
            "count": 5
           },
           {
            "bin_start": 0.10000000000000009,
            "bin_end": 0.20000000000000007,
            "count": 0
           },
           {
            "bin_start": 0.20000000000000007,
            "bin_end": 0.30000000000000004,
            "count": 0
           },
           {
            "bin_start": 0.30000000000000004,
            "bin_end": 0.4,
            "count": 0
           },
           {
            "bin_start": 0.4,
            "bin_end": 0.5,
            "count": 0
           }
          ]
         }
        },
        {
         "name": "Month",
         "dtype": "object",
         "stats": {
          "unique_count": 1,
          "nan_count": 0,
          "categories": [
           {
            "name": "Feb",
            "count": 5
           }
          ]
         }
        },
        {
         "name": "OperatingSystems",
         "dtype": "int64",
         "stats": {
          "unique_count": 4,
          "nan_count": 0,
          "min": "1",
          "max": "4",
          "histogram": [
           {
            "bin_start": 1,
            "bin_end": 1.3,
            "count": 1
           },
           {
            "bin_start": 1.3,
            "bin_end": 1.6,
            "count": 0
           },
           {
            "bin_start": 1.6,
            "bin_end": 1.9,
            "count": 0
           },
           {
            "bin_start": 1.9,
            "bin_end": 2.2,
            "count": 1
           },
           {
            "bin_start": 2.2,
            "bin_end": 2.5,
            "count": 0
           },
           {
            "bin_start": 2.5,
            "bin_end": 2.8,
            "count": 0
           },
           {
            "bin_start": 2.8,
            "bin_end": 3.1,
            "count": 2
           },
           {
            "bin_start": 3.1,
            "bin_end": 3.4,
            "count": 0
           },
           {
            "bin_start": 3.4,
            "bin_end": 3.6999999999999997,
            "count": 0
           },
           {
            "bin_start": 3.6999999999999997,
            "bin_end": 4,
            "count": 1
           }
          ]
         }
        },
        {
         "name": "Browser",
         "dtype": "int64",
         "stats": {
          "unique_count": 3,
          "nan_count": 0,
          "min": "1",
          "max": "3",
          "histogram": [
           {
            "bin_start": 1,
            "bin_end": 1.2,
            "count": 2
           },
           {
            "bin_start": 1.2,
            "bin_end": 1.4,
            "count": 0
           },
           {
            "bin_start": 1.4,
            "bin_end": 1.6,
            "count": 0
           },
           {
            "bin_start": 1.6,
            "bin_end": 1.8,
            "count": 0
           },
           {
            "bin_start": 1.8,
            "bin_end": 2,
            "count": 0
           },
           {
            "bin_start": 2,
            "bin_end": 2.2,
            "count": 2
           },
           {
            "bin_start": 2.2,
            "bin_end": 2.4000000000000004,
            "count": 0
           },
           {
            "bin_start": 2.4000000000000004,
            "bin_end": 2.6,
            "count": 0
           },
           {
            "bin_start": 2.6,
            "bin_end": 2.8,
            "count": 0
           },
           {
            "bin_start": 2.8,
            "bin_end": 3,
            "count": 1
           }
          ]
         }
        },
        {
         "name": "Region",
         "dtype": "int64",
         "stats": {
          "unique_count": 3,
          "nan_count": 0,
          "min": "1",
          "max": "9",
          "histogram": [
           {
            "bin_start": 1,
            "bin_end": 1.8,
            "count": 3
           },
           {
            "bin_start": 1.8,
            "bin_end": 2.6,
            "count": 1
           },
           {
            "bin_start": 2.6,
            "bin_end": 3.4000000000000004,
            "count": 0
           },
           {
            "bin_start": 3.4000000000000004,
            "bin_end": 4.2,
            "count": 0
           },
           {
            "bin_start": 4.2,
            "bin_end": 5,
            "count": 0
           },
           {
            "bin_start": 5,
            "bin_end": 5.800000000000001,
            "count": 0
           },
           {
            "bin_start": 5.800000000000001,
            "bin_end": 6.6000000000000005,
            "count": 0
           },
           {
            "bin_start": 6.6000000000000005,
            "bin_end": 7.4,
            "count": 0
           },
           {
            "bin_start": 7.4,
            "bin_end": 8.2,
            "count": 0
           },
           {
            "bin_start": 8.2,
            "bin_end": 9,
            "count": 1
           }
          ]
         }
        },
        {
         "name": "TrafficType",
         "dtype": "int64",
         "stats": {
          "unique_count": 4,
          "nan_count": 0,
          "min": "1",
          "max": "4",
          "histogram": [
           {
            "bin_start": 1,
            "bin_end": 1.3,
            "count": 1
           },
           {
            "bin_start": 1.3,
            "bin_end": 1.6,
            "count": 0
           },
           {
            "bin_start": 1.6,
            "bin_end": 1.9,
            "count": 0
           },
           {
            "bin_start": 1.9,
            "bin_end": 2.2,
            "count": 1
           },
           {
            "bin_start": 2.2,
            "bin_end": 2.5,
            "count": 0
           },
           {
            "bin_start": 2.5,
            "bin_end": 2.8,
            "count": 0
           },
           {
            "bin_start": 2.8,
            "bin_end": 3.1,
            "count": 1
           },
           {
            "bin_start": 3.1,
            "bin_end": 3.4,
            "count": 0
           },
           {
            "bin_start": 3.4,
            "bin_end": 3.6999999999999997,
            "count": 0
           },
           {
            "bin_start": 3.6999999999999997,
            "bin_end": 4,
            "count": 2
           }
          ]
         }
        },
        {
         "name": "VisitorType",
         "dtype": "object",
         "stats": {
          "unique_count": 1,
          "nan_count": 0,
          "categories": [
           {
            "name": "Returning_Visitor",
            "count": 5
           }
          ]
         }
        },
        {
         "name": "Weekend",
         "dtype": "bool",
         "stats": {
          "unique_count": 2,
          "nan_count": 0,
          "categories": [
           {
            "name": "False",
            "count": 4
           },
           {
            "name": "True",
            "count": 1
           }
          ]
         }
        },
        {
         "name": "Revenue",
         "dtype": "bool",
         "stats": {
          "unique_count": 1,
          "nan_count": 0,
          "categories": [
           {
            "name": "False",
            "count": 5
           }
          ]
         }
        },
        {
         "name": "_deepnote_index_column",
         "dtype": "int64"
        }
       ],
       "rows_top": [
        {
         "Administrative": 0,
         "Administrative_Duration": 0,
         "Informational": 0,
         "Informational_Duration": 0,
         "ProductRelated": 1,
         "ProductRelated_Duration": 0,
         "BounceRates": 0.2,
         "ExitRates": 0.2,
         "PageValues": 0,
         "SpecialDay": 0,
         "Month": "Feb",
         "OperatingSystems": 1,
         "Browser": 1,
         "Region": 1,
         "TrafficType": 1,
         "VisitorType": "Returning_Visitor",
         "Weekend": false,
         "Revenue": false,
         "_deepnote_index_column": 0
        },
        {
         "Administrative": 0,
         "Administrative_Duration": 0,
         "Informational": 0,
         "Informational_Duration": 0,
         "ProductRelated": 2,
         "ProductRelated_Duration": 64,
         "BounceRates": 0,
         "ExitRates": 0.1,
         "PageValues": 0,
         "SpecialDay": 0,
         "Month": "Feb",
         "OperatingSystems": 2,
         "Browser": 2,
         "Region": 1,
         "TrafficType": 2,
         "VisitorType": "Returning_Visitor",
         "Weekend": false,
         "Revenue": false,
         "_deepnote_index_column": 1
        },
        {
         "Administrative": 0,
         "Administrative_Duration": 0,
         "Informational": 0,
         "Informational_Duration": 0,
         "ProductRelated": 1,
         "ProductRelated_Duration": 0,
         "BounceRates": 0.2,
         "ExitRates": 0.2,
         "PageValues": 0,
         "SpecialDay": 0,
         "Month": "Feb",
         "OperatingSystems": 4,
         "Browser": 1,
         "Region": 9,
         "TrafficType": 3,
         "VisitorType": "Returning_Visitor",
         "Weekend": false,
         "Revenue": false,
         "_deepnote_index_column": 2
        },
        {
         "Administrative": 0,
         "Administrative_Duration": 0,
         "Informational": 0,
         "Informational_Duration": 0,
         "ProductRelated": 2,
         "ProductRelated_Duration": 2.666666667,
         "BounceRates": 0.05,
         "ExitRates": 0.14,
         "PageValues": 0,
         "SpecialDay": 0,
         "Month": "Feb",
         "OperatingSystems": 3,
         "Browser": 2,
         "Region": 2,
         "TrafficType": 4,
         "VisitorType": "Returning_Visitor",
         "Weekend": false,
         "Revenue": false,
         "_deepnote_index_column": 3
        },
        {
         "Administrative": 0,
         "Administrative_Duration": 0,
         "Informational": 0,
         "Informational_Duration": 0,
         "ProductRelated": 10,
         "ProductRelated_Duration": 627.5,
         "BounceRates": 0.02,
         "ExitRates": 0.05,
         "PageValues": 0,
         "SpecialDay": 0,
         "Month": "Feb",
         "OperatingSystems": 3,
         "Browser": 3,
         "Region": 1,
         "TrafficType": 4,
         "VisitorType": "Returning_Visitor",
         "Weekend": true,
         "Revenue": false,
         "_deepnote_index_column": 4
        }
       ],
       "rows_bottom": null
      },
      "text/plain": "   Administrative  Administrative_Duration  Informational  \\\n0               0                      0.0              0   \n1               0                      0.0              0   \n2               0                      0.0              0   \n3               0                      0.0              0   \n4               0                      0.0              0   \n\n   Informational_Duration  ProductRelated  ProductRelated_Duration  \\\n0                     0.0               1                 0.000000   \n1                     0.0               2                64.000000   \n2                     0.0               1                 0.000000   \n3                     0.0               2                 2.666667   \n4                     0.0              10               627.500000   \n\n   BounceRates  ExitRates  PageValues  SpecialDay Month  OperatingSystems  \\\n0         0.20       0.20         0.0         0.0   Feb                 1   \n1         0.00       0.10         0.0         0.0   Feb                 2   \n2         0.20       0.20         0.0         0.0   Feb                 4   \n3         0.05       0.14         0.0         0.0   Feb                 3   \n4         0.02       0.05         0.0         0.0   Feb                 3   \n\n   Browser  Region  TrafficType        VisitorType  Weekend  Revenue  \n0        1       1            1  Returning_Visitor    False    False  \n1        2       1            2  Returning_Visitor    False    False  \n2        1       9            3  Returning_Visitor    False    False  \n3        2       2            4  Returning_Visitor    False    False  \n4        3       1            4  Returning_Visitor     True    False  ",
      "text/html": "<div>\n<style scoped>\n    .dataframe tbody tr th:only-of-type {\n        vertical-align: middle;\n    }\n\n    .dataframe tbody tr th {\n        vertical-align: top;\n    }\n\n    .dataframe thead th {\n        text-align: right;\n    }\n</style>\n<table border=\"1\" class=\"dataframe\">\n  <thead>\n    <tr style=\"text-align: right;\">\n      <th></th>\n      <th>Administrative</th>\n      <th>Administrative_Duration</th>\n      <th>Informational</th>\n      <th>Informational_Duration</th>\n      <th>ProductRelated</th>\n      <th>ProductRelated_Duration</th>\n      <th>BounceRates</th>\n      <th>ExitRates</th>\n      <th>PageValues</th>\n      <th>SpecialDay</th>\n      <th>Month</th>\n      <th>OperatingSystems</th>\n      <th>Browser</th>\n      <th>Region</th>\n      <th>TrafficType</th>\n      <th>VisitorType</th>\n      <th>Weekend</th>\n      <th>Revenue</th>\n    </tr>\n  </thead>\n  <tbody>\n    <tr>\n      <th>0</th>\n      <td>0</td>\n      <td>0.0</td>\n      <td>0</td>\n      <td>0.0</td>\n      <td>1</td>\n      <td>0.000000</td>\n      <td>0.20</td>\n      <td>0.20</td>\n      <td>0.0</td>\n      <td>0.0</td>\n      <td>Feb</td>\n      <td>1</td>\n      <td>1</td>\n      <td>1</td>\n      <td>1</td>\n      <td>Returning_Visitor</td>\n      <td>False</td>\n      <td>False</td>\n    </tr>\n    <tr>\n      <th>1</th>\n      <td>0</td>\n      <td>0.0</td>\n      <td>0</td>\n      <td>0.0</td>\n      <td>2</td>\n      <td>64.000000</td>\n      <td>0.00</td>\n      <td>0.10</td>\n      <td>0.0</td>\n      <td>0.0</td>\n      <td>Feb</td>\n      <td>2</td>\n      <td>2</td>\n      <td>1</td>\n      <td>2</td>\n      <td>Returning_Visitor</td>\n      <td>False</td>\n      <td>False</td>\n    </tr>\n    <tr>\n      <th>2</th>\n      <td>0</td>\n      <td>0.0</td>\n      <td>0</td>\n      <td>0.0</td>\n      <td>1</td>\n      <td>0.000000</td>\n      <td>0.20</td>\n      <td>0.20</td>\n      <td>0.0</td>\n      <td>0.0</td>\n      <td>Feb</td>\n      <td>4</td>\n      <td>1</td>\n      <td>9</td>\n      <td>3</td>\n      <td>Returning_Visitor</td>\n      <td>False</td>\n      <td>False</td>\n    </tr>\n    <tr>\n      <th>3</th>\n      <td>0</td>\n      <td>0.0</td>\n      <td>0</td>\n      <td>0.0</td>\n      <td>2</td>\n      <td>2.666667</td>\n      <td>0.05</td>\n      <td>0.14</td>\n      <td>0.0</td>\n      <td>0.0</td>\n      <td>Feb</td>\n      <td>3</td>\n      <td>2</td>\n      <td>2</td>\n      <td>4</td>\n      <td>Returning_Visitor</td>\n      <td>False</td>\n      <td>False</td>\n    </tr>\n    <tr>\n      <th>4</th>\n      <td>0</td>\n      <td>0.0</td>\n      <td>0</td>\n      <td>0.0</td>\n      <td>10</td>\n      <td>627.500000</td>\n      <td>0.02</td>\n      <td>0.05</td>\n      <td>0.0</td>\n      <td>0.0</td>\n      <td>Feb</td>\n      <td>3</td>\n      <td>3</td>\n      <td>1</td>\n      <td>4</td>\n      <td>Returning_Visitor</td>\n      <td>True</td>\n      <td>False</td>\n    </tr>\n  </tbody>\n</table>\n</div>"
     },
     "metadata": {}
    }
   ]
  },
  {
   "cell_type": "code",
   "metadata": {
    "tags": [],
    "cell_id": "00002-db8c04c5-63c8-4fa0-9b3e-f8d563c7398c",
    "deepnote_to_be_reexecuted": false,
    "source_hash": "f8453a83",
    "execution_start": 1620995717671,
    "execution_millis": 182,
    "deepnote_cell_type": "code"
   },
   "source": "df.corr()",
   "execution_count": null,
   "outputs": [
    {
     "output_type": "execute_result",
     "execution_count": 128,
     "data": {
      "application/vnd.deepnote.dataframe.v2+json": {
       "row_count": 16,
       "column_count": 16,
       "columns": [
        {
         "name": "Administrative",
         "dtype": "float64",
         "stats": {
          "unique_count": 16,
          "nan_count": 0,
          "min": "-0.3164829975272521",
          "max": "1.0",
          "histogram": [
           {
            "bin_start": -0.3164829975272521,
            "bin_end": -0.1848346977745269,
            "count": 2
           },
           {
            "bin_start": -0.1848346977745269,
            "bin_end": -0.053186398021801695,
            "count": 1
           },
           {
            "bin_start": -0.053186398021801695,
            "bin_end": 0.07846190173092354,
            "count": 5
           },
           {
            "bin_start": 0.07846190173092354,
            "bin_end": 0.21011020148364873,
            "count": 2
           },
           {
            "bin_start": 0.21011020148364873,
            "bin_end": 0.3417585012363739,
            "count": 1
           },
           {
            "bin_start": 0.3417585012363739,
            "bin_end": 0.4734068009890992,
            "count": 3
           },
           {
            "bin_start": 0.4734068009890992,
            "bin_end": 0.6050551007418243,
            "count": 1
           },
           {
            "bin_start": 0.6050551007418243,
            "bin_end": 0.7367034004945496,
            "count": 0
           },
           {
            "bin_start": 0.7367034004945496,
            "bin_end": 0.8683517002472749,
            "count": 0
           },
           {
            "bin_start": 0.8683517002472749,
            "bin_end": 1,
            "count": 1
           }
          ]
         }
        },
        {
         "name": "Administrative_Duration",
         "dtype": "float64",
         "stats": {
          "unique_count": 16,
          "nan_count": 0,
          "min": "-0.20579775727445548",
          "max": "1.0",
          "histogram": [
           {
            "bin_start": -0.20579775727445548,
            "bin_end": -0.08521798154700992,
            "count": 2
           },
           {
            "bin_start": -0.08521798154700992,
            "bin_end": 0.03536179418043564,
            "count": 6
           },
           {
            "bin_start": 0.03536179418043564,
            "bin_end": 0.15594156990788122,
            "count": 2
           },
           {
            "bin_start": 0.15594156990788122,
            "bin_end": 0.27652134563532677,
            "count": 1
           },
           {
            "bin_start": 0.27652134563532677,
            "bin_end": 0.3971011213627723,
            "count": 3
           },
           {
            "bin_start": 0.3971011213627723,
            "bin_end": 0.5176808970902179,
            "count": 0
           },
           {
            "bin_start": 0.5176808970902179,
            "bin_end": 0.6382606728176634,
            "count": 1
           },
           {
            "bin_start": 0.6382606728176634,
            "bin_end": 0.758840448545109,
            "count": 0
           },
           {
            "bin_start": 0.758840448545109,
            "bin_end": 0.8794202242725545,
            "count": 0
           },
           {
            "bin_start": 0.8794202242725545,
            "bin_end": 1,
            "count": 1
           }
          ]
         }
        },
        {
         "name": "Informational",
         "dtype": "float64",
         "stats": {
          "unique_count": 16,
          "nan_count": 0,
          "min": "-0.1636660607845007",
          "max": "1.0",
          "histogram": [
           {
            "bin_start": -0.1636660607845007,
            "bin_end": -0.047299454706050625,
            "count": 3
           },
           {
            "bin_start": -0.047299454706050625,
            "bin_end": 0.06906715137239944,
            "count": 6
           },
           {
            "bin_start": 0.06906715137239944,
            "bin_end": 0.1854337574508495,
            "count": 1
           },
           {
            "bin_start": 0.1854337574508495,
            "bin_end": 0.30180036352929956,
            "count": 0
           },
           {
            "bin_start": 0.30180036352929956,
            "bin_end": 0.41816696960774963,
            "count": 4
           },
           {
            "bin_start": 0.41816696960774963,
            "bin_end": 0.5345335756861997,
            "count": 0
           },
           {
            "bin_start": 0.5345335756861997,
            "bin_end": 0.6509001817646498,
            "count": 1
           },
           {
            "bin_start": 0.6509001817646498,
            "bin_end": 0.7672667878430999,
            "count": 0
           },
           {
            "bin_start": 0.7672667878430999,
            "bin_end": 0.8836333939215499,
            "count": 0
           },
           {
            "bin_start": 0.8836333939215499,
            "bin_end": 1,
            "count": 1
           }
          ]
         }
        },
        {
         "name": "Informational_Duration",
         "dtype": "float64",
         "stats": {
          "unique_count": 16,
          "nan_count": 0,
          "min": "-0.1052756833478731",
          "max": "1.0",
          "histogram": [
           {
            "bin_start": -0.1052756833478731,
            "bin_end": 0.005251884986914215,
            "count": 7
           },
           {
            "bin_start": 0.005251884986914215,
            "bin_end": 0.11577945332170153,
            "count": 3
           },
           {
            "bin_start": 0.11577945332170153,
            "bin_end": 0.22630702165648883,
            "count": 0
           },
           {
            "bin_start": 0.22630702165648883,
            "bin_end": 0.33683458999127613,
            "count": 3
           },
           {
            "bin_start": 0.33683458999127613,
            "bin_end": 0.4473621583260635,
            "count": 1
           },
           {
            "bin_start": 0.4473621583260635,
            "bin_end": 0.5578897266608508,
            "count": 0
           },
           {
            "bin_start": 0.5578897266608508,
            "bin_end": 0.6684172949956382,
            "count": 1
           },
           {
            "bin_start": 0.6684172949956382,
            "bin_end": 0.7789448633304255,
            "count": 0
           },
           {
            "bin_start": 0.7789448633304255,
            "bin_end": 0.8894724316652127,
            "count": 0
           },
           {
            "bin_start": 0.8894724316652127,
            "bin_end": 1,
            "count": 1
           }
          ]
         }
        },
        {
         "name": "ProductRelated",
         "dtype": "float64",
         "stats": {
          "unique_count": 16,
          "nan_count": 0,
          "min": "-0.29252628311358025",
          "max": "1.0",
          "histogram": [
           {
            "bin_start": -0.29252628311358025,
            "bin_end": -0.16327365480222222,
            "count": 2
           },
           {
            "bin_start": -0.16327365480222222,
            "bin_end": -0.03402102649086419,
            "count": 2
           },
           {
            "bin_start": -0.03402102649086419,
            "bin_end": 0.09523160182049384,
            "count": 5
           },
           {
            "bin_start": 0.09523160182049384,
            "bin_end": 0.22448423013185187,
            "count": 1
           },
           {
            "bin_start": 0.22448423013185187,
            "bin_end": 0.35373685844320985,
            "count": 2
           },
           {
            "bin_start": 0.35373685844320985,
            "bin_end": 0.48298948675456793,
            "count": 2
           },
           {
            "bin_start": 0.48298948675456793,
            "bin_end": 0.6122421150659261,
            "count": 0
           },
           {
            "bin_start": 0.6122421150659261,
            "bin_end": 0.741494743377284,
            "count": 0
           },
           {
            "bin_start": 0.741494743377284,
            "bin_end": 0.870747371688642,
            "count": 1
           },
           {
            "bin_start": 0.870747371688642,
            "bin_end": 1,
            "count": 1
           }
          ]
         }
        },
        {
         "name": "ProductRelated_Duration",
         "dtype": "float64",
         "stats": {
          "unique_count": 16,
          "nan_count": 0,
          "min": "-0.2519840974061049",
          "max": "1.0",
          "histogram": [
           {
            "bin_start": -0.2519840974061049,
            "bin_end": -0.1267856876654944,
            "count": 2
           },
           {
            "bin_start": -0.1267856876654944,
            "bin_end": -0.0015872779248838897,
            "count": 4
           },
           {
            "bin_start": -0.0015872779248838897,
            "bin_end": 0.12361113181572664,
            "count": 3
           },
           {
            "bin_start": 0.12361113181572664,
            "bin_end": 0.2488095415563371,
            "count": 1
           },
           {
            "bin_start": 0.2488095415563371,
            "bin_end": 0.3740079512969476,
            "count": 3
           },
           {
            "bin_start": 0.3740079512969476,
            "bin_end": 0.49920636103755817,
            "count": 1
           },
           {
            "bin_start": 0.49920636103755817,
            "bin_end": 0.6244047707781686,
            "count": 0
           },
           {
            "bin_start": 0.6244047707781686,
            "bin_end": 0.749603180518779,
            "count": 0
           },
           {
            "bin_start": 0.749603180518779,
            "bin_end": 0.8748015902593895,
            "count": 1
           },
           {
            "bin_start": 0.8748015902593895,
            "bin_end": 1,
            "count": 1
           }
          ]
         }
        },
        {
         "name": "BounceRates",
         "dtype": "float64",
         "stats": {
          "unique_count": 16,
          "nan_count": 0,
          "min": "-0.22356263038422594",
          "max": "1.0",
          "histogram": [
           {
            "bin_start": -0.22356263038422594,
            "bin_end": -0.10120636734580335,
            "count": 7
           },
           {
            "bin_start": -0.10120636734580335,
            "bin_end": 0.02114989569261924,
            "count": 4
           },
           {
            "bin_start": 0.02114989569261924,
            "bin_end": 0.1435061587310418,
            "count": 3
           },
           {
            "bin_start": 0.1435061587310418,
            "bin_end": 0.2658624217694644,
            "count": 0
           },
           {
            "bin_start": 0.2658624217694644,
            "bin_end": 0.388218684807887,
            "count": 0
           },
           {
            "bin_start": 0.388218684807887,
            "bin_end": 0.5105749478463095,
            "count": 0
           },
           {
            "bin_start": 0.5105749478463095,
            "bin_end": 0.6329312108847321,
            "count": 0
           },
           {
            "bin_start": 0.6329312108847321,
            "bin_end": 0.7552874739231548,
            "count": 0
           },
           {
            "bin_start": 0.7552874739231548,
            "bin_end": 0.8776437369615773,
            "count": 0
           },
           {
            "bin_start": 0.8776437369615773,
            "bin_end": 1,
            "count": 2
           }
          ]
         }
        },
        {
         "name": "ExitRates",
         "dtype": "float64",
         "stats": {
          "unique_count": 16,
          "nan_count": 0,
          "min": "-0.3164829975272521",
          "max": "1.0",
          "histogram": [
           {
            "bin_start": -0.3164829975272521,
            "bin_end": -0.1848346977745269,
            "count": 5
           },
           {
            "bin_start": -0.1848346977745269,
            "bin_end": -0.053186398021801695,
            "count": 4
           },
           {
            "bin_start": -0.053186398021801695,
            "bin_end": 0.07846190173092354,
            "count": 3
           },
           {
            "bin_start": 0.07846190173092354,
            "bin_end": 0.21011020148364873,
            "count": 2
           },
           {
            "bin_start": 0.21011020148364873,
            "bin_end": 0.3417585012363739,
            "count": 0
           },
           {
            "bin_start": 0.3417585012363739,
            "bin_end": 0.4734068009890992,
            "count": 0
           },
           {
            "bin_start": 0.4734068009890992,
            "bin_end": 0.6050551007418243,
            "count": 0
           },
           {
            "bin_start": 0.6050551007418243,
            "bin_end": 0.7367034004945496,
            "count": 0
           },
           {
            "bin_start": 0.7367034004945496,
            "bin_end": 0.8683517002472749,
            "count": 0
           },
           {
            "bin_start": 0.8683517002472749,
            "bin_end": 1,
            "count": 2
           }
          ]
         }
        },
        {
         "name": "PageValues",
         "dtype": "float64",
         "stats": {
          "unique_count": 16,
          "nan_count": 0,
          "min": "-0.17449831000178184",
          "max": "1.0",
          "histogram": [
           {
            "bin_start": -0.17449831000178184,
            "bin_end": -0.05704847900160366,
            "count": 3
           },
           {
            "bin_start": -0.05704847900160366,
            "bin_end": 0.06040135199857452,
            "count": 9
           },
           {
            "bin_start": 0.06040135199857452,
            "bin_end": 0.1778511829987527,
            "count": 2
           },
           {
            "bin_start": 0.1778511829987527,
            "bin_end": 0.2953010139989309,
            "count": 0
           },
           {
            "bin_start": 0.2953010139989309,
            "bin_end": 0.4127508449991091,
            "count": 0
           },
           {
            "bin_start": 0.4127508449991091,
            "bin_end": 0.5302006759992872,
            "count": 1
           },
           {
            "bin_start": 0.5302006759992872,
            "bin_end": 0.6476505069994655,
            "count": 0
           },
           {
            "bin_start": 0.6476505069994655,
            "bin_end": 0.7651003379996436,
            "count": 0
           },
           {
            "bin_start": 0.7651003379996436,
            "bin_end": 0.8825501689998219,
            "count": 0
           },
           {
            "bin_start": 0.8825501689998219,
            "bin_end": 1,
            "count": 1
           }
          ]
         }
        },
        {
         "name": "SpecialDay",
         "dtype": "float64",
         "stats": {
          "unique_count": 16,
          "nan_count": 0,
          "min": "-0.09477759754428257",
          "max": "1.0",
          "histogram": [
           {
            "bin_start": -0.09477759754428257,
            "bin_end": 0.014700162210145695,
            "count": 12
           },
           {
            "bin_start": 0.014700162210145695,
            "bin_end": 0.12417792196457396,
            "count": 3
           },
           {
            "bin_start": 0.12417792196457396,
            "bin_end": 0.23365568171900225,
            "count": 0
           },
           {
            "bin_start": 0.23365568171900225,
            "bin_end": 0.3431334414734305,
            "count": 0
           },
           {
            "bin_start": 0.3431334414734305,
            "bin_end": 0.45261120122785875,
            "count": 0
           },
           {
            "bin_start": 0.45261120122785875,
            "bin_end": 0.562088960982287,
            "count": 0
           },
           {
            "bin_start": 0.562088960982287,
            "bin_end": 0.6715667207367152,
            "count": 0
           },
           {
            "bin_start": 0.6715667207367152,
            "bin_end": 0.7810444804911435,
            "count": 0
           },
           {
            "bin_start": 0.7810444804911435,
            "bin_end": 0.8905222402455718,
            "count": 0
           },
           {
            "bin_start": 0.8905222402455718,
            "bin_end": 1,
            "count": 1
           }
          ]
         }
        },
        {
         "name": "OperatingSystems",
         "dtype": "float64",
         "stats": {
          "unique_count": 16,
          "nan_count": 0,
          "min": "-0.01466755959421009",
          "max": "1.0",
          "histogram": [
           {
            "bin_start": -0.01466755959421009,
            "bin_end": 0.08679919636521091,
            "count": 13
           },
           {
            "bin_start": 0.08679919636521091,
            "bin_end": 0.18826595232463192,
            "count": 0
           },
           {
            "bin_start": 0.18826595232463192,
            "bin_end": 0.28973270828405295,
            "count": 2
           },
           {
            "bin_start": 0.28973270828405295,
            "bin_end": 0.39119946424347396,
            "count": 0
           },
           {
            "bin_start": 0.39119946424347396,
            "bin_end": 0.49266622020289497,
            "count": 0
           },
           {
            "bin_start": 0.49266622020289497,
            "bin_end": 0.594132976162316,
            "count": 0
           },
           {
            "bin_start": 0.594132976162316,
            "bin_end": 0.695599732121737,
            "count": 0
           },
           {
            "bin_start": 0.695599732121737,
            "bin_end": 0.797066488081158,
            "count": 0
           },
           {
            "bin_start": 0.797066488081158,
            "bin_end": 0.898533244040579,
            "count": 0
           },
           {
            "bin_start": 0.898533244040579,
            "bin_end": 1,
            "count": 1
           }
          ]
         }
        },
        {
         "name": "Browser",
         "dtype": "float64",
         "stats": {
          "unique_count": 16,
          "nan_count": 0,
          "min": "-0.04026086380886525",
          "max": "1.0",
          "histogram": [
           {
            "bin_start": -0.04026086380886525,
            "bin_end": 0.06376522257202127,
            "count": 12
           },
           {
            "bin_start": 0.06376522257202127,
            "bin_end": 0.1677913089529078,
            "count": 2
           },
           {
            "bin_start": 0.1677913089529078,
            "bin_end": 0.2718173953337944,
            "count": 1
           },
           {
            "bin_start": 0.2718173953337944,
            "bin_end": 0.3758434817146809,
            "count": 0
           },
           {
            "bin_start": 0.3758434817146809,
            "bin_end": 0.4798695680955674,
            "count": 0
           },
           {
            "bin_start": 0.4798695680955674,
            "bin_end": 0.583895654476454,
            "count": 0
           },
           {
            "bin_start": 0.583895654476454,
            "bin_end": 0.6879217408573405,
            "count": 0
           },
           {
            "bin_start": 0.6879217408573405,
            "bin_end": 0.791947827238227,
            "count": 0
           },
           {
            "bin_start": 0.791947827238227,
            "bin_end": 0.8959739136191135,
            "count": 0
           },
           {
            "bin_start": 0.8959739136191135,
            "bin_end": 1,
            "count": 1
           }
          ]
         }
        },
        {
         "name": "Region",
         "dtype": "float64",
         "stats": {
          "unique_count": 16,
          "nan_count": 0,
          "min": "-0.03812184171387137",
          "max": "1.0",
          "histogram": [
           {
            "bin_start": -0.03812184171387137,
            "bin_end": 0.06569034245751576,
            "count": 13
           },
           {
            "bin_start": 0.06569034245751576,
            "bin_end": 0.1695025266289029,
            "count": 2
           },
           {
            "bin_start": 0.1695025266289029,
            "bin_end": 0.27331471080029,
            "count": 0
           },
           {
            "bin_start": 0.27331471080029,
            "bin_end": 0.3771268949716772,
            "count": 0
           },
           {
            "bin_start": 0.3771268949716772,
            "bin_end": 0.48093907914306433,
            "count": 0
           },
           {
            "bin_start": 0.48093907914306433,
            "bin_end": 0.5847512633144514,
            "count": 0
           },
           {
            "bin_start": 0.5847512633144514,
            "bin_end": 0.6885634474858385,
            "count": 0
           },
           {
            "bin_start": 0.6885634474858385,
            "bin_end": 0.7923756316572257,
            "count": 0
           },
           {
            "bin_start": 0.7923756316572257,
            "bin_end": 0.8961878158286128,
            "count": 0
           },
           {
            "bin_start": 0.8961878158286128,
            "bin_end": 1,
            "count": 1
           }
          ]
         }
        },
        {
         "name": "TrafficType",
         "dtype": "float64",
         "stats": {
          "unique_count": 16,
          "nan_count": 0,
          "min": "-0.043064303810434905",
          "max": "1.0",
          "histogram": [
           {
            "bin_start": -0.043064303810434905,
            "bin_end": 0.061242126570608575,
            "count": 11
           },
           {
            "bin_start": 0.061242126570608575,
            "bin_end": 0.16554855695165205,
            "count": 3
           },
           {
            "bin_start": 0.16554855695165205,
            "bin_end": 0.26985498733269553,
            "count": 1
           },
           {
            "bin_start": 0.26985498733269553,
            "bin_end": 0.374161417713739,
            "count": 0
           },
           {
            "bin_start": 0.374161417713739,
            "bin_end": 0.4784678480947825,
            "count": 0
           },
           {
            "bin_start": 0.4784678480947825,
            "bin_end": 0.582774278475826,
            "count": 0
           },
           {
            "bin_start": 0.582774278475826,
            "bin_end": 0.6870807088568694,
            "count": 0
           },
           {
            "bin_start": 0.6870807088568694,
            "bin_end": 0.7913871392379129,
            "count": 0
           },
           {
            "bin_start": 0.7913871392379129,
            "bin_end": 0.8956935696189564,
            "count": 0
           },
           {
            "bin_start": 0.8956935696189564,
            "bin_end": 1,
            "count": 1
           }
          ]
         }
        },
        {
         "name": "Weekend",
         "dtype": "float64",
         "stats": {
          "unique_count": 16,
          "nan_count": 0,
          "min": "-0.06258704801054936",
          "max": "1.0",
          "histogram": [
           {
            "bin_start": -0.06258704801054936,
            "bin_end": 0.04367165679050557,
            "count": 15
           },
           {
            "bin_start": 0.04367165679050557,
            "bin_end": 0.14993036159156048,
            "count": 0
           },
           {
            "bin_start": 0.14993036159156048,
            "bin_end": 0.2561890663926154,
            "count": 0
           },
           {
            "bin_start": 0.2561890663926154,
            "bin_end": 0.36244777119367033,
            "count": 0
           },
           {
            "bin_start": 0.36244777119367033,
            "bin_end": 0.46870647599472526,
            "count": 0
           },
           {
            "bin_start": 0.46870647599472526,
            "bin_end": 0.5749651807957802,
            "count": 0
           },
           {
            "bin_start": 0.5749651807957802,
            "bin_end": 0.6812238855968351,
            "count": 0
           },
           {
            "bin_start": 0.6812238855968351,
            "bin_end": 0.78748259039789,
            "count": 0
           },
           {
            "bin_start": 0.78748259039789,
            "bin_end": 0.893741295198945,
            "count": 0
           },
           {
            "bin_start": 0.893741295198945,
            "bin_end": 1,
            "count": 1
           }
          ]
         }
        },
        {
         "name": "Revenue",
         "dtype": "float64",
         "stats": {
          "unique_count": 16,
          "nan_count": 0,
          "min": "-0.2070710820552722",
          "max": "1.0",
          "histogram": [
           {
            "bin_start": -0.2070710820552722,
            "bin_end": -0.08636397384974498,
            "count": 2
           },
           {
            "bin_start": -0.08636397384974498,
            "bin_end": 0.034343134355782234,
            "count": 6
           },
           {
            "bin_start": 0.034343134355782234,
            "bin_end": 0.15505024256130945,
            "count": 5
           },
           {
            "bin_start": 0.15505024256130945,
            "bin_end": 0.27575735076683666,
            "count": 1
           },
           {
            "bin_start": 0.27575735076683666,
            "bin_end": 0.3964644589723639,
            "count": 0
           },
           {
            "bin_start": 0.3964644589723639,
            "bin_end": 0.5171715671778911,
            "count": 1
           },
           {
            "bin_start": 0.5171715671778911,
            "bin_end": 0.6378786753834182,
            "count": 0
           },
           {
            "bin_start": 0.6378786753834182,
            "bin_end": 0.7585857835889456,
            "count": 0
           },
           {
            "bin_start": 0.7585857835889456,
            "bin_end": 0.8792928917944727,
            "count": 0
           },
           {
            "bin_start": 0.8792928917944727,
            "bin_end": 1,
            "count": 1
           }
          ]
         }
        },
        {
         "name": "_deepnote_index_column",
         "dtype": "object"
        }
       ],
       "rows_top": [
        {
         "Administrative": 1,
         "Administrative_Duration": 0.6015833421250226,
         "Informational": 0.3768504293073085,
         "Informational_Duration": 0.25584814023262603,
         "ProductRelated": 0.43111933962453475,
         "ProductRelated_Duration": 0.37393901295967064,
         "BounceRates": -0.22356263038422594,
         "ExitRates": -0.3164829975272521,
         "PageValues": 0.09898958539971277,
         "SpecialDay": -0.09477759754428257,
         "OperatingSystems": -0.006347063271777328,
         "Browser": -0.025034572301622246,
         "Region": -0.005486805267111584,
         "TrafficType": -0.03356071261303074,
         "Weekend": 0.026416750253924794,
         "Revenue": 0.13891709415067252,
         "_deepnote_index_column": "Administrative"
        },
        {
         "Administrative": 0.6015833421250226,
         "Administrative_Duration": 1,
         "Informational": 0.3027097089757625,
         "Informational_Duration": 0.23803078935000088,
         "ProductRelated": 0.2890866214062173,
         "ProductRelated_Duration": 0.35542195350163014,
         "BounceRates": -0.14417040950711418,
         "ExitRates": -0.20579775727445548,
         "PageValues": 0.06760848087034964,
         "SpecialDay": -0.07330372492126022,
         "OperatingSystems": -0.0073434175219950475,
         "Browser": -0.015391526719883216,
         "Region": -0.0055605628393206995,
         "TrafficType": -0.014376430636008032,
         "Weekend": 0.014990141913816167,
         "Revenue": 0.09358671905704198,
         "_deepnote_index_column": "Administrative_Duration"
        },
        {
         "Administrative": 0.3768504293073085,
         "Administrative_Duration": 0.3027097089757625,
         "Informational": 1,
         "Informational_Duration": 0.6189548617814573,
         "ProductRelated": 0.3741642906577265,
         "ProductRelated_Duration": 0.3875053062598626,
         "BounceRates": -0.11611361638719091,
         "ExitRates": -0.1636660607845007,
         "PageValues": 0.048631691953743394,
         "SpecialDay": -0.04821925398952802,
         "OperatingSystems": -0.00952666789175222,
         "Browser": -0.03823467813983742,
         "Region": -0.02916863793730765,
         "TrafficType": -0.034490753826794264,
         "Weekend": 0.03578472510756787,
         "Revenue": 0.0952003425720571,
         "_deepnote_index_column": "Informational"
        },
        {
         "Administrative": 0.25584814023262603,
         "Administrative_Duration": 0.23803078935000088,
         "Informational": 0.6189548617814573,
         "Informational_Duration": 1,
         "ProductRelated": 0.28004626785919684,
         "ProductRelated_Duration": 0.3473635774464961,
         "BounceRates": -0.07406660989572071,
         "ExitRates": -0.1052756833478731,
         "PageValues": 0.030860873716780254,
         "SpecialDay": -0.030576549486372003,
         "OperatingSystems": -0.00957867640106472,
         "Browser": -0.019284980935369168,
         "Region": -0.027144112353764367,
         "TrafficType": -0.02467490778346264,
         "Weekend": 0.024078486249592326,
         "Revenue": 0.07034450234598345,
         "_deepnote_index_column": "Informational_Duration"
        },
        {
         "Administrative": 0.43111933962453475,
         "Administrative_Duration": 0.2890866214062173,
         "Informational": 0.3741642906577265,
         "Informational_Duration": 0.28004626785919684,
         "ProductRelated": 1,
         "ProductRelated_Duration": 0.8609268361763707,
         "BounceRates": -0.20457763335075316,
         "ExitRates": -0.29252628311358025,
         "PageValues": 0.05628179410884894,
         "SpecialDay": -0.02395817472400519,
         "OperatingSystems": 0.004289620582246028,
         "Browser": -0.01314572095583748,
         "Region": -0.03812184171387137,
         "TrafficType": -0.043064303810434905,
         "Weekend": 0.01609196423446964,
         "Revenue": 0.1585379842808741,
         "_deepnote_index_column": "ProductRelated"
        },
        {
         "Administrative": 0.37393901295967064,
         "Administrative_Duration": 0.35542195350163014,
         "Informational": 0.3875053062598626,
         "Informational_Duration": 0.3473635774464961,
         "ProductRelated": 0.8609268361763707,
         "ProductRelated_Duration": 1,
         "BounceRates": -0.18454111529428474,
         "ExitRates": -0.2519840974061049,
         "PageValues": 0.052823062950144,
         "SpecialDay": -0.03637984509738724,
         "OperatingSystems": 0.002975789794996047,
         "Browser": -0.007380440334985914,
         "Region": -0.033090519836723925,
         "TrafficType": -0.03637717048954162,
         "Weekend": 0.007310613811572834,
         "Revenue": 0.15237261055701054,
         "_deepnote_index_column": "ProductRelated_Duration"
        },
        {
         "Administrative": -0.22356263038422594,
         "Administrative_Duration": -0.14417040950711418,
         "Informational": -0.11611361638719091,
         "Informational_Duration": -0.07406660989572071,
         "ProductRelated": -0.20457763335075316,
         "ProductRelated_Duration": -0.18454111529428474,
         "BounceRates": 1,
         "ExitRates": 0.9130043961815185,
         "PageValues": -0.11938602629479486,
         "SpecialDay": 0.0727022530825555,
         "OperatingSystems": 0.023823182463080836,
         "Browser": -0.015772209261555672,
         "Region": -0.006485347449602025,
         "TrafficType": 0.07828554120291616,
         "Weekend": -0.04651399653118228,
         "Revenue": -0.1506729119260533,
         "_deepnote_index_column": "BounceRates"
        },
        {
         "Administrative": -0.3164829975272521,
         "Administrative_Duration": -0.20579775727445548,
         "Informational": -0.1636660607845007,
         "Informational_Duration": -0.1052756833478731,
         "ProductRelated": -0.29252628311358025,
         "ProductRelated_Duration": -0.2519840974061049,
         "BounceRates": 0.9130043961815185,
         "ExitRates": 1,
         "PageValues": -0.17449831000178184,
         "SpecialDay": 0.10224180209857663,
         "OperatingSystems": 0.01456673534477198,
         "Browser": -0.004442355026473063,
         "Region": -0.008907005956706467,
         "TrafficType": 0.07861633061233261,
         "Weekend": -0.06258704801054936,
         "Revenue": -0.2070710820552722,
         "_deepnote_index_column": "ExitRates"
        },
        {
         "Administrative": 0.09898958539971277,
         "Administrative_Duration": 0.06760848087034964,
         "Informational": 0.048631691953743394,
         "Informational_Duration": 0.030860873716780254,
         "ProductRelated": 0.05628179410884894,
         "ProductRelated_Duration": 0.052823062950144,
         "BounceRates": -0.11938602629479486,
         "ExitRates": -0.17449831000178184,
         "PageValues": 1,
         "SpecialDay": -0.06354127178534998,
         "OperatingSystems": 0.018507946634803263,
         "Browser": 0.04559191854226462,
         "Region": 0.011315299468006681,
         "TrafficType": 0.012531692664867294,
         "Weekend": 0.012001639171359785,
         "Revenue": 0.49256929525120574,
         "_deepnote_index_column": "PageValues"
        },
        {
         "Administrative": -0.09477759754428257,
         "Administrative_Duration": -0.07330372492126022,
         "Informational": -0.04821925398952802,
         "Informational_Duration": -0.030576549486372003,
         "ProductRelated": -0.02395817472400519,
         "ProductRelated_Duration": -0.03637984509738724,
         "BounceRates": 0.0727022530825555,
         "ExitRates": 0.10224180209857663,
         "PageValues": -0.06354127178534998,
         "SpecialDay": 1,
         "OperatingSystems": 0.01265223473651744,
         "Browser": 0.003498746743314711,
         "Region": -0.016097974624069006,
         "TrafficType": 0.05230144264216626,
         "Weekend": -0.01676715526954078,
         "Revenue": -0.08230459817953152,
         "_deepnote_index_column": "SpecialDay"
        },
        {
         "Administrative": -0.006347063271777328,
         "Administrative_Duration": -0.0073434175219950475,
         "Informational": -0.00952666789175222,
         "Informational_Duration": -0.00957867640106472,
         "ProductRelated": 0.004289620582246028,
         "ProductRelated_Duration": 0.002975789794996047,
         "BounceRates": 0.023823182463080836,
         "ExitRates": 0.01456673534477198,
         "PageValues": 0.018507946634803263,
         "SpecialDay": 0.01265223473651744,
         "OperatingSystems": 1,
         "Browser": 0.22301288824747276,
         "Region": 0.07677548563257915,
         "TrafficType": 0.18915361212809206,
         "Weekend": 0.0002842506113326362,
         "Revenue": -0.01466755959421009,
         "_deepnote_index_column": "OperatingSystems"
        },
        {
         "Administrative": -0.025034572301622246,
         "Administrative_Duration": -0.015391526719883216,
         "Informational": -0.03823467813983742,
         "Informational_Duration": -0.019284980935369168,
         "ProductRelated": -0.01314572095583748,
         "ProductRelated_Duration": -0.007380440334985914,
         "BounceRates": -0.015772209261555672,
         "ExitRates": -0.004442355026473063,
         "PageValues": 0.04559191854226462,
         "SpecialDay": 0.003498746743314711,
         "OperatingSystems": 0.22301288824747276,
         "Browser": 1,
         "Region": 0.09739284920807333,
         "TrafficType": 0.11193822446993566,
         "Weekend": -0.04026086380886525,
         "Revenue": 0.02398428940409267,
         "_deepnote_index_column": "Browser"
        },
        {
         "Administrative": -0.005486805267111584,
         "Administrative_Duration": -0.0055605628393206995,
         "Informational": -0.02916863793730765,
         "Informational_Duration": -0.027144112353764367,
         "ProductRelated": -0.03812184171387137,
         "ProductRelated_Duration": -0.033090519836723925,
         "BounceRates": -0.006485347449602025,
         "ExitRates": -0.008907005956706467,
         "PageValues": 0.011315299468006681,
         "SpecialDay": -0.016097974624069006,
         "OperatingSystems": 0.07677548563257915,
         "Browser": 0.09739284920807333,
         "Region": 1,
         "TrafficType": 0.047520231297077636,
         "Weekend": -0.0006906703089069207,
         "Revenue": -0.01159506777780069,
         "_deepnote_index_column": "Region"
        },
        {
         "Administrative": -0.03356071261303074,
         "Administrative_Duration": -0.014376430636008032,
         "Informational": -0.034490753826794264,
         "Informational_Duration": -0.02467490778346264,
         "ProductRelated": -0.043064303810434905,
         "ProductRelated_Duration": -0.03637717048954162,
         "BounceRates": 0.07828554120291616,
         "ExitRates": 0.07861633061233261,
         "PageValues": 0.012531692664867294,
         "SpecialDay": 0.05230144264216626,
         "OperatingSystems": 0.18915361212809206,
         "Browser": 0.11193822446993566,
         "Region": 0.047520231297077636,
         "TrafficType": 1,
         "Weekend": -0.0022212292430310644,
         "Revenue": -0.005112970502755714,
         "_deepnote_index_column": "TrafficType"
        },
        {
         "Administrative": 0.026416750253924794,
         "Administrative_Duration": 0.014990141913816167,
         "Informational": 0.03578472510756787,
         "Informational_Duration": 0.024078486249592326,
         "ProductRelated": 0.01609196423446964,
         "ProductRelated_Duration": 0.007310613811572834,
         "BounceRates": -0.04651399653118228,
         "ExitRates": -0.06258704801054936,
         "PageValues": 0.012001639171359785,
         "SpecialDay": -0.01676715526954078,
         "OperatingSystems": 0.0002842506113326362,
         "Browser": -0.04026086380886525,
         "Region": -0.0006906703089069207,
         "TrafficType": -0.0022212292430310644,
         "Weekend": 1,
         "Revenue": 0.029295367971994668,
         "_deepnote_index_column": "Weekend"
        },
        {
         "Administrative": 0.13891709415067252,
         "Administrative_Duration": 0.09358671905704198,
         "Informational": 0.0952003425720571,
         "Informational_Duration": 0.07034450234598345,
         "ProductRelated": 0.1585379842808741,
         "ProductRelated_Duration": 0.15237261055701054,
         "BounceRates": -0.1506729119260533,
         "ExitRates": -0.2070710820552722,
         "PageValues": 0.49256929525120574,
         "SpecialDay": -0.08230459817953152,
         "OperatingSystems": -0.01466755959421009,
         "Browser": 0.02398428940409267,
         "Region": -0.01159506777780069,
         "TrafficType": -0.005112970502755714,
         "Weekend": 0.029295367971994668,
         "Revenue": 1,
         "_deepnote_index_column": "Revenue"
        }
       ],
       "rows_bottom": null
      },
      "text/plain": "                         Administrative  Administrative_Duration  \\\nAdministrative                 1.000000                 0.601583   \nAdministrative_Duration        0.601583                 1.000000   \nInformational                  0.376850                 0.302710   \nInformational_Duration         0.255848                 0.238031   \nProductRelated                 0.431119                 0.289087   \nProductRelated_Duration        0.373939                 0.355422   \nBounceRates                   -0.223563                -0.144170   \nExitRates                     -0.316483                -0.205798   \nPageValues                     0.098990                 0.067608   \nSpecialDay                    -0.094778                -0.073304   \nOperatingSystems              -0.006347                -0.007343   \nBrowser                       -0.025035                -0.015392   \nRegion                        -0.005487                -0.005561   \nTrafficType                   -0.033561                -0.014376   \nWeekend                        0.026417                 0.014990   \nRevenue                        0.138917                 0.093587   \n\n                         Informational  Informational_Duration  \\\nAdministrative                0.376850                0.255848   \nAdministrative_Duration       0.302710                0.238031   \nInformational                 1.000000                0.618955   \nInformational_Duration        0.618955                1.000000   \nProductRelated                0.374164                0.280046   \nProductRelated_Duration       0.387505                0.347364   \nBounceRates                  -0.116114               -0.074067   \nExitRates                    -0.163666               -0.105276   \nPageValues                    0.048632                0.030861   \nSpecialDay                   -0.048219               -0.030577   \nOperatingSystems             -0.009527               -0.009579   \nBrowser                      -0.038235               -0.019285   \nRegion                       -0.029169               -0.027144   \nTrafficType                  -0.034491               -0.024675   \nWeekend                       0.035785                0.024078   \nRevenue                       0.095200                0.070345   \n\n                         ProductRelated  ProductRelated_Duration  BounceRates  \\\nAdministrative                 0.431119                 0.373939    -0.223563   \nAdministrative_Duration        0.289087                 0.355422    -0.144170   \nInformational                  0.374164                 0.387505    -0.116114   \nInformational_Duration         0.280046                 0.347364    -0.074067   \nProductRelated                 1.000000                 0.860927    -0.204578   \nProductRelated_Duration        0.860927                 1.000000    -0.184541   \nBounceRates                   -0.204578                -0.184541     1.000000   \nExitRates                     -0.292526                -0.251984     0.913004   \nPageValues                     0.056282                 0.052823    -0.119386   \nSpecialDay                    -0.023958                -0.036380     0.072702   \nOperatingSystems               0.004290                 0.002976     0.023823   \nBrowser                       -0.013146                -0.007380    -0.015772   \nRegion                        -0.038122                -0.033091    -0.006485   \nTrafficType                   -0.043064                -0.036377     0.078286   \nWeekend                        0.016092                 0.007311    -0.046514   \nRevenue                        0.158538                 0.152373    -0.150673   \n\n                         ExitRates  PageValues  SpecialDay  OperatingSystems  \\\nAdministrative           -0.316483    0.098990   -0.094778         -0.006347   \nAdministrative_Duration  -0.205798    0.067608   -0.073304         -0.007343   \nInformational            -0.163666    0.048632   -0.048219         -0.009527   \nInformational_Duration   -0.105276    0.030861   -0.030577         -0.009579   \nProductRelated           -0.292526    0.056282   -0.023958          0.004290   \nProductRelated_Duration  -0.251984    0.052823   -0.036380          0.002976   \nBounceRates               0.913004   -0.119386    0.072702          0.023823   \nExitRates                 1.000000   -0.174498    0.102242          0.014567   \nPageValues               -0.174498    1.000000   -0.063541          0.018508   \nSpecialDay                0.102242   -0.063541    1.000000          0.012652   \nOperatingSystems          0.014567    0.018508    0.012652          1.000000   \nBrowser                  -0.004442    0.045592    0.003499          0.223013   \nRegion                   -0.008907    0.011315   -0.016098          0.076775   \nTrafficType               0.078616    0.012532    0.052301          0.189154   \nWeekend                  -0.062587    0.012002   -0.016767          0.000284   \nRevenue                  -0.207071    0.492569   -0.082305         -0.014668   \n\n                          Browser    Region  TrafficType   Weekend   Revenue  \nAdministrative          -0.025035 -0.005487    -0.033561  0.026417  0.138917  \nAdministrative_Duration -0.015392 -0.005561    -0.014376  0.014990  0.093587  \nInformational           -0.038235 -0.029169    -0.034491  0.035785  0.095200  \nInformational_Duration  -0.019285 -0.027144    -0.024675  0.024078  0.070345  \nProductRelated          -0.013146 -0.038122    -0.043064  0.016092  0.158538  \nProductRelated_Duration -0.007380 -0.033091    -0.036377  0.007311  0.152373  \nBounceRates             -0.015772 -0.006485     0.078286 -0.046514 -0.150673  \nExitRates               -0.004442 -0.008907     0.078616 -0.062587 -0.207071  \nPageValues               0.045592  0.011315     0.012532  0.012002  0.492569  \nSpecialDay               0.003499 -0.016098     0.052301 -0.016767 -0.082305  \nOperatingSystems         0.223013  0.076775     0.189154  0.000284 -0.014668  \nBrowser                  1.000000  0.097393     0.111938 -0.040261  0.023984  \nRegion                   0.097393  1.000000     0.047520 -0.000691 -0.011595  \nTrafficType              0.111938  0.047520     1.000000 -0.002221 -0.005113  \nWeekend                 -0.040261 -0.000691    -0.002221  1.000000  0.029295  \nRevenue                  0.023984 -0.011595    -0.005113  0.029295  1.000000  ",
      "text/html": "<div>\n<style scoped>\n    .dataframe tbody tr th:only-of-type {\n        vertical-align: middle;\n    }\n\n    .dataframe tbody tr th {\n        vertical-align: top;\n    }\n\n    .dataframe thead th {\n        text-align: right;\n    }\n</style>\n<table border=\"1\" class=\"dataframe\">\n  <thead>\n    <tr style=\"text-align: right;\">\n      <th></th>\n      <th>Administrative</th>\n      <th>Administrative_Duration</th>\n      <th>Informational</th>\n      <th>Informational_Duration</th>\n      <th>ProductRelated</th>\n      <th>ProductRelated_Duration</th>\n      <th>BounceRates</th>\n      <th>ExitRates</th>\n      <th>PageValues</th>\n      <th>SpecialDay</th>\n      <th>OperatingSystems</th>\n      <th>Browser</th>\n      <th>Region</th>\n      <th>TrafficType</th>\n      <th>Weekend</th>\n      <th>Revenue</th>\n    </tr>\n  </thead>\n  <tbody>\n    <tr>\n      <th>Administrative</th>\n      <td>1.000000</td>\n      <td>0.601583</td>\n      <td>0.376850</td>\n      <td>0.255848</td>\n      <td>0.431119</td>\n      <td>0.373939</td>\n      <td>-0.223563</td>\n      <td>-0.316483</td>\n      <td>0.098990</td>\n      <td>-0.094778</td>\n      <td>-0.006347</td>\n      <td>-0.025035</td>\n      <td>-0.005487</td>\n      <td>-0.033561</td>\n      <td>0.026417</td>\n      <td>0.138917</td>\n    </tr>\n    <tr>\n      <th>Administrative_Duration</th>\n      <td>0.601583</td>\n      <td>1.000000</td>\n      <td>0.302710</td>\n      <td>0.238031</td>\n      <td>0.289087</td>\n      <td>0.355422</td>\n      <td>-0.144170</td>\n      <td>-0.205798</td>\n      <td>0.067608</td>\n      <td>-0.073304</td>\n      <td>-0.007343</td>\n      <td>-0.015392</td>\n      <td>-0.005561</td>\n      <td>-0.014376</td>\n      <td>0.014990</td>\n      <td>0.093587</td>\n    </tr>\n    <tr>\n      <th>Informational</th>\n      <td>0.376850</td>\n      <td>0.302710</td>\n      <td>1.000000</td>\n      <td>0.618955</td>\n      <td>0.374164</td>\n      <td>0.387505</td>\n      <td>-0.116114</td>\n      <td>-0.163666</td>\n      <td>0.048632</td>\n      <td>-0.048219</td>\n      <td>-0.009527</td>\n      <td>-0.038235</td>\n      <td>-0.029169</td>\n      <td>-0.034491</td>\n      <td>0.035785</td>\n      <td>0.095200</td>\n    </tr>\n    <tr>\n      <th>Informational_Duration</th>\n      <td>0.255848</td>\n      <td>0.238031</td>\n      <td>0.618955</td>\n      <td>1.000000</td>\n      <td>0.280046</td>\n      <td>0.347364</td>\n      <td>-0.074067</td>\n      <td>-0.105276</td>\n      <td>0.030861</td>\n      <td>-0.030577</td>\n      <td>-0.009579</td>\n      <td>-0.019285</td>\n      <td>-0.027144</td>\n      <td>-0.024675</td>\n      <td>0.024078</td>\n      <td>0.070345</td>\n    </tr>\n    <tr>\n      <th>ProductRelated</th>\n      <td>0.431119</td>\n      <td>0.289087</td>\n      <td>0.374164</td>\n      <td>0.280046</td>\n      <td>1.000000</td>\n      <td>0.860927</td>\n      <td>-0.204578</td>\n      <td>-0.292526</td>\n      <td>0.056282</td>\n      <td>-0.023958</td>\n      <td>0.004290</td>\n      <td>-0.013146</td>\n      <td>-0.038122</td>\n      <td>-0.043064</td>\n      <td>0.016092</td>\n      <td>0.158538</td>\n    </tr>\n    <tr>\n      <th>ProductRelated_Duration</th>\n      <td>0.373939</td>\n      <td>0.355422</td>\n      <td>0.387505</td>\n      <td>0.347364</td>\n      <td>0.860927</td>\n      <td>1.000000</td>\n      <td>-0.184541</td>\n      <td>-0.251984</td>\n      <td>0.052823</td>\n      <td>-0.036380</td>\n      <td>0.002976</td>\n      <td>-0.007380</td>\n      <td>-0.033091</td>\n      <td>-0.036377</td>\n      <td>0.007311</td>\n      <td>0.152373</td>\n    </tr>\n    <tr>\n      <th>BounceRates</th>\n      <td>-0.223563</td>\n      <td>-0.144170</td>\n      <td>-0.116114</td>\n      <td>-0.074067</td>\n      <td>-0.204578</td>\n      <td>-0.184541</td>\n      <td>1.000000</td>\n      <td>0.913004</td>\n      <td>-0.119386</td>\n      <td>0.072702</td>\n      <td>0.023823</td>\n      <td>-0.015772</td>\n      <td>-0.006485</td>\n      <td>0.078286</td>\n      <td>-0.046514</td>\n      <td>-0.150673</td>\n    </tr>\n    <tr>\n      <th>ExitRates</th>\n      <td>-0.316483</td>\n      <td>-0.205798</td>\n      <td>-0.163666</td>\n      <td>-0.105276</td>\n      <td>-0.292526</td>\n      <td>-0.251984</td>\n      <td>0.913004</td>\n      <td>1.000000</td>\n      <td>-0.174498</td>\n      <td>0.102242</td>\n      <td>0.014567</td>\n      <td>-0.004442</td>\n      <td>-0.008907</td>\n      <td>0.078616</td>\n      <td>-0.062587</td>\n      <td>-0.207071</td>\n    </tr>\n    <tr>\n      <th>PageValues</th>\n      <td>0.098990</td>\n      <td>0.067608</td>\n      <td>0.048632</td>\n      <td>0.030861</td>\n      <td>0.056282</td>\n      <td>0.052823</td>\n      <td>-0.119386</td>\n      <td>-0.174498</td>\n      <td>1.000000</td>\n      <td>-0.063541</td>\n      <td>0.018508</td>\n      <td>0.045592</td>\n      <td>0.011315</td>\n      <td>0.012532</td>\n      <td>0.012002</td>\n      <td>0.492569</td>\n    </tr>\n    <tr>\n      <th>SpecialDay</th>\n      <td>-0.094778</td>\n      <td>-0.073304</td>\n      <td>-0.048219</td>\n      <td>-0.030577</td>\n      <td>-0.023958</td>\n      <td>-0.036380</td>\n      <td>0.072702</td>\n      <td>0.102242</td>\n      <td>-0.063541</td>\n      <td>1.000000</td>\n      <td>0.012652</td>\n      <td>0.003499</td>\n      <td>-0.016098</td>\n      <td>0.052301</td>\n      <td>-0.016767</td>\n      <td>-0.082305</td>\n    </tr>\n    <tr>\n      <th>OperatingSystems</th>\n      <td>-0.006347</td>\n      <td>-0.007343</td>\n      <td>-0.009527</td>\n      <td>-0.009579</td>\n      <td>0.004290</td>\n      <td>0.002976</td>\n      <td>0.023823</td>\n      <td>0.014567</td>\n      <td>0.018508</td>\n      <td>0.012652</td>\n      <td>1.000000</td>\n      <td>0.223013</td>\n      <td>0.076775</td>\n      <td>0.189154</td>\n      <td>0.000284</td>\n      <td>-0.014668</td>\n    </tr>\n    <tr>\n      <th>Browser</th>\n      <td>-0.025035</td>\n      <td>-0.015392</td>\n      <td>-0.038235</td>\n      <td>-0.019285</td>\n      <td>-0.013146</td>\n      <td>-0.007380</td>\n      <td>-0.015772</td>\n      <td>-0.004442</td>\n      <td>0.045592</td>\n      <td>0.003499</td>\n      <td>0.223013</td>\n      <td>1.000000</td>\n      <td>0.097393</td>\n      <td>0.111938</td>\n      <td>-0.040261</td>\n      <td>0.023984</td>\n    </tr>\n    <tr>\n      <th>Region</th>\n      <td>-0.005487</td>\n      <td>-0.005561</td>\n      <td>-0.029169</td>\n      <td>-0.027144</td>\n      <td>-0.038122</td>\n      <td>-0.033091</td>\n      <td>-0.006485</td>\n      <td>-0.008907</td>\n      <td>0.011315</td>\n      <td>-0.016098</td>\n      <td>0.076775</td>\n      <td>0.097393</td>\n      <td>1.000000</td>\n      <td>0.047520</td>\n      <td>-0.000691</td>\n      <td>-0.011595</td>\n    </tr>\n    <tr>\n      <th>TrafficType</th>\n      <td>-0.033561</td>\n      <td>-0.014376</td>\n      <td>-0.034491</td>\n      <td>-0.024675</td>\n      <td>-0.043064</td>\n      <td>-0.036377</td>\n      <td>0.078286</td>\n      <td>0.078616</td>\n      <td>0.012532</td>\n      <td>0.052301</td>\n      <td>0.189154</td>\n      <td>0.111938</td>\n      <td>0.047520</td>\n      <td>1.000000</td>\n      <td>-0.002221</td>\n      <td>-0.005113</td>\n    </tr>\n    <tr>\n      <th>Weekend</th>\n      <td>0.026417</td>\n      <td>0.014990</td>\n      <td>0.035785</td>\n      <td>0.024078</td>\n      <td>0.016092</td>\n      <td>0.007311</td>\n      <td>-0.046514</td>\n      <td>-0.062587</td>\n      <td>0.012002</td>\n      <td>-0.016767</td>\n      <td>0.000284</td>\n      <td>-0.040261</td>\n      <td>-0.000691</td>\n      <td>-0.002221</td>\n      <td>1.000000</td>\n      <td>0.029295</td>\n    </tr>\n    <tr>\n      <th>Revenue</th>\n      <td>0.138917</td>\n      <td>0.093587</td>\n      <td>0.095200</td>\n      <td>0.070345</td>\n      <td>0.158538</td>\n      <td>0.152373</td>\n      <td>-0.150673</td>\n      <td>-0.207071</td>\n      <td>0.492569</td>\n      <td>-0.082305</td>\n      <td>-0.014668</td>\n      <td>0.023984</td>\n      <td>-0.011595</td>\n      <td>-0.005113</td>\n      <td>0.029295</td>\n      <td>1.000000</td>\n    </tr>\n  </tbody>\n</table>\n</div>"
     },
     "metadata": {}
    }
   ]
  },
  {
   "cell_type": "code",
   "metadata": {
    "tags": [],
    "cell_id": "00004-2cc35807-939c-4cce-a52d-7011f430a2f5",
    "deepnote_to_be_reexecuted": false,
    "source_hash": "f88152d9",
    "execution_start": 1620995718517,
    "execution_millis": 162,
    "deepnote_cell_type": "code"
   },
   "source": "df.describe()",
   "execution_count": null,
   "outputs": [
    {
     "output_type": "execute_result",
     "execution_count": 129,
     "data": {
      "application/vnd.deepnote.dataframe.v2+json": {
       "row_count": 8,
       "column_count": 14,
       "columns": [
        {
         "name": "Administrative",
         "dtype": "float64",
         "stats": {
          "unique_count": 7,
          "nan_count": 0,
          "min": "0.0",
          "max": "12330.0",
          "histogram": [
           {
            "bin_start": 0,
            "bin_end": 1233,
            "count": 7
           },
           {
            "bin_start": 1233,
            "bin_end": 2466,
            "count": 0
           },
           {
            "bin_start": 2466,
            "bin_end": 3699,
            "count": 0
           },
           {
            "bin_start": 3699,
            "bin_end": 4932,
            "count": 0
           },
           {
            "bin_start": 4932,
            "bin_end": 6165,
            "count": 0
           },
           {
            "bin_start": 6165,
            "bin_end": 7398,
            "count": 0
           },
           {
            "bin_start": 7398,
            "bin_end": 8631,
            "count": 0
           },
           {
            "bin_start": 8631,
            "bin_end": 9864,
            "count": 0
           },
           {
            "bin_start": 9864,
            "bin_end": 11097,
            "count": 0
           },
           {
            "bin_start": 11097,
            "bin_end": 12330,
            "count": 1
           }
          ]
         }
        },
        {
         "name": "Administrative_Duration",
         "dtype": "float64",
         "stats": {
          "unique_count": 7,
          "nan_count": 0,
          "min": "0.0",
          "max": "12330.0",
          "histogram": [
           {
            "bin_start": 0,
            "bin_end": 1233,
            "count": 6
           },
           {
            "bin_start": 1233,
            "bin_end": 2466,
            "count": 0
           },
           {
            "bin_start": 2466,
            "bin_end": 3699,
            "count": 1
           },
           {
            "bin_start": 3699,
            "bin_end": 4932,
            "count": 0
           },
           {
            "bin_start": 4932,
            "bin_end": 6165,
            "count": 0
           },
           {
            "bin_start": 6165,
            "bin_end": 7398,
            "count": 0
           },
           {
            "bin_start": 7398,
            "bin_end": 8631,
            "count": 0
           },
           {
            "bin_start": 8631,
            "bin_end": 9864,
            "count": 0
           },
           {
            "bin_start": 9864,
            "bin_end": 11097,
            "count": 0
           },
           {
            "bin_start": 11097,
            "bin_end": 12330,
            "count": 1
           }
          ]
         }
        },
        {
         "name": "Informational",
         "dtype": "float64",
         "stats": {
          "unique_count": 5,
          "nan_count": 0,
          "min": "0.0",
          "max": "12330.0",
          "histogram": [
           {
            "bin_start": 0,
            "bin_end": 1233,
            "count": 7
           },
           {
            "bin_start": 1233,
            "bin_end": 2466,
            "count": 0
           },
           {
            "bin_start": 2466,
            "bin_end": 3699,
            "count": 0
           },
           {
            "bin_start": 3699,
            "bin_end": 4932,
            "count": 0
           },
           {
            "bin_start": 4932,
            "bin_end": 6165,
            "count": 0
           },
           {
            "bin_start": 6165,
            "bin_end": 7398,
            "count": 0
           },
           {
            "bin_start": 7398,
            "bin_end": 8631,
            "count": 0
           },
           {
            "bin_start": 8631,
            "bin_end": 9864,
            "count": 0
           },
           {
            "bin_start": 9864,
            "bin_end": 11097,
            "count": 0
           },
           {
            "bin_start": 11097,
            "bin_end": 12330,
            "count": 1
           }
          ]
         }
        },
        {
         "name": "Informational_Duration",
         "dtype": "float64",
         "stats": {
          "unique_count": 5,
          "nan_count": 0,
          "min": "0.0",
          "max": "12330.0",
          "histogram": [
           {
            "bin_start": 0,
            "bin_end": 1233,
            "count": 6
           },
           {
            "bin_start": 1233,
            "bin_end": 2466,
            "count": 0
           },
           {
            "bin_start": 2466,
            "bin_end": 3699,
            "count": 1
           },
           {
            "bin_start": 3699,
            "bin_end": 4932,
            "count": 0
           },
           {
            "bin_start": 4932,
            "bin_end": 6165,
            "count": 0
           },
           {
            "bin_start": 6165,
            "bin_end": 7398,
            "count": 0
           },
           {
            "bin_start": 7398,
            "bin_end": 8631,
            "count": 0
           },
           {
            "bin_start": 8631,
            "bin_end": 9864,
            "count": 0
           },
           {
            "bin_start": 9864,
            "bin_end": 11097,
            "count": 0
           },
           {
            "bin_start": 11097,
            "bin_end": 12330,
            "count": 1
           }
          ]
         }
        },
        {
         "name": "ProductRelated",
         "dtype": "float64",
         "stats": {
          "unique_count": 8,
          "nan_count": 0,
          "min": "0.0",
          "max": "12330.0",
          "histogram": [
           {
            "bin_start": 0,
            "bin_end": 1233,
            "count": 7
           },
           {
            "bin_start": 1233,
            "bin_end": 2466,
            "count": 0
           },
           {
            "bin_start": 2466,
            "bin_end": 3699,
            "count": 0
           },
           {
            "bin_start": 3699,
            "bin_end": 4932,
            "count": 0
           },
           {
            "bin_start": 4932,
            "bin_end": 6165,
            "count": 0
           },
           {
            "bin_start": 6165,
            "bin_end": 7398,
            "count": 0
           },
           {
            "bin_start": 7398,
            "bin_end": 8631,
            "count": 0
           },
           {
            "bin_start": 8631,
            "bin_end": 9864,
            "count": 0
           },
           {
            "bin_start": 9864,
            "bin_end": 11097,
            "count": 0
           },
           {
            "bin_start": 11097,
            "bin_end": 12330,
            "count": 1
           }
          ]
         }
        },
        {
         "name": "ProductRelated_Duration",
         "dtype": "float64",
         "stats": {
          "unique_count": 8,
          "nan_count": 0,
          "min": "0.0",
          "max": "63973.52223",
          "histogram": [
           {
            "bin_start": 0,
            "bin_end": 6397.352223,
            "count": 6
           },
           {
            "bin_start": 6397.352223,
            "bin_end": 12794.704446,
            "count": 1
           },
           {
            "bin_start": 12794.704446,
            "bin_end": 19192.056668999998,
            "count": 0
           },
           {
            "bin_start": 19192.056668999998,
            "bin_end": 25589.408892,
            "count": 0
           },
           {
            "bin_start": 25589.408892,
            "bin_end": 31986.761115,
            "count": 0
           },
           {
            "bin_start": 31986.761115,
            "bin_end": 38384.113337999996,
            "count": 0
           },
           {
            "bin_start": 38384.113337999996,
            "bin_end": 44781.465561,
            "count": 0
           },
           {
            "bin_start": 44781.465561,
            "bin_end": 51178.817784,
            "count": 0
           },
           {
            "bin_start": 51178.817784,
            "bin_end": 57576.170007,
            "count": 0
           },
           {
            "bin_start": 57576.170007,
            "bin_end": 63973.52223,
            "count": 1
           }
          ]
         }
        },
        {
         "name": "BounceRates",
         "dtype": "float64",
         "stats": {
          "unique_count": 7,
          "nan_count": 0,
          "min": "0.0",
          "max": "12330.0",
          "histogram": [
           {
            "bin_start": 0,
            "bin_end": 1233,
            "count": 7
           },
           {
            "bin_start": 1233,
            "bin_end": 2466,
            "count": 0
           },
           {
            "bin_start": 2466,
            "bin_end": 3699,
            "count": 0
           },
           {
            "bin_start": 3699,
            "bin_end": 4932,
            "count": 0
           },
           {
            "bin_start": 4932,
            "bin_end": 6165,
            "count": 0
           },
           {
            "bin_start": 6165,
            "bin_end": 7398,
            "count": 0
           },
           {
            "bin_start": 7398,
            "bin_end": 8631,
            "count": 0
           },
           {
            "bin_start": 8631,
            "bin_end": 9864,
            "count": 0
           },
           {
            "bin_start": 9864,
            "bin_end": 11097,
            "count": 0
           },
           {
            "bin_start": 11097,
            "bin_end": 12330,
            "count": 1
           }
          ]
         }
        },
        {
         "name": "ExitRates",
         "dtype": "float64",
         "stats": {
          "unique_count": 8,
          "nan_count": 0,
          "min": "0.0",
          "max": "12330.0",
          "histogram": [
           {
            "bin_start": 0,
            "bin_end": 1233,
            "count": 7
           },
           {
            "bin_start": 1233,
            "bin_end": 2466,
            "count": 0
           },
           {
            "bin_start": 2466,
            "bin_end": 3699,
            "count": 0
           },
           {
            "bin_start": 3699,
            "bin_end": 4932,
            "count": 0
           },
           {
            "bin_start": 4932,
            "bin_end": 6165,
            "count": 0
           },
           {
            "bin_start": 6165,
            "bin_end": 7398,
            "count": 0
           },
           {
            "bin_start": 7398,
            "bin_end": 8631,
            "count": 0
           },
           {
            "bin_start": 8631,
            "bin_end": 9864,
            "count": 0
           },
           {
            "bin_start": 9864,
            "bin_end": 11097,
            "count": 0
           },
           {
            "bin_start": 11097,
            "bin_end": 12330,
            "count": 1
           }
          ]
         }
        },
        {
         "name": "PageValues",
         "dtype": "float64",
         "stats": {
          "unique_count": 5,
          "nan_count": 0,
          "min": "0.0",
          "max": "12330.0",
          "histogram": [
           {
            "bin_start": 0,
            "bin_end": 1233,
            "count": 7
           },
           {
            "bin_start": 1233,
            "bin_end": 2466,
            "count": 0
           },
           {
            "bin_start": 2466,
            "bin_end": 3699,
            "count": 0
           },
           {
            "bin_start": 3699,
            "bin_end": 4932,
            "count": 0
           },
           {
            "bin_start": 4932,
            "bin_end": 6165,
            "count": 0
           },
           {
            "bin_start": 6165,
            "bin_end": 7398,
            "count": 0
           },
           {
            "bin_start": 7398,
            "bin_end": 8631,
            "count": 0
           },
           {
            "bin_start": 8631,
            "bin_end": 9864,
            "count": 0
           },
           {
            "bin_start": 9864,
            "bin_end": 11097,
            "count": 0
           },
           {
            "bin_start": 11097,
            "bin_end": 12330,
            "count": 1
           }
          ]
         }
        },
        {
         "name": "SpecialDay",
         "dtype": "float64",
         "stats": {
          "unique_count": 5,
          "nan_count": 0,
          "min": "0.0",
          "max": "12330.0",
          "histogram": [
           {
            "bin_start": 0,
            "bin_end": 1233,
            "count": 7
           },
           {
            "bin_start": 1233,
            "bin_end": 2466,
            "count": 0
           },
           {
            "bin_start": 2466,
            "bin_end": 3699,
            "count": 0
           },
           {
            "bin_start": 3699,
            "bin_end": 4932,
            "count": 0
           },
           {
            "bin_start": 4932,
            "bin_end": 6165,
            "count": 0
           },
           {
            "bin_start": 6165,
            "bin_end": 7398,
            "count": 0
           },
           {
            "bin_start": 7398,
            "bin_end": 8631,
            "count": 0
           },
           {
            "bin_start": 8631,
            "bin_end": 9864,
            "count": 0
           },
           {
            "bin_start": 9864,
            "bin_end": 11097,
            "count": 0
           },
           {
            "bin_start": 11097,
            "bin_end": 12330,
            "count": 1
           }
          ]
         }
        },
        {
         "name": "OperatingSystems",
         "dtype": "float64",
         "stats": {
          "unique_count": 7,
          "nan_count": 0,
          "min": "0.911324828710665",
          "max": "12330.0",
          "histogram": [
           {
            "bin_start": 0.911324828710665,
            "bin_end": 1233.8201923458396,
            "count": 7
           },
           {
            "bin_start": 1233.8201923458396,
            "bin_end": 2466.729059862969,
            "count": 0
           },
           {
            "bin_start": 2466.729059862969,
            "bin_end": 3699.637927380098,
            "count": 0
           },
           {
            "bin_start": 3699.637927380098,
            "bin_end": 4932.546794897226,
            "count": 0
           },
           {
            "bin_start": 4932.546794897226,
            "bin_end": 6165.455662414355,
            "count": 0
           },
           {
            "bin_start": 6165.455662414355,
            "bin_end": 7398.364529931485,
            "count": 0
           },
           {
            "bin_start": 7398.364529931485,
            "bin_end": 8631.273397448613,
            "count": 0
           },
           {
            "bin_start": 8631.273397448613,
            "bin_end": 9864.182264965742,
            "count": 0
           },
           {
            "bin_start": 9864.182264965742,
            "bin_end": 11097.091132482872,
            "count": 0
           },
           {
            "bin_start": 11097.091132482872,
            "bin_end": 12330,
            "count": 1
           }
          ]
         }
        },
        {
         "name": "Browser",
         "dtype": "float64",
         "stats": {
          "unique_count": 6,
          "nan_count": 0,
          "min": "1.0",
          "max": "12330.0",
          "histogram": [
           {
            "bin_start": 1,
            "bin_end": 1233.9,
            "count": 7
           },
           {
            "bin_start": 1233.9,
            "bin_end": 2466.8,
            "count": 0
           },
           {
            "bin_start": 2466.8,
            "bin_end": 3699.7000000000003,
            "count": 0
           },
           {
            "bin_start": 3699.7000000000003,
            "bin_end": 4932.6,
            "count": 0
           },
           {
            "bin_start": 4932.6,
            "bin_end": 6165.5,
            "count": 0
           },
           {
            "bin_start": 6165.5,
            "bin_end": 7398.400000000001,
            "count": 0
           },
           {
            "bin_start": 7398.400000000001,
            "bin_end": 8631.300000000001,
            "count": 0
           },
           {
            "bin_start": 8631.300000000001,
            "bin_end": 9864.2,
            "count": 0
           },
           {
            "bin_start": 9864.2,
            "bin_end": 11097.1,
            "count": 0
           },
           {
            "bin_start": 11097.1,
            "bin_end": 12330,
            "count": 1
           }
          ]
         }
        },
        {
         "name": "Region",
         "dtype": "float64",
         "stats": {
          "unique_count": 7,
          "nan_count": 0,
          "min": "1.0",
          "max": "12330.0",
          "histogram": [
           {
            "bin_start": 1,
            "bin_end": 1233.9,
            "count": 7
           },
           {
            "bin_start": 1233.9,
            "bin_end": 2466.8,
            "count": 0
           },
           {
            "bin_start": 2466.8,
            "bin_end": 3699.7000000000003,
            "count": 0
           },
           {
            "bin_start": 3699.7000000000003,
            "bin_end": 4932.6,
            "count": 0
           },
           {
            "bin_start": 4932.6,
            "bin_end": 6165.5,
            "count": 0
           },
           {
            "bin_start": 6165.5,
            "bin_end": 7398.400000000001,
            "count": 0
           },
           {
            "bin_start": 7398.400000000001,
            "bin_end": 8631.300000000001,
            "count": 0
           },
           {
            "bin_start": 8631.300000000001,
            "bin_end": 9864.2,
            "count": 0
           },
           {
            "bin_start": 9864.2,
            "bin_end": 11097.1,
            "count": 0
           },
           {
            "bin_start": 11097.1,
            "bin_end": 12330,
            "count": 1
           }
          ]
         }
        },
        {
         "name": "TrafficType",
         "dtype": "float64",
         "stats": {
          "unique_count": 7,
          "nan_count": 0,
          "min": "1.0",
          "max": "12330.0",
          "histogram": [
           {
            "bin_start": 1,
            "bin_end": 1233.9,
            "count": 7
           },
           {
            "bin_start": 1233.9,
            "bin_end": 2466.8,
            "count": 0
           },
           {
            "bin_start": 2466.8,
            "bin_end": 3699.7000000000003,
            "count": 0
           },
           {
            "bin_start": 3699.7000000000003,
            "bin_end": 4932.6,
            "count": 0
           },
           {
            "bin_start": 4932.6,
            "bin_end": 6165.5,
            "count": 0
           },
           {
            "bin_start": 6165.5,
            "bin_end": 7398.400000000001,
            "count": 0
           },
           {
            "bin_start": 7398.400000000001,
            "bin_end": 8631.300000000001,
            "count": 0
           },
           {
            "bin_start": 8631.300000000001,
            "bin_end": 9864.2,
            "count": 0
           },
           {
            "bin_start": 9864.2,
            "bin_end": 11097.1,
            "count": 0
           },
           {
            "bin_start": 11097.1,
            "bin_end": 12330,
            "count": 1
           }
          ]
         }
        },
        {
         "name": "_deepnote_index_column",
         "dtype": "object"
        }
       ],
       "rows_top": [
        {
         "Administrative": 12330,
         "Administrative_Duration": 12330,
         "Informational": 12330,
         "Informational_Duration": 12330,
         "ProductRelated": 12330,
         "ProductRelated_Duration": 12330,
         "BounceRates": 12330,
         "ExitRates": 12330,
         "PageValues": 12330,
         "SpecialDay": 12330,
         "OperatingSystems": 12330,
         "Browser": 12330,
         "Region": 12330,
         "TrafficType": 12330,
         "_deepnote_index_column": "count"
        },
        {
         "Administrative": 2.3151662611516626,
         "Administrative_Duration": 80.81861053933592,
         "Informational": 0.5035685320356853,
         "Informational_Duration": 34.47239792772304,
         "ProductRelated": 31.731467964314678,
         "ProductRelated_Duration": 1194.7462199688268,
         "BounceRates": 0.02219138047072182,
         "ExitRates": 0.04307279776650446,
         "PageValues": 5.889257862693592,
         "SpecialDay": 0.061427412814274135,
         "OperatingSystems": 2.124006488240065,
         "Browser": 2.357096512570965,
         "Region": 3.1473641524736413,
         "TrafficType": 4.069586374695864,
         "_deepnote_index_column": "mean"
        },
        {
         "Administrative": 3.3217841061569113,
         "Administrative_Duration": 176.77910747048634,
         "Informational": 1.270156425983391,
         "Informational_Duration": 140.74929442219798,
         "ProductRelated": 44.47550330493652,
         "ProductRelated_Duration": 1913.6692878720035,
         "BounceRates": 0.048488321806260656,
         "ExitRates": 0.048596540551443565,
         "PageValues": 18.568436607806525,
         "SpecialDay": 0.19891727315262864,
         "OperatingSystems": 0.911324828710665,
         "Browser": 1.7172766755534394,
         "Region": 2.401591236743714,
         "TrafficType": 4.025169160452515,
         "_deepnote_index_column": "std"
        },
        {
         "Administrative": 0,
         "Administrative_Duration": 0,
         "Informational": 0,
         "Informational_Duration": 0,
         "ProductRelated": 0,
         "ProductRelated_Duration": 0,
         "BounceRates": 0,
         "ExitRates": 0,
         "PageValues": 0,
         "SpecialDay": 0,
         "OperatingSystems": 1,
         "Browser": 1,
         "Region": 1,
         "TrafficType": 1,
         "_deepnote_index_column": "min"
        },
        {
         "Administrative": 0,
         "Administrative_Duration": 0,
         "Informational": 0,
         "Informational_Duration": 0,
         "ProductRelated": 7,
         "ProductRelated_Duration": 184.1375,
         "BounceRates": 0,
         "ExitRates": 0.014285714,
         "PageValues": 0,
         "SpecialDay": 0,
         "OperatingSystems": 2,
         "Browser": 2,
         "Region": 1,
         "TrafficType": 2,
         "_deepnote_index_column": "25%"
        },
        {
         "Administrative": 1,
         "Administrative_Duration": 7.5,
         "Informational": 0,
         "Informational_Duration": 0,
         "ProductRelated": 18,
         "ProductRelated_Duration": 598.9369047499999,
         "BounceRates": 0.0031124675,
         "ExitRates": 0.0251564025,
         "PageValues": 0,
         "SpecialDay": 0,
         "OperatingSystems": 2,
         "Browser": 2,
         "Region": 3,
         "TrafficType": 2,
         "_deepnote_index_column": "50%"
        },
        {
         "Administrative": 4,
         "Administrative_Duration": 93.25625,
         "Informational": 0,
         "Informational_Duration": 0,
         "ProductRelated": 38,
         "ProductRelated_Duration": 1464.1572135000001,
         "BounceRates": 0.016812558499999998,
         "ExitRates": 0.05,
         "PageValues": 0,
         "SpecialDay": 0,
         "OperatingSystems": 3,
         "Browser": 2,
         "Region": 4,
         "TrafficType": 4,
         "_deepnote_index_column": "75%"
        },
        {
         "Administrative": 27,
         "Administrative_Duration": 3398.75,
         "Informational": 24,
         "Informational_Duration": 2549.375,
         "ProductRelated": 705,
         "ProductRelated_Duration": 63973.52223,
         "BounceRates": 0.2,
         "ExitRates": 0.2,
         "PageValues": 361.7637419,
         "SpecialDay": 1,
         "OperatingSystems": 8,
         "Browser": 13,
         "Region": 9,
         "TrafficType": 20,
         "_deepnote_index_column": "max"
        }
       ],
       "rows_bottom": null
      },
      "text/plain": "       Administrative  Administrative_Duration  Informational  \\\ncount    12330.000000             12330.000000   12330.000000   \nmean         2.315166                80.818611       0.503569   \nstd          3.321784               176.779107       1.270156   \nmin          0.000000                 0.000000       0.000000   \n25%          0.000000                 0.000000       0.000000   \n50%          1.000000                 7.500000       0.000000   \n75%          4.000000                93.256250       0.000000   \nmax         27.000000              3398.750000      24.000000   \n\n       Informational_Duration  ProductRelated  ProductRelated_Duration  \\\ncount            12330.000000    12330.000000             12330.000000   \nmean                34.472398       31.731468              1194.746220   \nstd                140.749294       44.475503              1913.669288   \nmin                  0.000000        0.000000                 0.000000   \n25%                  0.000000        7.000000               184.137500   \n50%                  0.000000       18.000000               598.936905   \n75%                  0.000000       38.000000              1464.157214   \nmax               2549.375000      705.000000             63973.522230   \n\n        BounceRates     ExitRates    PageValues    SpecialDay  \\\ncount  12330.000000  12330.000000  12330.000000  12330.000000   \nmean       0.022191      0.043073      5.889258      0.061427   \nstd        0.048488      0.048597     18.568437      0.198917   \nmin        0.000000      0.000000      0.000000      0.000000   \n25%        0.000000      0.014286      0.000000      0.000000   \n50%        0.003112      0.025156      0.000000      0.000000   \n75%        0.016813      0.050000      0.000000      0.000000   \nmax        0.200000      0.200000    361.763742      1.000000   \n\n       OperatingSystems       Browser        Region   TrafficType  \ncount      12330.000000  12330.000000  12330.000000  12330.000000  \nmean           2.124006      2.357097      3.147364      4.069586  \nstd            0.911325      1.717277      2.401591      4.025169  \nmin            1.000000      1.000000      1.000000      1.000000  \n25%            2.000000      2.000000      1.000000      2.000000  \n50%            2.000000      2.000000      3.000000      2.000000  \n75%            3.000000      2.000000      4.000000      4.000000  \nmax            8.000000     13.000000      9.000000     20.000000  ",
      "text/html": "<div>\n<style scoped>\n    .dataframe tbody tr th:only-of-type {\n        vertical-align: middle;\n    }\n\n    .dataframe tbody tr th {\n        vertical-align: top;\n    }\n\n    .dataframe thead th {\n        text-align: right;\n    }\n</style>\n<table border=\"1\" class=\"dataframe\">\n  <thead>\n    <tr style=\"text-align: right;\">\n      <th></th>\n      <th>Administrative</th>\n      <th>Administrative_Duration</th>\n      <th>Informational</th>\n      <th>Informational_Duration</th>\n      <th>ProductRelated</th>\n      <th>ProductRelated_Duration</th>\n      <th>BounceRates</th>\n      <th>ExitRates</th>\n      <th>PageValues</th>\n      <th>SpecialDay</th>\n      <th>OperatingSystems</th>\n      <th>Browser</th>\n      <th>Region</th>\n      <th>TrafficType</th>\n    </tr>\n  </thead>\n  <tbody>\n    <tr>\n      <th>count</th>\n      <td>12330.000000</td>\n      <td>12330.000000</td>\n      <td>12330.000000</td>\n      <td>12330.000000</td>\n      <td>12330.000000</td>\n      <td>12330.000000</td>\n      <td>12330.000000</td>\n      <td>12330.000000</td>\n      <td>12330.000000</td>\n      <td>12330.000000</td>\n      <td>12330.000000</td>\n      <td>12330.000000</td>\n      <td>12330.000000</td>\n      <td>12330.000000</td>\n    </tr>\n    <tr>\n      <th>mean</th>\n      <td>2.315166</td>\n      <td>80.818611</td>\n      <td>0.503569</td>\n      <td>34.472398</td>\n      <td>31.731468</td>\n      <td>1194.746220</td>\n      <td>0.022191</td>\n      <td>0.043073</td>\n      <td>5.889258</td>\n      <td>0.061427</td>\n      <td>2.124006</td>\n      <td>2.357097</td>\n      <td>3.147364</td>\n      <td>4.069586</td>\n    </tr>\n    <tr>\n      <th>std</th>\n      <td>3.321784</td>\n      <td>176.779107</td>\n      <td>1.270156</td>\n      <td>140.749294</td>\n      <td>44.475503</td>\n      <td>1913.669288</td>\n      <td>0.048488</td>\n      <td>0.048597</td>\n      <td>18.568437</td>\n      <td>0.198917</td>\n      <td>0.911325</td>\n      <td>1.717277</td>\n      <td>2.401591</td>\n      <td>4.025169</td>\n    </tr>\n    <tr>\n      <th>min</th>\n      <td>0.000000</td>\n      <td>0.000000</td>\n      <td>0.000000</td>\n      <td>0.000000</td>\n      <td>0.000000</td>\n      <td>0.000000</td>\n      <td>0.000000</td>\n      <td>0.000000</td>\n      <td>0.000000</td>\n      <td>0.000000</td>\n      <td>1.000000</td>\n      <td>1.000000</td>\n      <td>1.000000</td>\n      <td>1.000000</td>\n    </tr>\n    <tr>\n      <th>25%</th>\n      <td>0.000000</td>\n      <td>0.000000</td>\n      <td>0.000000</td>\n      <td>0.000000</td>\n      <td>7.000000</td>\n      <td>184.137500</td>\n      <td>0.000000</td>\n      <td>0.014286</td>\n      <td>0.000000</td>\n      <td>0.000000</td>\n      <td>2.000000</td>\n      <td>2.000000</td>\n      <td>1.000000</td>\n      <td>2.000000</td>\n    </tr>\n    <tr>\n      <th>50%</th>\n      <td>1.000000</td>\n      <td>7.500000</td>\n      <td>0.000000</td>\n      <td>0.000000</td>\n      <td>18.000000</td>\n      <td>598.936905</td>\n      <td>0.003112</td>\n      <td>0.025156</td>\n      <td>0.000000</td>\n      <td>0.000000</td>\n      <td>2.000000</td>\n      <td>2.000000</td>\n      <td>3.000000</td>\n      <td>2.000000</td>\n    </tr>\n    <tr>\n      <th>75%</th>\n      <td>4.000000</td>\n      <td>93.256250</td>\n      <td>0.000000</td>\n      <td>0.000000</td>\n      <td>38.000000</td>\n      <td>1464.157214</td>\n      <td>0.016813</td>\n      <td>0.050000</td>\n      <td>0.000000</td>\n      <td>0.000000</td>\n      <td>3.000000</td>\n      <td>2.000000</td>\n      <td>4.000000</td>\n      <td>4.000000</td>\n    </tr>\n    <tr>\n      <th>max</th>\n      <td>27.000000</td>\n      <td>3398.750000</td>\n      <td>24.000000</td>\n      <td>2549.375000</td>\n      <td>705.000000</td>\n      <td>63973.522230</td>\n      <td>0.200000</td>\n      <td>0.200000</td>\n      <td>361.763742</td>\n      <td>1.000000</td>\n      <td>8.000000</td>\n      <td>13.000000</td>\n      <td>9.000000</td>\n      <td>20.000000</td>\n    </tr>\n  </tbody>\n</table>\n</div>"
     },
     "metadata": {}
    }
   ]
  },
  {
   "cell_type": "code",
   "metadata": {
    "tags": [],
    "cell_id": "00005-2ceaeb84-6392-4b15-96fd-4159886d46c1",
    "deepnote_to_be_reexecuted": false,
    "source_hash": "35654f79",
    "execution_start": 1620995719347,
    "execution_millis": 8,
    "deepnote_cell_type": "code"
   },
   "source": "#sns.pairplot(df[num_vars])",
   "execution_count": null,
   "outputs": []
  },
  {
   "cell_type": "markdown",
   "source": "#### Deleting Outliers",
   "metadata": {
    "tags": [],
    "cell_id": "00007-13284c95-6349-4ce9-8a99-8d72cf21a759",
    "deepnote_cell_type": "markdown"
   }
  },
  {
   "cell_type": "code",
   "metadata": {
    "tags": [],
    "cell_id": "00007-cd169d43-6e26-4425-8b2b-aba3813c5fed",
    "deepnote_to_be_reexecuted": false,
    "source_hash": "988c6301",
    "execution_start": 1620995720287,
    "execution_millis": 195,
    "deepnote_cell_type": "code"
   },
   "source": "df=df.drop(df.loc[df.BounceRates>0.05].index.tolist())\nsns.boxplot(df[\"BounceRates\"])",
   "execution_count": null,
   "outputs": [
    {
     "name": "stderr",
     "text": "/shared-libs/python3.7/py/lib/python3.7/site-packages/seaborn/_decorators.py:43: FutureWarning: Pass the following variable as a keyword arg: x. From version 0.12, the only valid positional argument will be `data`, and passing other arguments without an explicit keyword will result in an error or misinterpretation.\n  FutureWarning\n",
     "output_type": "stream"
    },
    {
     "output_type": "execute_result",
     "execution_count": 131,
     "data": {
      "text/plain": "<AxesSubplot:xlabel='BounceRates'>"
     },
     "metadata": {}
    },
    {
     "data": {
      "text/plain": "<Figure size 432x288 with 1 Axes>",
      "image/png": "[encoded data removed]"
     },
     "metadata": {
      "needs_background": "light",
      "image/png": {
       "width": 352,
       "height": 262
      }
     },
     "output_type": "display_data"
    }
   ]
  },
  {
   "cell_type": "code",
   "metadata": {
    "tags": [],
    "cell_id": "00008-8190e010-cb2b-450c-8133-3e5640408547",
    "deepnote_to_be_reexecuted": false,
    "source_hash": "bc51e288",
    "execution_start": 1620995720484,
    "execution_millis": 234,
    "deepnote_cell_type": "code"
   },
   "source": "df=df.drop(df.loc[df.ExitRates>0.100].index.tolist())\nsns.boxplot(df[\"ExitRates\"])",
   "execution_count": null,
   "outputs": [
    {
     "name": "stderr",
     "text": "/shared-libs/python3.7/py/lib/python3.7/site-packages/seaborn/_decorators.py:43: FutureWarning: Pass the following variable as a keyword arg: x. From version 0.12, the only valid positional argument will be `data`, and passing other arguments without an explicit keyword will result in an error or misinterpretation.\n  FutureWarning\n",
     "output_type": "stream"
    },
    {
     "output_type": "execute_result",
     "execution_count": 132,
     "data": {
      "text/plain": "<AxesSubplot:xlabel='ExitRates'>"
     },
     "metadata": {}
    },
    {
     "data": {
      "text/plain": "<Figure size 432x288 with 1 Axes>",
      "image/png": "[encoded data removed]"
     },
     "metadata": {
      "needs_background": "light",
      "image/png": {
       "width": 352,
       "height": 262
      }
     },
     "output_type": "display_data"
    }
   ]
  },
  {
   "cell_type": "code",
   "metadata": {
    "tags": [],
    "cell_id": "00009-c57d1218-4318-4881-91f2-320e212ed127",
    "deepnote_to_be_reexecuted": false,
    "source_hash": "57a167a9",
    "execution_start": 1620995720726,
    "execution_millis": 249,
    "deepnote_cell_type": "code"
   },
   "source": "df=df.drop(df.loc[df.Administrative>10].index.tolist())\nsns.boxplot(df[\"Administrative\"])\n",
   "execution_count": null,
   "outputs": [
    {
     "name": "stderr",
     "text": "/shared-libs/python3.7/py/lib/python3.7/site-packages/seaborn/_decorators.py:43: FutureWarning: Pass the following variable as a keyword arg: x. From version 0.12, the only valid positional argument will be `data`, and passing other arguments without an explicit keyword will result in an error or misinterpretation.\n  FutureWarning\n",
     "output_type": "stream"
    },
    {
     "output_type": "execute_result",
     "execution_count": 133,
     "data": {
      "text/plain": "<AxesSubplot:xlabel='Administrative'>"
     },
     "metadata": {}
    },
    {
     "data": {
      "text/plain": "<Figure size 432x288 with 1 Axes>",
      "image/png": "[encoded data removed]"
     },
     "metadata": {
      "needs_background": "light",
      "image/png": {
       "width": 352,
       "height": 262
      }
     },
     "output_type": "display_data"
    }
   ]
  },
  {
   "cell_type": "code",
   "metadata": {
    "tags": [],
    "cell_id": "00010-93b40a99-6609-44ac-afe0-136799cca250",
    "deepnote_to_be_reexecuted": false,
    "source_hash": "affd0daa",
    "execution_start": 1620995723015,
    "execution_millis": 227,
    "deepnote_cell_type": "code"
   },
   "source": "df=df.drop(df.loc[df.Administrative_Duration>1000].index.tolist())\nsns.boxplot(df[\"Administrative_Duration\"])",
   "execution_count": null,
   "outputs": [
    {
     "name": "stderr",
     "text": "/shared-libs/python3.7/py/lib/python3.7/site-packages/seaborn/_decorators.py:43: FutureWarning: Pass the following variable as a keyword arg: x. From version 0.12, the only valid positional argument will be `data`, and passing other arguments without an explicit keyword will result in an error or misinterpretation.\n  FutureWarning\n",
     "output_type": "stream"
    },
    {
     "output_type": "execute_result",
     "execution_count": 134,
     "data": {
      "text/plain": "<AxesSubplot:xlabel='Administrative_Duration'>"
     },
     "metadata": {}
    },
    {
     "data": {
      "text/plain": "<Figure size 432x288 with 1 Axes>",
      "image/png": "[encoded data removed]"
     },
     "metadata": {
      "needs_background": "light",
      "image/png": {
       "width": 352,
       "height": 263
      }
     },
     "output_type": "display_data"
    }
   ]
  },
  {
   "cell_type": "code",
   "metadata": {
    "tags": [],
    "cell_id": "00013-4fed7f5e-d1f6-4908-86a6-e7c5edea81cd",
    "deepnote_to_be_reexecuted": false,
    "source_hash": "148927dd",
    "execution_start": 1620995723238,
    "execution_millis": 249,
    "deepnote_cell_type": "code"
   },
   "source": "df=df.drop(df.loc[df.ProductRelated>220].index.tolist())\nsns.boxplot(df[\"ProductRelated\"])",
   "execution_count": null,
   "outputs": [
    {
     "name": "stderr",
     "text": "/shared-libs/python3.7/py/lib/python3.7/site-packages/seaborn/_decorators.py:43: FutureWarning: Pass the following variable as a keyword arg: x. From version 0.12, the only valid positional argument will be `data`, and passing other arguments without an explicit keyword will result in an error or misinterpretation.\n  FutureWarning\n",
     "output_type": "stream"
    },
    {
     "output_type": "execute_result",
     "execution_count": 135,
     "data": {
      "text/plain": "<AxesSubplot:xlabel='ProductRelated'>"
     },
     "metadata": {}
    },
    {
     "data": {
      "text/plain": "<Figure size 432x288 with 1 Axes>",
      "image/png": "[encoded data removed]"
     },
     "metadata": {
      "needs_background": "light",
      "image/png": {
       "width": 352,
       "height": 262
      }
     },
     "output_type": "display_data"
    }
   ]
  },
  {
   "cell_type": "code",
   "metadata": {
    "tags": [],
    "cell_id": "00014-3a72adb6-5741-468e-9ae6-1cc8b1380f2a",
    "deepnote_to_be_reexecuted": false,
    "source_hash": "e72d7810",
    "execution_start": 1620995723482,
    "execution_millis": 257,
    "deepnote_cell_type": "code"
   },
   "source": "df=df.drop(df.loc[df.ProductRelated_Duration>20000].index.tolist())\nsns.boxplot(df[\"ProductRelated_Duration\"])",
   "execution_count": null,
   "outputs": [
    {
     "name": "stderr",
     "text": "/shared-libs/python3.7/py/lib/python3.7/site-packages/seaborn/_decorators.py:43: FutureWarning: Pass the following variable as a keyword arg: x. From version 0.12, the only valid positional argument will be `data`, and passing other arguments without an explicit keyword will result in an error or misinterpretation.\n  FutureWarning\n",
     "output_type": "stream"
    },
    {
     "output_type": "execute_result",
     "execution_count": 136,
     "data": {
      "text/plain": "<AxesSubplot:xlabel='ProductRelated_Duration'>"
     },
     "metadata": {}
    },
    {
     "data": {
      "text/plain": "<Figure size 432x288 with 1 Axes>",
      "image/png": "[encoded data removed]"
     },
     "metadata": {
      "needs_background": "light",
      "image/png": {
       "width": 352,
       "height": 263
      }
     },
     "output_type": "display_data"
    }
   ]
  },
  {
   "cell_type": "markdown",
   "source": "#### Feature Engineering",
   "metadata": {
    "tags": [],
    "cell_id": "00007-07331fea-1700-43a0-ae5b-c9f1a3efd1df",
    "deepnote_cell_type": "markdown"
   }
  },
  {
   "cell_type": "markdown",
   "source": "#### PCA for Bounce Rates and Exit Rates",
   "metadata": {
    "tags": [],
    "cell_id": "00008-611b91a5-8ac2-4054-956d-cf6bdc635c04",
    "deepnote_cell_type": "markdown"
   }
  },
  {
   "cell_type": "code",
   "metadata": {
    "tags": [],
    "cell_id": "00006-016a8816-680c-42ee-b212-a4581dbc0ce7",
    "deepnote_to_be_reexecuted": false,
    "source_hash": "b844029b",
    "execution_start": 1620995723742,
    "execution_millis": 205,
    "deepnote_cell_type": "code"
   },
   "source": "#standard=StandardScaler()\ndf[[\"BounceRates\",\"ExitRates\"]]=standard.fit_transform(df[[\"BounceRates\",\"ExitRates\"]])\n\nfrom sklearn.decomposition import PCA\npca = PCA(n_components=1)\nbounce_exit=pca.fit_transform(df[[\"BounceRates\",\"ExitRates\"]])\ndf[\"bounce_exit\"]=bounce_exit\n\n#Now we can delete bouncerates and exitrates\ndf.drop([\"BounceRates\",\"ExitRates\"],axis=1)\ndf.head()",
   "execution_count": null,
   "outputs": [
    {
     "output_type": "execute_result",
     "execution_count": 137,
     "data": {
      "application/vnd.deepnote.dataframe.v2+json": {
       "row_count": 5,
       "column_count": 19,
       "columns": [
        {
         "name": "Administrative",
         "dtype": "int64",
         "stats": {
          "unique_count": 1,
          "nan_count": 0,
          "min": "0",
          "max": "0",
          "histogram": [
           {
            "bin_start": -0.5,
            "bin_end": -0.4,
            "count": 0
           },
           {
            "bin_start": -0.4,
            "bin_end": -0.3,
            "count": 0
           },
           {
            "bin_start": -0.3,
            "bin_end": -0.19999999999999996,
            "count": 0
           },
           {
            "bin_start": -0.19999999999999996,
            "bin_end": -0.09999999999999998,
            "count": 0
           },
           {
            "bin_start": -0.09999999999999998,
            "bin_end": 0,
            "count": 0
           },
           {
            "bin_start": 0,
            "bin_end": 0.10000000000000009,
            "count": 5
           },
           {
            "bin_start": 0.10000000000000009,
            "bin_end": 0.20000000000000007,
            "count": 0
           },
           {
            "bin_start": 0.20000000000000007,
            "bin_end": 0.30000000000000004,
            "count": 0
           },
           {
            "bin_start": 0.30000000000000004,
            "bin_end": 0.4,
            "count": 0
           },
           {
            "bin_start": 0.4,
            "bin_end": 0.5,
            "count": 0
           }
          ]
         }
        },
        {
         "name": "Administrative_Duration",
         "dtype": "float64",
         "stats": {
          "unique_count": 1,
          "nan_count": 0,
          "min": "0.0",
          "max": "0.0",
          "histogram": [
           {
            "bin_start": -0.5,
            "bin_end": -0.4,
            "count": 0
           },
           {
            "bin_start": -0.4,
            "bin_end": -0.3,
            "count": 0
           },
           {
            "bin_start": -0.3,
            "bin_end": -0.19999999999999996,
            "count": 0
           },
           {
            "bin_start": -0.19999999999999996,
            "bin_end": -0.09999999999999998,
            "count": 0
           },
           {
            "bin_start": -0.09999999999999998,
            "bin_end": 0,
            "count": 0
           },
           {
            "bin_start": 0,
            "bin_end": 0.10000000000000009,
            "count": 5
           },
           {
            "bin_start": 0.10000000000000009,
            "bin_end": 0.20000000000000007,
            "count": 0
           },
           {
            "bin_start": 0.20000000000000007,
            "bin_end": 0.30000000000000004,
            "count": 0
           },
           {
            "bin_start": 0.30000000000000004,
            "bin_end": 0.4,
            "count": 0
           },
           {
            "bin_start": 0.4,
            "bin_end": 0.5,
            "count": 0
           }
          ]
         }
        },
        {
         "name": "Informational",
         "dtype": "int64",
         "stats": {
          "unique_count": 1,
          "nan_count": 0,
          "min": "0",
          "max": "0",
          "histogram": [
           {
            "bin_start": -0.5,
            "bin_end": -0.4,
            "count": 0
           },
           {
            "bin_start": -0.4,
            "bin_end": -0.3,
            "count": 0
           },
           {
            "bin_start": -0.3,
            "bin_end": -0.19999999999999996,
            "count": 0
           },
           {
            "bin_start": -0.19999999999999996,
            "bin_end": -0.09999999999999998,
            "count": 0
           },
           {
            "bin_start": -0.09999999999999998,
            "bin_end": 0,
            "count": 0
           },
           {
            "bin_start": 0,
            "bin_end": 0.10000000000000009,
            "count": 5
           },
           {
            "bin_start": 0.10000000000000009,
            "bin_end": 0.20000000000000007,
            "count": 0
           },
           {
            "bin_start": 0.20000000000000007,
            "bin_end": 0.30000000000000004,
            "count": 0
           },
           {
            "bin_start": 0.30000000000000004,
            "bin_end": 0.4,
            "count": 0
           },
           {
            "bin_start": 0.4,
            "bin_end": 0.5,
            "count": 0
           }
          ]
         }
        },
        {
         "name": "Informational_Duration",
         "dtype": "float64",
         "stats": {
          "unique_count": 1,
          "nan_count": 0,
          "min": "0.0",
          "max": "0.0",
          "histogram": [
           {
            "bin_start": -0.5,
            "bin_end": -0.4,
            "count": 0
           },
           {
            "bin_start": -0.4,
            "bin_end": -0.3,
            "count": 0
           },
           {
            "bin_start": -0.3,
            "bin_end": -0.19999999999999996,
            "count": 0
           },
           {
            "bin_start": -0.19999999999999996,
            "bin_end": -0.09999999999999998,
            "count": 0
           },
           {
            "bin_start": -0.09999999999999998,
            "bin_end": 0,
            "count": 0
           },
           {
            "bin_start": 0,
            "bin_end": 0.10000000000000009,
            "count": 5
           },
           {
            "bin_start": 0.10000000000000009,
            "bin_end": 0.20000000000000007,
            "count": 0
           },
           {
            "bin_start": 0.20000000000000007,
            "bin_end": 0.30000000000000004,
            "count": 0
           },
           {
            "bin_start": 0.30000000000000004,
            "bin_end": 0.4,
            "count": 0
           },
           {
            "bin_start": 0.4,
            "bin_end": 0.5,
            "count": 0
           }
          ]
         }
        },
        {
         "name": "ProductRelated",
         "dtype": "int64",
         "stats": {
          "unique_count": 4,
          "nan_count": 0,
          "min": "2",
          "max": "19",
          "histogram": [
           {
            "bin_start": 2,
            "bin_end": 3.7,
            "count": 3
           },
           {
            "bin_start": 3.7,
            "bin_end": 5.4,
            "count": 0
           },
           {
            "bin_start": 5.4,
            "bin_end": 7.1,
            "count": 0
           },
           {
            "bin_start": 7.1,
            "bin_end": 8.8,
            "count": 0
           },
           {
            "bin_start": 8.8,
            "bin_end": 10.5,
            "count": 1
           },
           {
            "bin_start": 10.5,
            "bin_end": 12.2,
            "count": 0
           },
           {
            "bin_start": 12.2,
            "bin_end": 13.9,
            "count": 0
           },
           {
            "bin_start": 13.9,
            "bin_end": 15.6,
            "count": 0
           },
           {
            "bin_start": 15.6,
            "bin_end": 17.299999999999997,
            "count": 0
           },
           {
            "bin_start": 17.299999999999997,
            "bin_end": 19,
            "count": 1
           }
          ]
         }
        },
        {
         "name": "ProductRelated_Duration",
         "dtype": "float64",
         "stats": {
          "unique_count": 5,
          "nan_count": 0,
          "min": "37.0",
          "max": "738.0",
          "histogram": [
           {
            "bin_start": 37,
            "bin_end": 107.1,
            "count": 2
           },
           {
            "bin_start": 107.1,
            "bin_end": 177.2,
            "count": 1
           },
           {
            "bin_start": 177.2,
            "bin_end": 247.29999999999998,
            "count": 0
           },
           {
            "bin_start": 247.29999999999998,
            "bin_end": 317.4,
            "count": 0
           },
           {
            "bin_start": 317.4,
            "bin_end": 387.5,
            "count": 0
           },
           {
            "bin_start": 387.5,
            "bin_end": 457.59999999999997,
            "count": 0
           },
           {
            "bin_start": 457.59999999999997,
            "bin_end": 527.6999999999999,
            "count": 0
           },
           {
            "bin_start": 527.6999999999999,
            "bin_end": 597.8,
            "count": 0
           },
           {
            "bin_start": 597.8,
            "bin_end": 667.9,
            "count": 1
           },
           {
            "bin_start": 667.9,
            "bin_end": 738,
            "count": 1
           }
          ]
         }
        },
        {
         "name": "BounceRates",
         "dtype": "float64",
         "stats": {
          "unique_count": 3,
          "nan_count": 0,
          "min": "-0.6462661202144558",
          "max": "1.1260758017521992",
          "histogram": [
           {
            "bin_start": -0.6462661202144558,
            "bin_end": -0.46903192801779037,
            "count": 3
           },
           {
            "bin_start": -0.46903192801779037,
            "bin_end": -0.29179773582112484,
            "count": 0
           },
           {
            "bin_start": -0.29179773582112484,
            "bin_end": -0.11456354362445931,
            "count": 0
           },
           {
            "bin_start": -0.11456354362445931,
            "bin_end": 0.06267064857220617,
            "count": 0
           },
           {
            "bin_start": 0.06267064857220617,
            "bin_end": 0.23990484076887164,
            "count": 0
           },
           {
            "bin_start": 0.23990484076887164,
            "bin_end": 0.4171390329655372,
            "count": 0
           },
           {
            "bin_start": 0.4171390329655372,
            "bin_end": 0.5943732251622026,
            "count": 0
           },
           {
            "bin_start": 0.5943732251622026,
            "bin_end": 0.7716074173588682,
            "count": 1
           },
           {
            "bin_start": 0.7716074173588682,
            "bin_end": 0.9488416095555338,
            "count": 0
           },
           {
            "bin_start": 0.9488416095555338,
            "bin_end": 1.1260758017521992,
            "count": 1
           }
          ]
         }
        },
        {
         "name": "ExitRates",
         "dtype": "float64",
         "stats": {
          "unique_count": 4,
          "nan_count": 0,
          "min": "-0.3097718168116472",
          "max": "3.2320636712195308",
          "histogram": [
           {
            "bin_start": -0.3097718168116472,
            "bin_end": 0.04441173199147058,
            "count": 2
           },
           {
            "bin_start": 0.04441173199147058,
            "bin_end": 0.3985952807945884,
            "count": 0
           },
           {
            "bin_start": 0.3985952807945884,
            "bin_end": 0.7527788295977063,
            "count": 0
           },
           {
            "bin_start": 0.7527788295977063,
            "bin_end": 1.106962378400824,
            "count": 1
           },
           {
            "bin_start": 1.106962378400824,
            "bin_end": 1.4611459272039418,
            "count": 0
           },
           {
            "bin_start": 1.4611459272039418,
            "bin_end": 1.8153294760070597,
            "count": 0
           },
           {
            "bin_start": 1.8153294760070597,
            "bin_end": 2.1695130248101773,
            "count": 0
           },
           {
            "bin_start": 2.1695130248101773,
            "bin_end": 2.5236965736132952,
            "count": 0
           },
           {
            "bin_start": 2.5236965736132952,
            "bin_end": 2.8778801224164132,
            "count": 0
           },
           {
            "bin_start": 2.8778801224164132,
            "bin_end": 3.2320636712195308,
            "count": 2
           }
          ]
         }
        },
        {
         "name": "PageValues",
         "dtype": "float64",
         "stats": {
          "unique_count": 1,
          "nan_count": 0,
          "min": "0.0",
          "max": "0.0",
          "histogram": [
           {
            "bin_start": -0.5,
            "bin_end": -0.4,
            "count": 0
           },
           {
            "bin_start": -0.4,
            "bin_end": -0.3,
            "count": 0
           },
           {
            "bin_start": -0.3,
            "bin_end": -0.19999999999999996,
            "count": 0
           },
           {
            "bin_start": -0.19999999999999996,
            "bin_end": -0.09999999999999998,
            "count": 0
           },
           {
            "bin_start": -0.09999999999999998,
            "bin_end": 0,
            "count": 0
           },
           {
            "bin_start": 0,
            "bin_end": 0.10000000000000009,
            "count": 5
           },
           {
            "bin_start": 0.10000000000000009,
            "bin_end": 0.20000000000000007,
            "count": 0
           },
           {
            "bin_start": 0.20000000000000007,
            "bin_end": 0.30000000000000004,
            "count": 0
           },
           {
            "bin_start": 0.30000000000000004,
            "bin_end": 0.4,
            "count": 0
           },
           {
            "bin_start": 0.4,
            "bin_end": 0.5,
            "count": 0
           }
          ]
         }
        },
        {
         "name": "SpecialDay",
         "dtype": "float64",
         "stats": {
          "unique_count": 3,
          "nan_count": 0,
          "min": "0.0",
          "max": "0.8",
          "histogram": [
           {
            "bin_start": 0,
            "bin_end": 0.08,
            "count": 3
           },
           {
            "bin_start": 0.08,
            "bin_end": 0.16,
            "count": 0
           },
           {
            "bin_start": 0.16,
            "bin_end": 0.24,
            "count": 0
           },
           {
            "bin_start": 0.24,
            "bin_end": 0.32,
            "count": 0
           },
           {
            "bin_start": 0.32,
            "bin_end": 0.4,
            "count": 0
           },
           {
            "bin_start": 0.4,
            "bin_end": 0.48,
            "count": 1
           },
           {
            "bin_start": 0.48,
            "bin_end": 0.56,
            "count": 0
           },
           {
            "bin_start": 0.56,
            "bin_end": 0.64,
            "count": 0
           },
           {
            "bin_start": 0.64,
            "bin_end": 0.72,
            "count": 0
           },
           {
            "bin_start": 0.72,
            "bin_end": 0.8,
            "count": 1
           }
          ]
         }
        },
        {
         "name": "Month",
         "dtype": "object",
         "stats": {
          "unique_count": 1,
          "nan_count": 0,
          "categories": [
           {
            "name": "Feb",
            "count": 5
           }
          ]
         }
        },
        {
         "name": "OperatingSystems",
         "dtype": "int64",
         "stats": {
          "unique_count": 2,
          "nan_count": 0,
          "min": "2",
          "max": "3",
          "histogram": [
           {
            "bin_start": 2,
            "bin_end": 2.1,
            "count": 4
           },
           {
            "bin_start": 2.1,
            "bin_end": 2.2,
            "count": 0
           },
           {
            "bin_start": 2.2,
            "bin_end": 2.3,
            "count": 0
           },
           {
            "bin_start": 2.3,
            "bin_end": 2.4,
            "count": 0
           },
           {
            "bin_start": 2.4,
            "bin_end": 2.5,
            "count": 0
           },
           {
            "bin_start": 2.5,
            "bin_end": 2.6,
            "count": 0
           },
           {
            "bin_start": 2.6,
            "bin_end": 2.7,
            "count": 0
           },
           {
            "bin_start": 2.7,
            "bin_end": 2.8,
            "count": 0
           },
           {
            "bin_start": 2.8,
            "bin_end": 2.9,
            "count": 0
           },
           {
            "bin_start": 2.9,
            "bin_end": 3,
            "count": 1
           }
          ]
         }
        },
        {
         "name": "Browser",
         "dtype": "int64",
         "stats": {
          "unique_count": 3,
          "nan_count": 0,
          "min": "2",
          "max": "4",
          "histogram": [
           {
            "bin_start": 2,
            "bin_end": 2.2,
            "count": 3
           },
           {
            "bin_start": 2.2,
            "bin_end": 2.4,
            "count": 0
           },
           {
            "bin_start": 2.4,
            "bin_end": 2.6,
            "count": 0
           },
           {
            "bin_start": 2.6,
            "bin_end": 2.8,
            "count": 0
           },
           {
            "bin_start": 2.8,
            "bin_end": 3,
            "count": 0
           },
           {
            "bin_start": 3,
            "bin_end": 3.2,
            "count": 1
           },
           {
            "bin_start": 3.2,
            "bin_end": 3.4000000000000004,
            "count": 0
           },
           {
            "bin_start": 3.4000000000000004,
            "bin_end": 3.6,
            "count": 0
           },
           {
            "bin_start": 3.6,
            "bin_end": 3.8,
            "count": 0
           },
           {
            "bin_start": 3.8,
            "bin_end": 4,
            "count": 1
           }
          ]
         }
        },
        {
         "name": "Region",
         "dtype": "int64",
         "stats": {
          "unique_count": 2,
          "nan_count": 0,
          "min": "1",
          "max": "2",
          "histogram": [
           {
            "bin_start": 1,
            "bin_end": 1.1,
            "count": 4
           },
           {
            "bin_start": 1.1,
            "bin_end": 1.2,
            "count": 0
           },
           {
            "bin_start": 1.2,
            "bin_end": 1.3,
            "count": 0
           },
           {
            "bin_start": 1.3,
            "bin_end": 1.4,
            "count": 0
           },
           {
            "bin_start": 1.4,
            "bin_end": 1.5,
            "count": 0
           },
           {
            "bin_start": 1.5,
            "bin_end": 1.6,
            "count": 0
           },
           {
            "bin_start": 1.6,
            "bin_end": 1.7000000000000002,
            "count": 0
           },
           {
            "bin_start": 1.7000000000000002,
            "bin_end": 1.8,
            "count": 0
           },
           {
            "bin_start": 1.8,
            "bin_end": 1.9,
            "count": 0
           },
           {
            "bin_start": 1.9,
            "bin_end": 2,
            "count": 1
           }
          ]
         }
        },
        {
         "name": "TrafficType",
         "dtype": "int64",
         "stats": {
          "unique_count": 3,
          "nan_count": 0,
          "min": "2",
          "max": "4",
          "histogram": [
           {
            "bin_start": 2,
            "bin_end": 2.2,
            "count": 2
           },
           {
            "bin_start": 2.2,
            "bin_end": 2.4,
            "count": 0
           },
           {
            "bin_start": 2.4,
            "bin_end": 2.6,
            "count": 0
           },
           {
            "bin_start": 2.6,
            "bin_end": 2.8,
            "count": 0
           },
           {
            "bin_start": 2.8,
            "bin_end": 3,
            "count": 0
           },
           {
            "bin_start": 3,
            "bin_end": 3.2,
            "count": 2
           },
           {
            "bin_start": 3.2,
            "bin_end": 3.4000000000000004,
            "count": 0
           },
           {
            "bin_start": 3.4000000000000004,
            "bin_end": 3.6,
            "count": 0
           },
           {
            "bin_start": 3.6,
            "bin_end": 3.8,
            "count": 0
           },
           {
            "bin_start": 3.8,
            "bin_end": 4,
            "count": 1
           }
          ]
         }
        },
        {
         "name": "VisitorType",
         "dtype": "object",
         "stats": {
          "unique_count": 1,
          "nan_count": 0,
          "categories": [
           {
            "name": "Returning_Visitor",
            "count": 5
           }
          ]
         }
        },
        {
         "name": "Weekend",
         "dtype": "bool",
         "stats": {
          "unique_count": 2,
          "nan_count": 0,
          "categories": [
           {
            "name": "False",
            "count": 4
           },
           {
            "name": "True",
            "count": 1
           }
          ]
         }
        },
        {
         "name": "Revenue",
         "dtype": "bool",
         "stats": {
          "unique_count": 1,
          "nan_count": 0,
          "categories": [
           {
            "name": "False",
            "count": 5
           }
          ]
         }
        },
        {
         "name": "bounce_exit",
         "dtype": "float64",
         "stats": {
          "unique_count": 5,
          "nan_count": 0,
          "min": "-0.6760209083427556",
          "max": "1.8284349830912674",
          "histogram": [
           {
            "bin_start": -0.6760209083427556,
            "bin_end": -0.4255753191993533,
            "count": 1
           },
           {
            "bin_start": -0.4255753191993533,
            "bin_end": -0.175129730055951,
            "count": 0
           },
           {
            "bin_start": -0.175129730055951,
            "bin_end": 0.07531585908745131,
            "count": 0
           },
           {
            "bin_start": 0.07531585908745131,
            "bin_end": 0.3257614482308536,
            "count": 0
           },
           {
            "bin_start": 0.3257614482308536,
            "bin_end": 0.5762070373742559,
            "count": 1
           },
           {
            "bin_start": 0.5762070373742559,
            "bin_end": 0.8266526265176583,
            "count": 0
           },
           {
            "bin_start": 0.8266526265176583,
            "bin_end": 1.0770982156610605,
            "count": 0
           },
           {
            "bin_start": 1.0770982156610605,
            "bin_end": 1.327543804804463,
            "count": 0
           },
           {
            "bin_start": 1.327543804804463,
            "bin_end": 1.5779893939478655,
            "count": 1
           },
           {
            "bin_start": 1.5779893939478655,
            "bin_end": 1.8284349830912674,
            "count": 2
           }
          ]
         }
        },
        {
         "name": "_deepnote_index_column",
         "dtype": "int64"
        }
       ],
       "rows_top": [
        {
         "Administrative": 0,
         "Administrative_Duration": 0,
         "Informational": 0,
         "Informational_Duration": 0,
         "ProductRelated": 2,
         "ProductRelated_Duration": 64,
         "BounceRates": -0.6462661202144558,
         "ExitRates": 3.2320636712195308,
         "PageValues": 0,
         "SpecialDay": 0,
         "Month": "Feb",
         "OperatingSystems": 2,
         "Browser": 2,
         "Region": 1,
         "TrafficType": 2,
         "VisitorType": "Returning_Visitor",
         "Weekend": false,
         "Revenue": false,
         "bounce_exit": 1.8284349830912674,
         "_deepnote_index_column": 1
        },
        {
         "Administrative": 0,
         "Administrative_Duration": 0,
         "Informational": 0,
         "Informational_Duration": 0,
         "ProductRelated": 10,
         "ProductRelated_Duration": 627.5,
         "BounceRates": 1.1260758017521992,
         "ExitRates": 0.9551694354191856,
         "PageValues": 0,
         "SpecialDay": 0,
         "Month": "Feb",
         "OperatingSystems": 3,
         "Browser": 3,
         "Region": 1,
         "TrafficType": 4,
         "VisitorType": "Returning_Visitor",
         "Weekend": true,
         "Revenue": false,
         "bounce_exit": 1.4716626205160925,
         "_deepnote_index_column": 4
        },
        {
         "Administrative": 0,
         "Administrative_Duration": 0,
         "Informational": 0,
         "Informational_Duration": 0,
         "ProductRelated": 19,
         "ProductRelated_Duration": 154.2166667,
         "BounceRates": 0.7529512145856707,
         "ExitRates": -0.20325041656588883,
         "PageValues": 0,
         "SpecialDay": 0,
         "Month": "Feb",
         "OperatingSystems": 2,
         "Browser": 2,
         "Region": 1,
         "TrafficType": 3,
         "VisitorType": "Returning_Visitor",
         "Weekend": false,
         "Revenue": false,
         "bounce_exit": 0.38869716190344505,
         "_deepnote_index_column": 5
        },
        {
         "Administrative": 0,
         "Administrative_Duration": 0,
         "Informational": 0,
         "Informational_Duration": 0,
         "ProductRelated": 2,
         "ProductRelated_Duration": 37,
         "BounceRates": -0.6462661202144558,
         "ExitRates": 3.2320636712195308,
         "PageValues": 0,
         "SpecialDay": 0.8,
         "Month": "Feb",
         "OperatingSystems": 2,
         "Browser": 2,
         "Region": 2,
         "TrafficType": 3,
         "VisitorType": "Returning_Visitor",
         "Weekend": false,
         "Revenue": false,
         "bounce_exit": 1.8284349830912576,
         "_deepnote_index_column": 8
        },
        {
         "Administrative": 0,
         "Administrative_Duration": 0,
         "Informational": 0,
         "Informational_Duration": 0,
         "ProductRelated": 3,
         "ProductRelated_Duration": 738,
         "BounceRates": -0.6462661202144558,
         "ExitRates": -0.3097718168116472,
         "PageValues": 0,
         "SpecialDay": 0.4,
         "Month": "Feb",
         "OperatingSystems": 2,
         "Browser": 4,
         "Region": 1,
         "TrafficType": 2,
         "VisitorType": "Returning_Visitor",
         "Weekend": false,
         "Revenue": false,
         "bounce_exit": -0.6760209083427556,
         "_deepnote_index_column": 9
        }
       ],
       "rows_bottom": null
      },
      "text/plain": "   Administrative  Administrative_Duration  Informational  \\\n1               0                      0.0              0   \n4               0                      0.0              0   \n5               0                      0.0              0   \n8               0                      0.0              0   \n9               0                      0.0              0   \n\n   Informational_Duration  ProductRelated  ProductRelated_Duration  \\\n1                     0.0               2                64.000000   \n4                     0.0              10               627.500000   \n5                     0.0              19               154.216667   \n8                     0.0               2                37.000000   \n9                     0.0               3               738.000000   \n\n   BounceRates  ExitRates  PageValues  SpecialDay Month  OperatingSystems  \\\n1    -0.646266   3.232064         0.0         0.0   Feb                 2   \n4     1.126076   0.955169         0.0         0.0   Feb                 3   \n5     0.752951  -0.203250         0.0         0.0   Feb                 2   \n8    -0.646266   3.232064         0.0         0.8   Feb                 2   \n9    -0.646266  -0.309772         0.0         0.4   Feb                 2   \n\n   Browser  Region  TrafficType        VisitorType  Weekend  Revenue  \\\n1        2       1            2  Returning_Visitor    False    False   \n4        3       1            4  Returning_Visitor     True    False   \n5        2       1            3  Returning_Visitor    False    False   \n8        2       2            3  Returning_Visitor    False    False   \n9        4       1            2  Returning_Visitor    False    False   \n\n   bounce_exit  \n1     1.828435  \n4     1.471663  \n5     0.388697  \n8     1.828435  \n9    -0.676021  ",
      "text/html": "<div>\n<style scoped>\n    .dataframe tbody tr th:only-of-type {\n        vertical-align: middle;\n    }\n\n    .dataframe tbody tr th {\n        vertical-align: top;\n    }\n\n    .dataframe thead th {\n        text-align: right;\n    }\n</style>\n<table border=\"1\" class=\"dataframe\">\n  <thead>\n    <tr style=\"text-align: right;\">\n      <th></th>\n      <th>Administrative</th>\n      <th>Administrative_Duration</th>\n      <th>Informational</th>\n      <th>Informational_Duration</th>\n      <th>ProductRelated</th>\n      <th>ProductRelated_Duration</th>\n      <th>BounceRates</th>\n      <th>ExitRates</th>\n      <th>PageValues</th>\n      <th>SpecialDay</th>\n      <th>Month</th>\n      <th>OperatingSystems</th>\n      <th>Browser</th>\n      <th>Region</th>\n      <th>TrafficType</th>\n      <th>VisitorType</th>\n      <th>Weekend</th>\n      <th>Revenue</th>\n      <th>bounce_exit</th>\n    </tr>\n  </thead>\n  <tbody>\n    <tr>\n      <th>1</th>\n      <td>0</td>\n      <td>0.0</td>\n      <td>0</td>\n      <td>0.0</td>\n      <td>2</td>\n      <td>64.000000</td>\n      <td>-0.646266</td>\n      <td>3.232064</td>\n      <td>0.0</td>\n      <td>0.0</td>\n      <td>Feb</td>\n      <td>2</td>\n      <td>2</td>\n      <td>1</td>\n      <td>2</td>\n      <td>Returning_Visitor</td>\n      <td>False</td>\n      <td>False</td>\n      <td>1.828435</td>\n    </tr>\n    <tr>\n      <th>4</th>\n      <td>0</td>\n      <td>0.0</td>\n      <td>0</td>\n      <td>0.0</td>\n      <td>10</td>\n      <td>627.500000</td>\n      <td>1.126076</td>\n      <td>0.955169</td>\n      <td>0.0</td>\n      <td>0.0</td>\n      <td>Feb</td>\n      <td>3</td>\n      <td>3</td>\n      <td>1</td>\n      <td>4</td>\n      <td>Returning_Visitor</td>\n      <td>True</td>\n      <td>False</td>\n      <td>1.471663</td>\n    </tr>\n    <tr>\n      <th>5</th>\n      <td>0</td>\n      <td>0.0</td>\n      <td>0</td>\n      <td>0.0</td>\n      <td>19</td>\n      <td>154.216667</td>\n      <td>0.752951</td>\n      <td>-0.203250</td>\n      <td>0.0</td>\n      <td>0.0</td>\n      <td>Feb</td>\n      <td>2</td>\n      <td>2</td>\n      <td>1</td>\n      <td>3</td>\n      <td>Returning_Visitor</td>\n      <td>False</td>\n      <td>False</td>\n      <td>0.388697</td>\n    </tr>\n    <tr>\n      <th>8</th>\n      <td>0</td>\n      <td>0.0</td>\n      <td>0</td>\n      <td>0.0</td>\n      <td>2</td>\n      <td>37.000000</td>\n      <td>-0.646266</td>\n      <td>3.232064</td>\n      <td>0.0</td>\n      <td>0.8</td>\n      <td>Feb</td>\n      <td>2</td>\n      <td>2</td>\n      <td>2</td>\n      <td>3</td>\n      <td>Returning_Visitor</td>\n      <td>False</td>\n      <td>False</td>\n      <td>1.828435</td>\n    </tr>\n    <tr>\n      <th>9</th>\n      <td>0</td>\n      <td>0.0</td>\n      <td>0</td>\n      <td>0.0</td>\n      <td>3</td>\n      <td>738.000000</td>\n      <td>-0.646266</td>\n      <td>-0.309772</td>\n      <td>0.0</td>\n      <td>0.4</td>\n      <td>Feb</td>\n      <td>2</td>\n      <td>4</td>\n      <td>1</td>\n      <td>2</td>\n      <td>Returning_Visitor</td>\n      <td>False</td>\n      <td>False</td>\n      <td>-0.676021</td>\n    </tr>\n  </tbody>\n</table>\n</div>"
     },
     "metadata": {}
    }
   ]
  },
  {
   "cell_type": "markdown",
   "source": "#### PCA for Administrative - Administrative Duration, Informational - Informational Duration,  Product Related - Product Related Duration\n",
   "metadata": {
    "tags": [],
    "cell_id": "00011-afe00d58-c12d-439c-8ba4-058fc4151fe0",
    "deepnote_cell_type": "markdown"
   }
  },
  {
   "cell_type": "code",
   "metadata": {
    "tags": [],
    "cell_id": "00008-ca686f42-46d5-4915-a006-4f3486591e9d",
    "deepnote_to_be_reexecuted": false,
    "source_hash": "d107b03",
    "execution_start": 1620995724956,
    "execution_millis": 123,
    "deepnote_cell_type": "code"
   },
   "source": "#df[[\"Administrative\",\"Administrative_Duration\"]]=standard.fit_transform(df[[\"Administrative\",\"Administrative_Duration\"]])\n#df[[\"Informational\",\"Informational_Duration\"]]=standard.fit_transform(df[[\"Informational\",\"Informational_Duration\"]])\n#df[[\"ProductRelated\",\"ProductRelated_Duration\"]]=standard.fit_transform(df[[\"ProductRelated\",\"ProductRelated_Duration\"]])\n\ndf[\"Administ_Dur\"]= pca.fit_transform(df[[\"Administrative\",\"Administrative_Duration\"]])\ndf=df.drop([\"Administrative\",\"Administrative_Duration\"],axis=1)\n\n\ndf[\"Informational_Dur\"]= pca.fit_transform(df[[\"Informational\",\"Informational_Duration\"]])\ndf=df.drop([\"Informational\",\"Informational_Duration\"],axis=1)\n\ndf[\"ProductRelated_Dur\"]= pca.fit_transform(df[[\"ProductRelated\",\"ProductRelated_Duration\"]])\ndf=df.drop([\"ProductRelated\",\"ProductRelated_Duration\"],axis=1)",
   "execution_count": null,
   "outputs": []
  },
  {
   "cell_type": "code",
   "metadata": {
    "tags": [],
    "cell_id": "00004-72152c94-82c6-42c0-b73c-5ae5e585e332",
    "deepnote_to_be_reexecuted": false,
    "source_hash": "6eecc9d4",
    "execution_start": 1620995725793,
    "execution_millis": 47,
    "deepnote_cell_type": "code"
   },
   "source": "cat_vars = [ \"Month\",\"OperatingSystems\",\n    \"Browser\", \"Region\", \"TrafficType\",'VisitorType',\"Weekend\"]\nnum_vars = [\"Administ_Dur\",\"Informational_Dur\",\"ProductRelated_Dur\",\"bounce_exit\",\n    \"PageValues\",\"SpecialDay\"]\n\n\n#cat_vars = [ \"Month\",\"OperatingSystems\",\n#    \"Browser\", \"Region\",'VisitorType',\"Weekend\"]\n#num_vars = [\"Administ_Dur\",\"Informational_Dur\",\"ProductRelated_Dur\",\"bounce_exit\",\n#    \"SpecialDay\"]\n\n\nx=df[cat_vars+num_vars]\ny=df['Revenue'].map({True:1, False:0})\nlen(num_vars), len(cat_vars)+1\n#It must be 10 num , 8 cat",
   "execution_count": null,
   "outputs": [
    {
     "output_type": "execute_result",
     "execution_count": 139,
     "data": {
      "text/plain": "(5, 7)"
     },
     "metadata": {}
    }
   ]
  },
  {
   "cell_type": "code",
   "metadata": {
    "tags": [],
    "cell_id": "00005-706e4134-8195-417b-9420-a3e33a06adfb",
    "deepnote_to_be_reexecuted": false,
    "source_hash": "d14e4193",
    "execution_start": 1620995726533,
    "execution_millis": 18,
    "deepnote_cell_type": "code"
   },
   "source": "cat_4_tree_Models = pipeline.Pipeline(steps=[\n    ('one hot', preprocessing.OrdinalEncoder(handle_unknown='use_encoded_value',unknown_value=45654))])\n\n\nnum_4_tree_Models=pipeline.Pipeline(steps=[\n    ((\"quantile transformer\",preprocessing.QuantileTransformer(n_quantiles=100, random_state=0,\n    output_distribution='normal')))])\n\n\n\ntree_prepro=compose.ColumnTransformer(transformers=[\n    (\"categorical\",cat_4_tree_Models,cat_vars),\n    (\"numerical\",num_4_tree_Models,num_vars)]) \n\ntree_prepro",
   "execution_count": null,
   "outputs": [
    {
     "output_type": "execute_result",
     "execution_count": 140,
     "data": {
      "text/plain": "ColumnTransformer(transformers=[('categorical',\n                                 Pipeline(steps=[('one hot',\n                                                  OrdinalEncoder(handle_unknown='use_encoded_value',\n                                                                 unknown_value=45654))]),\n                                 ['Month', 'OperatingSystems', 'Browser',\n                                  'Region', 'VisitorType', 'Weekend']),\n                                ('numerical',\n                                 Pipeline(steps=[('quantile transformer',\n                                                  QuantileTransformer(n_quantiles=100,\n                                                                      output_distribution='normal',\n                                                                      random_state=0))]),\n                                 ['Administ_Dur', 'Informational_Dur',\n                                  'ProductRelated_Dur', 'bounce_exit',\n                                  'SpecialDay'])])",
      "text/html": "<style>#sk-300d3dc1-8c20-4895-8ece-e070628e4442 {color: black;background-color: white;}#sk-300d3dc1-8c20-4895-8ece-e070628e4442 pre{padding: 0;}#sk-300d3dc1-8c20-4895-8ece-e070628e4442 div.sk-toggleable {background-color: white;}#sk-300d3dc1-8c20-4895-8ece-e070628e4442 label.sk-toggleable__label {cursor: pointer;display: block;width: 100%;margin-bottom: 0;padding: 0.2em 0.3em;box-sizing: border-box;text-align: center;}#sk-300d3dc1-8c20-4895-8ece-e070628e4442 div.sk-toggleable__content {max-height: 0;max-width: 0;overflow: hidden;text-align: left;background-color: #f0f8ff;}#sk-300d3dc1-8c20-4895-8ece-e070628e4442 div.sk-toggleable__content pre {margin: 0.2em;color: black;border-radius: 0.25em;background-color: #f0f8ff;}#sk-300d3dc1-8c20-4895-8ece-e070628e4442 input.sk-toggleable__control:checked~div.sk-toggleable__content {max-height: 200px;max-width: 100%;overflow: auto;}#sk-300d3dc1-8c20-4895-8ece-e070628e4442 div.sk-estimator input.sk-toggleable__control:checked~label.sk-toggleable__label {background-color: #d4ebff;}#sk-300d3dc1-8c20-4895-8ece-e070628e4442 div.sk-label input.sk-toggleable__control:checked~label.sk-toggleable__label {background-color: #d4ebff;}#sk-300d3dc1-8c20-4895-8ece-e070628e4442 input.sk-hidden--visually {border: 0;clip: rect(1px 1px 1px 1px);clip: rect(1px, 1px, 1px, 1px);height: 1px;margin: -1px;overflow: hidden;padding: 0;position: absolute;width: 1px;}#sk-300d3dc1-8c20-4895-8ece-e070628e4442 div.sk-estimator {font-family: monospace;background-color: #f0f8ff;margin: 0.25em 0.25em;border: 1px dotted black;border-radius: 0.25em;box-sizing: border-box;}#sk-300d3dc1-8c20-4895-8ece-e070628e4442 div.sk-estimator:hover {background-color: #d4ebff;}#sk-300d3dc1-8c20-4895-8ece-e070628e4442 div.sk-parallel-item::after {content: \"\";width: 100%;border-bottom: 1px solid gray;flex-grow: 1;}#sk-300d3dc1-8c20-4895-8ece-e070628e4442 div.sk-label:hover label.sk-toggleable__label {background-color: #d4ebff;}#sk-300d3dc1-8c20-4895-8ece-e070628e4442 div.sk-serial::before {content: \"\";position: absolute;border-left: 1px solid gray;box-sizing: border-box;top: 2em;bottom: 0;left: 50%;}#sk-300d3dc1-8c20-4895-8ece-e070628e4442 div.sk-serial {display: flex;flex-direction: column;align-items: center;background-color: white;}#sk-300d3dc1-8c20-4895-8ece-e070628e4442 div.sk-item {z-index: 1;}#sk-300d3dc1-8c20-4895-8ece-e070628e4442 div.sk-parallel {display: flex;align-items: stretch;justify-content: center;background-color: white;}#sk-300d3dc1-8c20-4895-8ece-e070628e4442 div.sk-parallel-item {display: flex;flex-direction: column;position: relative;background-color: white;}#sk-300d3dc1-8c20-4895-8ece-e070628e4442 div.sk-parallel-item:first-child::after {align-self: flex-end;width: 50%;}#sk-300d3dc1-8c20-4895-8ece-e070628e4442 div.sk-parallel-item:last-child::after {align-self: flex-start;width: 50%;}#sk-300d3dc1-8c20-4895-8ece-e070628e4442 div.sk-parallel-item:only-child::after {width: 0;}#sk-300d3dc1-8c20-4895-8ece-e070628e4442 div.sk-dashed-wrapped {border: 1px dashed gray;margin: 0.2em;box-sizing: border-box;padding-bottom: 0.1em;background-color: white;position: relative;}#sk-300d3dc1-8c20-4895-8ece-e070628e4442 div.sk-label label {font-family: monospace;font-weight: bold;background-color: white;display: inline-block;line-height: 1.2em;}#sk-300d3dc1-8c20-4895-8ece-e070628e4442 div.sk-label-container {position: relative;z-index: 2;text-align: center;}#sk-300d3dc1-8c20-4895-8ece-e070628e4442 div.sk-container {display: inline-block;position: relative;}</style><div id=\"sk-300d3dc1-8c20-4895-8ece-e070628e4442\" class\"sk-top-container\"><div class=\"sk-container\"><div class=\"sk-item sk-dashed-wrapped\"><div class=\"sk-label-container\"><div class=\"sk-label sk-toggleable\"><input class=\"sk-toggleable__control sk-hidden--visually\" id=\"2bc5a267-da92-40a8-b00a-a3564308673d\" type=\"checkbox\" ><label class=\"sk-toggleable__label\" for=\"2bc5a267-da92-40a8-b00a-a3564308673d\">ColumnTransformer</label><div class=\"sk-toggleable__content\"><pre>ColumnTransformer(transformers=[('categorical',\n                                 Pipeline(steps=[('one hot',\n                                                  OrdinalEncoder(handle_unknown='use_encoded_value',\n                                                                 unknown_value=45654))]),\n                                 ['Month', 'OperatingSystems', 'Browser',\n                                  'Region', 'VisitorType', 'Weekend']),\n                                ('numerical',\n                                 Pipeline(steps=[('quantile transformer',\n                                                  QuantileTransformer(n_quantiles=100,\n                                                                      output_distribution='normal',\n                                                                      random_state=0))]),\n                                 ['Administ_Dur', 'Informational_Dur',\n                                  'ProductRelated_Dur', 'bounce_exit',\n                                  'SpecialDay'])])</pre></div></div></div><div class=\"sk-parallel\"><div class=\"sk-parallel-item\"><div class=\"sk-item\"><div class=\"sk-label-container\"><div class=\"sk-label sk-toggleable\"><input class=\"sk-toggleable__control sk-hidden--visually\" id=\"a974acd6-88cc-4046-9e6a-cc36ad347a47\" type=\"checkbox\" ><label class=\"sk-toggleable__label\" for=\"a974acd6-88cc-4046-9e6a-cc36ad347a47\">categorical</label><div class=\"sk-toggleable__content\"><pre>['Month', 'OperatingSystems', 'Browser', 'Region', 'VisitorType', 'Weekend']</pre></div></div></div><div class=\"sk-serial\"><div class=\"sk-item\"><div class=\"sk-serial\"><div class=\"sk-item\"><div class=\"sk-estimator sk-toggleable\"><input class=\"sk-toggleable__control sk-hidden--visually\" id=\"d80e96ea-0ab3-4534-9543-044eeb11e647\" type=\"checkbox\" ><label class=\"sk-toggleable__label\" for=\"d80e96ea-0ab3-4534-9543-044eeb11e647\">OrdinalEncoder</label><div class=\"sk-toggleable__content\"><pre>OrdinalEncoder(handle_unknown='use_encoded_value', unknown_value=45654)</pre></div></div></div></div></div></div></div></div><div class=\"sk-parallel-item\"><div class=\"sk-item\"><div class=\"sk-label-container\"><div class=\"sk-label sk-toggleable\"><input class=\"sk-toggleable__control sk-hidden--visually\" id=\"6b4a1fb0-78a0-43c4-94ae-9615b7b7abd2\" type=\"checkbox\" ><label class=\"sk-toggleable__label\" for=\"6b4a1fb0-78a0-43c4-94ae-9615b7b7abd2\">numerical</label><div class=\"sk-toggleable__content\"><pre>['Administ_Dur', 'Informational_Dur', 'ProductRelated_Dur', 'bounce_exit', 'SpecialDay']</pre></div></div></div><div class=\"sk-serial\"><div class=\"sk-item\"><div class=\"sk-serial\"><div class=\"sk-item\"><div class=\"sk-estimator sk-toggleable\"><input class=\"sk-toggleable__control sk-hidden--visually\" id=\"54c33be3-7aa7-444e-9bdd-b429368703ea\" type=\"checkbox\" ><label class=\"sk-toggleable__label\" for=\"54c33be3-7aa7-444e-9bdd-b429368703ea\">QuantileTransformer</label><div class=\"sk-toggleable__content\"><pre>QuantileTransformer(n_quantiles=100, output_distribution='normal',\n                    random_state=0)</pre></div></div></div></div></div></div></div></div></div></div></div></div>"
     },
     "metadata": {}
    }
   ]
  },
  {
   "cell_type": "code",
   "metadata": {
    "tags": [],
    "cell_id": "00010-43a26e13-649e-4b0a-bf16-669b18efb60c",
    "deepnote_to_be_reexecuted": false,
    "source_hash": "6e06fe5b",
    "execution_start": 1620995727366,
    "execution_millis": 9,
    "deepnote_cell_type": "code"
   },
   "source": "from sklearn.tree          import DecisionTreeClassifier\nfrom sklearn.ensemble      import RandomForestClassifier\nfrom sklearn.ensemble      import ExtraTreesClassifier\nfrom sklearn.ensemble      import AdaBoostClassifier\nfrom sklearn.ensemble      import GradientBoostingClassifier\nfrom sklearn.experimental  import enable_hist_gradient_boosting # Necesary for HistGradientBoostingClassifier\nfrom sklearn.ensemble      import HistGradientBoostingClassifier\nfrom xgboost               import XGBClassifier\nfrom lightgbm              import LGBMClassifier\nfrom catboost              import CatBoostClassifier\n\n",
   "execution_count": null,
   "outputs": []
  },
  {
   "cell_type": "code",
   "metadata": {
    "tags": [],
    "cell_id": "00010-2813ab4b-f37b-4100-94b4-c3849f98760d",
    "deepnote_to_be_reexecuted": false,
    "source_hash": "9587b439",
    "execution_start": 1620995728611,
    "execution_millis": 88,
    "deepnote_cell_type": "code"
   },
   "source": "# YOUR CODE HERE\ntree_pipelines={\n    \"Decision Tree\": DecisionTreeClassifier(),\n    \"Extra Trees\": ExtraTreesClassifier(),\n    \"Random Forest\": RandomForestClassifier(),\n    \"AdaBoost\": AdaBoostClassifier(),\n    \"Skl GBM\": GradientBoostingClassifier(),\n    \"Skl HistGBM\": GradientBoostingClassifier(),\n    \"XGBoost\": XGBClassifier(),\n    \"LightGBM\": LGBMClassifier(),\n    \"CatBoost\": CatBoostClassifier() \n    }\n\ntree_pipelines = {name: pipeline.make_pipeline(tree_prepro, model) for name, model in tree_pipelines.items()}\n\ntree_pipelines[\"Skl GBM\"]",
   "execution_count": null,
   "outputs": [
    {
     "output_type": "execute_result",
     "execution_count": 142,
     "data": {
      "text/plain": "Pipeline(steps=[('columntransformer',\n                 ColumnTransformer(transformers=[('categorical',\n                                                  Pipeline(steps=[('one hot',\n                                                                   OrdinalEncoder(handle_unknown='use_encoded_value',\n                                                                                  unknown_value=45654))]),\n                                                  ['Month', 'OperatingSystems',\n                                                   'Browser', 'Region',\n                                                   'VisitorType', 'Weekend']),\n                                                 ('numerical',\n                                                  Pipeline(steps=[('quantile '\n                                                                   'transformer',\n                                                                   QuantileTransformer(n_quantiles=100,\n                                                                                       output_distribution='normal',\n                                                                                       random_state=0))]),\n                                                  ['Administ_Dur',\n                                                   'Informational_Dur',\n                                                   'ProductRelated_Dur',\n                                                   'bounce_exit',\n                                                   'SpecialDay'])])),\n                ('gradientboostingclassifier', GradientBoostingClassifier())])",
      "text/html": "<style>#sk-94df5a77-33d8-48d7-87b9-ed4fb57ce55e {color: black;background-color: white;}#sk-94df5a77-33d8-48d7-87b9-ed4fb57ce55e pre{padding: 0;}#sk-94df5a77-33d8-48d7-87b9-ed4fb57ce55e div.sk-toggleable {background-color: white;}#sk-94df5a77-33d8-48d7-87b9-ed4fb57ce55e label.sk-toggleable__label {cursor: pointer;display: block;width: 100%;margin-bottom: 0;padding: 0.2em 0.3em;box-sizing: border-box;text-align: center;}#sk-94df5a77-33d8-48d7-87b9-ed4fb57ce55e div.sk-toggleable__content {max-height: 0;max-width: 0;overflow: hidden;text-align: left;background-color: #f0f8ff;}#sk-94df5a77-33d8-48d7-87b9-ed4fb57ce55e div.sk-toggleable__content pre {margin: 0.2em;color: black;border-radius: 0.25em;background-color: #f0f8ff;}#sk-94df5a77-33d8-48d7-87b9-ed4fb57ce55e input.sk-toggleable__control:checked~div.sk-toggleable__content {max-height: 200px;max-width: 100%;overflow: auto;}#sk-94df5a77-33d8-48d7-87b9-ed4fb57ce55e div.sk-estimator input.sk-toggleable__control:checked~label.sk-toggleable__label {background-color: #d4ebff;}#sk-94df5a77-33d8-48d7-87b9-ed4fb57ce55e div.sk-label input.sk-toggleable__control:checked~label.sk-toggleable__label {background-color: #d4ebff;}#sk-94df5a77-33d8-48d7-87b9-ed4fb57ce55e input.sk-hidden--visually {border: 0;clip: rect(1px 1px 1px 1px);clip: rect(1px, 1px, 1px, 1px);height: 1px;margin: -1px;overflow: hidden;padding: 0;position: absolute;width: 1px;}#sk-94df5a77-33d8-48d7-87b9-ed4fb57ce55e div.sk-estimator {font-family: monospace;background-color: #f0f8ff;margin: 0.25em 0.25em;border: 1px dotted black;border-radius: 0.25em;box-sizing: border-box;}#sk-94df5a77-33d8-48d7-87b9-ed4fb57ce55e div.sk-estimator:hover {background-color: #d4ebff;}#sk-94df5a77-33d8-48d7-87b9-ed4fb57ce55e div.sk-parallel-item::after {content: \"\";width: 100%;border-bottom: 1px solid gray;flex-grow: 1;}#sk-94df5a77-33d8-48d7-87b9-ed4fb57ce55e div.sk-label:hover label.sk-toggleable__label {background-color: #d4ebff;}#sk-94df5a77-33d8-48d7-87b9-ed4fb57ce55e div.sk-serial::before {content: \"\";position: absolute;border-left: 1px solid gray;box-sizing: border-box;top: 2em;bottom: 0;left: 50%;}#sk-94df5a77-33d8-48d7-87b9-ed4fb57ce55e div.sk-serial {display: flex;flex-direction: column;align-items: center;background-color: white;}#sk-94df5a77-33d8-48d7-87b9-ed4fb57ce55e div.sk-item {z-index: 1;}#sk-94df5a77-33d8-48d7-87b9-ed4fb57ce55e div.sk-parallel {display: flex;align-items: stretch;justify-content: center;background-color: white;}#sk-94df5a77-33d8-48d7-87b9-ed4fb57ce55e div.sk-parallel-item {display: flex;flex-direction: column;position: relative;background-color: white;}#sk-94df5a77-33d8-48d7-87b9-ed4fb57ce55e div.sk-parallel-item:first-child::after {align-self: flex-end;width: 50%;}#sk-94df5a77-33d8-48d7-87b9-ed4fb57ce55e div.sk-parallel-item:last-child::after {align-self: flex-start;width: 50%;}#sk-94df5a77-33d8-48d7-87b9-ed4fb57ce55e div.sk-parallel-item:only-child::after {width: 0;}#sk-94df5a77-33d8-48d7-87b9-ed4fb57ce55e div.sk-dashed-wrapped {border: 1px dashed gray;margin: 0.2em;box-sizing: border-box;padding-bottom: 0.1em;background-color: white;position: relative;}#sk-94df5a77-33d8-48d7-87b9-ed4fb57ce55e div.sk-label label {font-family: monospace;font-weight: bold;background-color: white;display: inline-block;line-height: 1.2em;}#sk-94df5a77-33d8-48d7-87b9-ed4fb57ce55e div.sk-label-container {position: relative;z-index: 2;text-align: center;}#sk-94df5a77-33d8-48d7-87b9-ed4fb57ce55e div.sk-container {display: inline-block;position: relative;}</style><div id=\"sk-94df5a77-33d8-48d7-87b9-ed4fb57ce55e\" class\"sk-top-container\"><div class=\"sk-container\"><div class=\"sk-item sk-dashed-wrapped\"><div class=\"sk-label-container\"><div class=\"sk-label sk-toggleable\"><input class=\"sk-toggleable__control sk-hidden--visually\" id=\"285b635a-7a7b-4ff6-9cc6-b614f5ccbbd1\" type=\"checkbox\" ><label class=\"sk-toggleable__label\" for=\"285b635a-7a7b-4ff6-9cc6-b614f5ccbbd1\">Pipeline</label><div class=\"sk-toggleable__content\"><pre>Pipeline(steps=[('columntransformer',\n                 ColumnTransformer(transformers=[('categorical',\n                                                  Pipeline(steps=[('one hot',\n                                                                   OrdinalEncoder(handle_unknown='use_encoded_value',\n                                                                                  unknown_value=45654))]),\n                                                  ['Month', 'OperatingSystems',\n                                                   'Browser', 'Region',\n                                                   'VisitorType', 'Weekend']),\n                                                 ('numerical',\n                                                  Pipeline(steps=[('quantile '\n                                                                   'transformer',\n                                                                   QuantileTransformer(n_quantiles=100,\n                                                                                       output_distribution='normal',\n                                                                                       random_state=0))]),\n                                                  ['Administ_Dur',\n                                                   'Informational_Dur',\n                                                   'ProductRelated_Dur',\n                                                   'bounce_exit',\n                                                   'SpecialDay'])])),\n                ('gradientboostingclassifier', GradientBoostingClassifier())])</pre></div></div></div><div class=\"sk-serial\"><div class=\"sk-item sk-dashed-wrapped\"><div class=\"sk-label-container\"><div class=\"sk-label sk-toggleable\"><input class=\"sk-toggleable__control sk-hidden--visually\" id=\"520016c3-d3d6-44b9-91d9-27d8128f2c04\" type=\"checkbox\" ><label class=\"sk-toggleable__label\" for=\"520016c3-d3d6-44b9-91d9-27d8128f2c04\">columntransformer: ColumnTransformer</label><div class=\"sk-toggleable__content\"><pre>ColumnTransformer(transformers=[('categorical',\n                                 Pipeline(steps=[('one hot',\n                                                  OrdinalEncoder(handle_unknown='use_encoded_value',\n                                                                 unknown_value=45654))]),\n                                 ['Month', 'OperatingSystems', 'Browser',\n                                  'Region', 'VisitorType', 'Weekend']),\n                                ('numerical',\n                                 Pipeline(steps=[('quantile transformer',\n                                                  QuantileTransformer(n_quantiles=100,\n                                                                      output_distribution='normal',\n                                                                      random_state=0))]),\n                                 ['Administ_Dur', 'Informational_Dur',\n                                  'ProductRelated_Dur', 'bounce_exit',\n                                  'SpecialDay'])])</pre></div></div></div><div class=\"sk-parallel\"><div class=\"sk-parallel-item\"><div class=\"sk-item\"><div class=\"sk-label-container\"><div class=\"sk-label sk-toggleable\"><input class=\"sk-toggleable__control sk-hidden--visually\" id=\"26fdd3b2-9fc5-415e-bcb9-6b0cbc46adf7\" type=\"checkbox\" ><label class=\"sk-toggleable__label\" for=\"26fdd3b2-9fc5-415e-bcb9-6b0cbc46adf7\">categorical</label><div class=\"sk-toggleable__content\"><pre>['Month', 'OperatingSystems', 'Browser', 'Region', 'VisitorType', 'Weekend']</pre></div></div></div><div class=\"sk-serial\"><div class=\"sk-item\"><div class=\"sk-serial\"><div class=\"sk-item\"><div class=\"sk-estimator sk-toggleable\"><input class=\"sk-toggleable__control sk-hidden--visually\" id=\"956f5224-5de2-4c0d-994e-f9e9e2251601\" type=\"checkbox\" ><label class=\"sk-toggleable__label\" for=\"956f5224-5de2-4c0d-994e-f9e9e2251601\">OrdinalEncoder</label><div class=\"sk-toggleable__content\"><pre>OrdinalEncoder(handle_unknown='use_encoded_value', unknown_value=45654)</pre></div></div></div></div></div></div></div></div><div class=\"sk-parallel-item\"><div class=\"sk-item\"><div class=\"sk-label-container\"><div class=\"sk-label sk-toggleable\"><input class=\"sk-toggleable__control sk-hidden--visually\" id=\"1d67e547-2626-4499-9f89-8401a5958612\" type=\"checkbox\" ><label class=\"sk-toggleable__label\" for=\"1d67e547-2626-4499-9f89-8401a5958612\">numerical</label><div class=\"sk-toggleable__content\"><pre>['Administ_Dur', 'Informational_Dur', 'ProductRelated_Dur', 'bounce_exit', 'SpecialDay']</pre></div></div></div><div class=\"sk-serial\"><div class=\"sk-item\"><div class=\"sk-serial\"><div class=\"sk-item\"><div class=\"sk-estimator sk-toggleable\"><input class=\"sk-toggleable__control sk-hidden--visually\" id=\"9f7fec71-3b68-47ea-8c75-c4b8a199b7b3\" type=\"checkbox\" ><label class=\"sk-toggleable__label\" for=\"9f7fec71-3b68-47ea-8c75-c4b8a199b7b3\">QuantileTransformer</label><div class=\"sk-toggleable__content\"><pre>QuantileTransformer(n_quantiles=100, output_distribution='normal',\n                    random_state=0)</pre></div></div></div></div></div></div></div></div></div></div><div class=\"sk-item\"><div class=\"sk-estimator sk-toggleable\"><input class=\"sk-toggleable__control sk-hidden--visually\" id=\"0cf77cb3-c8ef-48df-94e3-b99864d9e53e\" type=\"checkbox\" ><label class=\"sk-toggleable__label\" for=\"0cf77cb3-c8ef-48df-94e3-b99864d9e53e\">GradientBoostingClassifier</label><div class=\"sk-toggleable__content\"><pre>GradientBoostingClassifier()</pre></div></div></div></div></div></div></div>"
     },
     "metadata": {}
    }
   ]
  },
  {
   "cell_type": "code",
   "metadata": {
    "tags": [],
    "cell_id": "00012-05d96067-3dee-4a63-8804-dc3195de7a0d",
    "deepnote_to_be_reexecuted": false,
    "source_hash": "769f3328",
    "execution_start": 1620995729357,
    "execution_millis": 528117,
    "deepnote_cell_type": "code"
   },
   "source": "\nfrom sklearn.model_selection import cross_val_predict\n\nskf = model_selection.StratifiedKFold(n_splits=10, random_state=0, shuffle=True)\n\n\n\n\nresults = pd.DataFrame({'Model': [], 'Accuracy': [], 'Bal Acc.': [], 'Time': []})\n\n\n\n\n\nfor model_name, model in tree_pipelines.items():\n    start_time = time.time()\n\n\n        \n    # TRAIN AND GET PREDICTIONS USING cross_val_predict() and x,y\n    pred = cross_val_predict(model, x,y, cv=skf)\n\n    total_time = time.time() - start_time\n\n    results = results.append({\"Model\":    model_name,\n                              \"Accuracy\": metrics.accuracy_score(y, pred)*100,\n                              \"Bal Acc.\": metrics.balanced_accuracy_score(y, pred)*100,\n                              \"Time\":     total_time},\n                              ignore_index=True)\n                              \n                              \n\n\n\n\nresults_ord = results.sort_values(by=['Accuracy'], ascending=False, ignore_index=True)\nresults_ord.index += 1 \nresults_ord.style.bar(subset=['Accuracy', 'Bal Acc.'], vmin=0, vmax=100, color='#5fba7d')\n",
   "execution_count": null,
   "outputs": [
    {
     "name": "stderr",
     "text": "1:\tlearn: 0.6587343\ttotal: 48.4ms\tremaining: 24.2s\n2:\tlearn: 0.6434144\ttotal: 59.9ms\tremaining: 19.9s\n3:\tlearn: 0.6286244\ttotal: 71.3ms\tremaining: 17.7s\n4:\tlearn: 0.6147319\ttotal: 87.2ms\tremaining: 17.4s\n5:\tlearn: 0.6029098\ttotal: 96.1ms\tremaining: 15.9s\n6:\tlearn: 0.5916594\ttotal: 138ms\tremaining: 19.6s\n7:\tlearn: 0.5814013\ttotal: 154ms\tremaining: 19.1s\n8:\tlearn: 0.5706846\ttotal: 163ms\tremaining: 18s\n9:\tlearn: 0.5615183\ttotal: 174ms\tremaining: 17.2s\n10:\tlearn: 0.5511726\ttotal: 190ms\tremaining: 17.1s\n11:\tlearn: 0.5430755\ttotal: 207ms\tremaining: 17s\n12:\tlearn: 0.5354000\ttotal: 244ms\tremaining: 18.5s\n13:\tlearn: 0.5268692\ttotal: 255ms\tremaining: 18s\n14:\tlearn: 0.5193550\ttotal: 266ms\tremaining: 17.5s\n15:\tlearn: 0.5130483\ttotal: 278ms\tremaining: 17.1s\n16:\tlearn: 0.5072466\ttotal: 289ms\tremaining: 16.7s\n17:\tlearn: 0.5017396\ttotal: 331ms\tremaining: 18s\n18:\tlearn: 0.4953302\ttotal: 347ms\tremaining: 17.9s\n19:\tlearn: 0.4911581\ttotal: 361ms\tremaining: 17.7s\n20:\tlearn: 0.4861970\ttotal: 371ms\tremaining: 17.3s\n21:\tlearn: 0.4814971\ttotal: 381ms\tremaining: 16.9s\n22:\tlearn: 0.4768422\ttotal: 396ms\tremaining: 16.8s\n23:\tlearn: 0.4720777\ttotal: 441ms\tremaining: 17.9s\n24:\tlearn: 0.4683041\ttotal: 455ms\tremaining: 17.8s\n25:\tlearn: 0.4646305\ttotal: 465ms\tremaining: 17.4s\n26:\tlearn: 0.4620035\ttotal: 474ms\tremaining: 17.1s\n27:\tlearn: 0.4583437\ttotal: 490ms\tremaining: 17s\n28:\tlearn: 0.4551047\ttotal: 532ms\tremaining: 17.8s\n29:\tlearn: 0.4518510\ttotal: 547ms\tremaining: 17.7s\n30:\tlearn: 0.4492418\ttotal: 558ms\tremaining: 17.4s\n31:\tlearn: 0.4465658\ttotal: 570ms\tremaining: 17.2s\n32:\tlearn: 0.4445340\ttotal: 592ms\tremaining: 17.3s\n33:\tlearn: 0.4429638\ttotal: 604ms\tremaining: 17.2s\n34:\tlearn: 0.4407646\ttotal: 639ms\tremaining: 17.6s\n35:\tlearn: 0.4381941\ttotal: 654ms\tremaining: 17.5s\n36:\tlearn: 0.4360609\ttotal: 672ms\tremaining: 17.5s\n37:\tlearn: 0.4341581\ttotal: 682ms\tremaining: 17.3s\n38:\tlearn: 0.4321987\ttotal: 691ms\tremaining: 17s\n39:\tlearn: 0.4301742\ttotal: 697ms\tremaining: 16.7s\n40:\tlearn: 0.4285755\ttotal: 703ms\tremaining: 16.5s\n41:\tlearn: 0.4270340\ttotal: 710ms\tremaining: 16.2s\n42:\tlearn: 0.4253333\ttotal: 722ms\tremaining: 16.1s\n43:\tlearn: 0.4239522\ttotal: 729ms\tremaining: 15.8s\n44:\tlearn: 0.4225603\ttotal: 736ms\tremaining: 15.6s\n45:\tlearn: 0.4214369\ttotal: 742ms\tremaining: 15.4s\n46:\tlearn: 0.4199476\ttotal: 749ms\tremaining: 15.2s\n47:\tlearn: 0.4187795\ttotal: 755ms\tremaining: 15s\n48:\tlearn: 0.4179478\ttotal: 762ms\tremaining: 14.8s\n49:\tlearn: 0.4167002\ttotal: 771ms\tremaining: 14.7s\n50:\tlearn: 0.4154068\ttotal: 778ms\tremaining: 14.5s\n51:\tlearn: 0.4145079\ttotal: 786ms\tremaining: 14.3s\n52:\tlearn: 0.4135349\ttotal: 792ms\tremaining: 14.2s\n53:\tlearn: 0.4126174\ttotal: 799ms\tremaining: 14s\n54:\tlearn: 0.4116850\ttotal: 805ms\tremaining: 13.8s\n55:\tlearn: 0.4111607\ttotal: 825ms\tremaining: 13.9s\n56:\tlearn: 0.4101525\ttotal: 836ms\tremaining: 13.8s\n57:\tlearn: 0.4091032\ttotal: 843ms\tremaining: 13.7s\n58:\tlearn: 0.4082603\ttotal: 849ms\tremaining: 13.5s\n59:\tlearn: 0.4073354\ttotal: 855ms\tremaining: 13.4s\n60:\tlearn: 0.4063501\ttotal: 864ms\tremaining: 13.3s\n61:\tlearn: 0.4053992\ttotal: 870ms\tremaining: 13.2s\n62:\tlearn: 0.4044580\ttotal: 876ms\tremaining: 13s\n63:\tlearn: 0.4037944\ttotal: 891ms\tremaining: 13s\n64:\tlearn: 0.4028966\ttotal: 901ms\tremaining: 13s\n65:\tlearn: 0.4023047\ttotal: 907ms\tremaining: 12.8s\n66:\tlearn: 0.4018660\ttotal: 923ms\tremaining: 12.8s\n67:\tlearn: 0.4010382\ttotal: 928ms\tremaining: 12.7s\n68:\tlearn: 0.4003952\ttotal: 946ms\tremaining: 12.8s\n69:\tlearn: 0.3999727\ttotal: 964ms\tremaining: 12.8s\n70:\tlearn: 0.3995127\ttotal: 977ms\tremaining: 12.8s\n71:\tlearn: 0.3990511\ttotal: 983ms\tremaining: 12.7s\n72:\tlearn: 0.3985498\ttotal: 989ms\tremaining: 12.6s\n73:\tlearn: 0.3979872\ttotal: 995ms\tremaining: 12.4s\n74:\tlearn: 0.3974112\ttotal: 1.01s\tremaining: 12.4s\n75:\tlearn: 0.3967931\ttotal: 1.01s\tremaining: 12.3s\n76:\tlearn: 0.3963605\ttotal: 1.02s\tremaining: 12.2s\n77:\tlearn: 0.3959732\ttotal: 1.02s\tremaining: 12.1s\n78:\tlearn: 0.3955334\ttotal: 1.03s\tremaining: 12s\n79:\tlearn: 0.3950723\ttotal: 1.04s\tremaining: 11.9s\n80:\tlearn: 0.3946747\ttotal: 1.04s\tremaining: 11.8s\n81:\tlearn: 0.3941425\ttotal: 1.05s\tremaining: 11.7s\n82:\tlearn: 0.3937949\ttotal: 1.05s\tremaining: 11.6s\n83:\tlearn: 0.3935254\ttotal: 1.06s\tremaining: 11.6s\n84:\tlearn: 0.3930454\ttotal: 1.06s\tremaining: 11.5s\n85:\tlearn: 0.3928124\ttotal: 1.07s\tremaining: 11.4s\n86:\tlearn: 0.3925305\ttotal: 1.08s\tremaining: 11.3s\n87:\tlearn: 0.3922735\ttotal: 1.1s\tremaining: 11.4s\n88:\tlearn: 0.3919347\ttotal: 1.11s\tremaining: 11.4s\n89:\tlearn: 0.3915746\ttotal: 1.12s\tremaining: 11.3s\n90:\tlearn: 0.3912798\ttotal: 1.14s\tremaining: 11.4s\n91:\tlearn: 0.3909083\ttotal: 1.15s\tremaining: 11.4s\n92:\tlearn: 0.3906030\ttotal: 1.17s\tremaining: 11.4s\n93:\tlearn: 0.3903740\ttotal: 1.2s\tremaining: 11.6s\n94:\tlearn: 0.3901772\ttotal: 1.22s\tremaining: 11.6s\n95:\tlearn: 0.3899478\ttotal: 1.23s\tremaining: 11.6s\n96:\tlearn: 0.3895116\ttotal: 1.24s\tremaining: 11.6s\n97:\tlearn: 0.3892223\ttotal: 1.26s\tremaining: 11.6s\n98:\tlearn: 0.3888642\ttotal: 1.27s\tremaining: 11.5s\n99:\tlearn: 0.3885777\ttotal: 1.3s\tremaining: 11.7s\n100:\tlearn: 0.3883477\ttotal: 1.32s\tremaining: 11.7s\n101:\tlearn: 0.3880261\ttotal: 1.33s\tremaining: 11.7s\n102:\tlearn: 0.3879240\ttotal: 1.34s\tremaining: 11.7s\n103:\tlearn: 0.3876775\ttotal: 1.35s\tremaining: 11.6s\n104:\tlearn: 0.3875228\ttotal: 1.36s\tremaining: 11.6s\n105:\tlearn: 0.3872901\ttotal: 1.41s\tremaining: 11.9s\n106:\tlearn: 0.3871055\ttotal: 1.43s\tremaining: 11.9s\n107:\tlearn: 0.3868976\ttotal: 1.44s\tremaining: 11.9s\n108:\tlearn: 0.3866710\ttotal: 1.47s\tremaining: 12s\n109:\tlearn: 0.3865426\ttotal: 1.49s\tremaining: 12.1s\n110:\tlearn: 0.3862423\ttotal: 1.51s\tremaining: 12.1s\n111:\tlearn: 0.3858948\ttotal: 1.52s\tremaining: 12s\n112:\tlearn: 0.3857174\ttotal: 1.52s\tremaining: 12s\n113:\tlearn: 0.3855356\ttotal: 1.53s\tremaining: 11.9s\n114:\tlearn: 0.3854047\ttotal: 1.53s\tremaining: 11.8s\n115:\tlearn: 0.3852437\ttotal: 1.54s\tremaining: 11.7s\n116:\tlearn: 0.3849688\ttotal: 1.55s\tremaining: 11.7s\n117:\tlearn: 0.3846704\ttotal: 1.55s\tremaining: 11.6s\n118:\tlearn: 0.3843754\ttotal: 1.56s\tremaining: 11.5s\n119:\tlearn: 0.3842319\ttotal: 1.56s\tremaining: 11.5s\n120:\tlearn: 0.3840096\ttotal: 1.57s\tremaining: 11.4s\n121:\tlearn: 0.3838419\ttotal: 1.6s\tremaining: 11.5s\n122:\tlearn: 0.3836200\ttotal: 1.6s\tremaining: 11.4s\n123:\tlearn: 0.3834496\ttotal: 1.61s\tremaining: 11.4s\n124:\tlearn: 0.3832169\ttotal: 1.62s\tremaining: 11.3s\n125:\tlearn: 0.3829737\ttotal: 1.62s\tremaining: 11.3s\n126:\tlearn: 0.3827728\ttotal: 1.63s\tremaining: 11.2s\n127:\tlearn: 0.3825989\ttotal: 1.63s\tremaining: 11.1s\n128:\tlearn: 0.3825280\ttotal: 1.64s\tremaining: 11.1s\n129:\tlearn: 0.3822726\ttotal: 1.65s\tremaining: 11s\n130:\tlearn: 0.3821327\ttotal: 1.65s\tremaining: 11s\n131:\tlearn: 0.3820125\ttotal: 1.66s\tremaining: 10.9s\n132:\tlearn: 0.3818173\ttotal: 1.66s\tremaining: 10.8s\n133:\tlearn: 0.3815943\ttotal: 1.67s\tremaining: 10.8s\n134:\tlearn: 0.3813237\ttotal: 1.7s\tremaining: 10.9s\n135:\tlearn: 0.3811661\ttotal: 1.72s\tremaining: 10.9s\n136:\tlearn: 0.3809636\ttotal: 1.73s\tremaining: 10.9s\n137:\tlearn: 0.3808451\ttotal: 1.74s\tremaining: 10.9s\n138:\tlearn: 0.3807022\ttotal: 1.75s\tremaining: 10.9s\n139:\tlearn: 0.3805679\ttotal: 1.77s\tremaining: 10.9s\n140:\tlearn: 0.3804125\ttotal: 1.78s\tremaining: 10.9s\n141:\tlearn: 0.3802249\ttotal: 1.79s\tremaining: 10.8s\n142:\tlearn: 0.3799977\ttotal: 1.8s\tremaining: 10.8s\n143:\tlearn: 0.3797677\ttotal: 1.81s\tremaining: 10.8s\n144:\tlearn: 0.3795539\ttotal: 1.82s\tremaining: 10.7s\n145:\tlearn: 0.3793337\ttotal: 1.82s\tremaining: 10.7s\n146:\tlearn: 0.3791946\ttotal: 1.83s\tremaining: 10.6s\n147:\tlearn: 0.3789587\ttotal: 1.84s\tremaining: 10.6s\n148:\tlearn: 0.3788170\ttotal: 1.84s\tremaining: 10.5s\n149:\tlearn: 0.3786095\ttotal: 1.85s\tremaining: 10.5s\n150:\tlearn: 0.3785183\ttotal: 1.85s\tremaining: 10.4s\n151:\tlearn: 0.3784323\ttotal: 1.86s\tremaining: 10.4s\n152:\tlearn: 0.3783188\ttotal: 1.86s\tremaining: 10.3s\n153:\tlearn: 0.3781696\ttotal: 1.89s\tremaining: 10.4s\n154:\tlearn: 0.3780258\ttotal: 1.9s\tremaining: 10.4s\n155:\tlearn: 0.3778148\ttotal: 1.91s\tremaining: 10.3s\n156:\tlearn: 0.3776641\ttotal: 1.91s\tremaining: 10.3s\n157:\tlearn: 0.3775059\ttotal: 1.92s\tremaining: 10.2s\n158:\tlearn: 0.3773987\ttotal: 1.93s\tremaining: 10.2s\n159:\tlearn: 0.3771577\ttotal: 1.93s\tremaining: 10.1s\n160:\tlearn: 0.3769900\ttotal: 1.94s\tremaining: 10.1s\n161:\tlearn: 0.3767949\ttotal: 1.94s\tremaining: 10.1s\n162:\tlearn: 0.3766383\ttotal: 1.95s\tremaining: 10s\n163:\tlearn: 0.3765328\ttotal: 1.95s\tremaining: 9.96s\n164:\tlearn: 0.3763057\ttotal: 1.96s\tremaining: 9.92s\n165:\tlearn: 0.3762033\ttotal: 1.99s\tremaining: 10s\n166:\tlearn: 0.3760054\ttotal: 2s\tremaining: 9.97s\n167:\tlearn: 0.3758552\ttotal: 2.01s\tremaining: 9.93s\n168:\tlearn: 0.3757630\ttotal: 2.01s\tremaining: 9.89s\n169:\tlearn: 0.3755746\ttotal: 2.02s\tremaining: 9.85s\n170:\tlearn: 0.3754401\ttotal: 2.02s\tremaining: 9.81s\n171:\tlearn: 0.3752930\ttotal: 2.03s\tremaining: 9.77s\n172:\tlearn: 0.3751129\ttotal: 2.04s\tremaining: 9.73s\n173:\tlearn: 0.3749827\ttotal: 2.04s\tremaining: 9.69s\n174:\tlearn: 0.3748293\ttotal: 2.05s\tremaining: 9.65s\n175:\tlearn: 0.3746283\ttotal: 2.05s\tremaining: 9.61s\n176:\tlearn: 0.3745199\ttotal: 2.06s\tremaining: 9.57s\n177:\tlearn: 0.3743925\ttotal: 2.09s\tremaining: 9.66s\n178:\tlearn: 0.3743082\ttotal: 2.11s\tremaining: 9.67s\n179:\tlearn: 0.3741781\ttotal: 2.12s\tremaining: 9.67s\n180:\tlearn: 0.3740488\ttotal: 2.13s\tremaining: 9.66s\n181:\tlearn: 0.3739195\ttotal: 2.15s\tremaining: 9.66s\n182:\tlearn: 0.3737258\ttotal: 2.16s\tremaining: 9.64s\n183:\tlearn: 0.3735981\ttotal: 2.19s\tremaining: 9.7s\n184:\tlearn: 0.3734581\ttotal: 2.19s\tremaining: 9.66s\n185:\tlearn: 0.3733844\ttotal: 2.2s\tremaining: 9.62s\n186:\tlearn: 0.3732785\ttotal: 2.21s\tremaining: 9.59s\n187:\tlearn: 0.3731442\ttotal: 2.21s\tremaining: 9.55s\n188:\tlearn: 0.3730506\ttotal: 2.22s\tremaining: 9.51s\n189:\tlearn: 0.3729569\ttotal: 2.22s\tremaining: 9.48s\n190:\tlearn: 0.3728922\ttotal: 2.23s\tremaining: 9.44s\n191:\tlearn: 0.3727228\ttotal: 2.23s\tremaining: 9.4s\n192:\tlearn: 0.3726220\ttotal: 2.24s\tremaining: 9.37s\n193:\tlearn: 0.3725405\ttotal: 2.25s\tremaining: 9.33s\n194:\tlearn: 0.3724714\ttotal: 2.27s\tremaining: 9.35s\n195:\tlearn: 0.3722398\ttotal: 2.29s\tremaining: 9.37s\n196:\tlearn: 0.3721418\ttotal: 2.29s\tremaining: 9.34s\n197:\tlearn: 0.3718758\ttotal: 2.3s\tremaining: 9.32s\n198:\tlearn: 0.3717495\ttotal: 2.31s\tremaining: 9.28s\n199:\tlearn: 0.3715888\ttotal: 2.31s\tremaining: 9.25s\n200:\tlearn: 0.3715111\ttotal: 2.32s\tremaining: 9.22s\n201:\tlearn: 0.3713492\ttotal: 2.33s\tremaining: 9.19s\n202:\tlearn: 0.3712044\ttotal: 2.33s\tremaining: 9.16s\n203:\tlearn: 0.3711283\ttotal: 2.34s\tremaining: 9.13s\n204:\tlearn: 0.3710445\ttotal: 2.35s\tremaining: 9.1s\n205:\tlearn: 0.3709150\ttotal: 2.35s\tremaining: 9.07s\n206:\tlearn: 0.3707591\ttotal: 2.36s\tremaining: 9.04s\n207:\tlearn: 0.3706241\ttotal: 2.39s\tremaining: 9.11s\n208:\tlearn: 0.3705199\ttotal: 2.4s\tremaining: 9.09s\n209:\tlearn: 0.3703379\ttotal: 2.41s\tremaining: 9.06s\n210:\tlearn: 0.3702326\ttotal: 2.41s\tremaining: 9.03s\n211:\tlearn: 0.3701455\ttotal: 2.42s\tremaining: 8.99s\n212:\tlearn: 0.3700150\ttotal: 2.42s\tremaining: 8.96s\n213:\tlearn: 0.3698247\ttotal: 2.43s\tremaining: 8.93s\n214:\tlearn: 0.3697055\ttotal: 2.44s\tremaining: 8.9s\n215:\tlearn: 0.3695495\ttotal: 2.44s\tremaining: 8.87s\n216:\tlearn: 0.3694567\ttotal: 2.45s\tremaining: 8.84s\n217:\tlearn: 0.3693436\ttotal: 2.45s\tremaining: 8.81s\n218:\tlearn: 0.3692813\ttotal: 2.46s\tremaining: 8.78s\n219:\tlearn: 0.3691830\ttotal: 2.49s\tremaining: 8.83s\n220:\tlearn: 0.3690377\ttotal: 2.51s\tremaining: 8.84s\n221:\tlearn: 0.3688641\ttotal: 2.52s\tremaining: 8.82s\n222:\tlearn: 0.3687633\ttotal: 2.53s\tremaining: 8.81s\n223:\tlearn: 0.3686062\ttotal: 2.54s\tremaining: 8.8s\n224:\tlearn: 0.3684231\ttotal: 2.58s\tremaining: 8.88s\n225:\tlearn: 0.3683012\ttotal: 2.59s\tremaining: 8.88s\n226:\tlearn: 0.3682034\ttotal: 2.61s\tremaining: 8.88s\n227:\tlearn: 0.3680974\ttotal: 2.62s\tremaining: 8.86s\n228:\tlearn: 0.3680221\ttotal: 2.63s\tremaining: 8.85s\n229:\tlearn: 0.3678636\ttotal: 2.64s\tremaining: 8.85s\n230:\tlearn: 0.3677450\ttotal: 2.67s\tremaining: 8.9s\n231:\tlearn: 0.3675586\ttotal: 2.68s\tremaining: 8.88s\n232:\tlearn: 0.3673677\ttotal: 2.69s\tremaining: 8.85s\n233:\tlearn: 0.3672900\ttotal: 2.69s\tremaining: 8.82s\n234:\tlearn: 0.3671564\ttotal: 2.7s\tremaining: 8.79s\n235:\tlearn: 0.3670511\ttotal: 2.71s\tremaining: 8.77s\n236:\tlearn: 0.3668822\ttotal: 2.71s\tremaining: 8.74s\n237:\tlearn: 0.3667670\ttotal: 2.72s\tremaining: 8.71s\n238:\tlearn: 0.3666712\ttotal: 2.73s\tremaining: 8.68s\n239:\tlearn: 0.3665921\ttotal: 2.73s\tremaining: 8.65s\n240:\tlearn: 0.3664826\ttotal: 2.74s\tremaining: 8.62s\n241:\tlearn: 0.3663369\ttotal: 2.74s\tremaining: 8.59s\n242:\tlearn: 0.3662272\ttotal: 2.75s\tremaining: 8.56s\n243:\tlearn: 0.3660829\ttotal: 2.77s\tremaining: 8.6s\n244:\tlearn: 0.3660222\ttotal: 2.78s\tremaining: 8.57s\n245:\tlearn: 0.3657727\ttotal: 2.79s\tremaining: 8.55s\n246:\tlearn: 0.3655539\ttotal: 2.8s\tremaining: 8.53s\n247:\tlearn: 0.3654036\ttotal: 2.8s\tremaining: 8.5s\n248:\tlearn: 0.3652616\ttotal: 2.81s\tremaining: 8.47s\n249:\tlearn: 0.3651703\ttotal: 2.81s\tremaining: 8.44s\n250:\tlearn: 0.3650429\ttotal: 2.82s\tremaining: 8.42s\n251:\tlearn: 0.3648838\ttotal: 2.83s\tremaining: 8.39s\n252:\tlearn: 0.3647112\ttotal: 2.83s\tremaining: 8.36s\n253:\tlearn: 0.3645870\ttotal: 2.84s\tremaining: 8.34s\n254:\tlearn: 0.3644918\ttotal: 2.84s\tremaining: 8.31s\n255:\tlearn: 0.3643628\ttotal: 2.88s\tremaining: 8.36s\n256:\tlearn: 0.3642463\ttotal: 2.88s\tremaining: 8.34s\n257:\tlearn: 0.3641122\ttotal: 2.89s\tremaining: 8.31s\n258:\tlearn: 0.3640197\ttotal: 2.9s\tremaining: 8.29s\n259:\tlearn: 0.3638757\ttotal: 2.9s\tremaining: 8.26s\n260:\tlearn: 0.3638025\ttotal: 2.91s\tremaining: 8.24s\n261:\tlearn: 0.3636871\ttotal: 2.92s\tremaining: 8.22s\n262:\tlearn: 0.3636238\ttotal: 2.92s\tremaining: 8.19s\n263:\tlearn: 0.3635266\ttotal: 2.93s\tremaining: 8.17s\n264:\tlearn: 0.3633991\ttotal: 2.94s\tremaining: 8.14s\n265:\tlearn: 0.3633162\ttotal: 2.94s\tremaining: 8.12s\n266:\tlearn: 0.3632202\ttotal: 2.97s\tremaining: 8.15s\n267:\tlearn: 0.3630977\ttotal: 2.98s\tremaining: 8.13s\n268:\tlearn: 0.3629184\ttotal: 2.98s\tremaining: 8.1s\n269:\tlearn: 0.3628057\ttotal: 2.99s\tremaining: 8.08s\n270:\tlearn: 0.3627423\ttotal: 2.99s\tremaining: 8.05s\n271:\tlearn: 0.3625747\ttotal: 3s\tremaining: 8.03s\n272:\tlearn: 0.3624888\ttotal: 3s\tremaining: 8s\n273:\tlearn: 0.3623474\ttotal: 3.01s\tremaining: 7.98s\n274:\tlearn: 0.3622597\ttotal: 3.02s\tremaining: 7.96s\n275:\tlearn: 0.3620741\ttotal: 3.02s\tremaining: 7.93s\n276:\tlearn: 0.3619854\ttotal: 3.03s\tremaining: 7.91s\n277:\tlearn: 0.3619124\ttotal: 3.04s\tremaining: 7.88s\n278:\tlearn: 0.3617980\ttotal: 3.07s\tremaining: 7.93s\n279:\tlearn: 0.3616985\ttotal: 3.07s\tremaining: 7.91s\n280:\tlearn: 0.3616363\ttotal: 3.08s\tremaining: 7.88s\n281:\tlearn: 0.3614625\ttotal: 3.09s\tremaining: 7.86s\n282:\tlearn: 0.3612890\ttotal: 3.1s\tremaining: 7.84s\n283:\tlearn: 0.3611886\ttotal: 3.11s\tremaining: 7.83s\n284:\tlearn: 0.3611022\ttotal: 3.12s\tremaining: 7.83s\n285:\tlearn: 0.3610002\ttotal: 3.13s\tremaining: 7.81s\n286:\tlearn: 0.3609138\ttotal: 3.14s\tremaining: 7.8s\n287:\tlearn: 0.3608229\ttotal: 3.15s\tremaining: 7.78s\n288:\tlearn: 0.3608186\ttotal: 3.15s\tremaining: 7.75s\n289:\tlearn: 0.3607193\ttotal: 3.16s\tremaining: 7.73s\n290:\tlearn: 0.3606288\ttotal: 3.16s\tremaining: 7.71s\n291:\tlearn: 0.3605014\ttotal: 3.17s\tremaining: 7.69s\n292:\tlearn: 0.3604297\ttotal: 3.18s\tremaining: 7.66s\n293:\tlearn: 0.3603478\ttotal: 3.18s\tremaining: 7.64s\n294:\tlearn: 0.3602594\ttotal: 3.19s\tremaining: 7.62s\n295:\tlearn: 0.3601143\ttotal: 3.19s\tremaining: 7.6s\n296:\tlearn: 0.3600111\ttotal: 3.2s\tremaining: 7.58s\n297:\tlearn: 0.3598549\ttotal: 3.21s\tremaining: 7.55s\n298:\tlearn: 0.3597066\ttotal: 3.21s\tremaining: 7.53s\n299:\tlearn: 0.3596445\ttotal: 3.22s\tremaining: 7.51s\n300:\tlearn: 0.3595818\ttotal: 3.22s\tremaining: 7.49s\n301:\tlearn: 0.3594727\ttotal: 3.23s\tremaining: 7.46s\n302:\tlearn: 0.3593237\ttotal: 3.23s\tremaining: 7.44s\n303:\tlearn: 0.3592115\ttotal: 3.26s\tremaining: 7.47s\n304:\tlearn: 0.3589916\ttotal: 3.27s\tremaining: 7.45s\n305:\tlearn: 0.3589033\ttotal: 3.28s\tremaining: 7.43s\n306:\tlearn: 0.3587813\ttotal: 3.28s\tremaining: 7.41s\n307:\tlearn: 0.3586898\ttotal: 3.29s\tremaining: 7.39s\n308:\tlearn: 0.3586359\ttotal: 3.29s\tremaining: 7.37s\n309:\tlearn: 0.3585477\ttotal: 3.3s\tremaining: 7.35s\n310:\tlearn: 0.3584789\ttotal: 3.31s\tremaining: 7.33s\n311:\tlearn: 0.3584116\ttotal: 3.31s\tremaining: 7.31s\n312:\tlearn: 0.3583286\ttotal: 3.32s\tremaining: 7.29s\n313:\tlearn: 0.3582514\ttotal: 3.33s\tremaining: 7.27s\n314:\tlearn: 0.3581611\ttotal: 3.33s\tremaining: 7.25s\n315:\tlearn: 0.3580880\ttotal: 3.36s\tremaining: 7.28s\n316:\tlearn: 0.3580046\ttotal: 3.37s\tremaining: 7.27s\n317:\tlearn: 0.3579173\ttotal: 3.38s\tremaining: 7.26s\n318:\tlearn: 0.3577992\ttotal: 3.39s\tremaining: 7.24s\n319:\tlearn: 0.3576997\ttotal: 3.4s\tremaining: 7.22s\n320:\tlearn: 0.3575889\ttotal: 3.4s\tremaining: 7.2s\n321:\tlearn: 0.3575263\ttotal: 3.41s\tremaining: 7.18s\n322:\tlearn: 0.3573808\ttotal: 3.42s\tremaining: 7.16s\n323:\tlearn: 0.3572103\ttotal: 3.42s\tremaining: 7.14s\n324:\tlearn: 0.3571211\ttotal: 3.43s\tremaining: 7.12s\n325:\tlearn: 0.3570074\ttotal: 3.43s\tremaining: 7.1s\n326:\tlearn: 0.3568879\ttotal: 3.44s\tremaining: 7.08s\n327:\tlearn: 0.3568273\ttotal: 3.46s\tremaining: 7.09s\n328:\tlearn: 0.3567387\ttotal: 3.47s\tremaining: 7.07s\n329:\tlearn: 0.3566368\ttotal: 3.47s\tremaining: 7.05s\n330:\tlearn: 0.3564786\ttotal: 3.48s\tremaining: 7.04s\n331:\tlearn: 0.3563972\ttotal: 3.49s\tremaining: 7.02s\n332:\tlearn: 0.3562167\ttotal: 3.49s\tremaining: 7s\n333:\tlearn: 0.3560616\ttotal: 3.5s\tremaining: 6.98s\n334:\tlearn: 0.3559633\ttotal: 3.51s\tremaining: 6.96s\n335:\tlearn: 0.3558197\ttotal: 3.51s\tremaining: 6.94s\n336:\tlearn: 0.3556513\ttotal: 3.52s\tremaining: 6.92s\n337:\tlearn: 0.3555551\ttotal: 3.53s\tremaining: 6.91s\n338:\tlearn: 0.3554688\ttotal: 3.53s\tremaining: 6.89s\n339:\tlearn: 0.3554024\ttotal: 3.56s\tremaining: 6.91s\n340:\tlearn: 0.3552936\ttotal: 3.57s\tremaining: 6.89s\n341:\tlearn: 0.3552022\ttotal: 3.57s\tremaining: 6.87s\n342:\tlearn: 0.3550354\ttotal: 3.58s\tremaining: 6.86s\n343:\tlearn: 0.3548925\ttotal: 3.59s\tremaining: 6.84s\n344:\tlearn: 0.3548071\ttotal: 3.59s\tremaining: 6.82s\n345:\tlearn: 0.3546713\ttotal: 3.6s\tremaining: 6.8s\n346:\tlearn: 0.3545657\ttotal: 3.6s\tremaining: 6.78s\n347:\tlearn: 0.3544945\ttotal: 3.61s\tremaining: 6.76s\n348:\tlearn: 0.3544127\ttotal: 3.62s\tremaining: 6.76s\n349:\tlearn: 0.3543312\ttotal: 3.63s\tremaining: 6.74s\n350:\tlearn: 0.3542241\ttotal: 3.66s\tremaining: 6.77s\n351:\tlearn: 0.3540666\ttotal: 3.67s\tremaining: 6.75s\n352:\tlearn: 0.3539047\ttotal: 3.67s\tremaining: 6.73s\n353:\tlearn: 0.3537848\ttotal: 3.68s\tremaining: 6.71s\n354:\tlearn: 0.3536989\ttotal: 3.68s\tremaining: 6.69s\n355:\tlearn: 0.3535957\ttotal: 3.69s\tremaining: 6.67s\n356:\tlearn: 0.3535041\ttotal: 3.69s\tremaining: 6.66s\n357:\tlearn: 0.3534162\ttotal: 3.7s\tremaining: 6.64s\n358:\tlearn: 0.3533205\ttotal: 3.71s\tremaining: 6.62s\n359:\tlearn: 0.3532107\ttotal: 3.71s\tremaining: 6.6s\n360:\tlearn: 0.3530372\ttotal: 3.73s\tremaining: 6.59s\n361:\tlearn: 0.3529004\ttotal: 3.76s\tremaining: 6.63s\n362:\tlearn: 0.3528452\ttotal: 3.77s\tremaining: 6.62s\n363:\tlearn: 0.3527047\ttotal: 3.78s\tremaining: 6.61s\n364:\tlearn: 0.3526242\ttotal: 3.8s\tremaining: 6.6s\n365:\tlearn: 0.3524909\ttotal: 3.81s\tremaining: 6.59s\n366:\tlearn: 0.3523896\ttotal: 3.82s\tremaining: 6.59s\n367:\tlearn: 0.3523098\ttotal: 3.86s\tremaining: 6.63s\n368:\tlearn: 0.3522081\ttotal: 3.87s\tremaining: 6.63s\n369:\tlearn: 0.3520930\ttotal: 3.89s\tremaining: 6.62s\n370:\tlearn: 0.3519532\ttotal: 3.9s\tremaining: 6.61s\n371:\tlearn: 0.3518369\ttotal: 3.91s\tremaining: 6.6s\n372:\tlearn: 0.3517172\ttotal: 3.92s\tremaining: 6.59s\n373:\tlearn: 0.3516214\ttotal: 3.93s\tremaining: 6.58s\n374:\tlearn: 0.3514824\ttotal: 3.95s\tremaining: 6.59s\n375:\tlearn: 0.3513822\ttotal: 3.96s\tremaining: 6.57s\n376:\tlearn: 0.3512497\ttotal: 3.96s\tremaining: 6.55s\n377:\tlearn: 0.3511601\ttotal: 3.97s\tremaining: 6.54s\n378:\tlearn: 0.3510463\ttotal: 3.98s\tremaining: 6.52s\n379:\tlearn: 0.3508793\ttotal: 3.98s\tremaining: 6.5s\n380:\tlearn: 0.3508224\ttotal: 3.99s\tremaining: 6.48s\n381:\tlearn: 0.3507091\ttotal: 4s\tremaining: 6.46s\n382:\tlearn: 0.3505891\ttotal: 4s\tremaining: 6.45s\n383:\tlearn: 0.3504575\ttotal: 4.01s\tremaining: 6.43s\n384:\tlearn: 0.3503581\ttotal: 4.01s\tremaining: 6.41s\n385:\tlearn: 0.3502365\ttotal: 4.02s\tremaining: 6.39s\n386:\tlearn: 0.3501096\ttotal: 4.02s\tremaining: 6.37s\n387:\tlearn: 0.3499973\ttotal: 4.05s\tremaining: 6.39s\n388:\tlearn: 0.3498335\ttotal: 4.06s\tremaining: 6.37s\n389:\tlearn: 0.3497335\ttotal: 4.06s\tremaining: 6.36s\n390:\tlearn: 0.3496390\ttotal: 4.07s\tremaining: 6.34s\n391:\tlearn: 0.3494748\ttotal: 4.08s\tremaining: 6.32s\n392:\tlearn: 0.3493380\ttotal: 4.08s\tremaining: 6.3s\n393:\tlearn: 0.3492031\ttotal: 4.09s\tremaining: 6.29s\n394:\tlearn: 0.3490808\ttotal: 4.09s\tremaining: 6.27s\n395:\tlearn: 0.3489424\ttotal: 4.1s\tremaining: 6.25s\n396:\tlearn: 0.3488323\ttotal: 4.11s\tremaining: 6.24s\n397:\tlearn: 0.3486782\ttotal: 4.11s\tremaining: 6.22s\n398:\tlearn: 0.3485728\ttotal: 4.15s\tremaining: 6.25s\n399:\tlearn: 0.3484311\ttotal: 4.16s\tremaining: 6.25s\n400:\tlearn: 0.3483225\ttotal: 4.17s\tremaining: 6.24s\n401:\tlearn: 0.3481522\ttotal: 4.18s\tremaining: 6.23s\n402:\tlearn: 0.3480261\ttotal: 4.2s\tremaining: 6.22s\n403:\tlearn: 0.3479448\ttotal: 4.21s\tremaining: 6.22s\n404:\tlearn: 0.3477992\ttotal: 4.25s\tremaining: 6.24s\n405:\tlearn: 0.3477034\ttotal: 4.26s\tremaining: 6.23s\n406:\tlearn: 0.3475979\ttotal: 4.27s\tremaining: 6.23s\n407:\tlearn: 0.3474516\ttotal: 4.28s\tremaining: 6.22s\n408:\tlearn: 0.3473438\ttotal: 4.3s\tremaining: 6.21s\n409:\tlearn: 0.3472390\ttotal: 4.31s\tremaining: 6.2s\n410:\tlearn: 0.3470955\ttotal: 4.35s\tremaining: 6.24s\n411:\tlearn: 0.3469266\ttotal: 4.36s\tremaining: 6.23s\n412:\tlearn: 0.3467831\ttotal: 4.38s\tremaining: 6.22s\n413:\tlearn: 0.3466939\ttotal: 4.39s\tremaining: 6.21s\n414:\tlearn: 0.3466007\ttotal: 4.4s\tremaining: 6.21s\n415:\tlearn: 0.3464661\ttotal: 4.41s\tremaining: 6.19s\n416:\tlearn: 0.3463620\ttotal: 4.45s\tremaining: 6.22s\n417:\tlearn: 0.3462362\ttotal: 4.46s\tremaining: 6.21s\n418:\tlearn: 0.3461543\ttotal: 4.47s\tremaining: 6.21s\n419:\tlearn: 0.3460229\ttotal: 4.49s\tremaining: 6.2s\n420:\tlearn: 0.3459298\ttotal: 4.5s\tremaining: 6.19s\n421:\tlearn: 0.3458150\ttotal: 4.54s\tremaining: 6.22s\n422:\tlearn: 0.3457287\ttotal: 4.55s\tremaining: 6.21s\n423:\tlearn: 0.3455853\ttotal: 4.57s\tremaining: 6.2s\n424:\tlearn: 0.3454438\ttotal: 4.58s\tremaining: 6.19s\n425:\tlearn: 0.3453362\ttotal: 4.59s\tremaining: 6.19s\n426:\tlearn: 0.3452473\ttotal: 4.6s\tremaining: 6.18s\n427:\tlearn: 0.3451448\ttotal: 4.64s\tremaining: 6.2s\n428:\tlearn: 0.3450229\ttotal: 4.66s\tremaining: 6.2s\n429:\tlearn: 0.3448822\ttotal: 4.67s\tremaining: 6.19s\n430:\tlearn: 0.3447624\ttotal: 4.68s\tremaining: 6.18s\n431:\tlearn: 0.3446295\ttotal: 4.7s\tremaining: 6.17s\n432:\tlearn: 0.3445573\ttotal: 4.73s\tremaining: 6.2s\n433:\tlearn: 0.3444523\ttotal: 4.74s\tremaining: 6.19s\n434:\tlearn: 0.3443315\ttotal: 4.76s\tremaining: 6.18s\n435:\tlearn: 0.3442248\ttotal: 4.77s\tremaining: 6.17s\n436:\tlearn: 0.3441361\ttotal: 4.79s\tremaining: 6.17s\n437:\tlearn: 0.3440362\ttotal: 4.8s\tremaining: 6.15s\n438:\tlearn: 0.3439079\ttotal: 4.84s\tremaining: 6.18s\n439:\tlearn: 0.3437796\ttotal: 4.85s\tremaining: 6.17s\n440:\tlearn: 0.3436584\ttotal: 4.86s\tremaining: 6.16s\n441:\tlearn: 0.3435727\ttotal: 4.87s\tremaining: 6.15s\n442:\tlearn: 0.3434362\ttotal: 4.88s\tremaining: 6.14s\n443:\tlearn: 0.3433028\ttotal: 4.9s\tremaining: 6.13s\n444:\tlearn: 0.3431737\ttotal: 4.91s\tremaining: 6.12s\n445:\tlearn: 0.3430533\ttotal: 4.94s\tremaining: 6.13s\n446:\tlearn: 0.3429265\ttotal: 4.95s\tremaining: 6.12s\n447:\tlearn: 0.3427970\ttotal: 4.97s\tremaining: 6.12s\n448:\tlearn: 0.3426700\ttotal: 4.98s\tremaining: 6.11s\n449:\tlearn: 0.3425836\ttotal: 4.99s\tremaining: 6.1s\n450:\tlearn: 0.3425018\ttotal: 5.03s\tremaining: 6.12s\n451:\tlearn: 0.3423483\ttotal: 5.04s\tremaining: 6.11s\n452:\tlearn: 0.3422406\ttotal: 5.05s\tremaining: 6.1s\n453:\tlearn: 0.3420851\ttotal: 5.07s\tremaining: 6.09s\n454:\tlearn: 0.3419590\ttotal: 5.08s\tremaining: 6.08s\n455:\tlearn: 0.3417670\ttotal: 5.09s\tremaining: 6.07s\n456:\tlearn: 0.3415809\ttotal: 5.13s\tremaining: 6.09s\n457:\tlearn: 0.3414307\ttotal: 5.14s\tremaining: 6.08s\n458:\tlearn: 0.3413027\ttotal: 5.15s\tremaining: 6.08s\n459:\tlearn: 0.3411591\ttotal: 5.17s\tremaining: 6.07s\n460:\tlearn: 0.3410422\ttotal: 5.18s\tremaining: 6.06s\n461:\tlearn: 0.3409232\ttotal: 5.19s\tremaining: 6.05s\n462:\tlearn: 0.3408180\ttotal: 5.23s\tremaining: 6.07s\n463:\tlearn: 0.3407336\ttotal: 5.24s\tremaining: 6.06s\n464:\tlearn: 0.3406245\ttotal: 5.25s\tremaining: 6.04s\n465:\tlearn: 0.3404439\ttotal: 5.27s\tremaining: 6.03s\n466:\tlearn: 0.3403051\ttotal: 5.28s\tremaining: 6.02s\n467:\tlearn: 0.3402248\ttotal: 5.29s\tremaining: 6.01s\n468:\tlearn: 0.3401042\ttotal: 5.33s\tremaining: 6.03s\n469:\tlearn: 0.3399871\ttotal: 5.34s\tremaining: 6.02s\n470:\tlearn: 0.3399201\ttotal: 5.35s\tremaining: 6.01s\n471:\tlearn: 0.3398230\ttotal: 5.36s\tremaining: 6s\n472:\tlearn: 0.3397274\ttotal: 5.38s\tremaining: 5.99s\n473:\tlearn: 0.3395967\ttotal: 5.39s\tremaining: 5.98s\n474:\tlearn: 0.3394654\ttotal: 5.42s\tremaining: 5.99s\n475:\tlearn: 0.3393793\ttotal: 5.44s\tremaining: 5.99s\n476:\tlearn: 0.3392450\ttotal: 5.45s\tremaining: 5.97s\n477:\tlearn: 0.3391472\ttotal: 5.46s\tremaining: 5.96s\n478:\tlearn: 0.3390338\ttotal: 5.47s\tremaining: 5.96s\n479:\tlearn: 0.3389336\ttotal: 5.49s\tremaining: 5.94s\n480:\tlearn: 0.3388335\ttotal: 5.53s\tremaining: 5.96s\n481:\tlearn: 0.3387242\ttotal: 5.54s\tremaining: 5.95s\n482:\tlearn: 0.3386102\ttotal: 5.55s\tremaining: 5.94s\n483:\tlearn: 0.3384834\ttotal: 5.57s\tremaining: 5.93s\n484:\tlearn: 0.3383807\ttotal: 5.58s\tremaining: 5.92s\n485:\tlearn: 0.3382763\ttotal: 5.62s\tremaining: 5.94s\n486:\tlearn: 0.3381684\ttotal: 5.63s\tremaining: 5.93s\n487:\tlearn: 0.3380441\ttotal: 5.65s\tremaining: 5.92s\n488:\tlearn: 0.3378894\ttotal: 5.66s\tremaining: 5.91s\n489:\tlearn: 0.3377762\ttotal: 5.67s\tremaining: 5.9s\n490:\tlearn: 0.3376709\ttotal: 5.68s\tremaining: 5.89s\n491:\tlearn: 0.3374952\ttotal: 5.7s\tremaining: 5.88s\n492:\tlearn: 0.3374109\ttotal: 5.71s\tremaining: 5.88s\n493:\tlearn: 0.3373009\ttotal: 5.73s\tremaining: 5.87s\n494:\tlearn: 0.3371622\ttotal: 5.74s\tremaining: 5.85s\n495:\tlearn: 0.3369849\ttotal: 5.76s\tremaining: 5.85s\n496:\tlearn: 0.3368941\ttotal: 5.79s\tremaining: 5.86s\n497:\tlearn: 0.3367793\ttotal: 5.8s\tremaining: 5.85s\n498:\tlearn: 0.3366872\ttotal: 5.81s\tremaining: 5.84s\n499:\tlearn: 0.3365905\ttotal: 5.83s\tremaining: 5.83s\n500:\tlearn: 0.3364662\ttotal: 5.84s\tremaining: 5.82s\n501:\tlearn: 0.3363703\ttotal: 5.85s\tremaining: 5.81s\n502:\tlearn: 0.3362911\ttotal: 5.88s\tremaining: 5.81s\n503:\tlearn: 0.3361625\ttotal: 5.9s\tremaining: 5.81s\n504:\tlearn: 0.3360673\ttotal: 5.92s\tremaining: 5.8s\n505:\tlearn: 0.3359997\ttotal: 5.93s\tremaining: 5.79s\n506:\tlearn: 0.3358824\ttotal: 5.94s\tremaining: 5.78s\n507:\tlearn: 0.3357514\ttotal: 5.95s\tremaining: 5.76s\n508:\tlearn: 0.3356153\ttotal: 5.99s\tremaining: 5.77s\n509:\tlearn: 0.3355043\ttotal: 6s\tremaining: 5.77s\n510:\tlearn: 0.3354109\ttotal: 6.01s\tremaining: 5.75s\n511:\tlearn: 0.3353388\ttotal: 6.03s\tremaining: 5.75s\n512:\tlearn: 0.3352166\ttotal: 6.04s\tremaining: 5.73s\n513:\tlearn: 0.3351100\ttotal: 6.05s\tremaining: 5.72s\n514:\tlearn: 0.3350227\ttotal: 6.09s\tremaining: 5.73s\n515:\tlearn: 0.3348967\ttotal: 6.1s\tremaining: 5.72s\n516:\tlearn: 0.3347670\ttotal: 6.11s\tremaining: 5.71s\n517:\tlearn: 0.3346401\ttotal: 6.13s\tremaining: 5.7s\n518:\tlearn: 0.3345666\ttotal: 6.14s\tremaining: 5.69s\n519:\tlearn: 0.3344697\ttotal: 6.16s\tremaining: 5.68s\n520:\tlearn: 0.3343383\ttotal: 6.18s\tremaining: 5.69s\n521:\tlearn: 0.3342607\ttotal: 6.2s\tremaining: 5.68s\n522:\tlearn: 0.3341588\ttotal: 6.22s\tremaining: 5.67s\n523:\tlearn: 0.3340804\ttotal: 6.23s\tremaining: 5.66s\n524:\tlearn: 0.3339817\ttotal: 6.24s\tremaining: 5.64s\n525:\tlearn: 0.3338993\ttotal: 6.25s\tremaining: 5.64s\n526:\tlearn: 0.3337940\ttotal: 6.29s\tremaining: 5.64s\n527:\tlearn: 0.3337275\ttotal: 6.3s\tremaining: 5.63s\n528:\tlearn: 0.3336275\ttotal: 6.31s\tremaining: 5.62s\n529:\tlearn: 0.3334615\ttotal: 6.32s\tremaining: 5.61s\n530:\tlearn: 0.3333974\ttotal: 6.34s\tremaining: 5.6s\n531:\tlearn: 0.3332040\ttotal: 6.35s\tremaining: 5.58s\n532:\tlearn: 0.3331251\ttotal: 6.36s\tremaining: 5.57s\n533:\tlearn: 0.3330265\ttotal: 6.39s\tremaining: 5.57s\n534:\tlearn: 0.3329329\ttotal: 6.4s\tremaining: 5.56s\n535:\tlearn: 0.3328095\ttotal: 6.41s\tremaining: 5.55s\n536:\tlearn: 0.3327048\ttotal: 6.42s\tremaining: 5.54s\n537:\tlearn: 0.3326099\ttotal: 6.44s\tremaining: 5.53s\n538:\tlearn: 0.3325207\ttotal: 6.48s\tremaining: 5.54s\n539:\tlearn: 0.3324228\ttotal: 6.49s\tremaining: 5.53s\n540:\tlearn: 0.3322777\ttotal: 6.51s\tremaining: 5.52s\n541:\tlearn: 0.3321735\ttotal: 6.52s\tremaining: 5.51s\n542:\tlearn: 0.3320443\ttotal: 6.53s\tremaining: 5.5s\n543:\tlearn: 0.3319287\ttotal: 6.54s\tremaining: 5.48s\n544:\tlearn: 0.3317644\ttotal: 6.57s\tremaining: 5.49s\n545:\tlearn: 0.3316567\ttotal: 6.59s\tremaining: 5.48s\n546:\tlearn: 0.3315002\ttotal: 6.6s\tremaining: 5.46s\n547:\tlearn: 0.3313869\ttotal: 6.61s\tremaining: 5.45s\n548:\tlearn: 0.3313088\ttotal: 6.62s\tremaining: 5.44s\n549:\tlearn: 0.3312419\ttotal: 6.63s\tremaining: 5.43s\n550:\tlearn: 0.3311222\ttotal: 6.65s\tremaining: 5.42s\n551:\tlearn: 0.3309490\ttotal: 6.68s\tremaining: 5.42s\n552:\tlearn: 0.3308636\ttotal: 6.7s\tremaining: 5.42s\n553:\tlearn: 0.3307401\ttotal: 6.72s\tremaining: 5.41s\n554:\tlearn: 0.3306336\ttotal: 6.73s\tremaining: 5.39s\n555:\tlearn: 0.3305309\ttotal: 6.74s\tremaining: 5.38s\n556:\tlearn: 0.3304204\ttotal: 6.75s\tremaining: 5.37s\n557:\tlearn: 0.3302904\ttotal: 6.77s\tremaining: 5.36s\n558:\tlearn: 0.3302211\ttotal: 6.78s\tremaining: 5.35s\n559:\tlearn: 0.3300632\ttotal: 6.79s\tremaining: 5.34s\n560:\tlearn: 0.3299414\ttotal: 6.8s\tremaining: 5.32s\n561:\tlearn: 0.3298585\ttotal: 6.81s\tremaining: 5.3s\n562:\tlearn: 0.3297542\ttotal: 6.82s\tremaining: 5.29s\n563:\tlearn: 0.3296451\ttotal: 6.83s\tremaining: 5.28s\n564:\tlearn: 0.3295553\ttotal: 6.83s\tremaining: 5.26s\n565:\tlearn: 0.3294547\ttotal: 6.84s\tremaining: 5.24s\n566:\tlearn: 0.3293713\ttotal: 6.84s\tremaining: 5.23s\n567:\tlearn: 0.3292559\ttotal: 6.85s\tremaining: 5.21s\n568:\tlearn: 0.3292135\ttotal: 6.86s\tremaining: 5.2s\n569:\tlearn: 0.3290550\ttotal: 6.87s\tremaining: 5.18s\n570:\tlearn: 0.3289440\ttotal: 6.87s\tremaining: 5.16s\n571:\tlearn: 0.3288138\ttotal: 6.88s\tremaining: 5.15s\n572:\tlearn: 0.3287328\ttotal: 6.88s\tremaining: 5.13s\n573:\tlearn: 0.3285798\ttotal: 6.89s\tremaining: 5.11s\n574:\tlearn: 0.3285424\ttotal: 6.89s\tremaining: 5.1s\n575:\tlearn: 0.3284228\ttotal: 6.9s\tremaining: 5.08s\n576:\tlearn: 0.3282922\ttotal: 6.91s\tremaining: 5.06s\n577:\tlearn: 0.3282243\ttotal: 6.91s\tremaining: 5.05s\n578:\tlearn: 0.3281346\ttotal: 6.92s\tremaining: 5.03s\n579:\tlearn: 0.3280612\ttotal: 6.95s\tremaining: 5.03s\n580:\tlearn: 0.3279196\ttotal: 6.95s\tremaining: 5.01s\n581:\tlearn: 0.3278542\ttotal: 6.96s\tremaining: 5s\n582:\tlearn: 0.3277635\ttotal: 6.96s\tremaining: 4.98s\n583:\tlearn: 0.3276751\ttotal: 6.97s\tremaining: 4.96s\n584:\tlearn: 0.3275968\ttotal: 6.98s\tremaining: 4.95s\n585:\tlearn: 0.3275078\ttotal: 6.98s\tremaining: 4.93s\n586:\tlearn: 0.3274311\ttotal: 6.99s\tremaining: 4.92s\n587:\tlearn: 0.3273665\ttotal: 6.99s\tremaining: 4.9s\n588:\tlearn: 0.3272897\ttotal: 7s\tremaining: 4.89s\n589:\tlearn: 0.3271566\ttotal: 7.01s\tremaining: 4.87s\n590:\tlearn: 0.3270629\ttotal: 7.01s\tremaining: 4.85s\n591:\tlearn: 0.3269621\ttotal: 7.04s\tremaining: 4.85s\n592:\tlearn: 0.3268519\ttotal: 7.05s\tremaining: 4.84s\n593:\tlearn: 0.3267057\ttotal: 7.05s\tremaining: 4.82s\n594:\tlearn: 0.3266213\ttotal: 7.06s\tremaining: 4.8s\n595:\tlearn: 0.3265260\ttotal: 7.06s\tremaining: 4.79s\n596:\tlearn: 0.3264450\ttotal: 7.07s\tremaining: 4.77s\n597:\tlearn: 0.3263597\ttotal: 7.08s\tremaining: 4.76s\n598:\tlearn: 0.3262975\ttotal: 7.08s\tremaining: 4.74s\n599:\tlearn: 0.3262017\ttotal: 7.09s\tremaining: 4.72s\n600:\tlearn: 0.3260668\ttotal: 7.09s\tremaining: 4.71s\n601:\tlearn: 0.3259635\ttotal: 7.1s\tremaining: 4.69s\n602:\tlearn: 0.3258560\ttotal: 7.11s\tremaining: 4.68s\n603:\tlearn: 0.3257465\ttotal: 7.14s\tremaining: 4.68s\n604:\tlearn: 0.3256099\ttotal: 7.14s\tremaining: 4.66s\n605:\tlearn: 0.3255432\ttotal: 7.15s\tremaining: 4.65s\n606:\tlearn: 0.3254411\ttotal: 7.15s\tremaining: 4.63s\n607:\tlearn: 0.3253628\ttotal: 7.16s\tremaining: 4.62s\n608:\tlearn: 0.3253008\ttotal: 7.17s\tremaining: 4.6s\n609:\tlearn: 0.3252037\ttotal: 7.17s\tremaining: 4.58s\n610:\tlearn: 0.3251224\ttotal: 7.18s\tremaining: 4.57s\n611:\tlearn: 0.3250534\ttotal: 7.18s\tremaining: 4.55s\n612:\tlearn: 0.3249980\ttotal: 7.19s\tremaining: 4.54s\n613:\tlearn: 0.3249314\ttotal: 7.2s\tremaining: 4.52s\n614:\tlearn: 0.3248933\ttotal: 7.2s\tremaining: 4.51s\n615:\tlearn: 0.3247517\ttotal: 7.21s\tremaining: 4.49s\n616:\tlearn: 0.3246508\ttotal: 7.24s\tremaining: 4.49s\n617:\tlearn: 0.3245929\ttotal: 7.25s\tremaining: 4.48s\n618:\tlearn: 0.3245041\ttotal: 7.26s\tremaining: 4.47s\n619:\tlearn: 0.3243992\ttotal: 7.28s\tremaining: 4.46s\n620:\tlearn: 0.3243278\ttotal: 7.29s\tremaining: 4.45s\n621:\tlearn: 0.3242388\ttotal: 7.3s\tremaining: 4.44s\n622:\tlearn: 0.3241403\ttotal: 7.34s\tremaining: 4.44s\n623:\tlearn: 0.3240463\ttotal: 7.35s\tremaining: 4.43s\n624:\tlearn: 0.3238895\ttotal: 7.36s\tremaining: 4.42s\n625:\tlearn: 0.3238310\ttotal: 7.38s\tremaining: 4.41s\n626:\tlearn: 0.3236825\ttotal: 7.39s\tremaining: 4.4s\n627:\tlearn: 0.3235773\ttotal: 7.4s\tremaining: 4.38s\n628:\tlearn: 0.3235312\ttotal: 7.43s\tremaining: 4.38s\n629:\tlearn: 0.3234423\ttotal: 7.45s\tremaining: 4.38s\n630:\tlearn: 0.3233310\ttotal: 7.46s\tremaining: 4.36s\n631:\tlearn: 0.3232309\ttotal: 7.48s\tremaining: 4.35s\n632:\tlearn: 0.3231485\ttotal: 7.49s\tremaining: 4.34s\n633:\tlearn: 0.3230450\ttotal: 7.5s\tremaining: 4.33s\n634:\tlearn: 0.3229760\ttotal: 7.51s\tremaining: 4.32s\n635:\tlearn: 0.3229160\ttotal: 7.53s\tremaining: 4.31s\n636:\tlearn: 0.3228214\ttotal: 7.54s\tremaining: 4.3s\n637:\tlearn: 0.3227074\ttotal: 7.55s\tremaining: 4.29s\n638:\tlearn: 0.3226201\ttotal: 7.57s\tremaining: 4.28s\n639:\tlearn: 0.3225475\ttotal: 7.58s\tremaining: 4.26s\n640:\tlearn: 0.3224474\ttotal: 7.62s\tremaining: 4.27s\n641:\tlearn: 0.3223398\ttotal: 7.64s\tremaining: 4.26s\n642:\tlearn: 0.3222095\ttotal: 7.65s\tremaining: 4.25s\n643:\tlearn: 0.3221175\ttotal: 7.67s\tremaining: 4.24s\n644:\tlearn: 0.3219836\ttotal: 7.67s\tremaining: 4.22s\n645:\tlearn: 0.3218886\ttotal: 7.7s\tremaining: 4.22s\n646:\tlearn: 0.3218035\ttotal: 7.72s\tremaining: 4.21s\n647:\tlearn: 0.3216978\ttotal: 7.73s\tremaining: 4.2s\n648:\tlearn: 0.3216055\ttotal: 7.74s\tremaining: 4.19s\n649:\tlearn: 0.3215161\ttotal: 7.75s\tremaining: 4.17s\n650:\tlearn: 0.3214440\ttotal: 7.76s\tremaining: 4.16s\n651:\tlearn: 0.3213845\ttotal: 7.79s\tremaining: 4.16s\n652:\tlearn: 0.3213139\ttotal: 7.83s\tremaining: 4.16s\n653:\tlearn: 0.3211916\ttotal: 7.84s\tremaining: 4.15s\n654:\tlearn: 0.3211052\ttotal: 7.85s\tremaining: 4.13s\n655:\tlearn: 0.3210145\ttotal: 7.87s\tremaining: 4.13s\n656:\tlearn: 0.3209016\ttotal: 7.9s\tremaining: 4.12s\n657:\tlearn: 0.3207884\ttotal: 7.91s\tremaining: 4.11s\n658:\tlearn: 0.3206777\ttotal: 7.92s\tremaining: 4.1s\n659:\tlearn: 0.3205832\ttotal: 7.93s\tremaining: 4.09s\n660:\tlearn: 0.3205194\ttotal: 7.95s\tremaining: 4.08s\n661:\tlearn: 0.3204550\ttotal: 7.96s\tremaining: 4.07s\n662:\tlearn: 0.3203902\ttotal: 8s\tremaining: 4.07s\n663:\tlearn: 0.3202889\ttotal: 8.01s\tremaining: 4.05s\n664:\tlearn: 0.3202206\ttotal: 8.03s\tremaining: 4.04s\n665:\tlearn: 0.3201017\ttotal: 8.04s\tremaining: 4.03s\n666:\tlearn: 0.3199579\ttotal: 8.06s\tremaining: 4.02s\n667:\tlearn: 0.3198688\ttotal: 8.09s\tremaining: 4.02s\n668:\tlearn: 0.3198367\ttotal: 8.11s\tremaining: 4.01s\n669:\tlearn: 0.3197272\ttotal: 8.11s\tremaining: 4s\n670:\tlearn: 0.3196546\ttotal: 8.13s\tremaining: 3.98s\n671:\tlearn: 0.3195732\ttotal: 8.14s\tremaining: 3.97s\n672:\tlearn: 0.3194872\ttotal: 8.15s\tremaining: 3.96s\n673:\tlearn: 0.3193747\ttotal: 8.18s\tremaining: 3.96s\n674:\tlearn: 0.3192597\ttotal: 8.19s\tremaining: 3.94s\n675:\tlearn: 0.3191262\ttotal: 8.21s\tremaining: 3.93s\n676:\tlearn: 0.3190381\ttotal: 8.22s\tremaining: 3.92s\n677:\tlearn: 0.3189514\ttotal: 8.23s\tremaining: 3.91s\n678:\tlearn: 0.3188508\ttotal: 8.25s\tremaining: 3.9s\n679:\tlearn: 0.3187840\ttotal: 8.29s\tremaining: 3.9s\n680:\tlearn: 0.3186600\ttotal: 8.3s\tremaining: 3.89s\n681:\tlearn: 0.3185251\ttotal: 8.32s\tremaining: 3.88s\n682:\tlearn: 0.3184689\ttotal: 8.33s\tremaining: 3.86s\n683:\tlearn: 0.3183754\ttotal: 8.34s\tremaining: 3.85s\n684:\tlearn: 0.3182315\ttotal: 8.38s\tremaining: 3.85s\n685:\tlearn: 0.3181154\ttotal: 8.39s\tremaining: 3.84s\n686:\tlearn: 0.3180149\ttotal: 8.4s\tremaining: 3.83s\n687:\tlearn: 0.3178883\ttotal: 8.42s\tremaining: 3.82s\n688:\tlearn: 0.3177849\ttotal: 8.43s\tremaining: 3.81s\n689:\tlearn: 0.3177069\ttotal: 8.45s\tremaining: 3.8s\n690:\tlearn: 0.3176153\ttotal: 8.48s\tremaining: 3.79s\n691:\tlearn: 0.3175161\ttotal: 8.5s\tremaining: 3.78s\n692:\tlearn: 0.3174132\ttotal: 8.51s\tremaining: 3.77s\n693:\tlearn: 0.3173418\ttotal: 8.53s\tremaining: 3.76s\n694:\tlearn: 0.3172681\ttotal: 8.54s\tremaining: 3.75s\n695:\tlearn: 0.3171897\ttotal: 8.58s\tremaining: 3.75s\n696:\tlearn: 0.3171347\ttotal: 8.59s\tremaining: 3.74s\n697:\tlearn: 0.3170562\ttotal: 8.61s\tremaining: 3.73s\n698:\tlearn: 0.3169625\ttotal: 8.63s\tremaining: 3.72s\n699:\tlearn: 0.3168902\ttotal: 8.65s\tremaining: 3.71s\n700:\tlearn: 0.3168178\ttotal: 8.68s\tremaining: 3.7s\n701:\tlearn: 0.3167224\ttotal: 8.69s\tremaining: 3.69s\n702:\tlearn: 0.3165947\ttotal: 8.71s\tremaining: 3.68s\n703:\tlearn: 0.3164749\ttotal: 8.72s\tremaining: 3.67s\n704:\tlearn: 0.3163969\ttotal: 8.73s\tremaining: 3.65s\n705:\tlearn: 0.3163116\ttotal: 8.74s\tremaining: 3.64s\n706:\tlearn: 0.3162302\ttotal: 8.75s\tremaining: 3.63s\n707:\tlearn: 0.3161317\ttotal: 8.77s\tremaining: 3.62s\n708:\tlearn: 0.3160295\ttotal: 8.78s\tremaining: 3.6s\n709:\tlearn: 0.3159484\ttotal: 8.79s\tremaining: 3.59s\n710:\tlearn: 0.3158701\ttotal: 8.81s\tremaining: 3.58s\n711:\tlearn: 0.3157664\ttotal: 8.82s\tremaining: 3.57s\n712:\tlearn: 0.3157063\ttotal: 8.85s\tremaining: 3.56s\n713:\tlearn: 0.3155667\ttotal: 8.86s\tremaining: 3.55s\n714:\tlearn: 0.3154934\ttotal: 8.88s\tremaining: 3.54s\n715:\tlearn: 0.3154203\ttotal: 8.89s\tremaining: 3.53s\n716:\tlearn: 0.3153384\ttotal: 8.9s\tremaining: 3.51s\n717:\tlearn: 0.3152563\ttotal: 8.94s\tremaining: 3.51s\n718:\tlearn: 0.3152023\ttotal: 8.95s\tremaining: 3.5s\n719:\tlearn: 0.3150899\ttotal: 8.97s\tremaining: 3.49s\n720:\tlearn: 0.3150127\ttotal: 8.98s\tremaining: 3.48s\n721:\tlearn: 0.3148896\ttotal: 8.99s\tremaining: 3.46s\n722:\tlearn: 0.3147710\ttotal: 9.04s\tremaining: 3.46s\n723:\tlearn: 0.3146714\ttotal: 9.05s\tremaining: 3.45s\n724:\tlearn: 0.3145941\ttotal: 9.06s\tremaining: 3.44s\n725:\tlearn: 0.3145189\ttotal: 9.08s\tremaining: 3.43s\n726:\tlearn: 0.3143934\ttotal: 9.09s\tremaining: 3.41s\n727:\tlearn: 0.3142834\ttotal: 9.11s\tremaining: 3.4s\n728:\tlearn: 0.3141730\ttotal: 9.13s\tremaining: 3.4s\n729:\tlearn: 0.3140412\ttotal: 9.14s\tremaining: 3.38s\n730:\tlearn: 0.3139401\ttotal: 9.15s\tremaining: 3.37s\n731:\tlearn: 0.3138307\ttotal: 9.15s\tremaining: 3.35s\n732:\tlearn: 0.3137630\ttotal: 9.16s\tremaining: 3.33s\n733:\tlearn: 0.3136187\ttotal: 9.16s\tremaining: 3.32s\n734:\tlearn: 0.3134975\ttotal: 9.17s\tremaining: 3.31s\n735:\tlearn: 0.3133743\ttotal: 9.18s\tremaining: 3.29s\n736:\tlearn: 0.3133065\ttotal: 9.18s\tremaining: 3.28s\n737:\tlearn: 0.3132279\ttotal: 9.19s\tremaining: 3.26s\n738:\tlearn: 0.3131322\ttotal: 9.19s\tremaining: 3.25s\n739:\tlearn: 0.3130282\ttotal: 9.2s\tremaining: 3.23s\n740:\tlearn: 0.3129806\ttotal: 9.21s\tremaining: 3.22s\n741:\tlearn: 0.3128819\ttotal: 9.23s\tremaining: 3.21s\n742:\tlearn: 0.3127949\ttotal: 9.24s\tremaining: 3.2s\n743:\tlearn: 0.3127366\ttotal: 9.25s\tremaining: 3.18s\n744:\tlearn: 0.3126086\ttotal: 9.25s\tremaining: 3.17s\n745:\tlearn: 0.3125376\ttotal: 9.26s\tremaining: 3.15s\n746:\tlearn: 0.3124717\ttotal: 9.27s\tremaining: 3.14s\n747:\tlearn: 0.3123962\ttotal: 9.27s\tremaining: 3.12s\n748:\tlearn: 0.3123024\ttotal: 9.28s\tremaining: 3.11s\n749:\tlearn: 0.3122352\ttotal: 9.28s\tremaining: 3.09s\n750:\tlearn: 0.3121459\ttotal: 9.29s\tremaining: 3.08s\n751:\tlearn: 0.3120301\ttotal: 9.29s\tremaining: 3.06s\n752:\tlearn: 0.3118990\ttotal: 9.3s\tremaining: 3.05s\n753:\tlearn: 0.3118090\ttotal: 9.33s\tremaining: 3.04s\n754:\tlearn: 0.3117315\ttotal: 9.34s\tremaining: 3.03s\n755:\tlearn: 0.3116693\ttotal: 9.35s\tremaining: 3.02s\n756:\tlearn: 0.3115840\ttotal: 9.35s\tremaining: 3s\n757:\tlearn: 0.3115006\ttotal: 9.36s\tremaining: 2.99s\n758:\tlearn: 0.3113996\ttotal: 9.36s\tremaining: 2.97s\n759:\tlearn: 0.3113072\ttotal: 9.37s\tremaining: 2.96s\n760:\tlearn: 0.3112369\ttotal: 9.38s\tremaining: 2.94s\n761:\tlearn: 0.3111433\ttotal: 9.38s\tremaining: 2.93s\n762:\tlearn: 0.3110450\ttotal: 9.39s\tremaining: 2.92s\n763:\tlearn: 0.3109636\ttotal: 9.39s\tremaining: 2.9s\n764:\tlearn: 0.3108708\ttotal: 9.4s\tremaining: 2.89s\n765:\tlearn: 0.3107861\ttotal: 9.43s\tremaining: 2.88s\n766:\tlearn: 0.3107194\ttotal: 9.44s\tremaining: 2.87s\n767:\tlearn: 0.3106550\ttotal: 9.45s\tremaining: 2.85s\n768:\tlearn: 0.3105996\ttotal: 9.46s\tremaining: 2.84s\n769:\tlearn: 0.3105286\ttotal: 9.47s\tremaining: 2.83s\n770:\tlearn: 0.3104419\ttotal: 9.48s\tremaining: 2.82s\n771:\tlearn: 0.3103419\ttotal: 9.5s\tremaining: 2.81s\n772:\tlearn: 0.3102341\ttotal: 9.52s\tremaining: 2.79s\n773:\tlearn: 0.3101611\ttotal: 9.53s\tremaining: 2.78s\n774:\tlearn: 0.3100833\ttotal: 9.54s\tremaining: 2.77s\n775:\tlearn: 0.3099802\ttotal: 9.55s\tremaining: 2.76s\n776:\tlearn: 0.3098846\ttotal: 9.56s\tremaining: 2.74s\n777:\tlearn: 0.3097798\ttotal: 9.57s\tremaining: 2.73s\n778:\tlearn: 0.3096757\ttotal: 9.61s\tremaining: 2.73s\n779:\tlearn: 0.3095788\ttotal: 9.62s\tremaining: 2.71s\n780:\tlearn: 0.3094856\ttotal: 9.64s\tremaining: 2.7s\n781:\tlearn: 0.3093679\ttotal: 9.65s\tremaining: 2.69s\n782:\tlearn: 0.3092841\ttotal: 9.67s\tremaining: 2.68s\n783:\tlearn: 0.3091794\ttotal: 9.68s\tremaining: 2.67s\n784:\tlearn: 0.3091474\ttotal: 9.7s\tremaining: 2.66s\n785:\tlearn: 0.3090537\ttotal: 9.71s\tremaining: 2.64s\n786:\tlearn: 0.3089620\ttotal: 9.71s\tremaining: 2.63s\n787:\tlearn: 0.3089042\ttotal: 9.72s\tremaining: 2.62s\n788:\tlearn: 0.3088281\ttotal: 9.73s\tremaining: 2.6s\n789:\tlearn: 0.3087152\ttotal: 9.73s\tremaining: 2.59s\n790:\tlearn: 0.3086177\ttotal: 9.74s\tremaining: 2.57s\n791:\tlearn: 0.3085374\ttotal: 9.74s\tremaining: 2.56s\n792:\tlearn: 0.3084244\ttotal: 9.75s\tremaining: 2.54s\n793:\tlearn: 0.3083545\ttotal: 9.76s\tremaining: 2.53s\n794:\tlearn: 0.3082572\ttotal: 9.76s\tremaining: 2.52s\n795:\tlearn: 0.3081917\ttotal: 9.77s\tremaining: 2.5s\n796:\tlearn: 0.3081243\ttotal: 9.8s\tremaining: 2.5s\n797:\tlearn: 0.3080803\ttotal: 9.81s\tremaining: 2.48s\n798:\tlearn: 0.3079828\ttotal: 9.83s\tremaining: 2.47s\n799:\tlearn: 0.3079031\ttotal: 9.84s\tremaining: 2.46s\n800:\tlearn: 0.3078070\ttotal: 9.85s\tremaining: 2.45s\n801:\tlearn: 0.3077223\ttotal: 9.85s\tremaining: 2.43s\n802:\tlearn: 0.3076189\ttotal: 9.86s\tremaining: 2.42s\n803:\tlearn: 0.3075460\ttotal: 9.87s\tremaining: 2.4s\n804:\tlearn: 0.3074443\ttotal: 9.87s\tremaining: 2.39s\n805:\tlearn: 0.3073626\ttotal: 9.91s\tremaining: 2.38s\n806:\tlearn: 0.3072927\ttotal: 9.92s\tremaining: 2.37s\n807:\tlearn: 0.3072211\ttotal: 9.93s\tremaining: 2.36s\n808:\tlearn: 0.3071012\ttotal: 9.94s\tremaining: 2.35s\n809:\tlearn: 0.3069992\ttotal: 9.96s\tremaining: 2.33s\n810:\tlearn: 0.3069335\ttotal: 10s\tremaining: 2.33s\n811:\tlearn: 0.3068624\ttotal: 10s\tremaining: 2.32s\n812:\tlearn: 0.3067887\ttotal: 10s\tremaining: 2.31s\n813:\tlearn: 0.3066945\ttotal: 10s\tremaining: 2.29s\n814:\tlearn: 0.3065986\ttotal: 10.1s\tremaining: 2.28s\n815:\tlearn: 0.3065151\ttotal: 10.1s\tremaining: 2.27s\n816:\tlearn: 0.3064414\ttotal: 10.1s\tremaining: 2.26s\n817:\tlearn: 0.3063474\ttotal: 10.1s\tremaining: 2.25s\n818:\tlearn: 0.3062671\ttotal: 10.1s\tremaining: 2.24s\n819:\tlearn: 0.3061808\ttotal: 10.1s\tremaining: 2.22s\n820:\tlearn: 0.3060810\ttotal: 10.1s\tremaining: 2.21s\n821:\tlearn: 0.3059907\ttotal: 10.2s\tremaining: 2.2s\n822:\tlearn: 0.3058961\ttotal: 10.2s\tremaining: 2.19s\n823:\tlearn: 0.3058111\ttotal: 10.2s\tremaining: 2.18s\n824:\tlearn: 0.3057376\ttotal: 10.2s\tremaining: 2.17s\n825:\tlearn: 0.3056596\ttotal: 10.2s\tremaining: 2.15s\n826:\tlearn: 0.3055966\ttotal: 10.2s\tremaining: 2.14s\n827:\tlearn: 0.3055227\ttotal: 10.3s\tremaining: 2.13s\n828:\tlearn: 0.3054545\ttotal: 10.3s\tremaining: 2.12s\n829:\tlearn: 0.3053692\ttotal: 10.3s\tremaining: 2.11s\n830:\tlearn: 0.3052427\ttotal: 10.3s\tremaining: 2.1s\n831:\tlearn: 0.3051432\ttotal: 10.3s\tremaining: 2.08s\n832:\tlearn: 0.3050105\ttotal: 10.3s\tremaining: 2.07s\n833:\tlearn: 0.3049240\ttotal: 10.4s\tremaining: 2.06s\n834:\tlearn: 0.3048635\ttotal: 10.4s\tremaining: 2.05s\n835:\tlearn: 0.3047619\ttotal: 10.4s\tremaining: 2.04s\n836:\tlearn: 0.3046915\ttotal: 10.4s\tremaining: 2.02s\n837:\tlearn: 0.3046104\ttotal: 10.4s\tremaining: 2.01s\n838:\tlearn: 0.3045454\ttotal: 10.4s\tremaining: 2s\n839:\tlearn: 0.3044886\ttotal: 10.4s\tremaining: 1.99s\n840:\tlearn: 0.3043842\ttotal: 10.5s\tremaining: 1.98s\n841:\tlearn: 0.3043085\ttotal: 10.5s\tremaining: 1.96s\n842:\tlearn: 0.3042338\ttotal: 10.5s\tremaining: 1.95s\n843:\tlearn: 0.3041577\ttotal: 10.5s\tremaining: 1.94s\n844:\tlearn: 0.3040550\ttotal: 10.5s\tremaining: 1.92s\n845:\tlearn: 0.3039821\ttotal: 10.5s\tremaining: 1.91s\n846:\tlearn: 0.3039163\ttotal: 10.5s\tremaining: 1.9s\n847:\tlearn: 0.3038395\ttotal: 10.5s\tremaining: 1.88s\n848:\tlearn: 0.3037254\ttotal: 10.5s\tremaining: 1.87s\n849:\tlearn: 0.3035800\ttotal: 10.5s\tremaining: 1.86s\n850:\tlearn: 0.3035315\ttotal: 10.5s\tremaining: 1.84s\n851:\tlearn: 0.3034832\ttotal: 10.5s\tremaining: 1.83s\n852:\tlearn: 0.3034122\ttotal: 10.5s\tremaining: 1.82s\n853:\tlearn: 0.3033488\ttotal: 10.6s\tremaining: 1.81s\n854:\tlearn: 0.3032438\ttotal: 10.6s\tremaining: 1.79s\n855:\tlearn: 0.3031664\ttotal: 10.6s\tremaining: 1.78s\n856:\tlearn: 0.3030646\ttotal: 10.6s\tremaining: 1.77s\n857:\tlearn: 0.3029674\ttotal: 10.6s\tremaining: 1.75s\n858:\tlearn: 0.3028976\ttotal: 10.6s\tremaining: 1.74s\n859:\tlearn: 0.3027890\ttotal: 10.6s\tremaining: 1.73s\n860:\tlearn: 0.3026840\ttotal: 10.6s\tremaining: 1.71s\n861:\tlearn: 0.3026185\ttotal: 10.6s\tremaining: 1.7s\n862:\tlearn: 0.3025206\ttotal: 10.6s\tremaining: 1.69s\n863:\tlearn: 0.3024558\ttotal: 10.6s\tremaining: 1.67s\n864:\tlearn: 0.3023854\ttotal: 10.6s\tremaining: 1.66s\n865:\tlearn: 0.3023091\ttotal: 10.7s\tremaining: 1.65s\n866:\tlearn: 0.3021841\ttotal: 10.7s\tremaining: 1.64s\n867:\tlearn: 0.3021090\ttotal: 10.7s\tremaining: 1.62s\n868:\tlearn: 0.3020352\ttotal: 10.7s\tremaining: 1.61s\n869:\tlearn: 0.3019679\ttotal: 10.7s\tremaining: 1.6s\n870:\tlearn: 0.3018736\ttotal: 10.7s\tremaining: 1.58s\n871:\tlearn: 0.3017871\ttotal: 10.7s\tremaining: 1.57s\n872:\tlearn: 0.3017016\ttotal: 10.7s\tremaining: 1.56s\n873:\tlearn: 0.3016590\ttotal: 10.7s\tremaining: 1.54s\n874:\tlearn: 0.3015723\ttotal: 10.7s\tremaining: 1.53s\n875:\tlearn: 0.3015117\ttotal: 10.7s\tremaining: 1.52s\n876:\tlearn: 0.3014538\ttotal: 10.7s\tremaining: 1.5s\n877:\tlearn: 0.3013621\ttotal: 10.8s\tremaining: 1.5s\n878:\tlearn: 0.3012626\ttotal: 10.8s\tremaining: 1.48s\n879:\tlearn: 0.3011795\ttotal: 10.8s\tremaining: 1.47s\n880:\tlearn: 0.3011020\ttotal: 10.8s\tremaining: 1.46s\n881:\tlearn: 0.3010399\ttotal: 10.8s\tremaining: 1.44s\n882:\tlearn: 0.3009846\ttotal: 10.8s\tremaining: 1.43s\n883:\tlearn: 0.3009023\ttotal: 10.8s\tremaining: 1.42s\n884:\tlearn: 0.3008125\ttotal: 10.8s\tremaining: 1.4s\n885:\tlearn: 0.3006800\ttotal: 10.8s\tremaining: 1.39s\n886:\tlearn: 0.3005895\ttotal: 10.8s\tremaining: 1.38s\n887:\tlearn: 0.3005208\ttotal: 10.8s\tremaining: 1.36s\n888:\tlearn: 0.3004281\ttotal: 10.8s\tremaining: 1.35s\n889:\tlearn: 0.3003620\ttotal: 10.8s\tremaining: 1.34s\n890:\tlearn: 0.3002775\ttotal: 10.9s\tremaining: 1.33s\n891:\tlearn: 0.3001845\ttotal: 10.9s\tremaining: 1.32s\n892:\tlearn: 0.3000688\ttotal: 10.9s\tremaining: 1.3s\n893:\tlearn: 0.2999905\ttotal: 10.9s\tremaining: 1.29s\n894:\tlearn: 0.2999361\ttotal: 10.9s\tremaining: 1.28s\n895:\tlearn: 0.2998597\ttotal: 10.9s\tremaining: 1.26s\n896:\tlearn: 0.2997976\ttotal: 10.9s\tremaining: 1.25s\n897:\tlearn: 0.2997409\ttotal: 10.9s\tremaining: 1.24s\n898:\tlearn: 0.2996188\ttotal: 10.9s\tremaining: 1.23s\n899:\tlearn: 0.2995588\ttotal: 10.9s\tremaining: 1.22s\n900:\tlearn: 0.2994779\ttotal: 10.9s\tremaining: 1.2s\n901:\tlearn: 0.2993895\ttotal: 11s\tremaining: 1.19s\n902:\tlearn: 0.2993151\ttotal: 11s\tremaining: 1.18s\n903:\tlearn: 0.2992533\ttotal: 11s\tremaining: 1.17s\n904:\tlearn: 0.2991771\ttotal: 11s\tremaining: 1.15s\n905:\tlearn: 0.2991171\ttotal: 11s\tremaining: 1.14s\n906:\tlearn: 0.2990406\ttotal: 11s\tremaining: 1.13s\n907:\tlearn: 0.2989913\ttotal: 11s\tremaining: 1.11s\n908:\tlearn: 0.2988941\ttotal: 11s\tremaining: 1.1s\n909:\tlearn: 0.2987786\ttotal: 11s\tremaining: 1.09s\n910:\tlearn: 0.2987261\ttotal: 11s\tremaining: 1.08s\n911:\tlearn: 0.2985809\ttotal: 11s\tremaining: 1.06s\n912:\tlearn: 0.2984585\ttotal: 11s\tremaining: 1.05s\n913:\tlearn: 0.2983652\ttotal: 11.1s\tremaining: 1.04s\n914:\tlearn: 0.2982983\ttotal: 11.1s\tremaining: 1.03s\n915:\tlearn: 0.2982364\ttotal: 11.1s\tremaining: 1.01s\n916:\tlearn: 0.2981900\ttotal: 11.1s\tremaining: 1s\n917:\tlearn: 0.2980734\ttotal: 11.1s\tremaining: 990ms\n918:\tlearn: 0.2980209\ttotal: 11.1s\tremaining: 978ms\n919:\tlearn: 0.2979045\ttotal: 11.1s\tremaining: 965ms\n920:\tlearn: 0.2978219\ttotal: 11.1s\tremaining: 953ms\n921:\tlearn: 0.2977623\ttotal: 11.1s\tremaining: 941ms\n922:\tlearn: 0.2977021\ttotal: 11.2s\tremaining: 932ms\n923:\tlearn: 0.2976459\ttotal: 11.2s\tremaining: 920ms\n924:\tlearn: 0.2975768\ttotal: 11.2s\tremaining: 908ms\n925:\tlearn: 0.2975427\ttotal: 11.2s\tremaining: 896ms\n926:\tlearn: 0.2974492\ttotal: 11.2s\tremaining: 884ms\n927:\tlearn: 0.2973687\ttotal: 11.2s\tremaining: 872ms\n928:\tlearn: 0.2972586\ttotal: 11.3s\tremaining: 861ms\n929:\tlearn: 0.2971739\ttotal: 11.3s\tremaining: 849ms\n930:\tlearn: 0.2971070\ttotal: 11.3s\tremaining: 837ms\n931:\tlearn: 0.2970182\ttotal: 11.3s\tremaining: 825ms\n932:\tlearn: 0.2969315\ttotal: 11.3s\tremaining: 812ms\n933:\tlearn: 0.2968765\ttotal: 11.4s\tremaining: 803ms\n934:\tlearn: 0.2967997\ttotal: 11.4s\tremaining: 790ms\n935:\tlearn: 0.2966905\ttotal: 11.4s\tremaining: 778ms\n936:\tlearn: 0.2966553\ttotal: 11.4s\tremaining: 766ms\n937:\tlearn: 0.2965888\ttotal: 11.4s\tremaining: 754ms\n938:\tlearn: 0.2964962\ttotal: 11.4s\tremaining: 742ms\n939:\tlearn: 0.2964081\ttotal: 11.5s\tremaining: 731ms\n940:\tlearn: 0.2963390\ttotal: 11.5s\tremaining: 719ms\n941:\tlearn: 0.2962517\ttotal: 11.5s\tremaining: 707ms\n942:\tlearn: 0.2961843\ttotal: 11.5s\tremaining: 695ms\n943:\tlearn: 0.2960888\ttotal: 11.5s\tremaining: 684ms\n944:\tlearn: 0.2960082\ttotal: 11.6s\tremaining: 673ms\n945:\tlearn: 0.2959167\ttotal: 11.6s\tremaining: 660ms\n946:\tlearn: 0.2958512\ttotal: 11.6s\tremaining: 648ms\n947:\tlearn: 0.2957434\ttotal: 11.6s\tremaining: 636ms\n948:\tlearn: 0.2956603\ttotal: 11.6s\tremaining: 624ms\n949:\tlearn: 0.2956064\ttotal: 11.7s\tremaining: 613ms\n950:\tlearn: 0.2955255\ttotal: 11.7s\tremaining: 601ms\n951:\tlearn: 0.2954585\ttotal: 11.7s\tremaining: 589ms\n952:\tlearn: 0.2953943\ttotal: 11.7s\tremaining: 576ms\n953:\tlearn: 0.2953140\ttotal: 11.7s\tremaining: 564ms\n954:\tlearn: 0.2952233\ttotal: 11.7s\tremaining: 552ms\n955:\tlearn: 0.2951318\ttotal: 11.7s\tremaining: 540ms\n956:\tlearn: 0.2950271\ttotal: 11.8s\tremaining: 529ms\n957:\tlearn: 0.2949437\ttotal: 11.8s\tremaining: 517ms\n958:\tlearn: 0.2949026\ttotal: 11.8s\tremaining: 505ms\n959:\tlearn: 0.2948397\ttotal: 11.8s\tremaining: 492ms\n960:\tlearn: 0.2947598\ttotal: 11.8s\tremaining: 480ms\n961:\tlearn: 0.2947174\ttotal: 11.9s\tremaining: 468ms\n962:\tlearn: 0.2946599\ttotal: 11.9s\tremaining: 456ms\n963:\tlearn: 0.2946399\ttotal: 11.9s\tremaining: 444ms\n964:\tlearn: 0.2945622\ttotal: 11.9s\tremaining: 431ms\n965:\tlearn: 0.2945113\ttotal: 11.9s\tremaining: 419ms\n966:\tlearn: 0.2944383\ttotal: 11.9s\tremaining: 408ms\n967:\tlearn: 0.2943773\ttotal: 12s\tremaining: 395ms\n968:\tlearn: 0.2943233\ttotal: 12s\tremaining: 383ms\n969:\tlearn: 0.2941937\ttotal: 12s\tremaining: 371ms\n970:\tlearn: 0.2941076\ttotal: 12s\tremaining: 358ms\n971:\tlearn: 0.2940409\ttotal: 12s\tremaining: 346ms\n972:\tlearn: 0.2939528\ttotal: 12.1s\tremaining: 334ms\n973:\tlearn: 0.2938808\ttotal: 12.1s\tremaining: 322ms\n974:\tlearn: 0.2938254\ttotal: 12.1s\tremaining: 309ms\n975:\tlearn: 0.2937598\ttotal: 12.1s\tremaining: 297ms\n976:\tlearn: 0.2936737\ttotal: 12.1s\tremaining: 284ms\n977:\tlearn: 0.2935927\ttotal: 12.1s\tremaining: 272ms\n978:\tlearn: 0.2935470\ttotal: 12.1s\tremaining: 259ms\n979:\tlearn: 0.2934779\ttotal: 12.1s\tremaining: 247ms\n980:\tlearn: 0.2934171\ttotal: 12.1s\tremaining: 234ms\n981:\tlearn: 0.2933516\ttotal: 12.1s\tremaining: 222ms\n982:\tlearn: 0.2932797\ttotal: 12.1s\tremaining: 210ms\n983:\tlearn: 0.2931560\ttotal: 12.1s\tremaining: 198ms\n984:\tlearn: 0.2930935\ttotal: 12.2s\tremaining: 185ms\n985:\tlearn: 0.2929918\ttotal: 12.2s\tremaining: 173ms\n986:\tlearn: 0.2928778\ttotal: 12.2s\tremaining: 160ms\n987:\tlearn: 0.2928246\ttotal: 12.2s\tremaining: 148ms\n988:\tlearn: 0.2927566\ttotal: 12.2s\tremaining: 136ms\n989:\tlearn: 0.2926891\ttotal: 12.2s\tremaining: 123ms\n990:\tlearn: 0.2925723\ttotal: 12.2s\tremaining: 111ms\n991:\tlearn: 0.2925133\ttotal: 12.2s\tremaining: 98.4ms\n992:\tlearn: 0.2924562\ttotal: 12.2s\tremaining: 86ms\n993:\tlearn: 0.2923923\ttotal: 12.2s\tremaining: 73.7ms\n994:\tlearn: 0.2923191\ttotal: 12.2s\tremaining: 61.5ms\n995:\tlearn: 0.2922442\ttotal: 12.2s\tremaining: 49.2ms\n996:\tlearn: 0.2921749\ttotal: 12.2s\tremaining: 36.9ms\n997:\tlearn: 0.2921141\ttotal: 12.3s\tremaining: 24.6ms\n998:\tlearn: 0.2920412\ttotal: 12.3s\tremaining: 12.3ms\n999:\tlearn: 0.2919685\ttotal: 12.3s\tremaining: 0us\n",
     "output_type": "stream"
    },
    {
     "output_type": "execute_result",
     "execution_count": 143,
     "data": {
      "text/plain": "<pandas.io.formats.style.Styler at 0x7f4d343f2d90>",
      "text/html": "<style  type=\"text/css\" >\n#T_01975_row0_col1,#T_01975_row1_col1,#T_01975_row2_col1{\n            width:  10em;\n             height:  80%;\n            background:  linear-gradient(90deg,#5fba7d 83.1%, transparent 83.1%);\n        }#T_01975_row0_col2{\n            width:  10em;\n             height:  80%;\n            background:  linear-gradient(90deg,#5fba7d 53.9%, transparent 53.9%);\n        }#T_01975_row1_col2,#T_01975_row2_col2{\n            width:  10em;\n             height:  80%;\n            background:  linear-gradient(90deg,#5fba7d 51.4%, transparent 51.4%);\n        }#T_01975_row3_col1{\n            width:  10em;\n             height:  80%;\n            background:  linear-gradient(90deg,#5fba7d 83.0%, transparent 83.0%);\n        }#T_01975_row3_col2{\n            width:  10em;\n             height:  80%;\n            background:  linear-gradient(90deg,#5fba7d 53.5%, transparent 53.5%);\n        }#T_01975_row4_col1,#T_01975_row5_col1{\n            width:  10em;\n             height:  80%;\n            background:  linear-gradient(90deg,#5fba7d 82.9%, transparent 82.9%);\n        }#T_01975_row4_col2{\n            width:  10em;\n             height:  80%;\n            background:  linear-gradient(90deg,#5fba7d 51.7%, transparent 51.7%);\n        }#T_01975_row5_col2{\n            width:  10em;\n             height:  80%;\n            background:  linear-gradient(90deg,#5fba7d 53.3%, transparent 53.3%);\n        }#T_01975_row6_col1{\n            width:  10em;\n             height:  80%;\n            background:  linear-gradient(90deg,#5fba7d 82.6%, transparent 82.6%);\n        }#T_01975_row6_col2,#T_01975_row7_col2{\n            width:  10em;\n             height:  80%;\n            background:  linear-gradient(90deg,#5fba7d 54.2%, transparent 54.2%);\n        }#T_01975_row7_col1{\n            width:  10em;\n             height:  80%;\n            background:  linear-gradient(90deg,#5fba7d 82.0%, transparent 82.0%);\n        }#T_01975_row8_col1{\n            width:  10em;\n             height:  80%;\n            background:  linear-gradient(90deg,#5fba7d 74.5%, transparent 74.5%);\n        }#T_01975_row8_col2{\n            width:  10em;\n             height:  80%;\n            background:  linear-gradient(90deg,#5fba7d 55.9%, transparent 55.9%);\n        }</style><table id=\"T_01975_\" ><thead>    <tr>        <th class=\"blank level0\" ></th>        <th class=\"col_heading level0 col0\" >Model</th>        <th class=\"col_heading level0 col1\" >Accuracy</th>        <th class=\"col_heading level0 col2\" >Bal Acc.</th>        <th class=\"col_heading level0 col3\" >Time</th>    </tr></thead><tbody>\n                <tr>\n                        <th id=\"T_01975_level0_row0\" class=\"row_heading level0 row0\" >1</th>\n                        <td id=\"T_01975_row0_col0\" class=\"data row0 col0\" >Random Forest</td>\n                        <td id=\"T_01975_row0_col1\" class=\"data row0 col1\" >83.130218</td>\n                        <td id=\"T_01975_row0_col2\" class=\"data row0 col2\" >53.853780</td>\n                        <td id=\"T_01975_row0_col3\" class=\"data row0 col3\" >22.861607</td>\n            </tr>\n            <tr>\n                        <th id=\"T_01975_level0_row1\" class=\"row_heading level0 row1\" >2</th>\n                        <td id=\"T_01975_row1_col0\" class=\"data row1 col0\" >Skl GBM</td>\n                        <td id=\"T_01975_row1_col1\" class=\"data row1 col1\" >83.053450</td>\n                        <td id=\"T_01975_row1_col2\" class=\"data row1 col2\" >51.375881</td>\n                        <td id=\"T_01975_row1_col3\" class=\"data row1 col3\" >23.363821</td>\n            </tr>\n            <tr>\n                        <th id=\"T_01975_level0_row2\" class=\"row_heading level0 row2\" >3</th>\n                        <td id=\"T_01975_row2_col0\" class=\"data row2 col0\" >Skl HistGBM</td>\n                        <td id=\"T_01975_row2_col1\" class=\"data row2 col1\" >83.053450</td>\n                        <td id=\"T_01975_row2_col2\" class=\"data row2 col2\" >51.375881</td>\n                        <td id=\"T_01975_row2_col3\" class=\"data row2 col3\" >23.436969</td>\n            </tr>\n            <tr>\n                        <th id=\"T_01975_level0_row3\" class=\"row_heading level0 row3\" >4</th>\n                        <td id=\"T_01975_row3_col0\" class=\"data row3 col0\" >CatBoost</td>\n                        <td id=\"T_01975_row3_col1\" class=\"data row3 col1\" >83.015066</td>\n                        <td id=\"T_01975_row3_col2\" class=\"data row3 col2\" >53.509348</td>\n                        <td id=\"T_01975_row3_col3\" class=\"data row3 col3\" >166.536472</td>\n            </tr>\n            <tr>\n                        <th id=\"T_01975_level0_row4\" class=\"row_heading level0 row4\" >5</th>\n                        <td id=\"T_01975_row4_col0\" class=\"data row4 col0\" >AdaBoost</td>\n                        <td id=\"T_01975_row4_col1\" class=\"data row4 col1\" >82.871126</td>\n                        <td id=\"T_01975_row4_col2\" class=\"data row4 col2\" >51.679371</td>\n                        <td id=\"T_01975_row4_col3\" class=\"data row4 col3\" >8.212822</td>\n            </tr>\n            <tr>\n                        <th id=\"T_01975_level0_row5\" class=\"row_heading level0 row5\" >6</th>\n                        <td id=\"T_01975_row5_col0\" class=\"data row5 col0\" >LightGBM</td>\n                        <td id=\"T_01975_row5_col1\" class=\"data row5 col1\" >82.851934</td>\n                        <td id=\"T_01975_row5_col2\" class=\"data row5 col2\" >53.296703</td>\n                        <td id=\"T_01975_row5_col3\" class=\"data row5 col3\" >34.493766</td>\n            </tr>\n            <tr>\n                        <th id=\"T_01975_level0_row6\" class=\"row_heading level0 row6\" >7</th>\n                        <td id=\"T_01975_row6_col0\" class=\"data row6 col0\" >Extra Trees</td>\n                        <td id=\"T_01975_row6_col1\" class=\"data row6 col1\" >82.554457</td>\n                        <td id=\"T_01975_row6_col2\" class=\"data row6 col2\" >54.242250</td>\n                        <td id=\"T_01975_row6_col3\" class=\"data row6 col3\" >15.590864</td>\n            </tr>\n            <tr>\n                        <th id=\"T_01975_level0_row7\" class=\"row_heading level0 row7\" >8</th>\n                        <td id=\"T_01975_row7_col0\" class=\"data row7 col0\" >XGBoost</td>\n                        <td id=\"T_01975_row7_col1\" class=\"data row7 col1\" >81.988293</td>\n                        <td id=\"T_01975_row7_col2\" class=\"data row7 col2\" >54.177648</td>\n                        <td id=\"T_01975_row7_col3\" class=\"data row7 col3\" >231.504472</td>\n            </tr>\n            <tr>\n                        <th id=\"T_01975_level0_row8\" class=\"row_heading level0 row8\" >9</th>\n                        <td id=\"T_01975_row8_col0\" class=\"data row8 col0\" >Decision Tree</td>\n                        <td id=\"T_01975_row8_col1\" class=\"data row8 col1\" >74.465023</td>\n                        <td id=\"T_01975_row8_col2\" class=\"data row8 col2\" >55.924058</td>\n                        <td id=\"T_01975_row8_col3\" class=\"data row8 col3\" >1.800274</td>\n            </tr>\n    </tbody></table>"
     },
     "metadata": {}
    }
   ]
  },
  {
   "cell_type": "markdown",
   "source": "### Mult Models",
   "metadata": {
    "tags": [],
    "cell_id": "00013-f51a4a65-a7eb-4087-8271-5640094b9bcf",
    "deepnote_cell_type": "markdown"
   }
  },
  {
   "cell_type": "code",
   "metadata": {
    "tags": [],
    "cell_id": "00014-2b76123b-819d-4261-91e6-6c84b07b4c70",
    "deepnote_to_be_reexecuted": false,
    "source_hash": "ad1a164a",
    "execution_start": 1620997166416,
    "execution_millis": 47,
    "deepnote_cell_type": "code"
   },
   "source": "cat_4_mult_Models = pipeline.Pipeline(steps=[\n    ('one hot', preprocessing.OneHotEncoder(handle_unknown='ignore'))])\n\n\nnum_4_mult_Models=pipeline.Pipeline(steps=[\n    ((\"quantile transformer\",preprocessing.QuantileTransformer(n_quantiles=100, random_state=0,\n    output_distribution='normal')))])\n\n\nmult_prepro=compose.ColumnTransformer(transformers=[\n    (\"categorical\",cat_4_mult_Models,cat_vars),\n    (\"numerical\",num_4_mult_Models,num_vars)]) \n\nmult_prepro",
   "execution_count": null,
   "outputs": [
    {
     "output_type": "execute_result",
     "execution_count": 149,
     "data": {
      "text/plain": "ColumnTransformer(transformers=[('categorical',\n                                 Pipeline(steps=[('one hot',\n                                                  OneHotEncoder(handle_unknown='ignore'))]),\n                                 ['Month', 'OperatingSystems', 'Browser',\n                                  'Region', 'VisitorType', 'Weekend']),\n                                ('numerical',\n                                 Pipeline(steps=[('quantile transformer',\n                                                  QuantileTransformer(n_quantiles=100,\n                                                                      output_distribution='normal',\n                                                                      random_state=0))]),\n                                 ['Administ_Dur', 'Informational_Dur',\n                                  'ProductRelated_Dur', 'bounce_exit',\n                                  'SpecialDay'])])",
      "text/html": "<style>#sk-eed8ae3a-13d6-4eaf-a35a-a5493961c72c {color: black;background-color: white;}#sk-eed8ae3a-13d6-4eaf-a35a-a5493961c72c pre{padding: 0;}#sk-eed8ae3a-13d6-4eaf-a35a-a5493961c72c div.sk-toggleable {background-color: white;}#sk-eed8ae3a-13d6-4eaf-a35a-a5493961c72c label.sk-toggleable__label {cursor: pointer;display: block;width: 100%;margin-bottom: 0;padding: 0.2em 0.3em;box-sizing: border-box;text-align: center;}#sk-eed8ae3a-13d6-4eaf-a35a-a5493961c72c div.sk-toggleable__content {max-height: 0;max-width: 0;overflow: hidden;text-align: left;background-color: #f0f8ff;}#sk-eed8ae3a-13d6-4eaf-a35a-a5493961c72c div.sk-toggleable__content pre {margin: 0.2em;color: black;border-radius: 0.25em;background-color: #f0f8ff;}#sk-eed8ae3a-13d6-4eaf-a35a-a5493961c72c input.sk-toggleable__control:checked~div.sk-toggleable__content {max-height: 200px;max-width: 100%;overflow: auto;}#sk-eed8ae3a-13d6-4eaf-a35a-a5493961c72c div.sk-estimator input.sk-toggleable__control:checked~label.sk-toggleable__label {background-color: #d4ebff;}#sk-eed8ae3a-13d6-4eaf-a35a-a5493961c72c div.sk-label input.sk-toggleable__control:checked~label.sk-toggleable__label {background-color: #d4ebff;}#sk-eed8ae3a-13d6-4eaf-a35a-a5493961c72c input.sk-hidden--visually {border: 0;clip: rect(1px 1px 1px 1px);clip: rect(1px, 1px, 1px, 1px);height: 1px;margin: -1px;overflow: hidden;padding: 0;position: absolute;width: 1px;}#sk-eed8ae3a-13d6-4eaf-a35a-a5493961c72c div.sk-estimator {font-family: monospace;background-color: #f0f8ff;margin: 0.25em 0.25em;border: 1px dotted black;border-radius: 0.25em;box-sizing: border-box;}#sk-eed8ae3a-13d6-4eaf-a35a-a5493961c72c div.sk-estimator:hover {background-color: #d4ebff;}#sk-eed8ae3a-13d6-4eaf-a35a-a5493961c72c div.sk-parallel-item::after {content: \"\";width: 100%;border-bottom: 1px solid gray;flex-grow: 1;}#sk-eed8ae3a-13d6-4eaf-a35a-a5493961c72c div.sk-label:hover label.sk-toggleable__label {background-color: #d4ebff;}#sk-eed8ae3a-13d6-4eaf-a35a-a5493961c72c div.sk-serial::before {content: \"\";position: absolute;border-left: 1px solid gray;box-sizing: border-box;top: 2em;bottom: 0;left: 50%;}#sk-eed8ae3a-13d6-4eaf-a35a-a5493961c72c div.sk-serial {display: flex;flex-direction: column;align-items: center;background-color: white;}#sk-eed8ae3a-13d6-4eaf-a35a-a5493961c72c div.sk-item {z-index: 1;}#sk-eed8ae3a-13d6-4eaf-a35a-a5493961c72c div.sk-parallel {display: flex;align-items: stretch;justify-content: center;background-color: white;}#sk-eed8ae3a-13d6-4eaf-a35a-a5493961c72c div.sk-parallel-item {display: flex;flex-direction: column;position: relative;background-color: white;}#sk-eed8ae3a-13d6-4eaf-a35a-a5493961c72c div.sk-parallel-item:first-child::after {align-self: flex-end;width: 50%;}#sk-eed8ae3a-13d6-4eaf-a35a-a5493961c72c div.sk-parallel-item:last-child::after {align-self: flex-start;width: 50%;}#sk-eed8ae3a-13d6-4eaf-a35a-a5493961c72c div.sk-parallel-item:only-child::after {width: 0;}#sk-eed8ae3a-13d6-4eaf-a35a-a5493961c72c div.sk-dashed-wrapped {border: 1px dashed gray;margin: 0.2em;box-sizing: border-box;padding-bottom: 0.1em;background-color: white;position: relative;}#sk-eed8ae3a-13d6-4eaf-a35a-a5493961c72c div.sk-label label {font-family: monospace;font-weight: bold;background-color: white;display: inline-block;line-height: 1.2em;}#sk-eed8ae3a-13d6-4eaf-a35a-a5493961c72c div.sk-label-container {position: relative;z-index: 2;text-align: center;}#sk-eed8ae3a-13d6-4eaf-a35a-a5493961c72c div.sk-container {display: inline-block;position: relative;}</style><div id=\"sk-eed8ae3a-13d6-4eaf-a35a-a5493961c72c\" class\"sk-top-container\"><div class=\"sk-container\"><div class=\"sk-item sk-dashed-wrapped\"><div class=\"sk-label-container\"><div class=\"sk-label sk-toggleable\"><input class=\"sk-toggleable__control sk-hidden--visually\" id=\"a23b1eb1-365c-4b13-9b7e-036c47b98c41\" type=\"checkbox\" ><label class=\"sk-toggleable__label\" for=\"a23b1eb1-365c-4b13-9b7e-036c47b98c41\">ColumnTransformer</label><div class=\"sk-toggleable__content\"><pre>ColumnTransformer(transformers=[('categorical',\n                                 Pipeline(steps=[('one hot',\n                                                  OneHotEncoder(handle_unknown='ignore'))]),\n                                 ['Month', 'OperatingSystems', 'Browser',\n                                  'Region', 'VisitorType', 'Weekend']),\n                                ('numerical',\n                                 Pipeline(steps=[('quantile transformer',\n                                                  QuantileTransformer(n_quantiles=100,\n                                                                      output_distribution='normal',\n                                                                      random_state=0))]),\n                                 ['Administ_Dur', 'Informational_Dur',\n                                  'ProductRelated_Dur', 'bounce_exit',\n                                  'SpecialDay'])])</pre></div></div></div><div class=\"sk-parallel\"><div class=\"sk-parallel-item\"><div class=\"sk-item\"><div class=\"sk-label-container\"><div class=\"sk-label sk-toggleable\"><input class=\"sk-toggleable__control sk-hidden--visually\" id=\"fd58a19d-d0db-4f01-999b-5c11763b51eb\" type=\"checkbox\" ><label class=\"sk-toggleable__label\" for=\"fd58a19d-d0db-4f01-999b-5c11763b51eb\">categorical</label><div class=\"sk-toggleable__content\"><pre>['Month', 'OperatingSystems', 'Browser', 'Region', 'VisitorType', 'Weekend']</pre></div></div></div><div class=\"sk-serial\"><div class=\"sk-item\"><div class=\"sk-serial\"><div class=\"sk-item\"><div class=\"sk-estimator sk-toggleable\"><input class=\"sk-toggleable__control sk-hidden--visually\" id=\"5742d1b0-d89d-45b1-94d4-96b797b28ad0\" type=\"checkbox\" ><label class=\"sk-toggleable__label\" for=\"5742d1b0-d89d-45b1-94d4-96b797b28ad0\">OneHotEncoder</label><div class=\"sk-toggleable__content\"><pre>OneHotEncoder(handle_unknown='ignore')</pre></div></div></div></div></div></div></div></div><div class=\"sk-parallel-item\"><div class=\"sk-item\"><div class=\"sk-label-container\"><div class=\"sk-label sk-toggleable\"><input class=\"sk-toggleable__control sk-hidden--visually\" id=\"fe1bbb56-f378-4f00-a284-79859b2e8663\" type=\"checkbox\" ><label class=\"sk-toggleable__label\" for=\"fe1bbb56-f378-4f00-a284-79859b2e8663\">numerical</label><div class=\"sk-toggleable__content\"><pre>['Administ_Dur', 'Informational_Dur', 'ProductRelated_Dur', 'bounce_exit', 'SpecialDay']</pre></div></div></div><div class=\"sk-serial\"><div class=\"sk-item\"><div class=\"sk-serial\"><div class=\"sk-item\"><div class=\"sk-estimator sk-toggleable\"><input class=\"sk-toggleable__control sk-hidden--visually\" id=\"7ee9b1fe-9dcc-452e-8829-cd32d06295e0\" type=\"checkbox\" ><label class=\"sk-toggleable__label\" for=\"7ee9b1fe-9dcc-452e-8829-cd32d06295e0\">QuantileTransformer</label><div class=\"sk-toggleable__content\"><pre>QuantileTransformer(n_quantiles=100, output_distribution='normal',\n                    random_state=0)</pre></div></div></div></div></div></div></div></div></div></div></div></div>"
     },
     "metadata": {}
    }
   ]
  },
  {
   "cell_type": "code",
   "metadata": {
    "tags": [],
    "cell_id": "00013-44a46f8b-2cd8-4d18-b0bd-1b93c68140fd",
    "deepnote_to_be_reexecuted": false,
    "source_hash": "dcb082b0",
    "execution_start": 1620997167125,
    "execution_millis": 11,
    "deepnote_cell_type": "code"
   },
   "source": "from sklearn import svm\nfrom sklearn.linear_model import LogisticRegression\nfrom sklearn.neighbors import KNeighborsClassifier\nfrom sklearn.neural_network import MLPClassifier\nfrom sklearn.naive_bayes import GaussianNB\nfrom sklearn.discriminant_analysis import LinearDiscriminantAnalysis\n",
   "execution_count": null,
   "outputs": []
  },
  {
   "cell_type": "code",
   "metadata": {
    "tags": [],
    "cell_id": "00015-3eabe38b-e737-4ba4-9aa3-6023aea99311",
    "deepnote_to_be_reexecuted": false,
    "source_hash": "5584ce8d",
    "execution_start": 1620997167764,
    "execution_millis": 106,
    "deepnote_cell_type": "code"
   },
   "source": "mult_pipelines={\n    \"SVM\": svm.SVC(),\n    \"Logistic\": LogisticRegression(max_iter=500),\n    \"KNN\":KNeighborsClassifier(n_neighbors=3),\n    \"MLP\":MLPClassifier(solver='lbfgs', alpha=1e-5,hidden_layer_sizes=(5, 2), random_state=1)}\n\nmult_pipelines = {name: pipeline.make_pipeline(mult_prepro, model) for name, model in mult_pipelines.items()}\n\nmult_pipelines[\"SVM\"]",
   "execution_count": null,
   "outputs": [
    {
     "output_type": "execute_result",
     "execution_count": 151,
     "data": {
      "text/plain": "Pipeline(steps=[('columntransformer',\n                 ColumnTransformer(transformers=[('categorical',\n                                                  Pipeline(steps=[('one hot',\n                                                                   OneHotEncoder(handle_unknown='ignore'))]),\n                                                  ['Month', 'OperatingSystems',\n                                                   'Browser', 'Region',\n                                                   'VisitorType', 'Weekend']),\n                                                 ('numerical',\n                                                  Pipeline(steps=[('quantile '\n                                                                   'transformer',\n                                                                   QuantileTransformer(n_quantiles=100,\n                                                                                       output_distribution='normal',\n                                                                                       random_state=0))]),\n                                                  ['Administ_Dur',\n                                                   'Informational_Dur',\n                                                   'ProductRelated_Dur',\n                                                   'bounce_exit',\n                                                   'SpecialDay'])])),\n                ('svc', SVC())])",
      "text/html": "<style>#sk-3335a857-72fc-4b8c-bb44-9ad90089a064 {color: black;background-color: white;}#sk-3335a857-72fc-4b8c-bb44-9ad90089a064 pre{padding: 0;}#sk-3335a857-72fc-4b8c-bb44-9ad90089a064 div.sk-toggleable {background-color: white;}#sk-3335a857-72fc-4b8c-bb44-9ad90089a064 label.sk-toggleable__label {cursor: pointer;display: block;width: 100%;margin-bottom: 0;padding: 0.2em 0.3em;box-sizing: border-box;text-align: center;}#sk-3335a857-72fc-4b8c-bb44-9ad90089a064 div.sk-toggleable__content {max-height: 0;max-width: 0;overflow: hidden;text-align: left;background-color: #f0f8ff;}#sk-3335a857-72fc-4b8c-bb44-9ad90089a064 div.sk-toggleable__content pre {margin: 0.2em;color: black;border-radius: 0.25em;background-color: #f0f8ff;}#sk-3335a857-72fc-4b8c-bb44-9ad90089a064 input.sk-toggleable__control:checked~div.sk-toggleable__content {max-height: 200px;max-width: 100%;overflow: auto;}#sk-3335a857-72fc-4b8c-bb44-9ad90089a064 div.sk-estimator input.sk-toggleable__control:checked~label.sk-toggleable__label {background-color: #d4ebff;}#sk-3335a857-72fc-4b8c-bb44-9ad90089a064 div.sk-label input.sk-toggleable__control:checked~label.sk-toggleable__label {background-color: #d4ebff;}#sk-3335a857-72fc-4b8c-bb44-9ad90089a064 input.sk-hidden--visually {border: 0;clip: rect(1px 1px 1px 1px);clip: rect(1px, 1px, 1px, 1px);height: 1px;margin: -1px;overflow: hidden;padding: 0;position: absolute;width: 1px;}#sk-3335a857-72fc-4b8c-bb44-9ad90089a064 div.sk-estimator {font-family: monospace;background-color: #f0f8ff;margin: 0.25em 0.25em;border: 1px dotted black;border-radius: 0.25em;box-sizing: border-box;}#sk-3335a857-72fc-4b8c-bb44-9ad90089a064 div.sk-estimator:hover {background-color: #d4ebff;}#sk-3335a857-72fc-4b8c-bb44-9ad90089a064 div.sk-parallel-item::after {content: \"\";width: 100%;border-bottom: 1px solid gray;flex-grow: 1;}#sk-3335a857-72fc-4b8c-bb44-9ad90089a064 div.sk-label:hover label.sk-toggleable__label {background-color: #d4ebff;}#sk-3335a857-72fc-4b8c-bb44-9ad90089a064 div.sk-serial::before {content: \"\";position: absolute;border-left: 1px solid gray;box-sizing: border-box;top: 2em;bottom: 0;left: 50%;}#sk-3335a857-72fc-4b8c-bb44-9ad90089a064 div.sk-serial {display: flex;flex-direction: column;align-items: center;background-color: white;}#sk-3335a857-72fc-4b8c-bb44-9ad90089a064 div.sk-item {z-index: 1;}#sk-3335a857-72fc-4b8c-bb44-9ad90089a064 div.sk-parallel {display: flex;align-items: stretch;justify-content: center;background-color: white;}#sk-3335a857-72fc-4b8c-bb44-9ad90089a064 div.sk-parallel-item {display: flex;flex-direction: column;position: relative;background-color: white;}#sk-3335a857-72fc-4b8c-bb44-9ad90089a064 div.sk-parallel-item:first-child::after {align-self: flex-end;width: 50%;}#sk-3335a857-72fc-4b8c-bb44-9ad90089a064 div.sk-parallel-item:last-child::after {align-self: flex-start;width: 50%;}#sk-3335a857-72fc-4b8c-bb44-9ad90089a064 div.sk-parallel-item:only-child::after {width: 0;}#sk-3335a857-72fc-4b8c-bb44-9ad90089a064 div.sk-dashed-wrapped {border: 1px dashed gray;margin: 0.2em;box-sizing: border-box;padding-bottom: 0.1em;background-color: white;position: relative;}#sk-3335a857-72fc-4b8c-bb44-9ad90089a064 div.sk-label label {font-family: monospace;font-weight: bold;background-color: white;display: inline-block;line-height: 1.2em;}#sk-3335a857-72fc-4b8c-bb44-9ad90089a064 div.sk-label-container {position: relative;z-index: 2;text-align: center;}#sk-3335a857-72fc-4b8c-bb44-9ad90089a064 div.sk-container {display: inline-block;position: relative;}</style><div id=\"sk-3335a857-72fc-4b8c-bb44-9ad90089a064\" class\"sk-top-container\"><div class=\"sk-container\"><div class=\"sk-item sk-dashed-wrapped\"><div class=\"sk-label-container\"><div class=\"sk-label sk-toggleable\"><input class=\"sk-toggleable__control sk-hidden--visually\" id=\"d38c5f15-cf7b-417f-80d2-517c46a3af9c\" type=\"checkbox\" ><label class=\"sk-toggleable__label\" for=\"d38c5f15-cf7b-417f-80d2-517c46a3af9c\">Pipeline</label><div class=\"sk-toggleable__content\"><pre>Pipeline(steps=[('columntransformer',\n                 ColumnTransformer(transformers=[('categorical',\n                                                  Pipeline(steps=[('one hot',\n                                                                   OneHotEncoder(handle_unknown='ignore'))]),\n                                                  ['Month', 'OperatingSystems',\n                                                   'Browser', 'Region',\n                                                   'VisitorType', 'Weekend']),\n                                                 ('numerical',\n                                                  Pipeline(steps=[('quantile '\n                                                                   'transformer',\n                                                                   QuantileTransformer(n_quantiles=100,\n                                                                                       output_distribution='normal',\n                                                                                       random_state=0))]),\n                                                  ['Administ_Dur',\n                                                   'Informational_Dur',\n                                                   'ProductRelated_Dur',\n                                                   'bounce_exit',\n                                                   'SpecialDay'])])),\n                ('svc', SVC())])</pre></div></div></div><div class=\"sk-serial\"><div class=\"sk-item sk-dashed-wrapped\"><div class=\"sk-label-container\"><div class=\"sk-label sk-toggleable\"><input class=\"sk-toggleable__control sk-hidden--visually\" id=\"80f327fb-ea95-44fa-ac87-cf36c50dcd45\" type=\"checkbox\" ><label class=\"sk-toggleable__label\" for=\"80f327fb-ea95-44fa-ac87-cf36c50dcd45\">columntransformer: ColumnTransformer</label><div class=\"sk-toggleable__content\"><pre>ColumnTransformer(transformers=[('categorical',\n                                 Pipeline(steps=[('one hot',\n                                                  OneHotEncoder(handle_unknown='ignore'))]),\n                                 ['Month', 'OperatingSystems', 'Browser',\n                                  'Region', 'VisitorType', 'Weekend']),\n                                ('numerical',\n                                 Pipeline(steps=[('quantile transformer',\n                                                  QuantileTransformer(n_quantiles=100,\n                                                                      output_distribution='normal',\n                                                                      random_state=0))]),\n                                 ['Administ_Dur', 'Informational_Dur',\n                                  'ProductRelated_Dur', 'bounce_exit',\n                                  'SpecialDay'])])</pre></div></div></div><div class=\"sk-parallel\"><div class=\"sk-parallel-item\"><div class=\"sk-item\"><div class=\"sk-label-container\"><div class=\"sk-label sk-toggleable\"><input class=\"sk-toggleable__control sk-hidden--visually\" id=\"5730e5a5-1b01-4daf-b7a3-1f3fd66b73d9\" type=\"checkbox\" ><label class=\"sk-toggleable__label\" for=\"5730e5a5-1b01-4daf-b7a3-1f3fd66b73d9\">categorical</label><div class=\"sk-toggleable__content\"><pre>['Month', 'OperatingSystems', 'Browser', 'Region', 'VisitorType', 'Weekend']</pre></div></div></div><div class=\"sk-serial\"><div class=\"sk-item\"><div class=\"sk-serial\"><div class=\"sk-item\"><div class=\"sk-estimator sk-toggleable\"><input class=\"sk-toggleable__control sk-hidden--visually\" id=\"11d8aacb-3568-4c6b-ae1a-1a3fb6dde44b\" type=\"checkbox\" ><label class=\"sk-toggleable__label\" for=\"11d8aacb-3568-4c6b-ae1a-1a3fb6dde44b\">OneHotEncoder</label><div class=\"sk-toggleable__content\"><pre>OneHotEncoder(handle_unknown='ignore')</pre></div></div></div></div></div></div></div></div><div class=\"sk-parallel-item\"><div class=\"sk-item\"><div class=\"sk-label-container\"><div class=\"sk-label sk-toggleable\"><input class=\"sk-toggleable__control sk-hidden--visually\" id=\"9da060ec-a932-41bc-b994-cbcfc0855f1a\" type=\"checkbox\" ><label class=\"sk-toggleable__label\" for=\"9da060ec-a932-41bc-b994-cbcfc0855f1a\">numerical</label><div class=\"sk-toggleable__content\"><pre>['Administ_Dur', 'Informational_Dur', 'ProductRelated_Dur', 'bounce_exit', 'SpecialDay']</pre></div></div></div><div class=\"sk-serial\"><div class=\"sk-item\"><div class=\"sk-serial\"><div class=\"sk-item\"><div class=\"sk-estimator sk-toggleable\"><input class=\"sk-toggleable__control sk-hidden--visually\" id=\"5d919d8b-96a5-469e-bea2-3b531a448d8d\" type=\"checkbox\" ><label class=\"sk-toggleable__label\" for=\"5d919d8b-96a5-469e-bea2-3b531a448d8d\">QuantileTransformer</label><div class=\"sk-toggleable__content\"><pre>QuantileTransformer(n_quantiles=100, output_distribution='normal',\n                    random_state=0)</pre></div></div></div></div></div></div></div></div></div></div><div class=\"sk-item\"><div class=\"sk-estimator sk-toggleable\"><input class=\"sk-toggleable__control sk-hidden--visually\" id=\"c92790c1-e2ea-4bc9-95ed-b5bc03a167dd\" type=\"checkbox\" ><label class=\"sk-toggleable__label\" for=\"c92790c1-e2ea-4bc9-95ed-b5bc03a167dd\">SVC</label><div class=\"sk-toggleable__content\"><pre>SVC()</pre></div></div></div></div></div></div></div>"
     },
     "metadata": {}
    }
   ]
  },
  {
   "cell_type": "code",
   "metadata": {
    "tags": [],
    "cell_id": "00016-3baece2b-4822-4519-9b75-174f07e75660",
    "deepnote_to_be_reexecuted": false,
    "source_hash": "cd5d6706",
    "execution_start": 1620997167877,
    "execution_millis": 148587,
    "output_cleared": false,
    "deepnote_cell_type": "code"
   },
   "source": "\nfrom sklearn.model_selection import cross_val_predict\n\nskf = model_selection.StratifiedKFold(n_splits=10, random_state=0, shuffle=True)\n\nresults = pd.DataFrame({'Model': [], 'Accuracy': [], 'Bal Acc.': [], 'Time': []})\n\n\nfor model_name, model in mult_pipelines.items():\n    start_time = time.time()\n\n    #x=x.to_numpy()\n    #y=y.to_numpy() \n    pred = cross_val_predict(model, x,y, cv=skf)\n\n    total_time = time.time() - start_time\n\n    results = results.append({\"Model\":    model_name,\n                              \"Accuracy\": metrics.accuracy_score(y, pred)*100,\n                              \"Bal Acc.\": metrics.balanced_accuracy_score(y, pred)*100,\n                              \"Time\":     total_time},\n                              ignore_index=True)\n                              \n                              \n\nresults_ord = results.sort_values(by=['Accuracy'], ascending=False, ignore_index=True)\nresults_ord.index += 1 \nresults_ord.style.bar(subset=['Accuracy', 'Bal Acc.'], vmin=0, vmax=100, color='#5fba7d')\n",
   "execution_count": null,
   "outputs": [
    {
     "name": "stderr",
     "text": "/shared-libs/python3.7/py/lib/python3.7/site-packages/sklearn/neural_network/_multilayer_perceptron.py:500: ConvergenceWarning: lbfgs failed to converge (status=1):\nSTOP: TOTAL NO. of ITERATIONS REACHED LIMIT.\n\nIncrease the number of iterations (max_iter) or scale the data as shown in:\n    https://scikit-learn.org/stable/modules/preprocessing.html\n  self.n_iter_ = _check_optimize_result(\"lbfgs\", opt_res, self.max_iter)\n/shared-libs/python3.7/py/lib/python3.7/site-packages/sklearn/neural_network/_multilayer_perceptron.py:500: ConvergenceWarning: lbfgs failed to converge (status=1):\nSTOP: TOTAL NO. of ITERATIONS REACHED LIMIT.\n\nIncrease the number of iterations (max_iter) or scale the data as shown in:\n    https://scikit-learn.org/stable/modules/preprocessing.html\n  self.n_iter_ = _check_optimize_result(\"lbfgs\", opt_res, self.max_iter)\n/shared-libs/python3.7/py/lib/python3.7/site-packages/sklearn/neural_network/_multilayer_perceptron.py:500: ConvergenceWarning: lbfgs failed to converge (status=1):\nSTOP: TOTAL NO. of ITERATIONS REACHED LIMIT.\n\nIncrease the number of iterations (max_iter) or scale the data as shown in:\n    https://scikit-learn.org/stable/modules/preprocessing.html\n  self.n_iter_ = _check_optimize_result(\"lbfgs\", opt_res, self.max_iter)\n/shared-libs/python3.7/py/lib/python3.7/site-packages/sklearn/neural_network/_multilayer_perceptron.py:500: ConvergenceWarning: lbfgs failed to converge (status=1):\nSTOP: TOTAL NO. of ITERATIONS REACHED LIMIT.\n\nIncrease the number of iterations (max_iter) or scale the data as shown in:\n    https://scikit-learn.org/stable/modules/preprocessing.html\n  self.n_iter_ = _check_optimize_result(\"lbfgs\", opt_res, self.max_iter)\n/shared-libs/python3.7/py/lib/python3.7/site-packages/sklearn/neural_network/_multilayer_perceptron.py:500: ConvergenceWarning: lbfgs failed to converge (status=1):\nSTOP: TOTAL NO. of ITERATIONS REACHED LIMIT.\n\nIncrease the number of iterations (max_iter) or scale the data as shown in:\n    https://scikit-learn.org/stable/modules/preprocessing.html\n  self.n_iter_ = _check_optimize_result(\"lbfgs\", opt_res, self.max_iter)\n/shared-libs/python3.7/py/lib/python3.7/site-packages/sklearn/neural_network/_multilayer_perceptron.py:500: ConvergenceWarning: lbfgs failed to converge (status=1):\nSTOP: TOTAL NO. of ITERATIONS REACHED LIMIT.\n\nIncrease the number of iterations (max_iter) or scale the data as shown in:\n    https://scikit-learn.org/stable/modules/preprocessing.html\n  self.n_iter_ = _check_optimize_result(\"lbfgs\", opt_res, self.max_iter)\n/shared-libs/python3.7/py/lib/python3.7/site-packages/sklearn/neural_network/_multilayer_perceptron.py:500: ConvergenceWarning: lbfgs failed to converge (status=1):\nSTOP: TOTAL NO. of ITERATIONS REACHED LIMIT.\n\nIncrease the number of iterations (max_iter) or scale the data as shown in:\n    https://scikit-learn.org/stable/modules/preprocessing.html\n  self.n_iter_ = _check_optimize_result(\"lbfgs\", opt_res, self.max_iter)\n/shared-libs/python3.7/py/lib/python3.7/site-packages/sklearn/neural_network/_multilayer_perceptron.py:500: ConvergenceWarning: lbfgs failed to converge (status=1):\nSTOP: TOTAL NO. of ITERATIONS REACHED LIMIT.\n\nIncrease the number of iterations (max_iter) or scale the data as shown in:\n    https://scikit-learn.org/stable/modules/preprocessing.html\n  self.n_iter_ = _check_optimize_result(\"lbfgs\", opt_res, self.max_iter)\n/shared-libs/python3.7/py/lib/python3.7/site-packages/sklearn/neural_network/_multilayer_perceptron.py:500: ConvergenceWarning: lbfgs failed to converge (status=1):\nSTOP: TOTAL NO. of ITERATIONS REACHED LIMIT.\n\nIncrease the number of iterations (max_iter) or scale the data as shown in:\n    https://scikit-learn.org/stable/modules/preprocessing.html\n  self.n_iter_ = _check_optimize_result(\"lbfgs\", opt_res, self.max_iter)\n/shared-libs/python3.7/py/lib/python3.7/site-packages/sklearn/neural_network/_multilayer_perceptron.py:500: ConvergenceWarning: lbfgs failed to converge (status=1):\nSTOP: TOTAL NO. of ITERATIONS REACHED LIMIT.\n\nIncrease the number of iterations (max_iter) or scale the data as shown in:\n    https://scikit-learn.org/stable/modules/preprocessing.html\n  self.n_iter_ = _check_optimize_result(\"lbfgs\", opt_res, self.max_iter)\n",
     "output_type": "stream"
    },
    {
     "output_type": "execute_result",
     "execution_count": 152,
     "data": {
      "text/plain": "<pandas.io.formats.style.Styler at 0x7f4d34452850>",
      "text/html": "<style  type=\"text/css\" >\n#T_0413d_row0_col1{\n            width:  10em;\n             height:  80%;\n            background:  linear-gradient(90deg,#5fba7d 83.3%, transparent 83.3%);\n        }#T_0413d_row0_col2{\n            width:  10em;\n             height:  80%;\n            background:  linear-gradient(90deg,#5fba7d 50.0%, transparent 50.0%);\n        }#T_0413d_row1_col1,#T_0413d_row2_col1{\n            width:  10em;\n             height:  80%;\n            background:  linear-gradient(90deg,#5fba7d 83.1%, transparent 83.1%);\n        }#T_0413d_row1_col2{\n            width:  10em;\n             height:  80%;\n            background:  linear-gradient(90deg,#5fba7d 52.0%, transparent 52.0%);\n        }#T_0413d_row2_col2{\n            width:  10em;\n             height:  80%;\n            background:  linear-gradient(90deg,#5fba7d 51.4%, transparent 51.4%);\n        }#T_0413d_row3_col1{\n            width:  10em;\n             height:  80%;\n            background:  linear-gradient(90deg,#5fba7d 79.6%, transparent 79.6%);\n        }#T_0413d_row3_col2{\n            width:  10em;\n             height:  80%;\n            background:  linear-gradient(90deg,#5fba7d 54.8%, transparent 54.8%);\n        }</style><table id=\"T_0413d_\" ><thead>    <tr>        <th class=\"blank level0\" ></th>        <th class=\"col_heading level0 col0\" >Model</th>        <th class=\"col_heading level0 col1\" >Accuracy</th>        <th class=\"col_heading level0 col2\" >Bal Acc.</th>        <th class=\"col_heading level0 col3\" >Time</th>    </tr></thead><tbody>\n                <tr>\n                        <th id=\"T_0413d_level0_row0\" class=\"row_heading level0 row0\" >1</th>\n                        <td id=\"T_0413d_row0_col0\" class=\"data row0 col0\" >SVM</td>\n                        <td id=\"T_0413d_row0_col1\" class=\"data row0 col1\" >83.283754</td>\n                        <td id=\"T_0413d_row0_col2\" class=\"data row0 col2\" >50.000000</td>\n                        <td id=\"T_0413d_row0_col3\" class=\"data row0 col3\" >88.242922</td>\n            </tr>\n            <tr>\n                        <th id=\"T_0413d_level0_row1\" class=\"row_heading level0 row1\" >2</th>\n                        <td id=\"T_0413d_row1_col0\" class=\"data row1 col0\" >MLP</td>\n                        <td id=\"T_0413d_row1_col1\" class=\"data row1 col1\" >83.120622</td>\n                        <td id=\"T_0413d_row1_col2\" class=\"data row1 col2\" >51.966807</td>\n                        <td id=\"T_0413d_row1_col3\" class=\"data row1 col3\" >37.503534</td>\n            </tr>\n            <tr>\n                        <th id=\"T_0413d_level0_row2\" class=\"row_heading level0 row2\" >3</th>\n                        <td id=\"T_0413d_row2_col0\" class=\"data row2 col0\" >Logistic</td>\n                        <td id=\"T_0413d_row2_col1\" class=\"data row2 col1\" >83.082238</td>\n                        <td id=\"T_0413d_row2_col2\" class=\"data row2 col2\" >51.393164</td>\n                        <td id=\"T_0413d_row2_col3\" class=\"data row2 col3\" >11.528562</td>\n            </tr>\n            <tr>\n                        <th id=\"T_0413d_level0_row3\" class=\"row_heading level0 row3\" >4</th>\n                        <td id=\"T_0413d_row3_col0\" class=\"data row3 col0\" >KNN</td>\n                        <td id=\"T_0413d_row3_col1\" class=\"data row3 col1\" >79.560503</td>\n                        <td id=\"T_0413d_row3_col2\" class=\"data row3 col2\" >54.807793</td>\n                        <td id=\"T_0413d_row3_col3\" class=\"data row3 col3\" >11.152955</td>\n            </tr>\n    </tbody></table>"
     },
     "metadata": {}
    }
   ]
  },
  {
   "cell_type": "markdown",
   "source": "#### Feature Importance\n\nThe values towards the top are the most important features and those towards the bottom matter least.\n\nThe first number in each row shows how much model performance decreased with a random shuffling (in this case, using \"accuracy\" as the performance metric).\n\nLike most things in data science, there is some randomness to the exact performance change from shuffling a column. We measure the amount of randomness in our permutation importance calculation by repeating the process with multiple shuffles. The number after the ± measures how performance varied from one-reshuffling to the next.\n\nYou'll occasionally see negative values for permutation importances. In those cases, the predictions on the shuffled (or noisy) data happened to be more accurate than the real data. This happens when the feature didn't matter (should have had an importance close to 0), but random chance caused the predictions on shuffled data to be more accurate. This is more common with small datasets, like the one in this example, because there is more room for luck/chance.",
   "metadata": {
    "tags": [],
    "cell_id": "00018-2093b81c-1a95-4e9b-b734-bbdd4bbb475c",
    "deepnote_cell_type": "markdown"
   }
  },
  {
   "cell_type": "code",
   "metadata": {
    "tags": [],
    "cell_id": "00014-c4bc481f-7b4a-44c1-916e-e41fdfbcb958",
    "deepnote_to_be_reexecuted": false,
    "source_hash": "14888106",
    "execution_start": 1620997316467,
    "execution_millis": 28021,
    "deepnote_cell_type": "code"
   },
   "source": "#I got you stephan! :) \nfrom sklearn.inspection import permutation_importance\nr = permutation_importance(tree_pipelines[\"Skl GBM\"].fit(x,y), x, y,\n                        n_repeats=30,\n                        random_state=0)\n\nfor i in r.importances_mean.argsort()[::-1]:\n    if r.importances_mean[i] - 2 * r.importances_std[i] > 0:\n        print(f\"{df.columns[i]:<8}\"\n            f\"{r.importances_mean[i]:.3f}\"\n            f\" +/- {r.importances_std[i]:.3f}\")",
   "execution_count": null,
   "outputs": [
    {
     "name": "stdout",
     "text": "TrafficType0.009 +/- 0.001\nVisitorType0.006 +/- 0.001\nBounceRates0.005 +/- 0.001\nBrowser 0.004 +/- 0.001\nRegion  0.002 +/- 0.000\nMonth   0.002 +/- 0.000\nSpecialDay0.001 +/- 0.000\nPageValues0.001 +/- 0.000\nExitRates0.001 +/- 0.000\n",
     "output_type": "stream"
    }
   ]
  },
  {
   "cell_type": "markdown",
   "source": "#### Bayessian Optimization",
   "metadata": {
    "tags": [],
    "cell_id": "00020-26728fa0-9c3b-48c2-aad2-a5c0f21087b6",
    "deepnote_cell_type": "markdown"
   }
  },
  {
   "cell_type": "code",
   "metadata": {
    "tags": [],
    "cell_id": "00019-0133f10a-6ba3-4bed-b4e8-270810c01121",
    "deepnote_to_be_reexecuted": false,
    "source_hash": "3fef4e66",
    "execution_start": 1620997810674,
    "execution_millis": 0,
    "deepnote_cell_type": "code"
   },
   "source": "import optuna\nimport sklearn\ndef objective(trial):\n\n    skf = model_selection.StratifiedKFold(n_splits=10, random_state=0, shuffle=True)\n\n    tree_prepro.fit_transform(x)\n\n    n_estimators = trial.suggest_int('n_estimators', 2, 20)\n\n    max_depth = int(trial.suggest_loguniform('max_depth', 1, 32))\n    clf=pipeline.make_pipeline(tree_prepro, GradientBoostingClassifier(n_estimators=n_estimators, max_depth=max_depth))\n\n\n    return sklearn.model_selection.cross_val_score(clf, x, y, cv=skf).mean()\n\n",
   "execution_count": null,
   "outputs": []
  },
  {
   "cell_type": "code",
   "metadata": {
    "tags": [],
    "cell_id": "00020-6e6a099f-29d1-4cbc-9374-437edc264fa4",
    "deepnote_to_be_reexecuted": false,
    "source_hash": "f8a3c1d1",
    "execution_start": 1620997811256,
    "execution_millis": 370677,
    "deepnote_cell_type": "code"
   },
   "source": "study = optuna.create_study(direction='maximize')\nstudy.optimize(objective, n_trials=100)",
   "execution_count": null,
   "outputs": [
    {
     "name": "stderr",
     "text": "\u001b[32m[I 2021-05-14 13:10:11,247]\u001b[0m A new study created in memory with name: no-name-6e08706c-88df-44f7-aaad-9b40688e3e5e\u001b[0m\n\u001b[32m[I 2021-05-14 13:10:18,951]\u001b[0m Trial 0 finished with value: 0.8313026427899736 and parameters: {'n_estimators': 10, 'max_depth': 8.25537177762103}. Best is trial 0 with value: 0.8313026427899736.\u001b[0m\n\u001b[32m[I 2021-05-14 13:10:24,647]\u001b[0m Trial 1 finished with value: 0.8319740597677967 and parameters: {'n_estimators': 13, 'max_depth': 5.877739127976683}. Best is trial 1 with value: 0.8319740597677967.\u001b[0m\n\u001b[32m[I 2021-05-14 13:10:26,029]\u001b[0m Trial 2 finished with value: 0.8328375993507582 and parameters: {'n_estimators': 4, 'max_depth': 1.4254721607939722}. Best is trial 2 with value: 0.8328375993507582.\u001b[0m\n\u001b[32m[I 2021-05-14 13:10:28,055]\u001b[0m Trial 3 finished with value: 0.8328375993507582 and parameters: {'n_estimators': 11, 'max_depth': 1.956635295396592}. Best is trial 2 with value: 0.8328375993507582.\u001b[0m\n\u001b[32m[I 2021-05-14 13:10:34,328]\u001b[0m Trial 4 finished with value: 0.8318781824907113 and parameters: {'n_estimators': 4, 'max_depth': 12.31416694330057}. Best is trial 2 with value: 0.8328375993507582.\u001b[0m\n\u001b[32m[I 2021-05-14 13:11:04,579]\u001b[0m Trial 5 finished with value: 0.8057772960399557 and parameters: {'n_estimators': 12, 'max_depth': 16.185264842150158}. Best is trial 2 with value: 0.8328375993507582.\u001b[0m\n\u001b[32m[I 2021-05-14 13:11:12,358]\u001b[0m Trial 6 finished with value: 0.8321659983474511 and parameters: {'n_estimators': 19, 'max_depth': 5.619214890963733}. Best is trial 2 with value: 0.8328375993507582.\u001b[0m\n\u001b[32m[I 2021-05-14 13:11:15,480]\u001b[0m Trial 7 finished with value: 0.8328375993507582 and parameters: {'n_estimators': 13, 'max_depth': 2.4358951330346623}. Best is trial 2 with value: 0.8328375993507582.\u001b[0m\n\u001b[32m[I 2021-05-14 13:11:17,584]\u001b[0m Trial 8 finished with value: 0.8328375993507582 and parameters: {'n_estimators': 12, 'max_depth': 1.9788235987527167}. Best is trial 2 with value: 0.8328375993507582.\u001b[0m\n\u001b[32m[I 2021-05-14 13:11:20,462]\u001b[0m Trial 9 finished with value: 0.8328375993507582 and parameters: {'n_estimators': 20, 'max_depth': 1.5753171051256112}. Best is trial 2 with value: 0.8328375993507582.\u001b[0m\n\u001b[32m[I 2021-05-14 13:11:21,639]\u001b[0m Trial 10 finished with value: 0.8328375993507582 and parameters: {'n_estimators': 2, 'max_depth': 1.1272799034829701}. Best is trial 2 with value: 0.8328375993507582.\u001b[0m\n\u001b[32m[I 2021-05-14 13:11:23,598]\u001b[0m Trial 11 finished with value: 0.8328375993507582 and parameters: {'n_estimators': 6, 'max_depth': 2.9094698284182745}. Best is trial 2 with value: 0.8328375993507582.\u001b[0m\n\u001b[32m[I 2021-05-14 13:11:25,430]\u001b[0m Trial 12 finished with value: 0.8328375993507582 and parameters: {'n_estimators': 9, 'max_depth': 1.0339630761668541}. Best is trial 2 with value: 0.8328375993507582.\u001b[0m\n\u001b[32m[I 2021-05-14 13:11:30,077]\u001b[0m Trial 13 finished with value: 0.8328375993507582 and parameters: {'n_estimators': 16, 'max_depth': 3.4873703372936893}. Best is trial 2 with value: 0.8328375993507582.\u001b[0m\n\u001b[32m[I 2021-05-14 13:11:31,743]\u001b[0m Trial 14 finished with value: 0.8328375993507582 and parameters: {'n_estimators': 7, 'max_depth': 1.3569404900428592}. Best is trial 2 with value: 0.8328375993507582.\u001b[0m\n\u001b[32m[I 2021-05-14 13:11:37,314]\u001b[0m Trial 15 finished with value: 0.8326457527838456 and parameters: {'n_estimators': 16, 'max_depth': 4.24486867812576}. Best is trial 2 with value: 0.8328375993507582.\u001b[0m\n\u001b[32m[I 2021-05-14 13:11:38,460]\u001b[0m Trial 16 finished with value: 0.8328375993507582 and parameters: {'n_estimators': 2, 'max_depth': 1.875052392841581}. Best is trial 2 with value: 0.8328375993507582.\u001b[0m\n\u001b[32m[I 2021-05-14 13:11:40,278]\u001b[0m Trial 17 finished with value: 0.8328375993507582 and parameters: {'n_estimators': 8, 'max_depth': 1.0403405833217034}. Best is trial 2 with value: 0.8328375993507582.\u001b[0m\n\u001b[32m[I 2021-05-14 13:11:58,347]\u001b[0m Trial 18 finished with value: 0.7691208918611049 and parameters: {'n_estimators': 7, 'max_depth': 30.144569417552734}. Best is trial 2 with value: 0.8328375993507582.\u001b[0m\n\u001b[32m[I 2021-05-14 13:12:01,183]\u001b[0m Trial 19 finished with value: 0.8328375993507582 and parameters: {'n_estimators': 20, 'max_depth': 1.3732288918602804}. Best is trial 2 with value: 0.8328375993507582.\u001b[0m\n\u001b[32m[I 2021-05-14 13:12:03,758]\u001b[0m Trial 20 finished with value: 0.8328375993507582 and parameters: {'n_estimators': 16, 'max_depth': 1.0385160659405568}. Best is trial 2 with value: 0.8328375993507582.\u001b[0m\n\u001b[32m[I 2021-05-14 13:12:04,944]\u001b[0m Trial 21 finished with value: 0.8328375993507582 and parameters: {'n_estimators': 2, 'max_depth': 1.012456965351068}. Best is trial 2 with value: 0.8328375993507582.\u001b[0m\n\u001b[32m[I 2021-05-14 13:12:06,283]\u001b[0m Trial 22 finished with value: 0.8328375993507582 and parameters: {'n_estimators': 4, 'max_depth': 1.0060944420786546}. Best is trial 2 with value: 0.8328375993507582.\u001b[0m\n\u001b[32m[I 2021-05-14 13:12:11,148]\u001b[0m Trial 23 finished with value: 0.8328375993507582 and parameters: {'n_estimators': 17, 'max_depth': 3.1243183118521154}. Best is trial 2 with value: 0.8328375993507582.\u001b[0m\n\u001b[32m[I 2021-05-14 13:12:13,115]\u001b[0m Trial 24 finished with value: 0.8328375993507582 and parameters: {'n_estimators': 6, 'max_depth': 2.5208217761424816}. Best is trial 2 with value: 0.8328375993507582.\u001b[0m\n\u001b[32m[I 2021-05-14 13:12:14,492]\u001b[0m Trial 25 finished with value: 0.8328375993507582 and parameters: {'n_estimators': 4, 'max_depth': 1.0147656317950784}. Best is trial 2 with value: 0.8328375993507582.\u001b[0m\n\u001b[32m[I 2021-05-14 13:12:20,721]\u001b[0m Trial 26 finished with value: 0.8327417220736727 and parameters: {'n_estimators': 18, 'max_depth': 4.765810675261046}. Best is trial 2 with value: 0.8328375993507582.\u001b[0m\n\u001b[32m[I 2021-05-14 13:12:25,029]\u001b[0m Trial 27 finished with value: 0.8328375993507582 and parameters: {'n_estimators': 15, 'max_depth': 3.9206869364935346}. Best is trial 2 with value: 0.8328375993507582.\u001b[0m\n\u001b[32m[I 2021-05-14 13:12:27,022]\u001b[0m Trial 28 finished with value: 0.8328375993507582 and parameters: {'n_estimators': 6, 'max_depth': 2.804959738167109}. Best is trial 2 with value: 0.8328375993507582.\u001b[0m\n\u001b[32m[I 2021-05-14 13:12:28,775]\u001b[0m Trial 29 finished with value: 0.8328375993507582 and parameters: {'n_estimators': 5, 'max_depth': 2.2181123118136474}. Best is trial 2 with value: 0.8328375993507582.\u001b[0m\n\u001b[32m[I 2021-05-14 13:12:39,242]\u001b[0m Trial 30 finished with value: 0.8283275027925867 and parameters: {'n_estimators': 10, 'max_depth': 10.383418119481094}. Best is trial 2 with value: 0.8328375993507582.\u001b[0m\n\u001b[32m[I 2021-05-14 13:12:43,555]\u001b[0m Trial 31 finished with value: 0.8328375993507582 and parameters: {'n_estimators': 15, 'max_depth': 3.797486471106235}. Best is trial 2 with value: 0.8328375993507582.\u001b[0m\n\u001b[32m[I 2021-05-14 13:12:51,825]\u001b[0m Trial 32 finished with value: 0.8301511033247884 and parameters: {'n_estimators': 14, 'max_depth': 7.518624388135999}. Best is trial 2 with value: 0.8328375993507582.\u001b[0m\n\u001b[32m[I 2021-05-14 13:12:53,019]\u001b[0m Trial 33 finished with value: 0.8328375993507582 and parameters: {'n_estimators': 2, 'max_depth': 1.678720075587214}. Best is trial 2 with value: 0.8328375993507582.\u001b[0m\n\u001b[32m[I 2021-05-14 13:12:54,779]\u001b[0m Trial 34 finished with value: 0.8328375993507582 and parameters: {'n_estimators': 5, 'max_depth': 2.288722955787562}. Best is trial 2 with value: 0.8328375993507582.\u001b[0m\n\u001b[32m[I 2021-05-14 13:12:59,732]\u001b[0m Trial 35 finished with value: 0.8322620596500204 and parameters: {'n_estimators': 9, 'max_depth': 6.3392847688248}. Best is trial 2 with value: 0.8328375993507582.\u001b[0m\n\u001b[32m[I 2021-05-14 13:13:01,984]\u001b[0m Trial 36 finished with value: 0.8328375993507582 and parameters: {'n_estimators': 8, 'max_depth': 2.7559550202281673}. Best is trial 2 with value: 0.8328375993507582.\u001b[0m\n\u001b[32m[I 2021-05-14 13:13:05,633]\u001b[0m Trial 37 finished with value: 0.8328375993507582 and parameters: {'n_estimators': 8, 'max_depth': 4.968826436496746}. Best is trial 2 with value: 0.8328375993507582.\u001b[0m\n\u001b[32m[I 2021-05-14 13:13:07,457]\u001b[0m Trial 38 finished with value: 0.8328375993507582 and parameters: {'n_estimators': 5, 'max_depth': 2.181306867350908}. Best is trial 2 with value: 0.8328375993507582.\u001b[0m\n\u001b[32m[I 2021-05-14 13:13:08,750]\u001b[0m Trial 39 finished with value: 0.8328375993507582 and parameters: {'n_estimators': 3, 'max_depth': 1.6265621663598477}. Best is trial 2 with value: 0.8328375993507582.\u001b[0m\n\u001b[32m[I 2021-05-14 13:13:11,666]\u001b[0m Trial 40 finished with value: 0.8328375993507582 and parameters: {'n_estimators': 20, 'max_depth': 1.2554380542393848}. Best is trial 2 with value: 0.8328375993507582.\u001b[0m\n\u001b[32m[I 2021-05-14 13:13:14,241]\u001b[0m Trial 41 finished with value: 0.8328375993507582 and parameters: {'n_estimators': 18, 'max_depth': 1.196610078796967}. Best is trial 2 with value: 0.8328375993507582.\u001b[0m\n\u001b[32m[I 2021-05-14 13:13:15,928]\u001b[0m Trial 42 finished with value: 0.8328375993507582 and parameters: {'n_estimators': 3, 'max_depth': 3.3906254498788773}. Best is trial 2 with value: 0.8328375993507582.\u001b[0m\n\u001b[32m[I 2021-05-14 13:13:18,483]\u001b[0m Trial 43 finished with value: 0.8328375993507582 and parameters: {'n_estimators': 17, 'max_depth': 1.2455851773365647}. Best is trial 2 with value: 0.8328375993507582.\u001b[0m\n\u001b[32m[I 2021-05-14 13:13:19,873]\u001b[0m Trial 44 finished with value: 0.8328375993507582 and parameters: {'n_estimators': 4, 'max_depth': 1.5130284029558838}. Best is trial 2 with value: 0.8328375993507582.\u001b[0m\n\u001b[32m[I 2021-05-14 13:13:22,559]\u001b[0m Trial 45 finished with value: 0.8328375993507582 and parameters: {'n_estimators': 18, 'max_depth': 1.819997066025789}. Best is trial 2 with value: 0.8328375993507582.\u001b[0m\n\u001b[32m[I 2021-05-14 13:13:26,463]\u001b[0m Trial 46 finished with value: 0.8328375993507582 and parameters: {'n_estimators': 13, 'max_depth': 3.2580713943462922}. Best is trial 2 with value: 0.8328375993507582.\u001b[0m\n\u001b[32m[I 2021-05-14 13:13:32,579]\u001b[0m Trial 47 finished with value: 0.8327417220736727 and parameters: {'n_estimators': 18, 'max_depth': 4.133885634655969}. Best is trial 2 with value: 0.8328375993507582.\u001b[0m\n\u001b[32m[I 2021-05-14 13:14:03,188]\u001b[0m Trial 48 finished with value: 0.7871601739408873 and parameters: {'n_estimators': 12, 'max_depth': 19.297561982591827}. Best is trial 2 with value: 0.8328375993507582.\u001b[0m\n\u001b[32m[I 2021-05-14 13:14:05,498]\u001b[0m Trial 49 finished with value: 0.8328375993507582 and parameters: {'n_estimators': 3, 'max_depth': 6.426094567157973}. Best is trial 2 with value: 0.8328375993507582.\u001b[0m\n\u001b[32m[I 2021-05-14 13:14:07,484]\u001b[0m Trial 50 finished with value: 0.8328375993507582 and parameters: {'n_estimators': 6, 'max_depth': 2.566210351703775}. Best is trial 2 with value: 0.8328375993507582.\u001b[0m\n\u001b[32m[I 2021-05-14 13:14:10,755]\u001b[0m Trial 51 finished with value: 0.8326456607711036 and parameters: {'n_estimators': 5, 'max_depth': 6.283318618822466}. Best is trial 2 with value: 0.8328375993507582.\u001b[0m\n\u001b[32m[I 2021-05-14 13:14:12,374]\u001b[0m Trial 52 finished with value: 0.8328375993507582 and parameters: {'n_estimators': 4, 'max_depth': 2.527684010958136}. Best is trial 2 with value: 0.8328375993507582.\u001b[0m\n\u001b[32m[I 2021-05-14 13:14:13,764]\u001b[0m Trial 53 finished with value: 0.8328375993507582 and parameters: {'n_estimators': 4, 'max_depth': 1.2489995517094394}. Best is trial 2 with value: 0.8328375993507582.\u001b[0m\n\u001b[32m[I 2021-05-14 13:14:15,218]\u001b[0m Trial 54 finished with value: 0.8328375993507582 and parameters: {'n_estimators': 4, 'max_depth': 1.988870446918565}. Best is trial 2 with value: 0.8328375993507582.\u001b[0m\n\u001b[32m[I 2021-05-14 13:14:19,395]\u001b[0m Trial 55 finished with value: 0.8328375993507582 and parameters: {'n_estimators': 14, 'max_depth': 3.9024731736438243}. Best is trial 2 with value: 0.8328375993507582.\u001b[0m\n\u001b[32m[I 2021-05-14 13:14:22,634]\u001b[0m Trial 56 finished with value: 0.8328375993507582 and parameters: {'n_estimators': 14, 'max_depth': 2.0707410451278827}. Best is trial 2 with value: 0.8328375993507582.\u001b[0m\n\u001b[32m[I 2021-05-14 13:14:25,782]\u001b[0m Trial 57 finished with value: 0.8328375993507582 and parameters: {'n_estimators': 14, 'max_depth': 2.2554519513351567}. Best is trial 2 with value: 0.8328375993507582.\u001b[0m\n\u001b[32m[I 2021-05-14 13:14:27,786]\u001b[0m Trial 58 finished with value: 0.8328375993507582 and parameters: {'n_estimators': 11, 'max_depth': 1.6786361250955624}. Best is trial 2 with value: 0.8328375993507582.\u001b[0m\n\u001b[32m[I 2021-05-14 13:14:29,886]\u001b[0m Trial 59 finished with value: 0.8328375993507582 and parameters: {'n_estimators': 7, 'max_depth': 2.1787142965871045}. Best is trial 2 with value: 0.8328375993507582.\u001b[0m\n\u001b[32m[I 2021-05-14 13:14:32,014]\u001b[0m Trial 60 finished with value: 0.8328375993507582 and parameters: {'n_estimators': 11, 'max_depth': 1.6899805382837505}. Best is trial 2 with value: 0.8328375993507582.\u001b[0m\n\u001b[32m[I 2021-05-14 13:14:34,559]\u001b[0m Trial 61 finished with value: 0.8328375993507582 and parameters: {'n_estimators': 10, 'max_depth': 2.071378244563136}. Best is trial 2 with value: 0.8328375993507582.\u001b[0m\n\u001b[32m[I 2021-05-14 13:14:37,168]\u001b[0m Trial 62 finished with value: 0.8328375993507582 and parameters: {'n_estimators': 10, 'max_depth': 2.310347847195522}. Best is trial 2 with value: 0.8328375993507582.\u001b[0m\n\u001b[32m[I 2021-05-14 13:14:40,988]\u001b[0m Trial 63 finished with value: 0.8325498755067603 and parameters: {'n_estimators': 8, 'max_depth': 5.087206215420999}. Best is trial 2 with value: 0.8328375993507582.\u001b[0m\n\u001b[32m[I 2021-05-14 13:14:45,387]\u001b[0m Trial 64 finished with value: 0.8328375993507582 and parameters: {'n_estimators': 15, 'max_depth': 3.0754113810192374}. Best is trial 2 with value: 0.8328375993507582.\u001b[0m\n\u001b[32m[I 2021-05-14 13:14:48,785]\u001b[0m Trial 65 finished with value: 0.8328375993507582 and parameters: {'n_estimators': 15, 'max_depth': 2.8828776468641486}. Best is trial 2 with value: 0.8328375993507582.\u001b[0m\n\u001b[32m[I 2021-05-14 13:14:52,294]\u001b[0m Trial 66 finished with value: 0.8328375993507582 and parameters: {'n_estimators': 15, 'max_depth': 2.77301530602153}. Best is trial 2 with value: 0.8328375993507582.\u001b[0m\n\u001b[32m[I 2021-05-14 13:14:53,651]\u001b[0m Trial 67 finished with value: 0.8328375993507582 and parameters: {'n_estimators': 3, 'max_depth': 1.530453524317804}. Best is trial 2 with value: 0.8328375993507582.\u001b[0m\n\u001b[32m[I 2021-05-14 13:14:55,137]\u001b[0m Trial 68 finished with value: 0.8328375993507582 and parameters: {'n_estimators': 5, 'max_depth': 1.8003126612555989}. Best is trial 2 with value: 0.8328375993507582.\u001b[0m\n\u001b[32m[I 2021-05-14 13:14:56,457]\u001b[0m Trial 69 finished with value: 0.8328375993507582 and parameters: {'n_estimators': 3, 'max_depth': 1.499692491160235}. Best is trial 2 with value: 0.8328375993507582.\u001b[0m\n\u001b[32m[I 2021-05-14 13:15:03,285]\u001b[0m Trial 70 finished with value: 0.8327417220736729 and parameters: {'n_estimators': 20, 'max_depth': 4.826798916402378}. Best is trial 2 with value: 0.8328375993507582.\u001b[0m\n\u001b[32m[I 2021-05-14 13:15:05,419]\u001b[0m Trial 71 finished with value: 0.8328375993507582 and parameters: {'n_estimators': 7, 'max_depth': 2.309404704679402}. Best is trial 2 with value: 0.8328375993507582.\u001b[0m\n\u001b[32m[I 2021-05-14 13:15:08,163]\u001b[0m Trial 72 finished with value: 0.8328375993507582 and parameters: {'n_estimators': 8, 'max_depth': 3.6461289740840277}. Best is trial 2 with value: 0.8328375993507582.\u001b[0m\n\u001b[32m[I 2021-05-14 13:15:09,827]\u001b[0m Trial 73 finished with value: 0.8328375993507582 and parameters: {'n_estimators': 7, 'max_depth': 1.26338950941033}. Best is trial 2 with value: 0.8328375993507582.\u001b[0m\n\u001b[32m[I 2021-05-14 13:15:12,615]\u001b[0m Trial 74 finished with value: 0.8328375993507582 and parameters: {'n_estimators': 19, 'max_depth': 1.1835701353561732}. Best is trial 2 with value: 0.8328375993507582.\u001b[0m\n\u001b[32m[I 2021-05-14 13:15:15,380]\u001b[0m Trial 75 finished with value: 0.8328375993507582 and parameters: {'n_estimators': 19, 'max_depth': 1.3125263920026753}. Best is trial 2 with value: 0.8328375993507582.\u001b[0m\n\u001b[32m[I 2021-05-14 13:15:16,671]\u001b[0m Trial 76 finished with value: 0.8328375993507582 and parameters: {'n_estimators': 3, 'max_depth': 1.133780483575249}. Best is trial 2 with value: 0.8328375993507582.\u001b[0m\n\u001b[32m[I 2021-05-14 13:15:18,584]\u001b[0m Trial 77 finished with value: 0.8328375993507582 and parameters: {'n_estimators': 4, 'max_depth': 3.3571210951903447}. Best is trial 2 with value: 0.8328375993507582.\u001b[0m\n\u001b[32m[I 2021-05-14 13:15:21,643]\u001b[0m Trial 78 finished with value: 0.8328375993507582 and parameters: {'n_estimators': 13, 'max_depth': 2.5386084419825017}. Best is trial 2 with value: 0.8328375993507582.\u001b[0m\n\u001b[32m[I 2021-05-14 13:15:23,942]\u001b[0m Trial 79 finished with value: 0.8328375993507582 and parameters: {'n_estimators': 2, 'max_depth': 8.465826840662482}. Best is trial 2 with value: 0.8328375993507582.\u001b[0m\n\u001b[32m[I 2021-05-14 13:15:25,439]\u001b[0m Trial 80 finished with value: 0.8328375993507582 and parameters: {'n_estimators': 3, 'max_depth': 2.57134743435907}. Best is trial 2 with value: 0.8328375993507582.\u001b[0m\n\u001b[32m[I 2021-05-14 13:15:29,577]\u001b[0m Trial 81 finished with value: 0.8323578449143637 and parameters: {'n_estimators': 6, 'max_depth': 7.504551250733061}. Best is trial 2 with value: 0.8328375993507582.\u001b[0m\n\u001b[32m[I 2021-05-14 13:15:31,482]\u001b[0m Trial 82 finished with value: 0.8328375993507582 and parameters: {'n_estimators': 9, 'max_depth': 1.4118480144635173}. Best is trial 2 with value: 0.8328375993507582.\u001b[0m\n\u001b[32m[I 2021-05-14 13:15:33,921]\u001b[0m Trial 83 finished with value: 0.8328375993507582 and parameters: {'n_estimators': 14, 'max_depth': 1.9549644142375158}. Best is trial 2 with value: 0.8328375993507582.\u001b[0m\n\u001b[32m[I 2021-05-14 13:15:36,824]\u001b[0m Trial 84 finished with value: 0.8328375993507582 and parameters: {'n_estimators': 12, 'max_depth': 2.0322974772541462}. Best is trial 2 with value: 0.8328375993507582.\u001b[0m\n\u001b[32m[I 2021-05-14 13:15:38,839]\u001b[0m Trial 85 finished with value: 0.8328375993507582 and parameters: {'n_estimators': 11, 'max_depth': 1.762516114206206}. Best is trial 2 with value: 0.8328375993507582.\u001b[0m\n\u001b[32m[I 2021-05-14 13:15:40,917]\u001b[0m Trial 86 finished with value: 0.8328375993507582 and parameters: {'n_estimators': 11, 'max_depth': 1.9339086287612695}. Best is trial 2 with value: 0.8328375993507582.\u001b[0m\n\u001b[32m[I 2021-05-14 13:15:43,552]\u001b[0m Trial 87 finished with value: 0.8328375993507582 and parameters: {'n_estimators': 10, 'max_depth': 2.105814929784794}. Best is trial 2 with value: 0.8328375993507582.\u001b[0m\n\u001b[32m[I 2021-05-14 13:15:45,889]\u001b[0m Trial 88 finished with value: 0.8328375993507582 and parameters: {'n_estimators': 14, 'max_depth': 1.7203771127391005}. Best is trial 2 with value: 0.8328375993507582.\u001b[0m\n\u001b[32m[I 2021-05-14 13:15:47,814]\u001b[0m Trial 89 finished with value: 0.8328375993507582 and parameters: {'n_estimators': 10, 'max_depth': 1.6261566521641442}. Best is trial 2 with value: 0.8328375993507582.\u001b[0m\n\u001b[32m[I 2021-05-14 13:15:50,767]\u001b[0m Trial 90 finished with value: 0.8328375993507582 and parameters: {'n_estimators': 12, 'max_depth': 2.2657183349117975}. Best is trial 2 with value: 0.8328375993507582.\u001b[0m\n\u001b[32m[I 2021-05-14 13:15:54,958]\u001b[0m Trial 91 finished with value: 0.8328375993507582 and parameters: {'n_estimators': 14, 'max_depth': 3.067702193595113}. Best is trial 2 with value: 0.8328375993507582.\u001b[0m\n\u001b[32m[I 2021-05-14 13:15:59,542]\u001b[0m Trial 92 finished with value: 0.8328375993507582 and parameters: {'n_estimators': 16, 'max_depth': 3.0027980254012516}. Best is trial 2 with value: 0.8328375993507582.\u001b[0m\n\u001b[32m[I 2021-05-14 13:16:02,979]\u001b[0m Trial 93 finished with value: 0.8328375993507582 and parameters: {'n_estimators': 15, 'max_depth': 2.774526054304088}. Best is trial 2 with value: 0.8328375993507582.\u001b[0m\n\u001b[32m[I 2021-05-14 13:16:06,568]\u001b[0m Trial 94 finished with value: 0.8328375993507582 and parameters: {'n_estimators': 15, 'max_depth': 2.807104889113448}. Best is trial 2 with value: 0.8328375993507582.\u001b[0m\n\u001b[32m[I 2021-05-14 13:16:08,178]\u001b[0m Trial 95 finished with value: 0.8328375993507582 and parameters: {'n_estimators': 4, 'max_depth': 2.5496073118154454}. Best is trial 2 with value: 0.8328375993507582.\u001b[0m\n\u001b[32m[I 2021-05-14 13:16:10,618]\u001b[0m Trial 96 finished with value: 0.8328375993507582 and parameters: {'n_estimators': 4, 'max_depth': 5.451325191284683}. Best is trial 2 with value: 0.8328375993507582.\u001b[0m\n\u001b[32m[I 2021-05-14 13:16:15,051]\u001b[0m Trial 97 finished with value: 0.8328376913635 and parameters: {'n_estimators': 12, 'max_depth': 4.286268303042684}. Best is trial 97 with value: 0.8328376913635.\u001b[0m\n\u001b[32m[I 2021-05-14 13:16:19,781]\u001b[0m Trial 98 finished with value: 0.8328376913635 and parameters: {'n_estimators': 13, 'max_depth': 4.4375624789185135}. Best is trial 97 with value: 0.8328376913635.\u001b[0m\n\u001b[32m[I 2021-05-14 13:16:21,921]\u001b[0m Trial 99 finished with value: 0.8328375993507582 and parameters: {'n_estimators': 5, 'max_depth': 3.5845642378631073}. Best is trial 97 with value: 0.8328376913635.\u001b[0m\n",
     "output_type": "stream"
    }
   ]
  },
  {
   "cell_type": "code",
   "metadata": {
    "tags": [],
    "cell_id": "00023-6b7e18e5-f71d-4388-a53d-d9c81da110a7",
    "deepnote_to_be_reexecuted": false,
    "source_hash": "85cd347",
    "execution_start": 1621000176897,
    "execution_millis": 32,
    "deepnote_cell_type": "code"
   },
   "source": "study.best_params",
   "execution_count": null,
   "outputs": [
    {
     "output_type": "execute_result",
     "execution_count": 156,
     "data": {
      "text/plain": "{'n_estimators': 12, 'max_depth': 4.286268303042684}"
     },
     "metadata": {}
    }
   ]
  },
  {
   "cell_type": "code",
   "metadata": {
    "tags": [],
    "cell_id": "00035-7da826eb-7550-4801-9878-bdbed4b5c39f",
    "deepnote_to_be_reexecuted": false,
    "source_hash": "44341224",
    "execution_start": 1621000229650,
    "execution_millis": 0,
    "deepnote_cell_type": "code"
   },
   "source": "clf=pipeline.make_pipeline(tree_prepro, GradientBoostingClassifier(n_estimators=12, max_depth=4.286268303042684))",
   "execution_count": null,
   "outputs": []
  },
  {
   "cell_type": "code",
   "metadata": {
    "tags": [],
    "cell_id": "00020-14f7d843-1b54-48f9-9ad4-653f134ecea3",
    "deepnote_to_be_reexecuted": false,
    "source_hash": "e113eba0",
    "execution_start": 1621001341621,
    "execution_millis": 5144,
    "deepnote_cell_type": "code"
   },
   "source": "### POSSIBLE SOLUTION TO CLASS IMBALNCE\n## No idea hows it's working but the resampled provides equal amount of 0/1 classes\nfrom imblearn.over_sampling import RandomOverSampler\nros = RandomOverSampler(random_state=0)\nx_resampled, y_resampled = ros.fit_resample(x, y)\nprint(y.describe())\nprint(y_resampled.describe())\nbalanced_pipe = pipeline.make_pipeline(tree_prepro, GradientBoostingClassifier())\nimbalanced_pipe = pipeline.make_pipeline(tree_prepro, GradientBoostingClassifier())\nXR_train, XR_val, YR_train, YR_val = model_selection.train_test_split(x_resampled, y_resampled)\nXX_train, XX_val, YY_train, YY_val = model_selection.train_test_split(x, y)\nbalanced_pipe.fit(XR_train, YR_train)\nimbalanced_pipe.fit(XX_train, YY_train)",
   "execution_count": null,
   "outputs": [
    {
     "name": "stdout",
     "text": "count    10421.000000\nmean         0.167162\nstd          0.373139\nmin          0.000000\n25%          0.000000\n50%          0.000000\n75%          0.000000\nmax          1.000000\nName: Revenue, dtype: float64\ncount    17358.000000\nmean         0.500000\nstd          0.500014\nmin          0.000000\n25%          0.000000\n50%          0.500000\n75%          1.000000\nmax          1.000000\nName: Revenue, dtype: float64\n",
     "output_type": "stream"
    },
    {
     "output_type": "execute_result",
     "execution_count": 159,
     "data": {
      "text/plain": "Pipeline(steps=[('columntransformer',\n                 ColumnTransformer(transformers=[('categorical',\n                                                  Pipeline(steps=[('one hot',\n                                                                   OrdinalEncoder(handle_unknown='use_encoded_value',\n                                                                                  unknown_value=45654))]),\n                                                  ['Month', 'OperatingSystems',\n                                                   'Browser', 'Region',\n                                                   'VisitorType', 'Weekend']),\n                                                 ('numerical',\n                                                  Pipeline(steps=[('quantile '\n                                                                   'transformer',\n                                                                   QuantileTransformer(n_quantiles=100,\n                                                                                       output_distribution='normal',\n                                                                                       random_state=0))]),\n                                                  ['Administ_Dur',\n                                                   'Informational_Dur',\n                                                   'ProductRelated_Dur',\n                                                   'bounce_exit',\n                                                   'SpecialDay'])])),\n                ('gradientboostingclassifier', GradientBoostingClassifier())])",
      "text/html": "<style>#sk-ec3c4d42-4cd8-4a52-8233-c51b730e862c {color: black;background-color: white;}#sk-ec3c4d42-4cd8-4a52-8233-c51b730e862c pre{padding: 0;}#sk-ec3c4d42-4cd8-4a52-8233-c51b730e862c div.sk-toggleable {background-color: white;}#sk-ec3c4d42-4cd8-4a52-8233-c51b730e862c label.sk-toggleable__label {cursor: pointer;display: block;width: 100%;margin-bottom: 0;padding: 0.2em 0.3em;box-sizing: border-box;text-align: center;}#sk-ec3c4d42-4cd8-4a52-8233-c51b730e862c div.sk-toggleable__content {max-height: 0;max-width: 0;overflow: hidden;text-align: left;background-color: #f0f8ff;}#sk-ec3c4d42-4cd8-4a52-8233-c51b730e862c div.sk-toggleable__content pre {margin: 0.2em;color: black;border-radius: 0.25em;background-color: #f0f8ff;}#sk-ec3c4d42-4cd8-4a52-8233-c51b730e862c input.sk-toggleable__control:checked~div.sk-toggleable__content {max-height: 200px;max-width: 100%;overflow: auto;}#sk-ec3c4d42-4cd8-4a52-8233-c51b730e862c div.sk-estimator input.sk-toggleable__control:checked~label.sk-toggleable__label {background-color: #d4ebff;}#sk-ec3c4d42-4cd8-4a52-8233-c51b730e862c div.sk-label input.sk-toggleable__control:checked~label.sk-toggleable__label {background-color: #d4ebff;}#sk-ec3c4d42-4cd8-4a52-8233-c51b730e862c input.sk-hidden--visually {border: 0;clip: rect(1px 1px 1px 1px);clip: rect(1px, 1px, 1px, 1px);height: 1px;margin: -1px;overflow: hidden;padding: 0;position: absolute;width: 1px;}#sk-ec3c4d42-4cd8-4a52-8233-c51b730e862c div.sk-estimator {font-family: monospace;background-color: #f0f8ff;margin: 0.25em 0.25em;border: 1px dotted black;border-radius: 0.25em;box-sizing: border-box;}#sk-ec3c4d42-4cd8-4a52-8233-c51b730e862c div.sk-estimator:hover {background-color: #d4ebff;}#sk-ec3c4d42-4cd8-4a52-8233-c51b730e862c div.sk-parallel-item::after {content: \"\";width: 100%;border-bottom: 1px solid gray;flex-grow: 1;}#sk-ec3c4d42-4cd8-4a52-8233-c51b730e862c div.sk-label:hover label.sk-toggleable__label {background-color: #d4ebff;}#sk-ec3c4d42-4cd8-4a52-8233-c51b730e862c div.sk-serial::before {content: \"\";position: absolute;border-left: 1px solid gray;box-sizing: border-box;top: 2em;bottom: 0;left: 50%;}#sk-ec3c4d42-4cd8-4a52-8233-c51b730e862c div.sk-serial {display: flex;flex-direction: column;align-items: center;background-color: white;}#sk-ec3c4d42-4cd8-4a52-8233-c51b730e862c div.sk-item {z-index: 1;}#sk-ec3c4d42-4cd8-4a52-8233-c51b730e862c div.sk-parallel {display: flex;align-items: stretch;justify-content: center;background-color: white;}#sk-ec3c4d42-4cd8-4a52-8233-c51b730e862c div.sk-parallel-item {display: flex;flex-direction: column;position: relative;background-color: white;}#sk-ec3c4d42-4cd8-4a52-8233-c51b730e862c div.sk-parallel-item:first-child::after {align-self: flex-end;width: 50%;}#sk-ec3c4d42-4cd8-4a52-8233-c51b730e862c div.sk-parallel-item:last-child::after {align-self: flex-start;width: 50%;}#sk-ec3c4d42-4cd8-4a52-8233-c51b730e862c div.sk-parallel-item:only-child::after {width: 0;}#sk-ec3c4d42-4cd8-4a52-8233-c51b730e862c div.sk-dashed-wrapped {border: 1px dashed gray;margin: 0.2em;box-sizing: border-box;padding-bottom: 0.1em;background-color: white;position: relative;}#sk-ec3c4d42-4cd8-4a52-8233-c51b730e862c div.sk-label label {font-family: monospace;font-weight: bold;background-color: white;display: inline-block;line-height: 1.2em;}#sk-ec3c4d42-4cd8-4a52-8233-c51b730e862c div.sk-label-container {position: relative;z-index: 2;text-align: center;}#sk-ec3c4d42-4cd8-4a52-8233-c51b730e862c div.sk-container {display: inline-block;position: relative;}</style><div id=\"sk-ec3c4d42-4cd8-4a52-8233-c51b730e862c\" class\"sk-top-container\"><div class=\"sk-container\"><div class=\"sk-item sk-dashed-wrapped\"><div class=\"sk-label-container\"><div class=\"sk-label sk-toggleable\"><input class=\"sk-toggleable__control sk-hidden--visually\" id=\"e46b525b-1cfd-46c6-ba54-72ea23b1a9da\" type=\"checkbox\" ><label class=\"sk-toggleable__label\" for=\"e46b525b-1cfd-46c6-ba54-72ea23b1a9da\">Pipeline</label><div class=\"sk-toggleable__content\"><pre>Pipeline(steps=[('columntransformer',\n                 ColumnTransformer(transformers=[('categorical',\n                                                  Pipeline(steps=[('one hot',\n                                                                   OrdinalEncoder(handle_unknown='use_encoded_value',\n                                                                                  unknown_value=45654))]),\n                                                  ['Month', 'OperatingSystems',\n                                                   'Browser', 'Region',\n                                                   'VisitorType', 'Weekend']),\n                                                 ('numerical',\n                                                  Pipeline(steps=[('quantile '\n                                                                   'transformer',\n                                                                   QuantileTransformer(n_quantiles=100,\n                                                                                       output_distribution='normal',\n                                                                                       random_state=0))]),\n                                                  ['Administ_Dur',\n                                                   'Informational_Dur',\n                                                   'ProductRelated_Dur',\n                                                   'bounce_exit',\n                                                   'SpecialDay'])])),\n                ('gradientboostingclassifier', GradientBoostingClassifier())])</pre></div></div></div><div class=\"sk-serial\"><div class=\"sk-item sk-dashed-wrapped\"><div class=\"sk-label-container\"><div class=\"sk-label sk-toggleable\"><input class=\"sk-toggleable__control sk-hidden--visually\" id=\"84a0fec0-9b64-4cfb-b86f-2124334279f6\" type=\"checkbox\" ><label class=\"sk-toggleable__label\" for=\"84a0fec0-9b64-4cfb-b86f-2124334279f6\">columntransformer: ColumnTransformer</label><div class=\"sk-toggleable__content\"><pre>ColumnTransformer(transformers=[('categorical',\n                                 Pipeline(steps=[('one hot',\n                                                  OrdinalEncoder(handle_unknown='use_encoded_value',\n                                                                 unknown_value=45654))]),\n                                 ['Month', 'OperatingSystems', 'Browser',\n                                  'Region', 'VisitorType', 'Weekend']),\n                                ('numerical',\n                                 Pipeline(steps=[('quantile transformer',\n                                                  QuantileTransformer(n_quantiles=100,\n                                                                      output_distribution='normal',\n                                                                      random_state=0))]),\n                                 ['Administ_Dur', 'Informational_Dur',\n                                  'ProductRelated_Dur', 'bounce_exit',\n                                  'SpecialDay'])])</pre></div></div></div><div class=\"sk-parallel\"><div class=\"sk-parallel-item\"><div class=\"sk-item\"><div class=\"sk-label-container\"><div class=\"sk-label sk-toggleable\"><input class=\"sk-toggleable__control sk-hidden--visually\" id=\"e79250e0-7d39-4ce4-80ca-fa83b36d593b\" type=\"checkbox\" ><label class=\"sk-toggleable__label\" for=\"e79250e0-7d39-4ce4-80ca-fa83b36d593b\">categorical</label><div class=\"sk-toggleable__content\"><pre>['Month', 'OperatingSystems', 'Browser', 'Region', 'VisitorType', 'Weekend']</pre></div></div></div><div class=\"sk-serial\"><div class=\"sk-item\"><div class=\"sk-serial\"><div class=\"sk-item\"><div class=\"sk-estimator sk-toggleable\"><input class=\"sk-toggleable__control sk-hidden--visually\" id=\"5150a8cb-6a36-444e-b8b9-5f83cec46702\" type=\"checkbox\" ><label class=\"sk-toggleable__label\" for=\"5150a8cb-6a36-444e-b8b9-5f83cec46702\">OrdinalEncoder</label><div class=\"sk-toggleable__content\"><pre>OrdinalEncoder(handle_unknown='use_encoded_value', unknown_value=45654)</pre></div></div></div></div></div></div></div></div><div class=\"sk-parallel-item\"><div class=\"sk-item\"><div class=\"sk-label-container\"><div class=\"sk-label sk-toggleable\"><input class=\"sk-toggleable__control sk-hidden--visually\" id=\"b23f0317-7f79-494d-8935-d09bcdca6858\" type=\"checkbox\" ><label class=\"sk-toggleable__label\" for=\"b23f0317-7f79-494d-8935-d09bcdca6858\">numerical</label><div class=\"sk-toggleable__content\"><pre>['Administ_Dur', 'Informational_Dur', 'ProductRelated_Dur', 'bounce_exit', 'SpecialDay']</pre></div></div></div><div class=\"sk-serial\"><div class=\"sk-item\"><div class=\"sk-serial\"><div class=\"sk-item\"><div class=\"sk-estimator sk-toggleable\"><input class=\"sk-toggleable__control sk-hidden--visually\" id=\"14eb99f0-7e2d-49a7-8c52-4a50b3043159\" type=\"checkbox\" ><label class=\"sk-toggleable__label\" for=\"14eb99f0-7e2d-49a7-8c52-4a50b3043159\">QuantileTransformer</label><div class=\"sk-toggleable__content\"><pre>QuantileTransformer(n_quantiles=100, output_distribution='normal',\n                    random_state=0)</pre></div></div></div></div></div></div></div></div></div></div><div class=\"sk-item\"><div class=\"sk-estimator sk-toggleable\"><input class=\"sk-toggleable__control sk-hidden--visually\" id=\"91411533-6b08-4902-9764-7837908d4690\" type=\"checkbox\" ><label class=\"sk-toggleable__label\" for=\"91411533-6b08-4902-9764-7837908d4690\">GradientBoostingClassifier</label><div class=\"sk-toggleable__content\"><pre>GradientBoostingClassifier()</pre></div></div></div></div></div></div></div>"
     },
     "metadata": {}
    }
   ]
  },
  {
   "cell_type": "code",
   "metadata": {
    "tags": [],
    "cell_id": "00021-b38b9686-677c-463b-97ee-594b80a34706",
    "deepnote_to_be_reexecuted": false,
    "source_hash": "b344b325",
    "execution_start": 1621001346767,
    "execution_millis": 203,
    "deepnote_cell_type": "code"
   },
   "source": "RSpred = balanced_pipe.predict(XR_val)\nRSacc = metrics.accuracy_score(YR_val, RSpred)\nRSbacc = metrics.balanced_accuracy_score(YR_val, RSpred)\nprint(RSacc, RSbacc)\ndisplay(confusion_matrix(YR_val, RSpred))\nUSpred = imbalanced_pipe.predict(XX_val)\nUSacc = metrics.accuracy_score(YY_val, USpred)\nUSbacc = metrics.balanced_accuracy_score(YY_val, USpred)\nprint(USacc, USbacc)\n\ndisplay(confusion_matrix(YY_val, USpred))",
   "execution_count": null,
   "outputs": [
    {
     "name": "stdout",
     "text": "0.669815668202765 0.6693713434302742\n",
     "output_type": "stream"
    },
    {
     "data": {
      "text/plain": "array([[1215,  946],\n       [ 487, 1692]])"
     },
     "metadata": {},
     "output_type": "display_data"
    },
    {
     "name": "stdout",
     "text": "0.8403683806600154 0.5216160986085255\n",
     "output_type": "stream"
    },
    {
     "data": {
      "text/plain": "array([[2169,   14],\n       [ 402,   21]])"
     },
     "metadata": {},
     "output_type": "display_data"
    }
   ]
  },
  {
   "cell_type": "code",
   "metadata": {
    "tags": [],
    "cell_id": "00032-a0cc71f9-68d5-4179-84a5-dd1b35b63c65",
    "deepnote_to_be_reexecuted": false,
    "source_hash": "8b743700",
    "execution_start": 1621001637139,
    "execution_millis": 16,
    "deepnote_cell_type": "code"
   },
   "source": "from sklearn.metrics import confusion_matrix\nconfusion_matrix(YR_val, pred)",
   "execution_count": null,
   "outputs": [
    {
     "output_type": "error",
     "ename": "ValueError",
     "evalue": "Found input variables with inconsistent numbers of samples: [4340, 10421]",
     "traceback": [
      "\u001b[0;31m---------------------------------------------------------------------------\u001b[0m",
      "\u001b[0;31mValueError\u001b[0m                                Traceback (most recent call last)",
      "\u001b[0;32m<ipython-input-161-2fe0c50e31b6>\u001b[0m in \u001b[0;36m<module>\u001b[0;34m\u001b[0m\n\u001b[1;32m      1\u001b[0m \u001b[0;32mfrom\u001b[0m \u001b[0msklearn\u001b[0m\u001b[0;34m.\u001b[0m\u001b[0mmetrics\u001b[0m \u001b[0;32mimport\u001b[0m \u001b[0mconfusion_matrix\u001b[0m\u001b[0;34m\u001b[0m\u001b[0;34m\u001b[0m\u001b[0m\n\u001b[0;32m----> 2\u001b[0;31m \u001b[0mconfusion_matrix\u001b[0m\u001b[0;34m(\u001b[0m\u001b[0mYR_val\u001b[0m\u001b[0;34m,\u001b[0m \u001b[0mpred\u001b[0m\u001b[0;34m)\u001b[0m\u001b[0;34m\u001b[0m\u001b[0;34m\u001b[0m\u001b[0m\n\u001b[0m",
      "\u001b[0;32m/shared-libs/python3.7/py/lib/python3.7/site-packages/sklearn/utils/validation.py\u001b[0m in \u001b[0;36minner_f\u001b[0;34m(*args, **kwargs)\u001b[0m\n\u001b[1;32m     61\u001b[0m             \u001b[0mextra_args\u001b[0m \u001b[0;34m=\u001b[0m \u001b[0mlen\u001b[0m\u001b[0;34m(\u001b[0m\u001b[0margs\u001b[0m\u001b[0;34m)\u001b[0m \u001b[0;34m-\u001b[0m \u001b[0mlen\u001b[0m\u001b[0;34m(\u001b[0m\u001b[0mall_args\u001b[0m\u001b[0;34m)\u001b[0m\u001b[0;34m\u001b[0m\u001b[0;34m\u001b[0m\u001b[0m\n\u001b[1;32m     62\u001b[0m             \u001b[0;32mif\u001b[0m \u001b[0mextra_args\u001b[0m \u001b[0;34m<=\u001b[0m \u001b[0;36m0\u001b[0m\u001b[0;34m:\u001b[0m\u001b[0;34m\u001b[0m\u001b[0;34m\u001b[0m\u001b[0m\n\u001b[0;32m---> 63\u001b[0;31m                 \u001b[0;32mreturn\u001b[0m \u001b[0mf\u001b[0m\u001b[0;34m(\u001b[0m\u001b[0;34m*\u001b[0m\u001b[0margs\u001b[0m\u001b[0;34m,\u001b[0m \u001b[0;34m**\u001b[0m\u001b[0mkwargs\u001b[0m\u001b[0;34m)\u001b[0m\u001b[0;34m\u001b[0m\u001b[0;34m\u001b[0m\u001b[0m\n\u001b[0m\u001b[1;32m     64\u001b[0m \u001b[0;34m\u001b[0m\u001b[0m\n\u001b[1;32m     65\u001b[0m             \u001b[0;31m# extra_args > 0\u001b[0m\u001b[0;34m\u001b[0m\u001b[0;34m\u001b[0m\u001b[0;34m\u001b[0m\u001b[0m\n",
      "\u001b[0;32m/shared-libs/python3.7/py/lib/python3.7/site-packages/sklearn/metrics/_classification.py\u001b[0m in \u001b[0;36mconfusion_matrix\u001b[0;34m(y_true, y_pred, labels, sample_weight, normalize)\u001b[0m\n\u001b[1;32m    297\u001b[0m \u001b[0;34m\u001b[0m\u001b[0m\n\u001b[1;32m    298\u001b[0m     \"\"\"\n\u001b[0;32m--> 299\u001b[0;31m     \u001b[0my_type\u001b[0m\u001b[0;34m,\u001b[0m \u001b[0my_true\u001b[0m\u001b[0;34m,\u001b[0m \u001b[0my_pred\u001b[0m \u001b[0;34m=\u001b[0m \u001b[0m_check_targets\u001b[0m\u001b[0;34m(\u001b[0m\u001b[0my_true\u001b[0m\u001b[0;34m,\u001b[0m \u001b[0my_pred\u001b[0m\u001b[0;34m)\u001b[0m\u001b[0;34m\u001b[0m\u001b[0;34m\u001b[0m\u001b[0m\n\u001b[0m\u001b[1;32m    300\u001b[0m     \u001b[0;32mif\u001b[0m \u001b[0my_type\u001b[0m \u001b[0;32mnot\u001b[0m \u001b[0;32min\u001b[0m \u001b[0;34m(\u001b[0m\u001b[0;34m\"binary\"\u001b[0m\u001b[0;34m,\u001b[0m \u001b[0;34m\"multiclass\"\u001b[0m\u001b[0;34m)\u001b[0m\u001b[0;34m:\u001b[0m\u001b[0;34m\u001b[0m\u001b[0;34m\u001b[0m\u001b[0m\n\u001b[1;32m    301\u001b[0m         \u001b[0;32mraise\u001b[0m \u001b[0mValueError\u001b[0m\u001b[0;34m(\u001b[0m\u001b[0;34m\"%s is not supported\"\u001b[0m \u001b[0;34m%\u001b[0m \u001b[0my_type\u001b[0m\u001b[0;34m)\u001b[0m\u001b[0;34m\u001b[0m\u001b[0;34m\u001b[0m\u001b[0m\n",
      "\u001b[0;32m/shared-libs/python3.7/py/lib/python3.7/site-packages/sklearn/metrics/_classification.py\u001b[0m in \u001b[0;36m_check_targets\u001b[0;34m(y_true, y_pred)\u001b[0m\n\u001b[1;32m     81\u001b[0m     \u001b[0my_pred\u001b[0m \u001b[0;34m:\u001b[0m \u001b[0marray\u001b[0m \u001b[0;32mor\u001b[0m \u001b[0mindicator\u001b[0m \u001b[0mmatrix\u001b[0m\u001b[0;34m\u001b[0m\u001b[0;34m\u001b[0m\u001b[0m\n\u001b[1;32m     82\u001b[0m     \"\"\"\n\u001b[0;32m---> 83\u001b[0;31m     \u001b[0mcheck_consistent_length\u001b[0m\u001b[0;34m(\u001b[0m\u001b[0my_true\u001b[0m\u001b[0;34m,\u001b[0m \u001b[0my_pred\u001b[0m\u001b[0;34m)\u001b[0m\u001b[0;34m\u001b[0m\u001b[0;34m\u001b[0m\u001b[0m\n\u001b[0m\u001b[1;32m     84\u001b[0m     \u001b[0mtype_true\u001b[0m \u001b[0;34m=\u001b[0m \u001b[0mtype_of_target\u001b[0m\u001b[0;34m(\u001b[0m\u001b[0my_true\u001b[0m\u001b[0;34m)\u001b[0m\u001b[0;34m\u001b[0m\u001b[0;34m\u001b[0m\u001b[0m\n\u001b[1;32m     85\u001b[0m     \u001b[0mtype_pred\u001b[0m \u001b[0;34m=\u001b[0m \u001b[0mtype_of_target\u001b[0m\u001b[0;34m(\u001b[0m\u001b[0my_pred\u001b[0m\u001b[0;34m)\u001b[0m\u001b[0;34m\u001b[0m\u001b[0;34m\u001b[0m\u001b[0m\n",
      "\u001b[0;32m/shared-libs/python3.7/py/lib/python3.7/site-packages/sklearn/utils/validation.py\u001b[0m in \u001b[0;36mcheck_consistent_length\u001b[0;34m(*arrays)\u001b[0m\n\u001b[1;32m    318\u001b[0m     \u001b[0;32mif\u001b[0m \u001b[0mlen\u001b[0m\u001b[0;34m(\u001b[0m\u001b[0muniques\u001b[0m\u001b[0;34m)\u001b[0m \u001b[0;34m>\u001b[0m \u001b[0;36m1\u001b[0m\u001b[0;34m:\u001b[0m\u001b[0;34m\u001b[0m\u001b[0;34m\u001b[0m\u001b[0m\n\u001b[1;32m    319\u001b[0m         raise ValueError(\"Found input variables with inconsistent numbers of\"\n\u001b[0;32m--> 320\u001b[0;31m                          \" samples: %r\" % [int(l) for l in lengths])\n\u001b[0m\u001b[1;32m    321\u001b[0m \u001b[0;34m\u001b[0m\u001b[0m\n\u001b[1;32m    322\u001b[0m \u001b[0;34m\u001b[0m\u001b[0m\n",
      "\u001b[0;31mValueError\u001b[0m: Found input variables with inconsistent numbers of samples: [4340, 10421]"
     ]
    }
   ]
  },
  {
   "cell_type": "code",
   "metadata": {
    "tags": [],
    "cell_id": "00039-a50bf12d-351c-425f-920a-f516089b8dec",
    "deepnote_to_be_reexecuted": false,
    "source_hash": "67855448",
    "execution_start": 1621002303210,
    "execution_millis": 28,
    "deepnote_cell_type": "code"
   },
   "source": "pred",
   "execution_count": null,
   "outputs": [
    {
     "output_type": "execute_result",
     "execution_count": 162,
     "data": {
      "text/plain": "array([0, 0, 0, ..., 0, 0, 0])"
     },
     "metadata": {}
    }
   ]
  },
  {
   "cell_type": "markdown",
   "source": "<a style='text-decoration:none;line-height:16px;display:flex;color:#5B5B62;padding:10px;justify-content:end;' href='https://deepnote.com?utm_source=created-in-deepnote-cell&projectId=ae2d5407-15eb-472e-9a2e-ceb75c9fcac0' target=\"_blank\">\n<img alt='Created in deepnote.com' style='display:inline;max-height:16px;margin:0px;margin-right:7.5px;' src='data:image/svg+xml;base64,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' > </img>\nCreated in <span style='font-weight:600;margin-left:4px;'>Deepnote</span></a>",
   "metadata": {
    "tags": [],
    "created_in_deepnote_cell": true,
    "deepnote_cell_type": "markdown"
   }
  }
 ],
 "nbformat": 4,
 "nbformat_minor": 2,
 "metadata": {
  "orig_nbformat": 2,
  "deepnote": {
   "is_reactive": false
  },
  "deepnote_notebook_id": "2d81720b-6a35-4ef0-968e-aa8dd6524ed5",
  "deepnote_execution_queue": []
 }
}