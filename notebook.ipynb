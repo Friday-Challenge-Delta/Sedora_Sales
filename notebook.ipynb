{
 "cells": [
  {
   "cell_type": "code",
   "source": "# 1. Create  a model that is able to predict if a customer will make a purcase\n# 2. Report what features made that model succesful\n# 3. Create visual represenation of previous 2 points using graphex. ",
   "metadata": {
    "tags": [],
    "cell_id": "00000-ce165b33-6f18-41e3-82c0-ef1b1036af70",
    "deepnote_to_be_reexecuted": false,
    "source_hash": "e2329e55",
    "execution_start": 1620987540323,
    "execution_millis": 9,
    "deepnote_cell_type": "code"
   },
   "outputs": [],
   "execution_count": 1
  },
  {
   "cell_type": "code",
   "metadata": {
    "tags": [],
    "cell_id": "00000-8c1a4f1d-dc4e-480c-a34d-ad093c115f2f",
    "deepnote_to_be_reexecuted": false,
    "source_hash": "546b7dd8",
    "execution_start": 1620987540349,
    "execution_millis": 3285,
    "deepnote_cell_type": "code"
   },
   "source": "import time\nfrom IPython.display import clear_output\nimport numpy    as np\nimport pandas   as pd\nimport seaborn  as sns\nimport matplotlib.pyplot as plt\nimport sklearn  as skl\n\nfrom sklearn import pipeline      # Pipeline\nfrom sklearn import preprocessing # OrdinalEncoder, LabelEncoder\nfrom sklearn import impute\nfrom sklearn import compose\nfrom sklearn import model_selection # train_test_split\nfrom sklearn import metrics         # accuracy_score, balanced_accuracy_score, plot_confusion_matrix\nfrom sklearn import set_config\nfrom sklearn.impute import KNNImputer\nfrom sklearn.preprocessing import PowerTransformer\nfrom sklearn.preprocessing import QuantileTransformer\nfrom sklearn.preprocessing import OneHotEncoder\n\nfrom sklearn.metrics import mean_squared_error\nfrom sklearn.preprocessing import MinMaxScaler\nfrom sklearn.preprocessing import MaxAbsScaler\nfrom sklearn.preprocessing import StandardScaler\nfrom sklearn.preprocessing import RobustScaler\nfrom sklearn.preprocessing import Normalizer\nfrom sklearn.preprocessing import QuantileTransformer\nfrom sklearn.preprocessing import PowerTransformer\n\nimport pandas as pd\nimport numpy as np\nimport matplotlib.pyplot as plt\n#import seaborn as sb\nimport sklearn as skl\nimport time as t\nfrom IPython.display import display, clear_output\n\n\n\nimport json\nimport pickle\n\nset_config(display='diagram') # Useful for display the pipeline\n\nprint(\"Pandas  \", pd.__version__)\nprint(\"Sklearn \", skl.__version__) # Try to use 0.24",
   "execution_count": 2,
   "outputs": [
    {
     "name": "stdout",
     "text": "Pandas   1.2.4\nSklearn  0.24.2\n",
     "output_type": "stream"
    }
   ]
  },
  {
   "cell_type": "markdown",
   "source": "The dataset consists of 10 numerical and 8 categorical attributes.\nThe 'Revenue' attribute can be used as the class label.\n\n\"Administrative\", \"Administrative Duration\", \"Informational\", \"Informational Duration\", \"Product Related\" and \"Product Related Duration\" represent the number of different types of pages visited by the visitor in that session and total time spent in each of these page categories. \n\nThe values of these features are derived from the URL information of the pages visited by the user and updated in real time when a user takes an action, e.g. moving from one page to another. \n\nThe \"Bounce Rate\", \"Exit Rate\" and \"Page Value\" features represent the metrics measured by \"Google Analytics\" for each page in the e-commerce site. The value of \"Bounce Rate\" feature for a web page refers to the percentage of visitors who enter the site from that page and then leave (\"bounce\") without triggering any other requests to the analytics server during that session. \n\nThe value of \"Exit Rate\" feature for a specific web page is calculated as for all pageviews to the page, the percentage that were the last in the session. The \"Page Value\" feature represents the average value for a web page that a user visited before completing an e-commerce transaction. \n\nThe \"Special Day\" feature indicates the closeness of the site visiting time to a specific special day (e.g. Mother’s Day, Valentine's Day) in which the sessions are more likely to be finalized with transaction. The value of this attribute is determined by considering the dynamics of e-commerce such as the duration between the order date and delivery date. \n\nFor example, for Valentina’s day, this value takes a nonzero value between February 2 and February 12, zero before and after this date unless it is close to another special day, and its maximum value of 1 on February 8. The dataset also includes operating system, browser, region, traffic type, visitor type as returning or new visitor, a Boolean value indicating whether the date of the visit is weekend, and month of the year.",
   "metadata": {
    "tags": [],
    "cell_id": "00001-9e91a0d3-eacc-4a1c-a4f5-9034fcdbba37",
    "deepnote_cell_type": "markdown"
   }
  },
  {
   "cell_type": "code",
   "metadata": {
    "tags": [],
    "cell_id": "00001-d0045f42-8605-42ff-8520-e82739d181a9",
    "deepnote_to_be_reexecuted": false,
    "source_hash": "34e21c0e",
    "execution_start": 1620987543630,
    "execution_millis": 300,
    "deepnote_cell_type": "code"
   },
   "source": "df=pd.read_csv(\"/work/Sedora_Sales/online_shoppers_intention.csv\")\ndf.head()",
   "execution_count": 3,
   "outputs": [
    {
     "output_type": "execute_result",
     "execution_count": 3,
     "data": {
      "application/vnd.deepnote.dataframe.v2+json": {
       "row_count": 5,
       "column_count": 18,
       "columns": [
        {
         "name": "Administrative",
         "dtype": "int64",
         "stats": {
          "unique_count": 1,
          "nan_count": 0,
          "min": "0",
          "max": "0",
          "histogram": [
           {
            "bin_start": -0.5,
            "bin_end": -0.4,
            "count": 0
           },
           {
            "bin_start": -0.4,
            "bin_end": -0.3,
            "count": 0
           },
           {
            "bin_start": -0.3,
            "bin_end": -0.19999999999999996,
            "count": 0
           },
           {
            "bin_start": -0.19999999999999996,
            "bin_end": -0.09999999999999998,
            "count": 0
           },
           {
            "bin_start": -0.09999999999999998,
            "bin_end": 0,
            "count": 0
           },
           {
            "bin_start": 0,
            "bin_end": 0.10000000000000009,
            "count": 5
           },
           {
            "bin_start": 0.10000000000000009,
            "bin_end": 0.20000000000000007,
            "count": 0
           },
           {
            "bin_start": 0.20000000000000007,
            "bin_end": 0.30000000000000004,
            "count": 0
           },
           {
            "bin_start": 0.30000000000000004,
            "bin_end": 0.4,
            "count": 0
           },
           {
            "bin_start": 0.4,
            "bin_end": 0.5,
            "count": 0
           }
          ]
         }
        },
        {
         "name": "Administrative_Duration",
         "dtype": "float64",
         "stats": {
          "unique_count": 1,
          "nan_count": 0,
          "min": "0.0",
          "max": "0.0",
          "histogram": [
           {
            "bin_start": -0.5,
            "bin_end": -0.4,
            "count": 0
           },
           {
            "bin_start": -0.4,
            "bin_end": -0.3,
            "count": 0
           },
           {
            "bin_start": -0.3,
            "bin_end": -0.19999999999999996,
            "count": 0
           },
           {
            "bin_start": -0.19999999999999996,
            "bin_end": -0.09999999999999998,
            "count": 0
           },
           {
            "bin_start": -0.09999999999999998,
            "bin_end": 0,
            "count": 0
           },
           {
            "bin_start": 0,
            "bin_end": 0.10000000000000009,
            "count": 5
           },
           {
            "bin_start": 0.10000000000000009,
            "bin_end": 0.20000000000000007,
            "count": 0
           },
           {
            "bin_start": 0.20000000000000007,
            "bin_end": 0.30000000000000004,
            "count": 0
           },
           {
            "bin_start": 0.30000000000000004,
            "bin_end": 0.4,
            "count": 0
           },
           {
            "bin_start": 0.4,
            "bin_end": 0.5,
            "count": 0
           }
          ]
         }
        },
        {
         "name": "Informational",
         "dtype": "int64",
         "stats": {
          "unique_count": 1,
          "nan_count": 0,
          "min": "0",
          "max": "0",
          "histogram": [
           {
            "bin_start": -0.5,
            "bin_end": -0.4,
            "count": 0
           },
           {
            "bin_start": -0.4,
            "bin_end": -0.3,
            "count": 0
           },
           {
            "bin_start": -0.3,
            "bin_end": -0.19999999999999996,
            "count": 0
           },
           {
            "bin_start": -0.19999999999999996,
            "bin_end": -0.09999999999999998,
            "count": 0
           },
           {
            "bin_start": -0.09999999999999998,
            "bin_end": 0,
            "count": 0
           },
           {
            "bin_start": 0,
            "bin_end": 0.10000000000000009,
            "count": 5
           },
           {
            "bin_start": 0.10000000000000009,
            "bin_end": 0.20000000000000007,
            "count": 0
           },
           {
            "bin_start": 0.20000000000000007,
            "bin_end": 0.30000000000000004,
            "count": 0
           },
           {
            "bin_start": 0.30000000000000004,
            "bin_end": 0.4,
            "count": 0
           },
           {
            "bin_start": 0.4,
            "bin_end": 0.5,
            "count": 0
           }
          ]
         }
        },
        {
         "name": "Informational_Duration",
         "dtype": "float64",
         "stats": {
          "unique_count": 1,
          "nan_count": 0,
          "min": "0.0",
          "max": "0.0",
          "histogram": [
           {
            "bin_start": -0.5,
            "bin_end": -0.4,
            "count": 0
           },
           {
            "bin_start": -0.4,
            "bin_end": -0.3,
            "count": 0
           },
           {
            "bin_start": -0.3,
            "bin_end": -0.19999999999999996,
            "count": 0
           },
           {
            "bin_start": -0.19999999999999996,
            "bin_end": -0.09999999999999998,
            "count": 0
           },
           {
            "bin_start": -0.09999999999999998,
            "bin_end": 0,
            "count": 0
           },
           {
            "bin_start": 0,
            "bin_end": 0.10000000000000009,
            "count": 5
           },
           {
            "bin_start": 0.10000000000000009,
            "bin_end": 0.20000000000000007,
            "count": 0
           },
           {
            "bin_start": 0.20000000000000007,
            "bin_end": 0.30000000000000004,
            "count": 0
           },
           {
            "bin_start": 0.30000000000000004,
            "bin_end": 0.4,
            "count": 0
           },
           {
            "bin_start": 0.4,
            "bin_end": 0.5,
            "count": 0
           }
          ]
         }
        },
        {
         "name": "ProductRelated",
         "dtype": "int64",
         "stats": {
          "unique_count": 3,
          "nan_count": 0,
          "min": "1",
          "max": "10",
          "histogram": [
           {
            "bin_start": 1,
            "bin_end": 1.9,
            "count": 2
           },
           {
            "bin_start": 1.9,
            "bin_end": 2.8,
            "count": 2
           },
           {
            "bin_start": 2.8,
            "bin_end": 3.7,
            "count": 0
           },
           {
            "bin_start": 3.7,
            "bin_end": 4.6,
            "count": 0
           },
           {
            "bin_start": 4.6,
            "bin_end": 5.5,
            "count": 0
           },
           {
            "bin_start": 5.5,
            "bin_end": 6.4,
            "count": 0
           },
           {
            "bin_start": 6.4,
            "bin_end": 7.3,
            "count": 0
           },
           {
            "bin_start": 7.3,
            "bin_end": 8.2,
            "count": 0
           },
           {
            "bin_start": 8.2,
            "bin_end": 9.1,
            "count": 0
           },
           {
            "bin_start": 9.1,
            "bin_end": 10,
            "count": 1
           }
          ]
         }
        },
        {
         "name": "ProductRelated_Duration",
         "dtype": "float64",
         "stats": {
          "unique_count": 4,
          "nan_count": 0,
          "min": "0.0",
          "max": "627.5",
          "histogram": [
           {
            "bin_start": 0,
            "bin_end": 62.75,
            "count": 3
           },
           {
            "bin_start": 62.75,
            "bin_end": 125.5,
            "count": 1
           },
           {
            "bin_start": 125.5,
            "bin_end": 188.25,
            "count": 0
           },
           {
            "bin_start": 188.25,
            "bin_end": 251,
            "count": 0
           },
           {
            "bin_start": 251,
            "bin_end": 313.75,
            "count": 0
           },
           {
            "bin_start": 313.75,
            "bin_end": 376.5,
            "count": 0
           },
           {
            "bin_start": 376.5,
            "bin_end": 439.25,
            "count": 0
           },
           {
            "bin_start": 439.25,
            "bin_end": 502,
            "count": 0
           },
           {
            "bin_start": 502,
            "bin_end": 564.75,
            "count": 0
           },
           {
            "bin_start": 564.75,
            "bin_end": 627.5,
            "count": 1
           }
          ]
         }
        },
        {
         "name": "BounceRates",
         "dtype": "float64",
         "stats": {
          "unique_count": 4,
          "nan_count": 0,
          "min": "0.0",
          "max": "0.2",
          "histogram": [
           {
            "bin_start": 0,
            "bin_end": 0.02,
            "count": 1
           },
           {
            "bin_start": 0.02,
            "bin_end": 0.04,
            "count": 1
           },
           {
            "bin_start": 0.04,
            "bin_end": 0.06,
            "count": 1
           },
           {
            "bin_start": 0.06,
            "bin_end": 0.08,
            "count": 0
           },
           {
            "bin_start": 0.08,
            "bin_end": 0.1,
            "count": 0
           },
           {
            "bin_start": 0.1,
            "bin_end": 0.12,
            "count": 0
           },
           {
            "bin_start": 0.12,
            "bin_end": 0.14,
            "count": 0
           },
           {
            "bin_start": 0.14,
            "bin_end": 0.16,
            "count": 0
           },
           {
            "bin_start": 0.16,
            "bin_end": 0.18,
            "count": 0
           },
           {
            "bin_start": 0.18,
            "bin_end": 0.2,
            "count": 2
           }
          ]
         }
        },
        {
         "name": "ExitRates",
         "dtype": "float64",
         "stats": {
          "unique_count": 4,
          "nan_count": 0,
          "min": "0.05",
          "max": "0.2",
          "histogram": [
           {
            "bin_start": 0.05,
            "bin_end": 0.065,
            "count": 1
           },
           {
            "bin_start": 0.065,
            "bin_end": 0.08000000000000002,
            "count": 0
           },
           {
            "bin_start": 0.08000000000000002,
            "bin_end": 0.09500000000000001,
            "count": 0
           },
           {
            "bin_start": 0.09500000000000001,
            "bin_end": 0.11000000000000001,
            "count": 1
           },
           {
            "bin_start": 0.11000000000000001,
            "bin_end": 0.125,
            "count": 0
           },
           {
            "bin_start": 0.125,
            "bin_end": 0.14,
            "count": 0
           },
           {
            "bin_start": 0.14,
            "bin_end": 0.15500000000000003,
            "count": 1
           },
           {
            "bin_start": 0.15500000000000003,
            "bin_end": 0.17000000000000004,
            "count": 0
           },
           {
            "bin_start": 0.17000000000000004,
            "bin_end": 0.18500000000000005,
            "count": 0
           },
           {
            "bin_start": 0.18500000000000005,
            "bin_end": 0.2,
            "count": 2
           }
          ]
         }
        },
        {
         "name": "PageValues",
         "dtype": "float64",
         "stats": {
          "unique_count": 1,
          "nan_count": 0,
          "min": "0.0",
          "max": "0.0",
          "histogram": [
           {
            "bin_start": -0.5,
            "bin_end": -0.4,
            "count": 0
           },
           {
            "bin_start": -0.4,
            "bin_end": -0.3,
            "count": 0
           },
           {
            "bin_start": -0.3,
            "bin_end": -0.19999999999999996,
            "count": 0
           },
           {
            "bin_start": -0.19999999999999996,
            "bin_end": -0.09999999999999998,
            "count": 0
           },
           {
            "bin_start": -0.09999999999999998,
            "bin_end": 0,
            "count": 0
           },
           {
            "bin_start": 0,
            "bin_end": 0.10000000000000009,
            "count": 5
           },
           {
            "bin_start": 0.10000000000000009,
            "bin_end": 0.20000000000000007,
            "count": 0
           },
           {
            "bin_start": 0.20000000000000007,
            "bin_end": 0.30000000000000004,
            "count": 0
           },
           {
            "bin_start": 0.30000000000000004,
            "bin_end": 0.4,
            "count": 0
           },
           {
            "bin_start": 0.4,
            "bin_end": 0.5,
            "count": 0
           }
          ]
         }
        },
        {
         "name": "SpecialDay",
         "dtype": "float64",
         "stats": {
          "unique_count": 1,
          "nan_count": 0,
          "min": "0.0",
          "max": "0.0",
          "histogram": [
           {
            "bin_start": -0.5,
            "bin_end": -0.4,
            "count": 0
           },
           {
            "bin_start": -0.4,
            "bin_end": -0.3,
            "count": 0
           },
           {
            "bin_start": -0.3,
            "bin_end": -0.19999999999999996,
            "count": 0
           },
           {
            "bin_start": -0.19999999999999996,
            "bin_end": -0.09999999999999998,
            "count": 0
           },
           {
            "bin_start": -0.09999999999999998,
            "bin_end": 0,
            "count": 0
           },
           {
            "bin_start": 0,
            "bin_end": 0.10000000000000009,
            "count": 5
           },
           {
            "bin_start": 0.10000000000000009,
            "bin_end": 0.20000000000000007,
            "count": 0
           },
           {
            "bin_start": 0.20000000000000007,
            "bin_end": 0.30000000000000004,
            "count": 0
           },
           {
            "bin_start": 0.30000000000000004,
            "bin_end": 0.4,
            "count": 0
           },
           {
            "bin_start": 0.4,
            "bin_end": 0.5,
            "count": 0
           }
          ]
         }
        },
        {
         "name": "Month",
         "dtype": "object",
         "stats": {
          "unique_count": 1,
          "nan_count": 0,
          "categories": [
           {
            "name": "Feb",
            "count": 5
           }
          ]
         }
        },
        {
         "name": "OperatingSystems",
         "dtype": "int64",
         "stats": {
          "unique_count": 4,
          "nan_count": 0,
          "min": "1",
          "max": "4",
          "histogram": [
           {
            "bin_start": 1,
            "bin_end": 1.3,
            "count": 1
           },
           {
            "bin_start": 1.3,
            "bin_end": 1.6,
            "count": 0
           },
           {
            "bin_start": 1.6,
            "bin_end": 1.9,
            "count": 0
           },
           {
            "bin_start": 1.9,
            "bin_end": 2.2,
            "count": 1
           },
           {
            "bin_start": 2.2,
            "bin_end": 2.5,
            "count": 0
           },
           {
            "bin_start": 2.5,
            "bin_end": 2.8,
            "count": 0
           },
           {
            "bin_start": 2.8,
            "bin_end": 3.1,
            "count": 2
           },
           {
            "bin_start": 3.1,
            "bin_end": 3.4,
            "count": 0
           },
           {
            "bin_start": 3.4,
            "bin_end": 3.6999999999999997,
            "count": 0
           },
           {
            "bin_start": 3.6999999999999997,
            "bin_end": 4,
            "count": 1
           }
          ]
         }
        },
        {
         "name": "Browser",
         "dtype": "int64",
         "stats": {
          "unique_count": 3,
          "nan_count": 0,
          "min": "1",
          "max": "3",
          "histogram": [
           {
            "bin_start": 1,
            "bin_end": 1.2,
            "count": 2
           },
           {
            "bin_start": 1.2,
            "bin_end": 1.4,
            "count": 0
           },
           {
            "bin_start": 1.4,
            "bin_end": 1.6,
            "count": 0
           },
           {
            "bin_start": 1.6,
            "bin_end": 1.8,
            "count": 0
           },
           {
            "bin_start": 1.8,
            "bin_end": 2,
            "count": 0
           },
           {
            "bin_start": 2,
            "bin_end": 2.2,
            "count": 2
           },
           {
            "bin_start": 2.2,
            "bin_end": 2.4000000000000004,
            "count": 0
           },
           {
            "bin_start": 2.4000000000000004,
            "bin_end": 2.6,
            "count": 0
           },
           {
            "bin_start": 2.6,
            "bin_end": 2.8,
            "count": 0
           },
           {
            "bin_start": 2.8,
            "bin_end": 3,
            "count": 1
           }
          ]
         }
        },
        {
         "name": "Region",
         "dtype": "int64",
         "stats": {
          "unique_count": 3,
          "nan_count": 0,
          "min": "1",
          "max": "9",
          "histogram": [
           {
            "bin_start": 1,
            "bin_end": 1.8,
            "count": 3
           },
           {
            "bin_start": 1.8,
            "bin_end": 2.6,
            "count": 1
           },
           {
            "bin_start": 2.6,
            "bin_end": 3.4000000000000004,
            "count": 0
           },
           {
            "bin_start": 3.4000000000000004,
            "bin_end": 4.2,
            "count": 0
           },
           {
            "bin_start": 4.2,
            "bin_end": 5,
            "count": 0
           },
           {
            "bin_start": 5,
            "bin_end": 5.800000000000001,
            "count": 0
           },
           {
            "bin_start": 5.800000000000001,
            "bin_end": 6.6000000000000005,
            "count": 0
           },
           {
            "bin_start": 6.6000000000000005,
            "bin_end": 7.4,
            "count": 0
           },
           {
            "bin_start": 7.4,
            "bin_end": 8.2,
            "count": 0
           },
           {
            "bin_start": 8.2,
            "bin_end": 9,
            "count": 1
           }
          ]
         }
        },
        {
         "name": "TrafficType",
         "dtype": "int64",
         "stats": {
          "unique_count": 4,
          "nan_count": 0,
          "min": "1",
          "max": "4",
          "histogram": [
           {
            "bin_start": 1,
            "bin_end": 1.3,
            "count": 1
           },
           {
            "bin_start": 1.3,
            "bin_end": 1.6,
            "count": 0
           },
           {
            "bin_start": 1.6,
            "bin_end": 1.9,
            "count": 0
           },
           {
            "bin_start": 1.9,
            "bin_end": 2.2,
            "count": 1
           },
           {
            "bin_start": 2.2,
            "bin_end": 2.5,
            "count": 0
           },
           {
            "bin_start": 2.5,
            "bin_end": 2.8,
            "count": 0
           },
           {
            "bin_start": 2.8,
            "bin_end": 3.1,
            "count": 1
           },
           {
            "bin_start": 3.1,
            "bin_end": 3.4,
            "count": 0
           },
           {
            "bin_start": 3.4,
            "bin_end": 3.6999999999999997,
            "count": 0
           },
           {
            "bin_start": 3.6999999999999997,
            "bin_end": 4,
            "count": 2
           }
          ]
         }
        },
        {
         "name": "VisitorType",
         "dtype": "object",
         "stats": {
          "unique_count": 1,
          "nan_count": 0,
          "categories": [
           {
            "name": "Returning_Visitor",
            "count": 5
           }
          ]
         }
        },
        {
         "name": "Weekend",
         "dtype": "bool",
         "stats": {
          "unique_count": 2,
          "nan_count": 0,
          "categories": [
           {
            "name": "False",
            "count": 4
           },
           {
            "name": "True",
            "count": 1
           }
          ]
         }
        },
        {
         "name": "Revenue",
         "dtype": "bool",
         "stats": {
          "unique_count": 1,
          "nan_count": 0,
          "categories": [
           {
            "name": "False",
            "count": 5
           }
          ]
         }
        },
        {
         "name": "_deepnote_index_column",
         "dtype": "int64"
        }
       ],
       "rows_top": [
        {
         "Administrative": 0,
         "Administrative_Duration": 0,
         "Informational": 0,
         "Informational_Duration": 0,
         "ProductRelated": 1,
         "ProductRelated_Duration": 0,
         "BounceRates": 0.2,
         "ExitRates": 0.2,
         "PageValues": 0,
         "SpecialDay": 0,
         "Month": "Feb",
         "OperatingSystems": 1,
         "Browser": 1,
         "Region": 1,
         "TrafficType": 1,
         "VisitorType": "Returning_Visitor",
         "Weekend": false,
         "Revenue": false,
         "_deepnote_index_column": 0
        },
        {
         "Administrative": 0,
         "Administrative_Duration": 0,
         "Informational": 0,
         "Informational_Duration": 0,
         "ProductRelated": 2,
         "ProductRelated_Duration": 64,
         "BounceRates": 0,
         "ExitRates": 0.1,
         "PageValues": 0,
         "SpecialDay": 0,
         "Month": "Feb",
         "OperatingSystems": 2,
         "Browser": 2,
         "Region": 1,
         "TrafficType": 2,
         "VisitorType": "Returning_Visitor",
         "Weekend": false,
         "Revenue": false,
         "_deepnote_index_column": 1
        },
        {
         "Administrative": 0,
         "Administrative_Duration": 0,
         "Informational": 0,
         "Informational_Duration": 0,
         "ProductRelated": 1,
         "ProductRelated_Duration": 0,
         "BounceRates": 0.2,
         "ExitRates": 0.2,
         "PageValues": 0,
         "SpecialDay": 0,
         "Month": "Feb",
         "OperatingSystems": 4,
         "Browser": 1,
         "Region": 9,
         "TrafficType": 3,
         "VisitorType": "Returning_Visitor",
         "Weekend": false,
         "Revenue": false,
         "_deepnote_index_column": 2
        },
        {
         "Administrative": 0,
         "Administrative_Duration": 0,
         "Informational": 0,
         "Informational_Duration": 0,
         "ProductRelated": 2,
         "ProductRelated_Duration": 2.666666667,
         "BounceRates": 0.05,
         "ExitRates": 0.14,
         "PageValues": 0,
         "SpecialDay": 0,
         "Month": "Feb",
         "OperatingSystems": 3,
         "Browser": 2,
         "Region": 2,
         "TrafficType": 4,
         "VisitorType": "Returning_Visitor",
         "Weekend": false,
         "Revenue": false,
         "_deepnote_index_column": 3
        },
        {
         "Administrative": 0,
         "Administrative_Duration": 0,
         "Informational": 0,
         "Informational_Duration": 0,
         "ProductRelated": 10,
         "ProductRelated_Duration": 627.5,
         "BounceRates": 0.02,
         "ExitRates": 0.05,
         "PageValues": 0,
         "SpecialDay": 0,
         "Month": "Feb",
         "OperatingSystems": 3,
         "Browser": 3,
         "Region": 1,
         "TrafficType": 4,
         "VisitorType": "Returning_Visitor",
         "Weekend": true,
         "Revenue": false,
         "_deepnote_index_column": 4
        }
       ],
       "rows_bottom": null
      },
      "text/plain": "   Administrative  Administrative_Duration  Informational  \\\n0               0                      0.0              0   \n1               0                      0.0              0   \n2               0                      0.0              0   \n3               0                      0.0              0   \n4               0                      0.0              0   \n\n   Informational_Duration  ProductRelated  ProductRelated_Duration  \\\n0                     0.0               1                 0.000000   \n1                     0.0               2                64.000000   \n2                     0.0               1                 0.000000   \n3                     0.0               2                 2.666667   \n4                     0.0              10               627.500000   \n\n   BounceRates  ExitRates  PageValues  SpecialDay Month  OperatingSystems  \\\n0         0.20       0.20         0.0         0.0   Feb                 1   \n1         0.00       0.10         0.0         0.0   Feb                 2   \n2         0.20       0.20         0.0         0.0   Feb                 4   \n3         0.05       0.14         0.0         0.0   Feb                 3   \n4         0.02       0.05         0.0         0.0   Feb                 3   \n\n   Browser  Region  TrafficType        VisitorType  Weekend  Revenue  \n0        1       1            1  Returning_Visitor    False    False  \n1        2       1            2  Returning_Visitor    False    False  \n2        1       9            3  Returning_Visitor    False    False  \n3        2       2            4  Returning_Visitor    False    False  \n4        3       1            4  Returning_Visitor     True    False  ",
      "text/html": "<div>\n<style scoped>\n    .dataframe tbody tr th:only-of-type {\n        vertical-align: middle;\n    }\n\n    .dataframe tbody tr th {\n        vertical-align: top;\n    }\n\n    .dataframe thead th {\n        text-align: right;\n    }\n</style>\n<table border=\"1\" class=\"dataframe\">\n  <thead>\n    <tr style=\"text-align: right;\">\n      <th></th>\n      <th>Administrative</th>\n      <th>Administrative_Duration</th>\n      <th>Informational</th>\n      <th>Informational_Duration</th>\n      <th>ProductRelated</th>\n      <th>ProductRelated_Duration</th>\n      <th>BounceRates</th>\n      <th>ExitRates</th>\n      <th>PageValues</th>\n      <th>SpecialDay</th>\n      <th>Month</th>\n      <th>OperatingSystems</th>\n      <th>Browser</th>\n      <th>Region</th>\n      <th>TrafficType</th>\n      <th>VisitorType</th>\n      <th>Weekend</th>\n      <th>Revenue</th>\n    </tr>\n  </thead>\n  <tbody>\n    <tr>\n      <th>0</th>\n      <td>0</td>\n      <td>0.0</td>\n      <td>0</td>\n      <td>0.0</td>\n      <td>1</td>\n      <td>0.000000</td>\n      <td>0.20</td>\n      <td>0.20</td>\n      <td>0.0</td>\n      <td>0.0</td>\n      <td>Feb</td>\n      <td>1</td>\n      <td>1</td>\n      <td>1</td>\n      <td>1</td>\n      <td>Returning_Visitor</td>\n      <td>False</td>\n      <td>False</td>\n    </tr>\n    <tr>\n      <th>1</th>\n      <td>0</td>\n      <td>0.0</td>\n      <td>0</td>\n      <td>0.0</td>\n      <td>2</td>\n      <td>64.000000</td>\n      <td>0.00</td>\n      <td>0.10</td>\n      <td>0.0</td>\n      <td>0.0</td>\n      <td>Feb</td>\n      <td>2</td>\n      <td>2</td>\n      <td>1</td>\n      <td>2</td>\n      <td>Returning_Visitor</td>\n      <td>False</td>\n      <td>False</td>\n    </tr>\n    <tr>\n      <th>2</th>\n      <td>0</td>\n      <td>0.0</td>\n      <td>0</td>\n      <td>0.0</td>\n      <td>1</td>\n      <td>0.000000</td>\n      <td>0.20</td>\n      <td>0.20</td>\n      <td>0.0</td>\n      <td>0.0</td>\n      <td>Feb</td>\n      <td>4</td>\n      <td>1</td>\n      <td>9</td>\n      <td>3</td>\n      <td>Returning_Visitor</td>\n      <td>False</td>\n      <td>False</td>\n    </tr>\n    <tr>\n      <th>3</th>\n      <td>0</td>\n      <td>0.0</td>\n      <td>0</td>\n      <td>0.0</td>\n      <td>2</td>\n      <td>2.666667</td>\n      <td>0.05</td>\n      <td>0.14</td>\n      <td>0.0</td>\n      <td>0.0</td>\n      <td>Feb</td>\n      <td>3</td>\n      <td>2</td>\n      <td>2</td>\n      <td>4</td>\n      <td>Returning_Visitor</td>\n      <td>False</td>\n      <td>False</td>\n    </tr>\n    <tr>\n      <th>4</th>\n      <td>0</td>\n      <td>0.0</td>\n      <td>0</td>\n      <td>0.0</td>\n      <td>10</td>\n      <td>627.500000</td>\n      <td>0.02</td>\n      <td>0.05</td>\n      <td>0.0</td>\n      <td>0.0</td>\n      <td>Feb</td>\n      <td>3</td>\n      <td>3</td>\n      <td>1</td>\n      <td>4</td>\n      <td>Returning_Visitor</td>\n      <td>True</td>\n      <td>False</td>\n    </tr>\n  </tbody>\n</table>\n</div>"
     },
     "metadata": {}
    }
   ]
  },
  {
   "cell_type": "code",
   "metadata": {
    "tags": [],
    "cell_id": "00002-db8c04c5-63c8-4fa0-9b3e-f8d563c7398c",
    "deepnote_to_be_reexecuted": false,
    "source_hash": "f8453a83",
    "execution_start": 1620987543932,
    "execution_millis": 366,
    "deepnote_cell_type": "code"
   },
   "source": "df.corr()",
   "execution_count": 4,
   "outputs": [
    {
     "output_type": "execute_result",
     "execution_count": 4,
     "data": {
      "application/vnd.deepnote.dataframe.v2+json": {
       "row_count": 16,
       "column_count": 16,
       "columns": [
        {
         "name": "Administrative",
         "dtype": "float64",
         "stats": {
          "unique_count": 16,
          "nan_count": 0,
          "min": "-0.3164829975272521",
          "max": "1.0",
          "histogram": [
           {
            "bin_start": -0.3164829975272521,
            "bin_end": -0.1848346977745269,
            "count": 2
           },
           {
            "bin_start": -0.1848346977745269,
            "bin_end": -0.053186398021801695,
            "count": 1
           },
           {
            "bin_start": -0.053186398021801695,
            "bin_end": 0.07846190173092354,
            "count": 5
           },
           {
            "bin_start": 0.07846190173092354,
            "bin_end": 0.21011020148364873,
            "count": 2
           },
           {
            "bin_start": 0.21011020148364873,
            "bin_end": 0.3417585012363739,
            "count": 1
           },
           {
            "bin_start": 0.3417585012363739,
            "bin_end": 0.4734068009890992,
            "count": 3
           },
           {
            "bin_start": 0.4734068009890992,
            "bin_end": 0.6050551007418243,
            "count": 1
           },
           {
            "bin_start": 0.6050551007418243,
            "bin_end": 0.7367034004945496,
            "count": 0
           },
           {
            "bin_start": 0.7367034004945496,
            "bin_end": 0.8683517002472749,
            "count": 0
           },
           {
            "bin_start": 0.8683517002472749,
            "bin_end": 1,
            "count": 1
           }
          ]
         }
        },
        {
         "name": "Administrative_Duration",
         "dtype": "float64",
         "stats": {
          "unique_count": 16,
          "nan_count": 0,
          "min": "-0.20579775727445548",
          "max": "1.0",
          "histogram": [
           {
            "bin_start": -0.20579775727445548,
            "bin_end": -0.08521798154700992,
            "count": 2
           },
           {
            "bin_start": -0.08521798154700992,
            "bin_end": 0.03536179418043564,
            "count": 6
           },
           {
            "bin_start": 0.03536179418043564,
            "bin_end": 0.15594156990788122,
            "count": 2
           },
           {
            "bin_start": 0.15594156990788122,
            "bin_end": 0.27652134563532677,
            "count": 1
           },
           {
            "bin_start": 0.27652134563532677,
            "bin_end": 0.3971011213627723,
            "count": 3
           },
           {
            "bin_start": 0.3971011213627723,
            "bin_end": 0.5176808970902179,
            "count": 0
           },
           {
            "bin_start": 0.5176808970902179,
            "bin_end": 0.6382606728176634,
            "count": 1
           },
           {
            "bin_start": 0.6382606728176634,
            "bin_end": 0.758840448545109,
            "count": 0
           },
           {
            "bin_start": 0.758840448545109,
            "bin_end": 0.8794202242725545,
            "count": 0
           },
           {
            "bin_start": 0.8794202242725545,
            "bin_end": 1,
            "count": 1
           }
          ]
         }
        },
        {
         "name": "Informational",
         "dtype": "float64",
         "stats": {
          "unique_count": 16,
          "nan_count": 0,
          "min": "-0.1636660607845007",
          "max": "1.0",
          "histogram": [
           {
            "bin_start": -0.1636660607845007,
            "bin_end": -0.047299454706050625,
            "count": 3
           },
           {
            "bin_start": -0.047299454706050625,
            "bin_end": 0.06906715137239944,
            "count": 6
           },
           {
            "bin_start": 0.06906715137239944,
            "bin_end": 0.1854337574508495,
            "count": 1
           },
           {
            "bin_start": 0.1854337574508495,
            "bin_end": 0.30180036352929956,
            "count": 0
           },
           {
            "bin_start": 0.30180036352929956,
            "bin_end": 0.41816696960774963,
            "count": 4
           },
           {
            "bin_start": 0.41816696960774963,
            "bin_end": 0.5345335756861997,
            "count": 0
           },
           {
            "bin_start": 0.5345335756861997,
            "bin_end": 0.6509001817646498,
            "count": 1
           },
           {
            "bin_start": 0.6509001817646498,
            "bin_end": 0.7672667878430999,
            "count": 0
           },
           {
            "bin_start": 0.7672667878430999,
            "bin_end": 0.8836333939215499,
            "count": 0
           },
           {
            "bin_start": 0.8836333939215499,
            "bin_end": 1,
            "count": 1
           }
          ]
         }
        },
        {
         "name": "Informational_Duration",
         "dtype": "float64",
         "stats": {
          "unique_count": 16,
          "nan_count": 0,
          "min": "-0.1052756833478731",
          "max": "1.0",
          "histogram": [
           {
            "bin_start": -0.1052756833478731,
            "bin_end": 0.005251884986914215,
            "count": 7
           },
           {
            "bin_start": 0.005251884986914215,
            "bin_end": 0.11577945332170153,
            "count": 3
           },
           {
            "bin_start": 0.11577945332170153,
            "bin_end": 0.22630702165648883,
            "count": 0
           },
           {
            "bin_start": 0.22630702165648883,
            "bin_end": 0.33683458999127613,
            "count": 3
           },
           {
            "bin_start": 0.33683458999127613,
            "bin_end": 0.4473621583260635,
            "count": 1
           },
           {
            "bin_start": 0.4473621583260635,
            "bin_end": 0.5578897266608508,
            "count": 0
           },
           {
            "bin_start": 0.5578897266608508,
            "bin_end": 0.6684172949956382,
            "count": 1
           },
           {
            "bin_start": 0.6684172949956382,
            "bin_end": 0.7789448633304255,
            "count": 0
           },
           {
            "bin_start": 0.7789448633304255,
            "bin_end": 0.8894724316652127,
            "count": 0
           },
           {
            "bin_start": 0.8894724316652127,
            "bin_end": 1,
            "count": 1
           }
          ]
         }
        },
        {
         "name": "ProductRelated",
         "dtype": "float64",
         "stats": {
          "unique_count": 16,
          "nan_count": 0,
          "min": "-0.29252628311358025",
          "max": "1.0",
          "histogram": [
           {
            "bin_start": -0.29252628311358025,
            "bin_end": -0.16327365480222222,
            "count": 2
           },
           {
            "bin_start": -0.16327365480222222,
            "bin_end": -0.03402102649086419,
            "count": 2
           },
           {
            "bin_start": -0.03402102649086419,
            "bin_end": 0.09523160182049384,
            "count": 5
           },
           {
            "bin_start": 0.09523160182049384,
            "bin_end": 0.22448423013185187,
            "count": 1
           },
           {
            "bin_start": 0.22448423013185187,
            "bin_end": 0.35373685844320985,
            "count": 2
           },
           {
            "bin_start": 0.35373685844320985,
            "bin_end": 0.48298948675456793,
            "count": 2
           },
           {
            "bin_start": 0.48298948675456793,
            "bin_end": 0.6122421150659261,
            "count": 0
           },
           {
            "bin_start": 0.6122421150659261,
            "bin_end": 0.741494743377284,
            "count": 0
           },
           {
            "bin_start": 0.741494743377284,
            "bin_end": 0.870747371688642,
            "count": 1
           },
           {
            "bin_start": 0.870747371688642,
            "bin_end": 1,
            "count": 1
           }
          ]
         }
        },
        {
         "name": "ProductRelated_Duration",
         "dtype": "float64",
         "stats": {
          "unique_count": 16,
          "nan_count": 0,
          "min": "-0.2519840974061049",
          "max": "1.0",
          "histogram": [
           {
            "bin_start": -0.2519840974061049,
            "bin_end": -0.1267856876654944,
            "count": 2
           },
           {
            "bin_start": -0.1267856876654944,
            "bin_end": -0.0015872779248838897,
            "count": 4
           },
           {
            "bin_start": -0.0015872779248838897,
            "bin_end": 0.12361113181572664,
            "count": 3
           },
           {
            "bin_start": 0.12361113181572664,
            "bin_end": 0.2488095415563371,
            "count": 1
           },
           {
            "bin_start": 0.2488095415563371,
            "bin_end": 0.3740079512969476,
            "count": 3
           },
           {
            "bin_start": 0.3740079512969476,
            "bin_end": 0.49920636103755817,
            "count": 1
           },
           {
            "bin_start": 0.49920636103755817,
            "bin_end": 0.6244047707781686,
            "count": 0
           },
           {
            "bin_start": 0.6244047707781686,
            "bin_end": 0.749603180518779,
            "count": 0
           },
           {
            "bin_start": 0.749603180518779,
            "bin_end": 0.8748015902593895,
            "count": 1
           },
           {
            "bin_start": 0.8748015902593895,
            "bin_end": 1,
            "count": 1
           }
          ]
         }
        },
        {
         "name": "BounceRates",
         "dtype": "float64",
         "stats": {
          "unique_count": 16,
          "nan_count": 0,
          "min": "-0.22356263038422594",
          "max": "1.0",
          "histogram": [
           {
            "bin_start": -0.22356263038422594,
            "bin_end": -0.10120636734580335,
            "count": 7
           },
           {
            "bin_start": -0.10120636734580335,
            "bin_end": 0.02114989569261924,
            "count": 4
           },
           {
            "bin_start": 0.02114989569261924,
            "bin_end": 0.1435061587310418,
            "count": 3
           },
           {
            "bin_start": 0.1435061587310418,
            "bin_end": 0.2658624217694644,
            "count": 0
           },
           {
            "bin_start": 0.2658624217694644,
            "bin_end": 0.388218684807887,
            "count": 0
           },
           {
            "bin_start": 0.388218684807887,
            "bin_end": 0.5105749478463095,
            "count": 0
           },
           {
            "bin_start": 0.5105749478463095,
            "bin_end": 0.6329312108847321,
            "count": 0
           },
           {
            "bin_start": 0.6329312108847321,
            "bin_end": 0.7552874739231548,
            "count": 0
           },
           {
            "bin_start": 0.7552874739231548,
            "bin_end": 0.8776437369615773,
            "count": 0
           },
           {
            "bin_start": 0.8776437369615773,
            "bin_end": 1,
            "count": 2
           }
          ]
         }
        },
        {
         "name": "ExitRates",
         "dtype": "float64",
         "stats": {
          "unique_count": 16,
          "nan_count": 0,
          "min": "-0.3164829975272521",
          "max": "1.0",
          "histogram": [
           {
            "bin_start": -0.3164829975272521,
            "bin_end": -0.1848346977745269,
            "count": 5
           },
           {
            "bin_start": -0.1848346977745269,
            "bin_end": -0.053186398021801695,
            "count": 4
           },
           {
            "bin_start": -0.053186398021801695,
            "bin_end": 0.07846190173092354,
            "count": 3
           },
           {
            "bin_start": 0.07846190173092354,
            "bin_end": 0.21011020148364873,
            "count": 2
           },
           {
            "bin_start": 0.21011020148364873,
            "bin_end": 0.3417585012363739,
            "count": 0
           },
           {
            "bin_start": 0.3417585012363739,
            "bin_end": 0.4734068009890992,
            "count": 0
           },
           {
            "bin_start": 0.4734068009890992,
            "bin_end": 0.6050551007418243,
            "count": 0
           },
           {
            "bin_start": 0.6050551007418243,
            "bin_end": 0.7367034004945496,
            "count": 0
           },
           {
            "bin_start": 0.7367034004945496,
            "bin_end": 0.8683517002472749,
            "count": 0
           },
           {
            "bin_start": 0.8683517002472749,
            "bin_end": 1,
            "count": 2
           }
          ]
         }
        },
        {
         "name": "PageValues",
         "dtype": "float64",
         "stats": {
          "unique_count": 16,
          "nan_count": 0,
          "min": "-0.17449831000178184",
          "max": "1.0",
          "histogram": [
           {
            "bin_start": -0.17449831000178184,
            "bin_end": -0.05704847900160366,
            "count": 3
           },
           {
            "bin_start": -0.05704847900160366,
            "bin_end": 0.06040135199857452,
            "count": 9
           },
           {
            "bin_start": 0.06040135199857452,
            "bin_end": 0.1778511829987527,
            "count": 2
           },
           {
            "bin_start": 0.1778511829987527,
            "bin_end": 0.2953010139989309,
            "count": 0
           },
           {
            "bin_start": 0.2953010139989309,
            "bin_end": 0.4127508449991091,
            "count": 0
           },
           {
            "bin_start": 0.4127508449991091,
            "bin_end": 0.5302006759992872,
            "count": 1
           },
           {
            "bin_start": 0.5302006759992872,
            "bin_end": 0.6476505069994655,
            "count": 0
           },
           {
            "bin_start": 0.6476505069994655,
            "bin_end": 0.7651003379996436,
            "count": 0
           },
           {
            "bin_start": 0.7651003379996436,
            "bin_end": 0.8825501689998219,
            "count": 0
           },
           {
            "bin_start": 0.8825501689998219,
            "bin_end": 1,
            "count": 1
           }
          ]
         }
        },
        {
         "name": "SpecialDay",
         "dtype": "float64",
         "stats": {
          "unique_count": 16,
          "nan_count": 0,
          "min": "-0.09477759754428257",
          "max": "1.0",
          "histogram": [
           {
            "bin_start": -0.09477759754428257,
            "bin_end": 0.014700162210145695,
            "count": 12
           },
           {
            "bin_start": 0.014700162210145695,
            "bin_end": 0.12417792196457396,
            "count": 3
           },
           {
            "bin_start": 0.12417792196457396,
            "bin_end": 0.23365568171900225,
            "count": 0
           },
           {
            "bin_start": 0.23365568171900225,
            "bin_end": 0.3431334414734305,
            "count": 0
           },
           {
            "bin_start": 0.3431334414734305,
            "bin_end": 0.45261120122785875,
            "count": 0
           },
           {
            "bin_start": 0.45261120122785875,
            "bin_end": 0.562088960982287,
            "count": 0
           },
           {
            "bin_start": 0.562088960982287,
            "bin_end": 0.6715667207367152,
            "count": 0
           },
           {
            "bin_start": 0.6715667207367152,
            "bin_end": 0.7810444804911435,
            "count": 0
           },
           {
            "bin_start": 0.7810444804911435,
            "bin_end": 0.8905222402455718,
            "count": 0
           },
           {
            "bin_start": 0.8905222402455718,
            "bin_end": 1,
            "count": 1
           }
          ]
         }
        },
        {
         "name": "OperatingSystems",
         "dtype": "float64",
         "stats": {
          "unique_count": 16,
          "nan_count": 0,
          "min": "-0.01466755959421009",
          "max": "1.0",
          "histogram": [
           {
            "bin_start": -0.01466755959421009,
            "bin_end": 0.08679919636521091,
            "count": 13
           },
           {
            "bin_start": 0.08679919636521091,
            "bin_end": 0.18826595232463192,
            "count": 0
           },
           {
            "bin_start": 0.18826595232463192,
            "bin_end": 0.28973270828405295,
            "count": 2
           },
           {
            "bin_start": 0.28973270828405295,
            "bin_end": 0.39119946424347396,
            "count": 0
           },
           {
            "bin_start": 0.39119946424347396,
            "bin_end": 0.49266622020289497,
            "count": 0
           },
           {
            "bin_start": 0.49266622020289497,
            "bin_end": 0.594132976162316,
            "count": 0
           },
           {
            "bin_start": 0.594132976162316,
            "bin_end": 0.695599732121737,
            "count": 0
           },
           {
            "bin_start": 0.695599732121737,
            "bin_end": 0.797066488081158,
            "count": 0
           },
           {
            "bin_start": 0.797066488081158,
            "bin_end": 0.898533244040579,
            "count": 0
           },
           {
            "bin_start": 0.898533244040579,
            "bin_end": 1,
            "count": 1
           }
          ]
         }
        },
        {
         "name": "Browser",
         "dtype": "float64",
         "stats": {
          "unique_count": 16,
          "nan_count": 0,
          "min": "-0.04026086380886525",
          "max": "1.0",
          "histogram": [
           {
            "bin_start": -0.04026086380886525,
            "bin_end": 0.06376522257202127,
            "count": 12
           },
           {
            "bin_start": 0.06376522257202127,
            "bin_end": 0.1677913089529078,
            "count": 2
           },
           {
            "bin_start": 0.1677913089529078,
            "bin_end": 0.2718173953337944,
            "count": 1
           },
           {
            "bin_start": 0.2718173953337944,
            "bin_end": 0.3758434817146809,
            "count": 0
           },
           {
            "bin_start": 0.3758434817146809,
            "bin_end": 0.4798695680955674,
            "count": 0
           },
           {
            "bin_start": 0.4798695680955674,
            "bin_end": 0.583895654476454,
            "count": 0
           },
           {
            "bin_start": 0.583895654476454,
            "bin_end": 0.6879217408573405,
            "count": 0
           },
           {
            "bin_start": 0.6879217408573405,
            "bin_end": 0.791947827238227,
            "count": 0
           },
           {
            "bin_start": 0.791947827238227,
            "bin_end": 0.8959739136191135,
            "count": 0
           },
           {
            "bin_start": 0.8959739136191135,
            "bin_end": 1,
            "count": 1
           }
          ]
         }
        },
        {
         "name": "Region",
         "dtype": "float64",
         "stats": {
          "unique_count": 16,
          "nan_count": 0,
          "min": "-0.03812184171387137",
          "max": "1.0",
          "histogram": [
           {
            "bin_start": -0.03812184171387137,
            "bin_end": 0.06569034245751576,
            "count": 13
           },
           {
            "bin_start": 0.06569034245751576,
            "bin_end": 0.1695025266289029,
            "count": 2
           },
           {
            "bin_start": 0.1695025266289029,
            "bin_end": 0.27331471080029,
            "count": 0
           },
           {
            "bin_start": 0.27331471080029,
            "bin_end": 0.3771268949716772,
            "count": 0
           },
           {
            "bin_start": 0.3771268949716772,
            "bin_end": 0.48093907914306433,
            "count": 0
           },
           {
            "bin_start": 0.48093907914306433,
            "bin_end": 0.5847512633144514,
            "count": 0
           },
           {
            "bin_start": 0.5847512633144514,
            "bin_end": 0.6885634474858385,
            "count": 0
           },
           {
            "bin_start": 0.6885634474858385,
            "bin_end": 0.7923756316572257,
            "count": 0
           },
           {
            "bin_start": 0.7923756316572257,
            "bin_end": 0.8961878158286128,
            "count": 0
           },
           {
            "bin_start": 0.8961878158286128,
            "bin_end": 1,
            "count": 1
           }
          ]
         }
        },
        {
         "name": "TrafficType",
         "dtype": "float64",
         "stats": {
          "unique_count": 16,
          "nan_count": 0,
          "min": "-0.043064303810434905",
          "max": "1.0",
          "histogram": [
           {
            "bin_start": -0.043064303810434905,
            "bin_end": 0.061242126570608575,
            "count": 11
           },
           {
            "bin_start": 0.061242126570608575,
            "bin_end": 0.16554855695165205,
            "count": 3
           },
           {
            "bin_start": 0.16554855695165205,
            "bin_end": 0.26985498733269553,
            "count": 1
           },
           {
            "bin_start": 0.26985498733269553,
            "bin_end": 0.374161417713739,
            "count": 0
           },
           {
            "bin_start": 0.374161417713739,
            "bin_end": 0.4784678480947825,
            "count": 0
           },
           {
            "bin_start": 0.4784678480947825,
            "bin_end": 0.582774278475826,
            "count": 0
           },
           {
            "bin_start": 0.582774278475826,
            "bin_end": 0.6870807088568694,
            "count": 0
           },
           {
            "bin_start": 0.6870807088568694,
            "bin_end": 0.7913871392379129,
            "count": 0
           },
           {
            "bin_start": 0.7913871392379129,
            "bin_end": 0.8956935696189564,
            "count": 0
           },
           {
            "bin_start": 0.8956935696189564,
            "bin_end": 1,
            "count": 1
           }
          ]
         }
        },
        {
         "name": "Weekend",
         "dtype": "float64",
         "stats": {
          "unique_count": 16,
          "nan_count": 0,
          "min": "-0.06258704801054936",
          "max": "1.0",
          "histogram": [
           {
            "bin_start": -0.06258704801054936,
            "bin_end": 0.04367165679050557,
            "count": 15
           },
           {
            "bin_start": 0.04367165679050557,
            "bin_end": 0.14993036159156048,
            "count": 0
           },
           {
            "bin_start": 0.14993036159156048,
            "bin_end": 0.2561890663926154,
            "count": 0
           },
           {
            "bin_start": 0.2561890663926154,
            "bin_end": 0.36244777119367033,
            "count": 0
           },
           {
            "bin_start": 0.36244777119367033,
            "bin_end": 0.46870647599472526,
            "count": 0
           },
           {
            "bin_start": 0.46870647599472526,
            "bin_end": 0.5749651807957802,
            "count": 0
           },
           {
            "bin_start": 0.5749651807957802,
            "bin_end": 0.6812238855968351,
            "count": 0
           },
           {
            "bin_start": 0.6812238855968351,
            "bin_end": 0.78748259039789,
            "count": 0
           },
           {
            "bin_start": 0.78748259039789,
            "bin_end": 0.893741295198945,
            "count": 0
           },
           {
            "bin_start": 0.893741295198945,
            "bin_end": 1,
            "count": 1
           }
          ]
         }
        },
        {
         "name": "Revenue",
         "dtype": "float64",
         "stats": {
          "unique_count": 16,
          "nan_count": 0,
          "min": "-0.2070710820552722",
          "max": "1.0",
          "histogram": [
           {
            "bin_start": -0.2070710820552722,
            "bin_end": -0.08636397384974498,
            "count": 2
           },
           {
            "bin_start": -0.08636397384974498,
            "bin_end": 0.034343134355782234,
            "count": 6
           },
           {
            "bin_start": 0.034343134355782234,
            "bin_end": 0.15505024256130945,
            "count": 5
           },
           {
            "bin_start": 0.15505024256130945,
            "bin_end": 0.27575735076683666,
            "count": 1
           },
           {
            "bin_start": 0.27575735076683666,
            "bin_end": 0.3964644589723639,
            "count": 0
           },
           {
            "bin_start": 0.3964644589723639,
            "bin_end": 0.5171715671778911,
            "count": 1
           },
           {
            "bin_start": 0.5171715671778911,
            "bin_end": 0.6378786753834182,
            "count": 0
           },
           {
            "bin_start": 0.6378786753834182,
            "bin_end": 0.7585857835889456,
            "count": 0
           },
           {
            "bin_start": 0.7585857835889456,
            "bin_end": 0.8792928917944727,
            "count": 0
           },
           {
            "bin_start": 0.8792928917944727,
            "bin_end": 1,
            "count": 1
           }
          ]
         }
        },
        {
         "name": "_deepnote_index_column",
         "dtype": "object"
        }
       ],
       "rows_top": [
        {
         "Administrative": 1,
         "Administrative_Duration": 0.6015833421250226,
         "Informational": 0.3768504293073085,
         "Informational_Duration": 0.25584814023262603,
         "ProductRelated": 0.43111933962453475,
         "ProductRelated_Duration": 0.37393901295967064,
         "BounceRates": -0.22356263038422594,
         "ExitRates": -0.3164829975272521,
         "PageValues": 0.09898958539971277,
         "SpecialDay": -0.09477759754428257,
         "OperatingSystems": -0.006347063271777328,
         "Browser": -0.025034572301622246,
         "Region": -0.005486805267111584,
         "TrafficType": -0.03356071261303074,
         "Weekend": 0.026416750253924794,
         "Revenue": 0.13891709415067252,
         "_deepnote_index_column": "Administrative"
        },
        {
         "Administrative": 0.6015833421250226,
         "Administrative_Duration": 1,
         "Informational": 0.3027097089757625,
         "Informational_Duration": 0.23803078935000088,
         "ProductRelated": 0.2890866214062173,
         "ProductRelated_Duration": 0.35542195350163014,
         "BounceRates": -0.14417040950711418,
         "ExitRates": -0.20579775727445548,
         "PageValues": 0.06760848087034964,
         "SpecialDay": -0.07330372492126022,
         "OperatingSystems": -0.0073434175219950475,
         "Browser": -0.015391526719883216,
         "Region": -0.0055605628393206995,
         "TrafficType": -0.014376430636008032,
         "Weekend": 0.014990141913816167,
         "Revenue": 0.09358671905704198,
         "_deepnote_index_column": "Administrative_Duration"
        },
        {
         "Administrative": 0.3768504293073085,
         "Administrative_Duration": 0.3027097089757625,
         "Informational": 1,
         "Informational_Duration": 0.6189548617814573,
         "ProductRelated": 0.3741642906577265,
         "ProductRelated_Duration": 0.3875053062598626,
         "BounceRates": -0.11611361638719091,
         "ExitRates": -0.1636660607845007,
         "PageValues": 0.048631691953743394,
         "SpecialDay": -0.04821925398952802,
         "OperatingSystems": -0.00952666789175222,
         "Browser": -0.03823467813983742,
         "Region": -0.02916863793730765,
         "TrafficType": -0.034490753826794264,
         "Weekend": 0.03578472510756787,
         "Revenue": 0.0952003425720571,
         "_deepnote_index_column": "Informational"
        },
        {
         "Administrative": 0.25584814023262603,
         "Administrative_Duration": 0.23803078935000088,
         "Informational": 0.6189548617814573,
         "Informational_Duration": 1,
         "ProductRelated": 0.28004626785919684,
         "ProductRelated_Duration": 0.3473635774464961,
         "BounceRates": -0.07406660989572071,
         "ExitRates": -0.1052756833478731,
         "PageValues": 0.030860873716780254,
         "SpecialDay": -0.030576549486372003,
         "OperatingSystems": -0.00957867640106472,
         "Browser": -0.019284980935369168,
         "Region": -0.027144112353764367,
         "TrafficType": -0.02467490778346264,
         "Weekend": 0.024078486249592326,
         "Revenue": 0.07034450234598345,
         "_deepnote_index_column": "Informational_Duration"
        },
        {
         "Administrative": 0.43111933962453475,
         "Administrative_Duration": 0.2890866214062173,
         "Informational": 0.3741642906577265,
         "Informational_Duration": 0.28004626785919684,
         "ProductRelated": 1,
         "ProductRelated_Duration": 0.8609268361763707,
         "BounceRates": -0.20457763335075316,
         "ExitRates": -0.29252628311358025,
         "PageValues": 0.05628179410884894,
         "SpecialDay": -0.02395817472400519,
         "OperatingSystems": 0.004289620582246028,
         "Browser": -0.01314572095583748,
         "Region": -0.03812184171387137,
         "TrafficType": -0.043064303810434905,
         "Weekend": 0.01609196423446964,
         "Revenue": 0.1585379842808741,
         "_deepnote_index_column": "ProductRelated"
        },
        {
         "Administrative": 0.37393901295967064,
         "Administrative_Duration": 0.35542195350163014,
         "Informational": 0.3875053062598626,
         "Informational_Duration": 0.3473635774464961,
         "ProductRelated": 0.8609268361763707,
         "ProductRelated_Duration": 1,
         "BounceRates": -0.18454111529428474,
         "ExitRates": -0.2519840974061049,
         "PageValues": 0.052823062950144,
         "SpecialDay": -0.03637984509738724,
         "OperatingSystems": 0.002975789794996047,
         "Browser": -0.007380440334985914,
         "Region": -0.033090519836723925,
         "TrafficType": -0.03637717048954162,
         "Weekend": 0.007310613811572834,
         "Revenue": 0.15237261055701054,
         "_deepnote_index_column": "ProductRelated_Duration"
        },
        {
         "Administrative": -0.22356263038422594,
         "Administrative_Duration": -0.14417040950711418,
         "Informational": -0.11611361638719091,
         "Informational_Duration": -0.07406660989572071,
         "ProductRelated": -0.20457763335075316,
         "ProductRelated_Duration": -0.18454111529428474,
         "BounceRates": 1,
         "ExitRates": 0.9130043961815185,
         "PageValues": -0.11938602629479486,
         "SpecialDay": 0.0727022530825555,
         "OperatingSystems": 0.023823182463080836,
         "Browser": -0.015772209261555672,
         "Region": -0.006485347449602025,
         "TrafficType": 0.07828554120291616,
         "Weekend": -0.04651399653118228,
         "Revenue": -0.1506729119260533,
         "_deepnote_index_column": "BounceRates"
        },
        {
         "Administrative": -0.3164829975272521,
         "Administrative_Duration": -0.20579775727445548,
         "Informational": -0.1636660607845007,
         "Informational_Duration": -0.1052756833478731,
         "ProductRelated": -0.29252628311358025,
         "ProductRelated_Duration": -0.2519840974061049,
         "BounceRates": 0.9130043961815185,
         "ExitRates": 1,
         "PageValues": -0.17449831000178184,
         "SpecialDay": 0.10224180209857663,
         "OperatingSystems": 0.01456673534477198,
         "Browser": -0.004442355026473063,
         "Region": -0.008907005956706467,
         "TrafficType": 0.07861633061233261,
         "Weekend": -0.06258704801054936,
         "Revenue": -0.2070710820552722,
         "_deepnote_index_column": "ExitRates"
        },
        {
         "Administrative": 0.09898958539971277,
         "Administrative_Duration": 0.06760848087034964,
         "Informational": 0.048631691953743394,
         "Informational_Duration": 0.030860873716780254,
         "ProductRelated": 0.05628179410884894,
         "ProductRelated_Duration": 0.052823062950144,
         "BounceRates": -0.11938602629479486,
         "ExitRates": -0.17449831000178184,
         "PageValues": 1,
         "SpecialDay": -0.06354127178534998,
         "OperatingSystems": 0.018507946634803263,
         "Browser": 0.04559191854226462,
         "Region": 0.011315299468006681,
         "TrafficType": 0.012531692664867294,
         "Weekend": 0.012001639171359785,
         "Revenue": 0.49256929525120574,
         "_deepnote_index_column": "PageValues"
        },
        {
         "Administrative": -0.09477759754428257,
         "Administrative_Duration": -0.07330372492126022,
         "Informational": -0.04821925398952802,
         "Informational_Duration": -0.030576549486372003,
         "ProductRelated": -0.02395817472400519,
         "ProductRelated_Duration": -0.03637984509738724,
         "BounceRates": 0.0727022530825555,
         "ExitRates": 0.10224180209857663,
         "PageValues": -0.06354127178534998,
         "SpecialDay": 1,
         "OperatingSystems": 0.01265223473651744,
         "Browser": 0.003498746743314711,
         "Region": -0.016097974624069006,
         "TrafficType": 0.05230144264216626,
         "Weekend": -0.01676715526954078,
         "Revenue": -0.08230459817953152,
         "_deepnote_index_column": "SpecialDay"
        },
        {
         "Administrative": -0.006347063271777328,
         "Administrative_Duration": -0.0073434175219950475,
         "Informational": -0.00952666789175222,
         "Informational_Duration": -0.00957867640106472,
         "ProductRelated": 0.004289620582246028,
         "ProductRelated_Duration": 0.002975789794996047,
         "BounceRates": 0.023823182463080836,
         "ExitRates": 0.01456673534477198,
         "PageValues": 0.018507946634803263,
         "SpecialDay": 0.01265223473651744,
         "OperatingSystems": 1,
         "Browser": 0.22301288824747276,
         "Region": 0.07677548563257915,
         "TrafficType": 0.18915361212809206,
         "Weekend": 0.0002842506113326362,
         "Revenue": -0.01466755959421009,
         "_deepnote_index_column": "OperatingSystems"
        },
        {
         "Administrative": -0.025034572301622246,
         "Administrative_Duration": -0.015391526719883216,
         "Informational": -0.03823467813983742,
         "Informational_Duration": -0.019284980935369168,
         "ProductRelated": -0.01314572095583748,
         "ProductRelated_Duration": -0.007380440334985914,
         "BounceRates": -0.015772209261555672,
         "ExitRates": -0.004442355026473063,
         "PageValues": 0.04559191854226462,
         "SpecialDay": 0.003498746743314711,
         "OperatingSystems": 0.22301288824747276,
         "Browser": 1,
         "Region": 0.09739284920807333,
         "TrafficType": 0.11193822446993566,
         "Weekend": -0.04026086380886525,
         "Revenue": 0.02398428940409267,
         "_deepnote_index_column": "Browser"
        },
        {
         "Administrative": -0.005486805267111584,
         "Administrative_Duration": -0.0055605628393206995,
         "Informational": -0.02916863793730765,
         "Informational_Duration": -0.027144112353764367,
         "ProductRelated": -0.03812184171387137,
         "ProductRelated_Duration": -0.033090519836723925,
         "BounceRates": -0.006485347449602025,
         "ExitRates": -0.008907005956706467,
         "PageValues": 0.011315299468006681,
         "SpecialDay": -0.016097974624069006,
         "OperatingSystems": 0.07677548563257915,
         "Browser": 0.09739284920807333,
         "Region": 1,
         "TrafficType": 0.047520231297077636,
         "Weekend": -0.0006906703089069207,
         "Revenue": -0.01159506777780069,
         "_deepnote_index_column": "Region"
        },
        {
         "Administrative": -0.03356071261303074,
         "Administrative_Duration": -0.014376430636008032,
         "Informational": -0.034490753826794264,
         "Informational_Duration": -0.02467490778346264,
         "ProductRelated": -0.043064303810434905,
         "ProductRelated_Duration": -0.03637717048954162,
         "BounceRates": 0.07828554120291616,
         "ExitRates": 0.07861633061233261,
         "PageValues": 0.012531692664867294,
         "SpecialDay": 0.05230144264216626,
         "OperatingSystems": 0.18915361212809206,
         "Browser": 0.11193822446993566,
         "Region": 0.047520231297077636,
         "TrafficType": 1,
         "Weekend": -0.0022212292430310644,
         "Revenue": -0.005112970502755714,
         "_deepnote_index_column": "TrafficType"
        },
        {
         "Administrative": 0.026416750253924794,
         "Administrative_Duration": 0.014990141913816167,
         "Informational": 0.03578472510756787,
         "Informational_Duration": 0.024078486249592326,
         "ProductRelated": 0.01609196423446964,
         "ProductRelated_Duration": 0.007310613811572834,
         "BounceRates": -0.04651399653118228,
         "ExitRates": -0.06258704801054936,
         "PageValues": 0.012001639171359785,
         "SpecialDay": -0.01676715526954078,
         "OperatingSystems": 0.0002842506113326362,
         "Browser": -0.04026086380886525,
         "Region": -0.0006906703089069207,
         "TrafficType": -0.0022212292430310644,
         "Weekend": 1,
         "Revenue": 0.029295367971994668,
         "_deepnote_index_column": "Weekend"
        },
        {
         "Administrative": 0.13891709415067252,
         "Administrative_Duration": 0.09358671905704198,
         "Informational": 0.0952003425720571,
         "Informational_Duration": 0.07034450234598345,
         "ProductRelated": 0.1585379842808741,
         "ProductRelated_Duration": 0.15237261055701054,
         "BounceRates": -0.1506729119260533,
         "ExitRates": -0.2070710820552722,
         "PageValues": 0.49256929525120574,
         "SpecialDay": -0.08230459817953152,
         "OperatingSystems": -0.01466755959421009,
         "Browser": 0.02398428940409267,
         "Region": -0.01159506777780069,
         "TrafficType": -0.005112970502755714,
         "Weekend": 0.029295367971994668,
         "Revenue": 1,
         "_deepnote_index_column": "Revenue"
        }
       ],
       "rows_bottom": null
      },
      "text/plain": "                         Administrative  Administrative_Duration  \\\nAdministrative                 1.000000                 0.601583   \nAdministrative_Duration        0.601583                 1.000000   \nInformational                  0.376850                 0.302710   \nInformational_Duration         0.255848                 0.238031   \nProductRelated                 0.431119                 0.289087   \nProductRelated_Duration        0.373939                 0.355422   \nBounceRates                   -0.223563                -0.144170   \nExitRates                     -0.316483                -0.205798   \nPageValues                     0.098990                 0.067608   \nSpecialDay                    -0.094778                -0.073304   \nOperatingSystems              -0.006347                -0.007343   \nBrowser                       -0.025035                -0.015392   \nRegion                        -0.005487                -0.005561   \nTrafficType                   -0.033561                -0.014376   \nWeekend                        0.026417                 0.014990   \nRevenue                        0.138917                 0.093587   \n\n                         Informational  Informational_Duration  \\\nAdministrative                0.376850                0.255848   \nAdministrative_Duration       0.302710                0.238031   \nInformational                 1.000000                0.618955   \nInformational_Duration        0.618955                1.000000   \nProductRelated                0.374164                0.280046   \nProductRelated_Duration       0.387505                0.347364   \nBounceRates                  -0.116114               -0.074067   \nExitRates                    -0.163666               -0.105276   \nPageValues                    0.048632                0.030861   \nSpecialDay                   -0.048219               -0.030577   \nOperatingSystems             -0.009527               -0.009579   \nBrowser                      -0.038235               -0.019285   \nRegion                       -0.029169               -0.027144   \nTrafficType                  -0.034491               -0.024675   \nWeekend                       0.035785                0.024078   \nRevenue                       0.095200                0.070345   \n\n                         ProductRelated  ProductRelated_Duration  BounceRates  \\\nAdministrative                 0.431119                 0.373939    -0.223563   \nAdministrative_Duration        0.289087                 0.355422    -0.144170   \nInformational                  0.374164                 0.387505    -0.116114   \nInformational_Duration         0.280046                 0.347364    -0.074067   \nProductRelated                 1.000000                 0.860927    -0.204578   \nProductRelated_Duration        0.860927                 1.000000    -0.184541   \nBounceRates                   -0.204578                -0.184541     1.000000   \nExitRates                     -0.292526                -0.251984     0.913004   \nPageValues                     0.056282                 0.052823    -0.119386   \nSpecialDay                    -0.023958                -0.036380     0.072702   \nOperatingSystems               0.004290                 0.002976     0.023823   \nBrowser                       -0.013146                -0.007380    -0.015772   \nRegion                        -0.038122                -0.033091    -0.006485   \nTrafficType                   -0.043064                -0.036377     0.078286   \nWeekend                        0.016092                 0.007311    -0.046514   \nRevenue                        0.158538                 0.152373    -0.150673   \n\n                         ExitRates  PageValues  SpecialDay  OperatingSystems  \\\nAdministrative           -0.316483    0.098990   -0.094778         -0.006347   \nAdministrative_Duration  -0.205798    0.067608   -0.073304         -0.007343   \nInformational            -0.163666    0.048632   -0.048219         -0.009527   \nInformational_Duration   -0.105276    0.030861   -0.030577         -0.009579   \nProductRelated           -0.292526    0.056282   -0.023958          0.004290   \nProductRelated_Duration  -0.251984    0.052823   -0.036380          0.002976   \nBounceRates               0.913004   -0.119386    0.072702          0.023823   \nExitRates                 1.000000   -0.174498    0.102242          0.014567   \nPageValues               -0.174498    1.000000   -0.063541          0.018508   \nSpecialDay                0.102242   -0.063541    1.000000          0.012652   \nOperatingSystems          0.014567    0.018508    0.012652          1.000000   \nBrowser                  -0.004442    0.045592    0.003499          0.223013   \nRegion                   -0.008907    0.011315   -0.016098          0.076775   \nTrafficType               0.078616    0.012532    0.052301          0.189154   \nWeekend                  -0.062587    0.012002   -0.016767          0.000284   \nRevenue                  -0.207071    0.492569   -0.082305         -0.014668   \n\n                          Browser    Region  TrafficType   Weekend   Revenue  \nAdministrative          -0.025035 -0.005487    -0.033561  0.026417  0.138917  \nAdministrative_Duration -0.015392 -0.005561    -0.014376  0.014990  0.093587  \nInformational           -0.038235 -0.029169    -0.034491  0.035785  0.095200  \nInformational_Duration  -0.019285 -0.027144    -0.024675  0.024078  0.070345  \nProductRelated          -0.013146 -0.038122    -0.043064  0.016092  0.158538  \nProductRelated_Duration -0.007380 -0.033091    -0.036377  0.007311  0.152373  \nBounceRates             -0.015772 -0.006485     0.078286 -0.046514 -0.150673  \nExitRates               -0.004442 -0.008907     0.078616 -0.062587 -0.207071  \nPageValues               0.045592  0.011315     0.012532  0.012002  0.492569  \nSpecialDay               0.003499 -0.016098     0.052301 -0.016767 -0.082305  \nOperatingSystems         0.223013  0.076775     0.189154  0.000284 -0.014668  \nBrowser                  1.000000  0.097393     0.111938 -0.040261  0.023984  \nRegion                   0.097393  1.000000     0.047520 -0.000691 -0.011595  \nTrafficType              0.111938  0.047520     1.000000 -0.002221 -0.005113  \nWeekend                 -0.040261 -0.000691    -0.002221  1.000000  0.029295  \nRevenue                  0.023984 -0.011595    -0.005113  0.029295  1.000000  ",
      "text/html": "<div>\n<style scoped>\n    .dataframe tbody tr th:only-of-type {\n        vertical-align: middle;\n    }\n\n    .dataframe tbody tr th {\n        vertical-align: top;\n    }\n\n    .dataframe thead th {\n        text-align: right;\n    }\n</style>\n<table border=\"1\" class=\"dataframe\">\n  <thead>\n    <tr style=\"text-align: right;\">\n      <th></th>\n      <th>Administrative</th>\n      <th>Administrative_Duration</th>\n      <th>Informational</th>\n      <th>Informational_Duration</th>\n      <th>ProductRelated</th>\n      <th>ProductRelated_Duration</th>\n      <th>BounceRates</th>\n      <th>ExitRates</th>\n      <th>PageValues</th>\n      <th>SpecialDay</th>\n      <th>OperatingSystems</th>\n      <th>Browser</th>\n      <th>Region</th>\n      <th>TrafficType</th>\n      <th>Weekend</th>\n      <th>Revenue</th>\n    </tr>\n  </thead>\n  <tbody>\n    <tr>\n      <th>Administrative</th>\n      <td>1.000000</td>\n      <td>0.601583</td>\n      <td>0.376850</td>\n      <td>0.255848</td>\n      <td>0.431119</td>\n      <td>0.373939</td>\n      <td>-0.223563</td>\n      <td>-0.316483</td>\n      <td>0.098990</td>\n      <td>-0.094778</td>\n      <td>-0.006347</td>\n      <td>-0.025035</td>\n      <td>-0.005487</td>\n      <td>-0.033561</td>\n      <td>0.026417</td>\n      <td>0.138917</td>\n    </tr>\n    <tr>\n      <th>Administrative_Duration</th>\n      <td>0.601583</td>\n      <td>1.000000</td>\n      <td>0.302710</td>\n      <td>0.238031</td>\n      <td>0.289087</td>\n      <td>0.355422</td>\n      <td>-0.144170</td>\n      <td>-0.205798</td>\n      <td>0.067608</td>\n      <td>-0.073304</td>\n      <td>-0.007343</td>\n      <td>-0.015392</td>\n      <td>-0.005561</td>\n      <td>-0.014376</td>\n      <td>0.014990</td>\n      <td>0.093587</td>\n    </tr>\n    <tr>\n      <th>Informational</th>\n      <td>0.376850</td>\n      <td>0.302710</td>\n      <td>1.000000</td>\n      <td>0.618955</td>\n      <td>0.374164</td>\n      <td>0.387505</td>\n      <td>-0.116114</td>\n      <td>-0.163666</td>\n      <td>0.048632</td>\n      <td>-0.048219</td>\n      <td>-0.009527</td>\n      <td>-0.038235</td>\n      <td>-0.029169</td>\n      <td>-0.034491</td>\n      <td>0.035785</td>\n      <td>0.095200</td>\n    </tr>\n    <tr>\n      <th>Informational_Duration</th>\n      <td>0.255848</td>\n      <td>0.238031</td>\n      <td>0.618955</td>\n      <td>1.000000</td>\n      <td>0.280046</td>\n      <td>0.347364</td>\n      <td>-0.074067</td>\n      <td>-0.105276</td>\n      <td>0.030861</td>\n      <td>-0.030577</td>\n      <td>-0.009579</td>\n      <td>-0.019285</td>\n      <td>-0.027144</td>\n      <td>-0.024675</td>\n      <td>0.024078</td>\n      <td>0.070345</td>\n    </tr>\n    <tr>\n      <th>ProductRelated</th>\n      <td>0.431119</td>\n      <td>0.289087</td>\n      <td>0.374164</td>\n      <td>0.280046</td>\n      <td>1.000000</td>\n      <td>0.860927</td>\n      <td>-0.204578</td>\n      <td>-0.292526</td>\n      <td>0.056282</td>\n      <td>-0.023958</td>\n      <td>0.004290</td>\n      <td>-0.013146</td>\n      <td>-0.038122</td>\n      <td>-0.043064</td>\n      <td>0.016092</td>\n      <td>0.158538</td>\n    </tr>\n    <tr>\n      <th>ProductRelated_Duration</th>\n      <td>0.373939</td>\n      <td>0.355422</td>\n      <td>0.387505</td>\n      <td>0.347364</td>\n      <td>0.860927</td>\n      <td>1.000000</td>\n      <td>-0.184541</td>\n      <td>-0.251984</td>\n      <td>0.052823</td>\n      <td>-0.036380</td>\n      <td>0.002976</td>\n      <td>-0.007380</td>\n      <td>-0.033091</td>\n      <td>-0.036377</td>\n      <td>0.007311</td>\n      <td>0.152373</td>\n    </tr>\n    <tr>\n      <th>BounceRates</th>\n      <td>-0.223563</td>\n      <td>-0.144170</td>\n      <td>-0.116114</td>\n      <td>-0.074067</td>\n      <td>-0.204578</td>\n      <td>-0.184541</td>\n      <td>1.000000</td>\n      <td>0.913004</td>\n      <td>-0.119386</td>\n      <td>0.072702</td>\n      <td>0.023823</td>\n      <td>-0.015772</td>\n      <td>-0.006485</td>\n      <td>0.078286</td>\n      <td>-0.046514</td>\n      <td>-0.150673</td>\n    </tr>\n    <tr>\n      <th>ExitRates</th>\n      <td>-0.316483</td>\n      <td>-0.205798</td>\n      <td>-0.163666</td>\n      <td>-0.105276</td>\n      <td>-0.292526</td>\n      <td>-0.251984</td>\n      <td>0.913004</td>\n      <td>1.000000</td>\n      <td>-0.174498</td>\n      <td>0.102242</td>\n      <td>0.014567</td>\n      <td>-0.004442</td>\n      <td>-0.008907</td>\n      <td>0.078616</td>\n      <td>-0.062587</td>\n      <td>-0.207071</td>\n    </tr>\n    <tr>\n      <th>PageValues</th>\n      <td>0.098990</td>\n      <td>0.067608</td>\n      <td>0.048632</td>\n      <td>0.030861</td>\n      <td>0.056282</td>\n      <td>0.052823</td>\n      <td>-0.119386</td>\n      <td>-0.174498</td>\n      <td>1.000000</td>\n      <td>-0.063541</td>\n      <td>0.018508</td>\n      <td>0.045592</td>\n      <td>0.011315</td>\n      <td>0.012532</td>\n      <td>0.012002</td>\n      <td>0.492569</td>\n    </tr>\n    <tr>\n      <th>SpecialDay</th>\n      <td>-0.094778</td>\n      <td>-0.073304</td>\n      <td>-0.048219</td>\n      <td>-0.030577</td>\n      <td>-0.023958</td>\n      <td>-0.036380</td>\n      <td>0.072702</td>\n      <td>0.102242</td>\n      <td>-0.063541</td>\n      <td>1.000000</td>\n      <td>0.012652</td>\n      <td>0.003499</td>\n      <td>-0.016098</td>\n      <td>0.052301</td>\n      <td>-0.016767</td>\n      <td>-0.082305</td>\n    </tr>\n    <tr>\n      <th>OperatingSystems</th>\n      <td>-0.006347</td>\n      <td>-0.007343</td>\n      <td>-0.009527</td>\n      <td>-0.009579</td>\n      <td>0.004290</td>\n      <td>0.002976</td>\n      <td>0.023823</td>\n      <td>0.014567</td>\n      <td>0.018508</td>\n      <td>0.012652</td>\n      <td>1.000000</td>\n      <td>0.223013</td>\n      <td>0.076775</td>\n      <td>0.189154</td>\n      <td>0.000284</td>\n      <td>-0.014668</td>\n    </tr>\n    <tr>\n      <th>Browser</th>\n      <td>-0.025035</td>\n      <td>-0.015392</td>\n      <td>-0.038235</td>\n      <td>-0.019285</td>\n      <td>-0.013146</td>\n      <td>-0.007380</td>\n      <td>-0.015772</td>\n      <td>-0.004442</td>\n      <td>0.045592</td>\n      <td>0.003499</td>\n      <td>0.223013</td>\n      <td>1.000000</td>\n      <td>0.097393</td>\n      <td>0.111938</td>\n      <td>-0.040261</td>\n      <td>0.023984</td>\n    </tr>\n    <tr>\n      <th>Region</th>\n      <td>-0.005487</td>\n      <td>-0.005561</td>\n      <td>-0.029169</td>\n      <td>-0.027144</td>\n      <td>-0.038122</td>\n      <td>-0.033091</td>\n      <td>-0.006485</td>\n      <td>-0.008907</td>\n      <td>0.011315</td>\n      <td>-0.016098</td>\n      <td>0.076775</td>\n      <td>0.097393</td>\n      <td>1.000000</td>\n      <td>0.047520</td>\n      <td>-0.000691</td>\n      <td>-0.011595</td>\n    </tr>\n    <tr>\n      <th>TrafficType</th>\n      <td>-0.033561</td>\n      <td>-0.014376</td>\n      <td>-0.034491</td>\n      <td>-0.024675</td>\n      <td>-0.043064</td>\n      <td>-0.036377</td>\n      <td>0.078286</td>\n      <td>0.078616</td>\n      <td>0.012532</td>\n      <td>0.052301</td>\n      <td>0.189154</td>\n      <td>0.111938</td>\n      <td>0.047520</td>\n      <td>1.000000</td>\n      <td>-0.002221</td>\n      <td>-0.005113</td>\n    </tr>\n    <tr>\n      <th>Weekend</th>\n      <td>0.026417</td>\n      <td>0.014990</td>\n      <td>0.035785</td>\n      <td>0.024078</td>\n      <td>0.016092</td>\n      <td>0.007311</td>\n      <td>-0.046514</td>\n      <td>-0.062587</td>\n      <td>0.012002</td>\n      <td>-0.016767</td>\n      <td>0.000284</td>\n      <td>-0.040261</td>\n      <td>-0.000691</td>\n      <td>-0.002221</td>\n      <td>1.000000</td>\n      <td>0.029295</td>\n    </tr>\n    <tr>\n      <th>Revenue</th>\n      <td>0.138917</td>\n      <td>0.093587</td>\n      <td>0.095200</td>\n      <td>0.070345</td>\n      <td>0.158538</td>\n      <td>0.152373</td>\n      <td>-0.150673</td>\n      <td>-0.207071</td>\n      <td>0.492569</td>\n      <td>-0.082305</td>\n      <td>-0.014668</td>\n      <td>0.023984</td>\n      <td>-0.011595</td>\n      <td>-0.005113</td>\n      <td>0.029295</td>\n      <td>1.000000</td>\n    </tr>\n  </tbody>\n</table>\n</div>"
     },
     "metadata": {}
    }
   ]
  },
  {
   "cell_type": "code",
   "metadata": {
    "tags": [],
    "cell_id": "00004-2cc35807-939c-4cce-a52d-7011f430a2f5",
    "deepnote_to_be_reexecuted": false,
    "source_hash": "f88152d9",
    "execution_start": 1620987544293,
    "execution_millis": 315,
    "deepnote_cell_type": "code"
   },
   "source": "df.describe()",
   "execution_count": 5,
   "outputs": [
    {
     "output_type": "execute_result",
     "execution_count": 5,
     "data": {
      "application/vnd.deepnote.dataframe.v2+json": {
       "row_count": 8,
       "column_count": 14,
       "columns": [
        {
         "name": "Administrative",
         "dtype": "float64",
         "stats": {
          "unique_count": 7,
          "nan_count": 0,
          "min": "0.0",
          "max": "12330.0",
          "histogram": [
           {
            "bin_start": 0,
            "bin_end": 1233,
            "count": 7
           },
           {
            "bin_start": 1233,
            "bin_end": 2466,
            "count": 0
           },
           {
            "bin_start": 2466,
            "bin_end": 3699,
            "count": 0
           },
           {
            "bin_start": 3699,
            "bin_end": 4932,
            "count": 0
           },
           {
            "bin_start": 4932,
            "bin_end": 6165,
            "count": 0
           },
           {
            "bin_start": 6165,
            "bin_end": 7398,
            "count": 0
           },
           {
            "bin_start": 7398,
            "bin_end": 8631,
            "count": 0
           },
           {
            "bin_start": 8631,
            "bin_end": 9864,
            "count": 0
           },
           {
            "bin_start": 9864,
            "bin_end": 11097,
            "count": 0
           },
           {
            "bin_start": 11097,
            "bin_end": 12330,
            "count": 1
           }
          ]
         }
        },
        {
         "name": "Administrative_Duration",
         "dtype": "float64",
         "stats": {
          "unique_count": 7,
          "nan_count": 0,
          "min": "0.0",
          "max": "12330.0",
          "histogram": [
           {
            "bin_start": 0,
            "bin_end": 1233,
            "count": 6
           },
           {
            "bin_start": 1233,
            "bin_end": 2466,
            "count": 0
           },
           {
            "bin_start": 2466,
            "bin_end": 3699,
            "count": 1
           },
           {
            "bin_start": 3699,
            "bin_end": 4932,
            "count": 0
           },
           {
            "bin_start": 4932,
            "bin_end": 6165,
            "count": 0
           },
           {
            "bin_start": 6165,
            "bin_end": 7398,
            "count": 0
           },
           {
            "bin_start": 7398,
            "bin_end": 8631,
            "count": 0
           },
           {
            "bin_start": 8631,
            "bin_end": 9864,
            "count": 0
           },
           {
            "bin_start": 9864,
            "bin_end": 11097,
            "count": 0
           },
           {
            "bin_start": 11097,
            "bin_end": 12330,
            "count": 1
           }
          ]
         }
        },
        {
         "name": "Informational",
         "dtype": "float64",
         "stats": {
          "unique_count": 5,
          "nan_count": 0,
          "min": "0.0",
          "max": "12330.0",
          "histogram": [
           {
            "bin_start": 0,
            "bin_end": 1233,
            "count": 7
           },
           {
            "bin_start": 1233,
            "bin_end": 2466,
            "count": 0
           },
           {
            "bin_start": 2466,
            "bin_end": 3699,
            "count": 0
           },
           {
            "bin_start": 3699,
            "bin_end": 4932,
            "count": 0
           },
           {
            "bin_start": 4932,
            "bin_end": 6165,
            "count": 0
           },
           {
            "bin_start": 6165,
            "bin_end": 7398,
            "count": 0
           },
           {
            "bin_start": 7398,
            "bin_end": 8631,
            "count": 0
           },
           {
            "bin_start": 8631,
            "bin_end": 9864,
            "count": 0
           },
           {
            "bin_start": 9864,
            "bin_end": 11097,
            "count": 0
           },
           {
            "bin_start": 11097,
            "bin_end": 12330,
            "count": 1
           }
          ]
         }
        },
        {
         "name": "Informational_Duration",
         "dtype": "float64",
         "stats": {
          "unique_count": 5,
          "nan_count": 0,
          "min": "0.0",
          "max": "12330.0",
          "histogram": [
           {
            "bin_start": 0,
            "bin_end": 1233,
            "count": 6
           },
           {
            "bin_start": 1233,
            "bin_end": 2466,
            "count": 0
           },
           {
            "bin_start": 2466,
            "bin_end": 3699,
            "count": 1
           },
           {
            "bin_start": 3699,
            "bin_end": 4932,
            "count": 0
           },
           {
            "bin_start": 4932,
            "bin_end": 6165,
            "count": 0
           },
           {
            "bin_start": 6165,
            "bin_end": 7398,
            "count": 0
           },
           {
            "bin_start": 7398,
            "bin_end": 8631,
            "count": 0
           },
           {
            "bin_start": 8631,
            "bin_end": 9864,
            "count": 0
           },
           {
            "bin_start": 9864,
            "bin_end": 11097,
            "count": 0
           },
           {
            "bin_start": 11097,
            "bin_end": 12330,
            "count": 1
           }
          ]
         }
        },
        {
         "name": "ProductRelated",
         "dtype": "float64",
         "stats": {
          "unique_count": 8,
          "nan_count": 0,
          "min": "0.0",
          "max": "12330.0",
          "histogram": [
           {
            "bin_start": 0,
            "bin_end": 1233,
            "count": 7
           },
           {
            "bin_start": 1233,
            "bin_end": 2466,
            "count": 0
           },
           {
            "bin_start": 2466,
            "bin_end": 3699,
            "count": 0
           },
           {
            "bin_start": 3699,
            "bin_end": 4932,
            "count": 0
           },
           {
            "bin_start": 4932,
            "bin_end": 6165,
            "count": 0
           },
           {
            "bin_start": 6165,
            "bin_end": 7398,
            "count": 0
           },
           {
            "bin_start": 7398,
            "bin_end": 8631,
            "count": 0
           },
           {
            "bin_start": 8631,
            "bin_end": 9864,
            "count": 0
           },
           {
            "bin_start": 9864,
            "bin_end": 11097,
            "count": 0
           },
           {
            "bin_start": 11097,
            "bin_end": 12330,
            "count": 1
           }
          ]
         }
        },
        {
         "name": "ProductRelated_Duration",
         "dtype": "float64",
         "stats": {
          "unique_count": 8,
          "nan_count": 0,
          "min": "0.0",
          "max": "63973.52223",
          "histogram": [
           {
            "bin_start": 0,
            "bin_end": 6397.352223,
            "count": 6
           },
           {
            "bin_start": 6397.352223,
            "bin_end": 12794.704446,
            "count": 1
           },
           {
            "bin_start": 12794.704446,
            "bin_end": 19192.056668999998,
            "count": 0
           },
           {
            "bin_start": 19192.056668999998,
            "bin_end": 25589.408892,
            "count": 0
           },
           {
            "bin_start": 25589.408892,
            "bin_end": 31986.761115,
            "count": 0
           },
           {
            "bin_start": 31986.761115,
            "bin_end": 38384.113337999996,
            "count": 0
           },
           {
            "bin_start": 38384.113337999996,
            "bin_end": 44781.465561,
            "count": 0
           },
           {
            "bin_start": 44781.465561,
            "bin_end": 51178.817784,
            "count": 0
           },
           {
            "bin_start": 51178.817784,
            "bin_end": 57576.170007,
            "count": 0
           },
           {
            "bin_start": 57576.170007,
            "bin_end": 63973.52223,
            "count": 1
           }
          ]
         }
        },
        {
         "name": "BounceRates",
         "dtype": "float64",
         "stats": {
          "unique_count": 7,
          "nan_count": 0,
          "min": "0.0",
          "max": "12330.0",
          "histogram": [
           {
            "bin_start": 0,
            "bin_end": 1233,
            "count": 7
           },
           {
            "bin_start": 1233,
            "bin_end": 2466,
            "count": 0
           },
           {
            "bin_start": 2466,
            "bin_end": 3699,
            "count": 0
           },
           {
            "bin_start": 3699,
            "bin_end": 4932,
            "count": 0
           },
           {
            "bin_start": 4932,
            "bin_end": 6165,
            "count": 0
           },
           {
            "bin_start": 6165,
            "bin_end": 7398,
            "count": 0
           },
           {
            "bin_start": 7398,
            "bin_end": 8631,
            "count": 0
           },
           {
            "bin_start": 8631,
            "bin_end": 9864,
            "count": 0
           },
           {
            "bin_start": 9864,
            "bin_end": 11097,
            "count": 0
           },
           {
            "bin_start": 11097,
            "bin_end": 12330,
            "count": 1
           }
          ]
         }
        },
        {
         "name": "ExitRates",
         "dtype": "float64",
         "stats": {
          "unique_count": 8,
          "nan_count": 0,
          "min": "0.0",
          "max": "12330.0",
          "histogram": [
           {
            "bin_start": 0,
            "bin_end": 1233,
            "count": 7
           },
           {
            "bin_start": 1233,
            "bin_end": 2466,
            "count": 0
           },
           {
            "bin_start": 2466,
            "bin_end": 3699,
            "count": 0
           },
           {
            "bin_start": 3699,
            "bin_end": 4932,
            "count": 0
           },
           {
            "bin_start": 4932,
            "bin_end": 6165,
            "count": 0
           },
           {
            "bin_start": 6165,
            "bin_end": 7398,
            "count": 0
           },
           {
            "bin_start": 7398,
            "bin_end": 8631,
            "count": 0
           },
           {
            "bin_start": 8631,
            "bin_end": 9864,
            "count": 0
           },
           {
            "bin_start": 9864,
            "bin_end": 11097,
            "count": 0
           },
           {
            "bin_start": 11097,
            "bin_end": 12330,
            "count": 1
           }
          ]
         }
        },
        {
         "name": "PageValues",
         "dtype": "float64",
         "stats": {
          "unique_count": 5,
          "nan_count": 0,
          "min": "0.0",
          "max": "12330.0",
          "histogram": [
           {
            "bin_start": 0,
            "bin_end": 1233,
            "count": 7
           },
           {
            "bin_start": 1233,
            "bin_end": 2466,
            "count": 0
           },
           {
            "bin_start": 2466,
            "bin_end": 3699,
            "count": 0
           },
           {
            "bin_start": 3699,
            "bin_end": 4932,
            "count": 0
           },
           {
            "bin_start": 4932,
            "bin_end": 6165,
            "count": 0
           },
           {
            "bin_start": 6165,
            "bin_end": 7398,
            "count": 0
           },
           {
            "bin_start": 7398,
            "bin_end": 8631,
            "count": 0
           },
           {
            "bin_start": 8631,
            "bin_end": 9864,
            "count": 0
           },
           {
            "bin_start": 9864,
            "bin_end": 11097,
            "count": 0
           },
           {
            "bin_start": 11097,
            "bin_end": 12330,
            "count": 1
           }
          ]
         }
        },
        {
         "name": "SpecialDay",
         "dtype": "float64",
         "stats": {
          "unique_count": 5,
          "nan_count": 0,
          "min": "0.0",
          "max": "12330.0",
          "histogram": [
           {
            "bin_start": 0,
            "bin_end": 1233,
            "count": 7
           },
           {
            "bin_start": 1233,
            "bin_end": 2466,
            "count": 0
           },
           {
            "bin_start": 2466,
            "bin_end": 3699,
            "count": 0
           },
           {
            "bin_start": 3699,
            "bin_end": 4932,
            "count": 0
           },
           {
            "bin_start": 4932,
            "bin_end": 6165,
            "count": 0
           },
           {
            "bin_start": 6165,
            "bin_end": 7398,
            "count": 0
           },
           {
            "bin_start": 7398,
            "bin_end": 8631,
            "count": 0
           },
           {
            "bin_start": 8631,
            "bin_end": 9864,
            "count": 0
           },
           {
            "bin_start": 9864,
            "bin_end": 11097,
            "count": 0
           },
           {
            "bin_start": 11097,
            "bin_end": 12330,
            "count": 1
           }
          ]
         }
        },
        {
         "name": "OperatingSystems",
         "dtype": "float64",
         "stats": {
          "unique_count": 7,
          "nan_count": 0,
          "min": "0.911324828710665",
          "max": "12330.0",
          "histogram": [
           {
            "bin_start": 0.911324828710665,
            "bin_end": 1233.8201923458396,
            "count": 7
           },
           {
            "bin_start": 1233.8201923458396,
            "bin_end": 2466.729059862969,
            "count": 0
           },
           {
            "bin_start": 2466.729059862969,
            "bin_end": 3699.637927380098,
            "count": 0
           },
           {
            "bin_start": 3699.637927380098,
            "bin_end": 4932.546794897226,
            "count": 0
           },
           {
            "bin_start": 4932.546794897226,
            "bin_end": 6165.455662414355,
            "count": 0
           },
           {
            "bin_start": 6165.455662414355,
            "bin_end": 7398.364529931485,
            "count": 0
           },
           {
            "bin_start": 7398.364529931485,
            "bin_end": 8631.273397448613,
            "count": 0
           },
           {
            "bin_start": 8631.273397448613,
            "bin_end": 9864.182264965742,
            "count": 0
           },
           {
            "bin_start": 9864.182264965742,
            "bin_end": 11097.091132482872,
            "count": 0
           },
           {
            "bin_start": 11097.091132482872,
            "bin_end": 12330,
            "count": 1
           }
          ]
         }
        },
        {
         "name": "Browser",
         "dtype": "float64",
         "stats": {
          "unique_count": 6,
          "nan_count": 0,
          "min": "1.0",
          "max": "12330.0",
          "histogram": [
           {
            "bin_start": 1,
            "bin_end": 1233.9,
            "count": 7
           },
           {
            "bin_start": 1233.9,
            "bin_end": 2466.8,
            "count": 0
           },
           {
            "bin_start": 2466.8,
            "bin_end": 3699.7000000000003,
            "count": 0
           },
           {
            "bin_start": 3699.7000000000003,
            "bin_end": 4932.6,
            "count": 0
           },
           {
            "bin_start": 4932.6,
            "bin_end": 6165.5,
            "count": 0
           },
           {
            "bin_start": 6165.5,
            "bin_end": 7398.400000000001,
            "count": 0
           },
           {
            "bin_start": 7398.400000000001,
            "bin_end": 8631.300000000001,
            "count": 0
           },
           {
            "bin_start": 8631.300000000001,
            "bin_end": 9864.2,
            "count": 0
           },
           {
            "bin_start": 9864.2,
            "bin_end": 11097.1,
            "count": 0
           },
           {
            "bin_start": 11097.1,
            "bin_end": 12330,
            "count": 1
           }
          ]
         }
        },
        {
         "name": "Region",
         "dtype": "float64",
         "stats": {
          "unique_count": 7,
          "nan_count": 0,
          "min": "1.0",
          "max": "12330.0",
          "histogram": [
           {
            "bin_start": 1,
            "bin_end": 1233.9,
            "count": 7
           },
           {
            "bin_start": 1233.9,
            "bin_end": 2466.8,
            "count": 0
           },
           {
            "bin_start": 2466.8,
            "bin_end": 3699.7000000000003,
            "count": 0
           },
           {
            "bin_start": 3699.7000000000003,
            "bin_end": 4932.6,
            "count": 0
           },
           {
            "bin_start": 4932.6,
            "bin_end": 6165.5,
            "count": 0
           },
           {
            "bin_start": 6165.5,
            "bin_end": 7398.400000000001,
            "count": 0
           },
           {
            "bin_start": 7398.400000000001,
            "bin_end": 8631.300000000001,
            "count": 0
           },
           {
            "bin_start": 8631.300000000001,
            "bin_end": 9864.2,
            "count": 0
           },
           {
            "bin_start": 9864.2,
            "bin_end": 11097.1,
            "count": 0
           },
           {
            "bin_start": 11097.1,
            "bin_end": 12330,
            "count": 1
           }
          ]
         }
        },
        {
         "name": "TrafficType",
         "dtype": "float64",
         "stats": {
          "unique_count": 7,
          "nan_count": 0,
          "min": "1.0",
          "max": "12330.0",
          "histogram": [
           {
            "bin_start": 1,
            "bin_end": 1233.9,
            "count": 7
           },
           {
            "bin_start": 1233.9,
            "bin_end": 2466.8,
            "count": 0
           },
           {
            "bin_start": 2466.8,
            "bin_end": 3699.7000000000003,
            "count": 0
           },
           {
            "bin_start": 3699.7000000000003,
            "bin_end": 4932.6,
            "count": 0
           },
           {
            "bin_start": 4932.6,
            "bin_end": 6165.5,
            "count": 0
           },
           {
            "bin_start": 6165.5,
            "bin_end": 7398.400000000001,
            "count": 0
           },
           {
            "bin_start": 7398.400000000001,
            "bin_end": 8631.300000000001,
            "count": 0
           },
           {
            "bin_start": 8631.300000000001,
            "bin_end": 9864.2,
            "count": 0
           },
           {
            "bin_start": 9864.2,
            "bin_end": 11097.1,
            "count": 0
           },
           {
            "bin_start": 11097.1,
            "bin_end": 12330,
            "count": 1
           }
          ]
         }
        },
        {
         "name": "_deepnote_index_column",
         "dtype": "object"
        }
       ],
       "rows_top": [
        {
         "Administrative": 12330,
         "Administrative_Duration": 12330,
         "Informational": 12330,
         "Informational_Duration": 12330,
         "ProductRelated": 12330,
         "ProductRelated_Duration": 12330,
         "BounceRates": 12330,
         "ExitRates": 12330,
         "PageValues": 12330,
         "SpecialDay": 12330,
         "OperatingSystems": 12330,
         "Browser": 12330,
         "Region": 12330,
         "TrafficType": 12330,
         "_deepnote_index_column": "count"
        },
        {
         "Administrative": 2.3151662611516626,
         "Administrative_Duration": 80.81861053933592,
         "Informational": 0.5035685320356853,
         "Informational_Duration": 34.47239792772304,
         "ProductRelated": 31.731467964314678,
         "ProductRelated_Duration": 1194.7462199688268,
         "BounceRates": 0.02219138047072182,
         "ExitRates": 0.04307279776650446,
         "PageValues": 5.889257862693592,
         "SpecialDay": 0.061427412814274135,
         "OperatingSystems": 2.124006488240065,
         "Browser": 2.357096512570965,
         "Region": 3.1473641524736413,
         "TrafficType": 4.069586374695864,
         "_deepnote_index_column": "mean"
        },
        {
         "Administrative": 3.3217841061569113,
         "Administrative_Duration": 176.77910747048634,
         "Informational": 1.270156425983391,
         "Informational_Duration": 140.74929442219798,
         "ProductRelated": 44.47550330493652,
         "ProductRelated_Duration": 1913.6692878720035,
         "BounceRates": 0.048488321806260656,
         "ExitRates": 0.048596540551443565,
         "PageValues": 18.568436607806525,
         "SpecialDay": 0.19891727315262864,
         "OperatingSystems": 0.911324828710665,
         "Browser": 1.7172766755534394,
         "Region": 2.401591236743714,
         "TrafficType": 4.025169160452515,
         "_deepnote_index_column": "std"
        },
        {
         "Administrative": 0,
         "Administrative_Duration": 0,
         "Informational": 0,
         "Informational_Duration": 0,
         "ProductRelated": 0,
         "ProductRelated_Duration": 0,
         "BounceRates": 0,
         "ExitRates": 0,
         "PageValues": 0,
         "SpecialDay": 0,
         "OperatingSystems": 1,
         "Browser": 1,
         "Region": 1,
         "TrafficType": 1,
         "_deepnote_index_column": "min"
        },
        {
         "Administrative": 0,
         "Administrative_Duration": 0,
         "Informational": 0,
         "Informational_Duration": 0,
         "ProductRelated": 7,
         "ProductRelated_Duration": 184.1375,
         "BounceRates": 0,
         "ExitRates": 0.014285714,
         "PageValues": 0,
         "SpecialDay": 0,
         "OperatingSystems": 2,
         "Browser": 2,
         "Region": 1,
         "TrafficType": 2,
         "_deepnote_index_column": "25%"
        },
        {
         "Administrative": 1,
         "Administrative_Duration": 7.5,
         "Informational": 0,
         "Informational_Duration": 0,
         "ProductRelated": 18,
         "ProductRelated_Duration": 598.9369047499999,
         "BounceRates": 0.0031124675,
         "ExitRates": 0.0251564025,
         "PageValues": 0,
         "SpecialDay": 0,
         "OperatingSystems": 2,
         "Browser": 2,
         "Region": 3,
         "TrafficType": 2,
         "_deepnote_index_column": "50%"
        },
        {
         "Administrative": 4,
         "Administrative_Duration": 93.25625,
         "Informational": 0,
         "Informational_Duration": 0,
         "ProductRelated": 38,
         "ProductRelated_Duration": 1464.1572135000001,
         "BounceRates": 0.016812558499999998,
         "ExitRates": 0.05,
         "PageValues": 0,
         "SpecialDay": 0,
         "OperatingSystems": 3,
         "Browser": 2,
         "Region": 4,
         "TrafficType": 4,
         "_deepnote_index_column": "75%"
        },
        {
         "Administrative": 27,
         "Administrative_Duration": 3398.75,
         "Informational": 24,
         "Informational_Duration": 2549.375,
         "ProductRelated": 705,
         "ProductRelated_Duration": 63973.52223,
         "BounceRates": 0.2,
         "ExitRates": 0.2,
         "PageValues": 361.7637419,
         "SpecialDay": 1,
         "OperatingSystems": 8,
         "Browser": 13,
         "Region": 9,
         "TrafficType": 20,
         "_deepnote_index_column": "max"
        }
       ],
       "rows_bottom": null
      },
      "text/plain": "       Administrative  Administrative_Duration  Informational  \\\ncount    12330.000000             12330.000000   12330.000000   \nmean         2.315166                80.818611       0.503569   \nstd          3.321784               176.779107       1.270156   \nmin          0.000000                 0.000000       0.000000   \n25%          0.000000                 0.000000       0.000000   \n50%          1.000000                 7.500000       0.000000   \n75%          4.000000                93.256250       0.000000   \nmax         27.000000              3398.750000      24.000000   \n\n       Informational_Duration  ProductRelated  ProductRelated_Duration  \\\ncount            12330.000000    12330.000000             12330.000000   \nmean                34.472398       31.731468              1194.746220   \nstd                140.749294       44.475503              1913.669288   \nmin                  0.000000        0.000000                 0.000000   \n25%                  0.000000        7.000000               184.137500   \n50%                  0.000000       18.000000               598.936905   \n75%                  0.000000       38.000000              1464.157214   \nmax               2549.375000      705.000000             63973.522230   \n\n        BounceRates     ExitRates    PageValues    SpecialDay  \\\ncount  12330.000000  12330.000000  12330.000000  12330.000000   \nmean       0.022191      0.043073      5.889258      0.061427   \nstd        0.048488      0.048597     18.568437      0.198917   \nmin        0.000000      0.000000      0.000000      0.000000   \n25%        0.000000      0.014286      0.000000      0.000000   \n50%        0.003112      0.025156      0.000000      0.000000   \n75%        0.016813      0.050000      0.000000      0.000000   \nmax        0.200000      0.200000    361.763742      1.000000   \n\n       OperatingSystems       Browser        Region   TrafficType  \ncount      12330.000000  12330.000000  12330.000000  12330.000000  \nmean           2.124006      2.357097      3.147364      4.069586  \nstd            0.911325      1.717277      2.401591      4.025169  \nmin            1.000000      1.000000      1.000000      1.000000  \n25%            2.000000      2.000000      1.000000      2.000000  \n50%            2.000000      2.000000      3.000000      2.000000  \n75%            3.000000      2.000000      4.000000      4.000000  \nmax            8.000000     13.000000      9.000000     20.000000  ",
      "text/html": "<div>\n<style scoped>\n    .dataframe tbody tr th:only-of-type {\n        vertical-align: middle;\n    }\n\n    .dataframe tbody tr th {\n        vertical-align: top;\n    }\n\n    .dataframe thead th {\n        text-align: right;\n    }\n</style>\n<table border=\"1\" class=\"dataframe\">\n  <thead>\n    <tr style=\"text-align: right;\">\n      <th></th>\n      <th>Administrative</th>\n      <th>Administrative_Duration</th>\n      <th>Informational</th>\n      <th>Informational_Duration</th>\n      <th>ProductRelated</th>\n      <th>ProductRelated_Duration</th>\n      <th>BounceRates</th>\n      <th>ExitRates</th>\n      <th>PageValues</th>\n      <th>SpecialDay</th>\n      <th>OperatingSystems</th>\n      <th>Browser</th>\n      <th>Region</th>\n      <th>TrafficType</th>\n    </tr>\n  </thead>\n  <tbody>\n    <tr>\n      <th>count</th>\n      <td>12330.000000</td>\n      <td>12330.000000</td>\n      <td>12330.000000</td>\n      <td>12330.000000</td>\n      <td>12330.000000</td>\n      <td>12330.000000</td>\n      <td>12330.000000</td>\n      <td>12330.000000</td>\n      <td>12330.000000</td>\n      <td>12330.000000</td>\n      <td>12330.000000</td>\n      <td>12330.000000</td>\n      <td>12330.000000</td>\n      <td>12330.000000</td>\n    </tr>\n    <tr>\n      <th>mean</th>\n      <td>2.315166</td>\n      <td>80.818611</td>\n      <td>0.503569</td>\n      <td>34.472398</td>\n      <td>31.731468</td>\n      <td>1194.746220</td>\n      <td>0.022191</td>\n      <td>0.043073</td>\n      <td>5.889258</td>\n      <td>0.061427</td>\n      <td>2.124006</td>\n      <td>2.357097</td>\n      <td>3.147364</td>\n      <td>4.069586</td>\n    </tr>\n    <tr>\n      <th>std</th>\n      <td>3.321784</td>\n      <td>176.779107</td>\n      <td>1.270156</td>\n      <td>140.749294</td>\n      <td>44.475503</td>\n      <td>1913.669288</td>\n      <td>0.048488</td>\n      <td>0.048597</td>\n      <td>18.568437</td>\n      <td>0.198917</td>\n      <td>0.911325</td>\n      <td>1.717277</td>\n      <td>2.401591</td>\n      <td>4.025169</td>\n    </tr>\n    <tr>\n      <th>min</th>\n      <td>0.000000</td>\n      <td>0.000000</td>\n      <td>0.000000</td>\n      <td>0.000000</td>\n      <td>0.000000</td>\n      <td>0.000000</td>\n      <td>0.000000</td>\n      <td>0.000000</td>\n      <td>0.000000</td>\n      <td>0.000000</td>\n      <td>1.000000</td>\n      <td>1.000000</td>\n      <td>1.000000</td>\n      <td>1.000000</td>\n    </tr>\n    <tr>\n      <th>25%</th>\n      <td>0.000000</td>\n      <td>0.000000</td>\n      <td>0.000000</td>\n      <td>0.000000</td>\n      <td>7.000000</td>\n      <td>184.137500</td>\n      <td>0.000000</td>\n      <td>0.014286</td>\n      <td>0.000000</td>\n      <td>0.000000</td>\n      <td>2.000000</td>\n      <td>2.000000</td>\n      <td>1.000000</td>\n      <td>2.000000</td>\n    </tr>\n    <tr>\n      <th>50%</th>\n      <td>1.000000</td>\n      <td>7.500000</td>\n      <td>0.000000</td>\n      <td>0.000000</td>\n      <td>18.000000</td>\n      <td>598.936905</td>\n      <td>0.003112</td>\n      <td>0.025156</td>\n      <td>0.000000</td>\n      <td>0.000000</td>\n      <td>2.000000</td>\n      <td>2.000000</td>\n      <td>3.000000</td>\n      <td>2.000000</td>\n    </tr>\n    <tr>\n      <th>75%</th>\n      <td>4.000000</td>\n      <td>93.256250</td>\n      <td>0.000000</td>\n      <td>0.000000</td>\n      <td>38.000000</td>\n      <td>1464.157214</td>\n      <td>0.016813</td>\n      <td>0.050000</td>\n      <td>0.000000</td>\n      <td>0.000000</td>\n      <td>3.000000</td>\n      <td>2.000000</td>\n      <td>4.000000</td>\n      <td>4.000000</td>\n    </tr>\n    <tr>\n      <th>max</th>\n      <td>27.000000</td>\n      <td>3398.750000</td>\n      <td>24.000000</td>\n      <td>2549.375000</td>\n      <td>705.000000</td>\n      <td>63973.522230</td>\n      <td>0.200000</td>\n      <td>0.200000</td>\n      <td>361.763742</td>\n      <td>1.000000</td>\n      <td>8.000000</td>\n      <td>13.000000</td>\n      <td>9.000000</td>\n      <td>20.000000</td>\n    </tr>\n  </tbody>\n</table>\n</div>"
     },
     "metadata": {}
    }
   ]
  },
  {
   "cell_type": "code",
   "metadata": {
    "tags": [],
    "cell_id": "00005-2ceaeb84-6392-4b15-96fd-4159886d46c1",
    "deepnote_to_be_reexecuted": false,
    "source_hash": "35654f79",
    "execution_start": 1620987544646,
    "execution_millis": 28534,
    "deepnote_cell_type": "code"
   },
   "source": "#sns.pairplot(df[num_vars])",
   "execution_count": 6,
   "outputs": []
  },
  {
   "cell_type": "markdown",
   "source": "#### Feature Engineering",
   "metadata": {
    "tags": [],
    "cell_id": "00007-07331fea-1700-43a0-ae5b-c9f1a3efd1df",
    "deepnote_cell_type": "markdown"
   }
  },
  {
   "cell_type": "code",
   "source": "#df[num_vars].corr()",
   "metadata": {
    "tags": [],
    "cell_id": "00008-c09e27f7-1575-481a-a4b2-21f128b35553",
    "deepnote_to_be_reexecuted": false,
    "source_hash": "7c368d8e",
    "execution_start": 1620987544677,
    "execution_millis": 976782,
    "deepnote_cell_type": "code"
   },
   "outputs": [],
   "execution_count": 7
  },
  {
   "cell_type": "markdown",
   "source": "#### PCA for Bounce Rates and Exit Rates",
   "metadata": {
    "tags": [],
    "cell_id": "00008-611b91a5-8ac2-4054-956d-cf6bdc635c04",
    "deepnote_cell_type": "markdown"
   }
  },
  {
   "cell_type": "code",
   "metadata": {
    "tags": [],
    "cell_id": "00006-016a8816-680c-42ee-b212-a4581dbc0ce7",
    "deepnote_to_be_reexecuted": false,
    "source_hash": "e7a32314",
    "execution_start": 1620987544689,
    "execution_millis": 352,
    "deepnote_cell_type": "code"
   },
   "source": "from sklearn.decomposition import PCA\npca = PCA(n_components=1)\nbounce_exit=pca.fit_transform(df[[\"BounceRates\",\"ExitRates\"]])\ndf[\"bounce_exit\"]=bounce_exit\n\n#Now we can delete bouncerates and exitrates\ndf.drop([\"BounceRates\",\"ExitRates\"],axis=1)\ndf.head()",
   "execution_count": 8,
   "outputs": [
    {
     "output_type": "execute_result",
     "execution_count": 8,
     "data": {
      "application/vnd.deepnote.dataframe.v2+json": {
       "row_count": 5,
       "column_count": 19,
       "columns": [
        {
         "name": "Administrative",
         "dtype": "int64",
         "stats": {
          "unique_count": 1,
          "nan_count": 0,
          "min": "0",
          "max": "0",
          "histogram": [
           {
            "bin_start": -0.5,
            "bin_end": -0.4,
            "count": 0
           },
           {
            "bin_start": -0.4,
            "bin_end": -0.3,
            "count": 0
           },
           {
            "bin_start": -0.3,
            "bin_end": -0.19999999999999996,
            "count": 0
           },
           {
            "bin_start": -0.19999999999999996,
            "bin_end": -0.09999999999999998,
            "count": 0
           },
           {
            "bin_start": -0.09999999999999998,
            "bin_end": 0,
            "count": 0
           },
           {
            "bin_start": 0,
            "bin_end": 0.10000000000000009,
            "count": 5
           },
           {
            "bin_start": 0.10000000000000009,
            "bin_end": 0.20000000000000007,
            "count": 0
           },
           {
            "bin_start": 0.20000000000000007,
            "bin_end": 0.30000000000000004,
            "count": 0
           },
           {
            "bin_start": 0.30000000000000004,
            "bin_end": 0.4,
            "count": 0
           },
           {
            "bin_start": 0.4,
            "bin_end": 0.5,
            "count": 0
           }
          ]
         }
        },
        {
         "name": "Administrative_Duration",
         "dtype": "float64",
         "stats": {
          "unique_count": 1,
          "nan_count": 0,
          "min": "0.0",
          "max": "0.0",
          "histogram": [
           {
            "bin_start": -0.5,
            "bin_end": -0.4,
            "count": 0
           },
           {
            "bin_start": -0.4,
            "bin_end": -0.3,
            "count": 0
           },
           {
            "bin_start": -0.3,
            "bin_end": -0.19999999999999996,
            "count": 0
           },
           {
            "bin_start": -0.19999999999999996,
            "bin_end": -0.09999999999999998,
            "count": 0
           },
           {
            "bin_start": -0.09999999999999998,
            "bin_end": 0,
            "count": 0
           },
           {
            "bin_start": 0,
            "bin_end": 0.10000000000000009,
            "count": 5
           },
           {
            "bin_start": 0.10000000000000009,
            "bin_end": 0.20000000000000007,
            "count": 0
           },
           {
            "bin_start": 0.20000000000000007,
            "bin_end": 0.30000000000000004,
            "count": 0
           },
           {
            "bin_start": 0.30000000000000004,
            "bin_end": 0.4,
            "count": 0
           },
           {
            "bin_start": 0.4,
            "bin_end": 0.5,
            "count": 0
           }
          ]
         }
        },
        {
         "name": "Informational",
         "dtype": "int64",
         "stats": {
          "unique_count": 1,
          "nan_count": 0,
          "min": "0",
          "max": "0",
          "histogram": [
           {
            "bin_start": -0.5,
            "bin_end": -0.4,
            "count": 0
           },
           {
            "bin_start": -0.4,
            "bin_end": -0.3,
            "count": 0
           },
           {
            "bin_start": -0.3,
            "bin_end": -0.19999999999999996,
            "count": 0
           },
           {
            "bin_start": -0.19999999999999996,
            "bin_end": -0.09999999999999998,
            "count": 0
           },
           {
            "bin_start": -0.09999999999999998,
            "bin_end": 0,
            "count": 0
           },
           {
            "bin_start": 0,
            "bin_end": 0.10000000000000009,
            "count": 5
           },
           {
            "bin_start": 0.10000000000000009,
            "bin_end": 0.20000000000000007,
            "count": 0
           },
           {
            "bin_start": 0.20000000000000007,
            "bin_end": 0.30000000000000004,
            "count": 0
           },
           {
            "bin_start": 0.30000000000000004,
            "bin_end": 0.4,
            "count": 0
           },
           {
            "bin_start": 0.4,
            "bin_end": 0.5,
            "count": 0
           }
          ]
         }
        },
        {
         "name": "Informational_Duration",
         "dtype": "float64",
         "stats": {
          "unique_count": 1,
          "nan_count": 0,
          "min": "0.0",
          "max": "0.0",
          "histogram": [
           {
            "bin_start": -0.5,
            "bin_end": -0.4,
            "count": 0
           },
           {
            "bin_start": -0.4,
            "bin_end": -0.3,
            "count": 0
           },
           {
            "bin_start": -0.3,
            "bin_end": -0.19999999999999996,
            "count": 0
           },
           {
            "bin_start": -0.19999999999999996,
            "bin_end": -0.09999999999999998,
            "count": 0
           },
           {
            "bin_start": -0.09999999999999998,
            "bin_end": 0,
            "count": 0
           },
           {
            "bin_start": 0,
            "bin_end": 0.10000000000000009,
            "count": 5
           },
           {
            "bin_start": 0.10000000000000009,
            "bin_end": 0.20000000000000007,
            "count": 0
           },
           {
            "bin_start": 0.20000000000000007,
            "bin_end": 0.30000000000000004,
            "count": 0
           },
           {
            "bin_start": 0.30000000000000004,
            "bin_end": 0.4,
            "count": 0
           },
           {
            "bin_start": 0.4,
            "bin_end": 0.5,
            "count": 0
           }
          ]
         }
        },
        {
         "name": "ProductRelated",
         "dtype": "int64",
         "stats": {
          "unique_count": 3,
          "nan_count": 0,
          "min": "1",
          "max": "10",
          "histogram": [
           {
            "bin_start": 1,
            "bin_end": 1.9,
            "count": 2
           },
           {
            "bin_start": 1.9,
            "bin_end": 2.8,
            "count": 2
           },
           {
            "bin_start": 2.8,
            "bin_end": 3.7,
            "count": 0
           },
           {
            "bin_start": 3.7,
            "bin_end": 4.6,
            "count": 0
           },
           {
            "bin_start": 4.6,
            "bin_end": 5.5,
            "count": 0
           },
           {
            "bin_start": 5.5,
            "bin_end": 6.4,
            "count": 0
           },
           {
            "bin_start": 6.4,
            "bin_end": 7.3,
            "count": 0
           },
           {
            "bin_start": 7.3,
            "bin_end": 8.2,
            "count": 0
           },
           {
            "bin_start": 8.2,
            "bin_end": 9.1,
            "count": 0
           },
           {
            "bin_start": 9.1,
            "bin_end": 10,
            "count": 1
           }
          ]
         }
        },
        {
         "name": "ProductRelated_Duration",
         "dtype": "float64",
         "stats": {
          "unique_count": 4,
          "nan_count": 0,
          "min": "0.0",
          "max": "627.5",
          "histogram": [
           {
            "bin_start": 0,
            "bin_end": 62.75,
            "count": 3
           },
           {
            "bin_start": 62.75,
            "bin_end": 125.5,
            "count": 1
           },
           {
            "bin_start": 125.5,
            "bin_end": 188.25,
            "count": 0
           },
           {
            "bin_start": 188.25,
            "bin_end": 251,
            "count": 0
           },
           {
            "bin_start": 251,
            "bin_end": 313.75,
            "count": 0
           },
           {
            "bin_start": 313.75,
            "bin_end": 376.5,
            "count": 0
           },
           {
            "bin_start": 376.5,
            "bin_end": 439.25,
            "count": 0
           },
           {
            "bin_start": 439.25,
            "bin_end": 502,
            "count": 0
           },
           {
            "bin_start": 502,
            "bin_end": 564.75,
            "count": 0
           },
           {
            "bin_start": 564.75,
            "bin_end": 627.5,
            "count": 1
           }
          ]
         }
        },
        {
         "name": "BounceRates",
         "dtype": "float64",
         "stats": {
          "unique_count": 4,
          "nan_count": 0,
          "min": "0.0",
          "max": "0.2",
          "histogram": [
           {
            "bin_start": 0,
            "bin_end": 0.02,
            "count": 1
           },
           {
            "bin_start": 0.02,
            "bin_end": 0.04,
            "count": 1
           },
           {
            "bin_start": 0.04,
            "bin_end": 0.06,
            "count": 1
           },
           {
            "bin_start": 0.06,
            "bin_end": 0.08,
            "count": 0
           },
           {
            "bin_start": 0.08,
            "bin_end": 0.1,
            "count": 0
           },
           {
            "bin_start": 0.1,
            "bin_end": 0.12,
            "count": 0
           },
           {
            "bin_start": 0.12,
            "bin_end": 0.14,
            "count": 0
           },
           {
            "bin_start": 0.14,
            "bin_end": 0.16,
            "count": 0
           },
           {
            "bin_start": 0.16,
            "bin_end": 0.18,
            "count": 0
           },
           {
            "bin_start": 0.18,
            "bin_end": 0.2,
            "count": 2
           }
          ]
         }
        },
        {
         "name": "ExitRates",
         "dtype": "float64",
         "stats": {
          "unique_count": 4,
          "nan_count": 0,
          "min": "0.05",
          "max": "0.2",
          "histogram": [
           {
            "bin_start": 0.05,
            "bin_end": 0.065,
            "count": 1
           },
           {
            "bin_start": 0.065,
            "bin_end": 0.08000000000000002,
            "count": 0
           },
           {
            "bin_start": 0.08000000000000002,
            "bin_end": 0.09500000000000001,
            "count": 0
           },
           {
            "bin_start": 0.09500000000000001,
            "bin_end": 0.11000000000000001,
            "count": 1
           },
           {
            "bin_start": 0.11000000000000001,
            "bin_end": 0.125,
            "count": 0
           },
           {
            "bin_start": 0.125,
            "bin_end": 0.14,
            "count": 0
           },
           {
            "bin_start": 0.14,
            "bin_end": 0.15500000000000003,
            "count": 1
           },
           {
            "bin_start": 0.15500000000000003,
            "bin_end": 0.17000000000000004,
            "count": 0
           },
           {
            "bin_start": 0.17000000000000004,
            "bin_end": 0.18500000000000005,
            "count": 0
           },
           {
            "bin_start": 0.18500000000000005,
            "bin_end": 0.2,
            "count": 2
           }
          ]
         }
        },
        {
         "name": "PageValues",
         "dtype": "float64",
         "stats": {
          "unique_count": 1,
          "nan_count": 0,
          "min": "0.0",
          "max": "0.0",
          "histogram": [
           {
            "bin_start": -0.5,
            "bin_end": -0.4,
            "count": 0
           },
           {
            "bin_start": -0.4,
            "bin_end": -0.3,
            "count": 0
           },
           {
            "bin_start": -0.3,
            "bin_end": -0.19999999999999996,
            "count": 0
           },
           {
            "bin_start": -0.19999999999999996,
            "bin_end": -0.09999999999999998,
            "count": 0
           },
           {
            "bin_start": -0.09999999999999998,
            "bin_end": 0,
            "count": 0
           },
           {
            "bin_start": 0,
            "bin_end": 0.10000000000000009,
            "count": 5
           },
           {
            "bin_start": 0.10000000000000009,
            "bin_end": 0.20000000000000007,
            "count": 0
           },
           {
            "bin_start": 0.20000000000000007,
            "bin_end": 0.30000000000000004,
            "count": 0
           },
           {
            "bin_start": 0.30000000000000004,
            "bin_end": 0.4,
            "count": 0
           },
           {
            "bin_start": 0.4,
            "bin_end": 0.5,
            "count": 0
           }
          ]
         }
        },
        {
         "name": "SpecialDay",
         "dtype": "float64",
         "stats": {
          "unique_count": 1,
          "nan_count": 0,
          "min": "0.0",
          "max": "0.0",
          "histogram": [
           {
            "bin_start": -0.5,
            "bin_end": -0.4,
            "count": 0
           },
           {
            "bin_start": -0.4,
            "bin_end": -0.3,
            "count": 0
           },
           {
            "bin_start": -0.3,
            "bin_end": -0.19999999999999996,
            "count": 0
           },
           {
            "bin_start": -0.19999999999999996,
            "bin_end": -0.09999999999999998,
            "count": 0
           },
           {
            "bin_start": -0.09999999999999998,
            "bin_end": 0,
            "count": 0
           },
           {
            "bin_start": 0,
            "bin_end": 0.10000000000000009,
            "count": 5
           },
           {
            "bin_start": 0.10000000000000009,
            "bin_end": 0.20000000000000007,
            "count": 0
           },
           {
            "bin_start": 0.20000000000000007,
            "bin_end": 0.30000000000000004,
            "count": 0
           },
           {
            "bin_start": 0.30000000000000004,
            "bin_end": 0.4,
            "count": 0
           },
           {
            "bin_start": 0.4,
            "bin_end": 0.5,
            "count": 0
           }
          ]
         }
        },
        {
         "name": "Month",
         "dtype": "object",
         "stats": {
          "unique_count": 1,
          "nan_count": 0,
          "categories": [
           {
            "name": "Feb",
            "count": 5
           }
          ]
         }
        },
        {
         "name": "OperatingSystems",
         "dtype": "int64",
         "stats": {
          "unique_count": 4,
          "nan_count": 0,
          "min": "1",
          "max": "4",
          "histogram": [
           {
            "bin_start": 1,
            "bin_end": 1.3,
            "count": 1
           },
           {
            "bin_start": 1.3,
            "bin_end": 1.6,
            "count": 0
           },
           {
            "bin_start": 1.6,
            "bin_end": 1.9,
            "count": 0
           },
           {
            "bin_start": 1.9,
            "bin_end": 2.2,
            "count": 1
           },
           {
            "bin_start": 2.2,
            "bin_end": 2.5,
            "count": 0
           },
           {
            "bin_start": 2.5,
            "bin_end": 2.8,
            "count": 0
           },
           {
            "bin_start": 2.8,
            "bin_end": 3.1,
            "count": 2
           },
           {
            "bin_start": 3.1,
            "bin_end": 3.4,
            "count": 0
           },
           {
            "bin_start": 3.4,
            "bin_end": 3.6999999999999997,
            "count": 0
           },
           {
            "bin_start": 3.6999999999999997,
            "bin_end": 4,
            "count": 1
           }
          ]
         }
        },
        {
         "name": "Browser",
         "dtype": "int64",
         "stats": {
          "unique_count": 3,
          "nan_count": 0,
          "min": "1",
          "max": "3",
          "histogram": [
           {
            "bin_start": 1,
            "bin_end": 1.2,
            "count": 2
           },
           {
            "bin_start": 1.2,
            "bin_end": 1.4,
            "count": 0
           },
           {
            "bin_start": 1.4,
            "bin_end": 1.6,
            "count": 0
           },
           {
            "bin_start": 1.6,
            "bin_end": 1.8,
            "count": 0
           },
           {
            "bin_start": 1.8,
            "bin_end": 2,
            "count": 0
           },
           {
            "bin_start": 2,
            "bin_end": 2.2,
            "count": 2
           },
           {
            "bin_start": 2.2,
            "bin_end": 2.4000000000000004,
            "count": 0
           },
           {
            "bin_start": 2.4000000000000004,
            "bin_end": 2.6,
            "count": 0
           },
           {
            "bin_start": 2.6,
            "bin_end": 2.8,
            "count": 0
           },
           {
            "bin_start": 2.8,
            "bin_end": 3,
            "count": 1
           }
          ]
         }
        },
        {
         "name": "Region",
         "dtype": "int64",
         "stats": {
          "unique_count": 3,
          "nan_count": 0,
          "min": "1",
          "max": "9",
          "histogram": [
           {
            "bin_start": 1,
            "bin_end": 1.8,
            "count": 3
           },
           {
            "bin_start": 1.8,
            "bin_end": 2.6,
            "count": 1
           },
           {
            "bin_start": 2.6,
            "bin_end": 3.4000000000000004,
            "count": 0
           },
           {
            "bin_start": 3.4000000000000004,
            "bin_end": 4.2,
            "count": 0
           },
           {
            "bin_start": 4.2,
            "bin_end": 5,
            "count": 0
           },
           {
            "bin_start": 5,
            "bin_end": 5.800000000000001,
            "count": 0
           },
           {
            "bin_start": 5.800000000000001,
            "bin_end": 6.6000000000000005,
            "count": 0
           },
           {
            "bin_start": 6.6000000000000005,
            "bin_end": 7.4,
            "count": 0
           },
           {
            "bin_start": 7.4,
            "bin_end": 8.2,
            "count": 0
           },
           {
            "bin_start": 8.2,
            "bin_end": 9,
            "count": 1
           }
          ]
         }
        },
        {
         "name": "TrafficType",
         "dtype": "int64",
         "stats": {
          "unique_count": 4,
          "nan_count": 0,
          "min": "1",
          "max": "4",
          "histogram": [
           {
            "bin_start": 1,
            "bin_end": 1.3,
            "count": 1
           },
           {
            "bin_start": 1.3,
            "bin_end": 1.6,
            "count": 0
           },
           {
            "bin_start": 1.6,
            "bin_end": 1.9,
            "count": 0
           },
           {
            "bin_start": 1.9,
            "bin_end": 2.2,
            "count": 1
           },
           {
            "bin_start": 2.2,
            "bin_end": 2.5,
            "count": 0
           },
           {
            "bin_start": 2.5,
            "bin_end": 2.8,
            "count": 0
           },
           {
            "bin_start": 2.8,
            "bin_end": 3.1,
            "count": 1
           },
           {
            "bin_start": 3.1,
            "bin_end": 3.4,
            "count": 0
           },
           {
            "bin_start": 3.4,
            "bin_end": 3.6999999999999997,
            "count": 0
           },
           {
            "bin_start": 3.6999999999999997,
            "bin_end": 4,
            "count": 2
           }
          ]
         }
        },
        {
         "name": "VisitorType",
         "dtype": "object",
         "stats": {
          "unique_count": 1,
          "nan_count": 0,
          "categories": [
           {
            "name": "Returning_Visitor",
            "count": 5
           }
          ]
         }
        },
        {
         "name": "Weekend",
         "dtype": "bool",
         "stats": {
          "unique_count": 2,
          "nan_count": 0,
          "categories": [
           {
            "name": "False",
            "count": 4
           },
           {
            "name": "True",
            "count": 1
           }
          ]
         }
        },
        {
         "name": "Revenue",
         "dtype": "bool",
         "stats": {
          "unique_count": 1,
          "nan_count": 0,
          "categories": [
           {
            "name": "False",
            "count": 5
           }
          ]
         }
        },
        {
         "name": "bounce_exit",
         "dtype": "float64",
         "stats": {
          "unique_count": 5,
          "nan_count": 0,
          "min": "0.0033566012765819525",
          "max": "0.23667576610237448",
          "histogram": [
           {
            "bin_start": 0.0033566012765819525,
            "bin_end": 0.026688517759161205,
            "count": 2
           },
           {
            "bin_start": 0.026688517759161205,
            "bin_end": 0.05002043424174046,
            "count": 0
           },
           {
            "bin_start": 0.05002043424174046,
            "bin_end": 0.07335235072431971,
            "count": 0
           },
           {
            "bin_start": 0.07335235072431971,
            "bin_end": 0.09668426720689896,
            "count": 1
           },
           {
            "bin_start": 0.09668426720689896,
            "bin_end": 0.12001618368947821,
            "count": 0
           },
           {
            "bin_start": 0.12001618368947821,
            "bin_end": 0.14334810017205746,
            "count": 0
           },
           {
            "bin_start": 0.14334810017205746,
            "bin_end": 0.16668001665463672,
            "count": 0
           },
           {
            "bin_start": 0.16668001665463672,
            "bin_end": 0.19001193313721598,
            "count": 0
           },
           {
            "bin_start": 0.19001193313721598,
            "bin_end": 0.21334384961979524,
            "count": 0
           },
           {
            "bin_start": 0.21334384961979524,
            "bin_end": 0.23667576610237448,
            "count": 2
           }
          ]
         }
        },
        {
         "name": "_deepnote_index_column",
         "dtype": "int64"
        }
       ],
       "rows_top": [
        {
         "Administrative": 0,
         "Administrative_Duration": 0,
         "Informational": 0,
         "Informational_Duration": 0,
         "ProductRelated": 1,
         "ProductRelated_Duration": 0,
         "BounceRates": 0.2,
         "ExitRates": 0.2,
         "PageValues": 0,
         "SpecialDay": 0,
         "Month": "Feb",
         "OperatingSystems": 1,
         "Browser": 1,
         "Region": 1,
         "TrafficType": 1,
         "VisitorType": "Returning_Visitor",
         "Weekend": false,
         "Revenue": false,
         "bounce_exit": 0.23667576610237406,
         "_deepnote_index_column": 0
        },
        {
         "Administrative": 0,
         "Administrative_Duration": 0,
         "Informational": 0,
         "Informational_Duration": 0,
         "ProductRelated": 2,
         "ProductRelated_Duration": 64,
         "BounceRates": 0,
         "ExitRates": 0.1,
         "PageValues": 0,
         "SpecialDay": 0,
         "Month": "Feb",
         "OperatingSystems": 2,
         "Browser": 2,
         "Region": 1,
         "TrafficType": 2,
         "VisitorType": "Returning_Visitor",
         "Weekend": false,
         "Revenue": false,
         "bounce_exit": 0.024630220032398953,
         "_deepnote_index_column": 1
        },
        {
         "Administrative": 0,
         "Administrative_Duration": 0,
         "Informational": 0,
         "Informational_Duration": 0,
         "ProductRelated": 1,
         "ProductRelated_Duration": 0,
         "BounceRates": 0.2,
         "ExitRates": 0.2,
         "PageValues": 0,
         "SpecialDay": 0,
         "Month": "Feb",
         "OperatingSystems": 4,
         "Browser": 1,
         "Region": 9,
         "TrafficType": 3,
         "VisitorType": "Returning_Visitor",
         "Weekend": false,
         "Revenue": false,
         "bounce_exit": 0.23667576610237448,
         "_deepnote_index_column": 2
        },
        {
         "Administrative": 0,
         "Administrative_Duration": 0,
         "Informational": 0,
         "Informational_Duration": 0,
         "ProductRelated": 2,
         "ProductRelated_Duration": 2.666666667,
         "BounceRates": 0.05,
         "ExitRates": 0.14,
         "PageValues": 0,
         "SpecialDay": 0,
         "Month": "Feb",
         "OperatingSystems": 3,
         "Browser": 2,
         "Region": 2,
         "TrafficType": 4,
         "VisitorType": "Returning_Visitor",
         "Weekend": false,
         "Revenue": false,
         "bounce_exit": 0.08826114989059647,
         "_deepnote_index_column": 3
        },
        {
         "Administrative": 0,
         "Administrative_Duration": 0,
         "Informational": 0,
         "Informational_Duration": 0,
         "ProductRelated": 10,
         "ProductRelated_Duration": 627.5,
         "BounceRates": 0.02,
         "ExitRates": 0.05,
         "PageValues": 0,
         "SpecialDay": 0,
         "Month": "Feb",
         "OperatingSystems": 3,
         "Browser": 3,
         "Region": 1,
         "TrafficType": 4,
         "VisitorType": "Returning_Visitor",
         "Weekend": true,
         "Revenue": false,
         "bounce_exit": 0.0033566012765819525,
         "_deepnote_index_column": 4
        }
       ],
       "rows_bottom": null
      },
      "text/plain": "   Administrative  Administrative_Duration  Informational  \\\n0               0                      0.0              0   \n1               0                      0.0              0   \n2               0                      0.0              0   \n3               0                      0.0              0   \n4               0                      0.0              0   \n\n   Informational_Duration  ProductRelated  ProductRelated_Duration  \\\n0                     0.0               1                 0.000000   \n1                     0.0               2                64.000000   \n2                     0.0               1                 0.000000   \n3                     0.0               2                 2.666667   \n4                     0.0              10               627.500000   \n\n   BounceRates  ExitRates  PageValues  SpecialDay Month  OperatingSystems  \\\n0         0.20       0.20         0.0         0.0   Feb                 1   \n1         0.00       0.10         0.0         0.0   Feb                 2   \n2         0.20       0.20         0.0         0.0   Feb                 4   \n3         0.05       0.14         0.0         0.0   Feb                 3   \n4         0.02       0.05         0.0         0.0   Feb                 3   \n\n   Browser  Region  TrafficType        VisitorType  Weekend  Revenue  \\\n0        1       1            1  Returning_Visitor    False    False   \n1        2       1            2  Returning_Visitor    False    False   \n2        1       9            3  Returning_Visitor    False    False   \n3        2       2            4  Returning_Visitor    False    False   \n4        3       1            4  Returning_Visitor     True    False   \n\n   bounce_exit  \n0     0.236676  \n1     0.024630  \n2     0.236676  \n3     0.088261  \n4     0.003357  ",
      "text/html": "<div>\n<style scoped>\n    .dataframe tbody tr th:only-of-type {\n        vertical-align: middle;\n    }\n\n    .dataframe tbody tr th {\n        vertical-align: top;\n    }\n\n    .dataframe thead th {\n        text-align: right;\n    }\n</style>\n<table border=\"1\" class=\"dataframe\">\n  <thead>\n    <tr style=\"text-align: right;\">\n      <th></th>\n      <th>Administrative</th>\n      <th>Administrative_Duration</th>\n      <th>Informational</th>\n      <th>Informational_Duration</th>\n      <th>ProductRelated</th>\n      <th>ProductRelated_Duration</th>\n      <th>BounceRates</th>\n      <th>ExitRates</th>\n      <th>PageValues</th>\n      <th>SpecialDay</th>\n      <th>Month</th>\n      <th>OperatingSystems</th>\n      <th>Browser</th>\n      <th>Region</th>\n      <th>TrafficType</th>\n      <th>VisitorType</th>\n      <th>Weekend</th>\n      <th>Revenue</th>\n      <th>bounce_exit</th>\n    </tr>\n  </thead>\n  <tbody>\n    <tr>\n      <th>0</th>\n      <td>0</td>\n      <td>0.0</td>\n      <td>0</td>\n      <td>0.0</td>\n      <td>1</td>\n      <td>0.000000</td>\n      <td>0.20</td>\n      <td>0.20</td>\n      <td>0.0</td>\n      <td>0.0</td>\n      <td>Feb</td>\n      <td>1</td>\n      <td>1</td>\n      <td>1</td>\n      <td>1</td>\n      <td>Returning_Visitor</td>\n      <td>False</td>\n      <td>False</td>\n      <td>0.236676</td>\n    </tr>\n    <tr>\n      <th>1</th>\n      <td>0</td>\n      <td>0.0</td>\n      <td>0</td>\n      <td>0.0</td>\n      <td>2</td>\n      <td>64.000000</td>\n      <td>0.00</td>\n      <td>0.10</td>\n      <td>0.0</td>\n      <td>0.0</td>\n      <td>Feb</td>\n      <td>2</td>\n      <td>2</td>\n      <td>1</td>\n      <td>2</td>\n      <td>Returning_Visitor</td>\n      <td>False</td>\n      <td>False</td>\n      <td>0.024630</td>\n    </tr>\n    <tr>\n      <th>2</th>\n      <td>0</td>\n      <td>0.0</td>\n      <td>0</td>\n      <td>0.0</td>\n      <td>1</td>\n      <td>0.000000</td>\n      <td>0.20</td>\n      <td>0.20</td>\n      <td>0.0</td>\n      <td>0.0</td>\n      <td>Feb</td>\n      <td>4</td>\n      <td>1</td>\n      <td>9</td>\n      <td>3</td>\n      <td>Returning_Visitor</td>\n      <td>False</td>\n      <td>False</td>\n      <td>0.236676</td>\n    </tr>\n    <tr>\n      <th>3</th>\n      <td>0</td>\n      <td>0.0</td>\n      <td>0</td>\n      <td>0.0</td>\n      <td>2</td>\n      <td>2.666667</td>\n      <td>0.05</td>\n      <td>0.14</td>\n      <td>0.0</td>\n      <td>0.0</td>\n      <td>Feb</td>\n      <td>3</td>\n      <td>2</td>\n      <td>2</td>\n      <td>4</td>\n      <td>Returning_Visitor</td>\n      <td>False</td>\n      <td>False</td>\n      <td>0.088261</td>\n    </tr>\n    <tr>\n      <th>4</th>\n      <td>0</td>\n      <td>0.0</td>\n      <td>0</td>\n      <td>0.0</td>\n      <td>10</td>\n      <td>627.500000</td>\n      <td>0.02</td>\n      <td>0.05</td>\n      <td>0.0</td>\n      <td>0.0</td>\n      <td>Feb</td>\n      <td>3</td>\n      <td>3</td>\n      <td>1</td>\n      <td>4</td>\n      <td>Returning_Visitor</td>\n      <td>True</td>\n      <td>False</td>\n      <td>0.003357</td>\n    </tr>\n  </tbody>\n</table>\n</div>"
     },
     "metadata": {}
    }
   ]
  },
  {
   "cell_type": "code",
   "source": "pca",
   "metadata": {
    "tags": [],
    "cell_id": "00011-f63b3f9a-447b-4284-9e0b-6b1d36faf364",
    "deepnote_to_be_reexecuted": true,
    "source_hash": "ed1a6bce",
    "deepnote_cell_type": "code"
   },
   "outputs": [],
   "execution_count": null
  },
  {
   "cell_type": "markdown",
   "source": "#### PCA for Administrative - Administrative Duration, Informational - Informational Duration,  Product Related - Product Related Duration\n",
   "metadata": {
    "tags": [],
    "cell_id": "00011-afe00d58-c12d-439c-8ba4-058fc4151fe0",
    "deepnote_cell_type": "markdown"
   }
  },
  {
   "cell_type": "code",
   "metadata": {
    "tags": [],
    "cell_id": "00008-ca686f42-46d5-4915-a006-4f3486591e9d",
    "deepnote_to_be_reexecuted": false,
    "source_hash": "54907a8b",
    "execution_start": 1620987545061,
    "execution_millis": 192,
    "deepnote_cell_type": "code"
   },
   "source": "df[\"Administ_Dur\"]= pca.fit_transform(df[[\"Administrative\",\"Administrative_Duration\"]])\ndf=df.drop([\"Administrative\",\"Administrative_Duration\"],axis=1)\n\ndf[\"Informational_Dur\"]= pca.fit_transform(df[[\"Informational\",\"Informational_Duration\"]])\ndf=df.drop([\"Informational\",\"Informational_Duration\"],axis=1)\n\ndf[\"ProductRelated_Dur\"]= pca.fit_transform(df[[\"ProductRelated\",\"ProductRelated_Duration\"]])\ndf=df.drop([\"ProductRelated\",\"ProductRelated_Duration\"],axis=1)",
   "execution_count": 9,
   "outputs": []
  },
  {
   "cell_type": "code",
   "metadata": {
    "tags": [],
    "cell_id": "00004-72152c94-82c6-42c0-b73c-5ae5e585e332",
    "deepnote_to_be_reexecuted": false,
    "source_hash": "aefd4ff",
    "execution_start": 1620987545268,
    "execution_millis": 96,
    "deepnote_cell_type": "code"
   },
   "source": "cat_vars = [ \"Month\",\"OperatingSystems\",\n    \"Browser\", \"Region\", \"TrafficType\",'VisitorType',\"Weekend\"]\nnum_vars = [\"Administ_Dur\",\"Informational_Dur\",\"ProductRelated_Dur\",\"bounce_exit\",\n    \"PageValues\",\"SpecialDay\"]\n\nx=df[cat_vars+num_vars]\ny=df['Revenue'].map({True:1, False:0})\nlen(num_vars), len(cat_vars)+1\n#It must be 10 num , 8 cat",
   "execution_count": 10,
   "outputs": [
    {
     "output_type": "execute_result",
     "execution_count": 10,
     "data": {
      "text/plain": "(6, 8)"
     },
     "metadata": {}
    }
   ]
  },
  {
   "cell_type": "code",
   "metadata": {
    "tags": [],
    "cell_id": "00005-706e4134-8195-417b-9420-a3e33a06adfb",
    "deepnote_to_be_reexecuted": false,
    "source_hash": "d14e4193",
    "execution_start": 1620987545391,
    "execution_millis": 54,
    "deepnote_cell_type": "code"
   },
   "source": "cat_4_tree_Models = pipeline.Pipeline(steps=[\n    ('one hot', preprocessing.OrdinalEncoder(handle_unknown='use_encoded_value',unknown_value=45654))])\n\n\nnum_4_tree_Models=pipeline.Pipeline(steps=[\n    ((\"quantile transformer\",preprocessing.QuantileTransformer(n_quantiles=100, random_state=0,\n    output_distribution='normal')))])\n\n\n\ntree_prepro=compose.ColumnTransformer(transformers=[\n    (\"categorical\",cat_4_tree_Models,cat_vars),\n    (\"numerical\",num_4_tree_Models,num_vars)]) \n\ntree_prepro",
   "execution_count": 11,
   "outputs": [
    {
     "output_type": "execute_result",
     "execution_count": 11,
     "data": {
      "text/plain": "ColumnTransformer(transformers=[('categorical',\n                                 Pipeline(steps=[('one hot',\n                                                  OrdinalEncoder(handle_unknown='use_encoded_value',\n                                                                 unknown_value=45654))]),\n                                 ['Month', 'OperatingSystems', 'Browser',\n                                  'Region', 'TrafficType', 'VisitorType',\n                                  'Weekend']),\n                                ('numerical',\n                                 Pipeline(steps=[('quantile transformer',\n                                                  QuantileTransformer(n_quantiles=100,\n                                                                      output_distribution='normal',\n                                                                      random_state=0))]),\n                                 ['Administ_Dur', 'Informational_Dur',\n                                  'ProductRelated_Dur', 'bounce_exit',\n                                  'PageValues', 'SpecialDay'])])",
      "text/html": "<style>#sk-2406e983-9f49-4973-96e4-a99c64ccb23c {color: black;background-color: white;}#sk-2406e983-9f49-4973-96e4-a99c64ccb23c pre{padding: 0;}#sk-2406e983-9f49-4973-96e4-a99c64ccb23c div.sk-toggleable {background-color: white;}#sk-2406e983-9f49-4973-96e4-a99c64ccb23c label.sk-toggleable__label {cursor: pointer;display: block;width: 100%;margin-bottom: 0;padding: 0.2em 0.3em;box-sizing: border-box;text-align: center;}#sk-2406e983-9f49-4973-96e4-a99c64ccb23c div.sk-toggleable__content {max-height: 0;max-width: 0;overflow: hidden;text-align: left;background-color: #f0f8ff;}#sk-2406e983-9f49-4973-96e4-a99c64ccb23c div.sk-toggleable__content pre {margin: 0.2em;color: black;border-radius: 0.25em;background-color: #f0f8ff;}#sk-2406e983-9f49-4973-96e4-a99c64ccb23c input.sk-toggleable__control:checked~div.sk-toggleable__content {max-height: 200px;max-width: 100%;overflow: auto;}#sk-2406e983-9f49-4973-96e4-a99c64ccb23c div.sk-estimator input.sk-toggleable__control:checked~label.sk-toggleable__label {background-color: #d4ebff;}#sk-2406e983-9f49-4973-96e4-a99c64ccb23c div.sk-label input.sk-toggleable__control:checked~label.sk-toggleable__label {background-color: #d4ebff;}#sk-2406e983-9f49-4973-96e4-a99c64ccb23c input.sk-hidden--visually {border: 0;clip: rect(1px 1px 1px 1px);clip: rect(1px, 1px, 1px, 1px);height: 1px;margin: -1px;overflow: hidden;padding: 0;position: absolute;width: 1px;}#sk-2406e983-9f49-4973-96e4-a99c64ccb23c div.sk-estimator {font-family: monospace;background-color: #f0f8ff;margin: 0.25em 0.25em;border: 1px dotted black;border-radius: 0.25em;box-sizing: border-box;}#sk-2406e983-9f49-4973-96e4-a99c64ccb23c div.sk-estimator:hover {background-color: #d4ebff;}#sk-2406e983-9f49-4973-96e4-a99c64ccb23c div.sk-parallel-item::after {content: \"\";width: 100%;border-bottom: 1px solid gray;flex-grow: 1;}#sk-2406e983-9f49-4973-96e4-a99c64ccb23c div.sk-label:hover label.sk-toggleable__label {background-color: #d4ebff;}#sk-2406e983-9f49-4973-96e4-a99c64ccb23c div.sk-serial::before {content: \"\";position: absolute;border-left: 1px solid gray;box-sizing: border-box;top: 2em;bottom: 0;left: 50%;}#sk-2406e983-9f49-4973-96e4-a99c64ccb23c div.sk-serial {display: flex;flex-direction: column;align-items: center;background-color: white;}#sk-2406e983-9f49-4973-96e4-a99c64ccb23c div.sk-item {z-index: 1;}#sk-2406e983-9f49-4973-96e4-a99c64ccb23c div.sk-parallel {display: flex;align-items: stretch;justify-content: center;background-color: white;}#sk-2406e983-9f49-4973-96e4-a99c64ccb23c div.sk-parallel-item {display: flex;flex-direction: column;position: relative;background-color: white;}#sk-2406e983-9f49-4973-96e4-a99c64ccb23c div.sk-parallel-item:first-child::after {align-self: flex-end;width: 50%;}#sk-2406e983-9f49-4973-96e4-a99c64ccb23c div.sk-parallel-item:last-child::after {align-self: flex-start;width: 50%;}#sk-2406e983-9f49-4973-96e4-a99c64ccb23c div.sk-parallel-item:only-child::after {width: 0;}#sk-2406e983-9f49-4973-96e4-a99c64ccb23c div.sk-dashed-wrapped {border: 1px dashed gray;margin: 0.2em;box-sizing: border-box;padding-bottom: 0.1em;background-color: white;position: relative;}#sk-2406e983-9f49-4973-96e4-a99c64ccb23c div.sk-label label {font-family: monospace;font-weight: bold;background-color: white;display: inline-block;line-height: 1.2em;}#sk-2406e983-9f49-4973-96e4-a99c64ccb23c div.sk-label-container {position: relative;z-index: 2;text-align: center;}#sk-2406e983-9f49-4973-96e4-a99c64ccb23c div.sk-container {display: inline-block;position: relative;}</style><div id=\"sk-2406e983-9f49-4973-96e4-a99c64ccb23c\" class\"sk-top-container\"><div class=\"sk-container\"><div class=\"sk-item sk-dashed-wrapped\"><div class=\"sk-label-container\"><div class=\"sk-label sk-toggleable\"><input class=\"sk-toggleable__control sk-hidden--visually\" id=\"70e8c25a-48c0-4e64-92fa-502424200326\" type=\"checkbox\" ><label class=\"sk-toggleable__label\" for=\"70e8c25a-48c0-4e64-92fa-502424200326\">ColumnTransformer</label><div class=\"sk-toggleable__content\"><pre>ColumnTransformer(transformers=[('categorical',\n                                 Pipeline(steps=[('one hot',\n                                                  OrdinalEncoder(handle_unknown='use_encoded_value',\n                                                                 unknown_value=45654))]),\n                                 ['Month', 'OperatingSystems', 'Browser',\n                                  'Region', 'TrafficType', 'VisitorType',\n                                  'Weekend']),\n                                ('numerical',\n                                 Pipeline(steps=[('quantile transformer',\n                                                  QuantileTransformer(n_quantiles=100,\n                                                                      output_distribution='normal',\n                                                                      random_state=0))]),\n                                 ['Administ_Dur', 'Informational_Dur',\n                                  'ProductRelated_Dur', 'bounce_exit',\n                                  'PageValues', 'SpecialDay'])])</pre></div></div></div><div class=\"sk-parallel\"><div class=\"sk-parallel-item\"><div class=\"sk-item\"><div class=\"sk-label-container\"><div class=\"sk-label sk-toggleable\"><input class=\"sk-toggleable__control sk-hidden--visually\" id=\"0015cd9e-d0d9-474b-b334-8bb653ceaaaa\" type=\"checkbox\" ><label class=\"sk-toggleable__label\" for=\"0015cd9e-d0d9-474b-b334-8bb653ceaaaa\">categorical</label><div class=\"sk-toggleable__content\"><pre>['Month', 'OperatingSystems', 'Browser', 'Region', 'TrafficType', 'VisitorType', 'Weekend']</pre></div></div></div><div class=\"sk-serial\"><div class=\"sk-item\"><div class=\"sk-serial\"><div class=\"sk-item\"><div class=\"sk-estimator sk-toggleable\"><input class=\"sk-toggleable__control sk-hidden--visually\" id=\"4d9b9cce-e531-4dc3-98e4-0e45fefbacf4\" type=\"checkbox\" ><label class=\"sk-toggleable__label\" for=\"4d9b9cce-e531-4dc3-98e4-0e45fefbacf4\">OrdinalEncoder</label><div class=\"sk-toggleable__content\"><pre>OrdinalEncoder(handle_unknown='use_encoded_value', unknown_value=45654)</pre></div></div></div></div></div></div></div></div><div class=\"sk-parallel-item\"><div class=\"sk-item\"><div class=\"sk-label-container\"><div class=\"sk-label sk-toggleable\"><input class=\"sk-toggleable__control sk-hidden--visually\" id=\"15fbd254-76d2-4625-a6c0-f54c13b274db\" type=\"checkbox\" ><label class=\"sk-toggleable__label\" for=\"15fbd254-76d2-4625-a6c0-f54c13b274db\">numerical</label><div class=\"sk-toggleable__content\"><pre>['Administ_Dur', 'Informational_Dur', 'ProductRelated_Dur', 'bounce_exit', 'PageValues', 'SpecialDay']</pre></div></div></div><div class=\"sk-serial\"><div class=\"sk-item\"><div class=\"sk-serial\"><div class=\"sk-item\"><div class=\"sk-estimator sk-toggleable\"><input class=\"sk-toggleable__control sk-hidden--visually\" id=\"f08f46f0-31a1-4eee-8ada-8307efa3b461\" type=\"checkbox\" ><label class=\"sk-toggleable__label\" for=\"f08f46f0-31a1-4eee-8ada-8307efa3b461\">QuantileTransformer</label><div class=\"sk-toggleable__content\"><pre>QuantileTransformer(n_quantiles=100, output_distribution='normal',\n                    random_state=0)</pre></div></div></div></div></div></div></div></div></div></div></div></div>"
     },
     "metadata": {}
    }
   ]
  },
  {
   "cell_type": "code",
   "metadata": {
    "tags": [],
    "cell_id": "00010-43a26e13-649e-4b0a-bf16-669b18efb60c",
    "deepnote_to_be_reexecuted": false,
    "source_hash": "6e06fe5b",
    "execution_start": 1620987545443,
    "execution_millis": 694,
    "deepnote_cell_type": "code"
   },
   "source": "from sklearn.tree          import DecisionTreeClassifier\nfrom sklearn.ensemble      import RandomForestClassifier\nfrom sklearn.ensemble      import ExtraTreesClassifier\nfrom sklearn.ensemble      import AdaBoostClassifier\nfrom sklearn.ensemble      import GradientBoostingClassifier\nfrom sklearn.experimental  import enable_hist_gradient_boosting # Necesary for HistGradientBoostingClassifier\nfrom sklearn.ensemble      import HistGradientBoostingClassifier\nfrom xgboost               import XGBClassifier\nfrom lightgbm              import LGBMClassifier\nfrom catboost              import CatBoostClassifier\n\n",
   "execution_count": 12,
   "outputs": []
  },
  {
   "cell_type": "code",
   "metadata": {
    "tags": [],
    "cell_id": "00010-2813ab4b-f37b-4100-94b4-c3849f98760d",
    "deepnote_to_be_reexecuted": false,
    "source_hash": "9587b439",
    "execution_start": 1620987546182,
    "execution_millis": 187,
    "deepnote_cell_type": "code"
   },
   "source": "# YOUR CODE HERE\ntree_pipelines={\n    \"Decision Tree\": DecisionTreeClassifier(),\n    \"Extra Trees\": ExtraTreesClassifier(),\n    \"Random Forest\": RandomForestClassifier(),\n    \"AdaBoost\": AdaBoostClassifier(),\n    \"Skl GBM\": GradientBoostingClassifier(),\n    \"Skl HistGBM\": GradientBoostingClassifier(),\n    \"XGBoost\": XGBClassifier(),\n    \"LightGBM\": LGBMClassifier(),\n    \"CatBoost\": CatBoostClassifier() \n    }\n\ntree_pipelines = {name: pipeline.make_pipeline(tree_prepro, model) for name, model in tree_pipelines.items()}\n\ntree_pipelines[\"Skl GBM\"]",
   "execution_count": 13,
   "outputs": [
    {
     "output_type": "execute_result",
     "execution_count": 13,
     "data": {
      "text/plain": "Pipeline(steps=[('columntransformer',\n                 ColumnTransformer(transformers=[('categorical',\n                                                  Pipeline(steps=[('one hot',\n                                                                   OrdinalEncoder(handle_unknown='use_encoded_value',\n                                                                                  unknown_value=45654))]),\n                                                  ['Month', 'OperatingSystems',\n                                                   'Browser', 'Region',\n                                                   'TrafficType', 'VisitorType',\n                                                   'Weekend']),\n                                                 ('numerical',\n                                                  Pipeline(steps=[('quantile '\n                                                                   'transformer',\n                                                                   QuantileTransformer(n_quantiles=100,\n                                                                                       output_distribution='normal',\n                                                                                       random_state=0))]),\n                                                  ['Administ_Dur',\n                                                   'Informational_Dur',\n                                                   'ProductRelated_Dur',\n                                                   'bounce_exit', 'PageValues',\n                                                   'SpecialDay'])])),\n                ('gradientboostingclassifier', GradientBoostingClassifier())])",
      "text/html": "<style>#sk-6049d9a1-76e0-4f73-ac3c-a79361347520 {color: black;background-color: white;}#sk-6049d9a1-76e0-4f73-ac3c-a79361347520 pre{padding: 0;}#sk-6049d9a1-76e0-4f73-ac3c-a79361347520 div.sk-toggleable {background-color: white;}#sk-6049d9a1-76e0-4f73-ac3c-a79361347520 label.sk-toggleable__label {cursor: pointer;display: block;width: 100%;margin-bottom: 0;padding: 0.2em 0.3em;box-sizing: border-box;text-align: center;}#sk-6049d9a1-76e0-4f73-ac3c-a79361347520 div.sk-toggleable__content {max-height: 0;max-width: 0;overflow: hidden;text-align: left;background-color: #f0f8ff;}#sk-6049d9a1-76e0-4f73-ac3c-a79361347520 div.sk-toggleable__content pre {margin: 0.2em;color: black;border-radius: 0.25em;background-color: #f0f8ff;}#sk-6049d9a1-76e0-4f73-ac3c-a79361347520 input.sk-toggleable__control:checked~div.sk-toggleable__content {max-height: 200px;max-width: 100%;overflow: auto;}#sk-6049d9a1-76e0-4f73-ac3c-a79361347520 div.sk-estimator input.sk-toggleable__control:checked~label.sk-toggleable__label {background-color: #d4ebff;}#sk-6049d9a1-76e0-4f73-ac3c-a79361347520 div.sk-label input.sk-toggleable__control:checked~label.sk-toggleable__label {background-color: #d4ebff;}#sk-6049d9a1-76e0-4f73-ac3c-a79361347520 input.sk-hidden--visually {border: 0;clip: rect(1px 1px 1px 1px);clip: rect(1px, 1px, 1px, 1px);height: 1px;margin: -1px;overflow: hidden;padding: 0;position: absolute;width: 1px;}#sk-6049d9a1-76e0-4f73-ac3c-a79361347520 div.sk-estimator {font-family: monospace;background-color: #f0f8ff;margin: 0.25em 0.25em;border: 1px dotted black;border-radius: 0.25em;box-sizing: border-box;}#sk-6049d9a1-76e0-4f73-ac3c-a79361347520 div.sk-estimator:hover {background-color: #d4ebff;}#sk-6049d9a1-76e0-4f73-ac3c-a79361347520 div.sk-parallel-item::after {content: \"\";width: 100%;border-bottom: 1px solid gray;flex-grow: 1;}#sk-6049d9a1-76e0-4f73-ac3c-a79361347520 div.sk-label:hover label.sk-toggleable__label {background-color: #d4ebff;}#sk-6049d9a1-76e0-4f73-ac3c-a79361347520 div.sk-serial::before {content: \"\";position: absolute;border-left: 1px solid gray;box-sizing: border-box;top: 2em;bottom: 0;left: 50%;}#sk-6049d9a1-76e0-4f73-ac3c-a79361347520 div.sk-serial {display: flex;flex-direction: column;align-items: center;background-color: white;}#sk-6049d9a1-76e0-4f73-ac3c-a79361347520 div.sk-item {z-index: 1;}#sk-6049d9a1-76e0-4f73-ac3c-a79361347520 div.sk-parallel {display: flex;align-items: stretch;justify-content: center;background-color: white;}#sk-6049d9a1-76e0-4f73-ac3c-a79361347520 div.sk-parallel-item {display: flex;flex-direction: column;position: relative;background-color: white;}#sk-6049d9a1-76e0-4f73-ac3c-a79361347520 div.sk-parallel-item:first-child::after {align-self: flex-end;width: 50%;}#sk-6049d9a1-76e0-4f73-ac3c-a79361347520 div.sk-parallel-item:last-child::after {align-self: flex-start;width: 50%;}#sk-6049d9a1-76e0-4f73-ac3c-a79361347520 div.sk-parallel-item:only-child::after {width: 0;}#sk-6049d9a1-76e0-4f73-ac3c-a79361347520 div.sk-dashed-wrapped {border: 1px dashed gray;margin: 0.2em;box-sizing: border-box;padding-bottom: 0.1em;background-color: white;position: relative;}#sk-6049d9a1-76e0-4f73-ac3c-a79361347520 div.sk-label label {font-family: monospace;font-weight: bold;background-color: white;display: inline-block;line-height: 1.2em;}#sk-6049d9a1-76e0-4f73-ac3c-a79361347520 div.sk-label-container {position: relative;z-index: 2;text-align: center;}#sk-6049d9a1-76e0-4f73-ac3c-a79361347520 div.sk-container {display: inline-block;position: relative;}</style><div id=\"sk-6049d9a1-76e0-4f73-ac3c-a79361347520\" class\"sk-top-container\"><div class=\"sk-container\"><div class=\"sk-item sk-dashed-wrapped\"><div class=\"sk-label-container\"><div class=\"sk-label sk-toggleable\"><input class=\"sk-toggleable__control sk-hidden--visually\" id=\"ae81b800-baa9-44bb-8b3f-277e63b4b767\" type=\"checkbox\" ><label class=\"sk-toggleable__label\" for=\"ae81b800-baa9-44bb-8b3f-277e63b4b767\">Pipeline</label><div class=\"sk-toggleable__content\"><pre>Pipeline(steps=[('columntransformer',\n                 ColumnTransformer(transformers=[('categorical',\n                                                  Pipeline(steps=[('one hot',\n                                                                   OrdinalEncoder(handle_unknown='use_encoded_value',\n                                                                                  unknown_value=45654))]),\n                                                  ['Month', 'OperatingSystems',\n                                                   'Browser', 'Region',\n                                                   'TrafficType', 'VisitorType',\n                                                   'Weekend']),\n                                                 ('numerical',\n                                                  Pipeline(steps=[('quantile '\n                                                                   'transformer',\n                                                                   QuantileTransformer(n_quantiles=100,\n                                                                                       output_distribution='normal',\n                                                                                       random_state=0))]),\n                                                  ['Administ_Dur',\n                                                   'Informational_Dur',\n                                                   'ProductRelated_Dur',\n                                                   'bounce_exit', 'PageValues',\n                                                   'SpecialDay'])])),\n                ('gradientboostingclassifier', GradientBoostingClassifier())])</pre></div></div></div><div class=\"sk-serial\"><div class=\"sk-item sk-dashed-wrapped\"><div class=\"sk-label-container\"><div class=\"sk-label sk-toggleable\"><input class=\"sk-toggleable__control sk-hidden--visually\" id=\"8fbd9cc3-e15e-41c4-81b5-f75e9fcadebe\" type=\"checkbox\" ><label class=\"sk-toggleable__label\" for=\"8fbd9cc3-e15e-41c4-81b5-f75e9fcadebe\">columntransformer: ColumnTransformer</label><div class=\"sk-toggleable__content\"><pre>ColumnTransformer(transformers=[('categorical',\n                                 Pipeline(steps=[('one hot',\n                                                  OrdinalEncoder(handle_unknown='use_encoded_value',\n                                                                 unknown_value=45654))]),\n                                 ['Month', 'OperatingSystems', 'Browser',\n                                  'Region', 'TrafficType', 'VisitorType',\n                                  'Weekend']),\n                                ('numerical',\n                                 Pipeline(steps=[('quantile transformer',\n                                                  QuantileTransformer(n_quantiles=100,\n                                                                      output_distribution='normal',\n                                                                      random_state=0))]),\n                                 ['Administ_Dur', 'Informational_Dur',\n                                  'ProductRelated_Dur', 'bounce_exit',\n                                  'PageValues', 'SpecialDay'])])</pre></div></div></div><div class=\"sk-parallel\"><div class=\"sk-parallel-item\"><div class=\"sk-item\"><div class=\"sk-label-container\"><div class=\"sk-label sk-toggleable\"><input class=\"sk-toggleable__control sk-hidden--visually\" id=\"6c540be7-0459-4a00-a5c4-b05282a21882\" type=\"checkbox\" ><label class=\"sk-toggleable__label\" for=\"6c540be7-0459-4a00-a5c4-b05282a21882\">categorical</label><div class=\"sk-toggleable__content\"><pre>['Month', 'OperatingSystems', 'Browser', 'Region', 'TrafficType', 'VisitorType', 'Weekend']</pre></div></div></div><div class=\"sk-serial\"><div class=\"sk-item\"><div class=\"sk-serial\"><div class=\"sk-item\"><div class=\"sk-estimator sk-toggleable\"><input class=\"sk-toggleable__control sk-hidden--visually\" id=\"2b6fb85d-b7ff-4559-a02c-33c47136558a\" type=\"checkbox\" ><label class=\"sk-toggleable__label\" for=\"2b6fb85d-b7ff-4559-a02c-33c47136558a\">OrdinalEncoder</label><div class=\"sk-toggleable__content\"><pre>OrdinalEncoder(handle_unknown='use_encoded_value', unknown_value=45654)</pre></div></div></div></div></div></div></div></div><div class=\"sk-parallel-item\"><div class=\"sk-item\"><div class=\"sk-label-container\"><div class=\"sk-label sk-toggleable\"><input class=\"sk-toggleable__control sk-hidden--visually\" id=\"afd99d46-46b2-48eb-8829-391697fff74f\" type=\"checkbox\" ><label class=\"sk-toggleable__label\" for=\"afd99d46-46b2-48eb-8829-391697fff74f\">numerical</label><div class=\"sk-toggleable__content\"><pre>['Administ_Dur', 'Informational_Dur', 'ProductRelated_Dur', 'bounce_exit', 'PageValues', 'SpecialDay']</pre></div></div></div><div class=\"sk-serial\"><div class=\"sk-item\"><div class=\"sk-serial\"><div class=\"sk-item\"><div class=\"sk-estimator sk-toggleable\"><input class=\"sk-toggleable__control sk-hidden--visually\" id=\"77526188-f909-4df2-b0ad-0307a47ee64e\" type=\"checkbox\" ><label class=\"sk-toggleable__label\" for=\"77526188-f909-4df2-b0ad-0307a47ee64e\">QuantileTransformer</label><div class=\"sk-toggleable__content\"><pre>QuantileTransformer(n_quantiles=100, output_distribution='normal',\n                    random_state=0)</pre></div></div></div></div></div></div></div></div></div></div><div class=\"sk-item\"><div class=\"sk-estimator sk-toggleable\"><input class=\"sk-toggleable__control sk-hidden--visually\" id=\"96ced91c-0890-4ae0-a47d-cd994ac91429\" type=\"checkbox\" ><label class=\"sk-toggleable__label\" for=\"96ced91c-0890-4ae0-a47d-cd994ac91429\">GradientBoostingClassifier</label><div class=\"sk-toggleable__content\"><pre>GradientBoostingClassifier()</pre></div></div></div></div></div></div></div>"
     },
     "metadata": {}
    }
   ]
  },
  {
   "cell_type": "code",
   "metadata": {
    "tags": [],
    "cell_id": "00012-05d96067-3dee-4a63-8804-dc3195de7a0d",
    "deepnote_to_be_reexecuted": false,
    "source_hash": "769f3328",
    "execution_start": 1620987546393,
    "execution_millis": 409484,
    "deepnote_cell_type": "code"
   },
   "source": "\nfrom sklearn.model_selection import cross_val_predict\n\nskf = model_selection.StratifiedKFold(n_splits=10, random_state=0, shuffle=True)\n\n\n\n\nresults = pd.DataFrame({'Model': [], 'Accuracy': [], 'Bal Acc.': [], 'Time': []})\n\n\n\n\n\nfor model_name, model in tree_pipelines.items():\n    start_time = time.time()\n\n\n        \n    # TRAIN AND GET PREDICTIONS USING cross_val_predict() and x,y\n    pred = cross_val_predict(model, x,y, cv=skf)\n\n    total_time = time.time() - start_time\n\n    results = results.append({\"Model\":    model_name,\n                              \"Accuracy\": metrics.accuracy_score(y, pred)*100,\n                              \"Bal Acc.\": metrics.balanced_accuracy_score(y, pred)*100,\n                              \"Time\":     total_time},\n                              ignore_index=True)\n                              \n                              \n\n\n\n\nresults_ord = results.sort_values(by=['Accuracy'], ascending=False, ignore_index=True)\nresults_ord.index += 1 \nresults_ord.style.bar(subset=['Accuracy', 'Bal Acc.'], vmin=0, vmax=100, color='#5fba7d')\n",
   "outputs": [
    {
     "name": "stderr",
     "text": "/root/venv/lib/python3.7/site-packages/xgboost/sklearn.py:1146: UserWarning: The use of label encoder in XGBClassifier is deprecated and will be removed in a future release. To remove this warning, do the following: 1) Pass option use_label_encoder=False when constructing XGBClassifier object; and 2) Encode your labels (y) as integers starting with 0, i.e. 0, 1, 2, ..., [num_class - 1].\n  warnings.warn(label_encoder_deprecation_msg, UserWarning)\n[10:22:22] WARNING: ../src/learner.cc:1095: Starting in XGBoost 1.3.0, the default evaluation metric used with the objective 'binary:logistic' was changed from 'error' to 'logloss'. Explicitly set eval_metric if you'd like to restore the old behavior.\n",
     "output_type": "stream"
    },
    {
     "name": "stdout",
     "text": "265:\tlearn: 0.1982760\ttotal: 6.07s\tremaining: 16.7s\n266:\tlearn: 0.1981839\ttotal: 6.08s\tremaining: 16.7s\n267:\tlearn: 0.1980591\ttotal: 6.12s\tremaining: 16.7s\n268:\tlearn: 0.1979762\ttotal: 6.14s\tremaining: 16.7s\n269:\tlearn: 0.1978207\ttotal: 6.16s\tremaining: 16.7s\n270:\tlearn: 0.1977208\ttotal: 6.19s\tremaining: 16.7s\n271:\tlearn: 0.1976027\ttotal: 6.23s\tremaining: 16.7s\n272:\tlearn: 0.1975139\ttotal: 6.25s\tremaining: 16.6s\n273:\tlearn: 0.1973871\ttotal: 6.27s\tremaining: 16.6s\n274:\tlearn: 0.1972761\ttotal: 6.29s\tremaining: 16.6s\n275:\tlearn: 0.1972302\ttotal: 6.33s\tremaining: 16.6s\n276:\tlearn: 0.1970968\ttotal: 6.35s\tremaining: 16.6s\n277:\tlearn: 0.1970285\ttotal: 6.37s\tremaining: 16.5s\n278:\tlearn: 0.1969137\ttotal: 6.38s\tremaining: 16.5s\n279:\tlearn: 0.1967887\ttotal: 6.43s\tremaining: 16.5s\n280:\tlearn: 0.1967056\ttotal: 6.45s\tremaining: 16.5s\n281:\tlearn: 0.1966285\ttotal: 6.47s\tremaining: 16.5s\n282:\tlearn: 0.1964911\ttotal: 6.48s\tremaining: 16.4s\n283:\tlearn: 0.1963733\ttotal: 6.52s\tremaining: 16.4s\n284:\tlearn: 0.1962816\ttotal: 6.54s\tremaining: 16.4s\n285:\tlearn: 0.1962083\ttotal: 6.56s\tremaining: 16.4s\n286:\tlearn: 0.1960918\ttotal: 6.61s\tremaining: 16.4s\n287:\tlearn: 0.1959836\ttotal: 6.64s\tremaining: 16.4s\n288:\tlearn: 0.1958713\ttotal: 6.67s\tremaining: 16.4s\n289:\tlearn: 0.1957561\ttotal: 6.68s\tremaining: 16.4s\n290:\tlearn: 0.1956896\ttotal: 6.71s\tremaining: 16.4s\n291:\tlearn: 0.1956462\ttotal: 6.74s\tremaining: 16.3s\n292:\tlearn: 0.1955333\ttotal: 6.75s\tremaining: 16.3s\n293:\tlearn: 0.1954057\ttotal: 6.77s\tremaining: 16.3s\n294:\tlearn: 0.1953405\ttotal: 6.82s\tremaining: 16.3s\n295:\tlearn: 0.1952608\ttotal: 6.84s\tremaining: 16.3s\n296:\tlearn: 0.1951662\ttotal: 6.86s\tremaining: 16.2s\n297:\tlearn: 0.1950932\ttotal: 6.88s\tremaining: 16.2s\n298:\tlearn: 0.1949490\ttotal: 6.91s\tremaining: 16.2s\n299:\tlearn: 0.1948923\ttotal: 6.94s\tremaining: 16.2s\n300:\tlearn: 0.1947716\ttotal: 6.96s\tremaining: 16.2s\n301:\tlearn: 0.1946723\ttotal: 6.98s\tremaining: 16.1s\n302:\tlearn: 0.1944600\ttotal: 7.03s\tremaining: 16.2s\n303:\tlearn: 0.1943217\ttotal: 7.04s\tremaining: 16.1s\n304:\tlearn: 0.1941756\ttotal: 7.06s\tremaining: 16.1s\n305:\tlearn: 0.1940913\ttotal: 7.08s\tremaining: 16.1s\n306:\tlearn: 0.1939549\ttotal: 7.12s\tremaining: 16.1s\n307:\tlearn: 0.1938969\ttotal: 7.14s\tremaining: 16s\n308:\tlearn: 0.1937642\ttotal: 7.16s\tremaining: 16s\n309:\tlearn: 0.1936847\ttotal: 7.18s\tremaining: 16s\n310:\tlearn: 0.1936131\ttotal: 7.21s\tremaining: 16s\n311:\tlearn: 0.1934946\ttotal: 7.22s\tremaining: 15.9s\n312:\tlearn: 0.1934021\ttotal: 7.23s\tremaining: 15.9s\n313:\tlearn: 0.1932336\ttotal: 7.24s\tremaining: 15.8s\n314:\tlearn: 0.1930891\ttotal: 7.26s\tremaining: 15.8s\n315:\tlearn: 0.1929468\ttotal: 7.26s\tremaining: 15.7s\n316:\tlearn: 0.1928657\ttotal: 7.28s\tremaining: 15.7s\n317:\tlearn: 0.1927775\ttotal: 7.32s\tremaining: 15.7s\n318:\tlearn: 0.1926536\ttotal: 7.34s\tremaining: 15.7s\n319:\tlearn: 0.1925199\ttotal: 7.35s\tremaining: 15.6s\n320:\tlearn: 0.1923594\ttotal: 7.36s\tremaining: 15.6s\n321:\tlearn: 0.1922139\ttotal: 7.38s\tremaining: 15.6s\n322:\tlearn: 0.1921289\ttotal: 7.4s\tremaining: 15.5s\n323:\tlearn: 0.1920109\ttotal: 7.42s\tremaining: 15.5s\n324:\tlearn: 0.1919194\ttotal: 7.43s\tremaining: 15.4s\n325:\tlearn: 0.1918230\ttotal: 7.46s\tremaining: 15.4s\n326:\tlearn: 0.1916953\ttotal: 7.49s\tremaining: 15.4s\n327:\tlearn: 0.1915620\ttotal: 7.51s\tremaining: 15.4s\n328:\tlearn: 0.1914402\ttotal: 7.53s\tremaining: 15.4s\n329:\tlearn: 0.1913765\ttotal: 7.58s\tremaining: 15.4s\n330:\tlearn: 0.1912890\ttotal: 7.61s\tremaining: 15.4s\n331:\tlearn: 0.1911977\ttotal: 7.63s\tremaining: 15.4s\n332:\tlearn: 0.1910497\ttotal: 7.65s\tremaining: 15.3s\n333:\tlearn: 0.1909580\ttotal: 7.66s\tremaining: 15.3s\n334:\tlearn: 0.1908773\ttotal: 7.68s\tremaining: 15.2s\n335:\tlearn: 0.1907924\ttotal: 7.7s\tremaining: 15.2s\n336:\tlearn: 0.1906942\ttotal: 7.71s\tremaining: 15.2s\n337:\tlearn: 0.1906036\ttotal: 7.71s\tremaining: 15.1s\n338:\tlearn: 0.1904775\ttotal: 7.72s\tremaining: 15.1s\n339:\tlearn: 0.1903768\ttotal: 7.73s\tremaining: 15s\n340:\tlearn: 0.1902215\ttotal: 7.74s\tremaining: 15s\n341:\tlearn: 0.1901132\ttotal: 7.79s\tremaining: 15s\n342:\tlearn: 0.1899692\ttotal: 7.8s\tremaining: 14.9s\n343:\tlearn: 0.1898019\ttotal: 7.82s\tremaining: 14.9s\n344:\tlearn: 0.1896011\ttotal: 7.84s\tremaining: 14.9s\n345:\tlearn: 0.1895321\ttotal: 7.88s\tremaining: 14.9s\n346:\tlearn: 0.1893691\ttotal: 7.9s\tremaining: 14.9s\n347:\tlearn: 0.1892640\ttotal: 7.92s\tremaining: 14.8s\n348:\tlearn: 0.1891569\ttotal: 7.94s\tremaining: 14.8s\n349:\tlearn: 0.1890431\ttotal: 7.98s\tremaining: 14.8s\n350:\tlearn: 0.1889515\ttotal: 8s\tremaining: 14.8s\n351:\tlearn: 0.1888216\ttotal: 8.03s\tremaining: 14.8s\n352:\tlearn: 0.1887125\ttotal: 8.05s\tremaining: 14.8s\n353:\tlearn: 0.1886384\ttotal: 8.09s\tremaining: 14.8s\n354:\tlearn: 0.1885195\ttotal: 8.11s\tremaining: 14.7s\n355:\tlearn: 0.1884173\ttotal: 8.13s\tremaining: 14.7s\n356:\tlearn: 0.1881474\ttotal: 8.15s\tremaining: 14.7s\n357:\tlearn: 0.1880407\ttotal: 8.18s\tremaining: 14.7s\n358:\tlearn: 0.1879637\ttotal: 8.2s\tremaining: 14.6s\n359:\tlearn: 0.1878780\ttotal: 8.22s\tremaining: 14.6s\n360:\tlearn: 0.1877715\ttotal: 8.24s\tremaining: 14.6s\n361:\tlearn: 0.1876914\ttotal: 8.27s\tremaining: 14.6s\n362:\tlearn: 0.1875910\ttotal: 8.29s\tremaining: 14.5s\n363:\tlearn: 0.1875505\ttotal: 8.29s\tremaining: 14.5s\n364:\tlearn: 0.1873808\ttotal: 8.3s\tremaining: 14.4s\n365:\tlearn: 0.1872845\ttotal: 8.31s\tremaining: 14.4s\n366:\tlearn: 0.1871459\ttotal: 8.32s\tremaining: 14.3s\n367:\tlearn: 0.1869648\ttotal: 8.33s\tremaining: 14.3s\n368:\tlearn: 0.1869077\ttotal: 8.34s\tremaining: 14.3s\n369:\tlearn: 0.1867913\ttotal: 8.34s\tremaining: 14.2s\n370:\tlearn: 0.1866335\ttotal: 8.38s\tremaining: 14.2s\n371:\tlearn: 0.1864957\ttotal: 8.4s\tremaining: 14.2s\n372:\tlearn: 0.1863502\ttotal: 8.42s\tremaining: 14.2s\n373:\tlearn: 0.1862922\ttotal: 8.44s\tremaining: 14.1s\n374:\tlearn: 0.1861965\ttotal: 8.48s\tremaining: 14.1s\n375:\tlearn: 0.1861129\ttotal: 8.5s\tremaining: 14.1s\n376:\tlearn: 0.1860151\ttotal: 8.52s\tremaining: 14.1s\n377:\tlearn: 0.1859337\ttotal: 8.54s\tremaining: 14s\n378:\tlearn: 0.1858235\ttotal: 8.58s\tremaining: 14.1s\n379:\tlearn: 0.1856448\ttotal: 8.6s\tremaining: 14s\n380:\tlearn: 0.1855119\ttotal: 8.62s\tremaining: 14s\n381:\tlearn: 0.1854482\ttotal: 8.63s\tremaining: 14s\n382:\tlearn: 0.1853421\ttotal: 8.65s\tremaining: 13.9s\n383:\tlearn: 0.1852716\ttotal: 8.68s\tremaining: 13.9s\n384:\tlearn: 0.1851885\ttotal: 8.7s\tremaining: 13.9s\n385:\tlearn: 0.1851420\ttotal: 8.72s\tremaining: 13.9s\n386:\tlearn: 0.1850367\ttotal: 8.74s\tremaining: 13.8s\n387:\tlearn: 0.1849413\ttotal: 8.77s\tremaining: 13.8s\n388:\tlearn: 0.1848241\ttotal: 8.79s\tremaining: 13.8s\n389:\tlearn: 0.1847251\ttotal: 8.81s\tremaining: 13.8s\n390:\tlearn: 0.1845384\ttotal: 8.83s\tremaining: 13.8s\n391:\tlearn: 0.1844463\ttotal: 8.88s\tremaining: 13.8s\n392:\tlearn: 0.1843568\ttotal: 8.89s\tremaining: 13.7s\n393:\tlearn: 0.1843165\ttotal: 8.92s\tremaining: 13.7s\n394:\tlearn: 0.1842081\ttotal: 8.93s\tremaining: 13.7s\n395:\tlearn: 0.1841589\ttotal: 8.98s\tremaining: 13.7s\n396:\tlearn: 0.1841135\ttotal: 9s\tremaining: 13.7s\n397:\tlearn: 0.1840230\ttotal: 9.02s\tremaining: 13.6s\n398:\tlearn: 0.1839276\ttotal: 9.06s\tremaining: 13.7s\n399:\tlearn: 0.1838144\ttotal: 9.08s\tremaining: 13.6s\n400:\tlearn: 0.1837076\ttotal: 9.1s\tremaining: 13.6s\n401:\tlearn: 0.1836407\ttotal: 9.12s\tremaining: 13.6s\n402:\tlearn: 0.1835112\ttotal: 9.17s\tremaining: 13.6s\n403:\tlearn: 0.1834242\ttotal: 9.19s\tremaining: 13.6s\n404:\tlearn: 0.1833191\ttotal: 9.21s\tremaining: 13.5s\n405:\tlearn: 0.1832167\ttotal: 9.23s\tremaining: 13.5s\n406:\tlearn: 0.1831281\ttotal: 9.27s\tremaining: 13.5s\n407:\tlearn: 0.1830060\ttotal: 9.29s\tremaining: 13.5s\n408:\tlearn: 0.1829336\ttotal: 9.31s\tremaining: 13.5s\n409:\tlearn: 0.1828006\ttotal: 9.33s\tremaining: 13.4s\n410:\tlearn: 0.1826735\ttotal: 9.37s\tremaining: 13.4s\n411:\tlearn: 0.1825407\ttotal: 9.39s\tremaining: 13.4s\n412:\tlearn: 0.1824272\ttotal: 9.41s\tremaining: 13.4s\n413:\tlearn: 0.1823177\ttotal: 9.46s\tremaining: 13.4s\n414:\tlearn: 0.1822499\ttotal: 9.48s\tremaining: 13.4s\n415:\tlearn: 0.1821769\ttotal: 9.49s\tremaining: 13.3s\n416:\tlearn: 0.1820905\ttotal: 9.52s\tremaining: 13.3s\n417:\tlearn: 0.1819694\ttotal: 9.56s\tremaining: 13.3s\n418:\tlearn: 0.1818208\ttotal: 9.58s\tremaining: 13.3s\n419:\tlearn: 0.1817649\ttotal: 9.6s\tremaining: 13.3s\n420:\tlearn: 0.1816901\ttotal: 9.62s\tremaining: 13.2s\n421:\tlearn: 0.1815651\ttotal: 9.65s\tremaining: 13.2s\n422:\tlearn: 0.1814924\ttotal: 9.67s\tremaining: 13.2s\n423:\tlearn: 0.1814230\ttotal: 9.69s\tremaining: 13.2s\n424:\tlearn: 0.1812786\ttotal: 9.71s\tremaining: 13.1s\n425:\tlearn: 0.1812130\ttotal: 9.72s\tremaining: 13.1s\n426:\tlearn: 0.1811524\ttotal: 9.76s\tremaining: 13.1s\n427:\tlearn: 0.1810887\ttotal: 9.78s\tremaining: 13.1s\n428:\tlearn: 0.1809896\ttotal: 9.8s\tremaining: 13s\n429:\tlearn: 0.1808733\ttotal: 9.82s\tremaining: 13s\n430:\tlearn: 0.1808390\ttotal: 9.83s\tremaining: 13s\n431:\tlearn: 0.1807658\ttotal: 9.85s\tremaining: 13s\n432:\tlearn: 0.1806952\ttotal: 9.88s\tremaining: 12.9s\n433:\tlearn: 0.1805693\ttotal: 9.91s\tremaining: 12.9s\n434:\tlearn: 0.1805335\ttotal: 9.93s\tremaining: 12.9s\n435:\tlearn: 0.1804229\ttotal: 9.95s\tremaining: 12.9s\n436:\tlearn: 0.1803258\ttotal: 9.97s\tremaining: 12.8s\n437:\tlearn: 0.1802093\ttotal: 10s\tremaining: 12.9s\n438:\tlearn: 0.1801118\ttotal: 10s\tremaining: 12.8s\n439:\tlearn: 0.1800371\ttotal: 10.1s\tremaining: 12.8s\n440:\tlearn: 0.1799693\ttotal: 10.1s\tremaining: 12.8s\n441:\tlearn: 0.1798788\ttotal: 10.1s\tremaining: 12.8s\n442:\tlearn: 0.1798050\ttotal: 10.1s\tremaining: 12.7s\n443:\tlearn: 0.1796998\ttotal: 10.2s\tremaining: 12.7s\n444:\tlearn: 0.1794847\ttotal: 10.2s\tremaining: 12.7s\n445:\tlearn: 0.1794299\ttotal: 10.2s\tremaining: 12.7s\n446:\tlearn: 0.1793670\ttotal: 10.2s\tremaining: 12.7s\n447:\tlearn: 0.1792838\ttotal: 10.3s\tremaining: 12.6s\n448:\tlearn: 0.1792086\ttotal: 10.3s\tremaining: 12.6s\n449:\tlearn: 0.1790956\ttotal: 10.3s\tremaining: 12.6s\n450:\tlearn: 0.1790024\ttotal: 10.3s\tremaining: 12.6s\n451:\tlearn: 0.1789084\ttotal: 10.4s\tremaining: 12.6s\n452:\tlearn: 0.1788260\ttotal: 10.4s\tremaining: 12.5s\n453:\tlearn: 0.1787360\ttotal: 10.4s\tremaining: 12.5s\n454:\tlearn: 0.1786508\ttotal: 10.4s\tremaining: 12.5s\n455:\tlearn: 0.1785588\ttotal: 10.4s\tremaining: 12.5s\n456:\tlearn: 0.1785074\ttotal: 10.5s\tremaining: 12.4s\n457:\tlearn: 0.1784510\ttotal: 10.5s\tremaining: 12.4s\n458:\tlearn: 0.1783705\ttotal: 10.5s\tremaining: 12.4s\n459:\tlearn: 0.1783108\ttotal: 10.5s\tremaining: 12.4s\n460:\tlearn: 0.1782165\ttotal: 10.6s\tremaining: 12.4s\n461:\tlearn: 0.1781245\ttotal: 10.6s\tremaining: 12.3s\n462:\tlearn: 0.1780900\ttotal: 10.6s\tremaining: 12.3s\n463:\tlearn: 0.1779923\ttotal: 10.6s\tremaining: 12.3s\n464:\tlearn: 0.1779214\ttotal: 10.7s\tremaining: 12.3s\n465:\tlearn: 0.1778340\ttotal: 10.7s\tremaining: 12.2s\n466:\tlearn: 0.1777376\ttotal: 10.7s\tremaining: 12.2s\n467:\tlearn: 0.1776790\ttotal: 10.7s\tremaining: 12.2s\n468:\tlearn: 0.1776253\ttotal: 10.7s\tremaining: 12.1s\n469:\tlearn: 0.1775314\ttotal: 10.7s\tremaining: 12.1s\n470:\tlearn: 0.1773784\ttotal: 10.8s\tremaining: 12.1s\n471:\tlearn: 0.1772554\ttotal: 10.8s\tremaining: 12.1s\n472:\tlearn: 0.1771604\ttotal: 10.8s\tremaining: 12s\n473:\tlearn: 0.1770741\ttotal: 10.8s\tremaining: 12s\n474:\tlearn: 0.1769927\ttotal: 10.8s\tremaining: 12s\n475:\tlearn: 0.1768899\ttotal: 10.9s\tremaining: 12s\n476:\tlearn: 0.1768221\ttotal: 10.9s\tremaining: 12s\n477:\tlearn: 0.1767098\ttotal: 10.9s\tremaining: 11.9s\n478:\tlearn: 0.1766411\ttotal: 11s\tremaining: 11.9s\n479:\tlearn: 0.1765147\ttotal: 11s\tremaining: 11.9s\n480:\tlearn: 0.1764575\ttotal: 11s\tremaining: 11.9s\n481:\tlearn: 0.1764160\ttotal: 11s\tremaining: 11.9s\n482:\tlearn: 0.1763532\ttotal: 11.1s\tremaining: 11.8s\n483:\tlearn: 0.1762410\ttotal: 11.1s\tremaining: 11.8s\n484:\tlearn: 0.1761595\ttotal: 11.1s\tremaining: 11.8s\n485:\tlearn: 0.1761090\ttotal: 11.1s\tremaining: 11.8s\n486:\tlearn: 0.1760471\ttotal: 11.2s\tremaining: 11.8s\n487:\tlearn: 0.1759325\ttotal: 11.2s\tremaining: 11.8s\n488:\tlearn: 0.1758724\ttotal: 11.2s\tremaining: 11.7s\n489:\tlearn: 0.1757966\ttotal: 11.3s\tremaining: 11.7s\n490:\tlearn: 0.1756871\ttotal: 11.3s\tremaining: 11.7s\n491:\tlearn: 0.1756284\ttotal: 11.3s\tremaining: 11.7s\n492:\tlearn: 0.1755461\ttotal: 11.3s\tremaining: 11.7s\n493:\tlearn: 0.1754895\ttotal: 11.4s\tremaining: 11.6s\n494:\tlearn: 0.1753882\ttotal: 11.4s\tremaining: 11.6s\n495:\tlearn: 0.1752987\ttotal: 11.4s\tremaining: 11.6s\n496:\tlearn: 0.1752190\ttotal: 11.4s\tremaining: 11.6s\n497:\tlearn: 0.1751582\ttotal: 11.4s\tremaining: 11.5s\n498:\tlearn: 0.1750728\ttotal: 11.5s\tremaining: 11.5s\n499:\tlearn: 0.1749661\ttotal: 11.5s\tremaining: 11.5s\n500:\tlearn: 0.1748725\ttotal: 11.5s\tremaining: 11.5s\n501:\tlearn: 0.1747685\ttotal: 11.6s\tremaining: 11.5s\n502:\tlearn: 0.1746554\ttotal: 11.6s\tremaining: 11.5s\n503:\tlearn: 0.1745770\ttotal: 11.6s\tremaining: 11.4s\n504:\tlearn: 0.1744890\ttotal: 11.6s\tremaining: 11.4s\n505:\tlearn: 0.1743068\ttotal: 11.7s\tremaining: 11.4s\n506:\tlearn: 0.1742223\ttotal: 11.7s\tremaining: 11.4s\n507:\tlearn: 0.1741088\ttotal: 11.7s\tremaining: 11.4s\n508:\tlearn: 0.1740532\ttotal: 11.7s\tremaining: 11.3s\n509:\tlearn: 0.1739507\ttotal: 11.8s\tremaining: 11.3s\n510:\tlearn: 0.1738478\ttotal: 11.8s\tremaining: 11.3s\n511:\tlearn: 0.1737836\ttotal: 11.8s\tremaining: 11.3s\n512:\tlearn: 0.1736719\ttotal: 11.8s\tremaining: 11.2s\n513:\tlearn: 0.1735710\ttotal: 11.9s\tremaining: 11.2s\n514:\tlearn: 0.1735065\ttotal: 11.9s\tremaining: 11.2s\n515:\tlearn: 0.1734251\ttotal: 11.9s\tremaining: 11.2s\n516:\tlearn: 0.1732623\ttotal: 11.9s\tremaining: 11.2s\n517:\tlearn: 0.1731829\ttotal: 12s\tremaining: 11.1s\n518:\tlearn: 0.1731080\ttotal: 12s\tremaining: 11.1s\n519:\tlearn: 0.1730148\ttotal: 12s\tremaining: 11.1s\n520:\tlearn: 0.1728648\ttotal: 12s\tremaining: 11.1s\n521:\tlearn: 0.1727791\ttotal: 12.1s\tremaining: 11.1s\n522:\tlearn: 0.1726308\ttotal: 12.1s\tremaining: 11s\n523:\tlearn: 0.1725376\ttotal: 12.1s\tremaining: 11s\n524:\tlearn: 0.1724262\ttotal: 12.2s\tremaining: 11s\n525:\tlearn: 0.1722853\ttotal: 12.2s\tremaining: 11s\n526:\tlearn: 0.1721921\ttotal: 12.2s\tremaining: 11s\n527:\tlearn: 0.1720971\ttotal: 12.2s\tremaining: 10.9s\n528:\tlearn: 0.1720035\ttotal: 12.3s\tremaining: 10.9s\n529:\tlearn: 0.1719380\ttotal: 12.3s\tremaining: 10.9s\n530:\tlearn: 0.1718297\ttotal: 12.3s\tremaining: 10.9s\n531:\tlearn: 0.1717651\ttotal: 12.3s\tremaining: 10.8s\n532:\tlearn: 0.1716799\ttotal: 12.3s\tremaining: 10.8s\n533:\tlearn: 0.1715884\ttotal: 12.4s\tremaining: 10.8s\n534:\tlearn: 0.1714807\ttotal: 12.4s\tremaining: 10.8s\n535:\tlearn: 0.1713483\ttotal: 12.4s\tremaining: 10.8s\n536:\tlearn: 0.1712688\ttotal: 12.5s\tremaining: 10.7s\n537:\tlearn: 0.1711722\ttotal: 12.5s\tremaining: 10.7s\n538:\tlearn: 0.1711367\ttotal: 12.5s\tremaining: 10.7s\n539:\tlearn: 0.1710329\ttotal: 12.5s\tremaining: 10.7s\n540:\tlearn: 0.1709385\ttotal: 12.5s\tremaining: 10.6s\n541:\tlearn: 0.1708868\ttotal: 12.6s\tremaining: 10.6s\n542:\tlearn: 0.1708036\ttotal: 12.6s\tremaining: 10.6s\n543:\tlearn: 0.1707363\ttotal: 12.6s\tremaining: 10.6s\n544:\tlearn: 0.1706924\ttotal: 12.6s\tremaining: 10.5s\n545:\tlearn: 0.1705890\ttotal: 12.7s\tremaining: 10.5s\n546:\tlearn: 0.1704972\ttotal: 12.7s\tremaining: 10.5s\n547:\tlearn: 0.1704120\ttotal: 12.7s\tremaining: 10.5s\n548:\tlearn: 0.1703459\ttotal: 12.7s\tremaining: 10.4s\n549:\tlearn: 0.1702351\ttotal: 12.7s\tremaining: 10.4s\n550:\tlearn: 0.1701527\ttotal: 12.8s\tremaining: 10.4s\n551:\tlearn: 0.1700405\ttotal: 12.8s\tremaining: 10.4s\n552:\tlearn: 0.1699206\ttotal: 12.8s\tremaining: 10.4s\n553:\tlearn: 0.1698430\ttotal: 12.8s\tremaining: 10.3s\n554:\tlearn: 0.1697928\ttotal: 12.8s\tremaining: 10.3s\n555:\tlearn: 0.1696960\ttotal: 12.9s\tremaining: 10.3s\n556:\tlearn: 0.1696209\ttotal: 12.9s\tremaining: 10.3s\n557:\tlearn: 0.1695617\ttotal: 12.9s\tremaining: 10.2s\n558:\tlearn: 0.1694703\ttotal: 13s\tremaining: 10.2s\n559:\tlearn: 0.1693811\ttotal: 13s\tremaining: 10.2s\n560:\tlearn: 0.1692861\ttotal: 13s\tremaining: 10.2s\n561:\tlearn: 0.1692100\ttotal: 13s\tremaining: 10.2s\n562:\tlearn: 0.1691323\ttotal: 13.1s\tremaining: 10.2s\n563:\tlearn: 0.1690541\ttotal: 13.1s\tremaining: 10.1s\n564:\tlearn: 0.1689520\ttotal: 13.1s\tremaining: 10.1s\n565:\tlearn: 0.1688686\ttotal: 13.1s\tremaining: 10.1s\n566:\tlearn: 0.1687670\ttotal: 13.2s\tremaining: 10.1s\n567:\tlearn: 0.1686890\ttotal: 13.2s\tremaining: 10s\n568:\tlearn: 0.1685934\ttotal: 13.2s\tremaining: 10s\n569:\tlearn: 0.1685049\ttotal: 13.3s\tremaining: 10s\n570:\tlearn: 0.1684228\ttotal: 13.3s\tremaining: 9.99s\n571:\tlearn: 0.1683560\ttotal: 13.3s\tremaining: 9.96s\n572:\tlearn: 0.1682541\ttotal: 13.3s\tremaining: 9.94s\n573:\tlearn: 0.1681753\ttotal: 13.4s\tremaining: 9.93s\n574:\tlearn: 0.1680872\ttotal: 13.4s\tremaining: 9.91s\n575:\tlearn: 0.1680233\ttotal: 13.4s\tremaining: 9.88s\n576:\tlearn: 0.1679515\ttotal: 13.5s\tremaining: 9.88s\n577:\tlearn: 0.1678681\ttotal: 13.5s\tremaining: 9.85s\n578:\tlearn: 0.1677995\ttotal: 13.5s\tremaining: 9.82s\n579:\tlearn: 0.1677346\ttotal: 13.5s\tremaining: 9.8s\n580:\tlearn: 0.1676189\ttotal: 13.6s\tremaining: 9.79s\n581:\tlearn: 0.1675726\ttotal: 13.6s\tremaining: 9.76s\n582:\tlearn: 0.1675106\ttotal: 13.6s\tremaining: 9.74s\n583:\tlearn: 0.1674207\ttotal: 13.6s\tremaining: 9.71s\n584:\tlearn: 0.1673441\ttotal: 13.7s\tremaining: 9.71s\n585:\tlearn: 0.1672512\ttotal: 13.7s\tremaining: 9.68s\n586:\tlearn: 0.1671777\ttotal: 13.7s\tremaining: 9.66s\n587:\tlearn: 0.1671127\ttotal: 13.7s\tremaining: 9.63s\n588:\tlearn: 0.1670358\ttotal: 13.8s\tremaining: 9.62s\n589:\tlearn: 0.1669600\ttotal: 13.8s\tremaining: 9.59s\n590:\tlearn: 0.1669149\ttotal: 13.8s\tremaining: 9.57s\n591:\tlearn: 0.1668214\ttotal: 13.9s\tremaining: 9.56s\n592:\tlearn: 0.1667347\ttotal: 13.9s\tremaining: 9.53s\n593:\tlearn: 0.1666401\ttotal: 13.9s\tremaining: 9.51s\n594:\tlearn: 0.1665343\ttotal: 13.9s\tremaining: 9.48s\n595:\tlearn: 0.1664474\ttotal: 14s\tremaining: 9.47s\n596:\tlearn: 0.1663483\ttotal: 14s\tremaining: 9.43s\n597:\tlearn: 0.1662888\ttotal: 14s\tremaining: 9.4s\n598:\tlearn: 0.1661968\ttotal: 14s\tremaining: 9.38s\n599:\tlearn: 0.1661192\ttotal: 14s\tremaining: 9.35s\n600:\tlearn: 0.1660422\ttotal: 14.1s\tremaining: 9.34s\n601:\tlearn: 0.1659875\ttotal: 14.1s\tremaining: 9.31s\n602:\tlearn: 0.1659538\ttotal: 14.1s\tremaining: 9.29s\n603:\tlearn: 0.1658920\ttotal: 14.1s\tremaining: 9.26s\n604:\tlearn: 0.1658270\ttotal: 14.1s\tremaining: 9.23s\n605:\tlearn: 0.1657462\ttotal: 14.2s\tremaining: 9.21s\n606:\tlearn: 0.1656797\ttotal: 14.2s\tremaining: 9.18s\n607:\tlearn: 0.1656034\ttotal: 14.2s\tremaining: 9.15s\n608:\tlearn: 0.1655229\ttotal: 14.2s\tremaining: 9.12s\n609:\tlearn: 0.1654668\ttotal: 14.2s\tremaining: 9.08s\n610:\tlearn: 0.1653887\ttotal: 14.2s\tremaining: 9.05s\n611:\tlearn: 0.1653056\ttotal: 14.2s\tremaining: 9.02s\n612:\tlearn: 0.1652016\ttotal: 14.3s\tremaining: 9.01s\n613:\tlearn: 0.1651217\ttotal: 14.3s\tremaining: 8.98s\n614:\tlearn: 0.1650476\ttotal: 14.3s\tremaining: 8.96s\n615:\tlearn: 0.1649976\ttotal: 14.3s\tremaining: 8.93s\n616:\tlearn: 0.1649482\ttotal: 14.4s\tremaining: 8.92s\n617:\tlearn: 0.1649068\ttotal: 14.4s\tremaining: 8.89s\n618:\tlearn: 0.1648012\ttotal: 14.4s\tremaining: 8.86s\n619:\tlearn: 0.1647092\ttotal: 14.4s\tremaining: 8.84s\n620:\tlearn: 0.1646853\ttotal: 14.5s\tremaining: 8.82s\n621:\tlearn: 0.1646398\ttotal: 14.5s\tremaining: 8.8s\n622:\tlearn: 0.1646000\ttotal: 14.5s\tremaining: 8.77s\n623:\tlearn: 0.1644926\ttotal: 14.5s\tremaining: 8.75s\n624:\tlearn: 0.1644250\ttotal: 14.6s\tremaining: 8.74s\n625:\tlearn: 0.1643415\ttotal: 14.6s\tremaining: 8.71s\n626:\tlearn: 0.1642752\ttotal: 14.6s\tremaining: 8.68s\n627:\tlearn: 0.1641296\ttotal: 14.6s\tremaining: 8.66s\n628:\tlearn: 0.1640539\ttotal: 14.7s\tremaining: 8.65s\n629:\tlearn: 0.1639806\ttotal: 14.7s\tremaining: 8.62s\n630:\tlearn: 0.1639234\ttotal: 14.7s\tremaining: 8.6s\n631:\tlearn: 0.1638669\ttotal: 14.7s\tremaining: 8.57s\n632:\tlearn: 0.1637905\ttotal: 14.8s\tremaining: 8.56s\n633:\tlearn: 0.1637202\ttotal: 14.8s\tremaining: 8.53s\n634:\tlearn: 0.1636154\ttotal: 14.8s\tremaining: 8.51s\n635:\tlearn: 0.1635842\ttotal: 14.8s\tremaining: 8.48s\n636:\tlearn: 0.1635085\ttotal: 14.9s\tremaining: 8.46s\n637:\tlearn: 0.1634017\ttotal: 14.9s\tremaining: 8.44s\n638:\tlearn: 0.1633122\ttotal: 14.9s\tremaining: 8.41s\n639:\tlearn: 0.1632395\ttotal: 14.9s\tremaining: 8.39s\n640:\tlearn: 0.1631962\ttotal: 15s\tremaining: 8.38s\n641:\tlearn: 0.1631026\ttotal: 15s\tremaining: 8.35s\n642:\tlearn: 0.1630160\ttotal: 15s\tremaining: 8.32s\n643:\tlearn: 0.1629147\ttotal: 15s\tremaining: 8.3s\n644:\tlearn: 0.1628705\ttotal: 15.1s\tremaining: 8.29s\n645:\tlearn: 0.1627802\ttotal: 15.1s\tremaining: 8.26s\n646:\tlearn: 0.1627108\ttotal: 15.1s\tremaining: 8.24s\n647:\tlearn: 0.1626296\ttotal: 15.1s\tremaining: 8.21s\n648:\tlearn: 0.1624906\ttotal: 15.1s\tremaining: 8.18s\n649:\tlearn: 0.1624205\ttotal: 15.2s\tremaining: 8.16s\n650:\tlearn: 0.1623632\ttotal: 15.2s\tremaining: 8.13s\n651:\tlearn: 0.1623039\ttotal: 15.2s\tremaining: 8.11s\n652:\tlearn: 0.1622208\ttotal: 15.2s\tremaining: 8.08s\n653:\tlearn: 0.1621338\ttotal: 15.2s\tremaining: 8.06s\n654:\tlearn: 0.1620793\ttotal: 15.3s\tremaining: 8.04s\n655:\tlearn: 0.1620059\ttotal: 15.3s\tremaining: 8.02s\n656:\tlearn: 0.1618941\ttotal: 15.3s\tremaining: 7.99s\n657:\tlearn: 0.1618408\ttotal: 15.3s\tremaining: 7.96s\n658:\tlearn: 0.1617422\ttotal: 15.3s\tremaining: 7.94s\n659:\tlearn: 0.1616368\ttotal: 15.4s\tremaining: 7.92s\n660:\tlearn: 0.1615451\ttotal: 15.4s\tremaining: 7.89s\n661:\tlearn: 0.1614500\ttotal: 15.4s\tremaining: 7.88s\n662:\tlearn: 0.1614327\ttotal: 15.5s\tremaining: 7.85s\n663:\tlearn: 0.1614164\ttotal: 15.5s\tremaining: 7.83s\n664:\tlearn: 0.1613534\ttotal: 15.5s\tremaining: 7.8s\n665:\tlearn: 0.1612817\ttotal: 15.5s\tremaining: 7.79s\n666:\tlearn: 0.1612209\ttotal: 15.5s\tremaining: 7.76s\n667:\tlearn: 0.1611384\ttotal: 15.6s\tremaining: 7.74s\n668:\tlearn: 0.1610764\ttotal: 15.6s\tremaining: 7.71s\n669:\tlearn: 0.1609778\ttotal: 15.6s\tremaining: 7.7s\n670:\tlearn: 0.1609618\ttotal: 15.6s\tremaining: 7.67s\n671:\tlearn: 0.1608851\ttotal: 15.7s\tremaining: 7.65s\n672:\tlearn: 0.1608134\ttotal: 15.7s\tremaining: 7.62s\n673:\tlearn: 0.1607203\ttotal: 15.7s\tremaining: 7.61s\n674:\tlearn: 0.1606686\ttotal: 15.7s\tremaining: 7.58s\n675:\tlearn: 0.1605853\ttotal: 15.8s\tremaining: 7.56s\n676:\tlearn: 0.1605114\ttotal: 15.8s\tremaining: 7.53s\n677:\tlearn: 0.1604461\ttotal: 15.8s\tremaining: 7.51s\n678:\tlearn: 0.1603878\ttotal: 15.8s\tremaining: 7.48s\n679:\tlearn: 0.1603490\ttotal: 15.8s\tremaining: 7.46s\n680:\tlearn: 0.1602967\ttotal: 15.9s\tremaining: 7.45s\n681:\tlearn: 0.1601828\ttotal: 15.9s\tremaining: 7.42s\n682:\tlearn: 0.1601144\ttotal: 15.9s\tremaining: 7.39s\n683:\tlearn: 0.1600406\ttotal: 16s\tremaining: 7.37s\n684:\tlearn: 0.1599973\ttotal: 16s\tremaining: 7.36s\n685:\tlearn: 0.1599217\ttotal: 16s\tremaining: 7.33s\n686:\tlearn: 0.1598661\ttotal: 16s\tremaining: 7.31s\n687:\tlearn: 0.1598007\ttotal: 16.1s\tremaining: 7.28s\n688:\tlearn: 0.1597337\ttotal: 16.1s\tremaining: 7.27s\n689:\tlearn: 0.1596499\ttotal: 16.1s\tremaining: 7.25s\n690:\tlearn: 0.1595590\ttotal: 16.2s\tremaining: 7.22s\n691:\tlearn: 0.1594661\ttotal: 16.2s\tremaining: 7.2s\n692:\tlearn: 0.1593886\ttotal: 16.2s\tremaining: 7.18s\n693:\tlearn: 0.1592954\ttotal: 16.2s\tremaining: 7.15s\n694:\tlearn: 0.1592206\ttotal: 16.2s\tremaining: 7.13s\n695:\tlearn: 0.1591705\ttotal: 16.3s\tremaining: 7.1s\n696:\tlearn: 0.1590850\ttotal: 16.3s\tremaining: 7.08s\n697:\tlearn: 0.1589841\ttotal: 16.3s\tremaining: 7.05s\n698:\tlearn: 0.1589248\ttotal: 16.3s\tremaining: 7.03s\n699:\tlearn: 0.1588671\ttotal: 16.4s\tremaining: 7.02s\n700:\tlearn: 0.1587488\ttotal: 16.4s\tremaining: 6.99s\n701:\tlearn: 0.1586654\ttotal: 16.4s\tremaining: 6.97s\n702:\tlearn: 0.1585390\ttotal: 16.4s\tremaining: 6.95s\n703:\tlearn: 0.1585135\ttotal: 16.5s\tremaining: 6.92s\n704:\tlearn: 0.1584582\ttotal: 16.5s\tremaining: 6.9s\n705:\tlearn: 0.1583887\ttotal: 16.5s\tremaining: 6.88s\n706:\tlearn: 0.1583280\ttotal: 16.5s\tremaining: 6.86s\n707:\tlearn: 0.1582426\ttotal: 16.6s\tremaining: 6.83s\n708:\tlearn: 0.1581652\ttotal: 16.6s\tremaining: 6.82s\n709:\tlearn: 0.1580960\ttotal: 16.6s\tremaining: 6.8s\n710:\tlearn: 0.1580360\ttotal: 16.7s\tremaining: 6.78s\n711:\tlearn: 0.1579689\ttotal: 16.7s\tremaining: 6.75s\n712:\tlearn: 0.1578578\ttotal: 16.7s\tremaining: 6.72s\n713:\tlearn: 0.1577956\ttotal: 16.7s\tremaining: 6.7s\n714:\tlearn: 0.1577206\ttotal: 16.7s\tremaining: 6.67s\n715:\tlearn: 0.1576551\ttotal: 16.8s\tremaining: 6.65s\n716:\tlearn: 0.1575774\ttotal: 16.8s\tremaining: 6.63s\n717:\tlearn: 0.1574971\ttotal: 16.8s\tremaining: 6.6s\n718:\tlearn: 0.1574130\ttotal: 16.8s\tremaining: 6.58s\n719:\tlearn: 0.1573389\ttotal: 16.9s\tremaining: 6.56s\n720:\tlearn: 0.1572666\ttotal: 16.9s\tremaining: 6.54s\n721:\tlearn: 0.1571838\ttotal: 17s\tremaining: 6.54s\n722:\tlearn: 0.1571197\ttotal: 17s\tremaining: 6.52s\n723:\tlearn: 0.1570592\ttotal: 17s\tremaining: 6.5s\n724:\tlearn: 0.1570065\ttotal: 17.1s\tremaining: 6.48s\n725:\tlearn: 0.1569250\ttotal: 17.1s\tremaining: 6.46s\n726:\tlearn: 0.1568232\ttotal: 17.1s\tremaining: 6.43s\n727:\tlearn: 0.1567564\ttotal: 17.1s\tremaining: 6.4s\n728:\tlearn: 0.1566895\ttotal: 17.1s\tremaining: 6.38s\n729:\tlearn: 0.1566438\ttotal: 17.2s\tremaining: 6.35s\n730:\tlearn: 0.1565535\ttotal: 17.2s\tremaining: 6.33s\n731:\tlearn: 0.1565114\ttotal: 17.2s\tremaining: 6.3s\n732:\tlearn: 0.1564422\ttotal: 17.2s\tremaining: 6.27s\n733:\tlearn: 0.1564207\ttotal: 17.3s\tremaining: 6.25s\n734:\tlearn: 0.1563416\ttotal: 17.3s\tremaining: 6.23s\n735:\tlearn: 0.1563148\ttotal: 17.3s\tremaining: 6.2s\n736:\tlearn: 0.1562451\ttotal: 17.3s\tremaining: 6.18s\n737:\tlearn: 0.1561468\ttotal: 17.3s\tremaining: 6.15s\n738:\tlearn: 0.1560476\ttotal: 17.3s\tremaining: 6.13s\n739:\tlearn: 0.1559748\ttotal: 17.4s\tremaining: 6.1s\n740:\tlearn: 0.1559119\ttotal: 17.4s\tremaining: 6.07s\n741:\tlearn: 0.1558193\ttotal: 17.4s\tremaining: 6.04s\n742:\tlearn: 0.1557948\ttotal: 17.4s\tremaining: 6.01s\n743:\tlearn: 0.1557379\ttotal: 17.4s\tremaining: 5.98s\n744:\tlearn: 0.1556765\ttotal: 17.4s\tremaining: 5.96s\n745:\tlearn: 0.1556206\ttotal: 17.4s\tremaining: 5.93s\n746:\tlearn: 0.1555276\ttotal: 17.5s\tremaining: 5.91s\n747:\tlearn: 0.1554803\ttotal: 17.5s\tremaining: 5.89s\n748:\tlearn: 0.1554172\ttotal: 17.5s\tremaining: 5.87s\n749:\tlearn: 0.1553374\ttotal: 17.5s\tremaining: 5.84s\n750:\tlearn: 0.1552903\ttotal: 17.5s\tremaining: 5.82s\n751:\tlearn: 0.1551971\ttotal: 17.6s\tremaining: 5.79s\n752:\tlearn: 0.1551213\ttotal: 17.6s\tremaining: 5.77s\n753:\tlearn: 0.1550575\ttotal: 17.6s\tremaining: 5.75s\n754:\tlearn: 0.1550056\ttotal: 17.6s\tremaining: 5.73s\n755:\tlearn: 0.1549106\ttotal: 17.7s\tremaining: 5.7s\n756:\tlearn: 0.1548540\ttotal: 17.7s\tremaining: 5.68s\n757:\tlearn: 0.1547953\ttotal: 17.8s\tremaining: 5.67s\n758:\tlearn: 0.1547772\ttotal: 17.8s\tremaining: 5.64s\n759:\tlearn: 0.1547118\ttotal: 17.8s\tremaining: 5.62s\n760:\tlearn: 0.1546437\ttotal: 17.8s\tremaining: 5.6s\n761:\tlearn: 0.1546133\ttotal: 17.9s\tremaining: 5.58s\n762:\tlearn: 0.1545668\ttotal: 17.9s\tremaining: 5.56s\n763:\tlearn: 0.1545097\ttotal: 17.9s\tremaining: 5.54s\n764:\tlearn: 0.1544583\ttotal: 17.9s\tremaining: 5.51s\n765:\tlearn: 0.1543724\ttotal: 18s\tremaining: 5.49s\n766:\tlearn: 0.1543243\ttotal: 18s\tremaining: 5.46s\n767:\tlearn: 0.1542708\ttotal: 18s\tremaining: 5.45s\n768:\tlearn: 0.1542103\ttotal: 18.1s\tremaining: 5.43s\n769:\tlearn: 0.1541542\ttotal: 18.1s\tremaining: 5.4s\n770:\tlearn: 0.1540886\ttotal: 18.1s\tremaining: 5.38s\n771:\tlearn: 0.1540550\ttotal: 18.2s\tremaining: 5.36s\n772:\tlearn: 0.1539722\ttotal: 18.2s\tremaining: 5.34s\n773:\tlearn: 0.1539082\ttotal: 18.2s\tremaining: 5.32s\n774:\tlearn: 0.1538422\ttotal: 18.2s\tremaining: 5.29s\n775:\tlearn: 0.1537707\ttotal: 18.3s\tremaining: 5.27s\n776:\tlearn: 0.1537112\ttotal: 18.3s\tremaining: 5.25s\n777:\tlearn: 0.1536905\ttotal: 18.3s\tremaining: 5.22s\n778:\tlearn: 0.1536447\ttotal: 18.3s\tremaining: 5.2s\n779:\tlearn: 0.1536217\ttotal: 18.3s\tremaining: 5.17s\n780:\tlearn: 0.1535418\ttotal: 18.3s\tremaining: 5.14s\n781:\tlearn: 0.1534929\ttotal: 18.4s\tremaining: 5.12s\n782:\tlearn: 0.1534672\ttotal: 18.4s\tremaining: 5.09s\n783:\tlearn: 0.1534157\ttotal: 18.4s\tremaining: 5.08s\n784:\tlearn: 0.1533755\ttotal: 18.4s\tremaining: 5.05s\n785:\tlearn: 0.1532895\ttotal: 18.5s\tremaining: 5.03s\n786:\tlearn: 0.1532260\ttotal: 18.5s\tremaining: 5.02s\n787:\tlearn: 0.1531705\ttotal: 18.6s\tremaining: 4.99s\n788:\tlearn: 0.1531257\ttotal: 18.6s\tremaining: 4.98s\n789:\tlearn: 0.1530539\ttotal: 18.7s\tremaining: 4.96s\n790:\tlearn: 0.1529648\ttotal: 18.7s\tremaining: 4.95s\n791:\tlearn: 0.1528680\ttotal: 18.8s\tremaining: 4.93s\n792:\tlearn: 0.1527573\ttotal: 18.8s\tremaining: 4.91s\n793:\tlearn: 0.1527042\ttotal: 18.8s\tremaining: 4.88s\n794:\tlearn: 0.1526124\ttotal: 18.8s\tremaining: 4.86s\n795:\tlearn: 0.1525348\ttotal: 18.9s\tremaining: 4.83s\n796:\tlearn: 0.1524417\ttotal: 18.9s\tremaining: 4.81s\n797:\tlearn: 0.1523886\ttotal: 18.9s\tremaining: 4.78s\n798:\tlearn: 0.1523418\ttotal: 18.9s\tremaining: 4.75s\n799:\tlearn: 0.1522924\ttotal: 18.9s\tremaining: 4.73s\n800:\tlearn: 0.1521958\ttotal: 18.9s\tremaining: 4.7s\n801:\tlearn: 0.1521230\ttotal: 18.9s\tremaining: 4.67s\n802:\tlearn: 0.1520568\ttotal: 18.9s\tremaining: 4.64s\n803:\tlearn: 0.1520029\ttotal: 18.9s\tremaining: 4.62s\n804:\tlearn: 0.1519161\ttotal: 19s\tremaining: 4.59s\n805:\tlearn: 0.1518452\ttotal: 19s\tremaining: 4.57s\n806:\tlearn: 0.1517853\ttotal: 19s\tremaining: 4.54s\n807:\tlearn: 0.1517108\ttotal: 19s\tremaining: 4.51s\n808:\tlearn: 0.1516321\ttotal: 19s\tremaining: 4.49s\n809:\tlearn: 0.1515641\ttotal: 19s\tremaining: 4.46s\n810:\tlearn: 0.1514883\ttotal: 19s\tremaining: 4.43s\n811:\tlearn: 0.1514458\ttotal: 19s\tremaining: 4.41s\n812:\tlearn: 0.1513604\ttotal: 19s\tremaining: 4.38s\n813:\tlearn: 0.1512794\ttotal: 19s\tremaining: 4.35s\n814:\tlearn: 0.1512145\ttotal: 19.1s\tremaining: 4.33s\n815:\tlearn: 0.1511312\ttotal: 19.1s\tremaining: 4.3s\n816:\tlearn: 0.1510726\ttotal: 19.1s\tremaining: 4.28s\n817:\tlearn: 0.1510010\ttotal: 19.1s\tremaining: 4.25s\n818:\tlearn: 0.1508859\ttotal: 19.1s\tremaining: 4.23s\n819:\tlearn: 0.1508141\ttotal: 19.1s\tremaining: 4.2s\n820:\tlearn: 0.1507475\ttotal: 19.2s\tremaining: 4.18s\n821:\tlearn: 0.1506923\ttotal: 19.2s\tremaining: 4.15s\n822:\tlearn: 0.1506497\ttotal: 19.2s\tremaining: 4.13s\n823:\tlearn: 0.1505838\ttotal: 19.2s\tremaining: 4.1s\n824:\tlearn: 0.1505462\ttotal: 19.2s\tremaining: 4.07s\n825:\tlearn: 0.1504879\ttotal: 19.2s\tremaining: 4.05s\n826:\tlearn: 0.1503881\ttotal: 19.2s\tremaining: 4.02s\n827:\tlearn: 0.1503155\ttotal: 19.3s\tremaining: 4s\n",
     "output_type": "stream"
    }
   ],
   "execution_count": null
  },
  {
   "cell_type": "markdown",
   "source": "### Mult Models",
   "metadata": {
    "tags": [],
    "cell_id": "00013-f51a4a65-a7eb-4087-8271-5640094b9bcf",
    "deepnote_cell_type": "markdown"
   }
  },
  {
   "cell_type": "code",
   "metadata": {
    "tags": [],
    "cell_id": "00014-2b76123b-819d-4261-91e6-6c84b07b4c70",
    "deepnote_to_be_reexecuted": true,
    "source_hash": "ad1a164a",
    "execution_start": 1620980578536,
    "execution_millis": 43,
    "deepnote_cell_type": "code"
   },
   "source": "cat_4_mult_Models = pipeline.Pipeline(steps=[\n    ('one hot', preprocessing.OneHotEncoder(handle_unknown='ignore'))])\n\n\nnum_4_mult_Models=pipeline.Pipeline(steps=[\n    ((\"quantile transformer\",preprocessing.QuantileTransformer(n_quantiles=100, random_state=0,\n    output_distribution='normal')))])\n\n\nmult_prepro=compose.ColumnTransformer(transformers=[\n    (\"categorical\",cat_4_mult_Models,cat_vars),\n    (\"numerical\",num_4_mult_Models,num_vars)]) \n\nmult_prepro",
   "outputs": [
    {
     "output_type": "execute_result",
     "execution_count": 109,
     "data": {
      "text/plain": "ColumnTransformer(transformers=[('categorical',\n                                 Pipeline(steps=[('one hot',\n                                                  OneHotEncoder(handle_unknown='ignore'))]),\n                                 ['Month', 'OperatingSystems', 'Browser',\n                                  'Region', 'TrafficType', 'VisitorType',\n                                  'Weekend']),\n                                ('numerical',\n                                 Pipeline(steps=[('quantile transformer',\n                                                  QuantileTransformer(n_quantiles=100,\n                                                                      output_distribution='normal',\n                                                                      random_state=0))]),\n                                 ['Administrative_Duration',\n                                  'Informational_Duration',\n                                  'ProductRelated_Duration', 'BounceRates',\n                                  'ExitRates', 'PageValues', 'ProductRelated',\n                                  'SpecialDay', 'Administrative',\n                                  'Informational'])])",
      "text/html": "<style>#sk-6a9b8d86-6a02-466e-ab69-7a5d4e6489a8 {color: black;background-color: white;}#sk-6a9b8d86-6a02-466e-ab69-7a5d4e6489a8 pre{padding: 0;}#sk-6a9b8d86-6a02-466e-ab69-7a5d4e6489a8 div.sk-toggleable {background-color: white;}#sk-6a9b8d86-6a02-466e-ab69-7a5d4e6489a8 label.sk-toggleable__label {cursor: pointer;display: block;width: 100%;margin-bottom: 0;padding: 0.2em 0.3em;box-sizing: border-box;text-align: center;}#sk-6a9b8d86-6a02-466e-ab69-7a5d4e6489a8 div.sk-toggleable__content {max-height: 0;max-width: 0;overflow: hidden;text-align: left;background-color: #f0f8ff;}#sk-6a9b8d86-6a02-466e-ab69-7a5d4e6489a8 div.sk-toggleable__content pre {margin: 0.2em;color: black;border-radius: 0.25em;background-color: #f0f8ff;}#sk-6a9b8d86-6a02-466e-ab69-7a5d4e6489a8 input.sk-toggleable__control:checked~div.sk-toggleable__content {max-height: 200px;max-width: 100%;overflow: auto;}#sk-6a9b8d86-6a02-466e-ab69-7a5d4e6489a8 div.sk-estimator input.sk-toggleable__control:checked~label.sk-toggleable__label {background-color: #d4ebff;}#sk-6a9b8d86-6a02-466e-ab69-7a5d4e6489a8 div.sk-label input.sk-toggleable__control:checked~label.sk-toggleable__label {background-color: #d4ebff;}#sk-6a9b8d86-6a02-466e-ab69-7a5d4e6489a8 input.sk-hidden--visually {border: 0;clip: rect(1px 1px 1px 1px);clip: rect(1px, 1px, 1px, 1px);height: 1px;margin: -1px;overflow: hidden;padding: 0;position: absolute;width: 1px;}#sk-6a9b8d86-6a02-466e-ab69-7a5d4e6489a8 div.sk-estimator {font-family: monospace;background-color: #f0f8ff;margin: 0.25em 0.25em;border: 1px dotted black;border-radius: 0.25em;box-sizing: border-box;}#sk-6a9b8d86-6a02-466e-ab69-7a5d4e6489a8 div.sk-estimator:hover {background-color: #d4ebff;}#sk-6a9b8d86-6a02-466e-ab69-7a5d4e6489a8 div.sk-parallel-item::after {content: \"\";width: 100%;border-bottom: 1px solid gray;flex-grow: 1;}#sk-6a9b8d86-6a02-466e-ab69-7a5d4e6489a8 div.sk-label:hover label.sk-toggleable__label {background-color: #d4ebff;}#sk-6a9b8d86-6a02-466e-ab69-7a5d4e6489a8 div.sk-serial::before {content: \"\";position: absolute;border-left: 1px solid gray;box-sizing: border-box;top: 2em;bottom: 0;left: 50%;}#sk-6a9b8d86-6a02-466e-ab69-7a5d4e6489a8 div.sk-serial {display: flex;flex-direction: column;align-items: center;background-color: white;}#sk-6a9b8d86-6a02-466e-ab69-7a5d4e6489a8 div.sk-item {z-index: 1;}#sk-6a9b8d86-6a02-466e-ab69-7a5d4e6489a8 div.sk-parallel {display: flex;align-items: stretch;justify-content: center;background-color: white;}#sk-6a9b8d86-6a02-466e-ab69-7a5d4e6489a8 div.sk-parallel-item {display: flex;flex-direction: column;position: relative;background-color: white;}#sk-6a9b8d86-6a02-466e-ab69-7a5d4e6489a8 div.sk-parallel-item:first-child::after {align-self: flex-end;width: 50%;}#sk-6a9b8d86-6a02-466e-ab69-7a5d4e6489a8 div.sk-parallel-item:last-child::after {align-self: flex-start;width: 50%;}#sk-6a9b8d86-6a02-466e-ab69-7a5d4e6489a8 div.sk-parallel-item:only-child::after {width: 0;}#sk-6a9b8d86-6a02-466e-ab69-7a5d4e6489a8 div.sk-dashed-wrapped {border: 1px dashed gray;margin: 0.2em;box-sizing: border-box;padding-bottom: 0.1em;background-color: white;position: relative;}#sk-6a9b8d86-6a02-466e-ab69-7a5d4e6489a8 div.sk-label label {font-family: monospace;font-weight: bold;background-color: white;display: inline-block;line-height: 1.2em;}#sk-6a9b8d86-6a02-466e-ab69-7a5d4e6489a8 div.sk-label-container {position: relative;z-index: 2;text-align: center;}#sk-6a9b8d86-6a02-466e-ab69-7a5d4e6489a8 div.sk-container {display: inline-block;position: relative;}</style><div id=\"sk-6a9b8d86-6a02-466e-ab69-7a5d4e6489a8\" class\"sk-top-container\"><div class=\"sk-container\"><div class=\"sk-item sk-dashed-wrapped\"><div class=\"sk-label-container\"><div class=\"sk-label sk-toggleable\"><input class=\"sk-toggleable__control sk-hidden--visually\" id=\"9079f462-249b-4926-b691-734be9b6be2a\" type=\"checkbox\" ><label class=\"sk-toggleable__label\" for=\"9079f462-249b-4926-b691-734be9b6be2a\">ColumnTransformer</label><div class=\"sk-toggleable__content\"><pre>ColumnTransformer(transformers=[('categorical',\n                                 Pipeline(steps=[('one hot',\n                                                  OneHotEncoder(handle_unknown='ignore'))]),\n                                 ['Month', 'OperatingSystems', 'Browser',\n                                  'Region', 'TrafficType', 'VisitorType',\n                                  'Weekend']),\n                                ('numerical',\n                                 Pipeline(steps=[('quantile transformer',\n                                                  QuantileTransformer(n_quantiles=100,\n                                                                      output_distribution='normal',\n                                                                      random_state=0))]),\n                                 ['Administrative_Duration',\n                                  'Informational_Duration',\n                                  'ProductRelated_Duration', 'BounceRates',\n                                  'ExitRates', 'PageValues', 'ProductRelated',\n                                  'SpecialDay', 'Administrative',\n                                  'Informational'])])</pre></div></div></div><div class=\"sk-parallel\"><div class=\"sk-parallel-item\"><div class=\"sk-item\"><div class=\"sk-label-container\"><div class=\"sk-label sk-toggleable\"><input class=\"sk-toggleable__control sk-hidden--visually\" id=\"a0046a32-5c40-4d24-a2d8-1b35a292c46a\" type=\"checkbox\" ><label class=\"sk-toggleable__label\" for=\"a0046a32-5c40-4d24-a2d8-1b35a292c46a\">categorical</label><div class=\"sk-toggleable__content\"><pre>['Month', 'OperatingSystems', 'Browser', 'Region', 'TrafficType', 'VisitorType', 'Weekend']</pre></div></div></div><div class=\"sk-serial\"><div class=\"sk-item\"><div class=\"sk-serial\"><div class=\"sk-item\"><div class=\"sk-estimator sk-toggleable\"><input class=\"sk-toggleable__control sk-hidden--visually\" id=\"07f2d0c7-6dfc-4968-b177-d19d980ada76\" type=\"checkbox\" ><label class=\"sk-toggleable__label\" for=\"07f2d0c7-6dfc-4968-b177-d19d980ada76\">OneHotEncoder</label><div class=\"sk-toggleable__content\"><pre>OneHotEncoder(handle_unknown='ignore')</pre></div></div></div></div></div></div></div></div><div class=\"sk-parallel-item\"><div class=\"sk-item\"><div class=\"sk-label-container\"><div class=\"sk-label sk-toggleable\"><input class=\"sk-toggleable__control sk-hidden--visually\" id=\"85ea1ead-4017-4d5e-ab89-f4c24e9744b7\" type=\"checkbox\" ><label class=\"sk-toggleable__label\" for=\"85ea1ead-4017-4d5e-ab89-f4c24e9744b7\">numerical</label><div class=\"sk-toggleable__content\"><pre>['Administrative_Duration', 'Informational_Duration', 'ProductRelated_Duration', 'BounceRates', 'ExitRates', 'PageValues', 'ProductRelated', 'SpecialDay', 'Administrative', 'Informational']</pre></div></div></div><div class=\"sk-serial\"><div class=\"sk-item\"><div class=\"sk-serial\"><div class=\"sk-item\"><div class=\"sk-estimator sk-toggleable\"><input class=\"sk-toggleable__control sk-hidden--visually\" id=\"81db5812-8350-4b10-b367-de7c21bbc1fc\" type=\"checkbox\" ><label class=\"sk-toggleable__label\" for=\"81db5812-8350-4b10-b367-de7c21bbc1fc\">QuantileTransformer</label><div class=\"sk-toggleable__content\"><pre>QuantileTransformer(n_quantiles=100, output_distribution='normal',\n                    random_state=0)</pre></div></div></div></div></div></div></div></div></div></div></div></div>"
     },
     "metadata": {}
    }
   ],
   "execution_count": null
  },
  {
   "cell_type": "code",
   "metadata": {
    "tags": [],
    "cell_id": "00013-44a46f8b-2cd8-4d18-b0bd-1b93c68140fd",
    "deepnote_to_be_reexecuted": true,
    "source_hash": "dcb082b0",
    "execution_start": 1620980579806,
    "execution_millis": 12,
    "deepnote_cell_type": "code"
   },
   "source": "from sklearn import svm\nfrom sklearn.linear_model import LogisticRegression\nfrom sklearn.neighbors import KNeighborsClassifier\nfrom sklearn.neural_network import MLPClassifier\nfrom sklearn.naive_bayes import GaussianNB\nfrom sklearn.discriminant_analysis import LinearDiscriminantAnalysis\n",
   "outputs": [],
   "execution_count": null
  },
  {
   "cell_type": "code",
   "metadata": {
    "tags": [],
    "cell_id": "00015-3eabe38b-e737-4ba4-9aa3-6023aea99311",
    "deepnote_to_be_reexecuted": true,
    "source_hash": "5584ce8d",
    "execution_start": 1620987059412,
    "execution_millis": 265,
    "deepnote_cell_type": "code"
   },
   "source": "mult_pipelines={\n    \"SVM\": svm.SVC(),\n    \"Logistic\": LogisticRegression(max_iter=500),\n    \"KNN\":KNeighborsClassifier(n_neighbors=3),\n    \"MLP\":MLPClassifier(solver='lbfgs', alpha=1e-5,hidden_layer_sizes=(5, 2), random_state=1)}\n\nmult_pipelines = {name: pipeline.make_pipeline(mult_prepro, model) for name, model in mult_pipelines.items()}\n\nmult_pipelines[\"SVM\"]",
   "outputs": [
    {
     "output_type": "execute_result",
     "execution_count": 187,
     "data": {
      "text/plain": "Pipeline(steps=[('columntransformer',\n                 ColumnTransformer(transformers=[('categorical',\n                                                  Pipeline(steps=[('one hot',\n                                                                   OneHotEncoder(handle_unknown='ignore'))]),\n                                                  ['Month', 'OperatingSystems',\n                                                   'Browser', 'Region',\n                                                   'TrafficType', 'VisitorType',\n                                                   'Weekend']),\n                                                 ('numerical',\n                                                  Pipeline(steps=[('quantile '\n                                                                   'transformer',\n                                                                   QuantileTransformer(n_quantiles=100,\n                                                                                       output_distribution='normal',\n                                                                                       random_state=0))]),\n                                                  ['Administrative_Duration',\n                                                   'Informational_Duration',\n                                                   'ProductRelated_Duration',\n                                                   'BounceRates', 'ExitRates',\n                                                   'PageValues',\n                                                   'ProductRelated',\n                                                   'SpecialDay',\n                                                   'Administrative',\n                                                   'Informational'])])),\n                ('svc', SVC())])",
      "text/html": "<style>#sk-139b1315-256c-4f9b-ace2-29b7268a2006 {color: black;background-color: white;}#sk-139b1315-256c-4f9b-ace2-29b7268a2006 pre{padding: 0;}#sk-139b1315-256c-4f9b-ace2-29b7268a2006 div.sk-toggleable {background-color: white;}#sk-139b1315-256c-4f9b-ace2-29b7268a2006 label.sk-toggleable__label {cursor: pointer;display: block;width: 100%;margin-bottom: 0;padding: 0.2em 0.3em;box-sizing: border-box;text-align: center;}#sk-139b1315-256c-4f9b-ace2-29b7268a2006 div.sk-toggleable__content {max-height: 0;max-width: 0;overflow: hidden;text-align: left;background-color: #f0f8ff;}#sk-139b1315-256c-4f9b-ace2-29b7268a2006 div.sk-toggleable__content pre {margin: 0.2em;color: black;border-radius: 0.25em;background-color: #f0f8ff;}#sk-139b1315-256c-4f9b-ace2-29b7268a2006 input.sk-toggleable__control:checked~div.sk-toggleable__content {max-height: 200px;max-width: 100%;overflow: auto;}#sk-139b1315-256c-4f9b-ace2-29b7268a2006 div.sk-estimator input.sk-toggleable__control:checked~label.sk-toggleable__label {background-color: #d4ebff;}#sk-139b1315-256c-4f9b-ace2-29b7268a2006 div.sk-label input.sk-toggleable__control:checked~label.sk-toggleable__label {background-color: #d4ebff;}#sk-139b1315-256c-4f9b-ace2-29b7268a2006 input.sk-hidden--visually {border: 0;clip: rect(1px 1px 1px 1px);clip: rect(1px, 1px, 1px, 1px);height: 1px;margin: -1px;overflow: hidden;padding: 0;position: absolute;width: 1px;}#sk-139b1315-256c-4f9b-ace2-29b7268a2006 div.sk-estimator {font-family: monospace;background-color: #f0f8ff;margin: 0.25em 0.25em;border: 1px dotted black;border-radius: 0.25em;box-sizing: border-box;}#sk-139b1315-256c-4f9b-ace2-29b7268a2006 div.sk-estimator:hover {background-color: #d4ebff;}#sk-139b1315-256c-4f9b-ace2-29b7268a2006 div.sk-parallel-item::after {content: \"\";width: 100%;border-bottom: 1px solid gray;flex-grow: 1;}#sk-139b1315-256c-4f9b-ace2-29b7268a2006 div.sk-label:hover label.sk-toggleable__label {background-color: #d4ebff;}#sk-139b1315-256c-4f9b-ace2-29b7268a2006 div.sk-serial::before {content: \"\";position: absolute;border-left: 1px solid gray;box-sizing: border-box;top: 2em;bottom: 0;left: 50%;}#sk-139b1315-256c-4f9b-ace2-29b7268a2006 div.sk-serial {display: flex;flex-direction: column;align-items: center;background-color: white;}#sk-139b1315-256c-4f9b-ace2-29b7268a2006 div.sk-item {z-index: 1;}#sk-139b1315-256c-4f9b-ace2-29b7268a2006 div.sk-parallel {display: flex;align-items: stretch;justify-content: center;background-color: white;}#sk-139b1315-256c-4f9b-ace2-29b7268a2006 div.sk-parallel-item {display: flex;flex-direction: column;position: relative;background-color: white;}#sk-139b1315-256c-4f9b-ace2-29b7268a2006 div.sk-parallel-item:first-child::after {align-self: flex-end;width: 50%;}#sk-139b1315-256c-4f9b-ace2-29b7268a2006 div.sk-parallel-item:last-child::after {align-self: flex-start;width: 50%;}#sk-139b1315-256c-4f9b-ace2-29b7268a2006 div.sk-parallel-item:only-child::after {width: 0;}#sk-139b1315-256c-4f9b-ace2-29b7268a2006 div.sk-dashed-wrapped {border: 1px dashed gray;margin: 0.2em;box-sizing: border-box;padding-bottom: 0.1em;background-color: white;position: relative;}#sk-139b1315-256c-4f9b-ace2-29b7268a2006 div.sk-label label {font-family: monospace;font-weight: bold;background-color: white;display: inline-block;line-height: 1.2em;}#sk-139b1315-256c-4f9b-ace2-29b7268a2006 div.sk-label-container {position: relative;z-index: 2;text-align: center;}#sk-139b1315-256c-4f9b-ace2-29b7268a2006 div.sk-container {display: inline-block;position: relative;}</style><div id=\"sk-139b1315-256c-4f9b-ace2-29b7268a2006\" class\"sk-top-container\"><div class=\"sk-container\"><div class=\"sk-item sk-dashed-wrapped\"><div class=\"sk-label-container\"><div class=\"sk-label sk-toggleable\"><input class=\"sk-toggleable__control sk-hidden--visually\" id=\"8c4b0118-d0ed-4c15-9ef3-2b93f0b257d8\" type=\"checkbox\" ><label class=\"sk-toggleable__label\" for=\"8c4b0118-d0ed-4c15-9ef3-2b93f0b257d8\">Pipeline</label><div class=\"sk-toggleable__content\"><pre>Pipeline(steps=[('columntransformer',\n                 ColumnTransformer(transformers=[('categorical',\n                                                  Pipeline(steps=[('one hot',\n                                                                   OneHotEncoder(handle_unknown='ignore'))]),\n                                                  ['Month', 'OperatingSystems',\n                                                   'Browser', 'Region',\n                                                   'TrafficType', 'VisitorType',\n                                                   'Weekend']),\n                                                 ('numerical',\n                                                  Pipeline(steps=[('quantile '\n                                                                   'transformer',\n                                                                   QuantileTransformer(n_quantiles=100,\n                                                                                       output_distribution='normal',\n                                                                                       random_state=0))]),\n                                                  ['Administrative_Duration',\n                                                   'Informational_Duration',\n                                                   'ProductRelated_Duration',\n                                                   'BounceRates', 'ExitRates',\n                                                   'PageValues',\n                                                   'ProductRelated',\n                                                   'SpecialDay',\n                                                   'Administrative',\n                                                   'Informational'])])),\n                ('svc', SVC())])</pre></div></div></div><div class=\"sk-serial\"><div class=\"sk-item sk-dashed-wrapped\"><div class=\"sk-label-container\"><div class=\"sk-label sk-toggleable\"><input class=\"sk-toggleable__control sk-hidden--visually\" id=\"98a377ec-ea20-4dd7-a1ff-fcf14ef44991\" type=\"checkbox\" ><label class=\"sk-toggleable__label\" for=\"98a377ec-ea20-4dd7-a1ff-fcf14ef44991\">columntransformer: ColumnTransformer</label><div class=\"sk-toggleable__content\"><pre>ColumnTransformer(transformers=[('categorical',\n                                 Pipeline(steps=[('one hot',\n                                                  OneHotEncoder(handle_unknown='ignore'))]),\n                                 ['Month', 'OperatingSystems', 'Browser',\n                                  'Region', 'TrafficType', 'VisitorType',\n                                  'Weekend']),\n                                ('numerical',\n                                 Pipeline(steps=[('quantile transformer',\n                                                  QuantileTransformer(n_quantiles=100,\n                                                                      output_distribution='normal',\n                                                                      random_state=0))]),\n                                 ['Administrative_Duration',\n                                  'Informational_Duration',\n                                  'ProductRelated_Duration', 'BounceRates',\n                                  'ExitRates', 'PageValues', 'ProductRelated',\n                                  'SpecialDay', 'Administrative',\n                                  'Informational'])])</pre></div></div></div><div class=\"sk-parallel\"><div class=\"sk-parallel-item\"><div class=\"sk-item\"><div class=\"sk-label-container\"><div class=\"sk-label sk-toggleable\"><input class=\"sk-toggleable__control sk-hidden--visually\" id=\"52859299-748a-4da3-975a-976e65a00fe5\" type=\"checkbox\" ><label class=\"sk-toggleable__label\" for=\"52859299-748a-4da3-975a-976e65a00fe5\">categorical</label><div class=\"sk-toggleable__content\"><pre>['Month', 'OperatingSystems', 'Browser', 'Region', 'TrafficType', 'VisitorType', 'Weekend']</pre></div></div></div><div class=\"sk-serial\"><div class=\"sk-item\"><div class=\"sk-serial\"><div class=\"sk-item\"><div class=\"sk-estimator sk-toggleable\"><input class=\"sk-toggleable__control sk-hidden--visually\" id=\"3cf86263-3ef6-4b2d-8321-3aa1bfdcce1b\" type=\"checkbox\" ><label class=\"sk-toggleable__label\" for=\"3cf86263-3ef6-4b2d-8321-3aa1bfdcce1b\">OneHotEncoder</label><div class=\"sk-toggleable__content\"><pre>OneHotEncoder(handle_unknown='ignore')</pre></div></div></div></div></div></div></div></div><div class=\"sk-parallel-item\"><div class=\"sk-item\"><div class=\"sk-label-container\"><div class=\"sk-label sk-toggleable\"><input class=\"sk-toggleable__control sk-hidden--visually\" id=\"0b0ad720-e179-4b29-b9e4-5769d12665df\" type=\"checkbox\" ><label class=\"sk-toggleable__label\" for=\"0b0ad720-e179-4b29-b9e4-5769d12665df\">numerical</label><div class=\"sk-toggleable__content\"><pre>['Administrative_Duration', 'Informational_Duration', 'ProductRelated_Duration', 'BounceRates', 'ExitRates', 'PageValues', 'ProductRelated', 'SpecialDay', 'Administrative', 'Informational']</pre></div></div></div><div class=\"sk-serial\"><div class=\"sk-item\"><div class=\"sk-serial\"><div class=\"sk-item\"><div class=\"sk-estimator sk-toggleable\"><input class=\"sk-toggleable__control sk-hidden--visually\" id=\"8ddc776e-8e41-46e1-90f3-3def90e65d99\" type=\"checkbox\" ><label class=\"sk-toggleable__label\" for=\"8ddc776e-8e41-46e1-90f3-3def90e65d99\">QuantileTransformer</label><div class=\"sk-toggleable__content\"><pre>QuantileTransformer(n_quantiles=100, output_distribution='normal',\n                    random_state=0)</pre></div></div></div></div></div></div></div></div></div></div><div class=\"sk-item\"><div class=\"sk-estimator sk-toggleable\"><input class=\"sk-toggleable__control sk-hidden--visually\" id=\"cde70eec-34b7-4448-8e0d-453215e9aba0\" type=\"checkbox\" ><label class=\"sk-toggleable__label\" for=\"cde70eec-34b7-4448-8e0d-453215e9aba0\">SVC</label><div class=\"sk-toggleable__content\"><pre>SVC()</pre></div></div></div></div></div></div></div>"
     },
     "metadata": {}
    }
   ],
   "execution_count": null
  },
  {
   "cell_type": "code",
   "metadata": {
    "tags": [],
    "cell_id": "00016-3baece2b-4822-4519-9b75-174f07e75660",
    "deepnote_to_be_reexecuted": true,
    "source_hash": "2be96bc1",
    "execution_start": 1620987242548,
    "execution_millis": 246729,
    "output_cleared": false,
    "deepnote_cell_type": "code"
   },
   "source": "\nfrom sklearn.model_selection import cross_val_predict\n\nskf = model_selection.StratifiedKFold(n_splits=10, random_state=0, shuffle=True)\n\nresults = pd.DataFrame({'Model': [], 'Accuracy': [], 'Bal Acc.': [], 'Time': []})\n\n\nfor model_name, model in mult_pipelines.items():\n    start_time = time.time()\n\n    #x=x.to_numpy()\n    #y=y.to_numpy() \n    print(model_name)\n    pred = cross_val_predict(model, x,y, cv=skf)\n\n    total_time = time.time() - start_time\n\n    results = results.append({\"Model\":    model_name,\n                              \"Accuracy\": metrics.accuracy_score(y, pred)*100,\n                              \"Bal Acc.\": metrics.balanced_accuracy_score(y, pred)*100,\n                              \"Time\":     total_time},\n                              ignore_index=True)\n                              \n                              \n\nresults_ord = results.sort_values(by=['Accuracy'], ascending=False, ignore_index=True)\nresults_ord.index += 1 \nresults_ord.style.bar(subset=['Accuracy', 'Bal Acc.'], vmin=0, vmax=100, color='#5fba7d')\n",
   "outputs": [
    {
     "name": "stdout",
     "text": "SVM\nLogistic\nKNN\nMLP\n/shared-libs/python3.7/py/lib/python3.7/site-packages/sklearn/neural_network/_multilayer_perceptron.py:500: ConvergenceWarning: lbfgs failed to converge (status=1):\nSTOP: TOTAL NO. of ITERATIONS REACHED LIMIT.\n\nIncrease the number of iterations (max_iter) or scale the data as shown in:\n    https://scikit-learn.org/stable/modules/preprocessing.html\n  self.n_iter_ = _check_optimize_result(\"lbfgs\", opt_res, self.max_iter)\n/shared-libs/python3.7/py/lib/python3.7/site-packages/sklearn/neural_network/_multilayer_perceptron.py:500: ConvergenceWarning: lbfgs failed to converge (status=1):\nSTOP: TOTAL NO. of ITERATIONS REACHED LIMIT.\n\nIncrease the number of iterations (max_iter) or scale the data as shown in:\n    https://scikit-learn.org/stable/modules/preprocessing.html\n  self.n_iter_ = _check_optimize_result(\"lbfgs\", opt_res, self.max_iter)\n/shared-libs/python3.7/py/lib/python3.7/site-packages/sklearn/neural_network/_multilayer_perceptron.py:500: ConvergenceWarning: lbfgs failed to converge (status=1):\nSTOP: TOTAL NO. of ITERATIONS REACHED LIMIT.\n\nIncrease the number of iterations (max_iter) or scale the data as shown in:\n    https://scikit-learn.org/stable/modules/preprocessing.html\n  self.n_iter_ = _check_optimize_result(\"lbfgs\", opt_res, self.max_iter)\n/shared-libs/python3.7/py/lib/python3.7/site-packages/sklearn/neural_network/_multilayer_perceptron.py:500: ConvergenceWarning: lbfgs failed to converge (status=1):\nSTOP: TOTAL NO. of ITERATIONS REACHED LIMIT.\n\nIncrease the number of iterations (max_iter) or scale the data as shown in:\n    https://scikit-learn.org/stable/modules/preprocessing.html\n  self.n_iter_ = _check_optimize_result(\"lbfgs\", opt_res, self.max_iter)\n/shared-libs/python3.7/py/lib/python3.7/site-packages/sklearn/neural_network/_multilayer_perceptron.py:500: ConvergenceWarning: lbfgs failed to converge (status=1):\nSTOP: TOTAL NO. of ITERATIONS REACHED LIMIT.\n\nIncrease the number of iterations (max_iter) or scale the data as shown in:\n    https://scikit-learn.org/stable/modules/preprocessing.html\n  self.n_iter_ = _check_optimize_result(\"lbfgs\", opt_res, self.max_iter)\n/shared-libs/python3.7/py/lib/python3.7/site-packages/sklearn/neural_network/_multilayer_perceptron.py:500: ConvergenceWarning: lbfgs failed to converge (status=1):\nSTOP: TOTAL NO. of ITERATIONS REACHED LIMIT.\n\nIncrease the number of iterations (max_iter) or scale the data as shown in:\n    https://scikit-learn.org/stable/modules/preprocessing.html\n  self.n_iter_ = _check_optimize_result(\"lbfgs\", opt_res, self.max_iter)\n/shared-libs/python3.7/py/lib/python3.7/site-packages/sklearn/neural_network/_multilayer_perceptron.py:500: ConvergenceWarning: lbfgs failed to converge (status=1):\nSTOP: TOTAL NO. of ITERATIONS REACHED LIMIT.\n\nIncrease the number of iterations (max_iter) or scale the data as shown in:\n    https://scikit-learn.org/stable/modules/preprocessing.html\n  self.n_iter_ = _check_optimize_result(\"lbfgs\", opt_res, self.max_iter)\n/shared-libs/python3.7/py/lib/python3.7/site-packages/sklearn/neural_network/_multilayer_perceptron.py:500: ConvergenceWarning: lbfgs failed to converge (status=1):\nSTOP: TOTAL NO. of ITERATIONS REACHED LIMIT.\n\nIncrease the number of iterations (max_iter) or scale the data as shown in:\n    https://scikit-learn.org/stable/modules/preprocessing.html\n  self.n_iter_ = _check_optimize_result(\"lbfgs\", opt_res, self.max_iter)\n/shared-libs/python3.7/py/lib/python3.7/site-packages/sklearn/neural_network/_multilayer_perceptron.py:500: ConvergenceWarning: lbfgs failed to converge (status=1):\nSTOP: TOTAL NO. of ITERATIONS REACHED LIMIT.\n\nIncrease the number of iterations (max_iter) or scale the data as shown in:\n    https://scikit-learn.org/stable/modules/preprocessing.html\n  self.n_iter_ = _check_optimize_result(\"lbfgs\", opt_res, self.max_iter)\n/shared-libs/python3.7/py/lib/python3.7/site-packages/sklearn/neural_network/_multilayer_perceptron.py:500: ConvergenceWarning: lbfgs failed to converge (status=1):\nSTOP: TOTAL NO. of ITERATIONS REACHED LIMIT.\n\nIncrease the number of iterations (max_iter) or scale the data as shown in:\n    https://scikit-learn.org/stable/modules/preprocessing.html\n  self.n_iter_ = _check_optimize_result(\"lbfgs\", opt_res, self.max_iter)\n",
     "output_type": "stream"
    },
    {
     "output_type": "execute_result",
     "execution_count": 193,
     "data": {
      "text/plain": "<pandas.io.formats.style.Styler at 0x7fa09775e310>",
      "text/html": "<style  type=\"text/css\" >\n#T_5f55e_row0_col1{\n            width:  10em;\n             height:  80%;\n            background:  linear-gradient(90deg,#5fba7d 90.1%, transparent 90.1%);\n        }#T_5f55e_row0_col2{\n            width:  10em;\n             height:  80%;\n            background:  linear-gradient(90deg,#5fba7d 78.8%, transparent 78.8%);\n        }#T_5f55e_row1_col1{\n            width:  10em;\n             height:  80%;\n            background:  linear-gradient(90deg,#5fba7d 89.7%, transparent 89.7%);\n        }#T_5f55e_row1_col2{\n            width:  10em;\n             height:  80%;\n            background:  linear-gradient(90deg,#5fba7d 77.3%, transparent 77.3%);\n        }#T_5f55e_row2_col1{\n            width:  10em;\n             height:  80%;\n            background:  linear-gradient(90deg,#5fba7d 89.4%, transparent 89.4%);\n        }#T_5f55e_row2_col2{\n            width:  10em;\n             height:  80%;\n            background:  linear-gradient(90deg,#5fba7d 74.6%, transparent 74.6%);\n        }#T_5f55e_row3_col1{\n            width:  10em;\n             height:  80%;\n            background:  linear-gradient(90deg,#5fba7d 88.3%, transparent 88.3%);\n        }#T_5f55e_row3_col2{\n            width:  10em;\n             height:  80%;\n            background:  linear-gradient(90deg,#5fba7d 75.6%, transparent 75.6%);\n        }</style><table id=\"T_5f55e_\" ><thead>    <tr>        <th class=\"blank level0\" ></th>        <th class=\"col_heading level0 col0\" >Model</th>        <th class=\"col_heading level0 col1\" >Accuracy</th>        <th class=\"col_heading level0 col2\" >Bal Acc.</th>        <th class=\"col_heading level0 col3\" >Time</th>    </tr></thead><tbody>\n                <tr>\n                        <th id=\"T_5f55e_level0_row0\" class=\"row_heading level0 row0\" >1</th>\n                        <td id=\"T_5f55e_row0_col0\" class=\"data row0 col0\" >MLP</td>\n                        <td id=\"T_5f55e_row0_col1\" class=\"data row0 col1\" >90.121655</td>\n                        <td id=\"T_5f55e_row0_col2\" class=\"data row0 col2\" >78.807122</td>\n                        <td id=\"T_5f55e_row0_col3\" class=\"data row0 col3\" >69.381452</td>\n            </tr>\n            <tr>\n                        <th id=\"T_5f55e_level0_row1\" class=\"row_heading level0 row1\" >2</th>\n                        <td id=\"T_5f55e_row1_col0\" class=\"data row1 col0\" >Logistic</td>\n                        <td id=\"T_5f55e_row1_col1\" class=\"data row1 col1\" >89.699919</td>\n                        <td id=\"T_5f55e_row1_col2\" class=\"data row1 col2\" >77.251768</td>\n                        <td id=\"T_5f55e_row1_col3\" class=\"data row1 col3\" >28.870212</td>\n            </tr>\n            <tr>\n                        <th id=\"T_5f55e_level0_row2\" class=\"row_heading level0 row2\" >3</th>\n                        <td id=\"T_5f55e_row2_col0\" class=\"data row2 col0\" >SVM</td>\n                        <td id=\"T_5f55e_row2_col1\" class=\"data row2 col1\" >89.424169</td>\n                        <td id=\"T_5f55e_row2_col2\" class=\"data row2 col2\" >74.562518</td>\n                        <td id=\"T_5f55e_row2_col3\" class=\"data row2 col3\" >109.857387</td>\n            </tr>\n            <tr>\n                        <th id=\"T_5f55e_level0_row3\" class=\"row_heading level0 row3\" >4</th>\n                        <td id=\"T_5f55e_row3_col0\" class=\"data row3 col0\" >KNN</td>\n                        <td id=\"T_5f55e_row3_col1\" class=\"data row3 col1\" >88.256285</td>\n                        <td id=\"T_5f55e_row3_col2\" class=\"data row3 col2\" >75.605713</td>\n                        <td id=\"T_5f55e_row3_col3\" class=\"data row3 col3\" >38.328639</td>\n            </tr>\n    </tbody></table>"
     },
     "metadata": {}
    }
   ],
   "execution_count": null
  },
  {
   "cell_type": "code",
   "source": "results",
   "metadata": {
    "tags": [],
    "cell_id": "00019-a50227d2-aec1-4073-9240-f8829bf28804",
    "deepnote_to_be_reexecuted": true,
    "source_hash": "4a35c05a",
    "execution_start": 1620985581536,
    "execution_millis": 47,
    "deepnote_cell_type": "code"
   },
   "outputs": [
    {
     "output_type": "execute_result",
     "execution_count": 160,
     "data": {
      "application/vnd.deepnote.dataframe.v2+json": {
       "row_count": 4,
       "column_count": 4,
       "columns": [
        {
         "name": "Model",
         "dtype": "object",
         "stats": {
          "unique_count": 4,
          "nan_count": 0,
          "categories": [
           {
            "name": "SVM",
            "count": 1
           },
           {
            "name": "Logistic",
            "count": 1
           },
           {
            "name": "2 others",
            "count": 2
           }
          ]
         }
        },
        {
         "name": "Accuracy",
         "dtype": "float64",
         "stats": {
          "unique_count": 4,
          "nan_count": 0,
          "min": "88.25628548256286",
          "max": "90.12165450121654",
          "histogram": [
           {
            "bin_start": 88.25628548256286,
            "bin_end": 88.44282238442823,
            "count": 1
           },
           {
            "bin_start": 88.44282238442823,
            "bin_end": 88.62935928629359,
            "count": 0
           },
           {
            "bin_start": 88.62935928629359,
            "bin_end": 88.81589618815896,
            "count": 0
           },
           {
            "bin_start": 88.81589618815896,
            "bin_end": 89.00243309002433,
            "count": 0
           },
           {
            "bin_start": 89.00243309002433,
            "bin_end": 89.1889699918897,
            "count": 0
           },
           {
            "bin_start": 89.1889699918897,
            "bin_end": 89.37550689375507,
            "count": 0
           },
           {
            "bin_start": 89.37550689375507,
            "bin_end": 89.56204379562044,
            "count": 1
           },
           {
            "bin_start": 89.56204379562044,
            "bin_end": 89.7485806974858,
            "count": 0
           },
           {
            "bin_start": 89.7485806974858,
            "bin_end": 89.93511759935117,
            "count": 1
           },
           {
            "bin_start": 89.93511759935117,
            "bin_end": 90.12165450121654,
            "count": 1
           }
          ]
         }
        },
        {
         "name": "Bal Acc.",
         "dtype": "float64",
         "stats": {
          "unique_count": 4,
          "nan_count": 0,
          "min": "74.56251833023757",
          "max": "78.80712245141808",
          "histogram": [
           {
            "bin_start": 74.56251833023757,
            "bin_end": 74.98697874235562,
            "count": 1
           },
           {
            "bin_start": 74.98697874235562,
            "bin_end": 75.41143915447367,
            "count": 0
           },
           {
            "bin_start": 75.41143915447367,
            "bin_end": 75.83589956659172,
            "count": 1
           },
           {
            "bin_start": 75.83589956659172,
            "bin_end": 76.26035997870977,
            "count": 0
           },
           {
            "bin_start": 76.26035997870977,
            "bin_end": 76.68482039082782,
            "count": 0
           },
           {
            "bin_start": 76.68482039082782,
            "bin_end": 77.10928080294588,
            "count": 0
           },
           {
            "bin_start": 77.10928080294588,
            "bin_end": 77.53374121506393,
            "count": 1
           },
           {
            "bin_start": 77.53374121506393,
            "bin_end": 77.95820162718198,
            "count": 0
           },
           {
            "bin_start": 77.95820162718198,
            "bin_end": 78.38266203930003,
            "count": 0
           },
           {
            "bin_start": 78.38266203930003,
            "bin_end": 78.80712245141808,
            "count": 1
           }
          ]
         }
        },
        {
         "name": "Time",
         "dtype": "float64",
         "stats": {
          "unique_count": 4,
          "nan_count": 0,
          "min": "4.9339025020599365",
          "max": "66.22884154319763",
          "histogram": [
           {
            "bin_start": 4.9339025020599365,
            "bin_end": 11.063396406173705,
            "count": 1
           },
           {
            "bin_start": 11.063396406173705,
            "bin_end": 17.192890310287474,
            "count": 0
           },
           {
            "bin_start": 17.192890310287474,
            "bin_end": 23.322384214401247,
            "count": 1
           },
           {
            "bin_start": 23.322384214401247,
            "bin_end": 29.451878118515015,
            "count": 0
           },
           {
            "bin_start": 29.451878118515015,
            "bin_end": 35.581372022628784,
            "count": 0
           },
           {
            "bin_start": 35.581372022628784,
            "bin_end": 41.71086592674256,
            "count": 0
           },
           {
            "bin_start": 41.71086592674256,
            "bin_end": 47.84035983085632,
            "count": 1
           },
           {
            "bin_start": 47.84035983085632,
            "bin_end": 53.969853734970094,
            "count": 0
           },
           {
            "bin_start": 53.969853734970094,
            "bin_end": 60.09934763908387,
            "count": 0
           },
           {
            "bin_start": 60.09934763908387,
            "bin_end": 66.22884154319763,
            "count": 1
           }
          ]
         }
        },
        {
         "name": "_deepnote_index_column",
         "dtype": "int64"
        }
       ],
       "rows_top": [
        {
         "Model": "SVM",
         "Accuracy": 89.42416869424169,
         "Bal Acc.": 74.56251833023757,
         "Time": 66.22884154319763,
         "_deepnote_index_column": 0
        },
        {
         "Model": "Logistic",
         "Accuracy": 89.7485806974858,
         "Bal Acc.": 77.25914520444776,
         "Time": 4.9339025020599365,
         "_deepnote_index_column": 1
        },
        {
         "Model": "KNN",
         "Accuracy": 88.25628548256286,
         "Bal Acc.": 75.60571251670088,
         "Time": 20.17481017112732,
         "_deepnote_index_column": 2
        },
        {
         "Model": "MLP",
         "Accuracy": 90.12165450121654,
         "Bal Acc.": 78.80712245141808,
         "Time": 45.97257900238037,
         "_deepnote_index_column": 3
        }
       ],
       "rows_bottom": null
      },
      "text/plain": "      Model   Accuracy   Bal Acc.       Time\n0       SVM  89.424169  74.562518  66.228842\n1  Logistic  89.748581  77.259145   4.933903\n2       KNN  88.256285  75.605713  20.174810\n3       MLP  90.121655  78.807122  45.972579",
      "text/html": "<div>\n<style scoped>\n    .dataframe tbody tr th:only-of-type {\n        vertical-align: middle;\n    }\n\n    .dataframe tbody tr th {\n        vertical-align: top;\n    }\n\n    .dataframe thead th {\n        text-align: right;\n    }\n</style>\n<table border=\"1\" class=\"dataframe\">\n  <thead>\n    <tr style=\"text-align: right;\">\n      <th></th>\n      <th>Model</th>\n      <th>Accuracy</th>\n      <th>Bal Acc.</th>\n      <th>Time</th>\n    </tr>\n  </thead>\n  <tbody>\n    <tr>\n      <th>0</th>\n      <td>SVM</td>\n      <td>89.424169</td>\n      <td>74.562518</td>\n      <td>66.228842</td>\n    </tr>\n    <tr>\n      <th>1</th>\n      <td>Logistic</td>\n      <td>89.748581</td>\n      <td>77.259145</td>\n      <td>4.933903</td>\n    </tr>\n    <tr>\n      <th>2</th>\n      <td>KNN</td>\n      <td>88.256285</td>\n      <td>75.605713</td>\n      <td>20.174810</td>\n    </tr>\n    <tr>\n      <th>3</th>\n      <td>MLP</td>\n      <td>90.121655</td>\n      <td>78.807122</td>\n      <td>45.972579</td>\n    </tr>\n  </tbody>\n</table>\n</div>"
     },
     "metadata": {}
    }
   ],
   "execution_count": null
  },
  {
   "cell_type": "markdown",
   "source": "#### Feature Importance\n\nThe values towards the top are the most important features and those towards the bottom matter least.\n\nThe first number in each row shows how much model performance decreased with a random shuffling (in this case, using \"accuracy\" as the performance metric).\n\nLike most things in data science, there is some randomness to the exact performance change from shuffling a column. We measure the amount of randomness in our permutation importance calculation by repeating the process with multiple shuffles. The number after the ± measures how performance varied from one-reshuffling to the next.\n\nYou'll occasionally see negative values for permutation importances. In those cases, the predictions on the shuffled (or noisy) data happened to be more accurate than the real data. This happens when the feature didn't matter (should have had an importance close to 0), but random chance caused the predictions on shuffled data to be more accurate. This is more common with small datasets, like the one in this example, because there is more room for luck/chance.",
   "metadata": {
    "tags": [],
    "cell_id": "00018-2093b81c-1a95-4e9b-b734-bbdd4bbb475c",
    "deepnote_cell_type": "markdown"
   }
  },
  {
   "cell_type": "code",
   "metadata": {
    "tags": [],
    "cell_id": "00014-c4bc481f-7b4a-44c1-916e-e41fdfbcb958",
    "deepnote_to_be_reexecuted": true,
    "source_hash": "14888106",
    "execution_start": 1620982560438,
    "execution_millis": 25,
    "deepnote_cell_type": "code"
   },
   "source": "from sklearn.inspection import permutation_importance\nr = permutation_importance(tree_pipelines[\"Skl GBM\"].fit(x,y), x, y,\n                        n_repeats=30,\n                        random_state=0)\n\nfor i in r.importances_mean.argsort()[::-1]:\n    if r.importances_mean[i] - 2 * r.importances_std[i] > 0:\n        print(f\"{df.columns[i]:<8}\"\n            f\"{r.importances_mean[i]:.3f}\"\n            f\" +/- {r.importances_std[i]:.3f}\")",
   "outputs": [
    {
     "name": "stdout",
     "text": "Browser 0.155 +/- 0.003\nAdministrative0.011 +/- 0.001\nSpecialDay0.006 +/- 0.001\nOperatingSystems0.006 +/- 0.001\nVisitorType0.005 +/- 0.001\nExitRates0.003 +/- 0.001\nMonth   0.003 +/- 0.001\nRegion  0.003 +/- 0.001\nPageValues0.001 +/- 0.000\nWeekend 0.000 +/- 0.000\n",
     "output_type": "stream"
    }
   ],
   "execution_count": null
  },
  {
   "cell_type": "markdown",
   "source": "#### Bayessian Optimization",
   "metadata": {
    "tags": [],
    "cell_id": "00020-26728fa0-9c3b-48c2-aad2-a5c0f21087b6",
    "deepnote_cell_type": "markdown"
   }
  },
  {
   "cell_type": "code",
   "source": "import optuna\nimport sklearn\ndef objective(trial):\n\n    skf = model_selection.StratifiedKFold(n_splits=10, random_state=0, shuffle=True)\n\n    tree_prepro.fit_transform(x)\n\n    n_estimators = trial.suggest_int('n_estimators', 2, 20)\n\n    max_depth = int(trial.suggest_loguniform('max_depth', 1, 32))\n    clf=pipeline.make_pipeline(tree_prepro, GradientBoostingClassifier(n_estimators=n_estimators, max_depth=max_depth))\n\n\n    return sklearn.model_selection.cross_val_score(clf, x, y, cv=skf).mean()\n\n",
   "metadata": {
    "tags": [],
    "cell_id": "00019-0133f10a-6ba3-4bed-b4e8-270810c01121",
    "deepnote_to_be_reexecuted": true,
    "source_hash": "3fef4e66",
    "execution_start": 1620982765604,
    "execution_millis": 5,
    "deepnote_cell_type": "code"
   },
   "outputs": [],
   "execution_count": null
  },
  {
   "cell_type": "code",
   "source": "study = optuna.create_study(direction='maximize')\nstudy.optimize(objective, n_trials=100)",
   "metadata": {
    "tags": [],
    "cell_id": "00020-6e6a099f-29d1-4cbc-9374-437edc264fa4",
    "deepnote_to_be_reexecuted": true,
    "source_hash": "f8a3c1d1",
    "execution_start": 1620982766976,
    "execution_millis": 1420111,
    "deepnote_cell_type": "code"
   },
   "outputs": [
    {
     "name": "stderr",
     "text": "\u001b[32m[I 2021-05-14 08:59:26,978]\u001b[0m A new study created in memory with name: no-name-8aed1e29-5db1-4006-9ea8-8cea33c7ffa9\u001b[0m\n\u001b[32m[I 2021-05-14 08:59:34,592]\u001b[0m Trial 0 finished with value: 0.8575831305758314 and parameters: {'n_estimators': 5, 'max_depth': 5.236770341372091}. Best is trial 0 with value: 0.8575831305758314.\u001b[0m\n\u001b[32m[I 2021-05-14 08:59:39,674]\u001b[0m Trial 1 finished with value: 0.8452554744525548 and parameters: {'n_estimators': 4, 'max_depth': 3.189484323718856}. Best is trial 0 with value: 0.8575831305758314.\u001b[0m\n\u001b[32m[I 2021-05-14 09:00:11,556]\u001b[0m Trial 2 finished with value: 0.8922141119221412 and parameters: {'n_estimators': 14, 'max_depth': 10.285019877476238}. Best is trial 2 with value: 0.8922141119221412.\u001b[0m\n\u001b[32m[I 2021-05-14 09:00:27,275]\u001b[0m Trial 3 finished with value: 0.8848337388483374 and parameters: {'n_estimators': 6, 'max_depth': 11.885826904075355}. Best is trial 2 with value: 0.8922141119221412.\u001b[0m\n\u001b[32m[I 2021-05-14 09:00:42,540]\u001b[0m Trial 4 finished with value: 0.8975669099756691 and parameters: {'n_estimators': 12, 'max_depth': 6.212083441460549}. Best is trial 4 with value: 0.8975669099756691.\u001b[0m\n\u001b[32m[I 2021-05-14 09:00:50,569]\u001b[0m Trial 5 finished with value: 0.8929440389294404 and parameters: {'n_estimators': 12, 'max_depth': 2.6079002056067084}. Best is trial 4 with value: 0.8975669099756691.\u001b[0m\n\u001b[32m[I 2021-05-14 09:01:01,590]\u001b[0m Trial 6 finished with value: 0.894890510948905 and parameters: {'n_estimators': 20, 'max_depth': 2.991587559637952}. Best is trial 4 with value: 0.8975669099756691.\u001b[0m\n\u001b[32m[I 2021-05-14 09:02:03,695]\u001b[0m Trial 7 finished with value: 0.8832927818329278 and parameters: {'n_estimators': 17, 'max_depth': 16.725807586702732}. Best is trial 4 with value: 0.8975669099756691.\u001b[0m\n\u001b[32m[I 2021-05-14 09:02:54,567]\u001b[0m Trial 8 finished with value: 0.8795620437956204 and parameters: {'n_estimators': 14, 'max_depth': 17.9540941814641}. Best is trial 4 with value: 0.8975669099756691.\u001b[0m\n\u001b[32m[I 2021-05-14 09:03:13,926]\u001b[0m Trial 9 finished with value: 0.8735604217356043 and parameters: {'n_estimators': 5, 'max_depth': 23.003987969818773}. Best is trial 4 with value: 0.8975669099756691.\u001b[0m\n\u001b[32m[I 2021-05-14 09:03:18,866]\u001b[0m Trial 10 finished with value: 0.8452554744525548 and parameters: {'n_estimators': 9, 'max_depth': 1.2156721770354435}. Best is trial 4 with value: 0.8975669099756691.\u001b[0m\n\u001b[32m[I 2021-05-14 09:03:25,533]\u001b[0m Trial 11 finished with value: 0.8898621248986214 and parameters: {'n_estimators': 20, 'max_depth': 1.6264037951762536}. Best is trial 4 with value: 0.8975669099756691.\u001b[0m\n\u001b[32m[I 2021-05-14 09:03:49,792]\u001b[0m Trial 12 finished with value: 0.9007299270072993 and parameters: {'n_estimators': 20, 'max_depth': 6.190133853449932}. Best is trial 12 with value: 0.9007299270072993.\u001b[0m\n\u001b[32m[I 2021-05-14 09:04:10,314]\u001b[0m Trial 13 finished with value: 0.9008110300081104 and parameters: {'n_estimators': 17, 'max_depth': 6.057265373490416}. Best is trial 13 with value: 0.9008110300081104.\u001b[0m\n\u001b[32m[I 2021-05-14 09:04:29,400]\u001b[0m Trial 14 finished with value: 0.9022708840227089 and parameters: {'n_estimators': 17, 'max_depth': 5.855992999084359}. Best is trial 14 with value: 0.9022708840227089.\u001b[0m\n\u001b[32m[I 2021-05-14 09:05:01,999]\u001b[0m Trial 15 finished with value: 0.8978913219789133 and parameters: {'n_estimators': 17, 'max_depth': 9.502085339281942}. Best is trial 14 with value: 0.9022708840227089.\u001b[0m\n\u001b[32m[I 2021-05-14 09:05:21,091]\u001b[0m Trial 16 finished with value: 0.9021086780210869 and parameters: {'n_estimators': 17, 'max_depth': 5.75077172541124}. Best is trial 14 with value: 0.9022708840227089.\u001b[0m\n\u001b[32m[I 2021-05-14 09:05:32,287]\u001b[0m Trial 17 finished with value: 0.8975669099756691 and parameters: {'n_estimators': 15, 'max_depth': 3.9629387041020507}. Best is trial 14 with value: 0.9022708840227089.\u001b[0m\n\u001b[32m[I 2021-05-14 09:05:38,730]\u001b[0m Trial 18 finished with value: 0.8884833738848338 and parameters: {'n_estimators': 18, 'max_depth': 1.8316048253341215}. Best is trial 14 with value: 0.9022708840227089.\u001b[0m\n\u001b[32m[I 2021-05-14 09:05:55,543]\u001b[0m Trial 19 finished with value: 0.8939172749391726 and parameters: {'n_estimators': 10, 'max_depth': 8.323026019644294}. Best is trial 14 with value: 0.9022708840227089.\u001b[0m\n\u001b[32m[I 2021-05-14 09:06:04,150]\u001b[0m Trial 20 finished with value: 0.8866991078669912 and parameters: {'n_estimators': 8, 'max_depth': 4.469590501953301}. Best is trial 14 with value: 0.9022708840227089.\u001b[0m\n\u001b[32m[I 2021-05-14 09:06:27,050]\u001b[0m Trial 21 finished with value: 0.9008110300081104 and parameters: {'n_estimators': 18, 'max_depth': 6.979768284767925}. Best is trial 14 with value: 0.9022708840227089.\u001b[0m\n\u001b[32m[I 2021-05-14 09:07:18,678]\u001b[0m Trial 22 finished with value: 0.8905920519059205 and parameters: {'n_estimators': 18, 'max_depth': 12.743254885203472}. Best is trial 14 with value: 0.9022708840227089.\u001b[0m\n\u001b[32m[I 2021-05-14 09:07:33,406]\u001b[0m Trial 23 finished with value: 0.9027575020275751 and parameters: {'n_estimators': 16, 'max_depth': 4.1079331146663}. Best is trial 23 with value: 0.9027575020275751.\u001b[0m\n\u001b[32m[I 2021-05-14 09:07:45,060]\u001b[0m Trial 24 finished with value: 0.8975669099756691 and parameters: {'n_estimators': 15, 'max_depth': 3.880811772261424}. Best is trial 23 with value: 0.9027575020275751.\u001b[0m\n\u001b[32m[I 2021-05-14 09:07:54,083]\u001b[0m Trial 25 finished with value: 0.8941605839416059 and parameters: {'n_estimators': 15, 'max_depth': 2.224517911209243}. Best is trial 23 with value: 0.9027575020275751.\u001b[0m\n\u001b[32m[I 2021-05-14 09:08:06,356]\u001b[0m Trial 26 finished with value: 0.8984590429845903 and parameters: {'n_estimators': 13, 'max_depth': 4.650565590632472}. Best is trial 23 with value: 0.9027575020275751.\u001b[0m\n\u001b[32m[I 2021-05-14 09:08:29,174]\u001b[0m Trial 27 finished with value: 0.8987023519870234 and parameters: {'n_estimators': 16, 'max_depth': 7.97208682309621}. Best is trial 23 with value: 0.9027575020275751.\u001b[0m\n\u001b[32m[I 2021-05-14 09:08:42,629]\u001b[0m Trial 28 finished with value: 0.8996755879967561 and parameters: {'n_estimators': 19, 'max_depth': 3.2060205632355827}. Best is trial 23 with value: 0.9027575020275751.\u001b[0m\n\u001b[32m[I 2021-05-14 09:09:02,027]\u001b[0m Trial 29 finished with value: 0.9017842660178428 and parameters: {'n_estimators': 19, 'max_depth': 5.127973043427604}. Best is trial 23 with value: 0.9027575020275751.\u001b[0m\n\u001b[32m[I 2021-05-14 09:09:13,747]\u001b[0m Trial 30 finished with value: 0.8988645579886457 and parameters: {'n_estimators': 16, 'max_depth': 3.7996618875233863}. Best is trial 23 with value: 0.9027575020275751.\u001b[0m\n\u001b[32m[I 2021-05-14 09:09:33,754]\u001b[0m Trial 31 finished with value: 0.9018653690186538 and parameters: {'n_estimators': 19, 'max_depth': 5.032550687091384}. Best is trial 23 with value: 0.9027575020275751.\u001b[0m\n\u001b[32m[I 2021-05-14 09:09:53,479]\u001b[0m Trial 32 finished with value: 0.9017842660178428 and parameters: {'n_estimators': 19, 'max_depth': 5.0644252853189515}. Best is trial 23 with value: 0.9027575020275751.\u001b[0m\n\u001b[32m[I 2021-05-14 09:10:13,878]\u001b[0m Trial 33 finished with value: 0.8985401459854016 and parameters: {'n_estimators': 14, 'max_depth': 7.43902053701784}. Best is trial 23 with value: 0.9027575020275751.\u001b[0m\n\u001b[32m[I 2021-05-14 09:10:25,749]\u001b[0m Trial 34 finished with value: 0.8988645579886457 and parameters: {'n_estimators': 16, 'max_depth': 3.4161757618444186}. Best is trial 23 with value: 0.9027575020275751.\u001b[0m\n\u001b[32m[I 2021-05-14 09:10:31,921]\u001b[0m Trial 35 finished with value: 0.8452554744525548 and parameters: {'n_estimators': 2, 'max_depth': 10.260363243779254}. Best is trial 23 with value: 0.9027575020275751.\u001b[0m\n\u001b[32m[I 2021-05-14 09:10:39,738]\u001b[0m Trial 36 finished with value: 0.894728304947283 and parameters: {'n_estimators': 13, 'max_depth': 2.582903580555113}. Best is trial 23 with value: 0.9027575020275751.\u001b[0m\n\u001b[32m[I 2021-05-14 09:10:58,367]\u001b[0m Trial 37 finished with value: 0.9023519870235199 and parameters: {'n_estimators': 18, 'max_depth': 5.705264759055831}. Best is trial 23 with value: 0.9027575020275751.\u001b[0m\n\u001b[32m[I 2021-05-14 09:11:50,474]\u001b[0m Trial 38 finished with value: 0.8914030819140308 and parameters: {'n_estimators': 17, 'max_depth': 12.960977756200382}. Best is trial 23 with value: 0.9027575020275751.\u001b[0m\n\u001b[32m[I 2021-05-14 09:12:05,657]\u001b[0m Trial 39 finished with value: 0.8978102189781023 and parameters: {'n_estimators': 12, 'max_depth': 6.529031690325139}. Best is trial 23 with value: 0.9027575020275751.\u001b[0m\n\u001b[32m[I 2021-05-14 09:12:14,518]\u001b[0m Trial 40 finished with value: 0.894890510948905 and parameters: {'n_estimators': 16, 'max_depth': 2.6816620934961723}. Best is trial 23 with value: 0.9027575020275751.\u001b[0m\n\u001b[32m[I 2021-05-14 09:12:34,530]\u001b[0m Trial 41 finished with value: 0.9016220600162207 and parameters: {'n_estimators': 19, 'max_depth': 5.326646614133867}. Best is trial 23 with value: 0.9027575020275751.\u001b[0m\n\u001b[32m[I 2021-05-14 09:12:50,612]\u001b[0m Trial 42 finished with value: 0.9028386050283862 and parameters: {'n_estimators': 18, 'max_depth': 4.637650865395484}. Best is trial 42 with value: 0.9028386050283862.\u001b[0m\n\u001b[32m[I 2021-05-14 09:13:21,979]\u001b[0m Trial 43 finished with value: 0.8991078669910786 and parameters: {'n_estimators': 18, 'max_depth': 8.801084407000204}. Best is trial 42 with value: 0.9028386050283862.\u001b[0m\n\u001b[32m[I 2021-05-14 09:13:40,591]\u001b[0m Trial 44 finished with value: 0.9038929440389296 and parameters: {'n_estimators': 20, 'max_depth': 4.369896180465956}. Best is trial 44 with value: 0.9038929440389296.\u001b[0m\n\u001b[32m[I 2021-05-14 09:13:58,355]\u001b[0m Trial 45 finished with value: 0.9038929440389296 and parameters: {'n_estimators': 20, 'max_depth': 4.2534121010520805}. Best is trial 44 with value: 0.9038929440389296.\u001b[0m\n\u001b[32m[I 2021-05-14 09:14:16,198]\u001b[0m Trial 46 finished with value: 0.9038929440389296 and parameters: {'n_estimators': 20, 'max_depth': 4.214893983942776}. Best is trial 44 with value: 0.9038929440389296.\u001b[0m\n\u001b[32m[I 2021-05-14 09:14:34,386]\u001b[0m Trial 47 finished with value: 0.9038929440389296 and parameters: {'n_estimators': 20, 'max_depth': 4.338547407340058}. Best is trial 44 with value: 0.9038929440389296.\u001b[0m\n\u001b[32m[I 2021-05-14 09:14:48,358]\u001b[0m Trial 48 finished with value: 0.899756690997567 and parameters: {'n_estimators': 20, 'max_depth': 3.0361856386546644}. Best is trial 44 with value: 0.9038929440389296.\u001b[0m\n\u001b[32m[I 2021-05-14 09:14:59,880]\u001b[0m Trial 49 finished with value: 0.894890510948905 and parameters: {'n_estimators': 20, 'max_depth': 2.2225946995196035}. Best is trial 44 with value: 0.9038929440389296.\u001b[0m\n\u001b[32m[I 2021-05-14 09:15:17,804]\u001b[0m Trial 50 finished with value: 0.9038929440389296 and parameters: {'n_estimators': 20, 'max_depth': 4.39658738989318}. Best is trial 44 with value: 0.9038929440389296.\u001b[0m\n\u001b[32m[I 2021-05-14 09:15:36,249]\u001b[0m Trial 51 finished with value: 0.9038929440389296 and parameters: {'n_estimators': 20, 'max_depth': 4.353088334142215}. Best is trial 44 with value: 0.9038929440389296.\u001b[0m\n\u001b[32m[I 2021-05-14 09:15:49,531]\u001b[0m Trial 52 finished with value: 0.899756690997567 and parameters: {'n_estimators': 20, 'max_depth': 3.56251502665772}. Best is trial 44 with value: 0.9038929440389296.\u001b[0m\n\u001b[32m[I 2021-05-14 09:16:07,918]\u001b[0m Trial 53 finished with value: 0.9038929440389296 and parameters: {'n_estimators': 20, 'max_depth': 4.29427988217188}. Best is trial 44 with value: 0.9038929440389296.\u001b[0m\n\u001b[32m[I 2021-05-14 09:16:22,236]\u001b[0m Trial 54 finished with value: 0.899756690997567 and parameters: {'n_estimators': 20, 'max_depth': 3.002177572033217}. Best is trial 44 with value: 0.9038929440389296.\u001b[0m\n\u001b[32m[I 2021-05-14 09:16:35,781]\u001b[0m Trial 55 finished with value: 0.8996755879967561 and parameters: {'n_estimators': 19, 'max_depth': 3.5173017419662105}. Best is trial 44 with value: 0.9038929440389296.\u001b[0m\n\u001b[32m[I 2021-05-14 09:16:45,895]\u001b[0m Trial 56 finished with value: 0.8950527169505271 and parameters: {'n_estimators': 19, 'max_depth': 2.605372639620521}. Best is trial 44 with value: 0.9038929440389296.\u001b[0m\n\u001b[32m[I 2021-05-14 09:17:03,443]\u001b[0m Trial 57 finished with value: 0.9038929440389296 and parameters: {'n_estimators': 20, 'max_depth': 4.123468984090251}. Best is trial 44 with value: 0.9038929440389296.\u001b[0m\n\u001b[32m[I 2021-05-14 09:17:27,133]\u001b[0m Trial 58 finished with value: 0.9012165450121655 and parameters: {'n_estimators': 19, 'max_depth': 6.481768000842758}. Best is trial 44 with value: 0.9038929440389296.\u001b[0m\n\u001b[32m[I 2021-05-14 09:17:44,484]\u001b[0m Trial 59 finished with value: 0.9038929440389296 and parameters: {'n_estimators': 20, 'max_depth': 4.471948659252098}. Best is trial 44 with value: 0.9038929440389296.\u001b[0m\n\u001b[32m[I 2021-05-14 09:17:54,055]\u001b[0m Trial 60 finished with value: 0.8952960259529604 and parameters: {'n_estimators': 18, 'max_depth': 2.301910896389359}. Best is trial 44 with value: 0.9038929440389296.\u001b[0m\n\u001b[32m[I 2021-05-14 09:18:07,967]\u001b[0m Trial 61 finished with value: 0.899756690997567 and parameters: {'n_estimators': 20, 'max_depth': 3.992301713010044}. Best is trial 44 with value: 0.9038929440389296.\u001b[0m\n\u001b[32m[I 2021-05-14 09:18:15,570]\u001b[0m Trial 62 finished with value: 0.8783454987834551 and parameters: {'n_estimators': 7, 'max_depth': 4.703022643744396}. Best is trial 44 with value: 0.9038929440389296.\u001b[0m\n\u001b[32m[I 2021-05-14 09:18:29,361]\u001b[0m Trial 63 finished with value: 0.899756690997567 and parameters: {'n_estimators': 20, 'max_depth': 3.4794927015612664}. Best is trial 44 with value: 0.9038929440389296.\u001b[0m\n\u001b[32m[I 2021-05-14 09:18:49,214]\u001b[0m Trial 64 finished with value: 0.9019464720194648 and parameters: {'n_estimators': 19, 'max_depth': 5.536397250698724}. Best is trial 44 with value: 0.9038929440389296.\u001b[0m\n\u001b[32m[I 2021-05-14 09:19:03,284]\u001b[0m Trial 65 finished with value: 0.899756690997567 and parameters: {'n_estimators': 20, 'max_depth': 3.9870765789422182}. Best is trial 44 with value: 0.9038929440389296.\u001b[0m\n\u001b[32m[I 2021-05-14 09:19:29,045]\u001b[0m Trial 66 finished with value: 0.8992700729927007 and parameters: {'n_estimators': 18, 'max_depth': 7.303473678640724}. Best is trial 44 with value: 0.9038929440389296.\u001b[0m\n\u001b[32m[I 2021-05-14 09:19:39,055]\u001b[0m Trial 67 finished with value: 0.8950527169505271 and parameters: {'n_estimators': 19, 'max_depth': 2.858771305542249}. Best is trial 44 with value: 0.9038929440389296.\u001b[0m\n\u001b[32m[I 2021-05-14 09:19:54,282]\u001b[0m Trial 68 finished with value: 0.9032441200324414 and parameters: {'n_estimators': 17, 'max_depth': 4.30658303356238}. Best is trial 44 with value: 0.9038929440389296.\u001b[0m\n\u001b[32m[I 2021-05-14 09:20:08,157]\u001b[0m Trial 69 finished with value: 0.899756690997567 and parameters: {'n_estimators': 20, 'max_depth': 3.26650213736171}. Best is trial 44 with value: 0.9038929440389296.\u001b[0m\n\u001b[32m[I 2021-05-14 09:20:13,691]\u001b[0m Trial 70 finished with value: 0.8452554744525548 and parameters: {'n_estimators': 4, 'max_depth': 4.921705818586121}. Best is trial 44 with value: 0.9038929440389296.\u001b[0m\n\u001b[32m[I 2021-05-14 09:20:31,491]\u001b[0m Trial 71 finished with value: 0.9038929440389296 and parameters: {'n_estimators': 20, 'max_depth': 4.302084950711791}. Best is trial 44 with value: 0.9038929440389296.\u001b[0m\n\u001b[32m[I 2021-05-14 09:20:45,370]\u001b[0m Trial 72 finished with value: 0.8996755879967561 and parameters: {'n_estimators': 19, 'max_depth': 3.74051660903447}. Best is trial 44 with value: 0.9038929440389296.\u001b[0m\n\u001b[32m[I 2021-05-14 09:21:07,381]\u001b[0m Trial 73 finished with value: 0.9007299270072993 and parameters: {'n_estimators': 18, 'max_depth': 6.091063515278516}. Best is trial 44 with value: 0.9038929440389296.\u001b[0m\n\u001b[32m[I 2021-05-14 09:21:27,301]\u001b[0m Trial 74 finished with value: 0.9038929440389296 and parameters: {'n_estimators': 20, 'max_depth': 4.413967865614554}. Best is trial 44 with value: 0.9038929440389296.\u001b[0m\n\u001b[32m[I 2021-05-14 09:21:46,453]\u001b[0m Trial 75 finished with value: 0.9017031630170317 and parameters: {'n_estimators': 19, 'max_depth': 5.311456910386472}. Best is trial 44 with value: 0.9038929440389296.\u001b[0m\n\u001b[32m[I 2021-05-14 09:21:59,182]\u001b[0m Trial 76 finished with value: 0.8996755879967561 and parameters: {'n_estimators': 18, 'max_depth': 3.746659664010716}. Best is trial 44 with value: 0.9038929440389296.\u001b[0m\n\u001b[32m[I 2021-05-14 09:22:11,427]\u001b[0m Trial 77 finished with value: 0.8992700729927007 and parameters: {'n_estimators': 17, 'max_depth': 3.1993311230142734}. Best is trial 44 with value: 0.9038929440389296.\u001b[0m\n\u001b[32m[I 2021-05-14 09:22:28,222]\u001b[0m Trial 78 finished with value: 0.9038118410381186 and parameters: {'n_estimators': 19, 'max_depth': 4.103342002765516}. Best is trial 44 with value: 0.9038929440389296.\u001b[0m\n\u001b[32m[I 2021-05-14 09:22:50,122]\u001b[0m Trial 79 finished with value: 0.9023519870235199 and parameters: {'n_estimators': 20, 'max_depth': 5.66349003022297}. Best is trial 44 with value: 0.9038929440389296.\u001b[0m\n\u001b[32m[I 2021-05-14 09:23:02,516]\u001b[0m Trial 80 finished with value: 0.9038118410381186 and parameters: {'n_estimators': 19, 'max_depth': 4.867394070872937}. Best is trial 44 with value: 0.9038929440389296.\u001b[0m\n",
     "output_type": "stream"
    },
    {
     "output_type": "error",
     "ename": "KeyboardInterrupt",
     "evalue": "",
     "traceback": [
      "\u001b[0;31m---------------------------------------------------------------------------\u001b[0m",
      "\u001b[0;31mKeyboardInterrupt\u001b[0m                         Traceback (most recent call last)",
      "\u001b[0;32m<ipython-input-151-e5765535ee57>\u001b[0m in \u001b[0;36m<module>\u001b[0;34m\u001b[0m\n\u001b[1;32m      1\u001b[0m \u001b[0mstudy\u001b[0m \u001b[0;34m=\u001b[0m \u001b[0moptuna\u001b[0m\u001b[0;34m.\u001b[0m\u001b[0mcreate_study\u001b[0m\u001b[0;34m(\u001b[0m\u001b[0mdirection\u001b[0m\u001b[0;34m=\u001b[0m\u001b[0;34m'maximize'\u001b[0m\u001b[0;34m)\u001b[0m\u001b[0;34m\u001b[0m\u001b[0;34m\u001b[0m\u001b[0m\n\u001b[0;32m----> 2\u001b[0;31m \u001b[0mstudy\u001b[0m\u001b[0;34m.\u001b[0m\u001b[0moptimize\u001b[0m\u001b[0;34m(\u001b[0m\u001b[0mobjective\u001b[0m\u001b[0;34m,\u001b[0m \u001b[0mn_trials\u001b[0m\u001b[0;34m=\u001b[0m\u001b[0;36m100\u001b[0m\u001b[0;34m)\u001b[0m\u001b[0;34m\u001b[0m\u001b[0;34m\u001b[0m\u001b[0m\n\u001b[0m",
      "\u001b[0;32m~/venv/lib/python3.7/site-packages/optuna/study.py\u001b[0m in \u001b[0;36moptimize\u001b[0;34m(self, func, n_trials, timeout, n_jobs, catch, callbacks, gc_after_trial, show_progress_bar)\u001b[0m\n\u001b[1;32m    407\u001b[0m             \u001b[0mcallbacks\u001b[0m\u001b[0;34m=\u001b[0m\u001b[0mcallbacks\u001b[0m\u001b[0;34m,\u001b[0m\u001b[0;34m\u001b[0m\u001b[0;34m\u001b[0m\u001b[0m\n\u001b[1;32m    408\u001b[0m             \u001b[0mgc_after_trial\u001b[0m\u001b[0;34m=\u001b[0m\u001b[0mgc_after_trial\u001b[0m\u001b[0;34m,\u001b[0m\u001b[0;34m\u001b[0m\u001b[0;34m\u001b[0m\u001b[0m\n\u001b[0;32m--> 409\u001b[0;31m             \u001b[0mshow_progress_bar\u001b[0m\u001b[0;34m=\u001b[0m\u001b[0mshow_progress_bar\u001b[0m\u001b[0;34m,\u001b[0m\u001b[0;34m\u001b[0m\u001b[0;34m\u001b[0m\u001b[0m\n\u001b[0m\u001b[1;32m    410\u001b[0m         )\n\u001b[1;32m    411\u001b[0m \u001b[0;34m\u001b[0m\u001b[0m\n",
      "\u001b[0;32m~/venv/lib/python3.7/site-packages/optuna/_optimize.py\u001b[0m in \u001b[0;36m_optimize\u001b[0;34m(study, func, n_trials, timeout, n_jobs, catch, callbacks, gc_after_trial, show_progress_bar)\u001b[0m\n\u001b[1;32m     74\u001b[0m                 \u001b[0mreseed_sampler_rng\u001b[0m\u001b[0;34m=\u001b[0m\u001b[0;32mFalse\u001b[0m\u001b[0;34m,\u001b[0m\u001b[0;34m\u001b[0m\u001b[0;34m\u001b[0m\u001b[0m\n\u001b[1;32m     75\u001b[0m                 \u001b[0mtime_start\u001b[0m\u001b[0;34m=\u001b[0m\u001b[0;32mNone\u001b[0m\u001b[0;34m,\u001b[0m\u001b[0;34m\u001b[0m\u001b[0;34m\u001b[0m\u001b[0m\n\u001b[0;32m---> 76\u001b[0;31m                 \u001b[0mprogress_bar\u001b[0m\u001b[0;34m=\u001b[0m\u001b[0mprogress_bar\u001b[0m\u001b[0;34m,\u001b[0m\u001b[0;34m\u001b[0m\u001b[0;34m\u001b[0m\u001b[0m\n\u001b[0m\u001b[1;32m     77\u001b[0m             )\n\u001b[1;32m     78\u001b[0m         \u001b[0;32melse\u001b[0m\u001b[0;34m:\u001b[0m\u001b[0;34m\u001b[0m\u001b[0;34m\u001b[0m\u001b[0m\n",
      "\u001b[0;32m~/venv/lib/python3.7/site-packages/optuna/_optimize.py\u001b[0m in \u001b[0;36m_optimize_sequential\u001b[0;34m(study, func, n_trials, timeout, catch, callbacks, gc_after_trial, reseed_sampler_rng, time_start, progress_bar)\u001b[0m\n\u001b[1;32m    161\u001b[0m \u001b[0;34m\u001b[0m\u001b[0m\n\u001b[1;32m    162\u001b[0m         \u001b[0;32mtry\u001b[0m\u001b[0;34m:\u001b[0m\u001b[0;34m\u001b[0m\u001b[0;34m\u001b[0m\u001b[0m\n\u001b[0;32m--> 163\u001b[0;31m             \u001b[0mtrial\u001b[0m \u001b[0;34m=\u001b[0m \u001b[0m_run_trial\u001b[0m\u001b[0;34m(\u001b[0m\u001b[0mstudy\u001b[0m\u001b[0;34m,\u001b[0m \u001b[0mfunc\u001b[0m\u001b[0;34m,\u001b[0m \u001b[0mcatch\u001b[0m\u001b[0;34m)\u001b[0m\u001b[0;34m\u001b[0m\u001b[0;34m\u001b[0m\u001b[0m\n\u001b[0m\u001b[1;32m    164\u001b[0m         \u001b[0;32mexcept\u001b[0m \u001b[0mException\u001b[0m\u001b[0;34m:\u001b[0m\u001b[0;34m\u001b[0m\u001b[0;34m\u001b[0m\u001b[0m\n\u001b[1;32m    165\u001b[0m             \u001b[0;32mraise\u001b[0m\u001b[0;34m\u001b[0m\u001b[0;34m\u001b[0m\u001b[0m\n",
      "\u001b[0;32m~/venv/lib/python3.7/site-packages/optuna/_optimize.py\u001b[0m in \u001b[0;36m_run_trial\u001b[0;34m(study, func, catch)\u001b[0m\n\u001b[1;32m    215\u001b[0m \u001b[0;34m\u001b[0m\u001b[0m\n\u001b[1;32m    216\u001b[0m     \u001b[0;32mtry\u001b[0m\u001b[0;34m:\u001b[0m\u001b[0;34m\u001b[0m\u001b[0;34m\u001b[0m\u001b[0m\n\u001b[0;32m--> 217\u001b[0;31m         \u001b[0mvalue_or_values\u001b[0m \u001b[0;34m=\u001b[0m \u001b[0mfunc\u001b[0m\u001b[0;34m(\u001b[0m\u001b[0mtrial\u001b[0m\u001b[0;34m)\u001b[0m\u001b[0;34m\u001b[0m\u001b[0;34m\u001b[0m\u001b[0m\n\u001b[0m\u001b[1;32m    218\u001b[0m     \u001b[0;32mexcept\u001b[0m \u001b[0mexceptions\u001b[0m\u001b[0;34m.\u001b[0m\u001b[0mTrialPruned\u001b[0m \u001b[0;32mas\u001b[0m \u001b[0me\u001b[0m\u001b[0;34m:\u001b[0m\u001b[0;34m\u001b[0m\u001b[0;34m\u001b[0m\u001b[0m\n\u001b[1;32m    219\u001b[0m         \u001b[0;31m# TODO(mamu): Handle multi-objective cases.\u001b[0m\u001b[0;34m\u001b[0m\u001b[0;34m\u001b[0m\u001b[0;34m\u001b[0m\u001b[0m\n",
      "\u001b[0;32m<ipython-input-150-448e23bcdb70>\u001b[0m in \u001b[0;36mobjective\u001b[0;34m(trial)\u001b[0m\n\u001b[1;32m     13\u001b[0m \u001b[0;34m\u001b[0m\u001b[0m\n\u001b[1;32m     14\u001b[0m \u001b[0;34m\u001b[0m\u001b[0m\n\u001b[0;32m---> 15\u001b[0;31m     \u001b[0;32mreturn\u001b[0m \u001b[0msklearn\u001b[0m\u001b[0;34m.\u001b[0m\u001b[0mmodel_selection\u001b[0m\u001b[0;34m.\u001b[0m\u001b[0mcross_val_score\u001b[0m\u001b[0;34m(\u001b[0m\u001b[0mclf\u001b[0m\u001b[0;34m,\u001b[0m \u001b[0mx\u001b[0m\u001b[0;34m,\u001b[0m \u001b[0my\u001b[0m\u001b[0;34m,\u001b[0m \u001b[0mcv\u001b[0m\u001b[0;34m=\u001b[0m\u001b[0mskf\u001b[0m\u001b[0;34m)\u001b[0m\u001b[0;34m.\u001b[0m\u001b[0mmean\u001b[0m\u001b[0;34m(\u001b[0m\u001b[0;34m)\u001b[0m\u001b[0;34m\u001b[0m\u001b[0;34m\u001b[0m\u001b[0m\n\u001b[0m\u001b[1;32m     16\u001b[0m \u001b[0;34m\u001b[0m\u001b[0m\n",
      "\u001b[0;32m/shared-libs/python3.7/py/lib/python3.7/site-packages/sklearn/utils/validation.py\u001b[0m in \u001b[0;36minner_f\u001b[0;34m(*args, **kwargs)\u001b[0m\n\u001b[1;32m     61\u001b[0m             \u001b[0mextra_args\u001b[0m \u001b[0;34m=\u001b[0m \u001b[0mlen\u001b[0m\u001b[0;34m(\u001b[0m\u001b[0margs\u001b[0m\u001b[0;34m)\u001b[0m \u001b[0;34m-\u001b[0m \u001b[0mlen\u001b[0m\u001b[0;34m(\u001b[0m\u001b[0mall_args\u001b[0m\u001b[0;34m)\u001b[0m\u001b[0;34m\u001b[0m\u001b[0;34m\u001b[0m\u001b[0m\n\u001b[1;32m     62\u001b[0m             \u001b[0;32mif\u001b[0m \u001b[0mextra_args\u001b[0m \u001b[0;34m<=\u001b[0m \u001b[0;36m0\u001b[0m\u001b[0;34m:\u001b[0m\u001b[0;34m\u001b[0m\u001b[0;34m\u001b[0m\u001b[0m\n\u001b[0;32m---> 63\u001b[0;31m                 \u001b[0;32mreturn\u001b[0m \u001b[0mf\u001b[0m\u001b[0;34m(\u001b[0m\u001b[0;34m*\u001b[0m\u001b[0margs\u001b[0m\u001b[0;34m,\u001b[0m \u001b[0;34m**\u001b[0m\u001b[0mkwargs\u001b[0m\u001b[0;34m)\u001b[0m\u001b[0;34m\u001b[0m\u001b[0;34m\u001b[0m\u001b[0m\n\u001b[0m\u001b[1;32m     64\u001b[0m \u001b[0;34m\u001b[0m\u001b[0m\n\u001b[1;32m     65\u001b[0m             \u001b[0;31m# extra_args > 0\u001b[0m\u001b[0;34m\u001b[0m\u001b[0;34m\u001b[0m\u001b[0;34m\u001b[0m\u001b[0m\n",
      "\u001b[0;32m/shared-libs/python3.7/py/lib/python3.7/site-packages/sklearn/model_selection/_validation.py\u001b[0m in \u001b[0;36mcross_val_score\u001b[0;34m(estimator, X, y, groups, scoring, cv, n_jobs, verbose, fit_params, pre_dispatch, error_score)\u001b[0m\n\u001b[1;32m    448\u001b[0m                                 \u001b[0mfit_params\u001b[0m\u001b[0;34m=\u001b[0m\u001b[0mfit_params\u001b[0m\u001b[0;34m,\u001b[0m\u001b[0;34m\u001b[0m\u001b[0;34m\u001b[0m\u001b[0m\n\u001b[1;32m    449\u001b[0m                                 \u001b[0mpre_dispatch\u001b[0m\u001b[0;34m=\u001b[0m\u001b[0mpre_dispatch\u001b[0m\u001b[0;34m,\u001b[0m\u001b[0;34m\u001b[0m\u001b[0;34m\u001b[0m\u001b[0m\n\u001b[0;32m--> 450\u001b[0;31m                                 error_score=error_score)\n\u001b[0m\u001b[1;32m    451\u001b[0m     \u001b[0;32mreturn\u001b[0m \u001b[0mcv_results\u001b[0m\u001b[0;34m[\u001b[0m\u001b[0;34m'test_score'\u001b[0m\u001b[0;34m]\u001b[0m\u001b[0;34m\u001b[0m\u001b[0;34m\u001b[0m\u001b[0m\n\u001b[1;32m    452\u001b[0m \u001b[0;34m\u001b[0m\u001b[0m\n",
      "\u001b[0;32m/shared-libs/python3.7/py/lib/python3.7/site-packages/sklearn/utils/validation.py\u001b[0m in \u001b[0;36minner_f\u001b[0;34m(*args, **kwargs)\u001b[0m\n\u001b[1;32m     61\u001b[0m             \u001b[0mextra_args\u001b[0m \u001b[0;34m=\u001b[0m \u001b[0mlen\u001b[0m\u001b[0;34m(\u001b[0m\u001b[0margs\u001b[0m\u001b[0;34m)\u001b[0m \u001b[0;34m-\u001b[0m \u001b[0mlen\u001b[0m\u001b[0;34m(\u001b[0m\u001b[0mall_args\u001b[0m\u001b[0;34m)\u001b[0m\u001b[0;34m\u001b[0m\u001b[0;34m\u001b[0m\u001b[0m\n\u001b[1;32m     62\u001b[0m             \u001b[0;32mif\u001b[0m \u001b[0mextra_args\u001b[0m \u001b[0;34m<=\u001b[0m \u001b[0;36m0\u001b[0m\u001b[0;34m:\u001b[0m\u001b[0;34m\u001b[0m\u001b[0;34m\u001b[0m\u001b[0m\n\u001b[0;32m---> 63\u001b[0;31m                 \u001b[0;32mreturn\u001b[0m \u001b[0mf\u001b[0m\u001b[0;34m(\u001b[0m\u001b[0;34m*\u001b[0m\u001b[0margs\u001b[0m\u001b[0;34m,\u001b[0m \u001b[0;34m**\u001b[0m\u001b[0mkwargs\u001b[0m\u001b[0;34m)\u001b[0m\u001b[0;34m\u001b[0m\u001b[0;34m\u001b[0m\u001b[0m\n\u001b[0m\u001b[1;32m     64\u001b[0m \u001b[0;34m\u001b[0m\u001b[0m\n\u001b[1;32m     65\u001b[0m             \u001b[0;31m# extra_args > 0\u001b[0m\u001b[0;34m\u001b[0m\u001b[0;34m\u001b[0m\u001b[0;34m\u001b[0m\u001b[0m\n",
      "\u001b[0;32m/shared-libs/python3.7/py/lib/python3.7/site-packages/sklearn/model_selection/_validation.py\u001b[0m in \u001b[0;36mcross_validate\u001b[0;34m(estimator, X, y, groups, scoring, cv, n_jobs, verbose, fit_params, pre_dispatch, return_train_score, return_estimator, error_score)\u001b[0m\n\u001b[1;32m    254\u001b[0m             \u001b[0mreturn_times\u001b[0m\u001b[0;34m=\u001b[0m\u001b[0;32mTrue\u001b[0m\u001b[0;34m,\u001b[0m \u001b[0mreturn_estimator\u001b[0m\u001b[0;34m=\u001b[0m\u001b[0mreturn_estimator\u001b[0m\u001b[0;34m,\u001b[0m\u001b[0;34m\u001b[0m\u001b[0;34m\u001b[0m\u001b[0m\n\u001b[1;32m    255\u001b[0m             error_score=error_score)\n\u001b[0;32m--> 256\u001b[0;31m         for train, test in cv.split(X, y, groups))\n\u001b[0m\u001b[1;32m    257\u001b[0m \u001b[0;34m\u001b[0m\u001b[0m\n\u001b[1;32m    258\u001b[0m     \u001b[0;31m# For callabe scoring, the return type is only know after calling. If the\u001b[0m\u001b[0;34m\u001b[0m\u001b[0;34m\u001b[0m\u001b[0;34m\u001b[0m\u001b[0m\n",
      "\u001b[0;32m/shared-libs/python3.7/py/lib/python3.7/site-packages/joblib/parallel.py\u001b[0m in \u001b[0;36m__call__\u001b[0;34m(self, iterable)\u001b[0m\n\u001b[1;32m   1042\u001b[0m                 \u001b[0mself\u001b[0m\u001b[0;34m.\u001b[0m\u001b[0m_iterating\u001b[0m \u001b[0;34m=\u001b[0m \u001b[0mself\u001b[0m\u001b[0;34m.\u001b[0m\u001b[0m_original_iterator\u001b[0m \u001b[0;32mis\u001b[0m \u001b[0;32mnot\u001b[0m \u001b[0;32mNone\u001b[0m\u001b[0;34m\u001b[0m\u001b[0;34m\u001b[0m\u001b[0m\n\u001b[1;32m   1043\u001b[0m \u001b[0;34m\u001b[0m\u001b[0m\n\u001b[0;32m-> 1044\u001b[0;31m             \u001b[0;32mwhile\u001b[0m \u001b[0mself\u001b[0m\u001b[0;34m.\u001b[0m\u001b[0mdispatch_one_batch\u001b[0m\u001b[0;34m(\u001b[0m\u001b[0miterator\u001b[0m\u001b[0;34m)\u001b[0m\u001b[0;34m:\u001b[0m\u001b[0;34m\u001b[0m\u001b[0;34m\u001b[0m\u001b[0m\n\u001b[0m\u001b[1;32m   1045\u001b[0m                 \u001b[0;32mpass\u001b[0m\u001b[0;34m\u001b[0m\u001b[0;34m\u001b[0m\u001b[0m\n\u001b[1;32m   1046\u001b[0m \u001b[0;34m\u001b[0m\u001b[0m\n",
      "\u001b[0;32m/shared-libs/python3.7/py/lib/python3.7/site-packages/joblib/parallel.py\u001b[0m in \u001b[0;36mdispatch_one_batch\u001b[0;34m(self, iterator)\u001b[0m\n\u001b[1;32m    857\u001b[0m                 \u001b[0;32mreturn\u001b[0m \u001b[0;32mFalse\u001b[0m\u001b[0;34m\u001b[0m\u001b[0;34m\u001b[0m\u001b[0m\n\u001b[1;32m    858\u001b[0m             \u001b[0;32melse\u001b[0m\u001b[0;34m:\u001b[0m\u001b[0;34m\u001b[0m\u001b[0;34m\u001b[0m\u001b[0m\n\u001b[0;32m--> 859\u001b[0;31m                 \u001b[0mself\u001b[0m\u001b[0;34m.\u001b[0m\u001b[0m_dispatch\u001b[0m\u001b[0;34m(\u001b[0m\u001b[0mtasks\u001b[0m\u001b[0;34m)\u001b[0m\u001b[0;34m\u001b[0m\u001b[0;34m\u001b[0m\u001b[0m\n\u001b[0m\u001b[1;32m    860\u001b[0m                 \u001b[0;32mreturn\u001b[0m \u001b[0;32mTrue\u001b[0m\u001b[0;34m\u001b[0m\u001b[0;34m\u001b[0m\u001b[0m\n\u001b[1;32m    861\u001b[0m \u001b[0;34m\u001b[0m\u001b[0m\n",
      "\u001b[0;32m/shared-libs/python3.7/py/lib/python3.7/site-packages/joblib/parallel.py\u001b[0m in \u001b[0;36m_dispatch\u001b[0;34m(self, batch)\u001b[0m\n\u001b[1;32m    775\u001b[0m         \u001b[0;32mwith\u001b[0m \u001b[0mself\u001b[0m\u001b[0;34m.\u001b[0m\u001b[0m_lock\u001b[0m\u001b[0;34m:\u001b[0m\u001b[0;34m\u001b[0m\u001b[0;34m\u001b[0m\u001b[0m\n\u001b[1;32m    776\u001b[0m             \u001b[0mjob_idx\u001b[0m \u001b[0;34m=\u001b[0m \u001b[0mlen\u001b[0m\u001b[0;34m(\u001b[0m\u001b[0mself\u001b[0m\u001b[0;34m.\u001b[0m\u001b[0m_jobs\u001b[0m\u001b[0;34m)\u001b[0m\u001b[0;34m\u001b[0m\u001b[0;34m\u001b[0m\u001b[0m\n\u001b[0;32m--> 777\u001b[0;31m             \u001b[0mjob\u001b[0m \u001b[0;34m=\u001b[0m \u001b[0mself\u001b[0m\u001b[0;34m.\u001b[0m\u001b[0m_backend\u001b[0m\u001b[0;34m.\u001b[0m\u001b[0mapply_async\u001b[0m\u001b[0;34m(\u001b[0m\u001b[0mbatch\u001b[0m\u001b[0;34m,\u001b[0m \u001b[0mcallback\u001b[0m\u001b[0;34m=\u001b[0m\u001b[0mcb\u001b[0m\u001b[0;34m)\u001b[0m\u001b[0;34m\u001b[0m\u001b[0;34m\u001b[0m\u001b[0m\n\u001b[0m\u001b[1;32m    778\u001b[0m             \u001b[0;31m# A job can complete so quickly than its callback is\u001b[0m\u001b[0;34m\u001b[0m\u001b[0;34m\u001b[0m\u001b[0;34m\u001b[0m\u001b[0m\n\u001b[1;32m    779\u001b[0m             \u001b[0;31m# called before we get here, causing self._jobs to\u001b[0m\u001b[0;34m\u001b[0m\u001b[0;34m\u001b[0m\u001b[0;34m\u001b[0m\u001b[0m\n",
      "\u001b[0;32m/shared-libs/python3.7/py/lib/python3.7/site-packages/joblib/_parallel_backends.py\u001b[0m in \u001b[0;36mapply_async\u001b[0;34m(self, func, callback)\u001b[0m\n\u001b[1;32m    206\u001b[0m     \u001b[0;32mdef\u001b[0m \u001b[0mapply_async\u001b[0m\u001b[0;34m(\u001b[0m\u001b[0mself\u001b[0m\u001b[0;34m,\u001b[0m \u001b[0mfunc\u001b[0m\u001b[0;34m,\u001b[0m \u001b[0mcallback\u001b[0m\u001b[0;34m=\u001b[0m\u001b[0;32mNone\u001b[0m\u001b[0;34m)\u001b[0m\u001b[0;34m:\u001b[0m\u001b[0;34m\u001b[0m\u001b[0;34m\u001b[0m\u001b[0m\n\u001b[1;32m    207\u001b[0m         \u001b[0;34m\"\"\"Schedule a func to be run\"\"\"\u001b[0m\u001b[0;34m\u001b[0m\u001b[0;34m\u001b[0m\u001b[0m\n\u001b[0;32m--> 208\u001b[0;31m         \u001b[0mresult\u001b[0m \u001b[0;34m=\u001b[0m \u001b[0mImmediateResult\u001b[0m\u001b[0;34m(\u001b[0m\u001b[0mfunc\u001b[0m\u001b[0;34m)\u001b[0m\u001b[0;34m\u001b[0m\u001b[0;34m\u001b[0m\u001b[0m\n\u001b[0m\u001b[1;32m    209\u001b[0m         \u001b[0;32mif\u001b[0m \u001b[0mcallback\u001b[0m\u001b[0;34m:\u001b[0m\u001b[0;34m\u001b[0m\u001b[0;34m\u001b[0m\u001b[0m\n\u001b[1;32m    210\u001b[0m             \u001b[0mcallback\u001b[0m\u001b[0;34m(\u001b[0m\u001b[0mresult\u001b[0m\u001b[0;34m)\u001b[0m\u001b[0;34m\u001b[0m\u001b[0;34m\u001b[0m\u001b[0m\n",
      "\u001b[0;32m/shared-libs/python3.7/py/lib/python3.7/site-packages/joblib/_parallel_backends.py\u001b[0m in \u001b[0;36m__init__\u001b[0;34m(self, batch)\u001b[0m\n\u001b[1;32m    570\u001b[0m         \u001b[0;31m# Don't delay the application, to avoid keeping the input\u001b[0m\u001b[0;34m\u001b[0m\u001b[0;34m\u001b[0m\u001b[0;34m\u001b[0m\u001b[0m\n\u001b[1;32m    571\u001b[0m         \u001b[0;31m# arguments in memory\u001b[0m\u001b[0;34m\u001b[0m\u001b[0;34m\u001b[0m\u001b[0;34m\u001b[0m\u001b[0m\n\u001b[0;32m--> 572\u001b[0;31m         \u001b[0mself\u001b[0m\u001b[0;34m.\u001b[0m\u001b[0mresults\u001b[0m \u001b[0;34m=\u001b[0m \u001b[0mbatch\u001b[0m\u001b[0;34m(\u001b[0m\u001b[0;34m)\u001b[0m\u001b[0;34m\u001b[0m\u001b[0;34m\u001b[0m\u001b[0m\n\u001b[0m\u001b[1;32m    573\u001b[0m \u001b[0;34m\u001b[0m\u001b[0m\n\u001b[1;32m    574\u001b[0m     \u001b[0;32mdef\u001b[0m \u001b[0mget\u001b[0m\u001b[0;34m(\u001b[0m\u001b[0mself\u001b[0m\u001b[0;34m)\u001b[0m\u001b[0;34m:\u001b[0m\u001b[0;34m\u001b[0m\u001b[0;34m\u001b[0m\u001b[0m\n",
      "\u001b[0;32m/shared-libs/python3.7/py/lib/python3.7/site-packages/joblib/parallel.py\u001b[0m in \u001b[0;36m__call__\u001b[0;34m(self)\u001b[0m\n\u001b[1;32m    261\u001b[0m         \u001b[0;32mwith\u001b[0m \u001b[0mparallel_backend\u001b[0m\u001b[0;34m(\u001b[0m\u001b[0mself\u001b[0m\u001b[0;34m.\u001b[0m\u001b[0m_backend\u001b[0m\u001b[0;34m,\u001b[0m \u001b[0mn_jobs\u001b[0m\u001b[0;34m=\u001b[0m\u001b[0mself\u001b[0m\u001b[0;34m.\u001b[0m\u001b[0m_n_jobs\u001b[0m\u001b[0;34m)\u001b[0m\u001b[0;34m:\u001b[0m\u001b[0;34m\u001b[0m\u001b[0;34m\u001b[0m\u001b[0m\n\u001b[1;32m    262\u001b[0m             return [func(*args, **kwargs)\n\u001b[0;32m--> 263\u001b[0;31m                     for func, args, kwargs in self.items]\n\u001b[0m\u001b[1;32m    264\u001b[0m \u001b[0;34m\u001b[0m\u001b[0m\n\u001b[1;32m    265\u001b[0m     \u001b[0;32mdef\u001b[0m \u001b[0m__reduce__\u001b[0m\u001b[0;34m(\u001b[0m\u001b[0mself\u001b[0m\u001b[0;34m)\u001b[0m\u001b[0;34m:\u001b[0m\u001b[0;34m\u001b[0m\u001b[0;34m\u001b[0m\u001b[0m\n",
      "\u001b[0;32m/shared-libs/python3.7/py/lib/python3.7/site-packages/joblib/parallel.py\u001b[0m in \u001b[0;36m<listcomp>\u001b[0;34m(.0)\u001b[0m\n\u001b[1;32m    261\u001b[0m         \u001b[0;32mwith\u001b[0m \u001b[0mparallel_backend\u001b[0m\u001b[0;34m(\u001b[0m\u001b[0mself\u001b[0m\u001b[0;34m.\u001b[0m\u001b[0m_backend\u001b[0m\u001b[0;34m,\u001b[0m \u001b[0mn_jobs\u001b[0m\u001b[0;34m=\u001b[0m\u001b[0mself\u001b[0m\u001b[0;34m.\u001b[0m\u001b[0m_n_jobs\u001b[0m\u001b[0;34m)\u001b[0m\u001b[0;34m:\u001b[0m\u001b[0;34m\u001b[0m\u001b[0;34m\u001b[0m\u001b[0m\n\u001b[1;32m    262\u001b[0m             return [func(*args, **kwargs)\n\u001b[0;32m--> 263\u001b[0;31m                     for func, args, kwargs in self.items]\n\u001b[0m\u001b[1;32m    264\u001b[0m \u001b[0;34m\u001b[0m\u001b[0m\n\u001b[1;32m    265\u001b[0m     \u001b[0;32mdef\u001b[0m \u001b[0m__reduce__\u001b[0m\u001b[0;34m(\u001b[0m\u001b[0mself\u001b[0m\u001b[0;34m)\u001b[0m\u001b[0;34m:\u001b[0m\u001b[0;34m\u001b[0m\u001b[0;34m\u001b[0m\u001b[0m\n",
      "\u001b[0;32m/shared-libs/python3.7/py/lib/python3.7/site-packages/sklearn/utils/fixes.py\u001b[0m in \u001b[0;36m__call__\u001b[0;34m(self, *args, **kwargs)\u001b[0m\n\u001b[1;32m    220\u001b[0m     \u001b[0;32mdef\u001b[0m \u001b[0m__call__\u001b[0m\u001b[0;34m(\u001b[0m\u001b[0mself\u001b[0m\u001b[0;34m,\u001b[0m \u001b[0;34m*\u001b[0m\u001b[0margs\u001b[0m\u001b[0;34m,\u001b[0m \u001b[0;34m**\u001b[0m\u001b[0mkwargs\u001b[0m\u001b[0;34m)\u001b[0m\u001b[0;34m:\u001b[0m\u001b[0;34m\u001b[0m\u001b[0;34m\u001b[0m\u001b[0m\n\u001b[1;32m    221\u001b[0m         \u001b[0;32mwith\u001b[0m \u001b[0mconfig_context\u001b[0m\u001b[0;34m(\u001b[0m\u001b[0;34m**\u001b[0m\u001b[0mself\u001b[0m\u001b[0;34m.\u001b[0m\u001b[0mconfig\u001b[0m\u001b[0;34m)\u001b[0m\u001b[0;34m:\u001b[0m\u001b[0;34m\u001b[0m\u001b[0;34m\u001b[0m\u001b[0m\n\u001b[0;32m--> 222\u001b[0;31m             \u001b[0;32mreturn\u001b[0m \u001b[0mself\u001b[0m\u001b[0;34m.\u001b[0m\u001b[0mfunction\u001b[0m\u001b[0;34m(\u001b[0m\u001b[0;34m*\u001b[0m\u001b[0margs\u001b[0m\u001b[0;34m,\u001b[0m \u001b[0;34m**\u001b[0m\u001b[0mkwargs\u001b[0m\u001b[0;34m)\u001b[0m\u001b[0;34m\u001b[0m\u001b[0;34m\u001b[0m\u001b[0m\n\u001b[0m",
      "\u001b[0;32m/shared-libs/python3.7/py/lib/python3.7/site-packages/sklearn/model_selection/_validation.py\u001b[0m in \u001b[0;36m_fit_and_score\u001b[0;34m(estimator, X, y, scorer, train, test, verbose, parameters, fit_params, return_train_score, return_parameters, return_n_test_samples, return_times, return_estimator, split_progress, candidate_progress, error_score)\u001b[0m\n\u001b[1;32m    596\u001b[0m             \u001b[0mestimator\u001b[0m\u001b[0;34m.\u001b[0m\u001b[0mfit\u001b[0m\u001b[0;34m(\u001b[0m\u001b[0mX_train\u001b[0m\u001b[0;34m,\u001b[0m \u001b[0;34m**\u001b[0m\u001b[0mfit_params\u001b[0m\u001b[0;34m)\u001b[0m\u001b[0;34m\u001b[0m\u001b[0;34m\u001b[0m\u001b[0m\n\u001b[1;32m    597\u001b[0m         \u001b[0;32melse\u001b[0m\u001b[0;34m:\u001b[0m\u001b[0;34m\u001b[0m\u001b[0;34m\u001b[0m\u001b[0m\n\u001b[0;32m--> 598\u001b[0;31m             \u001b[0mestimator\u001b[0m\u001b[0;34m.\u001b[0m\u001b[0mfit\u001b[0m\u001b[0;34m(\u001b[0m\u001b[0mX_train\u001b[0m\u001b[0;34m,\u001b[0m \u001b[0my_train\u001b[0m\u001b[0;34m,\u001b[0m \u001b[0;34m**\u001b[0m\u001b[0mfit_params\u001b[0m\u001b[0;34m)\u001b[0m\u001b[0;34m\u001b[0m\u001b[0;34m\u001b[0m\u001b[0m\n\u001b[0m\u001b[1;32m    599\u001b[0m \u001b[0;34m\u001b[0m\u001b[0m\n\u001b[1;32m    600\u001b[0m     \u001b[0;32mexcept\u001b[0m \u001b[0mException\u001b[0m \u001b[0;32mas\u001b[0m \u001b[0me\u001b[0m\u001b[0;34m:\u001b[0m\u001b[0;34m\u001b[0m\u001b[0;34m\u001b[0m\u001b[0m\n",
      "\u001b[0;32m/shared-libs/python3.7/py/lib/python3.7/site-packages/sklearn/pipeline.py\u001b[0m in \u001b[0;36mfit\u001b[0;34m(self, X, y, **fit_params)\u001b[0m\n\u001b[1;32m    344\u001b[0m             \u001b[0;32mif\u001b[0m \u001b[0mself\u001b[0m\u001b[0;34m.\u001b[0m\u001b[0m_final_estimator\u001b[0m \u001b[0;34m!=\u001b[0m \u001b[0;34m'passthrough'\u001b[0m\u001b[0;34m:\u001b[0m\u001b[0;34m\u001b[0m\u001b[0;34m\u001b[0m\u001b[0m\n\u001b[1;32m    345\u001b[0m                 \u001b[0mfit_params_last_step\u001b[0m \u001b[0;34m=\u001b[0m \u001b[0mfit_params_steps\u001b[0m\u001b[0;34m[\u001b[0m\u001b[0mself\u001b[0m\u001b[0;34m.\u001b[0m\u001b[0msteps\u001b[0m\u001b[0;34m[\u001b[0m\u001b[0;34m-\u001b[0m\u001b[0;36m1\u001b[0m\u001b[0;34m]\u001b[0m\u001b[0;34m[\u001b[0m\u001b[0;36m0\u001b[0m\u001b[0;34m]\u001b[0m\u001b[0;34m]\u001b[0m\u001b[0;34m\u001b[0m\u001b[0;34m\u001b[0m\u001b[0m\n\u001b[0;32m--> 346\u001b[0;31m                 \u001b[0mself\u001b[0m\u001b[0;34m.\u001b[0m\u001b[0m_final_estimator\u001b[0m\u001b[0;34m.\u001b[0m\u001b[0mfit\u001b[0m\u001b[0;34m(\u001b[0m\u001b[0mXt\u001b[0m\u001b[0;34m,\u001b[0m \u001b[0my\u001b[0m\u001b[0;34m,\u001b[0m \u001b[0;34m**\u001b[0m\u001b[0mfit_params_last_step\u001b[0m\u001b[0;34m)\u001b[0m\u001b[0;34m\u001b[0m\u001b[0;34m\u001b[0m\u001b[0m\n\u001b[0m\u001b[1;32m    347\u001b[0m \u001b[0;34m\u001b[0m\u001b[0m\n\u001b[1;32m    348\u001b[0m         \u001b[0;32mreturn\u001b[0m \u001b[0mself\u001b[0m\u001b[0;34m\u001b[0m\u001b[0;34m\u001b[0m\u001b[0m\n",
      "\u001b[0;32m/shared-libs/python3.7/py/lib/python3.7/site-packages/sklearn/ensemble/_gb.py\u001b[0m in \u001b[0;36mfit\u001b[0;34m(self, X, y, sample_weight, monitor)\u001b[0m\n\u001b[1;32m    504\u001b[0m         n_stages = self._fit_stages(\n\u001b[1;32m    505\u001b[0m             \u001b[0mX\u001b[0m\u001b[0;34m,\u001b[0m \u001b[0my\u001b[0m\u001b[0;34m,\u001b[0m \u001b[0mraw_predictions\u001b[0m\u001b[0;34m,\u001b[0m \u001b[0msample_weight\u001b[0m\u001b[0;34m,\u001b[0m \u001b[0mself\u001b[0m\u001b[0;34m.\u001b[0m\u001b[0m_rng\u001b[0m\u001b[0;34m,\u001b[0m \u001b[0mX_val\u001b[0m\u001b[0;34m,\u001b[0m \u001b[0my_val\u001b[0m\u001b[0;34m,\u001b[0m\u001b[0;34m\u001b[0m\u001b[0;34m\u001b[0m\u001b[0m\n\u001b[0;32m--> 506\u001b[0;31m             sample_weight_val, begin_at_stage, monitor)\n\u001b[0m\u001b[1;32m    507\u001b[0m \u001b[0;34m\u001b[0m\u001b[0m\n\u001b[1;32m    508\u001b[0m         \u001b[0;31m# change shape of arrays after fit (early-stopping or additional ests)\u001b[0m\u001b[0;34m\u001b[0m\u001b[0;34m\u001b[0m\u001b[0;34m\u001b[0m\u001b[0m\n",
      "\u001b[0;32m/shared-libs/python3.7/py/lib/python3.7/site-packages/sklearn/ensemble/_gb.py\u001b[0m in \u001b[0;36m_fit_stages\u001b[0;34m(self, X, y, raw_predictions, sample_weight, random_state, X_val, y_val, sample_weight_val, begin_at_stage, monitor)\u001b[0m\n\u001b[1;32m    561\u001b[0m             raw_predictions = self._fit_stage(\n\u001b[1;32m    562\u001b[0m                 \u001b[0mi\u001b[0m\u001b[0;34m,\u001b[0m \u001b[0mX\u001b[0m\u001b[0;34m,\u001b[0m \u001b[0my\u001b[0m\u001b[0;34m,\u001b[0m \u001b[0mraw_predictions\u001b[0m\u001b[0;34m,\u001b[0m \u001b[0msample_weight\u001b[0m\u001b[0;34m,\u001b[0m \u001b[0msample_mask\u001b[0m\u001b[0;34m,\u001b[0m\u001b[0;34m\u001b[0m\u001b[0;34m\u001b[0m\u001b[0m\n\u001b[0;32m--> 563\u001b[0;31m                 random_state, X_csc, X_csr)\n\u001b[0m\u001b[1;32m    564\u001b[0m \u001b[0;34m\u001b[0m\u001b[0m\n\u001b[1;32m    565\u001b[0m             \u001b[0;31m# track deviance (= loss)\u001b[0m\u001b[0;34m\u001b[0m\u001b[0;34m\u001b[0m\u001b[0;34m\u001b[0m\u001b[0m\n",
      "\u001b[0;32m/shared-libs/python3.7/py/lib/python3.7/site-packages/sklearn/ensemble/_gb.py\u001b[0m in \u001b[0;36m_fit_stage\u001b[0;34m(self, i, X, y, raw_predictions, sample_weight, sample_mask, random_state, X_csc, X_csr)\u001b[0m\n\u001b[1;32m    213\u001b[0m             \u001b[0mX\u001b[0m \u001b[0;34m=\u001b[0m \u001b[0mX_csr\u001b[0m \u001b[0;32mif\u001b[0m \u001b[0mX_csr\u001b[0m \u001b[0;32mis\u001b[0m \u001b[0;32mnot\u001b[0m \u001b[0;32mNone\u001b[0m \u001b[0;32melse\u001b[0m \u001b[0mX\u001b[0m\u001b[0;34m\u001b[0m\u001b[0;34m\u001b[0m\u001b[0m\n\u001b[1;32m    214\u001b[0m             tree.fit(X, residual, sample_weight=sample_weight,\n\u001b[0;32m--> 215\u001b[0;31m                      check_input=False)\n\u001b[0m\u001b[1;32m    216\u001b[0m \u001b[0;34m\u001b[0m\u001b[0m\n\u001b[1;32m    217\u001b[0m             \u001b[0;31m# update tree leaves\u001b[0m\u001b[0;34m\u001b[0m\u001b[0;34m\u001b[0m\u001b[0;34m\u001b[0m\u001b[0m\n",
      "\u001b[0;32m/shared-libs/python3.7/py/lib/python3.7/site-packages/sklearn/tree/_classes.py\u001b[0m in \u001b[0;36mfit\u001b[0;34m(self, X, y, sample_weight, check_input, X_idx_sorted)\u001b[0m\n\u001b[1;32m   1254\u001b[0m             \u001b[0msample_weight\u001b[0m\u001b[0;34m=\u001b[0m\u001b[0msample_weight\u001b[0m\u001b[0;34m,\u001b[0m\u001b[0;34m\u001b[0m\u001b[0;34m\u001b[0m\u001b[0m\n\u001b[1;32m   1255\u001b[0m             \u001b[0mcheck_input\u001b[0m\u001b[0;34m=\u001b[0m\u001b[0mcheck_input\u001b[0m\u001b[0;34m,\u001b[0m\u001b[0;34m\u001b[0m\u001b[0;34m\u001b[0m\u001b[0m\n\u001b[0;32m-> 1256\u001b[0;31m             X_idx_sorted=X_idx_sorted)\n\u001b[0m\u001b[1;32m   1257\u001b[0m         \u001b[0;32mreturn\u001b[0m \u001b[0mself\u001b[0m\u001b[0;34m\u001b[0m\u001b[0;34m\u001b[0m\u001b[0m\n\u001b[1;32m   1258\u001b[0m \u001b[0;34m\u001b[0m\u001b[0m\n",
      "\u001b[0;32m/shared-libs/python3.7/py/lib/python3.7/site-packages/sklearn/tree/_classes.py\u001b[0m in \u001b[0;36mfit\u001b[0;34m(self, X, y, sample_weight, check_input, X_idx_sorted)\u001b[0m\n\u001b[1;32m    392\u001b[0m                                            min_impurity_split)\n\u001b[1;32m    393\u001b[0m \u001b[0;34m\u001b[0m\u001b[0m\n\u001b[0;32m--> 394\u001b[0;31m         \u001b[0mbuilder\u001b[0m\u001b[0;34m.\u001b[0m\u001b[0mbuild\u001b[0m\u001b[0;34m(\u001b[0m\u001b[0mself\u001b[0m\u001b[0;34m.\u001b[0m\u001b[0mtree_\u001b[0m\u001b[0;34m,\u001b[0m \u001b[0mX\u001b[0m\u001b[0;34m,\u001b[0m \u001b[0my\u001b[0m\u001b[0;34m,\u001b[0m \u001b[0msample_weight\u001b[0m\u001b[0;34m)\u001b[0m\u001b[0;34m\u001b[0m\u001b[0;34m\u001b[0m\u001b[0m\n\u001b[0m\u001b[1;32m    395\u001b[0m \u001b[0;34m\u001b[0m\u001b[0m\n\u001b[1;32m    396\u001b[0m         \u001b[0;32mif\u001b[0m \u001b[0mself\u001b[0m\u001b[0;34m.\u001b[0m\u001b[0mn_outputs_\u001b[0m \u001b[0;34m==\u001b[0m \u001b[0;36m1\u001b[0m \u001b[0;32mand\u001b[0m \u001b[0mis_classifier\u001b[0m\u001b[0;34m(\u001b[0m\u001b[0mself\u001b[0m\u001b[0;34m)\u001b[0m\u001b[0;34m:\u001b[0m\u001b[0;34m\u001b[0m\u001b[0;34m\u001b[0m\u001b[0m\n",
      "\u001b[0;31mKeyboardInterrupt\u001b[0m: "
     ]
    }
   ],
   "execution_count": null
  },
  {
   "cell_type": "code",
   "source": "study.best_params",
   "metadata": {
    "tags": [],
    "cell_id": "00023-6b7e18e5-f71d-4388-a53d-d9c81da110a7",
    "deepnote_to_be_reexecuted": true,
    "source_hash": "85cd347",
    "execution_start": 1620984195938,
    "execution_millis": 19,
    "deepnote_cell_type": "code"
   },
   "outputs": [
    {
     "output_type": "execute_result",
     "execution_count": 153,
     "data": {
      "text/plain": "{'n_estimators': 20, 'max_depth': 4.369896180465956}"
     },
     "metadata": {}
    }
   ],
   "execution_count": null
  },
  {
   "cell_type": "code",
   "metadata": {
    "tags": [],
    "cell_id": "00014-6a6f6252-b19d-4aa4-a959-81483ef1308f",
    "deepnote_to_be_reexecuted": true,
    "source_hash": "8b743700",
    "execution_start": 1620984193139,
    "execution_millis": 34,
    "deepnote_cell_type": "code"
   },
   "source": "from sklearn.metrics import confusion_matrix\nconfusion_matrix(YR_val, pred)",
   "outputs": [
    {
     "output_type": "execute_result",
     "execution_count": 152,
     "data": {
      "text/plain": "array([[2234,  346],\n       [ 343, 2288]])"
     },
     "metadata": {}
    }
   ],
   "execution_count": null
  },
  {
   "cell_type": "code",
   "source": "### POSSIBLE SOLUTION TO CLASS IMBALNCE\n## No idea hows it's working but the resampled provides equal amount of 0/1 classes\nfrom imblearn.over_sampling import RandomOverSampler\nros = RandomOverSampler(random_state=0)\nx_resampled, y_resampled = ros.fit_resample(x, y)\nprint(y.describe())\nprint(y_resampled.describe())\nbalanced_pipe = pipeline.make_pipeline(tree_prepro, GradientBoostingClassifier())\nimbalanced_pipe = pipeline.make_pipeline(tree_prepro, GradientBoostingClassifier())\nXR_train, XR_val, YR_train, YR_val = model_selection.train_test_split(x_resampled, y_resampled)\nXX_train, XX_val, YY_train, YY_val = model_selection.train_test_split(x, y)\nbalanced_pipe.fit(XR_train, YR_train)\nimbalanced_pipe.fit(XX_train, YY_train)",
   "metadata": {
    "tags": [],
    "cell_id": "00020-14f7d843-1b54-48f9-9ad4-653f134ecea3",
    "deepnote_to_be_reexecuted": true,
    "source_hash": "e113eba0",
    "execution_start": 1620987036629,
    "execution_millis": 12346,
    "deepnote_cell_type": "code"
   },
   "outputs": [
    {
     "name": "stdout",
     "text": "count    12330.000000\nmean         0.154745\nstd          0.361676\nmin          0.000000\n25%          0.000000\n50%          0.000000\n75%          0.000000\nmax          1.000000\nName: Revenue, dtype: float64\ncount    20844.000000\nmean         0.500000\nstd          0.500012\nmin          0.000000\n25%          0.000000\n50%          0.500000\n75%          1.000000\nmax          1.000000\nName: Revenue, dtype: float64\n",
     "output_type": "stream"
    },
    {
     "output_type": "execute_result",
     "execution_count": 184,
     "data": {
      "text/plain": "Pipeline(steps=[('columntransformer',\n                 ColumnTransformer(transformers=[('categorical',\n                                                  Pipeline(steps=[('one hot',\n                                                                   OrdinalEncoder(handle_unknown='use_encoded_value',\n                                                                                  unknown_value=45654))]),\n                                                  ['Month', 'OperatingSystems',\n                                                   'Browser', 'Region',\n                                                   'TrafficType', 'VisitorType',\n                                                   'Weekend']),\n                                                 ('numerical',\n                                                  Pipeline(steps=[('quantile '\n                                                                   'transformer',\n                                                                   QuantileTransformer(n_quantiles=100,\n                                                                                       output_distribution='normal',\n                                                                                       random_state=0))]),\n                                                  ['Administrative_Duration',\n                                                   'Informational_Duration',\n                                                   'ProductRelated_Duration',\n                                                   'BounceRates', 'ExitRates',\n                                                   'PageValues',\n                                                   'ProductRelated',\n                                                   'SpecialDay',\n                                                   'Administrative',\n                                                   'Informational'])])),\n                ('gradientboostingclassifier', GradientBoostingClassifier())])",
      "text/html": "<style>#sk-b6e72aa1-efb8-4503-87f3-b505c222dab7 {color: black;background-color: white;}#sk-b6e72aa1-efb8-4503-87f3-b505c222dab7 pre{padding: 0;}#sk-b6e72aa1-efb8-4503-87f3-b505c222dab7 div.sk-toggleable {background-color: white;}#sk-b6e72aa1-efb8-4503-87f3-b505c222dab7 label.sk-toggleable__label {cursor: pointer;display: block;width: 100%;margin-bottom: 0;padding: 0.2em 0.3em;box-sizing: border-box;text-align: center;}#sk-b6e72aa1-efb8-4503-87f3-b505c222dab7 div.sk-toggleable__content {max-height: 0;max-width: 0;overflow: hidden;text-align: left;background-color: #f0f8ff;}#sk-b6e72aa1-efb8-4503-87f3-b505c222dab7 div.sk-toggleable__content pre {margin: 0.2em;color: black;border-radius: 0.25em;background-color: #f0f8ff;}#sk-b6e72aa1-efb8-4503-87f3-b505c222dab7 input.sk-toggleable__control:checked~div.sk-toggleable__content {max-height: 200px;max-width: 100%;overflow: auto;}#sk-b6e72aa1-efb8-4503-87f3-b505c222dab7 div.sk-estimator input.sk-toggleable__control:checked~label.sk-toggleable__label {background-color: #d4ebff;}#sk-b6e72aa1-efb8-4503-87f3-b505c222dab7 div.sk-label input.sk-toggleable__control:checked~label.sk-toggleable__label {background-color: #d4ebff;}#sk-b6e72aa1-efb8-4503-87f3-b505c222dab7 input.sk-hidden--visually {border: 0;clip: rect(1px 1px 1px 1px);clip: rect(1px, 1px, 1px, 1px);height: 1px;margin: -1px;overflow: hidden;padding: 0;position: absolute;width: 1px;}#sk-b6e72aa1-efb8-4503-87f3-b505c222dab7 div.sk-estimator {font-family: monospace;background-color: #f0f8ff;margin: 0.25em 0.25em;border: 1px dotted black;border-radius: 0.25em;box-sizing: border-box;}#sk-b6e72aa1-efb8-4503-87f3-b505c222dab7 div.sk-estimator:hover {background-color: #d4ebff;}#sk-b6e72aa1-efb8-4503-87f3-b505c222dab7 div.sk-parallel-item::after {content: \"\";width: 100%;border-bottom: 1px solid gray;flex-grow: 1;}#sk-b6e72aa1-efb8-4503-87f3-b505c222dab7 div.sk-label:hover label.sk-toggleable__label {background-color: #d4ebff;}#sk-b6e72aa1-efb8-4503-87f3-b505c222dab7 div.sk-serial::before {content: \"\";position: absolute;border-left: 1px solid gray;box-sizing: border-box;top: 2em;bottom: 0;left: 50%;}#sk-b6e72aa1-efb8-4503-87f3-b505c222dab7 div.sk-serial {display: flex;flex-direction: column;align-items: center;background-color: white;}#sk-b6e72aa1-efb8-4503-87f3-b505c222dab7 div.sk-item {z-index: 1;}#sk-b6e72aa1-efb8-4503-87f3-b505c222dab7 div.sk-parallel {display: flex;align-items: stretch;justify-content: center;background-color: white;}#sk-b6e72aa1-efb8-4503-87f3-b505c222dab7 div.sk-parallel-item {display: flex;flex-direction: column;position: relative;background-color: white;}#sk-b6e72aa1-efb8-4503-87f3-b505c222dab7 div.sk-parallel-item:first-child::after {align-self: flex-end;width: 50%;}#sk-b6e72aa1-efb8-4503-87f3-b505c222dab7 div.sk-parallel-item:last-child::after {align-self: flex-start;width: 50%;}#sk-b6e72aa1-efb8-4503-87f3-b505c222dab7 div.sk-parallel-item:only-child::after {width: 0;}#sk-b6e72aa1-efb8-4503-87f3-b505c222dab7 div.sk-dashed-wrapped {border: 1px dashed gray;margin: 0.2em;box-sizing: border-box;padding-bottom: 0.1em;background-color: white;position: relative;}#sk-b6e72aa1-efb8-4503-87f3-b505c222dab7 div.sk-label label {font-family: monospace;font-weight: bold;background-color: white;display: inline-block;line-height: 1.2em;}#sk-b6e72aa1-efb8-4503-87f3-b505c222dab7 div.sk-label-container {position: relative;z-index: 2;text-align: center;}#sk-b6e72aa1-efb8-4503-87f3-b505c222dab7 div.sk-container {display: inline-block;position: relative;}</style><div id=\"sk-b6e72aa1-efb8-4503-87f3-b505c222dab7\" class\"sk-top-container\"><div class=\"sk-container\"><div class=\"sk-item sk-dashed-wrapped\"><div class=\"sk-label-container\"><div class=\"sk-label sk-toggleable\"><input class=\"sk-toggleable__control sk-hidden--visually\" id=\"adb53a01-292d-49dc-b8a2-d8e3ff7cf152\" type=\"checkbox\" ><label class=\"sk-toggleable__label\" for=\"adb53a01-292d-49dc-b8a2-d8e3ff7cf152\">Pipeline</label><div class=\"sk-toggleable__content\"><pre>Pipeline(steps=[('columntransformer',\n                 ColumnTransformer(transformers=[('categorical',\n                                                  Pipeline(steps=[('one hot',\n                                                                   OrdinalEncoder(handle_unknown='use_encoded_value',\n                                                                                  unknown_value=45654))]),\n                                                  ['Month', 'OperatingSystems',\n                                                   'Browser', 'Region',\n                                                   'TrafficType', 'VisitorType',\n                                                   'Weekend']),\n                                                 ('numerical',\n                                                  Pipeline(steps=[('quantile '\n                                                                   'transformer',\n                                                                   QuantileTransformer(n_quantiles=100,\n                                                                                       output_distribution='normal',\n                                                                                       random_state=0))]),\n                                                  ['Administrative_Duration',\n                                                   'Informational_Duration',\n                                                   'ProductRelated_Duration',\n                                                   'BounceRates', 'ExitRates',\n                                                   'PageValues',\n                                                   'ProductRelated',\n                                                   'SpecialDay',\n                                                   'Administrative',\n                                                   'Informational'])])),\n                ('gradientboostingclassifier', GradientBoostingClassifier())])</pre></div></div></div><div class=\"sk-serial\"><div class=\"sk-item sk-dashed-wrapped\"><div class=\"sk-label-container\"><div class=\"sk-label sk-toggleable\"><input class=\"sk-toggleable__control sk-hidden--visually\" id=\"7b4635a3-05fd-436b-995b-87b278fb190a\" type=\"checkbox\" ><label class=\"sk-toggleable__label\" for=\"7b4635a3-05fd-436b-995b-87b278fb190a\">columntransformer: ColumnTransformer</label><div class=\"sk-toggleable__content\"><pre>ColumnTransformer(transformers=[('categorical',\n                                 Pipeline(steps=[('one hot',\n                                                  OrdinalEncoder(handle_unknown='use_encoded_value',\n                                                                 unknown_value=45654))]),\n                                 ['Month', 'OperatingSystems', 'Browser',\n                                  'Region', 'TrafficType', 'VisitorType',\n                                  'Weekend']),\n                                ('numerical',\n                                 Pipeline(steps=[('quantile transformer',\n                                                  QuantileTransformer(n_quantiles=100,\n                                                                      output_distribution='normal',\n                                                                      random_state=0))]),\n                                 ['Administrative_Duration',\n                                  'Informational_Duration',\n                                  'ProductRelated_Duration', 'BounceRates',\n                                  'ExitRates', 'PageValues', 'ProductRelated',\n                                  'SpecialDay', 'Administrative',\n                                  'Informational'])])</pre></div></div></div><div class=\"sk-parallel\"><div class=\"sk-parallel-item\"><div class=\"sk-item\"><div class=\"sk-label-container\"><div class=\"sk-label sk-toggleable\"><input class=\"sk-toggleable__control sk-hidden--visually\" id=\"feee9d4d-eefa-40de-92b0-2d0f68baecac\" type=\"checkbox\" ><label class=\"sk-toggleable__label\" for=\"feee9d4d-eefa-40de-92b0-2d0f68baecac\">categorical</label><div class=\"sk-toggleable__content\"><pre>['Month', 'OperatingSystems', 'Browser', 'Region', 'TrafficType', 'VisitorType', 'Weekend']</pre></div></div></div><div class=\"sk-serial\"><div class=\"sk-item\"><div class=\"sk-serial\"><div class=\"sk-item\"><div class=\"sk-estimator sk-toggleable\"><input class=\"sk-toggleable__control sk-hidden--visually\" id=\"ffee0403-4f06-4529-b438-a68eeb3e0f7f\" type=\"checkbox\" ><label class=\"sk-toggleable__label\" for=\"ffee0403-4f06-4529-b438-a68eeb3e0f7f\">OrdinalEncoder</label><div class=\"sk-toggleable__content\"><pre>OrdinalEncoder(handle_unknown='use_encoded_value', unknown_value=45654)</pre></div></div></div></div></div></div></div></div><div class=\"sk-parallel-item\"><div class=\"sk-item\"><div class=\"sk-label-container\"><div class=\"sk-label sk-toggleable\"><input class=\"sk-toggleable__control sk-hidden--visually\" id=\"2f27cafa-8f5f-4682-abf9-73be32e6e82c\" type=\"checkbox\" ><label class=\"sk-toggleable__label\" for=\"2f27cafa-8f5f-4682-abf9-73be32e6e82c\">numerical</label><div class=\"sk-toggleable__content\"><pre>['Administrative_Duration', 'Informational_Duration', 'ProductRelated_Duration', 'BounceRates', 'ExitRates', 'PageValues', 'ProductRelated', 'SpecialDay', 'Administrative', 'Informational']</pre></div></div></div><div class=\"sk-serial\"><div class=\"sk-item\"><div class=\"sk-serial\"><div class=\"sk-item\"><div class=\"sk-estimator sk-toggleable\"><input class=\"sk-toggleable__control sk-hidden--visually\" id=\"edfc79b7-1350-4cf6-b355-67c2e5844273\" type=\"checkbox\" ><label class=\"sk-toggleable__label\" for=\"edfc79b7-1350-4cf6-b355-67c2e5844273\">QuantileTransformer</label><div class=\"sk-toggleable__content\"><pre>QuantileTransformer(n_quantiles=100, output_distribution='normal',\n                    random_state=0)</pre></div></div></div></div></div></div></div></div></div></div><div class=\"sk-item\"><div class=\"sk-estimator sk-toggleable\"><input class=\"sk-toggleable__control sk-hidden--visually\" id=\"1890a13d-2a2a-43f2-b7c2-20d7010a56a8\" type=\"checkbox\" ><label class=\"sk-toggleable__label\" for=\"1890a13d-2a2a-43f2-b7c2-20d7010a56a8\">GradientBoostingClassifier</label><div class=\"sk-toggleable__content\"><pre>GradientBoostingClassifier()</pre></div></div></div></div></div></div></div>"
     },
     "metadata": {}
    }
   ],
   "execution_count": null
  },
  {
   "cell_type": "code",
   "source": "RSpred = balanced_pipe.predict(XR_val)\nRSacc = metrics.accuracy_score(YR_val, RSpred)\nRSbacc = metrics.balanced_accuracy_score(YR_val, RSpred)\nprint(RSacc, RSbacc)\ndisplay(confusion_matrix(YR_val, RSpred))\nUSpred = imbalanced_pipe.predict(XX_val)\nUSacc = metrics.accuracy_score(YY_val, USpred)\nUSbacc = metrics.balanced_accuracy_score(YY_val, USpred)\nprint(USacc, USbacc)\n\ndisplay(confusion_matrix(YY_val, USpred))",
   "metadata": {
    "tags": [],
    "cell_id": "00021-b38b9686-677c-463b-97ee-594b80a34706",
    "deepnote_to_be_reexecuted": true,
    "source_hash": "b344b325",
    "execution_start": 1620987157976,
    "execution_millis": 210,
    "deepnote_cell_type": "code"
   },
   "outputs": [
    {
     "name": "stdout",
     "text": "0.8597198234503934 0.8597038687754777\n",
     "output_type": "stream"
    },
    {
     "data": {
      "text/plain": "array([[2161,  354],\n       [ 377, 2319]])"
     },
     "metadata": {},
     "output_type": "display_data"
    },
    {
     "name": "stdout",
     "text": "0.9023678235484918 0.7799767357724137\n",
     "output_type": "stream"
    },
    {
     "data": {
      "text/plain": "array([[2478,   96],\n       [ 205,  304]])"
     },
     "metadata": {},
     "output_type": "display_data"
    }
   ],
   "execution_count": null
  },
  {
   "cell_type": "markdown",
   "source": "<a style='text-decoration:none;line-height:16px;display:flex;color:#5B5B62;padding:10px;justify-content:end;' href='https://deepnote.com?utm_source=created-in-deepnote-cell&projectId=ae2d5407-15eb-472e-9a2e-ceb75c9fcac0' target=\"_blank\">\n<img alt='Created in deepnote.com' style='display:inline;max-height:16px;margin:0px;margin-right:7.5px;' src='data:image/svg+xml;base64,PD94bWwgdmVyc2lvbj0iMS4wIiBlbmNvZGluZz0iVVRGLTgiPz4KPHN2ZyB3aWR0aD0iODBweCIgaGVpZ2h0PSI4MHB4IiB2aWV3Qm94PSIwIDAgODAgODAiIHZlcnNpb249IjEuMSIgeG1sbnM9Imh0dHA6Ly93d3cudzMub3JnLzIwMDAvc3ZnIiB4bWxuczp4bGluaz0iaHR0cDovL3d3dy53My5vcmcvMTk5OS94bGluayI+CiAgICA8IS0tIEdlbmVyYXRvcjogU2tldGNoIDU0LjEgKDc2NDkwKSAtIGh0dHBzOi8vc2tldGNoYXBwLmNvbSAtLT4KICAgIDx0aXRsZT5Hcm91cCAzPC90aXRsZT4KICAgIDxkZXNjPkNyZWF0ZWQgd2l0aCBTa2V0Y2guPC9kZXNjPgogICAgPGcgaWQ9IkxhbmRpbmciIHN0cm9rZT0ibm9uZSIgc3Ryb2tlLXdpZHRoPSIxIiBmaWxsPSJub25lIiBmaWxsLXJ1bGU9ImV2ZW5vZGQiPgogICAgICAgIDxnIGlkPSJBcnRib2FyZCIgdHJhbnNmb3JtPSJ0cmFuc2xhdGUoLTEyMzUuMDAwMDAwLCAtNzkuMDAwMDAwKSI+CiAgICAgICAgICAgIDxnIGlkPSJHcm91cC0zIiB0cmFuc2Zvcm09InRyYW5zbGF0ZSgxMjM1LjAwMDAwMCwgNzkuMDAwMDAwKSI+CiAgICAgICAgICAgICAgICA8cG9seWdvbiBpZD0iUGF0aC0yMCIgZmlsbD0iIzAyNjVCNCIgcG9pbnRzPSIyLjM3NjIzNzYyIDgwIDM4LjA0NzY2NjcgODAgNTcuODIxNzgyMiA3My44MDU3NTkyIDU3LjgyMTc4MjIgMzIuNzU5MjczOSAzOS4xNDAyMjc4IDMxLjY4MzE2ODMiPjwvcG9seWdvbj4KICAgICAgICAgICAgICAgIDxwYXRoIGQ9Ik0zNS4wMDc3MTgsODAgQzQyLjkwNjIwMDcsNzYuNDU0OTM1OCA0Ny41NjQ5MTY3LDcxLjU0MjI2NzEgNDguOTgzODY2LDY1LjI2MTk5MzkgQzUxLjExMjI4OTksNTUuODQxNTg0MiA0MS42NzcxNzk1LDQ5LjIxMjIyODQgMjUuNjIzOTg0Niw0OS4yMTIyMjg0IEMyNS40ODQ5Mjg5LDQ5LjEyNjg0NDggMjkuODI2MTI5Niw0My4yODM4MjQ4IDM4LjY0NzU4NjksMzEuNjgzMTY4MyBMNzIuODcxMjg3MSwzMi41NTQ0MjUgTDY1LjI4MDk3Myw2Ny42NzYzNDIxIEw1MS4xMTIyODk5LDc3LjM3NjE0NCBMMzUuMDA3NzE4LDgwIFoiIGlkPSJQYXRoLTIyIiBmaWxsPSIjMDAyODY4Ij48L3BhdGg+CiAgICAgICAgICAgICAgICA8cGF0aCBkPSJNMCwzNy43MzA0NDA1IEwyNy4xMTQ1MzcsMC4yNTcxMTE0MzYgQzYyLjM3MTUxMjMsLTEuOTkwNzE3MDEgODAsMTAuNTAwMzkyNyA4MCwzNy43MzA0NDA1IEM4MCw2NC45NjA0ODgyIDY0Ljc3NjUwMzgsNzkuMDUwMzQxNCAzNC4zMjk1MTEzLDgwIEM0Ny4wNTUzNDg5LDc3LjU2NzA4MDggNTMuNDE4MjY3Nyw3MC4zMTM2MTAzIDUzLjQxODI2NzcsNTguMjM5NTg4NSBDNTMuNDE4MjY3Nyw0MC4xMjg1NTU3IDM2LjMwMzk1NDQsMzcuNzMwNDQwNSAyNS4yMjc0MTcsMzcuNzMwNDQwNSBDMTcuODQzMDU4NiwzNy43MzA0NDA1IDkuNDMzOTE5NjYsMzcuNzMwNDQwNSAwLDM3LjczMDQ0MDUgWiIgaWQ9IlBhdGgtMTkiIGZpbGw9IiMzNzkzRUYiPjwvcGF0aD4KICAgICAgICAgICAgPC9nPgogICAgICAgIDwvZz4KICAgIDwvZz4KPC9zdmc+' > </img>\nCreated in <span style='font-weight:600;margin-left:4px;'>Deepnote</span></a>",
   "metadata": {
    "tags": [],
    "created_in_deepnote_cell": true,
    "deepnote_cell_type": "markdown"
   }
  }
 ],
 "nbformat": 4,
 "nbformat_minor": 2,
 "metadata": {
  "orig_nbformat": 2,
  "deepnote": {
   "is_reactive": false
  },
  "deepnote_notebook_id": "2d81720b-6a35-4ef0-968e-aa8dd6524ed5",
  "deepnote_execution_queue": [
   {
    "cellId": "00012-05d96067-3dee-4a63-8804-dc3195de7a0d",
    "sessionId": "3e07afcc-583e-4ffd-8841-80ee4e40cc5f",
    "msgId": "f5d14e9e-ec8a-4da3-b5b5-a73275fdf9e5"
   },
   {
    "cellId": "00014-2b76123b-819d-4261-91e6-6c84b07b4c70",
    "sessionId": "3e07afcc-583e-4ffd-8841-80ee4e40cc5f",
    "msgId": "c2324530-74c0-4581-a34e-390503203d4b"
   },
   {
    "cellId": "00013-44a46f8b-2cd8-4d18-b0bd-1b93c68140fd",
    "sessionId": "3e07afcc-583e-4ffd-8841-80ee4e40cc5f",
    "msgId": "07edda8d-c48d-4737-8f64-96612b739231"
   },
   {
    "cellId": "00015-3eabe38b-e737-4ba4-9aa3-6023aea99311",
    "sessionId": "3e07afcc-583e-4ffd-8841-80ee4e40cc5f",
    "msgId": "e1bc925c-8513-465e-a96e-e84bfc99776d"
   },
   {
    "cellId": "00016-3baece2b-4822-4519-9b75-174f07e75660",
    "sessionId": "3e07afcc-583e-4ffd-8841-80ee4e40cc5f",
    "msgId": "d2e32ff4-4e8f-41e8-9a58-8baaf5cbc4a9"
   },
   {
    "cellId": "00019-a50227d2-aec1-4073-9240-f8829bf28804",
    "sessionId": "3e07afcc-583e-4ffd-8841-80ee4e40cc5f",
    "msgId": "3ddc82d1-b3aa-4f24-9175-2d5d24878a57"
   },
   {
    "cellId": "00014-c4bc481f-7b4a-44c1-916e-e41fdfbcb958",
    "sessionId": "3e07afcc-583e-4ffd-8841-80ee4e40cc5f",
    "msgId": "55ce498b-0082-4e33-a1c5-cb3bfb682563"
   },
   {
    "cellId": "00019-0133f10a-6ba3-4bed-b4e8-270810c01121",
    "sessionId": "3e07afcc-583e-4ffd-8841-80ee4e40cc5f",
    "msgId": "5c563b66-ac08-41b9-aa3d-d176248c5f66"
   },
   {
    "cellId": "00020-6e6a099f-29d1-4cbc-9374-437edc264fa4",
    "sessionId": "3e07afcc-583e-4ffd-8841-80ee4e40cc5f",
    "msgId": "c2982bf4-2487-40d7-b9d8-465315d2d4f0"
   },
   {
    "cellId": "00023-6b7e18e5-f71d-4388-a53d-d9c81da110a7",
    "sessionId": "3e07afcc-583e-4ffd-8841-80ee4e40cc5f",
    "msgId": "0a5c1650-c1a7-4424-9b21-03966a82729b"
   },
   {
    "cellId": "00014-6a6f6252-b19d-4aa4-a959-81483ef1308f",
    "sessionId": "3e07afcc-583e-4ffd-8841-80ee4e40cc5f",
    "msgId": "9d350c36-0a56-45d8-899a-db9dac61812d"
   },
   {
    "cellId": "00020-14f7d843-1b54-48f9-9ad4-653f134ecea3",
    "sessionId": "3e07afcc-583e-4ffd-8841-80ee4e40cc5f",
    "msgId": "25362c79-46f1-4d70-b06e-2e7a2fb7c059"
   },
   {
    "cellId": "00021-b38b9686-677c-463b-97ee-594b80a34706",
    "sessionId": "3e07afcc-583e-4ffd-8841-80ee4e40cc5f",
    "msgId": "f33b2df4-d98a-4f6f-b679-db793d66d3e3"
   },
   {
    "cellId": "00011-f63b3f9a-447b-4284-9e0b-6b1d36faf364",
    "sessionId": "c9a481dc-71eb-4220-943d-833f599a9163",
    "msgId": "d22eebfb-cdc5-41de-867a-9f006e335dae"
   }
  ]
 }
}