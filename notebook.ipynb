{
 "cells": [
  {
   "cell_type": "code",
   "metadata": {
    "tags": [],
    "cell_id": "00000-8c1a4f1d-dc4e-480c-a34d-ad093c115f2f",
    "deepnote_to_be_reexecuted": false,
    "source_hash": "1a1062a1",
    "execution_start": 1620976736624,
    "execution_millis": 15,
    "deepnote_cell_type": "code"
   },
   "source": "import time\nfrom IPython.display import clear_output\nimport numpy    as np\nimport pandas   as pd\nimport seaborn  as sb\nimport matplotlib.pyplot as plt\nimport sklearn  as skl\n\nfrom sklearn import pipeline      # Pipeline\nfrom sklearn import preprocessing # OrdinalEncoder, LabelEncoder\nfrom sklearn import impute\nfrom sklearn import compose\nfrom sklearn import model_selection # train_test_split\nfrom sklearn import metrics         # accuracy_score, balanced_accuracy_score, plot_confusion_matrix\nfrom sklearn import set_config\nfrom sklearn.impute import KNNImputer\nfrom sklearn.preprocessing import PowerTransformer\nfrom sklearn.preprocessing import QuantileTransformer\nfrom sklearn.preprocessing import OneHotEncoder\n\nfrom sklearn.metrics import mean_squared_error\nfrom sklearn.preprocessing import MinMaxScaler\nfrom sklearn.preprocessing import MaxAbsScaler\nfrom sklearn.preprocessing import StandardScaler\nfrom sklearn.preprocessing import RobustScaler\nfrom sklearn.preprocessing import Normalizer\nfrom sklearn.preprocessing import QuantileTransformer\nfrom sklearn.preprocessing import PowerTransformer\n\nimport pandas as pd\nimport numpy as np\nimport matplotlib.pyplot as plt\n#import seaborn as sb\nimport sklearn as skl\nimport time as t\nfrom IPython.display import display, clear_output\n\n\n\nimport json\nimport pickle\n\nset_config(display='diagram') # Useful for display the pipeline\n\nprint(\"Pandas  \", pd.__version__)\nprint(\"Sklearn \", skl.__version__) # Try to use 0.24",
   "execution_count": 2,
   "outputs": [
    {
     "name": "stdout",
     "text": "Pandas   1.2.4\nSklearn  0.24.2\n",
     "output_type": "stream"
    }
   ]
  },
  {
   "cell_type": "markdown",
   "source": "The dataset consists of 10 numerical and 8 categorical attributes.\nThe 'Revenue' attribute can be used as the class label.\n\n\"Administrative\", \"Administrative Duration\", \"Informational\", \"Informational Duration\", \"Product Related\" and \"Product Related Duration\" represent the number of different types of pages visited by the visitor in that session and total time spent in each of these page categories. \n\nThe values of these features are derived from the URL information of the pages visited by the user and updated in real time when a user takes an action, e.g. moving from one page to another. \n\nThe \"Bounce Rate\", \"Exit Rate\" and \"Page Value\" features represent the metrics measured by \"Google Analytics\" for each page in the e-commerce site. The value of \"Bounce Rate\" feature for a web page refers to the percentage of visitors who enter the site from that page and then leave (\"bounce\") without triggering any other requests to the analytics server during that session. \n\nThe value of \"Exit Rate\" feature for a specific web page is calculated as for all pageviews to the page, the percentage that were the last in the session. The \"Page Value\" feature represents the average value for a web page that a user visited before completing an e-commerce transaction. \n\nThe \"Special Day\" feature indicates the closeness of the site visiting time to a specific special day (e.g. Mother’s Day, Valentine's Day) in which the sessions are more likely to be finalized with transaction. The value of this attribute is determined by considering the dynamics of e-commerce such as the duration between the order date and delivery date. \n\nFor example, for Valentina’s day, this value takes a nonzero value between February 2 and February 12, zero before and after this date unless it is close to another special day, and its maximum value of 1 on February 8. The dataset also includes operating system, browser, region, traffic type, visitor type as returning or new visitor, a Boolean value indicating whether the date of the visit is weekend, and month of the year.",
   "metadata": {
    "tags": [],
    "cell_id": "00001-9e91a0d3-eacc-4a1c-a4f5-9034fcdbba37",
    "deepnote_cell_type": "markdown"
   }
  },
  {
   "cell_type": "code",
   "metadata": {
    "tags": [],
    "cell_id": "00001-d0045f42-8605-42ff-8520-e82739d181a9",
    "deepnote_to_be_reexecuted": false,
    "source_hash": "45d8da66",
    "execution_start": 1620976769412,
    "execution_millis": 84,
    "deepnote_cell_type": "code"
   },
   "source": "df=pd.read_csv(\"/work/Sedora_Sales/online_shoppers_intention.csv\")\ndf.head()",
   "execution_count": 4,
   "outputs": [
    {
     "output_type": "execute_result",
     "execution_count": 4,
     "data": {
      "application/vnd.deepnote.dataframe.v2+json": {
       "row_count": 5,
       "column_count": 18,
       "columns": [
        {
         "name": "Administrative",
         "dtype": "int64",
         "stats": {
          "unique_count": 1,
          "nan_count": 0,
          "min": "0",
          "max": "0",
          "histogram": [
           {
            "bin_start": -0.5,
            "bin_end": -0.4,
            "count": 0
           },
           {
            "bin_start": -0.4,
            "bin_end": -0.3,
            "count": 0
           },
           {
            "bin_start": -0.3,
            "bin_end": -0.19999999999999996,
            "count": 0
           },
           {
            "bin_start": -0.19999999999999996,
            "bin_end": -0.09999999999999998,
            "count": 0
           },
           {
            "bin_start": -0.09999999999999998,
            "bin_end": 0,
            "count": 0
           },
           {
            "bin_start": 0,
            "bin_end": 0.10000000000000009,
            "count": 5
           },
           {
            "bin_start": 0.10000000000000009,
            "bin_end": 0.20000000000000007,
            "count": 0
           },
           {
            "bin_start": 0.20000000000000007,
            "bin_end": 0.30000000000000004,
            "count": 0
           },
           {
            "bin_start": 0.30000000000000004,
            "bin_end": 0.4,
            "count": 0
           },
           {
            "bin_start": 0.4,
            "bin_end": 0.5,
            "count": 0
           }
          ]
         }
        },
        {
         "name": "Administrative_Duration",
         "dtype": "float64",
         "stats": {
          "unique_count": 1,
          "nan_count": 0,
          "min": "0.0",
          "max": "0.0",
          "histogram": [
           {
            "bin_start": -0.5,
            "bin_end": -0.4,
            "count": 0
           },
           {
            "bin_start": -0.4,
            "bin_end": -0.3,
            "count": 0
           },
           {
            "bin_start": -0.3,
            "bin_end": -0.19999999999999996,
            "count": 0
           },
           {
            "bin_start": -0.19999999999999996,
            "bin_end": -0.09999999999999998,
            "count": 0
           },
           {
            "bin_start": -0.09999999999999998,
            "bin_end": 0,
            "count": 0
           },
           {
            "bin_start": 0,
            "bin_end": 0.10000000000000009,
            "count": 5
           },
           {
            "bin_start": 0.10000000000000009,
            "bin_end": 0.20000000000000007,
            "count": 0
           },
           {
            "bin_start": 0.20000000000000007,
            "bin_end": 0.30000000000000004,
            "count": 0
           },
           {
            "bin_start": 0.30000000000000004,
            "bin_end": 0.4,
            "count": 0
           },
           {
            "bin_start": 0.4,
            "bin_end": 0.5,
            "count": 0
           }
          ]
         }
        },
        {
         "name": "Informational",
         "dtype": "int64",
         "stats": {
          "unique_count": 1,
          "nan_count": 0,
          "min": "0",
          "max": "0",
          "histogram": [
           {
            "bin_start": -0.5,
            "bin_end": -0.4,
            "count": 0
           },
           {
            "bin_start": -0.4,
            "bin_end": -0.3,
            "count": 0
           },
           {
            "bin_start": -0.3,
            "bin_end": -0.19999999999999996,
            "count": 0
           },
           {
            "bin_start": -0.19999999999999996,
            "bin_end": -0.09999999999999998,
            "count": 0
           },
           {
            "bin_start": -0.09999999999999998,
            "bin_end": 0,
            "count": 0
           },
           {
            "bin_start": 0,
            "bin_end": 0.10000000000000009,
            "count": 5
           },
           {
            "bin_start": 0.10000000000000009,
            "bin_end": 0.20000000000000007,
            "count": 0
           },
           {
            "bin_start": 0.20000000000000007,
            "bin_end": 0.30000000000000004,
            "count": 0
           },
           {
            "bin_start": 0.30000000000000004,
            "bin_end": 0.4,
            "count": 0
           },
           {
            "bin_start": 0.4,
            "bin_end": 0.5,
            "count": 0
           }
          ]
         }
        },
        {
         "name": "Informational_Duration",
         "dtype": "float64",
         "stats": {
          "unique_count": 1,
          "nan_count": 0,
          "min": "0.0",
          "max": "0.0",
          "histogram": [
           {
            "bin_start": -0.5,
            "bin_end": -0.4,
            "count": 0
           },
           {
            "bin_start": -0.4,
            "bin_end": -0.3,
            "count": 0
           },
           {
            "bin_start": -0.3,
            "bin_end": -0.19999999999999996,
            "count": 0
           },
           {
            "bin_start": -0.19999999999999996,
            "bin_end": -0.09999999999999998,
            "count": 0
           },
           {
            "bin_start": -0.09999999999999998,
            "bin_end": 0,
            "count": 0
           },
           {
            "bin_start": 0,
            "bin_end": 0.10000000000000009,
            "count": 5
           },
           {
            "bin_start": 0.10000000000000009,
            "bin_end": 0.20000000000000007,
            "count": 0
           },
           {
            "bin_start": 0.20000000000000007,
            "bin_end": 0.30000000000000004,
            "count": 0
           },
           {
            "bin_start": 0.30000000000000004,
            "bin_end": 0.4,
            "count": 0
           },
           {
            "bin_start": 0.4,
            "bin_end": 0.5,
            "count": 0
           }
          ]
         }
        },
        {
         "name": "ProductRelated",
         "dtype": "int64",
         "stats": {
          "unique_count": 3,
          "nan_count": 0,
          "min": "1",
          "max": "10",
          "histogram": [
           {
            "bin_start": 1,
            "bin_end": 1.9,
            "count": 2
           },
           {
            "bin_start": 1.9,
            "bin_end": 2.8,
            "count": 2
           },
           {
            "bin_start": 2.8,
            "bin_end": 3.7,
            "count": 0
           },
           {
            "bin_start": 3.7,
            "bin_end": 4.6,
            "count": 0
           },
           {
            "bin_start": 4.6,
            "bin_end": 5.5,
            "count": 0
           },
           {
            "bin_start": 5.5,
            "bin_end": 6.4,
            "count": 0
           },
           {
            "bin_start": 6.4,
            "bin_end": 7.3,
            "count": 0
           },
           {
            "bin_start": 7.3,
            "bin_end": 8.2,
            "count": 0
           },
           {
            "bin_start": 8.2,
            "bin_end": 9.1,
            "count": 0
           },
           {
            "bin_start": 9.1,
            "bin_end": 10,
            "count": 1
           }
          ]
         }
        },
        {
         "name": "ProductRelated_Duration",
         "dtype": "float64",
         "stats": {
          "unique_count": 4,
          "nan_count": 0,
          "min": "0.0",
          "max": "627.5",
          "histogram": [
           {
            "bin_start": 0,
            "bin_end": 62.75,
            "count": 3
           },
           {
            "bin_start": 62.75,
            "bin_end": 125.5,
            "count": 1
           },
           {
            "bin_start": 125.5,
            "bin_end": 188.25,
            "count": 0
           },
           {
            "bin_start": 188.25,
            "bin_end": 251,
            "count": 0
           },
           {
            "bin_start": 251,
            "bin_end": 313.75,
            "count": 0
           },
           {
            "bin_start": 313.75,
            "bin_end": 376.5,
            "count": 0
           },
           {
            "bin_start": 376.5,
            "bin_end": 439.25,
            "count": 0
           },
           {
            "bin_start": 439.25,
            "bin_end": 502,
            "count": 0
           },
           {
            "bin_start": 502,
            "bin_end": 564.75,
            "count": 0
           },
           {
            "bin_start": 564.75,
            "bin_end": 627.5,
            "count": 1
           }
          ]
         }
        },
        {
         "name": "BounceRates",
         "dtype": "float64",
         "stats": {
          "unique_count": 4,
          "nan_count": 0,
          "min": "0.0",
          "max": "0.2",
          "histogram": [
           {
            "bin_start": 0,
            "bin_end": 0.02,
            "count": 1
           },
           {
            "bin_start": 0.02,
            "bin_end": 0.04,
            "count": 1
           },
           {
            "bin_start": 0.04,
            "bin_end": 0.06,
            "count": 1
           },
           {
            "bin_start": 0.06,
            "bin_end": 0.08,
            "count": 0
           },
           {
            "bin_start": 0.08,
            "bin_end": 0.1,
            "count": 0
           },
           {
            "bin_start": 0.1,
            "bin_end": 0.12,
            "count": 0
           },
           {
            "bin_start": 0.12,
            "bin_end": 0.14,
            "count": 0
           },
           {
            "bin_start": 0.14,
            "bin_end": 0.16,
            "count": 0
           },
           {
            "bin_start": 0.16,
            "bin_end": 0.18,
            "count": 0
           },
           {
            "bin_start": 0.18,
            "bin_end": 0.2,
            "count": 2
           }
          ]
         }
        },
        {
         "name": "ExitRates",
         "dtype": "float64",
         "stats": {
          "unique_count": 4,
          "nan_count": 0,
          "min": "0.05",
          "max": "0.2",
          "histogram": [
           {
            "bin_start": 0.05,
            "bin_end": 0.065,
            "count": 1
           },
           {
            "bin_start": 0.065,
            "bin_end": 0.08000000000000002,
            "count": 0
           },
           {
            "bin_start": 0.08000000000000002,
            "bin_end": 0.09500000000000001,
            "count": 0
           },
           {
            "bin_start": 0.09500000000000001,
            "bin_end": 0.11000000000000001,
            "count": 1
           },
           {
            "bin_start": 0.11000000000000001,
            "bin_end": 0.125,
            "count": 0
           },
           {
            "bin_start": 0.125,
            "bin_end": 0.14,
            "count": 0
           },
           {
            "bin_start": 0.14,
            "bin_end": 0.15500000000000003,
            "count": 1
           },
           {
            "bin_start": 0.15500000000000003,
            "bin_end": 0.17000000000000004,
            "count": 0
           },
           {
            "bin_start": 0.17000000000000004,
            "bin_end": 0.18500000000000005,
            "count": 0
           },
           {
            "bin_start": 0.18500000000000005,
            "bin_end": 0.2,
            "count": 2
           }
          ]
         }
        },
        {
         "name": "PageValues",
         "dtype": "float64",
         "stats": {
          "unique_count": 1,
          "nan_count": 0,
          "min": "0.0",
          "max": "0.0",
          "histogram": [
           {
            "bin_start": -0.5,
            "bin_end": -0.4,
            "count": 0
           },
           {
            "bin_start": -0.4,
            "bin_end": -0.3,
            "count": 0
           },
           {
            "bin_start": -0.3,
            "bin_end": -0.19999999999999996,
            "count": 0
           },
           {
            "bin_start": -0.19999999999999996,
            "bin_end": -0.09999999999999998,
            "count": 0
           },
           {
            "bin_start": -0.09999999999999998,
            "bin_end": 0,
            "count": 0
           },
           {
            "bin_start": 0,
            "bin_end": 0.10000000000000009,
            "count": 5
           },
           {
            "bin_start": 0.10000000000000009,
            "bin_end": 0.20000000000000007,
            "count": 0
           },
           {
            "bin_start": 0.20000000000000007,
            "bin_end": 0.30000000000000004,
            "count": 0
           },
           {
            "bin_start": 0.30000000000000004,
            "bin_end": 0.4,
            "count": 0
           },
           {
            "bin_start": 0.4,
            "bin_end": 0.5,
            "count": 0
           }
          ]
         }
        },
        {
         "name": "SpecialDay",
         "dtype": "float64",
         "stats": {
          "unique_count": 1,
          "nan_count": 0,
          "min": "0.0",
          "max": "0.0",
          "histogram": [
           {
            "bin_start": -0.5,
            "bin_end": -0.4,
            "count": 0
           },
           {
            "bin_start": -0.4,
            "bin_end": -0.3,
            "count": 0
           },
           {
            "bin_start": -0.3,
            "bin_end": -0.19999999999999996,
            "count": 0
           },
           {
            "bin_start": -0.19999999999999996,
            "bin_end": -0.09999999999999998,
            "count": 0
           },
           {
            "bin_start": -0.09999999999999998,
            "bin_end": 0,
            "count": 0
           },
           {
            "bin_start": 0,
            "bin_end": 0.10000000000000009,
            "count": 5
           },
           {
            "bin_start": 0.10000000000000009,
            "bin_end": 0.20000000000000007,
            "count": 0
           },
           {
            "bin_start": 0.20000000000000007,
            "bin_end": 0.30000000000000004,
            "count": 0
           },
           {
            "bin_start": 0.30000000000000004,
            "bin_end": 0.4,
            "count": 0
           },
           {
            "bin_start": 0.4,
            "bin_end": 0.5,
            "count": 0
           }
          ]
         }
        },
        {
         "name": "Month",
         "dtype": "object",
         "stats": {
          "unique_count": 1,
          "nan_count": 0,
          "categories": [
           {
            "name": "Feb",
            "count": 5
           }
          ]
         }
        },
        {
         "name": "OperatingSystems",
         "dtype": "int64",
         "stats": {
          "unique_count": 4,
          "nan_count": 0,
          "min": "1",
          "max": "4",
          "histogram": [
           {
            "bin_start": 1,
            "bin_end": 1.3,
            "count": 1
           },
           {
            "bin_start": 1.3,
            "bin_end": 1.6,
            "count": 0
           },
           {
            "bin_start": 1.6,
            "bin_end": 1.9,
            "count": 0
           },
           {
            "bin_start": 1.9,
            "bin_end": 2.2,
            "count": 1
           },
           {
            "bin_start": 2.2,
            "bin_end": 2.5,
            "count": 0
           },
           {
            "bin_start": 2.5,
            "bin_end": 2.8,
            "count": 0
           },
           {
            "bin_start": 2.8,
            "bin_end": 3.1,
            "count": 2
           },
           {
            "bin_start": 3.1,
            "bin_end": 3.4,
            "count": 0
           },
           {
            "bin_start": 3.4,
            "bin_end": 3.6999999999999997,
            "count": 0
           },
           {
            "bin_start": 3.6999999999999997,
            "bin_end": 4,
            "count": 1
           }
          ]
         }
        },
        {
         "name": "Browser",
         "dtype": "int64",
         "stats": {
          "unique_count": 3,
          "nan_count": 0,
          "min": "1",
          "max": "3",
          "histogram": [
           {
            "bin_start": 1,
            "bin_end": 1.2,
            "count": 2
           },
           {
            "bin_start": 1.2,
            "bin_end": 1.4,
            "count": 0
           },
           {
            "bin_start": 1.4,
            "bin_end": 1.6,
            "count": 0
           },
           {
            "bin_start": 1.6,
            "bin_end": 1.8,
            "count": 0
           },
           {
            "bin_start": 1.8,
            "bin_end": 2,
            "count": 0
           },
           {
            "bin_start": 2,
            "bin_end": 2.2,
            "count": 2
           },
           {
            "bin_start": 2.2,
            "bin_end": 2.4000000000000004,
            "count": 0
           },
           {
            "bin_start": 2.4000000000000004,
            "bin_end": 2.6,
            "count": 0
           },
           {
            "bin_start": 2.6,
            "bin_end": 2.8,
            "count": 0
           },
           {
            "bin_start": 2.8,
            "bin_end": 3,
            "count": 1
           }
          ]
         }
        },
        {
         "name": "Region",
         "dtype": "int64",
         "stats": {
          "unique_count": 3,
          "nan_count": 0,
          "min": "1",
          "max": "9",
          "histogram": [
           {
            "bin_start": 1,
            "bin_end": 1.8,
            "count": 3
           },
           {
            "bin_start": 1.8,
            "bin_end": 2.6,
            "count": 1
           },
           {
            "bin_start": 2.6,
            "bin_end": 3.4000000000000004,
            "count": 0
           },
           {
            "bin_start": 3.4000000000000004,
            "bin_end": 4.2,
            "count": 0
           },
           {
            "bin_start": 4.2,
            "bin_end": 5,
            "count": 0
           },
           {
            "bin_start": 5,
            "bin_end": 5.800000000000001,
            "count": 0
           },
           {
            "bin_start": 5.800000000000001,
            "bin_end": 6.6000000000000005,
            "count": 0
           },
           {
            "bin_start": 6.6000000000000005,
            "bin_end": 7.4,
            "count": 0
           },
           {
            "bin_start": 7.4,
            "bin_end": 8.2,
            "count": 0
           },
           {
            "bin_start": 8.2,
            "bin_end": 9,
            "count": 1
           }
          ]
         }
        },
        {
         "name": "TrafficType",
         "dtype": "int64",
         "stats": {
          "unique_count": 4,
          "nan_count": 0,
          "min": "1",
          "max": "4",
          "histogram": [
           {
            "bin_start": 1,
            "bin_end": 1.3,
            "count": 1
           },
           {
            "bin_start": 1.3,
            "bin_end": 1.6,
            "count": 0
           },
           {
            "bin_start": 1.6,
            "bin_end": 1.9,
            "count": 0
           },
           {
            "bin_start": 1.9,
            "bin_end": 2.2,
            "count": 1
           },
           {
            "bin_start": 2.2,
            "bin_end": 2.5,
            "count": 0
           },
           {
            "bin_start": 2.5,
            "bin_end": 2.8,
            "count": 0
           },
           {
            "bin_start": 2.8,
            "bin_end": 3.1,
            "count": 1
           },
           {
            "bin_start": 3.1,
            "bin_end": 3.4,
            "count": 0
           },
           {
            "bin_start": 3.4,
            "bin_end": 3.6999999999999997,
            "count": 0
           },
           {
            "bin_start": 3.6999999999999997,
            "bin_end": 4,
            "count": 2
           }
          ]
         }
        },
        {
         "name": "VisitorType",
         "dtype": "object",
         "stats": {
          "unique_count": 1,
          "nan_count": 0,
          "categories": [
           {
            "name": "Returning_Visitor",
            "count": 5
           }
          ]
         }
        },
        {
         "name": "Weekend",
         "dtype": "bool",
         "stats": {
          "unique_count": 2,
          "nan_count": 0,
          "categories": [
           {
            "name": "False",
            "count": 4
           },
           {
            "name": "True",
            "count": 1
           }
          ]
         }
        },
        {
         "name": "Revenue",
         "dtype": "bool",
         "stats": {
          "unique_count": 1,
          "nan_count": 0,
          "categories": [
           {
            "name": "False",
            "count": 5
           }
          ]
         }
        },
        {
         "name": "_deepnote_index_column",
         "dtype": "int64"
        }
       ],
       "rows_top": [
        {
         "Administrative": 0,
         "Administrative_Duration": 0,
         "Informational": 0,
         "Informational_Duration": 0,
         "ProductRelated": 1,
         "ProductRelated_Duration": 0,
         "BounceRates": 0.2,
         "ExitRates": 0.2,
         "PageValues": 0,
         "SpecialDay": 0,
         "Month": "Feb",
         "OperatingSystems": 1,
         "Browser": 1,
         "Region": 1,
         "TrafficType": 1,
         "VisitorType": "Returning_Visitor",
         "Weekend": false,
         "Revenue": false,
         "_deepnote_index_column": 0
        },
        {
         "Administrative": 0,
         "Administrative_Duration": 0,
         "Informational": 0,
         "Informational_Duration": 0,
         "ProductRelated": 2,
         "ProductRelated_Duration": 64,
         "BounceRates": 0,
         "ExitRates": 0.1,
         "PageValues": 0,
         "SpecialDay": 0,
         "Month": "Feb",
         "OperatingSystems": 2,
         "Browser": 2,
         "Region": 1,
         "TrafficType": 2,
         "VisitorType": "Returning_Visitor",
         "Weekend": false,
         "Revenue": false,
         "_deepnote_index_column": 1
        },
        {
         "Administrative": 0,
         "Administrative_Duration": 0,
         "Informational": 0,
         "Informational_Duration": 0,
         "ProductRelated": 1,
         "ProductRelated_Duration": 0,
         "BounceRates": 0.2,
         "ExitRates": 0.2,
         "PageValues": 0,
         "SpecialDay": 0,
         "Month": "Feb",
         "OperatingSystems": 4,
         "Browser": 1,
         "Region": 9,
         "TrafficType": 3,
         "VisitorType": "Returning_Visitor",
         "Weekend": false,
         "Revenue": false,
         "_deepnote_index_column": 2
        },
        {
         "Administrative": 0,
         "Administrative_Duration": 0,
         "Informational": 0,
         "Informational_Duration": 0,
         "ProductRelated": 2,
         "ProductRelated_Duration": 2.666666667,
         "BounceRates": 0.05,
         "ExitRates": 0.14,
         "PageValues": 0,
         "SpecialDay": 0,
         "Month": "Feb",
         "OperatingSystems": 3,
         "Browser": 2,
         "Region": 2,
         "TrafficType": 4,
         "VisitorType": "Returning_Visitor",
         "Weekend": false,
         "Revenue": false,
         "_deepnote_index_column": 3
        },
        {
         "Administrative": 0,
         "Administrative_Duration": 0,
         "Informational": 0,
         "Informational_Duration": 0,
         "ProductRelated": 10,
         "ProductRelated_Duration": 627.5,
         "BounceRates": 0.02,
         "ExitRates": 0.05,
         "PageValues": 0,
         "SpecialDay": 0,
         "Month": "Feb",
         "OperatingSystems": 3,
         "Browser": 3,
         "Region": 1,
         "TrafficType": 4,
         "VisitorType": "Returning_Visitor",
         "Weekend": true,
         "Revenue": false,
         "_deepnote_index_column": 4
        }
       ],
       "rows_bottom": null
      },
      "text/plain": "   Administrative  Administrative_Duration  Informational  \\\n0               0                      0.0              0   \n1               0                      0.0              0   \n2               0                      0.0              0   \n3               0                      0.0              0   \n4               0                      0.0              0   \n\n   Informational_Duration  ProductRelated  ProductRelated_Duration  \\\n0                     0.0               1                 0.000000   \n1                     0.0               2                64.000000   \n2                     0.0               1                 0.000000   \n3                     0.0               2                 2.666667   \n4                     0.0              10               627.500000   \n\n   BounceRates  ExitRates  PageValues  SpecialDay Month  OperatingSystems  \\\n0         0.20       0.20         0.0         0.0   Feb                 1   \n1         0.00       0.10         0.0         0.0   Feb                 2   \n2         0.20       0.20         0.0         0.0   Feb                 4   \n3         0.05       0.14         0.0         0.0   Feb                 3   \n4         0.02       0.05         0.0         0.0   Feb                 3   \n\n   Browser  Region  TrafficType        VisitorType  Weekend  Revenue  \n0        1       1            1  Returning_Visitor    False    False  \n1        2       1            2  Returning_Visitor    False    False  \n2        1       9            3  Returning_Visitor    False    False  \n3        2       2            4  Returning_Visitor    False    False  \n4        3       1            4  Returning_Visitor     True    False  ",
      "text/html": "<div>\n<style scoped>\n    .dataframe tbody tr th:only-of-type {\n        vertical-align: middle;\n    }\n\n    .dataframe tbody tr th {\n        vertical-align: top;\n    }\n\n    .dataframe thead th {\n        text-align: right;\n    }\n</style>\n<table border=\"1\" class=\"dataframe\">\n  <thead>\n    <tr style=\"text-align: right;\">\n      <th></th>\n      <th>Administrative</th>\n      <th>Administrative_Duration</th>\n      <th>Informational</th>\n      <th>Informational_Duration</th>\n      <th>ProductRelated</th>\n      <th>ProductRelated_Duration</th>\n      <th>BounceRates</th>\n      <th>ExitRates</th>\n      <th>PageValues</th>\n      <th>SpecialDay</th>\n      <th>Month</th>\n      <th>OperatingSystems</th>\n      <th>Browser</th>\n      <th>Region</th>\n      <th>TrafficType</th>\n      <th>VisitorType</th>\n      <th>Weekend</th>\n      <th>Revenue</th>\n    </tr>\n  </thead>\n  <tbody>\n    <tr>\n      <th>0</th>\n      <td>0</td>\n      <td>0.0</td>\n      <td>0</td>\n      <td>0.0</td>\n      <td>1</td>\n      <td>0.000000</td>\n      <td>0.20</td>\n      <td>0.20</td>\n      <td>0.0</td>\n      <td>0.0</td>\n      <td>Feb</td>\n      <td>1</td>\n      <td>1</td>\n      <td>1</td>\n      <td>1</td>\n      <td>Returning_Visitor</td>\n      <td>False</td>\n      <td>False</td>\n    </tr>\n    <tr>\n      <th>1</th>\n      <td>0</td>\n      <td>0.0</td>\n      <td>0</td>\n      <td>0.0</td>\n      <td>2</td>\n      <td>64.000000</td>\n      <td>0.00</td>\n      <td>0.10</td>\n      <td>0.0</td>\n      <td>0.0</td>\n      <td>Feb</td>\n      <td>2</td>\n      <td>2</td>\n      <td>1</td>\n      <td>2</td>\n      <td>Returning_Visitor</td>\n      <td>False</td>\n      <td>False</td>\n    </tr>\n    <tr>\n      <th>2</th>\n      <td>0</td>\n      <td>0.0</td>\n      <td>0</td>\n      <td>0.0</td>\n      <td>1</td>\n      <td>0.000000</td>\n      <td>0.20</td>\n      <td>0.20</td>\n      <td>0.0</td>\n      <td>0.0</td>\n      <td>Feb</td>\n      <td>4</td>\n      <td>1</td>\n      <td>9</td>\n      <td>3</td>\n      <td>Returning_Visitor</td>\n      <td>False</td>\n      <td>False</td>\n    </tr>\n    <tr>\n      <th>3</th>\n      <td>0</td>\n      <td>0.0</td>\n      <td>0</td>\n      <td>0.0</td>\n      <td>2</td>\n      <td>2.666667</td>\n      <td>0.05</td>\n      <td>0.14</td>\n      <td>0.0</td>\n      <td>0.0</td>\n      <td>Feb</td>\n      <td>3</td>\n      <td>2</td>\n      <td>2</td>\n      <td>4</td>\n      <td>Returning_Visitor</td>\n      <td>False</td>\n      <td>False</td>\n    </tr>\n    <tr>\n      <th>4</th>\n      <td>0</td>\n      <td>0.0</td>\n      <td>0</td>\n      <td>0.0</td>\n      <td>10</td>\n      <td>627.500000</td>\n      <td>0.02</td>\n      <td>0.05</td>\n      <td>0.0</td>\n      <td>0.0</td>\n      <td>Feb</td>\n      <td>3</td>\n      <td>3</td>\n      <td>1</td>\n      <td>4</td>\n      <td>Returning_Visitor</td>\n      <td>True</td>\n      <td>False</td>\n    </tr>\n  </tbody>\n</table>\n</div>"
     },
     "metadata": {}
    }
   ]
  },
  {
   "cell_type": "code",
   "metadata": {
    "tags": [],
    "cell_id": "00002-db8c04c5-63c8-4fa0-9b3e-f8d563c7398c",
    "deepnote_to_be_reexecuted": false,
    "source_hash": "f8453a83",
    "execution_start": 1620977281664,
    "execution_millis": 91,
    "deepnote_cell_type": "code"
   },
   "source": "df.corr()",
   "execution_count": 7,
   "outputs": [
    {
     "output_type": "execute_result",
     "execution_count": 7,
     "data": {
      "application/vnd.deepnote.dataframe.v2+json": {
       "row_count": 16,
       "column_count": 16,
       "columns": [
        {
         "name": "Administrative",
         "dtype": "float64",
         "stats": {
          "unique_count": 16,
          "nan_count": 0,
          "min": "-0.3164829975272521",
          "max": "1.0",
          "histogram": [
           {
            "bin_start": -0.3164829975272521,
            "bin_end": -0.1848346977745269,
            "count": 2
           },
           {
            "bin_start": -0.1848346977745269,
            "bin_end": -0.053186398021801695,
            "count": 1
           },
           {
            "bin_start": -0.053186398021801695,
            "bin_end": 0.07846190173092354,
            "count": 5
           },
           {
            "bin_start": 0.07846190173092354,
            "bin_end": 0.21011020148364873,
            "count": 2
           },
           {
            "bin_start": 0.21011020148364873,
            "bin_end": 0.3417585012363739,
            "count": 1
           },
           {
            "bin_start": 0.3417585012363739,
            "bin_end": 0.4734068009890992,
            "count": 3
           },
           {
            "bin_start": 0.4734068009890992,
            "bin_end": 0.6050551007418243,
            "count": 1
           },
           {
            "bin_start": 0.6050551007418243,
            "bin_end": 0.7367034004945496,
            "count": 0
           },
           {
            "bin_start": 0.7367034004945496,
            "bin_end": 0.8683517002472749,
            "count": 0
           },
           {
            "bin_start": 0.8683517002472749,
            "bin_end": 1,
            "count": 1
           }
          ]
         }
        },
        {
         "name": "Administrative_Duration",
         "dtype": "float64",
         "stats": {
          "unique_count": 16,
          "nan_count": 0,
          "min": "-0.20579775727445548",
          "max": "1.0",
          "histogram": [
           {
            "bin_start": -0.20579775727445548,
            "bin_end": -0.08521798154700992,
            "count": 2
           },
           {
            "bin_start": -0.08521798154700992,
            "bin_end": 0.03536179418043564,
            "count": 6
           },
           {
            "bin_start": 0.03536179418043564,
            "bin_end": 0.15594156990788122,
            "count": 2
           },
           {
            "bin_start": 0.15594156990788122,
            "bin_end": 0.27652134563532677,
            "count": 1
           },
           {
            "bin_start": 0.27652134563532677,
            "bin_end": 0.3971011213627723,
            "count": 3
           },
           {
            "bin_start": 0.3971011213627723,
            "bin_end": 0.5176808970902179,
            "count": 0
           },
           {
            "bin_start": 0.5176808970902179,
            "bin_end": 0.6382606728176634,
            "count": 1
           },
           {
            "bin_start": 0.6382606728176634,
            "bin_end": 0.758840448545109,
            "count": 0
           },
           {
            "bin_start": 0.758840448545109,
            "bin_end": 0.8794202242725545,
            "count": 0
           },
           {
            "bin_start": 0.8794202242725545,
            "bin_end": 1,
            "count": 1
           }
          ]
         }
        },
        {
         "name": "Informational",
         "dtype": "float64",
         "stats": {
          "unique_count": 16,
          "nan_count": 0,
          "min": "-0.1636660607845007",
          "max": "1.0",
          "histogram": [
           {
            "bin_start": -0.1636660607845007,
            "bin_end": -0.047299454706050625,
            "count": 3
           },
           {
            "bin_start": -0.047299454706050625,
            "bin_end": 0.06906715137239944,
            "count": 6
           },
           {
            "bin_start": 0.06906715137239944,
            "bin_end": 0.1854337574508495,
            "count": 1
           },
           {
            "bin_start": 0.1854337574508495,
            "bin_end": 0.30180036352929956,
            "count": 0
           },
           {
            "bin_start": 0.30180036352929956,
            "bin_end": 0.41816696960774963,
            "count": 4
           },
           {
            "bin_start": 0.41816696960774963,
            "bin_end": 0.5345335756861997,
            "count": 0
           },
           {
            "bin_start": 0.5345335756861997,
            "bin_end": 0.6509001817646498,
            "count": 1
           },
           {
            "bin_start": 0.6509001817646498,
            "bin_end": 0.7672667878430999,
            "count": 0
           },
           {
            "bin_start": 0.7672667878430999,
            "bin_end": 0.8836333939215499,
            "count": 0
           },
           {
            "bin_start": 0.8836333939215499,
            "bin_end": 1,
            "count": 1
           }
          ]
         }
        },
        {
         "name": "Informational_Duration",
         "dtype": "float64",
         "stats": {
          "unique_count": 16,
          "nan_count": 0,
          "min": "-0.1052756833478731",
          "max": "1.0",
          "histogram": [
           {
            "bin_start": -0.1052756833478731,
            "bin_end": 0.005251884986914215,
            "count": 7
           },
           {
            "bin_start": 0.005251884986914215,
            "bin_end": 0.11577945332170153,
            "count": 3
           },
           {
            "bin_start": 0.11577945332170153,
            "bin_end": 0.22630702165648883,
            "count": 0
           },
           {
            "bin_start": 0.22630702165648883,
            "bin_end": 0.33683458999127613,
            "count": 3
           },
           {
            "bin_start": 0.33683458999127613,
            "bin_end": 0.4473621583260635,
            "count": 1
           },
           {
            "bin_start": 0.4473621583260635,
            "bin_end": 0.5578897266608508,
            "count": 0
           },
           {
            "bin_start": 0.5578897266608508,
            "bin_end": 0.6684172949956382,
            "count": 1
           },
           {
            "bin_start": 0.6684172949956382,
            "bin_end": 0.7789448633304255,
            "count": 0
           },
           {
            "bin_start": 0.7789448633304255,
            "bin_end": 0.8894724316652127,
            "count": 0
           },
           {
            "bin_start": 0.8894724316652127,
            "bin_end": 1,
            "count": 1
           }
          ]
         }
        },
        {
         "name": "ProductRelated",
         "dtype": "float64",
         "stats": {
          "unique_count": 16,
          "nan_count": 0,
          "min": "-0.29252628311358025",
          "max": "1.0",
          "histogram": [
           {
            "bin_start": -0.29252628311358025,
            "bin_end": -0.16327365480222222,
            "count": 2
           },
           {
            "bin_start": -0.16327365480222222,
            "bin_end": -0.03402102649086419,
            "count": 2
           },
           {
            "bin_start": -0.03402102649086419,
            "bin_end": 0.09523160182049384,
            "count": 5
           },
           {
            "bin_start": 0.09523160182049384,
            "bin_end": 0.22448423013185187,
            "count": 1
           },
           {
            "bin_start": 0.22448423013185187,
            "bin_end": 0.35373685844320985,
            "count": 2
           },
           {
            "bin_start": 0.35373685844320985,
            "bin_end": 0.48298948675456793,
            "count": 2
           },
           {
            "bin_start": 0.48298948675456793,
            "bin_end": 0.6122421150659261,
            "count": 0
           },
           {
            "bin_start": 0.6122421150659261,
            "bin_end": 0.741494743377284,
            "count": 0
           },
           {
            "bin_start": 0.741494743377284,
            "bin_end": 0.870747371688642,
            "count": 1
           },
           {
            "bin_start": 0.870747371688642,
            "bin_end": 1,
            "count": 1
           }
          ]
         }
        },
        {
         "name": "ProductRelated_Duration",
         "dtype": "float64",
         "stats": {
          "unique_count": 16,
          "nan_count": 0,
          "min": "-0.2519840974061049",
          "max": "1.0",
          "histogram": [
           {
            "bin_start": -0.2519840974061049,
            "bin_end": -0.1267856876654944,
            "count": 2
           },
           {
            "bin_start": -0.1267856876654944,
            "bin_end": -0.0015872779248838897,
            "count": 4
           },
           {
            "bin_start": -0.0015872779248838897,
            "bin_end": 0.12361113181572664,
            "count": 3
           },
           {
            "bin_start": 0.12361113181572664,
            "bin_end": 0.2488095415563371,
            "count": 1
           },
           {
            "bin_start": 0.2488095415563371,
            "bin_end": 0.3740079512969476,
            "count": 3
           },
           {
            "bin_start": 0.3740079512969476,
            "bin_end": 0.49920636103755817,
            "count": 1
           },
           {
            "bin_start": 0.49920636103755817,
            "bin_end": 0.6244047707781686,
            "count": 0
           },
           {
            "bin_start": 0.6244047707781686,
            "bin_end": 0.749603180518779,
            "count": 0
           },
           {
            "bin_start": 0.749603180518779,
            "bin_end": 0.8748015902593895,
            "count": 1
           },
           {
            "bin_start": 0.8748015902593895,
            "bin_end": 1,
            "count": 1
           }
          ]
         }
        },
        {
         "name": "BounceRates",
         "dtype": "float64",
         "stats": {
          "unique_count": 16,
          "nan_count": 0,
          "min": "-0.22356263038422594",
          "max": "1.0",
          "histogram": [
           {
            "bin_start": -0.22356263038422594,
            "bin_end": -0.10120636734580335,
            "count": 7
           },
           {
            "bin_start": -0.10120636734580335,
            "bin_end": 0.02114989569261924,
            "count": 4
           },
           {
            "bin_start": 0.02114989569261924,
            "bin_end": 0.1435061587310418,
            "count": 3
           },
           {
            "bin_start": 0.1435061587310418,
            "bin_end": 0.2658624217694644,
            "count": 0
           },
           {
            "bin_start": 0.2658624217694644,
            "bin_end": 0.388218684807887,
            "count": 0
           },
           {
            "bin_start": 0.388218684807887,
            "bin_end": 0.5105749478463095,
            "count": 0
           },
           {
            "bin_start": 0.5105749478463095,
            "bin_end": 0.6329312108847321,
            "count": 0
           },
           {
            "bin_start": 0.6329312108847321,
            "bin_end": 0.7552874739231548,
            "count": 0
           },
           {
            "bin_start": 0.7552874739231548,
            "bin_end": 0.8776437369615773,
            "count": 0
           },
           {
            "bin_start": 0.8776437369615773,
            "bin_end": 1,
            "count": 2
           }
          ]
         }
        },
        {
         "name": "ExitRates",
         "dtype": "float64",
         "stats": {
          "unique_count": 16,
          "nan_count": 0,
          "min": "-0.3164829975272521",
          "max": "1.0",
          "histogram": [
           {
            "bin_start": -0.3164829975272521,
            "bin_end": -0.1848346977745269,
            "count": 5
           },
           {
            "bin_start": -0.1848346977745269,
            "bin_end": -0.053186398021801695,
            "count": 4
           },
           {
            "bin_start": -0.053186398021801695,
            "bin_end": 0.07846190173092354,
            "count": 3
           },
           {
            "bin_start": 0.07846190173092354,
            "bin_end": 0.21011020148364873,
            "count": 2
           },
           {
            "bin_start": 0.21011020148364873,
            "bin_end": 0.3417585012363739,
            "count": 0
           },
           {
            "bin_start": 0.3417585012363739,
            "bin_end": 0.4734068009890992,
            "count": 0
           },
           {
            "bin_start": 0.4734068009890992,
            "bin_end": 0.6050551007418243,
            "count": 0
           },
           {
            "bin_start": 0.6050551007418243,
            "bin_end": 0.7367034004945496,
            "count": 0
           },
           {
            "bin_start": 0.7367034004945496,
            "bin_end": 0.8683517002472749,
            "count": 0
           },
           {
            "bin_start": 0.8683517002472749,
            "bin_end": 1,
            "count": 2
           }
          ]
         }
        },
        {
         "name": "PageValues",
         "dtype": "float64",
         "stats": {
          "unique_count": 16,
          "nan_count": 0,
          "min": "-0.17449831000178184",
          "max": "1.0",
          "histogram": [
           {
            "bin_start": -0.17449831000178184,
            "bin_end": -0.05704847900160366,
            "count": 3
           },
           {
            "bin_start": -0.05704847900160366,
            "bin_end": 0.06040135199857452,
            "count": 9
           },
           {
            "bin_start": 0.06040135199857452,
            "bin_end": 0.1778511829987527,
            "count": 2
           },
           {
            "bin_start": 0.1778511829987527,
            "bin_end": 0.2953010139989309,
            "count": 0
           },
           {
            "bin_start": 0.2953010139989309,
            "bin_end": 0.4127508449991091,
            "count": 0
           },
           {
            "bin_start": 0.4127508449991091,
            "bin_end": 0.5302006759992872,
            "count": 1
           },
           {
            "bin_start": 0.5302006759992872,
            "bin_end": 0.6476505069994655,
            "count": 0
           },
           {
            "bin_start": 0.6476505069994655,
            "bin_end": 0.7651003379996436,
            "count": 0
           },
           {
            "bin_start": 0.7651003379996436,
            "bin_end": 0.8825501689998219,
            "count": 0
           },
           {
            "bin_start": 0.8825501689998219,
            "bin_end": 1,
            "count": 1
           }
          ]
         }
        },
        {
         "name": "SpecialDay",
         "dtype": "float64",
         "stats": {
          "unique_count": 16,
          "nan_count": 0,
          "min": "-0.09477759754428257",
          "max": "1.0",
          "histogram": [
           {
            "bin_start": -0.09477759754428257,
            "bin_end": 0.014700162210145695,
            "count": 12
           },
           {
            "bin_start": 0.014700162210145695,
            "bin_end": 0.12417792196457396,
            "count": 3
           },
           {
            "bin_start": 0.12417792196457396,
            "bin_end": 0.23365568171900225,
            "count": 0
           },
           {
            "bin_start": 0.23365568171900225,
            "bin_end": 0.3431334414734305,
            "count": 0
           },
           {
            "bin_start": 0.3431334414734305,
            "bin_end": 0.45261120122785875,
            "count": 0
           },
           {
            "bin_start": 0.45261120122785875,
            "bin_end": 0.562088960982287,
            "count": 0
           },
           {
            "bin_start": 0.562088960982287,
            "bin_end": 0.6715667207367152,
            "count": 0
           },
           {
            "bin_start": 0.6715667207367152,
            "bin_end": 0.7810444804911435,
            "count": 0
           },
           {
            "bin_start": 0.7810444804911435,
            "bin_end": 0.8905222402455718,
            "count": 0
           },
           {
            "bin_start": 0.8905222402455718,
            "bin_end": 1,
            "count": 1
           }
          ]
         }
        },
        {
         "name": "OperatingSystems",
         "dtype": "float64",
         "stats": {
          "unique_count": 16,
          "nan_count": 0,
          "min": "-0.01466755959421009",
          "max": "1.0",
          "histogram": [
           {
            "bin_start": -0.01466755959421009,
            "bin_end": 0.08679919636521091,
            "count": 13
           },
           {
            "bin_start": 0.08679919636521091,
            "bin_end": 0.18826595232463192,
            "count": 0
           },
           {
            "bin_start": 0.18826595232463192,
            "bin_end": 0.28973270828405295,
            "count": 2
           },
           {
            "bin_start": 0.28973270828405295,
            "bin_end": 0.39119946424347396,
            "count": 0
           },
           {
            "bin_start": 0.39119946424347396,
            "bin_end": 0.49266622020289497,
            "count": 0
           },
           {
            "bin_start": 0.49266622020289497,
            "bin_end": 0.594132976162316,
            "count": 0
           },
           {
            "bin_start": 0.594132976162316,
            "bin_end": 0.695599732121737,
            "count": 0
           },
           {
            "bin_start": 0.695599732121737,
            "bin_end": 0.797066488081158,
            "count": 0
           },
           {
            "bin_start": 0.797066488081158,
            "bin_end": 0.898533244040579,
            "count": 0
           },
           {
            "bin_start": 0.898533244040579,
            "bin_end": 1,
            "count": 1
           }
          ]
         }
        },
        {
         "name": "Browser",
         "dtype": "float64",
         "stats": {
          "unique_count": 16,
          "nan_count": 0,
          "min": "-0.04026086380886525",
          "max": "1.0",
          "histogram": [
           {
            "bin_start": -0.04026086380886525,
            "bin_end": 0.06376522257202127,
            "count": 12
           },
           {
            "bin_start": 0.06376522257202127,
            "bin_end": 0.1677913089529078,
            "count": 2
           },
           {
            "bin_start": 0.1677913089529078,
            "bin_end": 0.2718173953337944,
            "count": 1
           },
           {
            "bin_start": 0.2718173953337944,
            "bin_end": 0.3758434817146809,
            "count": 0
           },
           {
            "bin_start": 0.3758434817146809,
            "bin_end": 0.4798695680955674,
            "count": 0
           },
           {
            "bin_start": 0.4798695680955674,
            "bin_end": 0.583895654476454,
            "count": 0
           },
           {
            "bin_start": 0.583895654476454,
            "bin_end": 0.6879217408573405,
            "count": 0
           },
           {
            "bin_start": 0.6879217408573405,
            "bin_end": 0.791947827238227,
            "count": 0
           },
           {
            "bin_start": 0.791947827238227,
            "bin_end": 0.8959739136191135,
            "count": 0
           },
           {
            "bin_start": 0.8959739136191135,
            "bin_end": 1,
            "count": 1
           }
          ]
         }
        },
        {
         "name": "Region",
         "dtype": "float64",
         "stats": {
          "unique_count": 16,
          "nan_count": 0,
          "min": "-0.03812184171387137",
          "max": "1.0",
          "histogram": [
           {
            "bin_start": -0.03812184171387137,
            "bin_end": 0.06569034245751576,
            "count": 13
           },
           {
            "bin_start": 0.06569034245751576,
            "bin_end": 0.1695025266289029,
            "count": 2
           },
           {
            "bin_start": 0.1695025266289029,
            "bin_end": 0.27331471080029,
            "count": 0
           },
           {
            "bin_start": 0.27331471080029,
            "bin_end": 0.3771268949716772,
            "count": 0
           },
           {
            "bin_start": 0.3771268949716772,
            "bin_end": 0.48093907914306433,
            "count": 0
           },
           {
            "bin_start": 0.48093907914306433,
            "bin_end": 0.5847512633144514,
            "count": 0
           },
           {
            "bin_start": 0.5847512633144514,
            "bin_end": 0.6885634474858385,
            "count": 0
           },
           {
            "bin_start": 0.6885634474858385,
            "bin_end": 0.7923756316572257,
            "count": 0
           },
           {
            "bin_start": 0.7923756316572257,
            "bin_end": 0.8961878158286128,
            "count": 0
           },
           {
            "bin_start": 0.8961878158286128,
            "bin_end": 1,
            "count": 1
           }
          ]
         }
        },
        {
         "name": "TrafficType",
         "dtype": "float64",
         "stats": {
          "unique_count": 16,
          "nan_count": 0,
          "min": "-0.043064303810434905",
          "max": "1.0",
          "histogram": [
           {
            "bin_start": -0.043064303810434905,
            "bin_end": 0.061242126570608575,
            "count": 11
           },
           {
            "bin_start": 0.061242126570608575,
            "bin_end": 0.16554855695165205,
            "count": 3
           },
           {
            "bin_start": 0.16554855695165205,
            "bin_end": 0.26985498733269553,
            "count": 1
           },
           {
            "bin_start": 0.26985498733269553,
            "bin_end": 0.374161417713739,
            "count": 0
           },
           {
            "bin_start": 0.374161417713739,
            "bin_end": 0.4784678480947825,
            "count": 0
           },
           {
            "bin_start": 0.4784678480947825,
            "bin_end": 0.582774278475826,
            "count": 0
           },
           {
            "bin_start": 0.582774278475826,
            "bin_end": 0.6870807088568694,
            "count": 0
           },
           {
            "bin_start": 0.6870807088568694,
            "bin_end": 0.7913871392379129,
            "count": 0
           },
           {
            "bin_start": 0.7913871392379129,
            "bin_end": 0.8956935696189564,
            "count": 0
           },
           {
            "bin_start": 0.8956935696189564,
            "bin_end": 1,
            "count": 1
           }
          ]
         }
        },
        {
         "name": "Weekend",
         "dtype": "float64",
         "stats": {
          "unique_count": 16,
          "nan_count": 0,
          "min": "-0.06258704801054936",
          "max": "1.0",
          "histogram": [
           {
            "bin_start": -0.06258704801054936,
            "bin_end": 0.04367165679050557,
            "count": 15
           },
           {
            "bin_start": 0.04367165679050557,
            "bin_end": 0.14993036159156048,
            "count": 0
           },
           {
            "bin_start": 0.14993036159156048,
            "bin_end": 0.2561890663926154,
            "count": 0
           },
           {
            "bin_start": 0.2561890663926154,
            "bin_end": 0.36244777119367033,
            "count": 0
           },
           {
            "bin_start": 0.36244777119367033,
            "bin_end": 0.46870647599472526,
            "count": 0
           },
           {
            "bin_start": 0.46870647599472526,
            "bin_end": 0.5749651807957802,
            "count": 0
           },
           {
            "bin_start": 0.5749651807957802,
            "bin_end": 0.6812238855968351,
            "count": 0
           },
           {
            "bin_start": 0.6812238855968351,
            "bin_end": 0.78748259039789,
            "count": 0
           },
           {
            "bin_start": 0.78748259039789,
            "bin_end": 0.893741295198945,
            "count": 0
           },
           {
            "bin_start": 0.893741295198945,
            "bin_end": 1,
            "count": 1
           }
          ]
         }
        },
        {
         "name": "Revenue",
         "dtype": "float64",
         "stats": {
          "unique_count": 16,
          "nan_count": 0,
          "min": "-0.2070710820552722",
          "max": "1.0",
          "histogram": [
           {
            "bin_start": -0.2070710820552722,
            "bin_end": -0.08636397384974498,
            "count": 2
           },
           {
            "bin_start": -0.08636397384974498,
            "bin_end": 0.034343134355782234,
            "count": 6
           },
           {
            "bin_start": 0.034343134355782234,
            "bin_end": 0.15505024256130945,
            "count": 5
           },
           {
            "bin_start": 0.15505024256130945,
            "bin_end": 0.27575735076683666,
            "count": 1
           },
           {
            "bin_start": 0.27575735076683666,
            "bin_end": 0.3964644589723639,
            "count": 0
           },
           {
            "bin_start": 0.3964644589723639,
            "bin_end": 0.5171715671778911,
            "count": 1
           },
           {
            "bin_start": 0.5171715671778911,
            "bin_end": 0.6378786753834182,
            "count": 0
           },
           {
            "bin_start": 0.6378786753834182,
            "bin_end": 0.7585857835889456,
            "count": 0
           },
           {
            "bin_start": 0.7585857835889456,
            "bin_end": 0.8792928917944727,
            "count": 0
           },
           {
            "bin_start": 0.8792928917944727,
            "bin_end": 1,
            "count": 1
           }
          ]
         }
        },
        {
         "name": "_deepnote_index_column",
         "dtype": "object"
        }
       ],
       "rows_top": [
        {
         "Administrative": 1,
         "Administrative_Duration": 0.6015833421250226,
         "Informational": 0.3768504293073085,
         "Informational_Duration": 0.25584814023262603,
         "ProductRelated": 0.43111933962453475,
         "ProductRelated_Duration": 0.37393901295967064,
         "BounceRates": -0.22356263038422594,
         "ExitRates": -0.3164829975272521,
         "PageValues": 0.09898958539971277,
         "SpecialDay": -0.09477759754428257,
         "OperatingSystems": -0.006347063271777328,
         "Browser": -0.025034572301622246,
         "Region": -0.005486805267111584,
         "TrafficType": -0.03356071261303074,
         "Weekend": 0.026416750253924794,
         "Revenue": 0.13891709415067252,
         "_deepnote_index_column": "Administrative"
        },
        {
         "Administrative": 0.6015833421250226,
         "Administrative_Duration": 1,
         "Informational": 0.3027097089757625,
         "Informational_Duration": 0.23803078935000088,
         "ProductRelated": 0.2890866214062173,
         "ProductRelated_Duration": 0.35542195350163014,
         "BounceRates": -0.14417040950711418,
         "ExitRates": -0.20579775727445548,
         "PageValues": 0.06760848087034964,
         "SpecialDay": -0.07330372492126022,
         "OperatingSystems": -0.0073434175219950475,
         "Browser": -0.015391526719883216,
         "Region": -0.0055605628393206995,
         "TrafficType": -0.014376430636008032,
         "Weekend": 0.014990141913816167,
         "Revenue": 0.09358671905704198,
         "_deepnote_index_column": "Administrative_Duration"
        },
        {
         "Administrative": 0.3768504293073085,
         "Administrative_Duration": 0.3027097089757625,
         "Informational": 1,
         "Informational_Duration": 0.6189548617814573,
         "ProductRelated": 0.3741642906577265,
         "ProductRelated_Duration": 0.3875053062598626,
         "BounceRates": -0.11611361638719091,
         "ExitRates": -0.1636660607845007,
         "PageValues": 0.048631691953743394,
         "SpecialDay": -0.04821925398952802,
         "OperatingSystems": -0.00952666789175222,
         "Browser": -0.03823467813983742,
         "Region": -0.02916863793730765,
         "TrafficType": -0.034490753826794264,
         "Weekend": 0.03578472510756787,
         "Revenue": 0.0952003425720571,
         "_deepnote_index_column": "Informational"
        },
        {
         "Administrative": 0.25584814023262603,
         "Administrative_Duration": 0.23803078935000088,
         "Informational": 0.6189548617814573,
         "Informational_Duration": 1,
         "ProductRelated": 0.28004626785919684,
         "ProductRelated_Duration": 0.3473635774464961,
         "BounceRates": -0.07406660989572071,
         "ExitRates": -0.1052756833478731,
         "PageValues": 0.030860873716780254,
         "SpecialDay": -0.030576549486372003,
         "OperatingSystems": -0.00957867640106472,
         "Browser": -0.019284980935369168,
         "Region": -0.027144112353764367,
         "TrafficType": -0.02467490778346264,
         "Weekend": 0.024078486249592326,
         "Revenue": 0.07034450234598345,
         "_deepnote_index_column": "Informational_Duration"
        },
        {
         "Administrative": 0.43111933962453475,
         "Administrative_Duration": 0.2890866214062173,
         "Informational": 0.3741642906577265,
         "Informational_Duration": 0.28004626785919684,
         "ProductRelated": 1,
         "ProductRelated_Duration": 0.8609268361763707,
         "BounceRates": -0.20457763335075316,
         "ExitRates": -0.29252628311358025,
         "PageValues": 0.05628179410884894,
         "SpecialDay": -0.02395817472400519,
         "OperatingSystems": 0.004289620582246028,
         "Browser": -0.01314572095583748,
         "Region": -0.03812184171387137,
         "TrafficType": -0.043064303810434905,
         "Weekend": 0.01609196423446964,
         "Revenue": 0.1585379842808741,
         "_deepnote_index_column": "ProductRelated"
        },
        {
         "Administrative": 0.37393901295967064,
         "Administrative_Duration": 0.35542195350163014,
         "Informational": 0.3875053062598626,
         "Informational_Duration": 0.3473635774464961,
         "ProductRelated": 0.8609268361763707,
         "ProductRelated_Duration": 1,
         "BounceRates": -0.18454111529428474,
         "ExitRates": -0.2519840974061049,
         "PageValues": 0.052823062950144,
         "SpecialDay": -0.03637984509738724,
         "OperatingSystems": 0.002975789794996047,
         "Browser": -0.007380440334985914,
         "Region": -0.033090519836723925,
         "TrafficType": -0.03637717048954162,
         "Weekend": 0.007310613811572834,
         "Revenue": 0.15237261055701054,
         "_deepnote_index_column": "ProductRelated_Duration"
        },
        {
         "Administrative": -0.22356263038422594,
         "Administrative_Duration": -0.14417040950711418,
         "Informational": -0.11611361638719091,
         "Informational_Duration": -0.07406660989572071,
         "ProductRelated": -0.20457763335075316,
         "ProductRelated_Duration": -0.18454111529428474,
         "BounceRates": 1,
         "ExitRates": 0.9130043961815185,
         "PageValues": -0.11938602629479486,
         "SpecialDay": 0.0727022530825555,
         "OperatingSystems": 0.023823182463080836,
         "Browser": -0.015772209261555672,
         "Region": -0.006485347449602025,
         "TrafficType": 0.07828554120291616,
         "Weekend": -0.04651399653118228,
         "Revenue": -0.1506729119260533,
         "_deepnote_index_column": "BounceRates"
        },
        {
         "Administrative": -0.3164829975272521,
         "Administrative_Duration": -0.20579775727445548,
         "Informational": -0.1636660607845007,
         "Informational_Duration": -0.1052756833478731,
         "ProductRelated": -0.29252628311358025,
         "ProductRelated_Duration": -0.2519840974061049,
         "BounceRates": 0.9130043961815185,
         "ExitRates": 1,
         "PageValues": -0.17449831000178184,
         "SpecialDay": 0.10224180209857663,
         "OperatingSystems": 0.01456673534477198,
         "Browser": -0.004442355026473063,
         "Region": -0.008907005956706467,
         "TrafficType": 0.07861633061233261,
         "Weekend": -0.06258704801054936,
         "Revenue": -0.2070710820552722,
         "_deepnote_index_column": "ExitRates"
        },
        {
         "Administrative": 0.09898958539971277,
         "Administrative_Duration": 0.06760848087034964,
         "Informational": 0.048631691953743394,
         "Informational_Duration": 0.030860873716780254,
         "ProductRelated": 0.05628179410884894,
         "ProductRelated_Duration": 0.052823062950144,
         "BounceRates": -0.11938602629479486,
         "ExitRates": -0.17449831000178184,
         "PageValues": 1,
         "SpecialDay": -0.06354127178534998,
         "OperatingSystems": 0.018507946634803263,
         "Browser": 0.04559191854226462,
         "Region": 0.011315299468006681,
         "TrafficType": 0.012531692664867294,
         "Weekend": 0.012001639171359785,
         "Revenue": 0.49256929525120574,
         "_deepnote_index_column": "PageValues"
        },
        {
         "Administrative": -0.09477759754428257,
         "Administrative_Duration": -0.07330372492126022,
         "Informational": -0.04821925398952802,
         "Informational_Duration": -0.030576549486372003,
         "ProductRelated": -0.02395817472400519,
         "ProductRelated_Duration": -0.03637984509738724,
         "BounceRates": 0.0727022530825555,
         "ExitRates": 0.10224180209857663,
         "PageValues": -0.06354127178534998,
         "SpecialDay": 1,
         "OperatingSystems": 0.01265223473651744,
         "Browser": 0.003498746743314711,
         "Region": -0.016097974624069006,
         "TrafficType": 0.05230144264216626,
         "Weekend": -0.01676715526954078,
         "Revenue": -0.08230459817953152,
         "_deepnote_index_column": "SpecialDay"
        },
        {
         "Administrative": -0.006347063271777328,
         "Administrative_Duration": -0.0073434175219950475,
         "Informational": -0.00952666789175222,
         "Informational_Duration": -0.00957867640106472,
         "ProductRelated": 0.004289620582246028,
         "ProductRelated_Duration": 0.002975789794996047,
         "BounceRates": 0.023823182463080836,
         "ExitRates": 0.01456673534477198,
         "PageValues": 0.018507946634803263,
         "SpecialDay": 0.01265223473651744,
         "OperatingSystems": 1,
         "Browser": 0.22301288824747276,
         "Region": 0.07677548563257915,
         "TrafficType": 0.18915361212809206,
         "Weekend": 0.0002842506113326362,
         "Revenue": -0.01466755959421009,
         "_deepnote_index_column": "OperatingSystems"
        },
        {
         "Administrative": -0.025034572301622246,
         "Administrative_Duration": -0.015391526719883216,
         "Informational": -0.03823467813983742,
         "Informational_Duration": -0.019284980935369168,
         "ProductRelated": -0.01314572095583748,
         "ProductRelated_Duration": -0.007380440334985914,
         "BounceRates": -0.015772209261555672,
         "ExitRates": -0.004442355026473063,
         "PageValues": 0.04559191854226462,
         "SpecialDay": 0.003498746743314711,
         "OperatingSystems": 0.22301288824747276,
         "Browser": 1,
         "Region": 0.09739284920807333,
         "TrafficType": 0.11193822446993566,
         "Weekend": -0.04026086380886525,
         "Revenue": 0.02398428940409267,
         "_deepnote_index_column": "Browser"
        },
        {
         "Administrative": -0.005486805267111584,
         "Administrative_Duration": -0.0055605628393206995,
         "Informational": -0.02916863793730765,
         "Informational_Duration": -0.027144112353764367,
         "ProductRelated": -0.03812184171387137,
         "ProductRelated_Duration": -0.033090519836723925,
         "BounceRates": -0.006485347449602025,
         "ExitRates": -0.008907005956706467,
         "PageValues": 0.011315299468006681,
         "SpecialDay": -0.016097974624069006,
         "OperatingSystems": 0.07677548563257915,
         "Browser": 0.09739284920807333,
         "Region": 1,
         "TrafficType": 0.047520231297077636,
         "Weekend": -0.0006906703089069207,
         "Revenue": -0.01159506777780069,
         "_deepnote_index_column": "Region"
        },
        {
         "Administrative": -0.03356071261303074,
         "Administrative_Duration": -0.014376430636008032,
         "Informational": -0.034490753826794264,
         "Informational_Duration": -0.02467490778346264,
         "ProductRelated": -0.043064303810434905,
         "ProductRelated_Duration": -0.03637717048954162,
         "BounceRates": 0.07828554120291616,
         "ExitRates": 0.07861633061233261,
         "PageValues": 0.012531692664867294,
         "SpecialDay": 0.05230144264216626,
         "OperatingSystems": 0.18915361212809206,
         "Browser": 0.11193822446993566,
         "Region": 0.047520231297077636,
         "TrafficType": 1,
         "Weekend": -0.0022212292430310644,
         "Revenue": -0.005112970502755714,
         "_deepnote_index_column": "TrafficType"
        },
        {
         "Administrative": 0.026416750253924794,
         "Administrative_Duration": 0.014990141913816167,
         "Informational": 0.03578472510756787,
         "Informational_Duration": 0.024078486249592326,
         "ProductRelated": 0.01609196423446964,
         "ProductRelated_Duration": 0.007310613811572834,
         "BounceRates": -0.04651399653118228,
         "ExitRates": -0.06258704801054936,
         "PageValues": 0.012001639171359785,
         "SpecialDay": -0.01676715526954078,
         "OperatingSystems": 0.0002842506113326362,
         "Browser": -0.04026086380886525,
         "Region": -0.0006906703089069207,
         "TrafficType": -0.0022212292430310644,
         "Weekend": 1,
         "Revenue": 0.029295367971994668,
         "_deepnote_index_column": "Weekend"
        },
        {
         "Administrative": 0.13891709415067252,
         "Administrative_Duration": 0.09358671905704198,
         "Informational": 0.0952003425720571,
         "Informational_Duration": 0.07034450234598345,
         "ProductRelated": 0.1585379842808741,
         "ProductRelated_Duration": 0.15237261055701054,
         "BounceRates": -0.1506729119260533,
         "ExitRates": -0.2070710820552722,
         "PageValues": 0.49256929525120574,
         "SpecialDay": -0.08230459817953152,
         "OperatingSystems": -0.01466755959421009,
         "Browser": 0.02398428940409267,
         "Region": -0.01159506777780069,
         "TrafficType": -0.005112970502755714,
         "Weekend": 0.029295367971994668,
         "Revenue": 1,
         "_deepnote_index_column": "Revenue"
        }
       ],
       "rows_bottom": null
      },
      "text/plain": "                         Administrative  Administrative_Duration  \\\nAdministrative                 1.000000                 0.601583   \nAdministrative_Duration        0.601583                 1.000000   \nInformational                  0.376850                 0.302710   \nInformational_Duration         0.255848                 0.238031   \nProductRelated                 0.431119                 0.289087   \nProductRelated_Duration        0.373939                 0.355422   \nBounceRates                   -0.223563                -0.144170   \nExitRates                     -0.316483                -0.205798   \nPageValues                     0.098990                 0.067608   \nSpecialDay                    -0.094778                -0.073304   \nOperatingSystems              -0.006347                -0.007343   \nBrowser                       -0.025035                -0.015392   \nRegion                        -0.005487                -0.005561   \nTrafficType                   -0.033561                -0.014376   \nWeekend                        0.026417                 0.014990   \nRevenue                        0.138917                 0.093587   \n\n                         Informational  Informational_Duration  \\\nAdministrative                0.376850                0.255848   \nAdministrative_Duration       0.302710                0.238031   \nInformational                 1.000000                0.618955   \nInformational_Duration        0.618955                1.000000   \nProductRelated                0.374164                0.280046   \nProductRelated_Duration       0.387505                0.347364   \nBounceRates                  -0.116114               -0.074067   \nExitRates                    -0.163666               -0.105276   \nPageValues                    0.048632                0.030861   \nSpecialDay                   -0.048219               -0.030577   \nOperatingSystems             -0.009527               -0.009579   \nBrowser                      -0.038235               -0.019285   \nRegion                       -0.029169               -0.027144   \nTrafficType                  -0.034491               -0.024675   \nWeekend                       0.035785                0.024078   \nRevenue                       0.095200                0.070345   \n\n                         ProductRelated  ProductRelated_Duration  BounceRates  \\\nAdministrative                 0.431119                 0.373939    -0.223563   \nAdministrative_Duration        0.289087                 0.355422    -0.144170   \nInformational                  0.374164                 0.387505    -0.116114   \nInformational_Duration         0.280046                 0.347364    -0.074067   \nProductRelated                 1.000000                 0.860927    -0.204578   \nProductRelated_Duration        0.860927                 1.000000    -0.184541   \nBounceRates                   -0.204578                -0.184541     1.000000   \nExitRates                     -0.292526                -0.251984     0.913004   \nPageValues                     0.056282                 0.052823    -0.119386   \nSpecialDay                    -0.023958                -0.036380     0.072702   \nOperatingSystems               0.004290                 0.002976     0.023823   \nBrowser                       -0.013146                -0.007380    -0.015772   \nRegion                        -0.038122                -0.033091    -0.006485   \nTrafficType                   -0.043064                -0.036377     0.078286   \nWeekend                        0.016092                 0.007311    -0.046514   \nRevenue                        0.158538                 0.152373    -0.150673   \n\n                         ExitRates  PageValues  SpecialDay  OperatingSystems  \\\nAdministrative           -0.316483    0.098990   -0.094778         -0.006347   \nAdministrative_Duration  -0.205798    0.067608   -0.073304         -0.007343   \nInformational            -0.163666    0.048632   -0.048219         -0.009527   \nInformational_Duration   -0.105276    0.030861   -0.030577         -0.009579   \nProductRelated           -0.292526    0.056282   -0.023958          0.004290   \nProductRelated_Duration  -0.251984    0.052823   -0.036380          0.002976   \nBounceRates               0.913004   -0.119386    0.072702          0.023823   \nExitRates                 1.000000   -0.174498    0.102242          0.014567   \nPageValues               -0.174498    1.000000   -0.063541          0.018508   \nSpecialDay                0.102242   -0.063541    1.000000          0.012652   \nOperatingSystems          0.014567    0.018508    0.012652          1.000000   \nBrowser                  -0.004442    0.045592    0.003499          0.223013   \nRegion                   -0.008907    0.011315   -0.016098          0.076775   \nTrafficType               0.078616    0.012532    0.052301          0.189154   \nWeekend                  -0.062587    0.012002   -0.016767          0.000284   \nRevenue                  -0.207071    0.492569   -0.082305         -0.014668   \n\n                          Browser    Region  TrafficType   Weekend   Revenue  \nAdministrative          -0.025035 -0.005487    -0.033561  0.026417  0.138917  \nAdministrative_Duration -0.015392 -0.005561    -0.014376  0.014990  0.093587  \nInformational           -0.038235 -0.029169    -0.034491  0.035785  0.095200  \nInformational_Duration  -0.019285 -0.027144    -0.024675  0.024078  0.070345  \nProductRelated          -0.013146 -0.038122    -0.043064  0.016092  0.158538  \nProductRelated_Duration -0.007380 -0.033091    -0.036377  0.007311  0.152373  \nBounceRates             -0.015772 -0.006485     0.078286 -0.046514 -0.150673  \nExitRates               -0.004442 -0.008907     0.078616 -0.062587 -0.207071  \nPageValues               0.045592  0.011315     0.012532  0.012002  0.492569  \nSpecialDay               0.003499 -0.016098     0.052301 -0.016767 -0.082305  \nOperatingSystems         0.223013  0.076775     0.189154  0.000284 -0.014668  \nBrowser                  1.000000  0.097393     0.111938 -0.040261  0.023984  \nRegion                   0.097393  1.000000     0.047520 -0.000691 -0.011595  \nTrafficType              0.111938  0.047520     1.000000 -0.002221 -0.005113  \nWeekend                 -0.040261 -0.000691    -0.002221  1.000000  0.029295  \nRevenue                  0.023984 -0.011595    -0.005113  0.029295  1.000000  ",
      "text/html": "<div>\n<style scoped>\n    .dataframe tbody tr th:only-of-type {\n        vertical-align: middle;\n    }\n\n    .dataframe tbody tr th {\n        vertical-align: top;\n    }\n\n    .dataframe thead th {\n        text-align: right;\n    }\n</style>\n<table border=\"1\" class=\"dataframe\">\n  <thead>\n    <tr style=\"text-align: right;\">\n      <th></th>\n      <th>Administrative</th>\n      <th>Administrative_Duration</th>\n      <th>Informational</th>\n      <th>Informational_Duration</th>\n      <th>ProductRelated</th>\n      <th>ProductRelated_Duration</th>\n      <th>BounceRates</th>\n      <th>ExitRates</th>\n      <th>PageValues</th>\n      <th>SpecialDay</th>\n      <th>OperatingSystems</th>\n      <th>Browser</th>\n      <th>Region</th>\n      <th>TrafficType</th>\n      <th>Weekend</th>\n      <th>Revenue</th>\n    </tr>\n  </thead>\n  <tbody>\n    <tr>\n      <th>Administrative</th>\n      <td>1.000000</td>\n      <td>0.601583</td>\n      <td>0.376850</td>\n      <td>0.255848</td>\n      <td>0.431119</td>\n      <td>0.373939</td>\n      <td>-0.223563</td>\n      <td>-0.316483</td>\n      <td>0.098990</td>\n      <td>-0.094778</td>\n      <td>-0.006347</td>\n      <td>-0.025035</td>\n      <td>-0.005487</td>\n      <td>-0.033561</td>\n      <td>0.026417</td>\n      <td>0.138917</td>\n    </tr>\n    <tr>\n      <th>Administrative_Duration</th>\n      <td>0.601583</td>\n      <td>1.000000</td>\n      <td>0.302710</td>\n      <td>0.238031</td>\n      <td>0.289087</td>\n      <td>0.355422</td>\n      <td>-0.144170</td>\n      <td>-0.205798</td>\n      <td>0.067608</td>\n      <td>-0.073304</td>\n      <td>-0.007343</td>\n      <td>-0.015392</td>\n      <td>-0.005561</td>\n      <td>-0.014376</td>\n      <td>0.014990</td>\n      <td>0.093587</td>\n    </tr>\n    <tr>\n      <th>Informational</th>\n      <td>0.376850</td>\n      <td>0.302710</td>\n      <td>1.000000</td>\n      <td>0.618955</td>\n      <td>0.374164</td>\n      <td>0.387505</td>\n      <td>-0.116114</td>\n      <td>-0.163666</td>\n      <td>0.048632</td>\n      <td>-0.048219</td>\n      <td>-0.009527</td>\n      <td>-0.038235</td>\n      <td>-0.029169</td>\n      <td>-0.034491</td>\n      <td>0.035785</td>\n      <td>0.095200</td>\n    </tr>\n    <tr>\n      <th>Informational_Duration</th>\n      <td>0.255848</td>\n      <td>0.238031</td>\n      <td>0.618955</td>\n      <td>1.000000</td>\n      <td>0.280046</td>\n      <td>0.347364</td>\n      <td>-0.074067</td>\n      <td>-0.105276</td>\n      <td>0.030861</td>\n      <td>-0.030577</td>\n      <td>-0.009579</td>\n      <td>-0.019285</td>\n      <td>-0.027144</td>\n      <td>-0.024675</td>\n      <td>0.024078</td>\n      <td>0.070345</td>\n    </tr>\n    <tr>\n      <th>ProductRelated</th>\n      <td>0.431119</td>\n      <td>0.289087</td>\n      <td>0.374164</td>\n      <td>0.280046</td>\n      <td>1.000000</td>\n      <td>0.860927</td>\n      <td>-0.204578</td>\n      <td>-0.292526</td>\n      <td>0.056282</td>\n      <td>-0.023958</td>\n      <td>0.004290</td>\n      <td>-0.013146</td>\n      <td>-0.038122</td>\n      <td>-0.043064</td>\n      <td>0.016092</td>\n      <td>0.158538</td>\n    </tr>\n    <tr>\n      <th>ProductRelated_Duration</th>\n      <td>0.373939</td>\n      <td>0.355422</td>\n      <td>0.387505</td>\n      <td>0.347364</td>\n      <td>0.860927</td>\n      <td>1.000000</td>\n      <td>-0.184541</td>\n      <td>-0.251984</td>\n      <td>0.052823</td>\n      <td>-0.036380</td>\n      <td>0.002976</td>\n      <td>-0.007380</td>\n      <td>-0.033091</td>\n      <td>-0.036377</td>\n      <td>0.007311</td>\n      <td>0.152373</td>\n    </tr>\n    <tr>\n      <th>BounceRates</th>\n      <td>-0.223563</td>\n      <td>-0.144170</td>\n      <td>-0.116114</td>\n      <td>-0.074067</td>\n      <td>-0.204578</td>\n      <td>-0.184541</td>\n      <td>1.000000</td>\n      <td>0.913004</td>\n      <td>-0.119386</td>\n      <td>0.072702</td>\n      <td>0.023823</td>\n      <td>-0.015772</td>\n      <td>-0.006485</td>\n      <td>0.078286</td>\n      <td>-0.046514</td>\n      <td>-0.150673</td>\n    </tr>\n    <tr>\n      <th>ExitRates</th>\n      <td>-0.316483</td>\n      <td>-0.205798</td>\n      <td>-0.163666</td>\n      <td>-0.105276</td>\n      <td>-0.292526</td>\n      <td>-0.251984</td>\n      <td>0.913004</td>\n      <td>1.000000</td>\n      <td>-0.174498</td>\n      <td>0.102242</td>\n      <td>0.014567</td>\n      <td>-0.004442</td>\n      <td>-0.008907</td>\n      <td>0.078616</td>\n      <td>-0.062587</td>\n      <td>-0.207071</td>\n    </tr>\n    <tr>\n      <th>PageValues</th>\n      <td>0.098990</td>\n      <td>0.067608</td>\n      <td>0.048632</td>\n      <td>0.030861</td>\n      <td>0.056282</td>\n      <td>0.052823</td>\n      <td>-0.119386</td>\n      <td>-0.174498</td>\n      <td>1.000000</td>\n      <td>-0.063541</td>\n      <td>0.018508</td>\n      <td>0.045592</td>\n      <td>0.011315</td>\n      <td>0.012532</td>\n      <td>0.012002</td>\n      <td>0.492569</td>\n    </tr>\n    <tr>\n      <th>SpecialDay</th>\n      <td>-0.094778</td>\n      <td>-0.073304</td>\n      <td>-0.048219</td>\n      <td>-0.030577</td>\n      <td>-0.023958</td>\n      <td>-0.036380</td>\n      <td>0.072702</td>\n      <td>0.102242</td>\n      <td>-0.063541</td>\n      <td>1.000000</td>\n      <td>0.012652</td>\n      <td>0.003499</td>\n      <td>-0.016098</td>\n      <td>0.052301</td>\n      <td>-0.016767</td>\n      <td>-0.082305</td>\n    </tr>\n    <tr>\n      <th>OperatingSystems</th>\n      <td>-0.006347</td>\n      <td>-0.007343</td>\n      <td>-0.009527</td>\n      <td>-0.009579</td>\n      <td>0.004290</td>\n      <td>0.002976</td>\n      <td>0.023823</td>\n      <td>0.014567</td>\n      <td>0.018508</td>\n      <td>0.012652</td>\n      <td>1.000000</td>\n      <td>0.223013</td>\n      <td>0.076775</td>\n      <td>0.189154</td>\n      <td>0.000284</td>\n      <td>-0.014668</td>\n    </tr>\n    <tr>\n      <th>Browser</th>\n      <td>-0.025035</td>\n      <td>-0.015392</td>\n      <td>-0.038235</td>\n      <td>-0.019285</td>\n      <td>-0.013146</td>\n      <td>-0.007380</td>\n      <td>-0.015772</td>\n      <td>-0.004442</td>\n      <td>0.045592</td>\n      <td>0.003499</td>\n      <td>0.223013</td>\n      <td>1.000000</td>\n      <td>0.097393</td>\n      <td>0.111938</td>\n      <td>-0.040261</td>\n      <td>0.023984</td>\n    </tr>\n    <tr>\n      <th>Region</th>\n      <td>-0.005487</td>\n      <td>-0.005561</td>\n      <td>-0.029169</td>\n      <td>-0.027144</td>\n      <td>-0.038122</td>\n      <td>-0.033091</td>\n      <td>-0.006485</td>\n      <td>-0.008907</td>\n      <td>0.011315</td>\n      <td>-0.016098</td>\n      <td>0.076775</td>\n      <td>0.097393</td>\n      <td>1.000000</td>\n      <td>0.047520</td>\n      <td>-0.000691</td>\n      <td>-0.011595</td>\n    </tr>\n    <tr>\n      <th>TrafficType</th>\n      <td>-0.033561</td>\n      <td>-0.014376</td>\n      <td>-0.034491</td>\n      <td>-0.024675</td>\n      <td>-0.043064</td>\n      <td>-0.036377</td>\n      <td>0.078286</td>\n      <td>0.078616</td>\n      <td>0.012532</td>\n      <td>0.052301</td>\n      <td>0.189154</td>\n      <td>0.111938</td>\n      <td>0.047520</td>\n      <td>1.000000</td>\n      <td>-0.002221</td>\n      <td>-0.005113</td>\n    </tr>\n    <tr>\n      <th>Weekend</th>\n      <td>0.026417</td>\n      <td>0.014990</td>\n      <td>0.035785</td>\n      <td>0.024078</td>\n      <td>0.016092</td>\n      <td>0.007311</td>\n      <td>-0.046514</td>\n      <td>-0.062587</td>\n      <td>0.012002</td>\n      <td>-0.016767</td>\n      <td>0.000284</td>\n      <td>-0.040261</td>\n      <td>-0.000691</td>\n      <td>-0.002221</td>\n      <td>1.000000</td>\n      <td>0.029295</td>\n    </tr>\n    <tr>\n      <th>Revenue</th>\n      <td>0.138917</td>\n      <td>0.093587</td>\n      <td>0.095200</td>\n      <td>0.070345</td>\n      <td>0.158538</td>\n      <td>0.152373</td>\n      <td>-0.150673</td>\n      <td>-0.207071</td>\n      <td>0.492569</td>\n      <td>-0.082305</td>\n      <td>-0.014668</td>\n      <td>0.023984</td>\n      <td>-0.011595</td>\n      <td>-0.005113</td>\n      <td>0.029295</td>\n      <td>1.000000</td>\n    </tr>\n  </tbody>\n</table>\n</div>"
     },
     "metadata": {}
    }
   ]
  },
  {
   "cell_type": "code",
   "metadata": {
    "tags": [],
    "cell_id": "00004-2cc35807-939c-4cce-a52d-7011f430a2f5",
    "deepnote_to_be_reexecuted": false,
    "source_hash": "f88152d9",
    "execution_start": 1620978044618,
    "execution_millis": 100,
    "deepnote_cell_type": "code"
   },
   "source": "df.describe()",
   "execution_count": 29,
   "outputs": [
    {
     "output_type": "execute_result",
     "execution_count": 29,
     "data": {
      "application/vnd.deepnote.dataframe.v2+json": {
       "row_count": 8,
       "column_count": 14,
       "columns": [
        {
         "name": "Administrative",
         "dtype": "float64",
         "stats": {
          "unique_count": 7,
          "nan_count": 0,
          "min": "0.0",
          "max": "12330.0",
          "histogram": [
           {
            "bin_start": 0,
            "bin_end": 1233,
            "count": 7
           },
           {
            "bin_start": 1233,
            "bin_end": 2466,
            "count": 0
           },
           {
            "bin_start": 2466,
            "bin_end": 3699,
            "count": 0
           },
           {
            "bin_start": 3699,
            "bin_end": 4932,
            "count": 0
           },
           {
            "bin_start": 4932,
            "bin_end": 6165,
            "count": 0
           },
           {
            "bin_start": 6165,
            "bin_end": 7398,
            "count": 0
           },
           {
            "bin_start": 7398,
            "bin_end": 8631,
            "count": 0
           },
           {
            "bin_start": 8631,
            "bin_end": 9864,
            "count": 0
           },
           {
            "bin_start": 9864,
            "bin_end": 11097,
            "count": 0
           },
           {
            "bin_start": 11097,
            "bin_end": 12330,
            "count": 1
           }
          ]
         }
        },
        {
         "name": "Administrative_Duration",
         "dtype": "float64",
         "stats": {
          "unique_count": 7,
          "nan_count": 0,
          "min": "0.0",
          "max": "12330.0",
          "histogram": [
           {
            "bin_start": 0,
            "bin_end": 1233,
            "count": 6
           },
           {
            "bin_start": 1233,
            "bin_end": 2466,
            "count": 0
           },
           {
            "bin_start": 2466,
            "bin_end": 3699,
            "count": 1
           },
           {
            "bin_start": 3699,
            "bin_end": 4932,
            "count": 0
           },
           {
            "bin_start": 4932,
            "bin_end": 6165,
            "count": 0
           },
           {
            "bin_start": 6165,
            "bin_end": 7398,
            "count": 0
           },
           {
            "bin_start": 7398,
            "bin_end": 8631,
            "count": 0
           },
           {
            "bin_start": 8631,
            "bin_end": 9864,
            "count": 0
           },
           {
            "bin_start": 9864,
            "bin_end": 11097,
            "count": 0
           },
           {
            "bin_start": 11097,
            "bin_end": 12330,
            "count": 1
           }
          ]
         }
        },
        {
         "name": "Informational",
         "dtype": "float64",
         "stats": {
          "unique_count": 5,
          "nan_count": 0,
          "min": "0.0",
          "max": "12330.0",
          "histogram": [
           {
            "bin_start": 0,
            "bin_end": 1233,
            "count": 7
           },
           {
            "bin_start": 1233,
            "bin_end": 2466,
            "count": 0
           },
           {
            "bin_start": 2466,
            "bin_end": 3699,
            "count": 0
           },
           {
            "bin_start": 3699,
            "bin_end": 4932,
            "count": 0
           },
           {
            "bin_start": 4932,
            "bin_end": 6165,
            "count": 0
           },
           {
            "bin_start": 6165,
            "bin_end": 7398,
            "count": 0
           },
           {
            "bin_start": 7398,
            "bin_end": 8631,
            "count": 0
           },
           {
            "bin_start": 8631,
            "bin_end": 9864,
            "count": 0
           },
           {
            "bin_start": 9864,
            "bin_end": 11097,
            "count": 0
           },
           {
            "bin_start": 11097,
            "bin_end": 12330,
            "count": 1
           }
          ]
         }
        },
        {
         "name": "Informational_Duration",
         "dtype": "float64",
         "stats": {
          "unique_count": 5,
          "nan_count": 0,
          "min": "0.0",
          "max": "12330.0",
          "histogram": [
           {
            "bin_start": 0,
            "bin_end": 1233,
            "count": 6
           },
           {
            "bin_start": 1233,
            "bin_end": 2466,
            "count": 0
           },
           {
            "bin_start": 2466,
            "bin_end": 3699,
            "count": 1
           },
           {
            "bin_start": 3699,
            "bin_end": 4932,
            "count": 0
           },
           {
            "bin_start": 4932,
            "bin_end": 6165,
            "count": 0
           },
           {
            "bin_start": 6165,
            "bin_end": 7398,
            "count": 0
           },
           {
            "bin_start": 7398,
            "bin_end": 8631,
            "count": 0
           },
           {
            "bin_start": 8631,
            "bin_end": 9864,
            "count": 0
           },
           {
            "bin_start": 9864,
            "bin_end": 11097,
            "count": 0
           },
           {
            "bin_start": 11097,
            "bin_end": 12330,
            "count": 1
           }
          ]
         }
        },
        {
         "name": "ProductRelated",
         "dtype": "float64",
         "stats": {
          "unique_count": 8,
          "nan_count": 0,
          "min": "0.0",
          "max": "12330.0",
          "histogram": [
           {
            "bin_start": 0,
            "bin_end": 1233,
            "count": 7
           },
           {
            "bin_start": 1233,
            "bin_end": 2466,
            "count": 0
           },
           {
            "bin_start": 2466,
            "bin_end": 3699,
            "count": 0
           },
           {
            "bin_start": 3699,
            "bin_end": 4932,
            "count": 0
           },
           {
            "bin_start": 4932,
            "bin_end": 6165,
            "count": 0
           },
           {
            "bin_start": 6165,
            "bin_end": 7398,
            "count": 0
           },
           {
            "bin_start": 7398,
            "bin_end": 8631,
            "count": 0
           },
           {
            "bin_start": 8631,
            "bin_end": 9864,
            "count": 0
           },
           {
            "bin_start": 9864,
            "bin_end": 11097,
            "count": 0
           },
           {
            "bin_start": 11097,
            "bin_end": 12330,
            "count": 1
           }
          ]
         }
        },
        {
         "name": "ProductRelated_Duration",
         "dtype": "float64",
         "stats": {
          "unique_count": 8,
          "nan_count": 0,
          "min": "0.0",
          "max": "63973.52223",
          "histogram": [
           {
            "bin_start": 0,
            "bin_end": 6397.352223,
            "count": 6
           },
           {
            "bin_start": 6397.352223,
            "bin_end": 12794.704446,
            "count": 1
           },
           {
            "bin_start": 12794.704446,
            "bin_end": 19192.056668999998,
            "count": 0
           },
           {
            "bin_start": 19192.056668999998,
            "bin_end": 25589.408892,
            "count": 0
           },
           {
            "bin_start": 25589.408892,
            "bin_end": 31986.761115,
            "count": 0
           },
           {
            "bin_start": 31986.761115,
            "bin_end": 38384.113337999996,
            "count": 0
           },
           {
            "bin_start": 38384.113337999996,
            "bin_end": 44781.465561,
            "count": 0
           },
           {
            "bin_start": 44781.465561,
            "bin_end": 51178.817784,
            "count": 0
           },
           {
            "bin_start": 51178.817784,
            "bin_end": 57576.170007,
            "count": 0
           },
           {
            "bin_start": 57576.170007,
            "bin_end": 63973.52223,
            "count": 1
           }
          ]
         }
        },
        {
         "name": "BounceRates",
         "dtype": "float64",
         "stats": {
          "unique_count": 7,
          "nan_count": 0,
          "min": "0.0",
          "max": "12330.0",
          "histogram": [
           {
            "bin_start": 0,
            "bin_end": 1233,
            "count": 7
           },
           {
            "bin_start": 1233,
            "bin_end": 2466,
            "count": 0
           },
           {
            "bin_start": 2466,
            "bin_end": 3699,
            "count": 0
           },
           {
            "bin_start": 3699,
            "bin_end": 4932,
            "count": 0
           },
           {
            "bin_start": 4932,
            "bin_end": 6165,
            "count": 0
           },
           {
            "bin_start": 6165,
            "bin_end": 7398,
            "count": 0
           },
           {
            "bin_start": 7398,
            "bin_end": 8631,
            "count": 0
           },
           {
            "bin_start": 8631,
            "bin_end": 9864,
            "count": 0
           },
           {
            "bin_start": 9864,
            "bin_end": 11097,
            "count": 0
           },
           {
            "bin_start": 11097,
            "bin_end": 12330,
            "count": 1
           }
          ]
         }
        },
        {
         "name": "ExitRates",
         "dtype": "float64",
         "stats": {
          "unique_count": 8,
          "nan_count": 0,
          "min": "0.0",
          "max": "12330.0",
          "histogram": [
           {
            "bin_start": 0,
            "bin_end": 1233,
            "count": 7
           },
           {
            "bin_start": 1233,
            "bin_end": 2466,
            "count": 0
           },
           {
            "bin_start": 2466,
            "bin_end": 3699,
            "count": 0
           },
           {
            "bin_start": 3699,
            "bin_end": 4932,
            "count": 0
           },
           {
            "bin_start": 4932,
            "bin_end": 6165,
            "count": 0
           },
           {
            "bin_start": 6165,
            "bin_end": 7398,
            "count": 0
           },
           {
            "bin_start": 7398,
            "bin_end": 8631,
            "count": 0
           },
           {
            "bin_start": 8631,
            "bin_end": 9864,
            "count": 0
           },
           {
            "bin_start": 9864,
            "bin_end": 11097,
            "count": 0
           },
           {
            "bin_start": 11097,
            "bin_end": 12330,
            "count": 1
           }
          ]
         }
        },
        {
         "name": "PageValues",
         "dtype": "float64",
         "stats": {
          "unique_count": 5,
          "nan_count": 0,
          "min": "0.0",
          "max": "12330.0",
          "histogram": [
           {
            "bin_start": 0,
            "bin_end": 1233,
            "count": 7
           },
           {
            "bin_start": 1233,
            "bin_end": 2466,
            "count": 0
           },
           {
            "bin_start": 2466,
            "bin_end": 3699,
            "count": 0
           },
           {
            "bin_start": 3699,
            "bin_end": 4932,
            "count": 0
           },
           {
            "bin_start": 4932,
            "bin_end": 6165,
            "count": 0
           },
           {
            "bin_start": 6165,
            "bin_end": 7398,
            "count": 0
           },
           {
            "bin_start": 7398,
            "bin_end": 8631,
            "count": 0
           },
           {
            "bin_start": 8631,
            "bin_end": 9864,
            "count": 0
           },
           {
            "bin_start": 9864,
            "bin_end": 11097,
            "count": 0
           },
           {
            "bin_start": 11097,
            "bin_end": 12330,
            "count": 1
           }
          ]
         }
        },
        {
         "name": "SpecialDay",
         "dtype": "float64",
         "stats": {
          "unique_count": 5,
          "nan_count": 0,
          "min": "0.0",
          "max": "12330.0",
          "histogram": [
           {
            "bin_start": 0,
            "bin_end": 1233,
            "count": 7
           },
           {
            "bin_start": 1233,
            "bin_end": 2466,
            "count": 0
           },
           {
            "bin_start": 2466,
            "bin_end": 3699,
            "count": 0
           },
           {
            "bin_start": 3699,
            "bin_end": 4932,
            "count": 0
           },
           {
            "bin_start": 4932,
            "bin_end": 6165,
            "count": 0
           },
           {
            "bin_start": 6165,
            "bin_end": 7398,
            "count": 0
           },
           {
            "bin_start": 7398,
            "bin_end": 8631,
            "count": 0
           },
           {
            "bin_start": 8631,
            "bin_end": 9864,
            "count": 0
           },
           {
            "bin_start": 9864,
            "bin_end": 11097,
            "count": 0
           },
           {
            "bin_start": 11097,
            "bin_end": 12330,
            "count": 1
           }
          ]
         }
        },
        {
         "name": "OperatingSystems",
         "dtype": "float64",
         "stats": {
          "unique_count": 7,
          "nan_count": 0,
          "min": "0.911324828710665",
          "max": "12330.0",
          "histogram": [
           {
            "bin_start": 0.911324828710665,
            "bin_end": 1233.8201923458396,
            "count": 7
           },
           {
            "bin_start": 1233.8201923458396,
            "bin_end": 2466.729059862969,
            "count": 0
           },
           {
            "bin_start": 2466.729059862969,
            "bin_end": 3699.637927380098,
            "count": 0
           },
           {
            "bin_start": 3699.637927380098,
            "bin_end": 4932.546794897226,
            "count": 0
           },
           {
            "bin_start": 4932.546794897226,
            "bin_end": 6165.455662414355,
            "count": 0
           },
           {
            "bin_start": 6165.455662414355,
            "bin_end": 7398.364529931485,
            "count": 0
           },
           {
            "bin_start": 7398.364529931485,
            "bin_end": 8631.273397448613,
            "count": 0
           },
           {
            "bin_start": 8631.273397448613,
            "bin_end": 9864.182264965742,
            "count": 0
           },
           {
            "bin_start": 9864.182264965742,
            "bin_end": 11097.091132482872,
            "count": 0
           },
           {
            "bin_start": 11097.091132482872,
            "bin_end": 12330,
            "count": 1
           }
          ]
         }
        },
        {
         "name": "Browser",
         "dtype": "float64",
         "stats": {
          "unique_count": 6,
          "nan_count": 0,
          "min": "1.0",
          "max": "12330.0",
          "histogram": [
           {
            "bin_start": 1,
            "bin_end": 1233.9,
            "count": 7
           },
           {
            "bin_start": 1233.9,
            "bin_end": 2466.8,
            "count": 0
           },
           {
            "bin_start": 2466.8,
            "bin_end": 3699.7000000000003,
            "count": 0
           },
           {
            "bin_start": 3699.7000000000003,
            "bin_end": 4932.6,
            "count": 0
           },
           {
            "bin_start": 4932.6,
            "bin_end": 6165.5,
            "count": 0
           },
           {
            "bin_start": 6165.5,
            "bin_end": 7398.400000000001,
            "count": 0
           },
           {
            "bin_start": 7398.400000000001,
            "bin_end": 8631.300000000001,
            "count": 0
           },
           {
            "bin_start": 8631.300000000001,
            "bin_end": 9864.2,
            "count": 0
           },
           {
            "bin_start": 9864.2,
            "bin_end": 11097.1,
            "count": 0
           },
           {
            "bin_start": 11097.1,
            "bin_end": 12330,
            "count": 1
           }
          ]
         }
        },
        {
         "name": "Region",
         "dtype": "float64",
         "stats": {
          "unique_count": 7,
          "nan_count": 0,
          "min": "1.0",
          "max": "12330.0",
          "histogram": [
           {
            "bin_start": 1,
            "bin_end": 1233.9,
            "count": 7
           },
           {
            "bin_start": 1233.9,
            "bin_end": 2466.8,
            "count": 0
           },
           {
            "bin_start": 2466.8,
            "bin_end": 3699.7000000000003,
            "count": 0
           },
           {
            "bin_start": 3699.7000000000003,
            "bin_end": 4932.6,
            "count": 0
           },
           {
            "bin_start": 4932.6,
            "bin_end": 6165.5,
            "count": 0
           },
           {
            "bin_start": 6165.5,
            "bin_end": 7398.400000000001,
            "count": 0
           },
           {
            "bin_start": 7398.400000000001,
            "bin_end": 8631.300000000001,
            "count": 0
           },
           {
            "bin_start": 8631.300000000001,
            "bin_end": 9864.2,
            "count": 0
           },
           {
            "bin_start": 9864.2,
            "bin_end": 11097.1,
            "count": 0
           },
           {
            "bin_start": 11097.1,
            "bin_end": 12330,
            "count": 1
           }
          ]
         }
        },
        {
         "name": "TrafficType",
         "dtype": "float64",
         "stats": {
          "unique_count": 7,
          "nan_count": 0,
          "min": "1.0",
          "max": "12330.0",
          "histogram": [
           {
            "bin_start": 1,
            "bin_end": 1233.9,
            "count": 7
           },
           {
            "bin_start": 1233.9,
            "bin_end": 2466.8,
            "count": 0
           },
           {
            "bin_start": 2466.8,
            "bin_end": 3699.7000000000003,
            "count": 0
           },
           {
            "bin_start": 3699.7000000000003,
            "bin_end": 4932.6,
            "count": 0
           },
           {
            "bin_start": 4932.6,
            "bin_end": 6165.5,
            "count": 0
           },
           {
            "bin_start": 6165.5,
            "bin_end": 7398.400000000001,
            "count": 0
           },
           {
            "bin_start": 7398.400000000001,
            "bin_end": 8631.300000000001,
            "count": 0
           },
           {
            "bin_start": 8631.300000000001,
            "bin_end": 9864.2,
            "count": 0
           },
           {
            "bin_start": 9864.2,
            "bin_end": 11097.1,
            "count": 0
           },
           {
            "bin_start": 11097.1,
            "bin_end": 12330,
            "count": 1
           }
          ]
         }
        },
        {
         "name": "_deepnote_index_column",
         "dtype": "object"
        }
       ],
       "rows_top": [
        {
         "Administrative": 12330,
         "Administrative_Duration": 12330,
         "Informational": 12330,
         "Informational_Duration": 12330,
         "ProductRelated": 12330,
         "ProductRelated_Duration": 12330,
         "BounceRates": 12330,
         "ExitRates": 12330,
         "PageValues": 12330,
         "SpecialDay": 12330,
         "OperatingSystems": 12330,
         "Browser": 12330,
         "Region": 12330,
         "TrafficType": 12330,
         "_deepnote_index_column": "count"
        },
        {
         "Administrative": 2.3151662611516626,
         "Administrative_Duration": 80.81861053933592,
         "Informational": 0.5035685320356853,
         "Informational_Duration": 34.47239792772304,
         "ProductRelated": 31.731467964314678,
         "ProductRelated_Duration": 1194.7462199688268,
         "BounceRates": 0.02219138047072182,
         "ExitRates": 0.04307279776650446,
         "PageValues": 5.889257862693592,
         "SpecialDay": 0.061427412814274135,
         "OperatingSystems": 2.124006488240065,
         "Browser": 2.357096512570965,
         "Region": 3.1473641524736413,
         "TrafficType": 4.069586374695864,
         "_deepnote_index_column": "mean"
        },
        {
         "Administrative": 3.3217841061569113,
         "Administrative_Duration": 176.77910747048634,
         "Informational": 1.270156425983391,
         "Informational_Duration": 140.74929442219798,
         "ProductRelated": 44.47550330493652,
         "ProductRelated_Duration": 1913.6692878720035,
         "BounceRates": 0.048488321806260656,
         "ExitRates": 0.048596540551443565,
         "PageValues": 18.568436607806525,
         "SpecialDay": 0.19891727315262864,
         "OperatingSystems": 0.911324828710665,
         "Browser": 1.7172766755534394,
         "Region": 2.401591236743714,
         "TrafficType": 4.025169160452515,
         "_deepnote_index_column": "std"
        },
        {
         "Administrative": 0,
         "Administrative_Duration": 0,
         "Informational": 0,
         "Informational_Duration": 0,
         "ProductRelated": 0,
         "ProductRelated_Duration": 0,
         "BounceRates": 0,
         "ExitRates": 0,
         "PageValues": 0,
         "SpecialDay": 0,
         "OperatingSystems": 1,
         "Browser": 1,
         "Region": 1,
         "TrafficType": 1,
         "_deepnote_index_column": "min"
        },
        {
         "Administrative": 0,
         "Administrative_Duration": 0,
         "Informational": 0,
         "Informational_Duration": 0,
         "ProductRelated": 7,
         "ProductRelated_Duration": 184.1375,
         "BounceRates": 0,
         "ExitRates": 0.014285714,
         "PageValues": 0,
         "SpecialDay": 0,
         "OperatingSystems": 2,
         "Browser": 2,
         "Region": 1,
         "TrafficType": 2,
         "_deepnote_index_column": "25%"
        },
        {
         "Administrative": 1,
         "Administrative_Duration": 7.5,
         "Informational": 0,
         "Informational_Duration": 0,
         "ProductRelated": 18,
         "ProductRelated_Duration": 598.9369047499999,
         "BounceRates": 0.0031124675,
         "ExitRates": 0.0251564025,
         "PageValues": 0,
         "SpecialDay": 0,
         "OperatingSystems": 2,
         "Browser": 2,
         "Region": 3,
         "TrafficType": 2,
         "_deepnote_index_column": "50%"
        },
        {
         "Administrative": 4,
         "Administrative_Duration": 93.25625,
         "Informational": 0,
         "Informational_Duration": 0,
         "ProductRelated": 38,
         "ProductRelated_Duration": 1464.1572135000001,
         "BounceRates": 0.016812558499999998,
         "ExitRates": 0.05,
         "PageValues": 0,
         "SpecialDay": 0,
         "OperatingSystems": 3,
         "Browser": 2,
         "Region": 4,
         "TrafficType": 4,
         "_deepnote_index_column": "75%"
        },
        {
         "Administrative": 27,
         "Administrative_Duration": 3398.75,
         "Informational": 24,
         "Informational_Duration": 2549.375,
         "ProductRelated": 705,
         "ProductRelated_Duration": 63973.52223,
         "BounceRates": 0.2,
         "ExitRates": 0.2,
         "PageValues": 361.7637419,
         "SpecialDay": 1,
         "OperatingSystems": 8,
         "Browser": 13,
         "Region": 9,
         "TrafficType": 20,
         "_deepnote_index_column": "max"
        }
       ],
       "rows_bottom": null
      },
      "text/plain": "       Administrative  Administrative_Duration  Informational  \\\ncount    12330.000000             12330.000000   12330.000000   \nmean         2.315166                80.818611       0.503569   \nstd          3.321784               176.779107       1.270156   \nmin          0.000000                 0.000000       0.000000   \n25%          0.000000                 0.000000       0.000000   \n50%          1.000000                 7.500000       0.000000   \n75%          4.000000                93.256250       0.000000   \nmax         27.000000              3398.750000      24.000000   \n\n       Informational_Duration  ProductRelated  ProductRelated_Duration  \\\ncount            12330.000000    12330.000000             12330.000000   \nmean                34.472398       31.731468              1194.746220   \nstd                140.749294       44.475503              1913.669288   \nmin                  0.000000        0.000000                 0.000000   \n25%                  0.000000        7.000000               184.137500   \n50%                  0.000000       18.000000               598.936905   \n75%                  0.000000       38.000000              1464.157214   \nmax               2549.375000      705.000000             63973.522230   \n\n        BounceRates     ExitRates    PageValues    SpecialDay  \\\ncount  12330.000000  12330.000000  12330.000000  12330.000000   \nmean       0.022191      0.043073      5.889258      0.061427   \nstd        0.048488      0.048597     18.568437      0.198917   \nmin        0.000000      0.000000      0.000000      0.000000   \n25%        0.000000      0.014286      0.000000      0.000000   \n50%        0.003112      0.025156      0.000000      0.000000   \n75%        0.016813      0.050000      0.000000      0.000000   \nmax        0.200000      0.200000    361.763742      1.000000   \n\n       OperatingSystems       Browser        Region   TrafficType  \ncount      12330.000000  12330.000000  12330.000000  12330.000000  \nmean           2.124006      2.357097      3.147364      4.069586  \nstd            0.911325      1.717277      2.401591      4.025169  \nmin            1.000000      1.000000      1.000000      1.000000  \n25%            2.000000      2.000000      1.000000      2.000000  \n50%            2.000000      2.000000      3.000000      2.000000  \n75%            3.000000      2.000000      4.000000      4.000000  \nmax            8.000000     13.000000      9.000000     20.000000  ",
      "text/html": "<div>\n<style scoped>\n    .dataframe tbody tr th:only-of-type {\n        vertical-align: middle;\n    }\n\n    .dataframe tbody tr th {\n        vertical-align: top;\n    }\n\n    .dataframe thead th {\n        text-align: right;\n    }\n</style>\n<table border=\"1\" class=\"dataframe\">\n  <thead>\n    <tr style=\"text-align: right;\">\n      <th></th>\n      <th>Administrative</th>\n      <th>Administrative_Duration</th>\n      <th>Informational</th>\n      <th>Informational_Duration</th>\n      <th>ProductRelated</th>\n      <th>ProductRelated_Duration</th>\n      <th>BounceRates</th>\n      <th>ExitRates</th>\n      <th>PageValues</th>\n      <th>SpecialDay</th>\n      <th>OperatingSystems</th>\n      <th>Browser</th>\n      <th>Region</th>\n      <th>TrafficType</th>\n    </tr>\n  </thead>\n  <tbody>\n    <tr>\n      <th>count</th>\n      <td>12330.000000</td>\n      <td>12330.000000</td>\n      <td>12330.000000</td>\n      <td>12330.000000</td>\n      <td>12330.000000</td>\n      <td>12330.000000</td>\n      <td>12330.000000</td>\n      <td>12330.000000</td>\n      <td>12330.000000</td>\n      <td>12330.000000</td>\n      <td>12330.000000</td>\n      <td>12330.000000</td>\n      <td>12330.000000</td>\n      <td>12330.000000</td>\n    </tr>\n    <tr>\n      <th>mean</th>\n      <td>2.315166</td>\n      <td>80.818611</td>\n      <td>0.503569</td>\n      <td>34.472398</td>\n      <td>31.731468</td>\n      <td>1194.746220</td>\n      <td>0.022191</td>\n      <td>0.043073</td>\n      <td>5.889258</td>\n      <td>0.061427</td>\n      <td>2.124006</td>\n      <td>2.357097</td>\n      <td>3.147364</td>\n      <td>4.069586</td>\n    </tr>\n    <tr>\n      <th>std</th>\n      <td>3.321784</td>\n      <td>176.779107</td>\n      <td>1.270156</td>\n      <td>140.749294</td>\n      <td>44.475503</td>\n      <td>1913.669288</td>\n      <td>0.048488</td>\n      <td>0.048597</td>\n      <td>18.568437</td>\n      <td>0.198917</td>\n      <td>0.911325</td>\n      <td>1.717277</td>\n      <td>2.401591</td>\n      <td>4.025169</td>\n    </tr>\n    <tr>\n      <th>min</th>\n      <td>0.000000</td>\n      <td>0.000000</td>\n      <td>0.000000</td>\n      <td>0.000000</td>\n      <td>0.000000</td>\n      <td>0.000000</td>\n      <td>0.000000</td>\n      <td>0.000000</td>\n      <td>0.000000</td>\n      <td>0.000000</td>\n      <td>1.000000</td>\n      <td>1.000000</td>\n      <td>1.000000</td>\n      <td>1.000000</td>\n    </tr>\n    <tr>\n      <th>25%</th>\n      <td>0.000000</td>\n      <td>0.000000</td>\n      <td>0.000000</td>\n      <td>0.000000</td>\n      <td>7.000000</td>\n      <td>184.137500</td>\n      <td>0.000000</td>\n      <td>0.014286</td>\n      <td>0.000000</td>\n      <td>0.000000</td>\n      <td>2.000000</td>\n      <td>2.000000</td>\n      <td>1.000000</td>\n      <td>2.000000</td>\n    </tr>\n    <tr>\n      <th>50%</th>\n      <td>1.000000</td>\n      <td>7.500000</td>\n      <td>0.000000</td>\n      <td>0.000000</td>\n      <td>18.000000</td>\n      <td>598.936905</td>\n      <td>0.003112</td>\n      <td>0.025156</td>\n      <td>0.000000</td>\n      <td>0.000000</td>\n      <td>2.000000</td>\n      <td>2.000000</td>\n      <td>3.000000</td>\n      <td>2.000000</td>\n    </tr>\n    <tr>\n      <th>75%</th>\n      <td>4.000000</td>\n      <td>93.256250</td>\n      <td>0.000000</td>\n      <td>0.000000</td>\n      <td>38.000000</td>\n      <td>1464.157214</td>\n      <td>0.016813</td>\n      <td>0.050000</td>\n      <td>0.000000</td>\n      <td>0.000000</td>\n      <td>3.000000</td>\n      <td>2.000000</td>\n      <td>4.000000</td>\n      <td>4.000000</td>\n    </tr>\n    <tr>\n      <th>max</th>\n      <td>27.000000</td>\n      <td>3398.750000</td>\n      <td>24.000000</td>\n      <td>2549.375000</td>\n      <td>705.000000</td>\n      <td>63973.522230</td>\n      <td>0.200000</td>\n      <td>0.200000</td>\n      <td>361.763742</td>\n      <td>1.000000</td>\n      <td>8.000000</td>\n      <td>13.000000</td>\n      <td>9.000000</td>\n      <td>20.000000</td>\n    </tr>\n  </tbody>\n</table>\n</div>"
     },
     "metadata": {}
    }
   ]
  },
  {
   "cell_type": "code",
   "metadata": {
    "tags": [],
    "cell_id": "00005-2ceaeb84-6392-4b15-96fd-4159886d46c1",
    "deepnote_to_be_reexecuted": false,
    "source_hash": "b623e53d",
    "execution_start": 1620979545358,
    "execution_millis": 6,
    "deepnote_cell_type": "code"
   },
   "source": "",
   "execution_count": 79,
   "outputs": []
  },
  {
   "cell_type": "code",
   "metadata": {
    "tags": [],
    "cell_id": "00006-016a8816-680c-42ee-b212-a4581dbc0ce7",
    "deepnote_to_be_reexecuted": false,
    "source_hash": "b623e53d",
    "execution_start": 1620977936261,
    "execution_millis": 1,
    "deepnote_cell_type": "code"
   },
   "source": "",
   "execution_count": 22,
   "outputs": []
  },
  {
   "cell_type": "code",
   "metadata": {
    "tags": [],
    "cell_id": "00008-ca686f42-46d5-4915-a006-4f3486591e9d",
    "deepnote_to_be_reexecuted": false,
    "source_hash": "b623e53d",
    "execution_start": 1620979543245,
    "execution_millis": 1,
    "deepnote_cell_type": "code"
   },
   "source": "",
   "execution_count": 79,
   "outputs": []
  },
  {
   "cell_type": "code",
   "metadata": {
    "tags": [],
    "cell_id": "00004-72152c94-82c6-42c0-b73c-5ae5e585e332",
    "deepnote_to_be_reexecuted": false,
    "source_hash": "a534014f",
    "execution_start": 1620981064632,
    "execution_millis": 18,
    "deepnote_cell_type": "code"
   },
   "source": "cat_vars = [ \"Month\",\"OperatingSystems\",\n    \"Browser\", \"Region\", \"TrafficType\",'VisitorType',\"Weekend\"]\nnum_vars = ['Administrative_Duration',\"Informational_Duration\",\"ProductRelated_Duration\",\"BounceRates\",\n    \"ExitRates\",\"PageValues\",'ProductRelated',\"SpecialDay\",'Administrative','Informational']\n\nx=df[cat_vars+num_vars]\ny=df['Revenue'].map({True:1, False:0})\nlen(num_vars), len(cat_vars)+1\n#It must be 10 num , 8 cat",
   "execution_count": 119,
   "outputs": [
    {
     "output_type": "execute_result",
     "execution_count": 119,
     "data": {
      "text/plain": "(10, 8)"
     },
     "metadata": {}
    }
   ]
  },
  {
   "cell_type": "code",
   "metadata": {
    "tags": [],
    "cell_id": "00005-706e4134-8195-417b-9420-a3e33a06adfb",
    "deepnote_to_be_reexecuted": false,
    "source_hash": "d14e4193",
    "execution_start": 1620979716707,
    "execution_millis": 14,
    "deepnote_cell_type": "code"
   },
   "source": "cat_4_tree_Models = pipeline.Pipeline(steps=[\n    ('one hot', preprocessing.OrdinalEncoder(handle_unknown='use_encoded_value',unknown_value=45654))])\n\n\nnum_4_tree_Models=pipeline.Pipeline(steps=[\n    ((\"quantile transformer\",preprocessing.QuantileTransformer(n_quantiles=100, random_state=0,\n    output_distribution='normal')))])\n\n\n\ntree_prepro=compose.ColumnTransformer(transformers=[\n    (\"categorical\",cat_4_tree_Models,cat_vars),\n    (\"numerical\",num_4_tree_Models,num_vars)]) \n\ntree_prepro",
   "execution_count": 96,
   "outputs": [
    {
     "output_type": "execute_result",
     "execution_count": 96,
     "data": {
      "text/plain": "ColumnTransformer(transformers=[('categorical',\n                                 Pipeline(steps=[('one hot',\n                                                  OrdinalEncoder(handle_unknown='use_encoded_value',\n                                                                 unknown_value=45654))]),\n                                 ['Month', 'OperatingSystems', 'Browser',\n                                  'Region', 'TrafficType', 'VisitorType',\n                                  'Weekend']),\n                                ('numerical',\n                                 Pipeline(steps=[('quantile transformer',\n                                                  QuantileTransformer(n_quantiles=100,\n                                                                      output_distribution='normal',\n                                                                      random_state=0))]),\n                                 ['Administrative_Duration',\n                                  'Informational_Duration',\n                                  'ProductRelated_Duration', 'BounceRates',\n                                  'ExitRates', 'PageValues', 'ProductRelated',\n                                  'SpecialDay', 'Administrative',\n                                  'Informational'])])",
      "text/html": "<style>#sk-6e60c841-ba49-4bb9-873f-c57a18d1370e {color: black;background-color: white;}#sk-6e60c841-ba49-4bb9-873f-c57a18d1370e pre{padding: 0;}#sk-6e60c841-ba49-4bb9-873f-c57a18d1370e div.sk-toggleable {background-color: white;}#sk-6e60c841-ba49-4bb9-873f-c57a18d1370e label.sk-toggleable__label {cursor: pointer;display: block;width: 100%;margin-bottom: 0;padding: 0.2em 0.3em;box-sizing: border-box;text-align: center;}#sk-6e60c841-ba49-4bb9-873f-c57a18d1370e div.sk-toggleable__content {max-height: 0;max-width: 0;overflow: hidden;text-align: left;background-color: #f0f8ff;}#sk-6e60c841-ba49-4bb9-873f-c57a18d1370e div.sk-toggleable__content pre {margin: 0.2em;color: black;border-radius: 0.25em;background-color: #f0f8ff;}#sk-6e60c841-ba49-4bb9-873f-c57a18d1370e input.sk-toggleable__control:checked~div.sk-toggleable__content {max-height: 200px;max-width: 100%;overflow: auto;}#sk-6e60c841-ba49-4bb9-873f-c57a18d1370e div.sk-estimator input.sk-toggleable__control:checked~label.sk-toggleable__label {background-color: #d4ebff;}#sk-6e60c841-ba49-4bb9-873f-c57a18d1370e div.sk-label input.sk-toggleable__control:checked~label.sk-toggleable__label {background-color: #d4ebff;}#sk-6e60c841-ba49-4bb9-873f-c57a18d1370e input.sk-hidden--visually {border: 0;clip: rect(1px 1px 1px 1px);clip: rect(1px, 1px, 1px, 1px);height: 1px;margin: -1px;overflow: hidden;padding: 0;position: absolute;width: 1px;}#sk-6e60c841-ba49-4bb9-873f-c57a18d1370e div.sk-estimator {font-family: monospace;background-color: #f0f8ff;margin: 0.25em 0.25em;border: 1px dotted black;border-radius: 0.25em;box-sizing: border-box;}#sk-6e60c841-ba49-4bb9-873f-c57a18d1370e div.sk-estimator:hover {background-color: #d4ebff;}#sk-6e60c841-ba49-4bb9-873f-c57a18d1370e div.sk-parallel-item::after {content: \"\";width: 100%;border-bottom: 1px solid gray;flex-grow: 1;}#sk-6e60c841-ba49-4bb9-873f-c57a18d1370e div.sk-label:hover label.sk-toggleable__label {background-color: #d4ebff;}#sk-6e60c841-ba49-4bb9-873f-c57a18d1370e div.sk-serial::before {content: \"\";position: absolute;border-left: 1px solid gray;box-sizing: border-box;top: 2em;bottom: 0;left: 50%;}#sk-6e60c841-ba49-4bb9-873f-c57a18d1370e div.sk-serial {display: flex;flex-direction: column;align-items: center;background-color: white;}#sk-6e60c841-ba49-4bb9-873f-c57a18d1370e div.sk-item {z-index: 1;}#sk-6e60c841-ba49-4bb9-873f-c57a18d1370e div.sk-parallel {display: flex;align-items: stretch;justify-content: center;background-color: white;}#sk-6e60c841-ba49-4bb9-873f-c57a18d1370e div.sk-parallel-item {display: flex;flex-direction: column;position: relative;background-color: white;}#sk-6e60c841-ba49-4bb9-873f-c57a18d1370e div.sk-parallel-item:first-child::after {align-self: flex-end;width: 50%;}#sk-6e60c841-ba49-4bb9-873f-c57a18d1370e div.sk-parallel-item:last-child::after {align-self: flex-start;width: 50%;}#sk-6e60c841-ba49-4bb9-873f-c57a18d1370e div.sk-parallel-item:only-child::after {width: 0;}#sk-6e60c841-ba49-4bb9-873f-c57a18d1370e div.sk-dashed-wrapped {border: 1px dashed gray;margin: 0.2em;box-sizing: border-box;padding-bottom: 0.1em;background-color: white;position: relative;}#sk-6e60c841-ba49-4bb9-873f-c57a18d1370e div.sk-label label {font-family: monospace;font-weight: bold;background-color: white;display: inline-block;line-height: 1.2em;}#sk-6e60c841-ba49-4bb9-873f-c57a18d1370e div.sk-label-container {position: relative;z-index: 2;text-align: center;}#sk-6e60c841-ba49-4bb9-873f-c57a18d1370e div.sk-container {display: inline-block;position: relative;}</style><div id=\"sk-6e60c841-ba49-4bb9-873f-c57a18d1370e\" class\"sk-top-container\"><div class=\"sk-container\"><div class=\"sk-item sk-dashed-wrapped\"><div class=\"sk-label-container\"><div class=\"sk-label sk-toggleable\"><input class=\"sk-toggleable__control sk-hidden--visually\" id=\"ae7c571a-6678-439b-a716-2b07bec545b0\" type=\"checkbox\" ><label class=\"sk-toggleable__label\" for=\"ae7c571a-6678-439b-a716-2b07bec545b0\">ColumnTransformer</label><div class=\"sk-toggleable__content\"><pre>ColumnTransformer(transformers=[('categorical',\n                                 Pipeline(steps=[('one hot',\n                                                  OrdinalEncoder(handle_unknown='use_encoded_value',\n                                                                 unknown_value=45654))]),\n                                 ['Month', 'OperatingSystems', 'Browser',\n                                  'Region', 'TrafficType', 'VisitorType',\n                                  'Weekend']),\n                                ('numerical',\n                                 Pipeline(steps=[('quantile transformer',\n                                                  QuantileTransformer(n_quantiles=100,\n                                                                      output_distribution='normal',\n                                                                      random_state=0))]),\n                                 ['Administrative_Duration',\n                                  'Informational_Duration',\n                                  'ProductRelated_Duration', 'BounceRates',\n                                  'ExitRates', 'PageValues', 'ProductRelated',\n                                  'SpecialDay', 'Administrative',\n                                  'Informational'])])</pre></div></div></div><div class=\"sk-parallel\"><div class=\"sk-parallel-item\"><div class=\"sk-item\"><div class=\"sk-label-container\"><div class=\"sk-label sk-toggleable\"><input class=\"sk-toggleable__control sk-hidden--visually\" id=\"0877df5a-e11c-441b-bdcb-c4bce3c4b265\" type=\"checkbox\" ><label class=\"sk-toggleable__label\" for=\"0877df5a-e11c-441b-bdcb-c4bce3c4b265\">categorical</label><div class=\"sk-toggleable__content\"><pre>['Month', 'OperatingSystems', 'Browser', 'Region', 'TrafficType', 'VisitorType', 'Weekend']</pre></div></div></div><div class=\"sk-serial\"><div class=\"sk-item\"><div class=\"sk-serial\"><div class=\"sk-item\"><div class=\"sk-estimator sk-toggleable\"><input class=\"sk-toggleable__control sk-hidden--visually\" id=\"2c5f84ac-b961-4d2e-a47e-7a7f2bda6936\" type=\"checkbox\" ><label class=\"sk-toggleable__label\" for=\"2c5f84ac-b961-4d2e-a47e-7a7f2bda6936\">OrdinalEncoder</label><div class=\"sk-toggleable__content\"><pre>OrdinalEncoder(handle_unknown='use_encoded_value', unknown_value=45654)</pre></div></div></div></div></div></div></div></div><div class=\"sk-parallel-item\"><div class=\"sk-item\"><div class=\"sk-label-container\"><div class=\"sk-label sk-toggleable\"><input class=\"sk-toggleable__control sk-hidden--visually\" id=\"f7397987-88cd-4974-af67-72a9f694bf52\" type=\"checkbox\" ><label class=\"sk-toggleable__label\" for=\"f7397987-88cd-4974-af67-72a9f694bf52\">numerical</label><div class=\"sk-toggleable__content\"><pre>['Administrative_Duration', 'Informational_Duration', 'ProductRelated_Duration', 'BounceRates', 'ExitRates', 'PageValues', 'ProductRelated', 'SpecialDay', 'Administrative', 'Informational']</pre></div></div></div><div class=\"sk-serial\"><div class=\"sk-item\"><div class=\"sk-serial\"><div class=\"sk-item\"><div class=\"sk-estimator sk-toggleable\"><input class=\"sk-toggleable__control sk-hidden--visually\" id=\"5c57b6a9-42ee-432d-af69-dedb2d7652a6\" type=\"checkbox\" ><label class=\"sk-toggleable__label\" for=\"5c57b6a9-42ee-432d-af69-dedb2d7652a6\">QuantileTransformer</label><div class=\"sk-toggleable__content\"><pre>QuantileTransformer(n_quantiles=100, output_distribution='normal',\n                    random_state=0)</pre></div></div></div></div></div></div></div></div></div></div></div></div>"
     },
     "metadata": {}
    }
   ]
  },
  {
   "cell_type": "code",
   "metadata": {
    "tags": [],
    "cell_id": "00010-43a26e13-649e-4b0a-bf16-669b18efb60c",
    "deepnote_to_be_reexecuted": false,
    "source_hash": "b7b08690",
    "execution_start": 1620979717691,
    "execution_millis": 2,
    "deepnote_cell_type": "code"
   },
   "source": "from sklearn.tree          import DecisionTreeClassifier\nfrom sklearn.ensemble      import RandomForestClassifier\nfrom sklearn.ensemble      import ExtraTreesClassifier\nfrom sklearn.ensemble      import AdaBoostClassifier\nfrom sklearn.ensemble      import GradientBoostingClassifier\nfrom sklearn.experimental  import enable_hist_gradient_boosting # Necesary for HistGradientBoostingClassifier\nfrom sklearn.ensemble      import HistGradientBoostingClassifier\nfrom xgboost               import XGBClassifier\nfrom lightgbm              import LGBMClassifier\nfrom catboost              import CatBoostClassifier\n\n",
   "execution_count": 97,
   "outputs": []
  },
  {
   "cell_type": "code",
   "metadata": {
    "tags": [],
    "cell_id": "00010-2813ab4b-f37b-4100-94b4-c3849f98760d",
    "deepnote_to_be_reexecuted": false,
    "source_hash": "9deccf41",
    "execution_start": 1620979718317,
    "execution_millis": 34,
    "deepnote_cell_type": "code"
   },
   "source": "# YOUR CODE HERE\ntree_pipelines={\n    \"Decision Tree\": DecisionTreeClassifier(),\n    \"Extra Trees\": ExtraTreesClassifier(),\n    \"Random Forest\": RandomForestClassifier(),\n    \"AdaBoost\": AdaBoostClassifier(),\n    \"Skl GBM\": GradientBoostingClassifier(),\n    \"Skl HistGBM\": GradientBoostingClassifier(),\n    \"XGBoost\": XGBClassifier(),\n    \"LightGBM\": LGBMClassifier(),\n    \"CatBoost\": CatBoostClassifier() \n    }\n\ntree_pipelines = {name: pipeline.make_pipeline(tree_prepro, model) for name, model in tree_pipelines.items()}\n\ntree_pipelines[\"Decision Tree\"]",
   "execution_count": 98,
   "outputs": [
    {
     "output_type": "execute_result",
     "execution_count": 98,
     "data": {
      "text/plain": "Pipeline(steps=[('columntransformer',\n                 ColumnTransformer(transformers=[('categorical',\n                                                  Pipeline(steps=[('one hot',\n                                                                   OrdinalEncoder(handle_unknown='use_encoded_value',\n                                                                                  unknown_value=45654))]),\n                                                  ['Month', 'OperatingSystems',\n                                                   'Browser', 'Region',\n                                                   'TrafficType', 'VisitorType',\n                                                   'Weekend']),\n                                                 ('numerical',\n                                                  Pipeline(steps=[('quantile '\n                                                                   'transformer',\n                                                                   QuantileTransformer(n_quantiles=100,\n                                                                                       output_distribution='normal',\n                                                                                       random_state=0))]),\n                                                  ['Administrative_Duration',\n                                                   'Informational_Duration',\n                                                   'ProductRelated_Duration',\n                                                   'BounceRates', 'ExitRates',\n                                                   'PageValues',\n                                                   'ProductRelated',\n                                                   'SpecialDay',\n                                                   'Administrative',\n                                                   'Informational'])])),\n                ('decisiontreeclassifier', DecisionTreeClassifier())])",
      "text/html": "<style>#sk-5c63a33d-9140-4328-a71c-4aad4d4036b2 {color: black;background-color: white;}#sk-5c63a33d-9140-4328-a71c-4aad4d4036b2 pre{padding: 0;}#sk-5c63a33d-9140-4328-a71c-4aad4d4036b2 div.sk-toggleable {background-color: white;}#sk-5c63a33d-9140-4328-a71c-4aad4d4036b2 label.sk-toggleable__label {cursor: pointer;display: block;width: 100%;margin-bottom: 0;padding: 0.2em 0.3em;box-sizing: border-box;text-align: center;}#sk-5c63a33d-9140-4328-a71c-4aad4d4036b2 div.sk-toggleable__content {max-height: 0;max-width: 0;overflow: hidden;text-align: left;background-color: #f0f8ff;}#sk-5c63a33d-9140-4328-a71c-4aad4d4036b2 div.sk-toggleable__content pre {margin: 0.2em;color: black;border-radius: 0.25em;background-color: #f0f8ff;}#sk-5c63a33d-9140-4328-a71c-4aad4d4036b2 input.sk-toggleable__control:checked~div.sk-toggleable__content {max-height: 200px;max-width: 100%;overflow: auto;}#sk-5c63a33d-9140-4328-a71c-4aad4d4036b2 div.sk-estimator input.sk-toggleable__control:checked~label.sk-toggleable__label {background-color: #d4ebff;}#sk-5c63a33d-9140-4328-a71c-4aad4d4036b2 div.sk-label input.sk-toggleable__control:checked~label.sk-toggleable__label {background-color: #d4ebff;}#sk-5c63a33d-9140-4328-a71c-4aad4d4036b2 input.sk-hidden--visually {border: 0;clip: rect(1px 1px 1px 1px);clip: rect(1px, 1px, 1px, 1px);height: 1px;margin: -1px;overflow: hidden;padding: 0;position: absolute;width: 1px;}#sk-5c63a33d-9140-4328-a71c-4aad4d4036b2 div.sk-estimator {font-family: monospace;background-color: #f0f8ff;margin: 0.25em 0.25em;border: 1px dotted black;border-radius: 0.25em;box-sizing: border-box;}#sk-5c63a33d-9140-4328-a71c-4aad4d4036b2 div.sk-estimator:hover {background-color: #d4ebff;}#sk-5c63a33d-9140-4328-a71c-4aad4d4036b2 div.sk-parallel-item::after {content: \"\";width: 100%;border-bottom: 1px solid gray;flex-grow: 1;}#sk-5c63a33d-9140-4328-a71c-4aad4d4036b2 div.sk-label:hover label.sk-toggleable__label {background-color: #d4ebff;}#sk-5c63a33d-9140-4328-a71c-4aad4d4036b2 div.sk-serial::before {content: \"\";position: absolute;border-left: 1px solid gray;box-sizing: border-box;top: 2em;bottom: 0;left: 50%;}#sk-5c63a33d-9140-4328-a71c-4aad4d4036b2 div.sk-serial {display: flex;flex-direction: column;align-items: center;background-color: white;}#sk-5c63a33d-9140-4328-a71c-4aad4d4036b2 div.sk-item {z-index: 1;}#sk-5c63a33d-9140-4328-a71c-4aad4d4036b2 div.sk-parallel {display: flex;align-items: stretch;justify-content: center;background-color: white;}#sk-5c63a33d-9140-4328-a71c-4aad4d4036b2 div.sk-parallel-item {display: flex;flex-direction: column;position: relative;background-color: white;}#sk-5c63a33d-9140-4328-a71c-4aad4d4036b2 div.sk-parallel-item:first-child::after {align-self: flex-end;width: 50%;}#sk-5c63a33d-9140-4328-a71c-4aad4d4036b2 div.sk-parallel-item:last-child::after {align-self: flex-start;width: 50%;}#sk-5c63a33d-9140-4328-a71c-4aad4d4036b2 div.sk-parallel-item:only-child::after {width: 0;}#sk-5c63a33d-9140-4328-a71c-4aad4d4036b2 div.sk-dashed-wrapped {border: 1px dashed gray;margin: 0.2em;box-sizing: border-box;padding-bottom: 0.1em;background-color: white;position: relative;}#sk-5c63a33d-9140-4328-a71c-4aad4d4036b2 div.sk-label label {font-family: monospace;font-weight: bold;background-color: white;display: inline-block;line-height: 1.2em;}#sk-5c63a33d-9140-4328-a71c-4aad4d4036b2 div.sk-label-container {position: relative;z-index: 2;text-align: center;}#sk-5c63a33d-9140-4328-a71c-4aad4d4036b2 div.sk-container {display: inline-block;position: relative;}</style><div id=\"sk-5c63a33d-9140-4328-a71c-4aad4d4036b2\" class\"sk-top-container\"><div class=\"sk-container\"><div class=\"sk-item sk-dashed-wrapped\"><div class=\"sk-label-container\"><div class=\"sk-label sk-toggleable\"><input class=\"sk-toggleable__control sk-hidden--visually\" id=\"4ac4e4de-c966-47ae-9407-b1ad852aaa1c\" type=\"checkbox\" ><label class=\"sk-toggleable__label\" for=\"4ac4e4de-c966-47ae-9407-b1ad852aaa1c\">Pipeline</label><div class=\"sk-toggleable__content\"><pre>Pipeline(steps=[('columntransformer',\n                 ColumnTransformer(transformers=[('categorical',\n                                                  Pipeline(steps=[('one hot',\n                                                                   OrdinalEncoder(handle_unknown='use_encoded_value',\n                                                                                  unknown_value=45654))]),\n                                                  ['Month', 'OperatingSystems',\n                                                   'Browser', 'Region',\n                                                   'TrafficType', 'VisitorType',\n                                                   'Weekend']),\n                                                 ('numerical',\n                                                  Pipeline(steps=[('quantile '\n                                                                   'transformer',\n                                                                   QuantileTransformer(n_quantiles=100,\n                                                                                       output_distribution='normal',\n                                                                                       random_state=0))]),\n                                                  ['Administrative_Duration',\n                                                   'Informational_Duration',\n                                                   'ProductRelated_Duration',\n                                                   'BounceRates', 'ExitRates',\n                                                   'PageValues',\n                                                   'ProductRelated',\n                                                   'SpecialDay',\n                                                   'Administrative',\n                                                   'Informational'])])),\n                ('decisiontreeclassifier', DecisionTreeClassifier())])</pre></div></div></div><div class=\"sk-serial\"><div class=\"sk-item sk-dashed-wrapped\"><div class=\"sk-label-container\"><div class=\"sk-label sk-toggleable\"><input class=\"sk-toggleable__control sk-hidden--visually\" id=\"b0595522-7315-4468-b916-6d1af181d5aa\" type=\"checkbox\" ><label class=\"sk-toggleable__label\" for=\"b0595522-7315-4468-b916-6d1af181d5aa\">columntransformer: ColumnTransformer</label><div class=\"sk-toggleable__content\"><pre>ColumnTransformer(transformers=[('categorical',\n                                 Pipeline(steps=[('one hot',\n                                                  OrdinalEncoder(handle_unknown='use_encoded_value',\n                                                                 unknown_value=45654))]),\n                                 ['Month', 'OperatingSystems', 'Browser',\n                                  'Region', 'TrafficType', 'VisitorType',\n                                  'Weekend']),\n                                ('numerical',\n                                 Pipeline(steps=[('quantile transformer',\n                                                  QuantileTransformer(n_quantiles=100,\n                                                                      output_distribution='normal',\n                                                                      random_state=0))]),\n                                 ['Administrative_Duration',\n                                  'Informational_Duration',\n                                  'ProductRelated_Duration', 'BounceRates',\n                                  'ExitRates', 'PageValues', 'ProductRelated',\n                                  'SpecialDay', 'Administrative',\n                                  'Informational'])])</pre></div></div></div><div class=\"sk-parallel\"><div class=\"sk-parallel-item\"><div class=\"sk-item\"><div class=\"sk-label-container\"><div class=\"sk-label sk-toggleable\"><input class=\"sk-toggleable__control sk-hidden--visually\" id=\"1c79c43f-c504-4994-9cbe-3794fa1529d3\" type=\"checkbox\" ><label class=\"sk-toggleable__label\" for=\"1c79c43f-c504-4994-9cbe-3794fa1529d3\">categorical</label><div class=\"sk-toggleable__content\"><pre>['Month', 'OperatingSystems', 'Browser', 'Region', 'TrafficType', 'VisitorType', 'Weekend']</pre></div></div></div><div class=\"sk-serial\"><div class=\"sk-item\"><div class=\"sk-serial\"><div class=\"sk-item\"><div class=\"sk-estimator sk-toggleable\"><input class=\"sk-toggleable__control sk-hidden--visually\" id=\"c0098997-9950-4ac1-a47f-db033803147e\" type=\"checkbox\" ><label class=\"sk-toggleable__label\" for=\"c0098997-9950-4ac1-a47f-db033803147e\">OrdinalEncoder</label><div class=\"sk-toggleable__content\"><pre>OrdinalEncoder(handle_unknown='use_encoded_value', unknown_value=45654)</pre></div></div></div></div></div></div></div></div><div class=\"sk-parallel-item\"><div class=\"sk-item\"><div class=\"sk-label-container\"><div class=\"sk-label sk-toggleable\"><input class=\"sk-toggleable__control sk-hidden--visually\" id=\"c974d5ab-767a-448e-9b00-1df4aa4fd008\" type=\"checkbox\" ><label class=\"sk-toggleable__label\" for=\"c974d5ab-767a-448e-9b00-1df4aa4fd008\">numerical</label><div class=\"sk-toggleable__content\"><pre>['Administrative_Duration', 'Informational_Duration', 'ProductRelated_Duration', 'BounceRates', 'ExitRates', 'PageValues', 'ProductRelated', 'SpecialDay', 'Administrative', 'Informational']</pre></div></div></div><div class=\"sk-serial\"><div class=\"sk-item\"><div class=\"sk-serial\"><div class=\"sk-item\"><div class=\"sk-estimator sk-toggleable\"><input class=\"sk-toggleable__control sk-hidden--visually\" id=\"6452cfbd-aca0-45a6-9b09-f347e6e12df6\" type=\"checkbox\" ><label class=\"sk-toggleable__label\" for=\"6452cfbd-aca0-45a6-9b09-f347e6e12df6\">QuantileTransformer</label><div class=\"sk-toggleable__content\"><pre>QuantileTransformer(n_quantiles=100, output_distribution='normal',\n                    random_state=0)</pre></div></div></div></div></div></div></div></div></div></div><div class=\"sk-item\"><div class=\"sk-estimator sk-toggleable\"><input class=\"sk-toggleable__control sk-hidden--visually\" id=\"7b0d1c4b-fbc8-4492-a57b-61623a5cf432\" type=\"checkbox\" ><label class=\"sk-toggleable__label\" for=\"7b0d1c4b-fbc8-4492-a57b-61623a5cf432\">DecisionTreeClassifier</label><div class=\"sk-toggleable__content\"><pre>DecisionTreeClassifier()</pre></div></div></div></div></div></div></div>"
     },
     "metadata": {}
    }
   ]
  },
  {
   "cell_type": "code",
   "metadata": {
    "tags": [],
    "cell_id": "00012-05d96067-3dee-4a63-8804-dc3195de7a0d",
    "deepnote_to_be_reexecuted": false,
    "source_hash": "5e40b318",
    "execution_start": 1620980104526,
    "execution_millis": 409484,
    "deepnote_cell_type": "code"
   },
   "source": "\nfrom sklearn.model_selection import cross_val_predict\n\nskf = model_selection.StratifiedKFold(n_splits=10, random_state=0, shuffle=True)\n\n\n\n\nresults = pd.DataFrame({'Model': [], 'Accuracy': [], 'Bal Acc.': [], 'Time': []})\n\n\n\n\n\nfor model_name, model in tree_pipelines.items():\n    start_time = time.time()\n\n\n        \n    # TRAIN AND GET PREDICTIONS USING cross_val_predict() and x,y\n    pred = cross_val_predict(model, x,y, cv=skf)\n\n    total_time = time.time() - start_time\n\n    results = results.append({\"Model\":    model_name,\n                              \"Accuracy\": metrics.accuracy_score(y, pred)*100,\n                              \"Bal Acc.\": metrics.balanced_accuracy_score(y, pred)*100,\n                              \"Time\":     total_time},\n                              ignore_index=True)\n                              \n                              \n\n\n# YOUR CODE HERE\n\n\n\nresults_ord = results.sort_values(by=['Accuracy'], ascending=False, ignore_index=True)\nresults_ord.index += 1 \nresults_ord.style.bar(subset=['Accuracy', 'Bal Acc.'], vmin=0, vmax=100, color='#5fba7d')\n",
   "execution_count": 107,
   "outputs": [
    {
     "name": "stderr",
     "text": "1:\tlearn: 0.6225910\ttotal: 30.8ms\tremaining: 15.4s\n2:\tlearn: 0.5942822\ttotal: 42ms\tremaining: 13.9s\n3:\tlearn: 0.5676441\ttotal: 52.7ms\tremaining: 13.1s\n4:\tlearn: 0.5420887\ttotal: 64.2ms\tremaining: 12.8s\n5:\tlearn: 0.5191787\ttotal: 75.5ms\tremaining: 12.5s\n6:\tlearn: 0.4979223\ttotal: 86ms\tremaining: 12.2s\n7:\tlearn: 0.4754165\ttotal: 96.7ms\tremaining: 12s\n8:\tlearn: 0.4577548\ttotal: 108ms\tremaining: 11.9s\n9:\tlearn: 0.4395840\ttotal: 119ms\tremaining: 11.8s\n10:\tlearn: 0.4258293\ttotal: 130ms\tremaining: 11.7s\n11:\tlearn: 0.4126813\ttotal: 141ms\tremaining: 11.6s\n12:\tlearn: 0.4005569\ttotal: 152ms\tremaining: 11.5s\n13:\tlearn: 0.3882248\ttotal: 163ms\tremaining: 11.5s\n14:\tlearn: 0.3770123\ttotal: 176ms\tremaining: 11.6s\n15:\tlearn: 0.3685774\ttotal: 189ms\tremaining: 11.6s\n16:\tlearn: 0.3591204\ttotal: 211ms\tremaining: 12.2s\n17:\tlearn: 0.3509792\ttotal: 223ms\tremaining: 12.2s\n18:\tlearn: 0.3427098\ttotal: 242ms\tremaining: 12.5s\n19:\tlearn: 0.3371843\ttotal: 255ms\tremaining: 12.5s\n20:\tlearn: 0.3319839\ttotal: 267ms\tremaining: 12.5s\n21:\tlearn: 0.3256397\ttotal: 280ms\tremaining: 12.4s\n22:\tlearn: 0.3197202\ttotal: 297ms\tremaining: 12.6s\n23:\tlearn: 0.3090250\ttotal: 312ms\tremaining: 12.7s\n24:\tlearn: 0.3033101\ttotal: 324ms\tremaining: 12.6s\n25:\tlearn: 0.2986948\ttotal: 338ms\tremaining: 12.7s\n26:\tlearn: 0.2944975\ttotal: 351ms\tremaining: 12.7s\n27:\tlearn: 0.2911232\ttotal: 365ms\tremaining: 12.7s\n28:\tlearn: 0.2874970\ttotal: 380ms\tremaining: 12.7s\n29:\tlearn: 0.2828322\ttotal: 394ms\tremaining: 12.7s\n30:\tlearn: 0.2786288\ttotal: 407ms\tremaining: 12.7s\n31:\tlearn: 0.2767005\ttotal: 423ms\tremaining: 12.8s\n32:\tlearn: 0.2739169\ttotal: 439ms\tremaining: 12.9s\n33:\tlearn: 0.2716197\ttotal: 451ms\tremaining: 12.8s\n34:\tlearn: 0.2684152\ttotal: 464ms\tremaining: 12.8s\n35:\tlearn: 0.2655713\ttotal: 475ms\tremaining: 12.7s\n36:\tlearn: 0.2633977\ttotal: 497ms\tremaining: 12.9s\n37:\tlearn: 0.2613612\ttotal: 530ms\tremaining: 13.4s\n38:\tlearn: 0.2603879\ttotal: 560ms\tremaining: 13.8s\n39:\tlearn: 0.2578502\ttotal: 573ms\tremaining: 13.8s\n40:\tlearn: 0.2567444\ttotal: 585ms\tremaining: 13.7s\n41:\tlearn: 0.2538452\ttotal: 599ms\tremaining: 13.7s\n42:\tlearn: 0.2526239\ttotal: 612ms\tremaining: 13.6s\n43:\tlearn: 0.2510006\ttotal: 628ms\tremaining: 13.6s\n44:\tlearn: 0.2494137\ttotal: 649ms\tremaining: 13.8s\n45:\tlearn: 0.2486649\ttotal: 684ms\tremaining: 14.2s\n46:\tlearn: 0.2473521\ttotal: 717ms\tremaining: 14.5s\n47:\tlearn: 0.2461922\ttotal: 745ms\tremaining: 14.8s\n48:\tlearn: 0.2450616\ttotal: 774ms\tremaining: 15s\n49:\tlearn: 0.2441477\ttotal: 806ms\tremaining: 15.3s\n50:\tlearn: 0.2430923\ttotal: 840ms\tremaining: 15.6s\n51:\tlearn: 0.2414362\ttotal: 871ms\tremaining: 15.9s\n52:\tlearn: 0.2401470\ttotal: 895ms\tremaining: 16s\n53:\tlearn: 0.2394538\ttotal: 918ms\tremaining: 16.1s\n54:\tlearn: 0.2386499\ttotal: 929ms\tremaining: 16s\n55:\tlearn: 0.2379017\ttotal: 947ms\tremaining: 16s\n56:\tlearn: 0.2372575\ttotal: 972ms\tremaining: 16.1s\n57:\tlearn: 0.2361514\ttotal: 992ms\tremaining: 16.1s\n58:\tlearn: 0.2355897\ttotal: 1s\tremaining: 16s\n59:\tlearn: 0.2350178\ttotal: 1.02s\tremaining: 16s\n60:\tlearn: 0.2345608\ttotal: 1.03s\tremaining: 15.9s\n61:\tlearn: 0.2338782\ttotal: 1.05s\tremaining: 15.9s\n62:\tlearn: 0.2329337\ttotal: 1.07s\tremaining: 16s\n63:\tlearn: 0.2322843\ttotal: 1.1s\tremaining: 16s\n64:\tlearn: 0.2314026\ttotal: 1.11s\tremaining: 16s\n65:\tlearn: 0.2305845\ttotal: 1.12s\tremaining: 15.9s\n66:\tlearn: 0.2299492\ttotal: 1.14s\tremaining: 15.9s\n67:\tlearn: 0.2295308\ttotal: 1.17s\tremaining: 16s\n68:\tlearn: 0.2291023\ttotal: 1.19s\tremaining: 16.1s\n69:\tlearn: 0.2286888\ttotal: 1.22s\tremaining: 16.2s\n70:\tlearn: 0.2281483\ttotal: 1.25s\tremaining: 16.4s\n71:\tlearn: 0.2279066\ttotal: 1.28s\tremaining: 16.6s\n72:\tlearn: 0.2267083\ttotal: 1.31s\tremaining: 16.6s\n73:\tlearn: 0.2260813\ttotal: 1.33s\tremaining: 16.7s\n74:\tlearn: 0.2254718\ttotal: 1.36s\tremaining: 16.8s\n75:\tlearn: 0.2250375\ttotal: 1.38s\tremaining: 16.8s\n76:\tlearn: 0.2247773\ttotal: 1.41s\tremaining: 16.9s\n77:\tlearn: 0.2244741\ttotal: 1.43s\tremaining: 17s\n78:\tlearn: 0.2241271\ttotal: 1.46s\tremaining: 17.1s\n79:\tlearn: 0.2239330\ttotal: 1.49s\tremaining: 17.1s\n80:\tlearn: 0.2237324\ttotal: 1.52s\tremaining: 17.3s\n81:\tlearn: 0.2233504\ttotal: 1.55s\tremaining: 17.3s\n82:\tlearn: 0.2229922\ttotal: 1.58s\tremaining: 17.4s\n83:\tlearn: 0.2226539\ttotal: 1.61s\tremaining: 17.5s\n84:\tlearn: 0.2224678\ttotal: 1.64s\tremaining: 17.6s\n85:\tlearn: 0.2221779\ttotal: 1.67s\tremaining: 17.7s\n86:\tlearn: 0.2218839\ttotal: 1.69s\tremaining: 17.8s\n87:\tlearn: 0.2216201\ttotal: 1.71s\tremaining: 17.8s\n88:\tlearn: 0.2211500\ttotal: 1.73s\tremaining: 17.7s\n89:\tlearn: 0.2207804\ttotal: 1.74s\tremaining: 17.6s\n90:\tlearn: 0.2204566\ttotal: 1.76s\tremaining: 17.6s\n91:\tlearn: 0.2202946\ttotal: 1.77s\tremaining: 17.5s\n92:\tlearn: 0.2201233\ttotal: 1.78s\tremaining: 17.4s\n93:\tlearn: 0.2198855\ttotal: 1.79s\tremaining: 17.3s\n94:\tlearn: 0.2196522\ttotal: 1.83s\tremaining: 17.5s\n95:\tlearn: 0.2194923\ttotal: 1.85s\tremaining: 17.5s\n96:\tlearn: 0.2192318\ttotal: 1.88s\tremaining: 17.5s\n97:\tlearn: 0.2188993\ttotal: 1.92s\tremaining: 17.7s\n98:\tlearn: 0.2186736\ttotal: 1.95s\tremaining: 17.7s\n99:\tlearn: 0.2184453\ttotal: 1.97s\tremaining: 17.8s\n100:\tlearn: 0.2181331\ttotal: 2s\tremaining: 17.8s\n101:\tlearn: 0.2179235\ttotal: 2.04s\tremaining: 17.9s\n102:\tlearn: 0.2177584\ttotal: 2.06s\tremaining: 18s\n103:\tlearn: 0.2174910\ttotal: 2.09s\tremaining: 18s\n104:\tlearn: 0.2172450\ttotal: 2.12s\tremaining: 18s\n105:\tlearn: 0.2169507\ttotal: 2.15s\tremaining: 18.1s\n106:\tlearn: 0.2168000\ttotal: 2.17s\tremaining: 18.1s\n107:\tlearn: 0.2166702\ttotal: 2.2s\tremaining: 18.2s\n108:\tlearn: 0.2163816\ttotal: 2.22s\tremaining: 18.2s\n109:\tlearn: 0.2161931\ttotal: 2.25s\tremaining: 18.2s\n110:\tlearn: 0.2159532\ttotal: 2.27s\tremaining: 18.2s\n111:\tlearn: 0.2155994\ttotal: 2.3s\tremaining: 18.2s\n112:\tlearn: 0.2154340\ttotal: 2.33s\tremaining: 18.3s\n113:\tlearn: 0.2152300\ttotal: 2.35s\tremaining: 18.3s\n114:\tlearn: 0.2150204\ttotal: 2.38s\tremaining: 18.3s\n115:\tlearn: 0.2148507\ttotal: 2.4s\tremaining: 18.3s\n116:\tlearn: 0.2146516\ttotal: 2.42s\tremaining: 18.3s\n117:\tlearn: 0.2144568\ttotal: 2.45s\tremaining: 18.3s\n118:\tlearn: 0.2142388\ttotal: 2.48s\tremaining: 18.4s\n119:\tlearn: 0.2140886\ttotal: 2.51s\tremaining: 18.4s\n120:\tlearn: 0.2139748\ttotal: 2.53s\tremaining: 18.4s\n121:\tlearn: 0.2137743\ttotal: 2.55s\tremaining: 18.3s\n122:\tlearn: 0.2136755\ttotal: 2.58s\tremaining: 18.4s\n123:\tlearn: 0.2134725\ttotal: 2.6s\tremaining: 18.3s\n124:\tlearn: 0.2131914\ttotal: 2.61s\tremaining: 18.3s\n125:\tlearn: 0.2128690\ttotal: 2.62s\tremaining: 18.2s\n126:\tlearn: 0.2127809\ttotal: 2.64s\tremaining: 18.1s\n127:\tlearn: 0.2126088\ttotal: 2.65s\tremaining: 18.1s\n128:\tlearn: 0.2124366\ttotal: 2.68s\tremaining: 18.1s\n129:\tlearn: 0.2123011\ttotal: 2.69s\tremaining: 18s\n130:\tlearn: 0.2121570\ttotal: 2.71s\tremaining: 17.9s\n131:\tlearn: 0.2119347\ttotal: 2.72s\tremaining: 17.9s\n132:\tlearn: 0.2117398\ttotal: 2.74s\tremaining: 17.9s\n133:\tlearn: 0.2116010\ttotal: 2.77s\tremaining: 17.9s\n134:\tlearn: 0.2114478\ttotal: 2.79s\tremaining: 17.9s\n135:\tlearn: 0.2112226\ttotal: 2.81s\tremaining: 17.9s\n136:\tlearn: 0.2110676\ttotal: 2.84s\tremaining: 17.9s\n137:\tlearn: 0.2109204\ttotal: 2.87s\tremaining: 17.9s\n138:\tlearn: 0.2107855\ttotal: 2.89s\tremaining: 17.9s\n139:\tlearn: 0.2107002\ttotal: 2.92s\tremaining: 17.9s\n140:\tlearn: 0.2104351\ttotal: 2.94s\tremaining: 17.9s\n141:\tlearn: 0.2102610\ttotal: 2.97s\tremaining: 17.9s\n142:\tlearn: 0.2101199\ttotal: 2.99s\tremaining: 17.9s\n143:\tlearn: 0.2099772\ttotal: 3.03s\tremaining: 18s\n144:\tlearn: 0.2097895\ttotal: 3.08s\tremaining: 18.2s\n145:\tlearn: 0.2097086\ttotal: 3.11s\tremaining: 18.2s\n146:\tlearn: 0.2095450\ttotal: 3.13s\tremaining: 18.2s\n147:\tlearn: 0.2094147\ttotal: 3.16s\tremaining: 18.2s\n148:\tlearn: 0.2093114\ttotal: 3.2s\tremaining: 18.3s\n149:\tlearn: 0.2091195\ttotal: 3.24s\tremaining: 18.4s\n150:\tlearn: 0.2089834\ttotal: 3.27s\tremaining: 18.4s\n151:\tlearn: 0.2087676\ttotal: 3.29s\tremaining: 18.4s\n152:\tlearn: 0.2086653\ttotal: 3.32s\tremaining: 18.4s\n153:\tlearn: 0.2085258\ttotal: 3.35s\tremaining: 18.4s\n154:\tlearn: 0.2083580\ttotal: 3.38s\tremaining: 18.4s\n155:\tlearn: 0.2081801\ttotal: 3.4s\tremaining: 18.4s\n156:\tlearn: 0.2080095\ttotal: 3.43s\tremaining: 18.4s\n157:\tlearn: 0.2078817\ttotal: 3.45s\tremaining: 18.4s\n158:\tlearn: 0.2077242\ttotal: 3.48s\tremaining: 18.4s\n159:\tlearn: 0.2075589\ttotal: 3.49s\tremaining: 18.3s\n160:\tlearn: 0.2074640\ttotal: 3.5s\tremaining: 18.3s\n161:\tlearn: 0.2073190\ttotal: 3.51s\tremaining: 18.2s\n162:\tlearn: 0.2071283\ttotal: 3.52s\tremaining: 18.1s\n163:\tlearn: 0.2070270\ttotal: 3.54s\tremaining: 18s\n164:\tlearn: 0.2068827\ttotal: 3.56s\tremaining: 18s\n165:\tlearn: 0.2067595\ttotal: 3.58s\tremaining: 18s\n166:\tlearn: 0.2066004\ttotal: 3.6s\tremaining: 18s\n167:\tlearn: 0.2063441\ttotal: 3.62s\tremaining: 17.9s\n168:\tlearn: 0.2062285\ttotal: 3.65s\tremaining: 17.9s\n169:\tlearn: 0.2060135\ttotal: 3.68s\tremaining: 17.9s\n170:\tlearn: 0.2059205\ttotal: 3.7s\tremaining: 18s\n171:\tlearn: 0.2057808\ttotal: 3.73s\tremaining: 17.9s\n172:\tlearn: 0.2056762\ttotal: 3.76s\tremaining: 18s\n173:\tlearn: 0.2056125\ttotal: 3.79s\tremaining: 18s\n174:\tlearn: 0.2054746\ttotal: 3.81s\tremaining: 18s\n175:\tlearn: 0.2053249\ttotal: 3.84s\tremaining: 18s\n176:\tlearn: 0.2050244\ttotal: 3.87s\tremaining: 18s\n177:\tlearn: 0.2048395\ttotal: 3.89s\tremaining: 18s\n178:\tlearn: 0.2046572\ttotal: 3.92s\tremaining: 18s\n179:\tlearn: 0.2045458\ttotal: 3.94s\tremaining: 18s\n180:\tlearn: 0.2044336\ttotal: 3.97s\tremaining: 18s\n181:\tlearn: 0.2042848\ttotal: 4s\tremaining: 18s\n182:\tlearn: 0.2041837\ttotal: 4.03s\tremaining: 18s\n183:\tlearn: 0.2040832\ttotal: 4.07s\tremaining: 18.1s\n184:\tlearn: 0.2039653\ttotal: 4.09s\tremaining: 18s\n185:\tlearn: 0.2038172\ttotal: 4.12s\tremaining: 18s\n186:\tlearn: 0.2036777\ttotal: 4.15s\tremaining: 18.1s\n187:\tlearn: 0.2035097\ttotal: 4.19s\tremaining: 18.1s\n188:\tlearn: 0.2034487\ttotal: 4.21s\tremaining: 18s\n189:\tlearn: 0.2032602\ttotal: 4.23s\tremaining: 18s\n190:\tlearn: 0.2031226\ttotal: 4.24s\tremaining: 18s\n191:\tlearn: 0.2030201\ttotal: 4.27s\tremaining: 18s\n192:\tlearn: 0.2028522\ttotal: 4.28s\tremaining: 17.9s\n193:\tlearn: 0.2027200\ttotal: 4.29s\tremaining: 17.8s\n194:\tlearn: 0.2025875\ttotal: 4.3s\tremaining: 17.8s\n195:\tlearn: 0.2025184\ttotal: 4.32s\tremaining: 17.7s\n196:\tlearn: 0.2023071\ttotal: 4.33s\tremaining: 17.6s\n197:\tlearn: 0.2021513\ttotal: 4.34s\tremaining: 17.6s\n198:\tlearn: 0.2020057\ttotal: 4.35s\tremaining: 17.5s\n199:\tlearn: 0.2018609\ttotal: 4.36s\tremaining: 17.4s\n200:\tlearn: 0.2017161\ttotal: 4.37s\tremaining: 17.4s\n201:\tlearn: 0.2016105\ttotal: 4.38s\tremaining: 17.3s\n202:\tlearn: 0.2014241\ttotal: 4.4s\tremaining: 17.3s\n203:\tlearn: 0.2013215\ttotal: 4.43s\tremaining: 17.3s\n204:\tlearn: 0.2012347\ttotal: 4.46s\tremaining: 17.3s\n205:\tlearn: 0.2011237\ttotal: 4.47s\tremaining: 17.3s\n206:\tlearn: 0.2010840\ttotal: 4.5s\tremaining: 17.2s\n207:\tlearn: 0.2009656\ttotal: 4.54s\tremaining: 17.3s\n208:\tlearn: 0.2009022\ttotal: 4.59s\tremaining: 17.4s\n209:\tlearn: 0.2007785\ttotal: 4.61s\tremaining: 17.4s\n210:\tlearn: 0.2007142\ttotal: 4.65s\tremaining: 17.4s\n211:\tlearn: 0.2006152\ttotal: 4.71s\tremaining: 17.5s\n212:\tlearn: 0.2004958\ttotal: 4.74s\tremaining: 17.5s\n213:\tlearn: 0.2004514\ttotal: 4.77s\tremaining: 17.5s\n214:\tlearn: 0.2003525\ttotal: 4.8s\tremaining: 17.5s\n215:\tlearn: 0.2002212\ttotal: 4.83s\tremaining: 17.5s\n216:\tlearn: 0.2000698\ttotal: 4.86s\tremaining: 17.5s\n217:\tlearn: 0.1998840\ttotal: 4.88s\tremaining: 17.5s\n218:\tlearn: 0.1997291\ttotal: 4.91s\tremaining: 17.5s\n219:\tlearn: 0.1996446\ttotal: 4.95s\tremaining: 17.5s\n220:\tlearn: 0.1995283\ttotal: 4.99s\tremaining: 17.6s\n221:\tlearn: 0.1994004\ttotal: 5.03s\tremaining: 17.6s\n222:\tlearn: 0.1992886\ttotal: 5.04s\tremaining: 17.6s\n223:\tlearn: 0.1991064\ttotal: 5.07s\tremaining: 17.6s\n224:\tlearn: 0.1990066\ttotal: 5.08s\tremaining: 17.5s\n225:\tlearn: 0.1989202\ttotal: 5.09s\tremaining: 17.4s\n226:\tlearn: 0.1985561\ttotal: 5.1s\tremaining: 17.4s\n227:\tlearn: 0.1984204\ttotal: 5.11s\tremaining: 17.3s\n228:\tlearn: 0.1983191\ttotal: 5.12s\tremaining: 17.3s\n229:\tlearn: 0.1981403\ttotal: 5.13s\tremaining: 17.2s\n230:\tlearn: 0.1980833\ttotal: 5.15s\tremaining: 17.1s\n231:\tlearn: 0.1979596\ttotal: 5.16s\tremaining: 17.1s\n232:\tlearn: 0.1978246\ttotal: 5.17s\tremaining: 17s\n233:\tlearn: 0.1977411\ttotal: 5.19s\tremaining: 17s\n234:\tlearn: 0.1976018\ttotal: 5.2s\tremaining: 16.9s\n235:\tlearn: 0.1973074\ttotal: 5.21s\tremaining: 16.9s\n236:\tlearn: 0.1971804\ttotal: 5.23s\tremaining: 16.8s\n237:\tlearn: 0.1970338\ttotal: 5.28s\tremaining: 16.9s\n238:\tlearn: 0.1967610\ttotal: 5.31s\tremaining: 16.9s\n239:\tlearn: 0.1966076\ttotal: 5.34s\tremaining: 16.9s\n240:\tlearn: 0.1964144\ttotal: 5.37s\tremaining: 16.9s\n241:\tlearn: 0.1963083\ttotal: 5.4s\tremaining: 16.9s\n242:\tlearn: 0.1961780\ttotal: 5.42s\tremaining: 16.9s\n243:\tlearn: 0.1960254\ttotal: 5.45s\tremaining: 16.9s\n244:\tlearn: 0.1959403\ttotal: 5.48s\tremaining: 16.9s\n245:\tlearn: 0.1958840\ttotal: 5.51s\tremaining: 16.9s\n246:\tlearn: 0.1957649\ttotal: 5.54s\tremaining: 16.9s\n247:\tlearn: 0.1956028\ttotal: 5.57s\tremaining: 16.9s\n248:\tlearn: 0.1954766\ttotal: 5.61s\tremaining: 16.9s\n249:\tlearn: 0.1953356\ttotal: 5.63s\tremaining: 16.9s\n250:\tlearn: 0.1952419\ttotal: 5.67s\tremaining: 16.9s\n251:\tlearn: 0.1950895\ttotal: 5.69s\tremaining: 16.9s\n252:\tlearn: 0.1949723\ttotal: 5.73s\tremaining: 16.9s\n253:\tlearn: 0.1948221\ttotal: 5.77s\tremaining: 16.9s\n254:\tlearn: 0.1947380\ttotal: 5.79s\tremaining: 16.9s\n255:\tlearn: 0.1946012\ttotal: 5.82s\tremaining: 16.9s\n256:\tlearn: 0.1945619\ttotal: 5.85s\tremaining: 16.9s\n257:\tlearn: 0.1944767\ttotal: 5.88s\tremaining: 16.9s\n258:\tlearn: 0.1943260\ttotal: 5.89s\tremaining: 16.9s\n259:\tlearn: 0.1942462\ttotal: 5.91s\tremaining: 16.8s\n260:\tlearn: 0.1941931\ttotal: 5.92s\tremaining: 16.8s\n261:\tlearn: 0.1940657\ttotal: 5.93s\tremaining: 16.7s\n262:\tlearn: 0.1938621\ttotal: 5.94s\tremaining: 16.6s\n263:\tlearn: 0.1937047\ttotal: 5.95s\tremaining: 16.6s\n264:\tlearn: 0.1936000\ttotal: 5.96s\tremaining: 16.5s\n265:\tlearn: 0.1934660\ttotal: 5.99s\tremaining: 16.5s\n266:\tlearn: 0.1933551\ttotal: 6.03s\tremaining: 16.6s\n267:\tlearn: 0.1932825\ttotal: 6.06s\tremaining: 16.5s\n268:\tlearn: 0.1931906\ttotal: 6.08s\tremaining: 16.5s\n269:\tlearn: 0.1930954\ttotal: 6.1s\tremaining: 16.5s\n270:\tlearn: 0.1929889\ttotal: 6.12s\tremaining: 16.5s\n271:\tlearn: 0.1928027\ttotal: 6.15s\tremaining: 16.5s\n272:\tlearn: 0.1926635\ttotal: 6.18s\tremaining: 16.5s\n273:\tlearn: 0.1925672\ttotal: 6.21s\tremaining: 16.4s\n274:\tlearn: 0.1924761\ttotal: 6.23s\tremaining: 16.4s\n275:\tlearn: 0.1923552\ttotal: 6.26s\tremaining: 16.4s\n276:\tlearn: 0.1922916\ttotal: 6.28s\tremaining: 16.4s\n277:\tlearn: 0.1922120\ttotal: 6.31s\tremaining: 16.4s\n278:\tlearn: 0.1920403\ttotal: 6.34s\tremaining: 16.4s\n279:\tlearn: 0.1919286\ttotal: 6.37s\tremaining: 16.4s\n280:\tlearn: 0.1917733\ttotal: 6.39s\tremaining: 16.4s\n281:\tlearn: 0.1916428\ttotal: 6.42s\tremaining: 16.3s\n282:\tlearn: 0.1915323\ttotal: 6.44s\tremaining: 16.3s\n283:\tlearn: 0.1914350\ttotal: 6.47s\tremaining: 16.3s\n284:\tlearn: 0.1913880\ttotal: 6.49s\tremaining: 16.3s\n285:\tlearn: 0.1912863\ttotal: 6.52s\tremaining: 16.3s\n286:\tlearn: 0.1912222\ttotal: 6.55s\tremaining: 16.3s\n287:\tlearn: 0.1910902\ttotal: 6.58s\tremaining: 16.3s\n288:\tlearn: 0.1909328\ttotal: 6.61s\tremaining: 16.3s\n289:\tlearn: 0.1908376\ttotal: 6.63s\tremaining: 16.2s\n290:\tlearn: 0.1907036\ttotal: 6.65s\tremaining: 16.2s\n291:\tlearn: 0.1906134\ttotal: 6.67s\tremaining: 16.2s\n292:\tlearn: 0.1904957\ttotal: 6.7s\tremaining: 16.2s\n293:\tlearn: 0.1904075\ttotal: 6.72s\tremaining: 16.1s\n294:\tlearn: 0.1903652\ttotal: 6.74s\tremaining: 16.1s\n295:\tlearn: 0.1901582\ttotal: 6.76s\tremaining: 16.1s\n296:\tlearn: 0.1900664\ttotal: 6.77s\tremaining: 16s\n297:\tlearn: 0.1899711\ttotal: 6.79s\tremaining: 16s\n298:\tlearn: 0.1898747\ttotal: 6.8s\tremaining: 15.9s\n299:\tlearn: 0.1896613\ttotal: 6.81s\tremaining: 15.9s\n300:\tlearn: 0.1894848\ttotal: 6.83s\tremaining: 15.9s\n301:\tlearn: 0.1893421\ttotal: 6.84s\tremaining: 15.8s\n302:\tlearn: 0.1892788\ttotal: 6.85s\tremaining: 15.8s\n303:\tlearn: 0.1892206\ttotal: 6.87s\tremaining: 15.7s\n304:\tlearn: 0.1891108\ttotal: 6.88s\tremaining: 15.7s\n305:\tlearn: 0.1890933\ttotal: 6.89s\tremaining: 15.6s\n306:\tlearn: 0.1889512\ttotal: 6.91s\tremaining: 15.6s\n307:\tlearn: 0.1888472\ttotal: 6.92s\tremaining: 15.5s\n308:\tlearn: 0.1887866\ttotal: 6.93s\tremaining: 15.5s\n309:\tlearn: 0.1887075\ttotal: 6.95s\tremaining: 15.5s\n310:\tlearn: 0.1885493\ttotal: 6.97s\tremaining: 15.5s\n311:\tlearn: 0.1884391\ttotal: 7.01s\tremaining: 15.5s\n312:\tlearn: 0.1883526\ttotal: 7.03s\tremaining: 15.4s\n313:\tlearn: 0.1882422\ttotal: 7.06s\tremaining: 15.4s\n314:\tlearn: 0.1881720\ttotal: 7.1s\tremaining: 15.4s\n315:\tlearn: 0.1880146\ttotal: 7.13s\tremaining: 15.4s\n316:\tlearn: 0.1878774\ttotal: 7.15s\tremaining: 15.4s\n317:\tlearn: 0.1877055\ttotal: 7.18s\tremaining: 15.4s\n318:\tlearn: 0.1876377\ttotal: 7.21s\tremaining: 15.4s\n319:\tlearn: 0.1874911\ttotal: 7.23s\tremaining: 15.4s\n320:\tlearn: 0.1873585\ttotal: 7.26s\tremaining: 15.4s\n321:\tlearn: 0.1872542\ttotal: 7.29s\tremaining: 15.3s\n322:\tlearn: 0.1872104\ttotal: 7.32s\tremaining: 15.3s\n323:\tlearn: 0.1870994\ttotal: 7.34s\tremaining: 15.3s\n324:\tlearn: 0.1870118\ttotal: 7.36s\tremaining: 15.3s\n325:\tlearn: 0.1868992\ttotal: 7.39s\tremaining: 15.3s\n326:\tlearn: 0.1868334\ttotal: 7.42s\tremaining: 15.3s\n327:\tlearn: 0.1867794\ttotal: 7.45s\tremaining: 15.3s\n328:\tlearn: 0.1866932\ttotal: 7.46s\tremaining: 15.2s\n329:\tlearn: 0.1865900\ttotal: 7.49s\tremaining: 15.2s\n330:\tlearn: 0.1864638\ttotal: 7.5s\tremaining: 15.2s\n331:\tlearn: 0.1863780\ttotal: 7.51s\tremaining: 15.1s\n332:\tlearn: 0.1862800\ttotal: 7.52s\tremaining: 15.1s\n333:\tlearn: 0.1862098\ttotal: 7.53s\tremaining: 15s\n334:\tlearn: 0.1860801\ttotal: 7.54s\tremaining: 15s\n335:\tlearn: 0.1860292\ttotal: 7.55s\tremaining: 14.9s\n336:\tlearn: 0.1859521\ttotal: 7.56s\tremaining: 14.9s\n337:\tlearn: 0.1857860\ttotal: 7.58s\tremaining: 14.8s\n338:\tlearn: 0.1856042\ttotal: 7.59s\tremaining: 14.8s\n339:\tlearn: 0.1855013\ttotal: 7.6s\tremaining: 14.8s\n340:\tlearn: 0.1853962\ttotal: 7.61s\tremaining: 14.7s\n341:\tlearn: 0.1852142\ttotal: 7.62s\tremaining: 14.7s\n342:\tlearn: 0.1850608\ttotal: 7.64s\tremaining: 14.6s\n343:\tlearn: 0.1849602\ttotal: 7.66s\tremaining: 14.6s\n344:\tlearn: 0.1848304\ttotal: 7.69s\tremaining: 14.6s\n345:\tlearn: 0.1846817\ttotal: 7.71s\tremaining: 14.6s\n346:\tlearn: 0.1845989\ttotal: 7.73s\tremaining: 14.6s\n347:\tlearn: 0.1843777\ttotal: 7.78s\tremaining: 14.6s\n348:\tlearn: 0.1842634\ttotal: 7.8s\tremaining: 14.6s\n349:\tlearn: 0.1839972\ttotal: 7.83s\tremaining: 14.5s\n350:\tlearn: 0.1839208\ttotal: 7.86s\tremaining: 14.5s\n351:\tlearn: 0.1838232\ttotal: 7.88s\tremaining: 14.5s\n352:\tlearn: 0.1837366\ttotal: 7.92s\tremaining: 14.5s\n353:\tlearn: 0.1836499\ttotal: 7.94s\tremaining: 14.5s\n354:\tlearn: 0.1835392\ttotal: 7.97s\tremaining: 14.5s\n355:\tlearn: 0.1834483\ttotal: 7.99s\tremaining: 14.5s\n356:\tlearn: 0.1833195\ttotal: 8.02s\tremaining: 14.4s\n357:\tlearn: 0.1832430\ttotal: 8.04s\tremaining: 14.4s\n358:\tlearn: 0.1831206\ttotal: 8.07s\tremaining: 14.4s\n359:\tlearn: 0.1830191\ttotal: 8.12s\tremaining: 14.4s\n360:\tlearn: 0.1829141\ttotal: 8.14s\tremaining: 14.4s\n361:\tlearn: 0.1828066\ttotal: 8.16s\tremaining: 14.4s\n362:\tlearn: 0.1827150\ttotal: 8.2s\tremaining: 14.4s\n363:\tlearn: 0.1826006\ttotal: 8.23s\tremaining: 14.4s\n364:\tlearn: 0.1825181\ttotal: 8.26s\tremaining: 14.4s\n365:\tlearn: 0.1824130\ttotal: 8.28s\tremaining: 14.3s\n366:\tlearn: 0.1823277\ttotal: 8.29s\tremaining: 14.3s\n367:\tlearn: 0.1821799\ttotal: 8.31s\tremaining: 14.3s\n368:\tlearn: 0.1820921\ttotal: 8.32s\tremaining: 14.2s\n369:\tlearn: 0.1819499\ttotal: 8.33s\tremaining: 14.2s\n370:\tlearn: 0.1818353\ttotal: 8.34s\tremaining: 14.1s\n371:\tlearn: 0.1817489\ttotal: 8.35s\tremaining: 14.1s\n372:\tlearn: 0.1814855\ttotal: 8.36s\tremaining: 14.1s\n373:\tlearn: 0.1813731\ttotal: 8.38s\tremaining: 14s\n374:\tlearn: 0.1812940\ttotal: 8.39s\tremaining: 14s\n375:\tlearn: 0.1812028\ttotal: 8.4s\tremaining: 13.9s\n376:\tlearn: 0.1810629\ttotal: 8.41s\tremaining: 13.9s\n377:\tlearn: 0.1809631\ttotal: 8.43s\tremaining: 13.9s\n378:\tlearn: 0.1808264\ttotal: 8.44s\tremaining: 13.8s\n379:\tlearn: 0.1807400\ttotal: 8.46s\tremaining: 13.8s\n380:\tlearn: 0.1806550\ttotal: 8.48s\tremaining: 13.8s\n381:\tlearn: 0.1804789\ttotal: 8.51s\tremaining: 13.8s\n382:\tlearn: 0.1803892\ttotal: 8.53s\tremaining: 13.7s\n383:\tlearn: 0.1802947\ttotal: 8.55s\tremaining: 13.7s\n384:\tlearn: 0.1802227\ttotal: 8.62s\tremaining: 13.8s\n385:\tlearn: 0.1799769\ttotal: 8.65s\tremaining: 13.8s\n386:\tlearn: 0.1798732\ttotal: 8.67s\tremaining: 13.7s\n387:\tlearn: 0.1797742\ttotal: 8.71s\tremaining: 13.7s\n388:\tlearn: 0.1797236\ttotal: 8.73s\tremaining: 13.7s\n389:\tlearn: 0.1796212\ttotal: 8.76s\tremaining: 13.7s\n390:\tlearn: 0.1795065\ttotal: 8.79s\tremaining: 13.7s\n391:\tlearn: 0.1793613\ttotal: 8.81s\tremaining: 13.7s\n392:\tlearn: 0.1792903\ttotal: 8.84s\tremaining: 13.7s\n393:\tlearn: 0.1792071\ttotal: 8.87s\tremaining: 13.6s\n394:\tlearn: 0.1788837\ttotal: 8.89s\tremaining: 13.6s\n395:\tlearn: 0.1787847\ttotal: 8.92s\tremaining: 13.6s\n396:\tlearn: 0.1786873\ttotal: 8.95s\tremaining: 13.6s\n397:\tlearn: 0.1785354\ttotal: 8.98s\tremaining: 13.6s\n398:\tlearn: 0.1784541\ttotal: 9.01s\tremaining: 13.6s\n399:\tlearn: 0.1783254\ttotal: 9.04s\tremaining: 13.6s\n400:\tlearn: 0.1782235\ttotal: 9.06s\tremaining: 13.5s\n401:\tlearn: 0.1780750\ttotal: 9.07s\tremaining: 13.5s\n402:\tlearn: 0.1779509\ttotal: 9.1s\tremaining: 13.5s\n403:\tlearn: 0.1778406\ttotal: 9.11s\tremaining: 13.4s\n404:\tlearn: 0.1777552\ttotal: 9.12s\tremaining: 13.4s\n405:\tlearn: 0.1776978\ttotal: 9.13s\tremaining: 13.4s\n406:\tlearn: 0.1775913\ttotal: 9.15s\tremaining: 13.3s\n407:\tlearn: 0.1775043\ttotal: 9.16s\tremaining: 13.3s\n408:\tlearn: 0.1774225\ttotal: 9.18s\tremaining: 13.3s\n409:\tlearn: 0.1773287\ttotal: 9.2s\tremaining: 13.2s\n410:\tlearn: 0.1772477\ttotal: 9.23s\tremaining: 13.2s\n411:\tlearn: 0.1771588\ttotal: 9.26s\tremaining: 13.2s\n412:\tlearn: 0.1770151\ttotal: 9.29s\tremaining: 13.2s\n413:\tlearn: 0.1769037\ttotal: 9.31s\tremaining: 13.2s\n414:\tlearn: 0.1768029\ttotal: 9.34s\tremaining: 13.2s\n415:\tlearn: 0.1767072\ttotal: 9.37s\tremaining: 13.2s\n416:\tlearn: 0.1766423\ttotal: 9.4s\tremaining: 13.1s\n417:\tlearn: 0.1765027\ttotal: 9.43s\tremaining: 13.1s\n418:\tlearn: 0.1763895\ttotal: 9.45s\tremaining: 13.1s\n419:\tlearn: 0.1762726\ttotal: 9.48s\tremaining: 13.1s\n420:\tlearn: 0.1761633\ttotal: 9.51s\tremaining: 13.1s\n421:\tlearn: 0.1760327\ttotal: 9.53s\tremaining: 13.1s\n422:\tlearn: 0.1759561\ttotal: 9.56s\tremaining: 13s\n423:\tlearn: 0.1757679\ttotal: 9.59s\tremaining: 13s\n424:\tlearn: 0.1756564\ttotal: 9.62s\tremaining: 13s\n425:\tlearn: 0.1754389\ttotal: 9.65s\tremaining: 13s\n426:\tlearn: 0.1753463\ttotal: 9.68s\tremaining: 13s\n427:\tlearn: 0.1752473\ttotal: 9.71s\tremaining: 13s\n428:\tlearn: 0.1750967\ttotal: 9.75s\tremaining: 13s\n429:\tlearn: 0.1749700\ttotal: 9.78s\tremaining: 13s\n430:\tlearn: 0.1748351\ttotal: 9.82s\tremaining: 13s\n431:\tlearn: 0.1747358\ttotal: 9.84s\tremaining: 12.9s\n432:\tlearn: 0.1746587\ttotal: 9.86s\tremaining: 12.9s\n433:\tlearn: 0.1745564\ttotal: 9.87s\tremaining: 12.9s\n434:\tlearn: 0.1744586\ttotal: 9.88s\tremaining: 12.8s\n435:\tlearn: 0.1743770\ttotal: 9.9s\tremaining: 12.8s\n436:\tlearn: 0.1743009\ttotal: 9.91s\tremaining: 12.8s\n437:\tlearn: 0.1742277\ttotal: 9.93s\tremaining: 12.7s\n438:\tlearn: 0.1741049\ttotal: 9.94s\tremaining: 12.7s\n439:\tlearn: 0.1739820\ttotal: 9.95s\tremaining: 12.7s\n440:\tlearn: 0.1738750\ttotal: 9.96s\tremaining: 12.6s\n441:\tlearn: 0.1737979\ttotal: 9.98s\tremaining: 12.6s\n442:\tlearn: 0.1737212\ttotal: 9.99s\tremaining: 12.6s\n443:\tlearn: 0.1736276\ttotal: 10s\tremaining: 12.5s\n444:\tlearn: 0.1735400\ttotal: 10s\tremaining: 12.5s\n445:\tlearn: 0.1734105\ttotal: 10s\tremaining: 12.5s\n446:\tlearn: 0.1733172\ttotal: 10.1s\tremaining: 12.5s\n447:\tlearn: 0.1732251\ttotal: 10.1s\tremaining: 12.4s\n448:\tlearn: 0.1731327\ttotal: 10.1s\tremaining: 12.4s\n449:\tlearn: 0.1730375\ttotal: 10.2s\tremaining: 12.4s\n450:\tlearn: 0.1729199\ttotal: 10.2s\tremaining: 12.4s\n451:\tlearn: 0.1728559\ttotal: 10.2s\tremaining: 12.4s\n452:\tlearn: 0.1727774\ttotal: 10.2s\tremaining: 12.4s\n453:\tlearn: 0.1726716\ttotal: 10.3s\tremaining: 12.3s\n454:\tlearn: 0.1725978\ttotal: 10.3s\tremaining: 12.3s\n455:\tlearn: 0.1725270\ttotal: 10.3s\tremaining: 12.3s\n456:\tlearn: 0.1724540\ttotal: 10.4s\tremaining: 12.3s\n457:\tlearn: 0.1723857\ttotal: 10.4s\tremaining: 12.3s\n458:\tlearn: 0.1723101\ttotal: 10.4s\tremaining: 12.3s\n459:\tlearn: 0.1722120\ttotal: 10.5s\tremaining: 12.3s\n460:\tlearn: 0.1721618\ttotal: 10.5s\tremaining: 12.3s\n461:\tlearn: 0.1720829\ttotal: 10.5s\tremaining: 12.2s\n462:\tlearn: 0.1719664\ttotal: 10.6s\tremaining: 12.3s\n463:\tlearn: 0.1717931\ttotal: 10.6s\tremaining: 12.3s\n464:\tlearn: 0.1717043\ttotal: 10.7s\tremaining: 12.3s\n465:\tlearn: 0.1715890\ttotal: 10.7s\tremaining: 12.2s\n466:\tlearn: 0.1715080\ttotal: 10.7s\tremaining: 12.2s\n467:\tlearn: 0.1714207\ttotal: 10.7s\tremaining: 12.2s\n468:\tlearn: 0.1713356\ttotal: 10.7s\tremaining: 12.1s\n469:\tlearn: 0.1712486\ttotal: 10.7s\tremaining: 12.1s\n470:\tlearn: 0.1711459\ttotal: 10.7s\tremaining: 12.1s\n471:\tlearn: 0.1710565\ttotal: 10.8s\tremaining: 12s\n472:\tlearn: 0.1709477\ttotal: 10.8s\tremaining: 12s\n473:\tlearn: 0.1708813\ttotal: 10.8s\tremaining: 12s\n474:\tlearn: 0.1707781\ttotal: 10.8s\tremaining: 11.9s\n475:\tlearn: 0.1707111\ttotal: 10.8s\tremaining: 11.9s\n476:\tlearn: 0.1706628\ttotal: 10.8s\tremaining: 11.9s\n477:\tlearn: 0.1705367\ttotal: 10.8s\tremaining: 11.8s\n478:\tlearn: 0.1703934\ttotal: 10.9s\tremaining: 11.8s\n479:\tlearn: 0.1702723\ttotal: 10.9s\tremaining: 11.8s\n480:\tlearn: 0.1701826\ttotal: 10.9s\tremaining: 11.8s\n481:\tlearn: 0.1700842\ttotal: 10.9s\tremaining: 11.8s\n482:\tlearn: 0.1700130\ttotal: 11s\tremaining: 11.8s\n483:\tlearn: 0.1699498\ttotal: 11s\tremaining: 11.7s\n484:\tlearn: 0.1697715\ttotal: 11s\tremaining: 11.7s\n485:\tlearn: 0.1696492\ttotal: 11.1s\tremaining: 11.7s\n486:\tlearn: 0.1694906\ttotal: 11.1s\tremaining: 11.7s\n487:\tlearn: 0.1693347\ttotal: 11.1s\tremaining: 11.7s\n488:\tlearn: 0.1692506\ttotal: 11.2s\tremaining: 11.7s\n489:\tlearn: 0.1691351\ttotal: 11.2s\tremaining: 11.7s\n490:\tlearn: 0.1689714\ttotal: 11.3s\tremaining: 11.7s\n491:\tlearn: 0.1688559\ttotal: 11.3s\tremaining: 11.7s\n492:\tlearn: 0.1687854\ttotal: 11.3s\tremaining: 11.6s\n493:\tlearn: 0.1687062\ttotal: 11.4s\tremaining: 11.6s\n494:\tlearn: 0.1686353\ttotal: 11.4s\tremaining: 11.6s\n495:\tlearn: 0.1684797\ttotal: 11.4s\tremaining: 11.6s\n496:\tlearn: 0.1683243\ttotal: 11.4s\tremaining: 11.6s\n497:\tlearn: 0.1682590\ttotal: 11.4s\tremaining: 11.5s\n498:\tlearn: 0.1681355\ttotal: 11.4s\tremaining: 11.5s\n499:\tlearn: 0.1680890\ttotal: 11.4s\tremaining: 11.4s\n500:\tlearn: 0.1680008\ttotal: 11.5s\tremaining: 11.4s\n501:\tlearn: 0.1679249\ttotal: 11.5s\tremaining: 11.4s\n502:\tlearn: 0.1677899\ttotal: 11.5s\tremaining: 11.3s\n503:\tlearn: 0.1676821\ttotal: 11.5s\tremaining: 11.3s\n504:\tlearn: 0.1675318\ttotal: 11.5s\tremaining: 11.3s\n505:\tlearn: 0.1673863\ttotal: 11.5s\tremaining: 11.2s\n506:\tlearn: 0.1673047\ttotal: 11.5s\tremaining: 11.2s\n507:\tlearn: 0.1671898\ttotal: 11.5s\tremaining: 11.2s\n508:\tlearn: 0.1670987\ttotal: 11.5s\tremaining: 11.1s\n509:\tlearn: 0.1670175\ttotal: 11.6s\tremaining: 11.1s\n510:\tlearn: 0.1669788\ttotal: 11.6s\tremaining: 11.1s\n511:\tlearn: 0.1668344\ttotal: 11.6s\tremaining: 11s\n512:\tlearn: 0.1667442\ttotal: 11.6s\tremaining: 11s\n513:\tlearn: 0.1665907\ttotal: 11.6s\tremaining: 11s\n514:\tlearn: 0.1664734\ttotal: 11.6s\tremaining: 11s\n515:\tlearn: 0.1664175\ttotal: 11.7s\tremaining: 10.9s\n516:\tlearn: 0.1663396\ttotal: 11.7s\tremaining: 10.9s\n517:\tlearn: 0.1662545\ttotal: 11.7s\tremaining: 10.9s\n518:\tlearn: 0.1661859\ttotal: 11.7s\tremaining: 10.8s\n519:\tlearn: 0.1660418\ttotal: 11.7s\tremaining: 10.8s\n520:\tlearn: 0.1659946\ttotal: 11.7s\tremaining: 10.8s\n521:\tlearn: 0.1659567\ttotal: 11.8s\tremaining: 10.8s\n522:\tlearn: 0.1658647\ttotal: 11.8s\tremaining: 10.7s\n523:\tlearn: 0.1658216\ttotal: 11.8s\tremaining: 10.7s\n524:\tlearn: 0.1657215\ttotal: 11.8s\tremaining: 10.7s\n525:\tlearn: 0.1656923\ttotal: 11.9s\tremaining: 10.7s\n526:\tlearn: 0.1655512\ttotal: 11.9s\tremaining: 10.7s\n527:\tlearn: 0.1653530\ttotal: 11.9s\tremaining: 10.7s\n528:\tlearn: 0.1652350\ttotal: 12s\tremaining: 10.6s\n529:\tlearn: 0.1651518\ttotal: 12s\tremaining: 10.6s\n530:\tlearn: 0.1650556\ttotal: 12s\tremaining: 10.6s\n531:\tlearn: 0.1649420\ttotal: 12.1s\tremaining: 10.6s\n532:\tlearn: 0.1648681\ttotal: 12.1s\tremaining: 10.6s\n533:\tlearn: 0.1647952\ttotal: 12.2s\tremaining: 10.6s\n534:\tlearn: 0.1646767\ttotal: 12.2s\tremaining: 10.6s\n535:\tlearn: 0.1645176\ttotal: 12.3s\tremaining: 10.6s\n536:\tlearn: 0.1644834\ttotal: 12.3s\tremaining: 10.6s\n537:\tlearn: 0.1644373\ttotal: 12.3s\tremaining: 10.6s\n538:\tlearn: 0.1643703\ttotal: 12.3s\tremaining: 10.5s\n539:\tlearn: 0.1642079\ttotal: 12.3s\tremaining: 10.5s\n540:\tlearn: 0.1641338\ttotal: 12.3s\tremaining: 10.5s\n541:\tlearn: 0.1640627\ttotal: 12.4s\tremaining: 10.4s\n542:\tlearn: 0.1639930\ttotal: 12.4s\tremaining: 10.4s\n543:\tlearn: 0.1639097\ttotal: 12.4s\tremaining: 10.4s\n544:\tlearn: 0.1638331\ttotal: 12.4s\tremaining: 10.3s\n545:\tlearn: 0.1637533\ttotal: 12.4s\tremaining: 10.3s\n546:\tlearn: 0.1635963\ttotal: 12.4s\tremaining: 10.3s\n547:\tlearn: 0.1634765\ttotal: 12.4s\tremaining: 10.3s\n548:\tlearn: 0.1634098\ttotal: 12.5s\tremaining: 10.2s\n549:\tlearn: 0.1633456\ttotal: 12.5s\tremaining: 10.2s\n550:\tlearn: 0.1632717\ttotal: 12.5s\tremaining: 10.2s\n551:\tlearn: 0.1631645\ttotal: 12.5s\tremaining: 10.2s\n552:\tlearn: 0.1630490\ttotal: 12.6s\tremaining: 10.2s\n553:\tlearn: 0.1629880\ttotal: 12.6s\tremaining: 10.1s\n554:\tlearn: 0.1629271\ttotal: 12.6s\tremaining: 10.1s\n555:\tlearn: 0.1628067\ttotal: 12.6s\tremaining: 10.1s\n556:\tlearn: 0.1627325\ttotal: 12.7s\tremaining: 10.1s\n557:\tlearn: 0.1626281\ttotal: 12.7s\tremaining: 10.1s\n558:\tlearn: 0.1625319\ttotal: 12.8s\tremaining: 10.1s\n559:\tlearn: 0.1623730\ttotal: 12.8s\tremaining: 10.1s\n560:\tlearn: 0.1623096\ttotal: 12.9s\tremaining: 10.1s\n561:\tlearn: 0.1621191\ttotal: 12.9s\tremaining: 10.1s\n562:\tlearn: 0.1619797\ttotal: 13s\tremaining: 10.1s\n563:\tlearn: 0.1619212\ttotal: 13s\tremaining: 10.1s\n564:\tlearn: 0.1618300\ttotal: 13s\tremaining: 10s\n565:\tlearn: 0.1616967\ttotal: 13.1s\tremaining: 10s\n566:\tlearn: 0.1616056\ttotal: 13.1s\tremaining: 10s\n567:\tlearn: 0.1615587\ttotal: 13.1s\tremaining: 9.97s\n568:\tlearn: 0.1614967\ttotal: 13.2s\tremaining: 9.96s\n569:\tlearn: 0.1613813\ttotal: 13.2s\tremaining: 9.95s\n570:\tlearn: 0.1613039\ttotal: 13.2s\tremaining: 9.93s\n571:\tlearn: 0.1612370\ttotal: 13.2s\tremaining: 9.91s\n572:\tlearn: 0.1611261\ttotal: 13.3s\tremaining: 9.89s\n573:\tlearn: 0.1610689\ttotal: 13.3s\tremaining: 9.87s\n574:\tlearn: 0.1609645\ttotal: 13.3s\tremaining: 9.85s\n575:\tlearn: 0.1608356\ttotal: 13.4s\tremaining: 9.85s\n576:\tlearn: 0.1607204\ttotal: 13.4s\tremaining: 9.83s\n577:\tlearn: 0.1606416\ttotal: 13.4s\tremaining: 9.81s\n578:\tlearn: 0.1605574\ttotal: 13.5s\tremaining: 9.79s\n579:\tlearn: 0.1604980\ttotal: 13.5s\tremaining: 9.77s\n580:\tlearn: 0.1603958\ttotal: 13.5s\tremaining: 9.75s\n581:\tlearn: 0.1602915\ttotal: 13.6s\tremaining: 9.73s\n582:\tlearn: 0.1602360\ttotal: 13.6s\tremaining: 9.71s\n583:\tlearn: 0.1601534\ttotal: 13.6s\tremaining: 9.7s\n584:\tlearn: 0.1600498\ttotal: 13.6s\tremaining: 9.68s\n585:\tlearn: 0.1599454\ttotal: 13.7s\tremaining: 9.65s\n586:\tlearn: 0.1598057\ttotal: 13.7s\tremaining: 9.64s\n587:\tlearn: 0.1597312\ttotal: 13.7s\tremaining: 9.62s\n588:\tlearn: 0.1596783\ttotal: 13.8s\tremaining: 9.61s\n589:\tlearn: 0.1596252\ttotal: 13.8s\tremaining: 9.58s\n590:\tlearn: 0.1595716\ttotal: 13.8s\tremaining: 9.56s\n591:\tlearn: 0.1594960\ttotal: 13.8s\tremaining: 9.53s\n592:\tlearn: 0.1593947\ttotal: 13.8s\tremaining: 9.5s\n593:\tlearn: 0.1593086\ttotal: 13.9s\tremaining: 9.47s\n594:\tlearn: 0.1591928\ttotal: 13.9s\tremaining: 9.44s\n595:\tlearn: 0.1591227\ttotal: 13.9s\tremaining: 9.41s\n596:\tlearn: 0.1590239\ttotal: 13.9s\tremaining: 9.38s\n597:\tlearn: 0.1588704\ttotal: 13.9s\tremaining: 9.35s\n598:\tlearn: 0.1587149\ttotal: 13.9s\tremaining: 9.32s\n599:\tlearn: 0.1585969\ttotal: 13.9s\tremaining: 9.29s\n600:\tlearn: 0.1585183\ttotal: 13.9s\tremaining: 9.26s\n601:\tlearn: 0.1583740\ttotal: 14s\tremaining: 9.22s\n602:\tlearn: 0.1582952\ttotal: 14s\tremaining: 9.2s\n603:\tlearn: 0.1581999\ttotal: 14s\tremaining: 9.16s\n604:\tlearn: 0.1581556\ttotal: 14s\tremaining: 9.13s\n605:\tlearn: 0.1580525\ttotal: 14s\tremaining: 9.1s\n606:\tlearn: 0.1579767\ttotal: 14s\tremaining: 9.07s\n607:\tlearn: 0.1579175\ttotal: 14s\tremaining: 9.04s\n608:\tlearn: 0.1577957\ttotal: 14s\tremaining: 9.02s\n609:\tlearn: 0.1577305\ttotal: 14.1s\tremaining: 8.99s\n610:\tlearn: 0.1575915\ttotal: 14.1s\tremaining: 8.96s\n611:\tlearn: 0.1575143\ttotal: 14.1s\tremaining: 8.94s\n612:\tlearn: 0.1574584\ttotal: 14.1s\tremaining: 8.92s\n613:\tlearn: 0.1573668\ttotal: 14.2s\tremaining: 8.9s\n614:\tlearn: 0.1573064\ttotal: 14.2s\tremaining: 8.88s\n615:\tlearn: 0.1572325\ttotal: 14.2s\tremaining: 8.86s\n616:\tlearn: 0.1571509\ttotal: 14.2s\tremaining: 8.84s\n617:\tlearn: 0.1570793\ttotal: 14.3s\tremaining: 8.81s\n618:\tlearn: 0.1570171\ttotal: 14.3s\tremaining: 8.8s\n619:\tlearn: 0.1569620\ttotal: 14.3s\tremaining: 8.77s\n620:\tlearn: 0.1568598\ttotal: 14.3s\tremaining: 8.76s\n621:\tlearn: 0.1567602\ttotal: 14.4s\tremaining: 8.75s\n622:\tlearn: 0.1566243\ttotal: 14.5s\tremaining: 8.76s\n623:\tlearn: 0.1565509\ttotal: 14.5s\tremaining: 8.74s\n624:\tlearn: 0.1565272\ttotal: 14.6s\tremaining: 8.74s\n625:\tlearn: 0.1564456\ttotal: 14.6s\tremaining: 8.74s\n626:\tlearn: 0.1563830\ttotal: 14.7s\tremaining: 8.72s\n627:\tlearn: 0.1563016\ttotal: 14.7s\tremaining: 8.71s\n628:\tlearn: 0.1562220\ttotal: 14.7s\tremaining: 8.69s\n629:\tlearn: 0.1560969\ttotal: 14.8s\tremaining: 8.68s\n630:\tlearn: 0.1560511\ttotal: 14.8s\tremaining: 8.66s\n631:\tlearn: 0.1560217\ttotal: 14.8s\tremaining: 8.64s\n632:\tlearn: 0.1559011\ttotal: 14.9s\tremaining: 8.61s\n633:\tlearn: 0.1558117\ttotal: 14.9s\tremaining: 8.59s\n634:\tlearn: 0.1557529\ttotal: 14.9s\tremaining: 8.58s\n635:\tlearn: 0.1557033\ttotal: 15s\tremaining: 8.56s\n636:\tlearn: 0.1556269\ttotal: 15s\tremaining: 8.54s\n637:\tlearn: 0.1555755\ttotal: 15s\tremaining: 8.53s\n638:\tlearn: 0.1554791\ttotal: 15.1s\tremaining: 8.5s\n639:\tlearn: 0.1554439\ttotal: 15.1s\tremaining: 8.48s\n640:\tlearn: 0.1553740\ttotal: 15.1s\tremaining: 8.46s\n641:\tlearn: 0.1553078\ttotal: 15.2s\tremaining: 8.46s\n642:\tlearn: 0.1551777\ttotal: 15.2s\tremaining: 8.44s\n643:\tlearn: 0.1550669\ttotal: 15.2s\tremaining: 8.41s\n644:\tlearn: 0.1549637\ttotal: 15.2s\tremaining: 8.39s\n645:\tlearn: 0.1549108\ttotal: 15.3s\tremaining: 8.37s\n646:\tlearn: 0.1548504\ttotal: 15.3s\tremaining: 8.35s\n647:\tlearn: 0.1547765\ttotal: 15.3s\tremaining: 8.32s\n648:\tlearn: 0.1547167\ttotal: 15.3s\tremaining: 8.3s\n649:\tlearn: 0.1546638\ttotal: 15.4s\tremaining: 8.28s\n650:\tlearn: 0.1545888\ttotal: 15.4s\tremaining: 8.26s\n651:\tlearn: 0.1545111\ttotal: 15.4s\tremaining: 8.24s\n652:\tlearn: 0.1544335\ttotal: 15.5s\tremaining: 8.21s\n653:\tlearn: 0.1543562\ttotal: 15.5s\tremaining: 8.18s\n654:\tlearn: 0.1542908\ttotal: 15.5s\tremaining: 8.15s\n655:\tlearn: 0.1542415\ttotal: 15.5s\tremaining: 8.12s\n656:\tlearn: 0.1541436\ttotal: 15.5s\tremaining: 8.09s\n657:\tlearn: 0.1540491\ttotal: 15.5s\tremaining: 8.06s\n658:\tlearn: 0.1539755\ttotal: 15.5s\tremaining: 8.03s\n659:\tlearn: 0.1538366\ttotal: 15.5s\tremaining: 8s\n660:\tlearn: 0.1537909\ttotal: 15.6s\tremaining: 7.97s\n661:\tlearn: 0.1536849\ttotal: 15.6s\tremaining: 7.95s\n662:\tlearn: 0.1535851\ttotal: 15.6s\tremaining: 7.92s\n663:\tlearn: 0.1535085\ttotal: 15.6s\tremaining: 7.88s\n664:\tlearn: 0.1534104\ttotal: 15.6s\tremaining: 7.86s\n665:\tlearn: 0.1533397\ttotal: 15.6s\tremaining: 7.83s\n666:\tlearn: 0.1532394\ttotal: 15.6s\tremaining: 7.8s\n667:\tlearn: 0.1531857\ttotal: 15.6s\tremaining: 7.77s\n668:\tlearn: 0.1531157\ttotal: 15.6s\tremaining: 7.74s\n669:\tlearn: 0.1530505\ttotal: 15.7s\tremaining: 7.71s\n670:\tlearn: 0.1529428\ttotal: 15.7s\tremaining: 7.69s\n671:\tlearn: 0.1528545\ttotal: 15.7s\tremaining: 7.66s\n672:\tlearn: 0.1527846\ttotal: 15.7s\tremaining: 7.64s\n673:\tlearn: 0.1526996\ttotal: 15.8s\tremaining: 7.62s\n674:\tlearn: 0.1526187\ttotal: 15.8s\tremaining: 7.6s\n675:\tlearn: 0.1525231\ttotal: 15.8s\tremaining: 7.58s\n676:\tlearn: 0.1524719\ttotal: 15.8s\tremaining: 7.55s\n677:\tlearn: 0.1524346\ttotal: 15.9s\tremaining: 7.54s\n678:\tlearn: 0.1523052\ttotal: 15.9s\tremaining: 7.52s\n679:\tlearn: 0.1522112\ttotal: 15.9s\tremaining: 7.5s\n680:\tlearn: 0.1521221\ttotal: 16s\tremaining: 7.49s\n681:\tlearn: 0.1520500\ttotal: 16s\tremaining: 7.47s\n682:\tlearn: 0.1519857\ttotal: 16.1s\tremaining: 7.46s\n683:\tlearn: 0.1519189\ttotal: 16.1s\tremaining: 7.45s\n684:\tlearn: 0.1518209\ttotal: 16.2s\tremaining: 7.43s\n685:\tlearn: 0.1517033\ttotal: 16.2s\tremaining: 7.42s\n686:\tlearn: 0.1516331\ttotal: 16.3s\tremaining: 7.41s\n687:\tlearn: 0.1515594\ttotal: 16.3s\tremaining: 7.39s\n688:\tlearn: 0.1515005\ttotal: 16.3s\tremaining: 7.37s\n689:\tlearn: 0.1514429\ttotal: 16.3s\tremaining: 7.34s\n690:\tlearn: 0.1513065\ttotal: 16.4s\tremaining: 7.32s\n691:\tlearn: 0.1512287\ttotal: 16.4s\tremaining: 7.3s\n692:\tlearn: 0.1511331\ttotal: 16.4s\tremaining: 7.27s\n693:\tlearn: 0.1510376\ttotal: 16.4s\tremaining: 7.24s\n694:\tlearn: 0.1509500\ttotal: 16.4s\tremaining: 7.21s\n695:\tlearn: 0.1508751\ttotal: 16.4s\tremaining: 7.18s\n696:\tlearn: 0.1508051\ttotal: 16.5s\tremaining: 7.15s\n697:\tlearn: 0.1507604\ttotal: 16.5s\tremaining: 7.13s\n698:\tlearn: 0.1506704\ttotal: 16.5s\tremaining: 7.1s\n699:\tlearn: 0.1505341\ttotal: 16.5s\tremaining: 7.07s\n700:\tlearn: 0.1504764\ttotal: 16.5s\tremaining: 7.05s\n701:\tlearn: 0.1503898\ttotal: 16.6s\tremaining: 7.03s\n702:\tlearn: 0.1503196\ttotal: 16.6s\tremaining: 7.01s\n703:\tlearn: 0.1502499\ttotal: 16.6s\tremaining: 6.98s\n704:\tlearn: 0.1501914\ttotal: 16.6s\tremaining: 6.96s\n705:\tlearn: 0.1500816\ttotal: 16.7s\tremaining: 6.95s\n706:\tlearn: 0.1500183\ttotal: 16.7s\tremaining: 6.93s\n707:\tlearn: 0.1499173\ttotal: 16.7s\tremaining: 6.9s\n708:\tlearn: 0.1498313\ttotal: 16.8s\tremaining: 6.88s\n709:\tlearn: 0.1497636\ttotal: 16.8s\tremaining: 6.86s\n710:\tlearn: 0.1496781\ttotal: 16.8s\tremaining: 6.83s\n711:\tlearn: 0.1495947\ttotal: 16.8s\tremaining: 6.81s\n712:\tlearn: 0.1495203\ttotal: 16.9s\tremaining: 6.79s\n713:\tlearn: 0.1494900\ttotal: 16.9s\tremaining: 6.77s\n714:\tlearn: 0.1493902\ttotal: 16.9s\tremaining: 6.75s\n715:\tlearn: 0.1492992\ttotal: 17s\tremaining: 6.73s\n716:\tlearn: 0.1492701\ttotal: 17s\tremaining: 6.71s\n717:\tlearn: 0.1491965\ttotal: 17s\tremaining: 6.68s\n718:\tlearn: 0.1491021\ttotal: 17s\tremaining: 6.66s\n719:\tlearn: 0.1490329\ttotal: 17.1s\tremaining: 6.64s\n720:\tlearn: 0.1489687\ttotal: 17.1s\tremaining: 6.61s\n721:\tlearn: 0.1489104\ttotal: 17.1s\tremaining: 6.58s\n722:\tlearn: 0.1488438\ttotal: 17.1s\tremaining: 6.55s\n723:\tlearn: 0.1487772\ttotal: 17.1s\tremaining: 6.53s\n724:\tlearn: 0.1486603\ttotal: 17.1s\tremaining: 6.5s\n725:\tlearn: 0.1485841\ttotal: 17.1s\tremaining: 6.47s\n726:\tlearn: 0.1484811\ttotal: 17.2s\tremaining: 6.45s\n727:\tlearn: 0.1483670\ttotal: 17.2s\tremaining: 6.42s\n728:\tlearn: 0.1482404\ttotal: 17.2s\tremaining: 6.39s\n729:\tlearn: 0.1481753\ttotal: 17.2s\tremaining: 6.37s\n730:\tlearn: 0.1480480\ttotal: 17.2s\tremaining: 6.34s\n731:\tlearn: 0.1479744\ttotal: 17.2s\tremaining: 6.31s\n732:\tlearn: 0.1478930\ttotal: 17.3s\tremaining: 6.28s\n733:\tlearn: 0.1478622\ttotal: 17.3s\tremaining: 6.25s\n734:\tlearn: 0.1477937\ttotal: 17.3s\tremaining: 6.23s\n735:\tlearn: 0.1477279\ttotal: 17.3s\tremaining: 6.2s\n736:\tlearn: 0.1476617\ttotal: 17.3s\tremaining: 6.17s\n737:\tlearn: 0.1475778\ttotal: 17.3s\tremaining: 6.14s\n738:\tlearn: 0.1474497\ttotal: 17.3s\tremaining: 6.12s\n739:\tlearn: 0.1473893\ttotal: 17.3s\tremaining: 6.09s\n740:\tlearn: 0.1473296\ttotal: 17.4s\tremaining: 6.06s\n741:\tlearn: 0.1472381\ttotal: 17.4s\tremaining: 6.04s\n742:\tlearn: 0.1471651\ttotal: 17.4s\tremaining: 6.01s\n743:\tlearn: 0.1471120\ttotal: 17.4s\tremaining: 5.98s\n744:\tlearn: 0.1469973\ttotal: 17.4s\tremaining: 5.96s\n745:\tlearn: 0.1469380\ttotal: 17.4s\tremaining: 5.93s\n746:\tlearn: 0.1468815\ttotal: 17.5s\tremaining: 5.91s\n747:\tlearn: 0.1468221\ttotal: 17.5s\tremaining: 5.89s\n748:\tlearn: 0.1467164\ttotal: 17.5s\tremaining: 5.87s\n749:\tlearn: 0.1466510\ttotal: 17.5s\tremaining: 5.84s\n750:\tlearn: 0.1466383\ttotal: 17.6s\tremaining: 5.82s\n751:\tlearn: 0.1465505\ttotal: 17.6s\tremaining: 5.8s\n752:\tlearn: 0.1464907\ttotal: 17.6s\tremaining: 5.78s\n753:\tlearn: 0.1464057\ttotal: 17.7s\tremaining: 5.76s\n754:\tlearn: 0.1463592\ttotal: 17.7s\tremaining: 5.74s\n755:\tlearn: 0.1462673\ttotal: 17.7s\tremaining: 5.72s\n756:\tlearn: 0.1461991\ttotal: 17.8s\tremaining: 5.7s\n757:\tlearn: 0.1461389\ttotal: 17.8s\tremaining: 5.68s\n758:\tlearn: 0.1460675\ttotal: 17.8s\tremaining: 5.66s\n759:\tlearn: 0.1459992\ttotal: 17.8s\tremaining: 5.63s\n760:\tlearn: 0.1459257\ttotal: 17.9s\tremaining: 5.61s\n761:\tlearn: 0.1458767\ttotal: 17.9s\tremaining: 5.59s\n762:\tlearn: 0.1457698\ttotal: 17.9s\tremaining: 5.56s\n763:\tlearn: 0.1457301\ttotal: 17.9s\tremaining: 5.54s\n764:\tlearn: 0.1456649\ttotal: 17.9s\tremaining: 5.51s\n765:\tlearn: 0.1456092\ttotal: 17.9s\tremaining: 5.48s\n766:\tlearn: 0.1454871\ttotal: 18s\tremaining: 5.46s\n767:\tlearn: 0.1454478\ttotal: 18s\tremaining: 5.43s\n768:\tlearn: 0.1453869\ttotal: 18s\tremaining: 5.4s\n769:\tlearn: 0.1452929\ttotal: 18s\tremaining: 5.38s\n770:\tlearn: 0.1452042\ttotal: 18s\tremaining: 5.35s\n771:\tlearn: 0.1451138\ttotal: 18s\tremaining: 5.32s\n772:\tlearn: 0.1450373\ttotal: 18s\tremaining: 5.3s\n773:\tlearn: 0.1450217\ttotal: 18.1s\tremaining: 5.27s\n774:\tlearn: 0.1449683\ttotal: 18.1s\tremaining: 5.24s\n775:\tlearn: 0.1448829\ttotal: 18.1s\tremaining: 5.22s\n776:\tlearn: 0.1448066\ttotal: 18.1s\tremaining: 5.19s\n777:\tlearn: 0.1447570\ttotal: 18.1s\tremaining: 5.17s\n778:\tlearn: 0.1447017\ttotal: 18.1s\tremaining: 5.14s\n779:\tlearn: 0.1446170\ttotal: 18.1s\tremaining: 5.11s\n780:\tlearn: 0.1445209\ttotal: 18.1s\tremaining: 5.09s\n781:\tlearn: 0.1444831\ttotal: 18.2s\tremaining: 5.06s\n782:\tlearn: 0.1443908\ttotal: 18.2s\tremaining: 5.04s\n783:\tlearn: 0.1443433\ttotal: 18.2s\tremaining: 5.01s\n784:\tlearn: 0.1442873\ttotal: 18.2s\tremaining: 4.99s\n785:\tlearn: 0.1442509\ttotal: 18.3s\tremaining: 4.97s\n786:\tlearn: 0.1441992\ttotal: 18.3s\tremaining: 4.95s\n787:\tlearn: 0.1441103\ttotal: 18.3s\tremaining: 4.92s\n788:\tlearn: 0.1439948\ttotal: 18.3s\tremaining: 4.9s\n789:\tlearn: 0.1439527\ttotal: 18.4s\tremaining: 4.88s\n790:\tlearn: 0.1439067\ttotal: 18.4s\tremaining: 4.86s\n791:\tlearn: 0.1438289\ttotal: 18.4s\tremaining: 4.84s\n792:\tlearn: 0.1437343\ttotal: 18.5s\tremaining: 4.82s\n793:\tlearn: 0.1436721\ttotal: 18.5s\tremaining: 4.8s\n794:\tlearn: 0.1436214\ttotal: 18.5s\tremaining: 4.78s\n795:\tlearn: 0.1435595\ttotal: 18.5s\tremaining: 4.75s\n796:\tlearn: 0.1434886\ttotal: 18.6s\tremaining: 4.73s\n797:\tlearn: 0.1434252\ttotal: 18.6s\tremaining: 4.71s\n798:\tlearn: 0.1433886\ttotal: 18.6s\tremaining: 4.69s\n799:\tlearn: 0.1433075\ttotal: 18.7s\tremaining: 4.66s\n800:\tlearn: 0.1432787\ttotal: 18.7s\tremaining: 4.64s\n801:\tlearn: 0.1431947\ttotal: 18.7s\tremaining: 4.62s\n802:\tlearn: 0.1431270\ttotal: 18.7s\tremaining: 4.59s\n803:\tlearn: 0.1430611\ttotal: 18.7s\tremaining: 4.56s\n804:\tlearn: 0.1430036\ttotal: 18.7s\tremaining: 4.54s\n805:\tlearn: 0.1429691\ttotal: 18.7s\tremaining: 4.51s\n806:\tlearn: 0.1428815\ttotal: 18.7s\tremaining: 4.48s\n807:\tlearn: 0.1428509\ttotal: 18.7s\tremaining: 4.46s\n808:\tlearn: 0.1428017\ttotal: 18.8s\tremaining: 4.43s\n809:\tlearn: 0.1427281\ttotal: 18.8s\tremaining: 4.4s\n810:\tlearn: 0.1426745\ttotal: 18.8s\tremaining: 4.37s\n811:\tlearn: 0.1425912\ttotal: 18.8s\tremaining: 4.35s\n812:\tlearn: 0.1425244\ttotal: 18.8s\tremaining: 4.32s\n813:\tlearn: 0.1424301\ttotal: 18.8s\tremaining: 4.3s\n814:\tlearn: 0.1423457\ttotal: 18.8s\tremaining: 4.27s\n815:\tlearn: 0.1422728\ttotal: 18.8s\tremaining: 4.24s\n816:\tlearn: 0.1421711\ttotal: 18.8s\tremaining: 4.22s\n817:\tlearn: 0.1420804\ttotal: 18.8s\tremaining: 4.19s\n818:\tlearn: 0.1420298\ttotal: 18.9s\tremaining: 4.17s\n819:\tlearn: 0.1419372\ttotal: 18.9s\tremaining: 4.14s\n820:\tlearn: 0.1418868\ttotal: 18.9s\tremaining: 4.12s\n821:\tlearn: 0.1418075\ttotal: 18.9s\tremaining: 4.09s\n822:\tlearn: 0.1417745\ttotal: 18.9s\tremaining: 4.06s\n823:\tlearn: 0.1417143\ttotal: 18.9s\tremaining: 4.04s\n824:\tlearn: 0.1416325\ttotal: 18.9s\tremaining: 4.01s\n825:\tlearn: 0.1415881\ttotal: 18.9s\tremaining: 3.99s\n826:\tlearn: 0.1415027\ttotal: 18.9s\tremaining: 3.96s\n827:\tlearn: 0.1414687\ttotal: 19s\tremaining: 3.94s\n828:\tlearn: 0.1413961\ttotal: 19s\tremaining: 3.91s\n829:\tlearn: 0.1413068\ttotal: 19s\tremaining: 3.89s\n830:\tlearn: 0.1412158\ttotal: 19s\tremaining: 3.87s\n831:\tlearn: 0.1411393\ttotal: 19s\tremaining: 3.85s\n832:\tlearn: 0.1410871\ttotal: 19.1s\tremaining: 3.82s\n833:\tlearn: 0.1410474\ttotal: 19.1s\tremaining: 3.8s\n834:\tlearn: 0.1410033\ttotal: 19.1s\tremaining: 3.78s\n835:\tlearn: 0.1409227\ttotal: 19.2s\tremaining: 3.76s\n836:\tlearn: 0.1408090\ttotal: 19.2s\tremaining: 3.74s\n837:\tlearn: 0.1407131\ttotal: 19.2s\tremaining: 3.72s\n838:\tlearn: 0.1406697\ttotal: 19.3s\tremaining: 3.69s\n839:\tlearn: 0.1405990\ttotal: 19.3s\tremaining: 3.67s\n840:\tlearn: 0.1405743\ttotal: 19.3s\tremaining: 3.65s\n841:\tlearn: 0.1404999\ttotal: 19.4s\tremaining: 3.63s\n842:\tlearn: 0.1404531\ttotal: 19.4s\tremaining: 3.61s\n843:\tlearn: 0.1403689\ttotal: 19.4s\tremaining: 3.59s\n844:\tlearn: 0.1402717\ttotal: 19.5s\tremaining: 3.57s\n845:\tlearn: 0.1402043\ttotal: 19.5s\tremaining: 3.54s\n846:\tlearn: 0.1401440\ttotal: 19.5s\tremaining: 3.52s\n847:\tlearn: 0.1400807\ttotal: 19.5s\tremaining: 3.5s\n848:\tlearn: 0.1400516\ttotal: 19.5s\tremaining: 3.48s\n849:\tlearn: 0.1399724\ttotal: 19.6s\tremaining: 3.45s\n850:\tlearn: 0.1399137\ttotal: 19.6s\tremaining: 3.43s\n851:\tlearn: 0.1398921\ttotal: 19.6s\tremaining: 3.4s\n852:\tlearn: 0.1398347\ttotal: 19.6s\tremaining: 3.38s\n853:\tlearn: 0.1397609\ttotal: 19.6s\tremaining: 3.35s\n854:\tlearn: 0.1396846\ttotal: 19.6s\tremaining: 3.33s\n855:\tlearn: 0.1396342\ttotal: 19.7s\tremaining: 3.31s\n856:\tlearn: 0.1395776\ttotal: 19.7s\tremaining: 3.28s\n857:\tlearn: 0.1394437\ttotal: 19.7s\tremaining: 3.26s\n858:\tlearn: 0.1394040\ttotal: 19.7s\tremaining: 3.23s\n859:\tlearn: 0.1393178\ttotal: 19.7s\tremaining: 3.21s\n860:\tlearn: 0.1392710\ttotal: 19.8s\tremaining: 3.19s\n861:\tlearn: 0.1392315\ttotal: 19.8s\tremaining: 3.17s\n862:\tlearn: 0.1391713\ttotal: 19.8s\tremaining: 3.14s\n863:\tlearn: 0.1391024\ttotal: 19.8s\tremaining: 3.12s\n864:\tlearn: 0.1390553\ttotal: 19.9s\tremaining: 3.1s\n865:\tlearn: 0.1389846\ttotal: 19.9s\tremaining: 3.08s\n866:\tlearn: 0.1389186\ttotal: 19.9s\tremaining: 3.06s\n867:\tlearn: 0.1388506\ttotal: 20s\tremaining: 3.03s\n868:\tlearn: 0.1387805\ttotal: 20s\tremaining: 3.01s\n869:\tlearn: 0.1386896\ttotal: 20s\tremaining: 2.99s\n870:\tlearn: 0.1386202\ttotal: 20s\tremaining: 2.97s\n871:\tlearn: 0.1385808\ttotal: 20.1s\tremaining: 2.94s\n872:\tlearn: 0.1384962\ttotal: 20.1s\tremaining: 2.92s\n873:\tlearn: 0.1384106\ttotal: 20.1s\tremaining: 2.9s\n874:\tlearn: 0.1383444\ttotal: 20.2s\tremaining: 2.88s\n875:\tlearn: 0.1383343\ttotal: 20.2s\tremaining: 2.86s\n876:\tlearn: 0.1382894\ttotal: 20.3s\tremaining: 2.84s\n877:\tlearn: 0.1382052\ttotal: 20.3s\tremaining: 2.82s\n878:\tlearn: 0.1381232\ttotal: 20.4s\tremaining: 2.8s\n879:\tlearn: 0.1380631\ttotal: 20.4s\tremaining: 2.78s\n880:\tlearn: 0.1379669\ttotal: 20.4s\tremaining: 2.75s\n881:\tlearn: 0.1379212\ttotal: 20.4s\tremaining: 2.73s\n882:\tlearn: 0.1378565\ttotal: 20.4s\tremaining: 2.7s\n883:\tlearn: 0.1377784\ttotal: 20.4s\tremaining: 2.68s\n884:\tlearn: 0.1377411\ttotal: 20.4s\tremaining: 2.65s\n885:\tlearn: 0.1376597\ttotal: 20.4s\tremaining: 2.63s\n886:\tlearn: 0.1376344\ttotal: 20.4s\tremaining: 2.6s\n887:\tlearn: 0.1375825\ttotal: 20.5s\tremaining: 2.58s\n888:\tlearn: 0.1375446\ttotal: 20.5s\tremaining: 2.56s\n889:\tlearn: 0.1374371\ttotal: 20.5s\tremaining: 2.53s\n890:\tlearn: 0.1373917\ttotal: 20.5s\tremaining: 2.51s\n891:\tlearn: 0.1373297\ttotal: 20.5s\tremaining: 2.48s\n892:\tlearn: 0.1372723\ttotal: 20.5s\tremaining: 2.46s\n893:\tlearn: 0.1371951\ttotal: 20.5s\tremaining: 2.43s\n894:\tlearn: 0.1371116\ttotal: 20.5s\tremaining: 2.41s\n895:\tlearn: 0.1370369\ttotal: 20.6s\tremaining: 2.38s\n896:\tlearn: 0.1369887\ttotal: 20.6s\tremaining: 2.36s\n897:\tlearn: 0.1368174\ttotal: 20.6s\tremaining: 2.34s\n898:\tlearn: 0.1368039\ttotal: 20.6s\tremaining: 2.31s\n899:\tlearn: 0.1367489\ttotal: 20.6s\tremaining: 2.29s\n900:\tlearn: 0.1366998\ttotal: 20.6s\tremaining: 2.27s\n901:\tlearn: 0.1366109\ttotal: 20.7s\tremaining: 2.24s\n902:\tlearn: 0.1365691\ttotal: 20.7s\tremaining: 2.22s\n903:\tlearn: 0.1365129\ttotal: 20.7s\tremaining: 2.2s\n904:\tlearn: 0.1364303\ttotal: 20.7s\tremaining: 2.18s\n905:\tlearn: 0.1363899\ttotal: 20.8s\tremaining: 2.15s\n906:\tlearn: 0.1363275\ttotal: 20.8s\tremaining: 2.13s\n907:\tlearn: 0.1362690\ttotal: 20.8s\tremaining: 2.11s\n908:\tlearn: 0.1362396\ttotal: 20.8s\tremaining: 2.09s\n909:\tlearn: 0.1361616\ttotal: 20.9s\tremaining: 2.06s\n910:\tlearn: 0.1361276\ttotal: 20.9s\tremaining: 2.04s\n911:\tlearn: 0.1360875\ttotal: 20.9s\tremaining: 2.02s\n912:\tlearn: 0.1359801\ttotal: 21s\tremaining: 2s\n913:\tlearn: 0.1358996\ttotal: 21s\tremaining: 1.97s\n914:\tlearn: 0.1358537\ttotal: 21s\tremaining: 1.95s\n915:\tlearn: 0.1358138\ttotal: 21s\tremaining: 1.93s\n916:\tlearn: 0.1357343\ttotal: 21.1s\tremaining: 1.91s\n917:\tlearn: 0.1356615\ttotal: 21.1s\tremaining: 1.88s\n918:\tlearn: 0.1356159\ttotal: 21.1s\tremaining: 1.86s\n919:\tlearn: 0.1355617\ttotal: 21.1s\tremaining: 1.84s\n920:\tlearn: 0.1354874\ttotal: 21.2s\tremaining: 1.82s\n921:\tlearn: 0.1354413\ttotal: 21.2s\tremaining: 1.79s\n922:\tlearn: 0.1353595\ttotal: 21.2s\tremaining: 1.77s\n923:\tlearn: 0.1353203\ttotal: 21.2s\tremaining: 1.75s\n924:\tlearn: 0.1352812\ttotal: 21.3s\tremaining: 1.72s\n925:\tlearn: 0.1352465\ttotal: 21.3s\tremaining: 1.7s\n926:\tlearn: 0.1351831\ttotal: 21.3s\tremaining: 1.68s\n927:\tlearn: 0.1351007\ttotal: 21.3s\tremaining: 1.65s\n928:\tlearn: 0.1350381\ttotal: 21.3s\tremaining: 1.63s\n929:\tlearn: 0.1349787\ttotal: 21.3s\tremaining: 1.6s\n930:\tlearn: 0.1349140\ttotal: 21.3s\tremaining: 1.58s\n931:\tlearn: 0.1348371\ttotal: 21.4s\tremaining: 1.56s\n932:\tlearn: 0.1347616\ttotal: 21.4s\tremaining: 1.53s\n933:\tlearn: 0.1347022\ttotal: 21.4s\tremaining: 1.51s\n934:\tlearn: 0.1346242\ttotal: 21.4s\tremaining: 1.49s\n935:\tlearn: 0.1345816\ttotal: 21.4s\tremaining: 1.47s\n936:\tlearn: 0.1345373\ttotal: 21.5s\tremaining: 1.44s\n937:\tlearn: 0.1344845\ttotal: 21.5s\tremaining: 1.42s\n938:\tlearn: 0.1344248\ttotal: 21.5s\tremaining: 1.4s\n939:\tlearn: 0.1343352\ttotal: 21.5s\tremaining: 1.38s\n940:\tlearn: 0.1342659\ttotal: 21.6s\tremaining: 1.35s\n941:\tlearn: 0.1341965\ttotal: 21.6s\tremaining: 1.33s\n942:\tlearn: 0.1341288\ttotal: 21.6s\tremaining: 1.31s\n943:\tlearn: 0.1340411\ttotal: 21.7s\tremaining: 1.29s\n944:\tlearn: 0.1339889\ttotal: 21.7s\tremaining: 1.26s\n945:\tlearn: 0.1339540\ttotal: 21.7s\tremaining: 1.24s\n946:\tlearn: 0.1339129\ttotal: 21.8s\tremaining: 1.22s\n947:\tlearn: 0.1338539\ttotal: 21.8s\tremaining: 1.2s\n948:\tlearn: 0.1338200\ttotal: 21.8s\tremaining: 1.17s\n949:\tlearn: 0.1337290\ttotal: 21.9s\tremaining: 1.15s\n950:\tlearn: 0.1336800\ttotal: 21.9s\tremaining: 1.13s\n951:\tlearn: 0.1336371\ttotal: 22s\tremaining: 1.11s\n952:\tlearn: 0.1335690\ttotal: 22s\tremaining: 1.09s\n953:\tlearn: 0.1334946\ttotal: 22.1s\tremaining: 1.06s\n954:\tlearn: 0.1334750\ttotal: 22.1s\tremaining: 1.04s\n955:\tlearn: 0.1334127\ttotal: 22.1s\tremaining: 1.02s\n956:\tlearn: 0.1333696\ttotal: 22.1s\tremaining: 995ms\n957:\tlearn: 0.1333206\ttotal: 22.2s\tremaining: 971ms\n958:\tlearn: 0.1332212\ttotal: 22.2s\tremaining: 948ms\n959:\tlearn: 0.1331756\ttotal: 22.2s\tremaining: 924ms\n960:\tlearn: 0.1331085\ttotal: 22.2s\tremaining: 900ms\n961:\tlearn: 0.1330743\ttotal: 22.2s\tremaining: 877ms\n962:\tlearn: 0.1330081\ttotal: 22.2s\tremaining: 853ms\n963:\tlearn: 0.1329534\ttotal: 22.2s\tremaining: 830ms\n964:\tlearn: 0.1329163\ttotal: 22.2s\tremaining: 806ms\n965:\tlearn: 0.1328730\ttotal: 22.2s\tremaining: 783ms\n966:\tlearn: 0.1328270\ttotal: 22.3s\tremaining: 760ms\n967:\tlearn: 0.1327592\ttotal: 22.3s\tremaining: 737ms\n968:\tlearn: 0.1326540\ttotal: 22.3s\tremaining: 714ms\n969:\tlearn: 0.1325942\ttotal: 22.3s\tremaining: 691ms\n970:\tlearn: 0.1325461\ttotal: 22.4s\tremaining: 668ms\n971:\tlearn: 0.1324794\ttotal: 22.4s\tremaining: 645ms\n972:\tlearn: 0.1324400\ttotal: 22.4s\tremaining: 622ms\n973:\tlearn: 0.1323895\ttotal: 22.4s\tremaining: 599ms\n974:\tlearn: 0.1323258\ttotal: 22.5s\tremaining: 576ms\n975:\tlearn: 0.1322925\ttotal: 22.5s\tremaining: 553ms\n976:\tlearn: 0.1322321\ttotal: 22.5s\tremaining: 530ms\n977:\tlearn: 0.1321737\ttotal: 22.5s\tremaining: 507ms\n978:\tlearn: 0.1321277\ttotal: 22.6s\tremaining: 484ms\n979:\tlearn: 0.1320540\ttotal: 22.6s\tremaining: 462ms\n980:\tlearn: 0.1320123\ttotal: 22.7s\tremaining: 439ms\n981:\tlearn: 0.1319940\ttotal: 22.7s\tremaining: 416ms\n982:\tlearn: 0.1319596\ttotal: 22.8s\tremaining: 394ms\n983:\tlearn: 0.1319190\ttotal: 22.8s\tremaining: 371ms\n984:\tlearn: 0.1318864\ttotal: 22.8s\tremaining: 348ms\n985:\tlearn: 0.1318626\ttotal: 22.9s\tremaining: 325ms\n986:\tlearn: 0.1318458\ttotal: 22.9s\tremaining: 301ms\n987:\tlearn: 0.1317350\ttotal: 22.9s\tremaining: 278ms\n988:\tlearn: 0.1316663\ttotal: 22.9s\tremaining: 255ms\n989:\tlearn: 0.1316108\ttotal: 22.9s\tremaining: 232ms\n990:\tlearn: 0.1315713\ttotal: 22.9s\tremaining: 208ms\n991:\tlearn: 0.1314577\ttotal: 23s\tremaining: 185ms\n992:\tlearn: 0.1313896\ttotal: 23s\tremaining: 162ms\n993:\tlearn: 0.1313696\ttotal: 23s\tremaining: 139ms\n994:\tlearn: 0.1313219\ttotal: 23s\tremaining: 116ms\n995:\tlearn: 0.1312575\ttotal: 23s\tremaining: 92.5ms\n996:\tlearn: 0.1312157\ttotal: 23.1s\tremaining: 69.4ms\n997:\tlearn: 0.1311582\ttotal: 23.1s\tremaining: 46.2ms\n998:\tlearn: 0.1310878\ttotal: 23.1s\tremaining: 23.1ms\n999:\tlearn: 0.1310428\ttotal: 23.1s\tremaining: 0us\n",
     "output_type": "stream"
    },
    {
     "output_type": "execute_result",
     "execution_count": 107,
     "data": {
      "text/plain": "<pandas.io.formats.style.Styler at 0x7fa1035d4c10>",
      "text/html": "<style  type=\"text/css\" >\n#T_d15db_row0_col1,#T_d15db_row1_col1,#T_d15db_row2_col1{\n            width:  10em;\n             height:  80%;\n            background:  linear-gradient(90deg,#5fba7d 90.3%, transparent 90.3%);\n        }#T_d15db_row0_col2,#T_d15db_row1_col2{\n            width:  10em;\n             height:  80%;\n            background:  linear-gradient(90deg,#5fba7d 77.8%, transparent 77.8%);\n        }#T_d15db_row2_col2{\n            width:  10em;\n             height:  80%;\n            background:  linear-gradient(90deg,#5fba7d 77.6%, transparent 77.6%);\n        }#T_d15db_row3_col1{\n            width:  10em;\n             height:  80%;\n            background:  linear-gradient(90deg,#5fba7d 90.2%, transparent 90.2%);\n        }#T_d15db_row3_col2{\n            width:  10em;\n             height:  80%;\n            background:  linear-gradient(90deg,#5fba7d 76.5%, transparent 76.5%);\n        }#T_d15db_row4_col1{\n            width:  10em;\n             height:  80%;\n            background:  linear-gradient(90deg,#5fba7d 90.1%, transparent 90.1%);\n        }#T_d15db_row4_col2{\n            width:  10em;\n             height:  80%;\n            background:  linear-gradient(90deg,#5fba7d 77.5%, transparent 77.5%);\n        }#T_d15db_row5_col1{\n            width:  10em;\n             height:  80%;\n            background:  linear-gradient(90deg,#5fba7d 90.0%, transparent 90.0%);\n        }#T_d15db_row5_col2,#T_d15db_row7_col2{\n            width:  10em;\n             height:  80%;\n            background:  linear-gradient(90deg,#5fba7d 76.3%, transparent 76.3%);\n        }#T_d15db_row6_col1{\n            width:  10em;\n             height:  80%;\n            background:  linear-gradient(90deg,#5fba7d 89.7%, transparent 89.7%);\n        }#T_d15db_row6_col2{\n            width:  10em;\n             height:  80%;\n            background:  linear-gradient(90deg,#5fba7d 77.1%, transparent 77.1%);\n        }#T_d15db_row7_col1{\n            width:  10em;\n             height:  80%;\n            background:  linear-gradient(90deg,#5fba7d 89.2%, transparent 89.2%);\n        }#T_d15db_row8_col1{\n            width:  10em;\n             height:  80%;\n            background:  linear-gradient(90deg,#5fba7d 86.3%, transparent 86.3%);\n        }#T_d15db_row8_col2{\n            width:  10em;\n             height:  80%;\n            background:  linear-gradient(90deg,#5fba7d 74.1%, transparent 74.1%);\n        }</style><table id=\"T_d15db_\" ><thead>    <tr>        <th class=\"blank level0\" ></th>        <th class=\"col_heading level0 col0\" >Model</th>        <th class=\"col_heading level0 col1\" >Accuracy</th>        <th class=\"col_heading level0 col2\" >Bal Acc.</th>        <th class=\"col_heading level0 col3\" >Time</th>    </tr></thead><tbody>\n                <tr>\n                        <th id=\"T_d15db_level0_row0\" class=\"row_heading level0 row0\" >1</th>\n                        <td id=\"T_d15db_row0_col0\" class=\"data row0 col0\" >Skl GBM</td>\n                        <td id=\"T_d15db_row0_col1\" class=\"data row0 col1\" >90.275750</td>\n                        <td id=\"T_d15db_row0_col2\" class=\"data row0 col2\" >77.849288</td>\n                        <td id=\"T_d15db_row0_col3\" class=\"data row0 col3\" >23.222023</td>\n            </tr>\n            <tr>\n                        <th id=\"T_d15db_level0_row1\" class=\"row_heading level0 row1\" >2</th>\n                        <td id=\"T_d15db_row1_col0\" class=\"data row1 col0\" >Skl HistGBM</td>\n                        <td id=\"T_d15db_row1_col1\" class=\"data row1 col1\" >90.259530</td>\n                        <td id=\"T_d15db_row1_col2\" class=\"data row1 col2\" >77.796877</td>\n                        <td id=\"T_d15db_row1_col3\" class=\"data row1 col3\" >32.603006</td>\n            </tr>\n            <tr>\n                        <th id=\"T_d15db_level0_row2\" class=\"row_heading level0 row2\" >3</th>\n                        <td id=\"T_d15db_row2_col0\" class=\"data row2 col0\" >LightGBM</td>\n                        <td id=\"T_d15db_row2_col1\" class=\"data row2 col1\" >90.259530</td>\n                        <td id=\"T_d15db_row2_col2\" class=\"data row2 col2\" >77.582798</td>\n                        <td id=\"T_d15db_row2_col3\" class=\"data row2 col3\" >17.341586</td>\n            </tr>\n            <tr>\n                        <th id=\"T_d15db_level0_row3\" class=\"row_heading level0 row3\" >4</th>\n                        <td id=\"T_d15db_row3_col0\" class=\"data row3 col0\" >Random Forest</td>\n                        <td id=\"T_d15db_row3_col1\" class=\"data row3 col1\" >90.235199</td>\n                        <td id=\"T_d15db_row3_col2\" class=\"data row3 col2\" >76.476602</td>\n                        <td id=\"T_d15db_row3_col3\" class=\"data row3 col3\" >14.070238</td>\n            </tr>\n            <tr>\n                        <th id=\"T_d15db_level0_row4\" class=\"row_heading level0 row4\" >5</th>\n                        <td id=\"T_d15db_row4_col0\" class=\"data row4 col0\" >CatBoost</td>\n                        <td id=\"T_d15db_row4_col1\" class=\"data row4 col1\" >90.145985</td>\n                        <td id=\"T_d15db_row4_col2\" class=\"data row4 col2\" >77.451409</td>\n                        <td id=\"T_d15db_row4_col3\" class=\"data row4 col3\" >241.451457</td>\n            </tr>\n            <tr>\n                        <th id=\"T_d15db_level0_row5\" class=\"row_heading level0 row5\" >6</th>\n                        <td id=\"T_d15db_row5_col0\" class=\"data row5 col0\" >Extra Trees</td>\n                        <td id=\"T_d15db_row5_col1\" class=\"data row5 col1\" >89.983779</td>\n                        <td id=\"T_d15db_row5_col2\" class=\"data row5 col2\" >76.306471</td>\n                        <td id=\"T_d15db_row5_col3\" class=\"data row5 col3\" >8.592072</td>\n            </tr>\n            <tr>\n                        <th id=\"T_d15db_level0_row6\" class=\"row_heading level0 row6\" >7</th>\n                        <td id=\"T_d15db_row6_col0\" class=\"data row6 col0\" >XGBoost</td>\n                        <td id=\"T_d15db_row6_col1\" class=\"data row6 col1\" >89.748581</td>\n                        <td id=\"T_d15db_row6_col2\" class=\"data row6 col2\" >77.109290</td>\n                        <td id=\"T_d15db_row6_col3\" class=\"data row6 col3\" >64.843897</td>\n            </tr>\n            <tr>\n                        <th id=\"T_d15db_level0_row7\" class=\"row_heading level0 row7\" >8</th>\n                        <td id=\"T_d15db_row7_col0\" class=\"data row7 col0\" >AdaBoost</td>\n                        <td id=\"T_d15db_row7_col1\" class=\"data row7 col1\" >89.213301</td>\n                        <td id=\"T_d15db_row7_col2\" class=\"data row7 col2\" >76.300270</td>\n                        <td id=\"T_d15db_row7_col3\" class=\"data row7 col3\" >5.827092</td>\n            </tr>\n            <tr>\n                        <th id=\"T_d15db_level0_row8\" class=\"row_heading level0 row8\" >9</th>\n                        <td id=\"T_d15db_row8_col0\" class=\"data row8 col0\" >Decision Tree</td>\n                        <td id=\"T_d15db_row8_col1\" class=\"data row8 col1\" >86.293593</td>\n                        <td id=\"T_d15db_row8_col2\" class=\"data row8 col2\" >74.123588</td>\n                        <td id=\"T_d15db_row8_col3\" class=\"data row8 col3\" >1.323849</td>\n            </tr>\n    </tbody></table>"
     },
     "metadata": {}
    }
   ]
  },
  {
   "cell_type": "markdown",
   "source": "### Mult Models",
   "metadata": {
    "tags": [],
    "cell_id": "00013-f51a4a65-a7eb-4087-8271-5640094b9bcf",
    "deepnote_cell_type": "markdown"
   }
  },
  {
   "cell_type": "code",
   "metadata": {
    "tags": [],
    "cell_id": "00014-2b76123b-819d-4261-91e6-6c84b07b4c70",
    "deepnote_to_be_reexecuted": false,
    "source_hash": "7643134d",
    "execution_start": 1620980578536,
    "execution_millis": 43,
    "deepnote_cell_type": "code"
   },
   "source": "cat_4_mult_Models = pipeline.Pipeline(steps=[\n    ('one hot', preprocessing.OneHotEncoder(handle_unknown='ignore'))])\n\n\nnum_4_mult_Models=pipeline.Pipeline(steps=[\n    ((\"quantile transformer\",preprocessing.QuantileTransformer(n_quantiles=100, random_state=0,\n    output_distribution='normal')))])\n\n\n\nmult_prepro=compose.ColumnTransformer(transformers=[\n    (\"categorical\",cat_4_mult_Models,cat_vars),\n    (\"numerical\",num_4_mult_Models,num_vars)]) \n\nmult_prepro",
   "execution_count": 109,
   "outputs": [
    {
     "output_type": "execute_result",
     "execution_count": 109,
     "data": {
      "text/plain": "ColumnTransformer(transformers=[('categorical',\n                                 Pipeline(steps=[('one hot',\n                                                  OneHotEncoder(handle_unknown='ignore'))]),\n                                 ['Month', 'OperatingSystems', 'Browser',\n                                  'Region', 'TrafficType', 'VisitorType',\n                                  'Weekend']),\n                                ('numerical',\n                                 Pipeline(steps=[('quantile transformer',\n                                                  QuantileTransformer(n_quantiles=100,\n                                                                      output_distribution='normal',\n                                                                      random_state=0))]),\n                                 ['Administrative_Duration',\n                                  'Informational_Duration',\n                                  'ProductRelated_Duration', 'BounceRates',\n                                  'ExitRates', 'PageValues', 'ProductRelated',\n                                  'SpecialDay', 'Administrative',\n                                  'Informational'])])",
      "text/html": "<style>#sk-6a9b8d86-6a02-466e-ab69-7a5d4e6489a8 {color: black;background-color: white;}#sk-6a9b8d86-6a02-466e-ab69-7a5d4e6489a8 pre{padding: 0;}#sk-6a9b8d86-6a02-466e-ab69-7a5d4e6489a8 div.sk-toggleable {background-color: white;}#sk-6a9b8d86-6a02-466e-ab69-7a5d4e6489a8 label.sk-toggleable__label {cursor: pointer;display: block;width: 100%;margin-bottom: 0;padding: 0.2em 0.3em;box-sizing: border-box;text-align: center;}#sk-6a9b8d86-6a02-466e-ab69-7a5d4e6489a8 div.sk-toggleable__content {max-height: 0;max-width: 0;overflow: hidden;text-align: left;background-color: #f0f8ff;}#sk-6a9b8d86-6a02-466e-ab69-7a5d4e6489a8 div.sk-toggleable__content pre {margin: 0.2em;color: black;border-radius: 0.25em;background-color: #f0f8ff;}#sk-6a9b8d86-6a02-466e-ab69-7a5d4e6489a8 input.sk-toggleable__control:checked~div.sk-toggleable__content {max-height: 200px;max-width: 100%;overflow: auto;}#sk-6a9b8d86-6a02-466e-ab69-7a5d4e6489a8 div.sk-estimator input.sk-toggleable__control:checked~label.sk-toggleable__label {background-color: #d4ebff;}#sk-6a9b8d86-6a02-466e-ab69-7a5d4e6489a8 div.sk-label input.sk-toggleable__control:checked~label.sk-toggleable__label {background-color: #d4ebff;}#sk-6a9b8d86-6a02-466e-ab69-7a5d4e6489a8 input.sk-hidden--visually {border: 0;clip: rect(1px 1px 1px 1px);clip: rect(1px, 1px, 1px, 1px);height: 1px;margin: -1px;overflow: hidden;padding: 0;position: absolute;width: 1px;}#sk-6a9b8d86-6a02-466e-ab69-7a5d4e6489a8 div.sk-estimator {font-family: monospace;background-color: #f0f8ff;margin: 0.25em 0.25em;border: 1px dotted black;border-radius: 0.25em;box-sizing: border-box;}#sk-6a9b8d86-6a02-466e-ab69-7a5d4e6489a8 div.sk-estimator:hover {background-color: #d4ebff;}#sk-6a9b8d86-6a02-466e-ab69-7a5d4e6489a8 div.sk-parallel-item::after {content: \"\";width: 100%;border-bottom: 1px solid gray;flex-grow: 1;}#sk-6a9b8d86-6a02-466e-ab69-7a5d4e6489a8 div.sk-label:hover label.sk-toggleable__label {background-color: #d4ebff;}#sk-6a9b8d86-6a02-466e-ab69-7a5d4e6489a8 div.sk-serial::before {content: \"\";position: absolute;border-left: 1px solid gray;box-sizing: border-box;top: 2em;bottom: 0;left: 50%;}#sk-6a9b8d86-6a02-466e-ab69-7a5d4e6489a8 div.sk-serial {display: flex;flex-direction: column;align-items: center;background-color: white;}#sk-6a9b8d86-6a02-466e-ab69-7a5d4e6489a8 div.sk-item {z-index: 1;}#sk-6a9b8d86-6a02-466e-ab69-7a5d4e6489a8 div.sk-parallel {display: flex;align-items: stretch;justify-content: center;background-color: white;}#sk-6a9b8d86-6a02-466e-ab69-7a5d4e6489a8 div.sk-parallel-item {display: flex;flex-direction: column;position: relative;background-color: white;}#sk-6a9b8d86-6a02-466e-ab69-7a5d4e6489a8 div.sk-parallel-item:first-child::after {align-self: flex-end;width: 50%;}#sk-6a9b8d86-6a02-466e-ab69-7a5d4e6489a8 div.sk-parallel-item:last-child::after {align-self: flex-start;width: 50%;}#sk-6a9b8d86-6a02-466e-ab69-7a5d4e6489a8 div.sk-parallel-item:only-child::after {width: 0;}#sk-6a9b8d86-6a02-466e-ab69-7a5d4e6489a8 div.sk-dashed-wrapped {border: 1px dashed gray;margin: 0.2em;box-sizing: border-box;padding-bottom: 0.1em;background-color: white;position: relative;}#sk-6a9b8d86-6a02-466e-ab69-7a5d4e6489a8 div.sk-label label {font-family: monospace;font-weight: bold;background-color: white;display: inline-block;line-height: 1.2em;}#sk-6a9b8d86-6a02-466e-ab69-7a5d4e6489a8 div.sk-label-container {position: relative;z-index: 2;text-align: center;}#sk-6a9b8d86-6a02-466e-ab69-7a5d4e6489a8 div.sk-container {display: inline-block;position: relative;}</style><div id=\"sk-6a9b8d86-6a02-466e-ab69-7a5d4e6489a8\" class\"sk-top-container\"><div class=\"sk-container\"><div class=\"sk-item sk-dashed-wrapped\"><div class=\"sk-label-container\"><div class=\"sk-label sk-toggleable\"><input class=\"sk-toggleable__control sk-hidden--visually\" id=\"9079f462-249b-4926-b691-734be9b6be2a\" type=\"checkbox\" ><label class=\"sk-toggleable__label\" for=\"9079f462-249b-4926-b691-734be9b6be2a\">ColumnTransformer</label><div class=\"sk-toggleable__content\"><pre>ColumnTransformer(transformers=[('categorical',\n                                 Pipeline(steps=[('one hot',\n                                                  OneHotEncoder(handle_unknown='ignore'))]),\n                                 ['Month', 'OperatingSystems', 'Browser',\n                                  'Region', 'TrafficType', 'VisitorType',\n                                  'Weekend']),\n                                ('numerical',\n                                 Pipeline(steps=[('quantile transformer',\n                                                  QuantileTransformer(n_quantiles=100,\n                                                                      output_distribution='normal',\n                                                                      random_state=0))]),\n                                 ['Administrative_Duration',\n                                  'Informational_Duration',\n                                  'ProductRelated_Duration', 'BounceRates',\n                                  'ExitRates', 'PageValues', 'ProductRelated',\n                                  'SpecialDay', 'Administrative',\n                                  'Informational'])])</pre></div></div></div><div class=\"sk-parallel\"><div class=\"sk-parallel-item\"><div class=\"sk-item\"><div class=\"sk-label-container\"><div class=\"sk-label sk-toggleable\"><input class=\"sk-toggleable__control sk-hidden--visually\" id=\"a0046a32-5c40-4d24-a2d8-1b35a292c46a\" type=\"checkbox\" ><label class=\"sk-toggleable__label\" for=\"a0046a32-5c40-4d24-a2d8-1b35a292c46a\">categorical</label><div class=\"sk-toggleable__content\"><pre>['Month', 'OperatingSystems', 'Browser', 'Region', 'TrafficType', 'VisitorType', 'Weekend']</pre></div></div></div><div class=\"sk-serial\"><div class=\"sk-item\"><div class=\"sk-serial\"><div class=\"sk-item\"><div class=\"sk-estimator sk-toggleable\"><input class=\"sk-toggleable__control sk-hidden--visually\" id=\"07f2d0c7-6dfc-4968-b177-d19d980ada76\" type=\"checkbox\" ><label class=\"sk-toggleable__label\" for=\"07f2d0c7-6dfc-4968-b177-d19d980ada76\">OneHotEncoder</label><div class=\"sk-toggleable__content\"><pre>OneHotEncoder(handle_unknown='ignore')</pre></div></div></div></div></div></div></div></div><div class=\"sk-parallel-item\"><div class=\"sk-item\"><div class=\"sk-label-container\"><div class=\"sk-label sk-toggleable\"><input class=\"sk-toggleable__control sk-hidden--visually\" id=\"85ea1ead-4017-4d5e-ab89-f4c24e9744b7\" type=\"checkbox\" ><label class=\"sk-toggleable__label\" for=\"85ea1ead-4017-4d5e-ab89-f4c24e9744b7\">numerical</label><div class=\"sk-toggleable__content\"><pre>['Administrative_Duration', 'Informational_Duration', 'ProductRelated_Duration', 'BounceRates', 'ExitRates', 'PageValues', 'ProductRelated', 'SpecialDay', 'Administrative', 'Informational']</pre></div></div></div><div class=\"sk-serial\"><div class=\"sk-item\"><div class=\"sk-serial\"><div class=\"sk-item\"><div class=\"sk-estimator sk-toggleable\"><input class=\"sk-toggleable__control sk-hidden--visually\" id=\"81db5812-8350-4b10-b367-de7c21bbc1fc\" type=\"checkbox\" ><label class=\"sk-toggleable__label\" for=\"81db5812-8350-4b10-b367-de7c21bbc1fc\">QuantileTransformer</label><div class=\"sk-toggleable__content\"><pre>QuantileTransformer(n_quantiles=100, output_distribution='normal',\n                    random_state=0)</pre></div></div></div></div></div></div></div></div></div></div></div></div>"
     },
     "metadata": {}
    }
   ]
  },
  {
   "cell_type": "code",
   "metadata": {
    "tags": [],
    "cell_id": "00013-44a46f8b-2cd8-4d18-b0bd-1b93c68140fd",
    "deepnote_to_be_reexecuted": false,
    "source_hash": "dcb082b0",
    "execution_start": 1620980579806,
    "execution_millis": 12,
    "deepnote_cell_type": "code"
   },
   "source": "from sklearn import svm\nfrom sklearn.linear_model import LogisticRegression\nfrom sklearn.neighbors import KNeighborsClassifier\nfrom sklearn.neural_network import MLPClassifier\nfrom sklearn.naive_bayes import GaussianNB\nfrom sklearn.discriminant_analysis import LinearDiscriminantAnalysis\n",
   "execution_count": 110,
   "outputs": []
  },
  {
   "cell_type": "code",
   "metadata": {
    "tags": [],
    "cell_id": "00015-3eabe38b-e737-4ba4-9aa3-6023aea99311",
    "deepnote_to_be_reexecuted": false,
    "source_hash": "ac4da521",
    "execution_start": 1620980602769,
    "execution_millis": 58,
    "deepnote_cell_type": "code"
   },
   "source": "mult_pipelines={\n    \"SVM\": svm.SVC(),\n    \"Logistic\": LogisticRegression(),\n    \"KNN\":KNeighborsClassifier(n_neighbors=3),\n    \"MLP\":MLPClassifier(solver='lbfgs', alpha=1e-5,hidden_layer_sizes=(5, 2), random_state=1),\n    \"Naive Bayes\":GaussianNB(),\n    \"LDA\":LinearDiscriminantAnalysis()}\n\nmult_pipelines = {name: pipeline.make_pipeline(mult_prepro, model) for name, model in mult_pipelines.items()}\n\nmult_pipelines[\"SVM\"]",
   "execution_count": 112,
   "outputs": [
    {
     "output_type": "execute_result",
     "execution_count": 112,
     "data": {
      "text/plain": "Pipeline(steps=[('columntransformer',\n                 ColumnTransformer(transformers=[('categorical',\n                                                  Pipeline(steps=[('one hot',\n                                                                   OneHotEncoder(handle_unknown='ignore'))]),\n                                                  ['Month', 'OperatingSystems',\n                                                   'Browser', 'Region',\n                                                   'TrafficType', 'VisitorType',\n                                                   'Weekend']),\n                                                 ('numerical',\n                                                  Pipeline(steps=[('quantile '\n                                                                   'transformer',\n                                                                   QuantileTransformer(n_quantiles=100,\n                                                                                       output_distribution='normal',\n                                                                                       random_state=0))]),\n                                                  ['Administrative_Duration',\n                                                   'Informational_Duration',\n                                                   'ProductRelated_Duration',\n                                                   'BounceRates', 'ExitRates',\n                                                   'PageValues',\n                                                   'ProductRelated',\n                                                   'SpecialDay',\n                                                   'Administrative',\n                                                   'Informational'])])),\n                ('svc', SVC())])",
      "text/html": "<style>#sk-b3c0ebc8-45d3-4e53-bfc6-ce5c9a2054e7 {color: black;background-color: white;}#sk-b3c0ebc8-45d3-4e53-bfc6-ce5c9a2054e7 pre{padding: 0;}#sk-b3c0ebc8-45d3-4e53-bfc6-ce5c9a2054e7 div.sk-toggleable {background-color: white;}#sk-b3c0ebc8-45d3-4e53-bfc6-ce5c9a2054e7 label.sk-toggleable__label {cursor: pointer;display: block;width: 100%;margin-bottom: 0;padding: 0.2em 0.3em;box-sizing: border-box;text-align: center;}#sk-b3c0ebc8-45d3-4e53-bfc6-ce5c9a2054e7 div.sk-toggleable__content {max-height: 0;max-width: 0;overflow: hidden;text-align: left;background-color: #f0f8ff;}#sk-b3c0ebc8-45d3-4e53-bfc6-ce5c9a2054e7 div.sk-toggleable__content pre {margin: 0.2em;color: black;border-radius: 0.25em;background-color: #f0f8ff;}#sk-b3c0ebc8-45d3-4e53-bfc6-ce5c9a2054e7 input.sk-toggleable__control:checked~div.sk-toggleable__content {max-height: 200px;max-width: 100%;overflow: auto;}#sk-b3c0ebc8-45d3-4e53-bfc6-ce5c9a2054e7 div.sk-estimator input.sk-toggleable__control:checked~label.sk-toggleable__label {background-color: #d4ebff;}#sk-b3c0ebc8-45d3-4e53-bfc6-ce5c9a2054e7 div.sk-label input.sk-toggleable__control:checked~label.sk-toggleable__label {background-color: #d4ebff;}#sk-b3c0ebc8-45d3-4e53-bfc6-ce5c9a2054e7 input.sk-hidden--visually {border: 0;clip: rect(1px 1px 1px 1px);clip: rect(1px, 1px, 1px, 1px);height: 1px;margin: -1px;overflow: hidden;padding: 0;position: absolute;width: 1px;}#sk-b3c0ebc8-45d3-4e53-bfc6-ce5c9a2054e7 div.sk-estimator {font-family: monospace;background-color: #f0f8ff;margin: 0.25em 0.25em;border: 1px dotted black;border-radius: 0.25em;box-sizing: border-box;}#sk-b3c0ebc8-45d3-4e53-bfc6-ce5c9a2054e7 div.sk-estimator:hover {background-color: #d4ebff;}#sk-b3c0ebc8-45d3-4e53-bfc6-ce5c9a2054e7 div.sk-parallel-item::after {content: \"\";width: 100%;border-bottom: 1px solid gray;flex-grow: 1;}#sk-b3c0ebc8-45d3-4e53-bfc6-ce5c9a2054e7 div.sk-label:hover label.sk-toggleable__label {background-color: #d4ebff;}#sk-b3c0ebc8-45d3-4e53-bfc6-ce5c9a2054e7 div.sk-serial::before {content: \"\";position: absolute;border-left: 1px solid gray;box-sizing: border-box;top: 2em;bottom: 0;left: 50%;}#sk-b3c0ebc8-45d3-4e53-bfc6-ce5c9a2054e7 div.sk-serial {display: flex;flex-direction: column;align-items: center;background-color: white;}#sk-b3c0ebc8-45d3-4e53-bfc6-ce5c9a2054e7 div.sk-item {z-index: 1;}#sk-b3c0ebc8-45d3-4e53-bfc6-ce5c9a2054e7 div.sk-parallel {display: flex;align-items: stretch;justify-content: center;background-color: white;}#sk-b3c0ebc8-45d3-4e53-bfc6-ce5c9a2054e7 div.sk-parallel-item {display: flex;flex-direction: column;position: relative;background-color: white;}#sk-b3c0ebc8-45d3-4e53-bfc6-ce5c9a2054e7 div.sk-parallel-item:first-child::after {align-self: flex-end;width: 50%;}#sk-b3c0ebc8-45d3-4e53-bfc6-ce5c9a2054e7 div.sk-parallel-item:last-child::after {align-self: flex-start;width: 50%;}#sk-b3c0ebc8-45d3-4e53-bfc6-ce5c9a2054e7 div.sk-parallel-item:only-child::after {width: 0;}#sk-b3c0ebc8-45d3-4e53-bfc6-ce5c9a2054e7 div.sk-dashed-wrapped {border: 1px dashed gray;margin: 0.2em;box-sizing: border-box;padding-bottom: 0.1em;background-color: white;position: relative;}#sk-b3c0ebc8-45d3-4e53-bfc6-ce5c9a2054e7 div.sk-label label {font-family: monospace;font-weight: bold;background-color: white;display: inline-block;line-height: 1.2em;}#sk-b3c0ebc8-45d3-4e53-bfc6-ce5c9a2054e7 div.sk-label-container {position: relative;z-index: 2;text-align: center;}#sk-b3c0ebc8-45d3-4e53-bfc6-ce5c9a2054e7 div.sk-container {display: inline-block;position: relative;}</style><div id=\"sk-b3c0ebc8-45d3-4e53-bfc6-ce5c9a2054e7\" class\"sk-top-container\"><div class=\"sk-container\"><div class=\"sk-item sk-dashed-wrapped\"><div class=\"sk-label-container\"><div class=\"sk-label sk-toggleable\"><input class=\"sk-toggleable__control sk-hidden--visually\" id=\"3df70be2-801c-4d82-bb00-a6a0ce30cac6\" type=\"checkbox\" ><label class=\"sk-toggleable__label\" for=\"3df70be2-801c-4d82-bb00-a6a0ce30cac6\">Pipeline</label><div class=\"sk-toggleable__content\"><pre>Pipeline(steps=[('columntransformer',\n                 ColumnTransformer(transformers=[('categorical',\n                                                  Pipeline(steps=[('one hot',\n                                                                   OneHotEncoder(handle_unknown='ignore'))]),\n                                                  ['Month', 'OperatingSystems',\n                                                   'Browser', 'Region',\n                                                   'TrafficType', 'VisitorType',\n                                                   'Weekend']),\n                                                 ('numerical',\n                                                  Pipeline(steps=[('quantile '\n                                                                   'transformer',\n                                                                   QuantileTransformer(n_quantiles=100,\n                                                                                       output_distribution='normal',\n                                                                                       random_state=0))]),\n                                                  ['Administrative_Duration',\n                                                   'Informational_Duration',\n                                                   'ProductRelated_Duration',\n                                                   'BounceRates', 'ExitRates',\n                                                   'PageValues',\n                                                   'ProductRelated',\n                                                   'SpecialDay',\n                                                   'Administrative',\n                                                   'Informational'])])),\n                ('svc', SVC())])</pre></div></div></div><div class=\"sk-serial\"><div class=\"sk-item sk-dashed-wrapped\"><div class=\"sk-label-container\"><div class=\"sk-label sk-toggleable\"><input class=\"sk-toggleable__control sk-hidden--visually\" id=\"7a4aeb95-eac9-4825-ab25-f37aaaff8d3c\" type=\"checkbox\" ><label class=\"sk-toggleable__label\" for=\"7a4aeb95-eac9-4825-ab25-f37aaaff8d3c\">columntransformer: ColumnTransformer</label><div class=\"sk-toggleable__content\"><pre>ColumnTransformer(transformers=[('categorical',\n                                 Pipeline(steps=[('one hot',\n                                                  OneHotEncoder(handle_unknown='ignore'))]),\n                                 ['Month', 'OperatingSystems', 'Browser',\n                                  'Region', 'TrafficType', 'VisitorType',\n                                  'Weekend']),\n                                ('numerical',\n                                 Pipeline(steps=[('quantile transformer',\n                                                  QuantileTransformer(n_quantiles=100,\n                                                                      output_distribution='normal',\n                                                                      random_state=0))]),\n                                 ['Administrative_Duration',\n                                  'Informational_Duration',\n                                  'ProductRelated_Duration', 'BounceRates',\n                                  'ExitRates', 'PageValues', 'ProductRelated',\n                                  'SpecialDay', 'Administrative',\n                                  'Informational'])])</pre></div></div></div><div class=\"sk-parallel\"><div class=\"sk-parallel-item\"><div class=\"sk-item\"><div class=\"sk-label-container\"><div class=\"sk-label sk-toggleable\"><input class=\"sk-toggleable__control sk-hidden--visually\" id=\"f5a70ef3-9205-4263-8717-0af71f781aba\" type=\"checkbox\" ><label class=\"sk-toggleable__label\" for=\"f5a70ef3-9205-4263-8717-0af71f781aba\">categorical</label><div class=\"sk-toggleable__content\"><pre>['Month', 'OperatingSystems', 'Browser', 'Region', 'TrafficType', 'VisitorType', 'Weekend']</pre></div></div></div><div class=\"sk-serial\"><div class=\"sk-item\"><div class=\"sk-serial\"><div class=\"sk-item\"><div class=\"sk-estimator sk-toggleable\"><input class=\"sk-toggleable__control sk-hidden--visually\" id=\"149cd521-6b71-43b4-9a9e-b37e62ef70b0\" type=\"checkbox\" ><label class=\"sk-toggleable__label\" for=\"149cd521-6b71-43b4-9a9e-b37e62ef70b0\">OneHotEncoder</label><div class=\"sk-toggleable__content\"><pre>OneHotEncoder(handle_unknown='ignore')</pre></div></div></div></div></div></div></div></div><div class=\"sk-parallel-item\"><div class=\"sk-item\"><div class=\"sk-label-container\"><div class=\"sk-label sk-toggleable\"><input class=\"sk-toggleable__control sk-hidden--visually\" id=\"a2ba8ba9-1cf1-4ce3-a6ee-af57826fd7ca\" type=\"checkbox\" ><label class=\"sk-toggleable__label\" for=\"a2ba8ba9-1cf1-4ce3-a6ee-af57826fd7ca\">numerical</label><div class=\"sk-toggleable__content\"><pre>['Administrative_Duration', 'Informational_Duration', 'ProductRelated_Duration', 'BounceRates', 'ExitRates', 'PageValues', 'ProductRelated', 'SpecialDay', 'Administrative', 'Informational']</pre></div></div></div><div class=\"sk-serial\"><div class=\"sk-item\"><div class=\"sk-serial\"><div class=\"sk-item\"><div class=\"sk-estimator sk-toggleable\"><input class=\"sk-toggleable__control sk-hidden--visually\" id=\"399a3906-756d-4e56-b18d-76307cfa6f65\" type=\"checkbox\" ><label class=\"sk-toggleable__label\" for=\"399a3906-756d-4e56-b18d-76307cfa6f65\">QuantileTransformer</label><div class=\"sk-toggleable__content\"><pre>QuantileTransformer(n_quantiles=100, output_distribution='normal',\n                    random_state=0)</pre></div></div></div></div></div></div></div></div></div></div><div class=\"sk-item\"><div class=\"sk-estimator sk-toggleable\"><input class=\"sk-toggleable__control sk-hidden--visually\" id=\"d5c04375-d569-43ee-8aed-36bf8bbd28c1\" type=\"checkbox\" ><label class=\"sk-toggleable__label\" for=\"d5c04375-d569-43ee-8aed-36bf8bbd28c1\">SVC</label><div class=\"sk-toggleable__content\"><pre>SVC()</pre></div></div></div></div></div></div></div>"
     },
     "metadata": {}
    }
   ]
  },
  {
   "cell_type": "code",
   "metadata": {
    "tags": [],
    "cell_id": "00016-3baece2b-4822-4519-9b75-174f07e75660",
    "deepnote_to_be_reexecuted": false,
    "source_hash": "ac2e70eb",
    "execution_start": 1620981070483,
    "execution_millis": 114506,
    "deepnote_cell_type": "code"
   },
   "source": "\nfrom sklearn.model_selection import cross_val_predict\n\nskf = model_selection.StratifiedKFold(n_splits=10, random_state=0, shuffle=True)\n\n\n\n\nresults = pd.DataFrame({'Model': [], 'Accuracy': [], 'Bal Acc.': [], 'Time': []})\n\n\n\n\n\nfor model_name, model in mult_pipelines.items():\n    start_time = time.time()\n\n    #x=x.to_numpy()\n    #y=y.to_numpy() \n    pred = cross_val_predict(model, x,y, cv=skf)\n\n    total_time = time.time() - start_time\n\n    results = results.append({\"Model\":    model_name,\n                              \"Accuracy\": metrics.accuracy_score(y, pred)*100,\n                              \"Bal Acc.\": metrics.balanced_accuracy_score(y, pred)*100,\n                              \"Time\":     total_time},\n                              ignore_index=True)\n                              \n                              \n\n\n# YOUR CODE HERE\n\n\n\nresults_ord = results.sort_values(by=['Accuracy'], ascending=False, ignore_index=True)\nresults_ord.index += 1 \nresults_ord.style.bar(subset=['Accuracy', 'Bal Acc.'], vmin=0, vmax=100, color='#5fba7d')\n",
   "execution_count": 120,
   "outputs": [
    {
     "name": "stderr",
     "text": "/shared-libs/python3.7/py/lib/python3.7/site-packages/sklearn/linear_model/_logistic.py:765: ConvergenceWarning: lbfgs failed to converge (status=1):\nSTOP: TOTAL NO. of ITERATIONS REACHED LIMIT.\n\nIncrease the number of iterations (max_iter) or scale the data as shown in:\n    https://scikit-learn.org/stable/modules/preprocessing.html\nPlease also refer to the documentation for alternative solver options:\n    https://scikit-learn.org/stable/modules/linear_model.html#logistic-regression\n  extra_warning_msg=_LOGISTIC_SOLVER_CONVERGENCE_MSG)\n/shared-libs/python3.7/py/lib/python3.7/site-packages/sklearn/linear_model/_logistic.py:765: ConvergenceWarning: lbfgs failed to converge (status=1):\nSTOP: TOTAL NO. of ITERATIONS REACHED LIMIT.\n\nIncrease the number of iterations (max_iter) or scale the data as shown in:\n    https://scikit-learn.org/stable/modules/preprocessing.html\nPlease also refer to the documentation for alternative solver options:\n    https://scikit-learn.org/stable/modules/linear_model.html#logistic-regression\n  extra_warning_msg=_LOGISTIC_SOLVER_CONVERGENCE_MSG)\n/shared-libs/python3.7/py/lib/python3.7/site-packages/sklearn/linear_model/_logistic.py:765: ConvergenceWarning: lbfgs failed to converge (status=1):\nSTOP: TOTAL NO. of ITERATIONS REACHED LIMIT.\n\nIncrease the number of iterations (max_iter) or scale the data as shown in:\n    https://scikit-learn.org/stable/modules/preprocessing.html\nPlease also refer to the documentation for alternative solver options:\n    https://scikit-learn.org/stable/modules/linear_model.html#logistic-regression\n  extra_warning_msg=_LOGISTIC_SOLVER_CONVERGENCE_MSG)\n/shared-libs/python3.7/py/lib/python3.7/site-packages/sklearn/linear_model/_logistic.py:765: ConvergenceWarning: lbfgs failed to converge (status=1):\nSTOP: TOTAL NO. of ITERATIONS REACHED LIMIT.\n\nIncrease the number of iterations (max_iter) or scale the data as shown in:\n    https://scikit-learn.org/stable/modules/preprocessing.html\nPlease also refer to the documentation for alternative solver options:\n    https://scikit-learn.org/stable/modules/linear_model.html#logistic-regression\n  extra_warning_msg=_LOGISTIC_SOLVER_CONVERGENCE_MSG)\n/shared-libs/python3.7/py/lib/python3.7/site-packages/sklearn/linear_model/_logistic.py:765: ConvergenceWarning: lbfgs failed to converge (status=1):\nSTOP: TOTAL NO. of ITERATIONS REACHED LIMIT.\n\nIncrease the number of iterations (max_iter) or scale the data as shown in:\n    https://scikit-learn.org/stable/modules/preprocessing.html\nPlease also refer to the documentation for alternative solver options:\n    https://scikit-learn.org/stable/modules/linear_model.html#logistic-regression\n  extra_warning_msg=_LOGISTIC_SOLVER_CONVERGENCE_MSG)\n/shared-libs/python3.7/py/lib/python3.7/site-packages/sklearn/linear_model/_logistic.py:765: ConvergenceWarning: lbfgs failed to converge (status=1):\nSTOP: TOTAL NO. of ITERATIONS REACHED LIMIT.\n\nIncrease the number of iterations (max_iter) or scale the data as shown in:\n    https://scikit-learn.org/stable/modules/preprocessing.html\nPlease also refer to the documentation for alternative solver options:\n    https://scikit-learn.org/stable/modules/linear_model.html#logistic-regression\n  extra_warning_msg=_LOGISTIC_SOLVER_CONVERGENCE_MSG)\n/shared-libs/python3.7/py/lib/python3.7/site-packages/sklearn/linear_model/_logistic.py:765: ConvergenceWarning: lbfgs failed to converge (status=1):\nSTOP: TOTAL NO. of ITERATIONS REACHED LIMIT.\n\nIncrease the number of iterations (max_iter) or scale the data as shown in:\n    https://scikit-learn.org/stable/modules/preprocessing.html\nPlease also refer to the documentation for alternative solver options:\n    https://scikit-learn.org/stable/modules/linear_model.html#logistic-regression\n  extra_warning_msg=_LOGISTIC_SOLVER_CONVERGENCE_MSG)\n/shared-libs/python3.7/py/lib/python3.7/site-packages/sklearn/linear_model/_logistic.py:765: ConvergenceWarning: lbfgs failed to converge (status=1):\nSTOP: TOTAL NO. of ITERATIONS REACHED LIMIT.\n\nIncrease the number of iterations (max_iter) or scale the data as shown in:\n    https://scikit-learn.org/stable/modules/preprocessing.html\nPlease also refer to the documentation for alternative solver options:\n    https://scikit-learn.org/stable/modules/linear_model.html#logistic-regression\n  extra_warning_msg=_LOGISTIC_SOLVER_CONVERGENCE_MSG)\n/shared-libs/python3.7/py/lib/python3.7/site-packages/sklearn/linear_model/_logistic.py:765: ConvergenceWarning: lbfgs failed to converge (status=1):\nSTOP: TOTAL NO. of ITERATIONS REACHED LIMIT.\n\nIncrease the number of iterations (max_iter) or scale the data as shown in:\n    https://scikit-learn.org/stable/modules/preprocessing.html\nPlease also refer to the documentation for alternative solver options:\n    https://scikit-learn.org/stable/modules/linear_model.html#logistic-regression\n  extra_warning_msg=_LOGISTIC_SOLVER_CONVERGENCE_MSG)\n/shared-libs/python3.7/py/lib/python3.7/site-packages/sklearn/linear_model/_logistic.py:765: ConvergenceWarning: lbfgs failed to converge (status=1):\nSTOP: TOTAL NO. of ITERATIONS REACHED LIMIT.\n\nIncrease the number of iterations (max_iter) or scale the data as shown in:\n    https://scikit-learn.org/stable/modules/preprocessing.html\nPlease also refer to the documentation for alternative solver options:\n    https://scikit-learn.org/stable/modules/linear_model.html#logistic-regression\n  extra_warning_msg=_LOGISTIC_SOLVER_CONVERGENCE_MSG)\n/shared-libs/python3.7/py/lib/python3.7/site-packages/sklearn/neural_network/_multilayer_perceptron.py:500: ConvergenceWarning: lbfgs failed to converge (status=1):\nSTOP: TOTAL NO. of ITERATIONS REACHED LIMIT.\n\nIncrease the number of iterations (max_iter) or scale the data as shown in:\n    https://scikit-learn.org/stable/modules/preprocessing.html\n  self.n_iter_ = _check_optimize_result(\"lbfgs\", opt_res, self.max_iter)\n/shared-libs/python3.7/py/lib/python3.7/site-packages/sklearn/neural_network/_multilayer_perceptron.py:500: ConvergenceWarning: lbfgs failed to converge (status=1):\nSTOP: TOTAL NO. of ITERATIONS REACHED LIMIT.\n\nIncrease the number of iterations (max_iter) or scale the data as shown in:\n    https://scikit-learn.org/stable/modules/preprocessing.html\n  self.n_iter_ = _check_optimize_result(\"lbfgs\", opt_res, self.max_iter)\n/shared-libs/python3.7/py/lib/python3.7/site-packages/sklearn/neural_network/_multilayer_perceptron.py:500: ConvergenceWarning: lbfgs failed to converge (status=1):\nSTOP: TOTAL NO. of ITERATIONS REACHED LIMIT.\n\nIncrease the number of iterations (max_iter) or scale the data as shown in:\n    https://scikit-learn.org/stable/modules/preprocessing.html\n  self.n_iter_ = _check_optimize_result(\"lbfgs\", opt_res, self.max_iter)\n/shared-libs/python3.7/py/lib/python3.7/site-packages/sklearn/neural_network/_multilayer_perceptron.py:500: ConvergenceWarning: lbfgs failed to converge (status=1):\nSTOP: TOTAL NO. of ITERATIONS REACHED LIMIT.\n\nIncrease the number of iterations (max_iter) or scale the data as shown in:\n    https://scikit-learn.org/stable/modules/preprocessing.html\n  self.n_iter_ = _check_optimize_result(\"lbfgs\", opt_res, self.max_iter)\n/shared-libs/python3.7/py/lib/python3.7/site-packages/sklearn/neural_network/_multilayer_perceptron.py:500: ConvergenceWarning: lbfgs failed to converge (status=1):\nSTOP: TOTAL NO. of ITERATIONS REACHED LIMIT.\n\nIncrease the number of iterations (max_iter) or scale the data as shown in:\n    https://scikit-learn.org/stable/modules/preprocessing.html\n  self.n_iter_ = _check_optimize_result(\"lbfgs\", opt_res, self.max_iter)\n/shared-libs/python3.7/py/lib/python3.7/site-packages/sklearn/neural_network/_multilayer_perceptron.py:500: ConvergenceWarning: lbfgs failed to converge (status=1):\nSTOP: TOTAL NO. of ITERATIONS REACHED LIMIT.\n\nIncrease the number of iterations (max_iter) or scale the data as shown in:\n    https://scikit-learn.org/stable/modules/preprocessing.html\n  self.n_iter_ = _check_optimize_result(\"lbfgs\", opt_res, self.max_iter)\n/shared-libs/python3.7/py/lib/python3.7/site-packages/sklearn/neural_network/_multilayer_perceptron.py:500: ConvergenceWarning: lbfgs failed to converge (status=1):\nSTOP: TOTAL NO. of ITERATIONS REACHED LIMIT.\n\nIncrease the number of iterations (max_iter) or scale the data as shown in:\n    https://scikit-learn.org/stable/modules/preprocessing.html\n  self.n_iter_ = _check_optimize_result(\"lbfgs\", opt_res, self.max_iter)\n/shared-libs/python3.7/py/lib/python3.7/site-packages/sklearn/neural_network/_multilayer_perceptron.py:500: ConvergenceWarning: lbfgs failed to converge (status=1):\nSTOP: TOTAL NO. of ITERATIONS REACHED LIMIT.\n\nIncrease the number of iterations (max_iter) or scale the data as shown in:\n    https://scikit-learn.org/stable/modules/preprocessing.html\n  self.n_iter_ = _check_optimize_result(\"lbfgs\", opt_res, self.max_iter)\n/shared-libs/python3.7/py/lib/python3.7/site-packages/sklearn/neural_network/_multilayer_perceptron.py:500: ConvergenceWarning: lbfgs failed to converge (status=1):\nSTOP: TOTAL NO. of ITERATIONS REACHED LIMIT.\n\nIncrease the number of iterations (max_iter) or scale the data as shown in:\n    https://scikit-learn.org/stable/modules/preprocessing.html\n  self.n_iter_ = _check_optimize_result(\"lbfgs\", opt_res, self.max_iter)\n/shared-libs/python3.7/py/lib/python3.7/site-packages/sklearn/neural_network/_multilayer_perceptron.py:500: ConvergenceWarning: lbfgs failed to converge (status=1):\nSTOP: TOTAL NO. of ITERATIONS REACHED LIMIT.\n\nIncrease the number of iterations (max_iter) or scale the data as shown in:\n    https://scikit-learn.org/stable/modules/preprocessing.html\n  self.n_iter_ = _check_optimize_result(\"lbfgs\", opt_res, self.max_iter)\n",
     "output_type": "stream"
    },
    {
     "output_type": "error",
     "ename": "TypeError",
     "evalue": "A sparse matrix was passed, but dense data is required. Use X.toarray() to convert to a dense numpy array.",
     "traceback": [
      "\u001b[0;31m---------------------------------------------------------------------------\u001b[0m",
      "\u001b[0;31mTypeError\u001b[0m                                 Traceback (most recent call last)",
      "\u001b[0;32m<ipython-input-120-6f603380b03b>\u001b[0m in \u001b[0;36m<module>\u001b[0;34m\u001b[0m\n\u001b[1;32m     17\u001b[0m     \u001b[0;31m#x=x.to_numpy()\u001b[0m\u001b[0;34m\u001b[0m\u001b[0;34m\u001b[0m\u001b[0;34m\u001b[0m\u001b[0m\n\u001b[1;32m     18\u001b[0m     \u001b[0;31m#y=y.to_numpy()\u001b[0m\u001b[0;34m\u001b[0m\u001b[0;34m\u001b[0m\u001b[0;34m\u001b[0m\u001b[0m\n\u001b[0;32m---> 19\u001b[0;31m     \u001b[0mpred\u001b[0m \u001b[0;34m=\u001b[0m \u001b[0mcross_val_predict\u001b[0m\u001b[0;34m(\u001b[0m\u001b[0mmodel\u001b[0m\u001b[0;34m,\u001b[0m \u001b[0mx\u001b[0m\u001b[0;34m,\u001b[0m\u001b[0my\u001b[0m\u001b[0;34m,\u001b[0m \u001b[0mcv\u001b[0m\u001b[0;34m=\u001b[0m\u001b[0mskf\u001b[0m\u001b[0;34m)\u001b[0m\u001b[0;34m\u001b[0m\u001b[0;34m\u001b[0m\u001b[0m\n\u001b[0m\u001b[1;32m     20\u001b[0m \u001b[0;34m\u001b[0m\u001b[0m\n\u001b[1;32m     21\u001b[0m     \u001b[0mtotal_time\u001b[0m \u001b[0;34m=\u001b[0m \u001b[0mtime\u001b[0m\u001b[0;34m.\u001b[0m\u001b[0mtime\u001b[0m\u001b[0;34m(\u001b[0m\u001b[0;34m)\u001b[0m \u001b[0;34m-\u001b[0m \u001b[0mstart_time\u001b[0m\u001b[0;34m\u001b[0m\u001b[0;34m\u001b[0m\u001b[0m\n",
      "\u001b[0;32m/shared-libs/python3.7/py/lib/python3.7/site-packages/sklearn/utils/validation.py\u001b[0m in \u001b[0;36minner_f\u001b[0;34m(*args, **kwargs)\u001b[0m\n\u001b[1;32m     61\u001b[0m             \u001b[0mextra_args\u001b[0m \u001b[0;34m=\u001b[0m \u001b[0mlen\u001b[0m\u001b[0;34m(\u001b[0m\u001b[0margs\u001b[0m\u001b[0;34m)\u001b[0m \u001b[0;34m-\u001b[0m \u001b[0mlen\u001b[0m\u001b[0;34m(\u001b[0m\u001b[0mall_args\u001b[0m\u001b[0;34m)\u001b[0m\u001b[0;34m\u001b[0m\u001b[0;34m\u001b[0m\u001b[0m\n\u001b[1;32m     62\u001b[0m             \u001b[0;32mif\u001b[0m \u001b[0mextra_args\u001b[0m \u001b[0;34m<=\u001b[0m \u001b[0;36m0\u001b[0m\u001b[0;34m:\u001b[0m\u001b[0;34m\u001b[0m\u001b[0;34m\u001b[0m\u001b[0m\n\u001b[0;32m---> 63\u001b[0;31m                 \u001b[0;32mreturn\u001b[0m \u001b[0mf\u001b[0m\u001b[0;34m(\u001b[0m\u001b[0;34m*\u001b[0m\u001b[0margs\u001b[0m\u001b[0;34m,\u001b[0m \u001b[0;34m**\u001b[0m\u001b[0mkwargs\u001b[0m\u001b[0;34m)\u001b[0m\u001b[0;34m\u001b[0m\u001b[0;34m\u001b[0m\u001b[0m\n\u001b[0m\u001b[1;32m     64\u001b[0m \u001b[0;34m\u001b[0m\u001b[0m\n\u001b[1;32m     65\u001b[0m             \u001b[0;31m# extra_args > 0\u001b[0m\u001b[0;34m\u001b[0m\u001b[0;34m\u001b[0m\u001b[0;34m\u001b[0m\u001b[0m\n",
      "\u001b[0;32m/shared-libs/python3.7/py/lib/python3.7/site-packages/sklearn/model_selection/_validation.py\u001b[0m in \u001b[0;36mcross_val_predict\u001b[0;34m(estimator, X, y, groups, cv, n_jobs, verbose, fit_params, pre_dispatch, method)\u001b[0m\n\u001b[1;32m    880\u001b[0m     predictions = parallel(delayed(_fit_and_predict)(\n\u001b[1;32m    881\u001b[0m         clone(estimator), X, y, train, test, verbose, fit_params, method)\n\u001b[0;32m--> 882\u001b[0;31m         for train, test in splits)\n\u001b[0m\u001b[1;32m    883\u001b[0m \u001b[0;34m\u001b[0m\u001b[0m\n\u001b[1;32m    884\u001b[0m     \u001b[0minv_test_indices\u001b[0m \u001b[0;34m=\u001b[0m \u001b[0mnp\u001b[0m\u001b[0;34m.\u001b[0m\u001b[0mempty\u001b[0m\u001b[0;34m(\u001b[0m\u001b[0mlen\u001b[0m\u001b[0;34m(\u001b[0m\u001b[0mtest_indices\u001b[0m\u001b[0;34m)\u001b[0m\u001b[0;34m,\u001b[0m \u001b[0mdtype\u001b[0m\u001b[0;34m=\u001b[0m\u001b[0mint\u001b[0m\u001b[0;34m)\u001b[0m\u001b[0;34m\u001b[0m\u001b[0;34m\u001b[0m\u001b[0m\n",
      "\u001b[0;32m/shared-libs/python3.7/py/lib/python3.7/site-packages/joblib/parallel.py\u001b[0m in \u001b[0;36m__call__\u001b[0;34m(self, iterable)\u001b[0m\n\u001b[1;32m   1039\u001b[0m             \u001b[0;31m# remaining jobs.\u001b[0m\u001b[0;34m\u001b[0m\u001b[0;34m\u001b[0m\u001b[0;34m\u001b[0m\u001b[0m\n\u001b[1;32m   1040\u001b[0m             \u001b[0mself\u001b[0m\u001b[0;34m.\u001b[0m\u001b[0m_iterating\u001b[0m \u001b[0;34m=\u001b[0m \u001b[0;32mFalse\u001b[0m\u001b[0;34m\u001b[0m\u001b[0;34m\u001b[0m\u001b[0m\n\u001b[0;32m-> 1041\u001b[0;31m             \u001b[0;32mif\u001b[0m \u001b[0mself\u001b[0m\u001b[0;34m.\u001b[0m\u001b[0mdispatch_one_batch\u001b[0m\u001b[0;34m(\u001b[0m\u001b[0miterator\u001b[0m\u001b[0;34m)\u001b[0m\u001b[0;34m:\u001b[0m\u001b[0;34m\u001b[0m\u001b[0;34m\u001b[0m\u001b[0m\n\u001b[0m\u001b[1;32m   1042\u001b[0m                 \u001b[0mself\u001b[0m\u001b[0;34m.\u001b[0m\u001b[0m_iterating\u001b[0m \u001b[0;34m=\u001b[0m \u001b[0mself\u001b[0m\u001b[0;34m.\u001b[0m\u001b[0m_original_iterator\u001b[0m \u001b[0;32mis\u001b[0m \u001b[0;32mnot\u001b[0m \u001b[0;32mNone\u001b[0m\u001b[0;34m\u001b[0m\u001b[0;34m\u001b[0m\u001b[0m\n\u001b[1;32m   1043\u001b[0m \u001b[0;34m\u001b[0m\u001b[0m\n",
      "\u001b[0;32m/shared-libs/python3.7/py/lib/python3.7/site-packages/joblib/parallel.py\u001b[0m in \u001b[0;36mdispatch_one_batch\u001b[0;34m(self, iterator)\u001b[0m\n\u001b[1;32m    857\u001b[0m                 \u001b[0;32mreturn\u001b[0m \u001b[0;32mFalse\u001b[0m\u001b[0;34m\u001b[0m\u001b[0;34m\u001b[0m\u001b[0m\n\u001b[1;32m    858\u001b[0m             \u001b[0;32melse\u001b[0m\u001b[0;34m:\u001b[0m\u001b[0;34m\u001b[0m\u001b[0;34m\u001b[0m\u001b[0m\n\u001b[0;32m--> 859\u001b[0;31m                 \u001b[0mself\u001b[0m\u001b[0;34m.\u001b[0m\u001b[0m_dispatch\u001b[0m\u001b[0;34m(\u001b[0m\u001b[0mtasks\u001b[0m\u001b[0;34m)\u001b[0m\u001b[0;34m\u001b[0m\u001b[0;34m\u001b[0m\u001b[0m\n\u001b[0m\u001b[1;32m    860\u001b[0m                 \u001b[0;32mreturn\u001b[0m \u001b[0;32mTrue\u001b[0m\u001b[0;34m\u001b[0m\u001b[0;34m\u001b[0m\u001b[0m\n\u001b[1;32m    861\u001b[0m \u001b[0;34m\u001b[0m\u001b[0m\n",
      "\u001b[0;32m/shared-libs/python3.7/py/lib/python3.7/site-packages/joblib/parallel.py\u001b[0m in \u001b[0;36m_dispatch\u001b[0;34m(self, batch)\u001b[0m\n\u001b[1;32m    775\u001b[0m         \u001b[0;32mwith\u001b[0m \u001b[0mself\u001b[0m\u001b[0;34m.\u001b[0m\u001b[0m_lock\u001b[0m\u001b[0;34m:\u001b[0m\u001b[0;34m\u001b[0m\u001b[0;34m\u001b[0m\u001b[0m\n\u001b[1;32m    776\u001b[0m             \u001b[0mjob_idx\u001b[0m \u001b[0;34m=\u001b[0m \u001b[0mlen\u001b[0m\u001b[0;34m(\u001b[0m\u001b[0mself\u001b[0m\u001b[0;34m.\u001b[0m\u001b[0m_jobs\u001b[0m\u001b[0;34m)\u001b[0m\u001b[0;34m\u001b[0m\u001b[0;34m\u001b[0m\u001b[0m\n\u001b[0;32m--> 777\u001b[0;31m             \u001b[0mjob\u001b[0m \u001b[0;34m=\u001b[0m \u001b[0mself\u001b[0m\u001b[0;34m.\u001b[0m\u001b[0m_backend\u001b[0m\u001b[0;34m.\u001b[0m\u001b[0mapply_async\u001b[0m\u001b[0;34m(\u001b[0m\u001b[0mbatch\u001b[0m\u001b[0;34m,\u001b[0m \u001b[0mcallback\u001b[0m\u001b[0;34m=\u001b[0m\u001b[0mcb\u001b[0m\u001b[0;34m)\u001b[0m\u001b[0;34m\u001b[0m\u001b[0;34m\u001b[0m\u001b[0m\n\u001b[0m\u001b[1;32m    778\u001b[0m             \u001b[0;31m# A job can complete so quickly than its callback is\u001b[0m\u001b[0;34m\u001b[0m\u001b[0;34m\u001b[0m\u001b[0;34m\u001b[0m\u001b[0m\n\u001b[1;32m    779\u001b[0m             \u001b[0;31m# called before we get here, causing self._jobs to\u001b[0m\u001b[0;34m\u001b[0m\u001b[0;34m\u001b[0m\u001b[0;34m\u001b[0m\u001b[0m\n",
      "\u001b[0;32m/shared-libs/python3.7/py/lib/python3.7/site-packages/joblib/_parallel_backends.py\u001b[0m in \u001b[0;36mapply_async\u001b[0;34m(self, func, callback)\u001b[0m\n\u001b[1;32m    206\u001b[0m     \u001b[0;32mdef\u001b[0m \u001b[0mapply_async\u001b[0m\u001b[0;34m(\u001b[0m\u001b[0mself\u001b[0m\u001b[0;34m,\u001b[0m \u001b[0mfunc\u001b[0m\u001b[0;34m,\u001b[0m \u001b[0mcallback\u001b[0m\u001b[0;34m=\u001b[0m\u001b[0;32mNone\u001b[0m\u001b[0;34m)\u001b[0m\u001b[0;34m:\u001b[0m\u001b[0;34m\u001b[0m\u001b[0;34m\u001b[0m\u001b[0m\n\u001b[1;32m    207\u001b[0m         \u001b[0;34m\"\"\"Schedule a func to be run\"\"\"\u001b[0m\u001b[0;34m\u001b[0m\u001b[0;34m\u001b[0m\u001b[0m\n\u001b[0;32m--> 208\u001b[0;31m         \u001b[0mresult\u001b[0m \u001b[0;34m=\u001b[0m \u001b[0mImmediateResult\u001b[0m\u001b[0;34m(\u001b[0m\u001b[0mfunc\u001b[0m\u001b[0;34m)\u001b[0m\u001b[0;34m\u001b[0m\u001b[0;34m\u001b[0m\u001b[0m\n\u001b[0m\u001b[1;32m    209\u001b[0m         \u001b[0;32mif\u001b[0m \u001b[0mcallback\u001b[0m\u001b[0;34m:\u001b[0m\u001b[0;34m\u001b[0m\u001b[0;34m\u001b[0m\u001b[0m\n\u001b[1;32m    210\u001b[0m             \u001b[0mcallback\u001b[0m\u001b[0;34m(\u001b[0m\u001b[0mresult\u001b[0m\u001b[0;34m)\u001b[0m\u001b[0;34m\u001b[0m\u001b[0;34m\u001b[0m\u001b[0m\n",
      "\u001b[0;32m/shared-libs/python3.7/py/lib/python3.7/site-packages/joblib/_parallel_backends.py\u001b[0m in \u001b[0;36m__init__\u001b[0;34m(self, batch)\u001b[0m\n\u001b[1;32m    570\u001b[0m         \u001b[0;31m# Don't delay the application, to avoid keeping the input\u001b[0m\u001b[0;34m\u001b[0m\u001b[0;34m\u001b[0m\u001b[0;34m\u001b[0m\u001b[0m\n\u001b[1;32m    571\u001b[0m         \u001b[0;31m# arguments in memory\u001b[0m\u001b[0;34m\u001b[0m\u001b[0;34m\u001b[0m\u001b[0;34m\u001b[0m\u001b[0m\n\u001b[0;32m--> 572\u001b[0;31m         \u001b[0mself\u001b[0m\u001b[0;34m.\u001b[0m\u001b[0mresults\u001b[0m \u001b[0;34m=\u001b[0m \u001b[0mbatch\u001b[0m\u001b[0;34m(\u001b[0m\u001b[0;34m)\u001b[0m\u001b[0;34m\u001b[0m\u001b[0;34m\u001b[0m\u001b[0m\n\u001b[0m\u001b[1;32m    573\u001b[0m \u001b[0;34m\u001b[0m\u001b[0m\n\u001b[1;32m    574\u001b[0m     \u001b[0;32mdef\u001b[0m \u001b[0mget\u001b[0m\u001b[0;34m(\u001b[0m\u001b[0mself\u001b[0m\u001b[0;34m)\u001b[0m\u001b[0;34m:\u001b[0m\u001b[0;34m\u001b[0m\u001b[0;34m\u001b[0m\u001b[0m\n",
      "\u001b[0;32m/shared-libs/python3.7/py/lib/python3.7/site-packages/joblib/parallel.py\u001b[0m in \u001b[0;36m__call__\u001b[0;34m(self)\u001b[0m\n\u001b[1;32m    261\u001b[0m         \u001b[0;32mwith\u001b[0m \u001b[0mparallel_backend\u001b[0m\u001b[0;34m(\u001b[0m\u001b[0mself\u001b[0m\u001b[0;34m.\u001b[0m\u001b[0m_backend\u001b[0m\u001b[0;34m,\u001b[0m \u001b[0mn_jobs\u001b[0m\u001b[0;34m=\u001b[0m\u001b[0mself\u001b[0m\u001b[0;34m.\u001b[0m\u001b[0m_n_jobs\u001b[0m\u001b[0;34m)\u001b[0m\u001b[0;34m:\u001b[0m\u001b[0;34m\u001b[0m\u001b[0;34m\u001b[0m\u001b[0m\n\u001b[1;32m    262\u001b[0m             return [func(*args, **kwargs)\n\u001b[0;32m--> 263\u001b[0;31m                     for func, args, kwargs in self.items]\n\u001b[0m\u001b[1;32m    264\u001b[0m \u001b[0;34m\u001b[0m\u001b[0m\n\u001b[1;32m    265\u001b[0m     \u001b[0;32mdef\u001b[0m \u001b[0m__reduce__\u001b[0m\u001b[0;34m(\u001b[0m\u001b[0mself\u001b[0m\u001b[0;34m)\u001b[0m\u001b[0;34m:\u001b[0m\u001b[0;34m\u001b[0m\u001b[0;34m\u001b[0m\u001b[0m\n",
      "\u001b[0;32m/shared-libs/python3.7/py/lib/python3.7/site-packages/joblib/parallel.py\u001b[0m in \u001b[0;36m<listcomp>\u001b[0;34m(.0)\u001b[0m\n\u001b[1;32m    261\u001b[0m         \u001b[0;32mwith\u001b[0m \u001b[0mparallel_backend\u001b[0m\u001b[0;34m(\u001b[0m\u001b[0mself\u001b[0m\u001b[0;34m.\u001b[0m\u001b[0m_backend\u001b[0m\u001b[0;34m,\u001b[0m \u001b[0mn_jobs\u001b[0m\u001b[0;34m=\u001b[0m\u001b[0mself\u001b[0m\u001b[0;34m.\u001b[0m\u001b[0m_n_jobs\u001b[0m\u001b[0;34m)\u001b[0m\u001b[0;34m:\u001b[0m\u001b[0;34m\u001b[0m\u001b[0;34m\u001b[0m\u001b[0m\n\u001b[1;32m    262\u001b[0m             return [func(*args, **kwargs)\n\u001b[0;32m--> 263\u001b[0;31m                     for func, args, kwargs in self.items]\n\u001b[0m\u001b[1;32m    264\u001b[0m \u001b[0;34m\u001b[0m\u001b[0m\n\u001b[1;32m    265\u001b[0m     \u001b[0;32mdef\u001b[0m \u001b[0m__reduce__\u001b[0m\u001b[0;34m(\u001b[0m\u001b[0mself\u001b[0m\u001b[0;34m)\u001b[0m\u001b[0;34m:\u001b[0m\u001b[0;34m\u001b[0m\u001b[0;34m\u001b[0m\u001b[0m\n",
      "\u001b[0;32m/shared-libs/python3.7/py/lib/python3.7/site-packages/sklearn/utils/fixes.py\u001b[0m in \u001b[0;36m__call__\u001b[0;34m(self, *args, **kwargs)\u001b[0m\n\u001b[1;32m    220\u001b[0m     \u001b[0;32mdef\u001b[0m \u001b[0m__call__\u001b[0m\u001b[0;34m(\u001b[0m\u001b[0mself\u001b[0m\u001b[0;34m,\u001b[0m \u001b[0;34m*\u001b[0m\u001b[0margs\u001b[0m\u001b[0;34m,\u001b[0m \u001b[0;34m**\u001b[0m\u001b[0mkwargs\u001b[0m\u001b[0;34m)\u001b[0m\u001b[0;34m:\u001b[0m\u001b[0;34m\u001b[0m\u001b[0;34m\u001b[0m\u001b[0m\n\u001b[1;32m    221\u001b[0m         \u001b[0;32mwith\u001b[0m \u001b[0mconfig_context\u001b[0m\u001b[0;34m(\u001b[0m\u001b[0;34m**\u001b[0m\u001b[0mself\u001b[0m\u001b[0;34m.\u001b[0m\u001b[0mconfig\u001b[0m\u001b[0;34m)\u001b[0m\u001b[0;34m:\u001b[0m\u001b[0;34m\u001b[0m\u001b[0;34m\u001b[0m\u001b[0m\n\u001b[0;32m--> 222\u001b[0;31m             \u001b[0;32mreturn\u001b[0m \u001b[0mself\u001b[0m\u001b[0;34m.\u001b[0m\u001b[0mfunction\u001b[0m\u001b[0;34m(\u001b[0m\u001b[0;34m*\u001b[0m\u001b[0margs\u001b[0m\u001b[0;34m,\u001b[0m \u001b[0;34m**\u001b[0m\u001b[0mkwargs\u001b[0m\u001b[0;34m)\u001b[0m\u001b[0;34m\u001b[0m\u001b[0;34m\u001b[0m\u001b[0m\n\u001b[0m",
      "\u001b[0;32m/shared-libs/python3.7/py/lib/python3.7/site-packages/sklearn/model_selection/_validation.py\u001b[0m in \u001b[0;36m_fit_and_predict\u001b[0;34m(estimator, X, y, train, test, verbose, fit_params, method)\u001b[0m\n\u001b[1;32m    958\u001b[0m         \u001b[0mestimator\u001b[0m\u001b[0;34m.\u001b[0m\u001b[0mfit\u001b[0m\u001b[0;34m(\u001b[0m\u001b[0mX_train\u001b[0m\u001b[0;34m,\u001b[0m \u001b[0;34m**\u001b[0m\u001b[0mfit_params\u001b[0m\u001b[0;34m)\u001b[0m\u001b[0;34m\u001b[0m\u001b[0;34m\u001b[0m\u001b[0m\n\u001b[1;32m    959\u001b[0m     \u001b[0;32melse\u001b[0m\u001b[0;34m:\u001b[0m\u001b[0;34m\u001b[0m\u001b[0;34m\u001b[0m\u001b[0m\n\u001b[0;32m--> 960\u001b[0;31m         \u001b[0mestimator\u001b[0m\u001b[0;34m.\u001b[0m\u001b[0mfit\u001b[0m\u001b[0;34m(\u001b[0m\u001b[0mX_train\u001b[0m\u001b[0;34m,\u001b[0m \u001b[0my_train\u001b[0m\u001b[0;34m,\u001b[0m \u001b[0;34m**\u001b[0m\u001b[0mfit_params\u001b[0m\u001b[0;34m)\u001b[0m\u001b[0;34m\u001b[0m\u001b[0;34m\u001b[0m\u001b[0m\n\u001b[0m\u001b[1;32m    961\u001b[0m     \u001b[0mfunc\u001b[0m \u001b[0;34m=\u001b[0m \u001b[0mgetattr\u001b[0m\u001b[0;34m(\u001b[0m\u001b[0mestimator\u001b[0m\u001b[0;34m,\u001b[0m \u001b[0mmethod\u001b[0m\u001b[0;34m)\u001b[0m\u001b[0;34m\u001b[0m\u001b[0;34m\u001b[0m\u001b[0m\n\u001b[1;32m    962\u001b[0m     \u001b[0mpredictions\u001b[0m \u001b[0;34m=\u001b[0m \u001b[0mfunc\u001b[0m\u001b[0;34m(\u001b[0m\u001b[0mX_test\u001b[0m\u001b[0;34m)\u001b[0m\u001b[0;34m\u001b[0m\u001b[0;34m\u001b[0m\u001b[0m\n",
      "\u001b[0;32m/shared-libs/python3.7/py/lib/python3.7/site-packages/sklearn/pipeline.py\u001b[0m in \u001b[0;36mfit\u001b[0;34m(self, X, y, **fit_params)\u001b[0m\n\u001b[1;32m    344\u001b[0m             \u001b[0;32mif\u001b[0m \u001b[0mself\u001b[0m\u001b[0;34m.\u001b[0m\u001b[0m_final_estimator\u001b[0m \u001b[0;34m!=\u001b[0m \u001b[0;34m'passthrough'\u001b[0m\u001b[0;34m:\u001b[0m\u001b[0;34m\u001b[0m\u001b[0;34m\u001b[0m\u001b[0m\n\u001b[1;32m    345\u001b[0m                 \u001b[0mfit_params_last_step\u001b[0m \u001b[0;34m=\u001b[0m \u001b[0mfit_params_steps\u001b[0m\u001b[0;34m[\u001b[0m\u001b[0mself\u001b[0m\u001b[0;34m.\u001b[0m\u001b[0msteps\u001b[0m\u001b[0;34m[\u001b[0m\u001b[0;34m-\u001b[0m\u001b[0;36m1\u001b[0m\u001b[0;34m]\u001b[0m\u001b[0;34m[\u001b[0m\u001b[0;36m0\u001b[0m\u001b[0;34m]\u001b[0m\u001b[0;34m]\u001b[0m\u001b[0;34m\u001b[0m\u001b[0;34m\u001b[0m\u001b[0m\n\u001b[0;32m--> 346\u001b[0;31m                 \u001b[0mself\u001b[0m\u001b[0;34m.\u001b[0m\u001b[0m_final_estimator\u001b[0m\u001b[0;34m.\u001b[0m\u001b[0mfit\u001b[0m\u001b[0;34m(\u001b[0m\u001b[0mXt\u001b[0m\u001b[0;34m,\u001b[0m \u001b[0my\u001b[0m\u001b[0;34m,\u001b[0m \u001b[0;34m**\u001b[0m\u001b[0mfit_params_last_step\u001b[0m\u001b[0;34m)\u001b[0m\u001b[0;34m\u001b[0m\u001b[0;34m\u001b[0m\u001b[0m\n\u001b[0m\u001b[1;32m    347\u001b[0m \u001b[0;34m\u001b[0m\u001b[0m\n\u001b[1;32m    348\u001b[0m         \u001b[0;32mreturn\u001b[0m \u001b[0mself\u001b[0m\u001b[0;34m\u001b[0m\u001b[0;34m\u001b[0m\u001b[0m\n",
      "\u001b[0;32m/shared-libs/python3.7/py/lib/python3.7/site-packages/sklearn/naive_bayes.py\u001b[0m in \u001b[0;36mfit\u001b[0;34m(self, X, y, sample_weight)\u001b[0m\n\u001b[1;32m    205\u001b[0m         \u001b[0mself\u001b[0m \u001b[0;34m:\u001b[0m \u001b[0mobject\u001b[0m\u001b[0;34m\u001b[0m\u001b[0;34m\u001b[0m\u001b[0m\n\u001b[1;32m    206\u001b[0m         \"\"\"\n\u001b[0;32m--> 207\u001b[0;31m         \u001b[0mX\u001b[0m\u001b[0;34m,\u001b[0m \u001b[0my\u001b[0m \u001b[0;34m=\u001b[0m \u001b[0mself\u001b[0m\u001b[0;34m.\u001b[0m\u001b[0m_validate_data\u001b[0m\u001b[0;34m(\u001b[0m\u001b[0mX\u001b[0m\u001b[0;34m,\u001b[0m \u001b[0my\u001b[0m\u001b[0;34m)\u001b[0m\u001b[0;34m\u001b[0m\u001b[0;34m\u001b[0m\u001b[0m\n\u001b[0m\u001b[1;32m    208\u001b[0m         \u001b[0my\u001b[0m \u001b[0;34m=\u001b[0m \u001b[0mcolumn_or_1d\u001b[0m\u001b[0;34m(\u001b[0m\u001b[0my\u001b[0m\u001b[0;34m,\u001b[0m \u001b[0mwarn\u001b[0m\u001b[0;34m=\u001b[0m\u001b[0;32mTrue\u001b[0m\u001b[0;34m)\u001b[0m\u001b[0;34m\u001b[0m\u001b[0;34m\u001b[0m\u001b[0m\n\u001b[1;32m    209\u001b[0m         return self._partial_fit(X, y, np.unique(y), _refit=True,\n",
      "\u001b[0;32m/shared-libs/python3.7/py/lib/python3.7/site-packages/sklearn/base.py\u001b[0m in \u001b[0;36m_validate_data\u001b[0;34m(self, X, y, reset, validate_separately, **check_params)\u001b[0m\n\u001b[1;32m    431\u001b[0m                 \u001b[0my\u001b[0m \u001b[0;34m=\u001b[0m \u001b[0mcheck_array\u001b[0m\u001b[0;34m(\u001b[0m\u001b[0my\u001b[0m\u001b[0;34m,\u001b[0m \u001b[0;34m**\u001b[0m\u001b[0mcheck_y_params\u001b[0m\u001b[0;34m)\u001b[0m\u001b[0;34m\u001b[0m\u001b[0;34m\u001b[0m\u001b[0m\n\u001b[1;32m    432\u001b[0m             \u001b[0;32melse\u001b[0m\u001b[0;34m:\u001b[0m\u001b[0;34m\u001b[0m\u001b[0;34m\u001b[0m\u001b[0m\n\u001b[0;32m--> 433\u001b[0;31m                 \u001b[0mX\u001b[0m\u001b[0;34m,\u001b[0m \u001b[0my\u001b[0m \u001b[0;34m=\u001b[0m \u001b[0mcheck_X_y\u001b[0m\u001b[0;34m(\u001b[0m\u001b[0mX\u001b[0m\u001b[0;34m,\u001b[0m \u001b[0my\u001b[0m\u001b[0;34m,\u001b[0m \u001b[0;34m**\u001b[0m\u001b[0mcheck_params\u001b[0m\u001b[0;34m)\u001b[0m\u001b[0;34m\u001b[0m\u001b[0;34m\u001b[0m\u001b[0m\n\u001b[0m\u001b[1;32m    434\u001b[0m             \u001b[0mout\u001b[0m \u001b[0;34m=\u001b[0m \u001b[0mX\u001b[0m\u001b[0;34m,\u001b[0m \u001b[0my\u001b[0m\u001b[0;34m\u001b[0m\u001b[0;34m\u001b[0m\u001b[0m\n\u001b[1;32m    435\u001b[0m \u001b[0;34m\u001b[0m\u001b[0m\n",
      "\u001b[0;32m/shared-libs/python3.7/py/lib/python3.7/site-packages/sklearn/utils/validation.py\u001b[0m in \u001b[0;36minner_f\u001b[0;34m(*args, **kwargs)\u001b[0m\n\u001b[1;32m     61\u001b[0m             \u001b[0mextra_args\u001b[0m \u001b[0;34m=\u001b[0m \u001b[0mlen\u001b[0m\u001b[0;34m(\u001b[0m\u001b[0margs\u001b[0m\u001b[0;34m)\u001b[0m \u001b[0;34m-\u001b[0m \u001b[0mlen\u001b[0m\u001b[0;34m(\u001b[0m\u001b[0mall_args\u001b[0m\u001b[0;34m)\u001b[0m\u001b[0;34m\u001b[0m\u001b[0;34m\u001b[0m\u001b[0m\n\u001b[1;32m     62\u001b[0m             \u001b[0;32mif\u001b[0m \u001b[0mextra_args\u001b[0m \u001b[0;34m<=\u001b[0m \u001b[0;36m0\u001b[0m\u001b[0;34m:\u001b[0m\u001b[0;34m\u001b[0m\u001b[0;34m\u001b[0m\u001b[0m\n\u001b[0;32m---> 63\u001b[0;31m                 \u001b[0;32mreturn\u001b[0m \u001b[0mf\u001b[0m\u001b[0;34m(\u001b[0m\u001b[0;34m*\u001b[0m\u001b[0margs\u001b[0m\u001b[0;34m,\u001b[0m \u001b[0;34m**\u001b[0m\u001b[0mkwargs\u001b[0m\u001b[0;34m)\u001b[0m\u001b[0;34m\u001b[0m\u001b[0;34m\u001b[0m\u001b[0m\n\u001b[0m\u001b[1;32m     64\u001b[0m \u001b[0;34m\u001b[0m\u001b[0m\n\u001b[1;32m     65\u001b[0m             \u001b[0;31m# extra_args > 0\u001b[0m\u001b[0;34m\u001b[0m\u001b[0;34m\u001b[0m\u001b[0;34m\u001b[0m\u001b[0m\n",
      "\u001b[0;32m/shared-libs/python3.7/py/lib/python3.7/site-packages/sklearn/utils/validation.py\u001b[0m in \u001b[0;36mcheck_X_y\u001b[0;34m(X, y, accept_sparse, accept_large_sparse, dtype, order, copy, force_all_finite, ensure_2d, allow_nd, multi_output, ensure_min_samples, ensure_min_features, y_numeric, estimator)\u001b[0m\n\u001b[1;32m    876\u001b[0m                     \u001b[0mensure_min_samples\u001b[0m\u001b[0;34m=\u001b[0m\u001b[0mensure_min_samples\u001b[0m\u001b[0;34m,\u001b[0m\u001b[0;34m\u001b[0m\u001b[0;34m\u001b[0m\u001b[0m\n\u001b[1;32m    877\u001b[0m                     \u001b[0mensure_min_features\u001b[0m\u001b[0;34m=\u001b[0m\u001b[0mensure_min_features\u001b[0m\u001b[0;34m,\u001b[0m\u001b[0;34m\u001b[0m\u001b[0;34m\u001b[0m\u001b[0m\n\u001b[0;32m--> 878\u001b[0;31m                     estimator=estimator)\n\u001b[0m\u001b[1;32m    879\u001b[0m     \u001b[0;32mif\u001b[0m \u001b[0mmulti_output\u001b[0m\u001b[0;34m:\u001b[0m\u001b[0;34m\u001b[0m\u001b[0;34m\u001b[0m\u001b[0m\n\u001b[1;32m    880\u001b[0m         y = check_array(y, accept_sparse='csr', force_all_finite=True,\n",
      "\u001b[0;32m/shared-libs/python3.7/py/lib/python3.7/site-packages/sklearn/utils/validation.py\u001b[0m in \u001b[0;36minner_f\u001b[0;34m(*args, **kwargs)\u001b[0m\n\u001b[1;32m     61\u001b[0m             \u001b[0mextra_args\u001b[0m \u001b[0;34m=\u001b[0m \u001b[0mlen\u001b[0m\u001b[0;34m(\u001b[0m\u001b[0margs\u001b[0m\u001b[0;34m)\u001b[0m \u001b[0;34m-\u001b[0m \u001b[0mlen\u001b[0m\u001b[0;34m(\u001b[0m\u001b[0mall_args\u001b[0m\u001b[0;34m)\u001b[0m\u001b[0;34m\u001b[0m\u001b[0;34m\u001b[0m\u001b[0m\n\u001b[1;32m     62\u001b[0m             \u001b[0;32mif\u001b[0m \u001b[0mextra_args\u001b[0m \u001b[0;34m<=\u001b[0m \u001b[0;36m0\u001b[0m\u001b[0;34m:\u001b[0m\u001b[0;34m\u001b[0m\u001b[0;34m\u001b[0m\u001b[0m\n\u001b[0;32m---> 63\u001b[0;31m                 \u001b[0;32mreturn\u001b[0m \u001b[0mf\u001b[0m\u001b[0;34m(\u001b[0m\u001b[0;34m*\u001b[0m\u001b[0margs\u001b[0m\u001b[0;34m,\u001b[0m \u001b[0;34m**\u001b[0m\u001b[0mkwargs\u001b[0m\u001b[0;34m)\u001b[0m\u001b[0;34m\u001b[0m\u001b[0;34m\u001b[0m\u001b[0m\n\u001b[0m\u001b[1;32m     64\u001b[0m \u001b[0;34m\u001b[0m\u001b[0m\n\u001b[1;32m     65\u001b[0m             \u001b[0;31m# extra_args > 0\u001b[0m\u001b[0;34m\u001b[0m\u001b[0;34m\u001b[0m\u001b[0;34m\u001b[0m\u001b[0m\n",
      "\u001b[0;32m/shared-libs/python3.7/py/lib/python3.7/site-packages/sklearn/utils/validation.py\u001b[0m in \u001b[0;36mcheck_array\u001b[0;34m(array, accept_sparse, accept_large_sparse, dtype, order, copy, force_all_finite, ensure_2d, allow_nd, ensure_min_samples, ensure_min_features, estimator)\u001b[0m\n\u001b[1;32m    651\u001b[0m                                       \u001b[0mdtype\u001b[0m\u001b[0;34m=\u001b[0m\u001b[0mdtype\u001b[0m\u001b[0;34m,\u001b[0m \u001b[0mcopy\u001b[0m\u001b[0;34m=\u001b[0m\u001b[0mcopy\u001b[0m\u001b[0;34m,\u001b[0m\u001b[0;34m\u001b[0m\u001b[0;34m\u001b[0m\u001b[0m\n\u001b[1;32m    652\u001b[0m                                       \u001b[0mforce_all_finite\u001b[0m\u001b[0;34m=\u001b[0m\u001b[0mforce_all_finite\u001b[0m\u001b[0;34m,\u001b[0m\u001b[0;34m\u001b[0m\u001b[0;34m\u001b[0m\u001b[0m\n\u001b[0;32m--> 653\u001b[0;31m                                       accept_large_sparse=accept_large_sparse)\n\u001b[0m\u001b[1;32m    654\u001b[0m     \u001b[0;32melse\u001b[0m\u001b[0;34m:\u001b[0m\u001b[0;34m\u001b[0m\u001b[0;34m\u001b[0m\u001b[0m\n\u001b[1;32m    655\u001b[0m         \u001b[0;31m# If np.array(..) gives ComplexWarning, then we convert the warning\u001b[0m\u001b[0;34m\u001b[0m\u001b[0;34m\u001b[0m\u001b[0;34m\u001b[0m\u001b[0m\n",
      "\u001b[0;32m/shared-libs/python3.7/py/lib/python3.7/site-packages/sklearn/utils/validation.py\u001b[0m in \u001b[0;36m_ensure_sparse_format\u001b[0;34m(spmatrix, accept_sparse, dtype, copy, force_all_finite, accept_large_sparse)\u001b[0m\n\u001b[1;32m    415\u001b[0m \u001b[0;34m\u001b[0m\u001b[0m\n\u001b[1;32m    416\u001b[0m     \u001b[0;32mif\u001b[0m \u001b[0maccept_sparse\u001b[0m \u001b[0;32mis\u001b[0m \u001b[0;32mFalse\u001b[0m\u001b[0;34m:\u001b[0m\u001b[0;34m\u001b[0m\u001b[0;34m\u001b[0m\u001b[0m\n\u001b[0;32m--> 417\u001b[0;31m         raise TypeError('A sparse matrix was passed, but dense '\n\u001b[0m\u001b[1;32m    418\u001b[0m                         \u001b[0;34m'data is required. Use X.toarray() to '\u001b[0m\u001b[0;34m\u001b[0m\u001b[0;34m\u001b[0m\u001b[0m\n\u001b[1;32m    419\u001b[0m                         'convert to a dense numpy array.')\n",
      "\u001b[0;31mTypeError\u001b[0m: A sparse matrix was passed, but dense data is required. Use X.toarray() to convert to a dense numpy array."
     ]
    }
   ]
  },
  {
   "cell_type": "code",
   "metadata": {
    "tags": [],
    "cell_id": "00014-c4bc481f-7b4a-44c1-916e-e41fdfbcb958",
    "deepnote_to_be_reexecuted": false,
    "source_hash": "fe21cfc5",
    "execution_start": 1620980514015,
    "execution_millis": 195,
    "deepnote_cell_type": "code"
   },
   "source": "from sklearn.inspection import permutation_importance\nr = permutation_importance(model, tree_prepro.fit_transform(x), y,\n                        n_repeats=30,\n                        random_state=0)\n\nfor i in r.importances_mean.argsort()[::-1]:\n    if r.importances_mean[i] - 2 * r.importances_std[i] > 0:\n        print(f\"{df.feature_names[i]:<8}\"\n            f\"{r.importances_mean[i]:.3f}\"\n            f\" +/- {r.importances_std[i]:.3f}\")",
   "execution_count": 108,
   "outputs": [
    {
     "output_type": "error",
     "ename": "ValueError",
     "evalue": "Specifying the columns using strings is only supported for pandas DataFrames",
     "traceback": [
      "\u001b[0;31m---------------------------------------------------------------------------\u001b[0m",
      "\u001b[0;31mEmpty\u001b[0m                                     Traceback (most recent call last)",
      "\u001b[0;32m/shared-libs/python3.7/py/lib/python3.7/site-packages/joblib/parallel.py\u001b[0m in \u001b[0;36mdispatch_one_batch\u001b[0;34m(self, iterator)\u001b[0m\n\u001b[1;32m    819\u001b[0m             \u001b[0;32mtry\u001b[0m\u001b[0;34m:\u001b[0m\u001b[0;34m\u001b[0m\u001b[0;34m\u001b[0m\u001b[0m\n\u001b[0;32m--> 820\u001b[0;31m                 \u001b[0mtasks\u001b[0m \u001b[0;34m=\u001b[0m \u001b[0mself\u001b[0m\u001b[0;34m.\u001b[0m\u001b[0m_ready_batches\u001b[0m\u001b[0;34m.\u001b[0m\u001b[0mget\u001b[0m\u001b[0;34m(\u001b[0m\u001b[0mblock\u001b[0m\u001b[0;34m=\u001b[0m\u001b[0;32mFalse\u001b[0m\u001b[0;34m)\u001b[0m\u001b[0;34m\u001b[0m\u001b[0;34m\u001b[0m\u001b[0m\n\u001b[0m\u001b[1;32m    821\u001b[0m             \u001b[0;32mexcept\u001b[0m \u001b[0mqueue\u001b[0m\u001b[0;34m.\u001b[0m\u001b[0mEmpty\u001b[0m\u001b[0;34m:\u001b[0m\u001b[0;34m\u001b[0m\u001b[0;34m\u001b[0m\u001b[0m\n",
      "\u001b[0;32m/usr/local/lib/python3.7/queue.py\u001b[0m in \u001b[0;36mget\u001b[0;34m(self, block, timeout)\u001b[0m\n\u001b[1;32m    166\u001b[0m                 \u001b[0;32mif\u001b[0m \u001b[0;32mnot\u001b[0m \u001b[0mself\u001b[0m\u001b[0;34m.\u001b[0m\u001b[0m_qsize\u001b[0m\u001b[0;34m(\u001b[0m\u001b[0;34m)\u001b[0m\u001b[0;34m:\u001b[0m\u001b[0;34m\u001b[0m\u001b[0;34m\u001b[0m\u001b[0m\n\u001b[0;32m--> 167\u001b[0;31m                     \u001b[0;32mraise\u001b[0m \u001b[0mEmpty\u001b[0m\u001b[0;34m\u001b[0m\u001b[0;34m\u001b[0m\u001b[0m\n\u001b[0m\u001b[1;32m    168\u001b[0m             \u001b[0;32melif\u001b[0m \u001b[0mtimeout\u001b[0m \u001b[0;32mis\u001b[0m \u001b[0;32mNone\u001b[0m\u001b[0;34m:\u001b[0m\u001b[0;34m\u001b[0m\u001b[0;34m\u001b[0m\u001b[0m\n",
      "\u001b[0;31mEmpty\u001b[0m: ",
      "\nDuring handling of the above exception, another exception occurred:\n",
      "\u001b[0;31mValueError\u001b[0m                                Traceback (most recent call last)",
      "\u001b[0;32m<ipython-input-108-b16a03ef6b22>\u001b[0m in \u001b[0;36m<module>\u001b[0;34m\u001b[0m\n\u001b[1;32m      2\u001b[0m r = permutation_importance(model, tree_prepro.fit_transform(x), y,\n\u001b[1;32m      3\u001b[0m                         \u001b[0mn_repeats\u001b[0m\u001b[0;34m=\u001b[0m\u001b[0;36m30\u001b[0m\u001b[0;34m,\u001b[0m\u001b[0;34m\u001b[0m\u001b[0;34m\u001b[0m\u001b[0m\n\u001b[0;32m----> 4\u001b[0;31m                         random_state=0)\n\u001b[0m\u001b[1;32m      5\u001b[0m \u001b[0;34m\u001b[0m\u001b[0m\n\u001b[1;32m      6\u001b[0m \u001b[0;32mfor\u001b[0m \u001b[0mi\u001b[0m \u001b[0;32min\u001b[0m \u001b[0mr\u001b[0m\u001b[0;34m.\u001b[0m\u001b[0mimportances_mean\u001b[0m\u001b[0;34m.\u001b[0m\u001b[0margsort\u001b[0m\u001b[0;34m(\u001b[0m\u001b[0;34m)\u001b[0m\u001b[0;34m[\u001b[0m\u001b[0;34m:\u001b[0m\u001b[0;34m:\u001b[0m\u001b[0;34m-\u001b[0m\u001b[0;36m1\u001b[0m\u001b[0;34m]\u001b[0m\u001b[0;34m:\u001b[0m\u001b[0;34m\u001b[0m\u001b[0;34m\u001b[0m\u001b[0m\n",
      "\u001b[0;32m/shared-libs/python3.7/py/lib/python3.7/site-packages/sklearn/utils/validation.py\u001b[0m in \u001b[0;36minner_f\u001b[0;34m(*args, **kwargs)\u001b[0m\n\u001b[1;32m     61\u001b[0m             \u001b[0mextra_args\u001b[0m \u001b[0;34m=\u001b[0m \u001b[0mlen\u001b[0m\u001b[0;34m(\u001b[0m\u001b[0margs\u001b[0m\u001b[0;34m)\u001b[0m \u001b[0;34m-\u001b[0m \u001b[0mlen\u001b[0m\u001b[0;34m(\u001b[0m\u001b[0mall_args\u001b[0m\u001b[0;34m)\u001b[0m\u001b[0;34m\u001b[0m\u001b[0;34m\u001b[0m\u001b[0m\n\u001b[1;32m     62\u001b[0m             \u001b[0;32mif\u001b[0m \u001b[0mextra_args\u001b[0m \u001b[0;34m<=\u001b[0m \u001b[0;36m0\u001b[0m\u001b[0;34m:\u001b[0m\u001b[0;34m\u001b[0m\u001b[0;34m\u001b[0m\u001b[0m\n\u001b[0;32m---> 63\u001b[0;31m                 \u001b[0;32mreturn\u001b[0m \u001b[0mf\u001b[0m\u001b[0;34m(\u001b[0m\u001b[0;34m*\u001b[0m\u001b[0margs\u001b[0m\u001b[0;34m,\u001b[0m \u001b[0;34m**\u001b[0m\u001b[0mkwargs\u001b[0m\u001b[0;34m)\u001b[0m\u001b[0;34m\u001b[0m\u001b[0;34m\u001b[0m\u001b[0m\n\u001b[0m\u001b[1;32m     64\u001b[0m \u001b[0;34m\u001b[0m\u001b[0m\n\u001b[1;32m     65\u001b[0m             \u001b[0;31m# extra_args > 0\u001b[0m\u001b[0;34m\u001b[0m\u001b[0;34m\u001b[0m\u001b[0;34m\u001b[0m\u001b[0m\n",
      "\u001b[0;32m/shared-libs/python3.7/py/lib/python3.7/site-packages/sklearn/inspection/_permutation_importance.py\u001b[0m in \u001b[0;36mpermutation_importance\u001b[0;34m(estimator, X, y, scoring, n_repeats, n_jobs, random_state, sample_weight)\u001b[0m\n\u001b[1;32m    145\u001b[0m \u001b[0;34m\u001b[0m\u001b[0m\n\u001b[1;32m    146\u001b[0m     \u001b[0mscorer\u001b[0m \u001b[0;34m=\u001b[0m \u001b[0mcheck_scoring\u001b[0m\u001b[0;34m(\u001b[0m\u001b[0mestimator\u001b[0m\u001b[0;34m,\u001b[0m \u001b[0mscoring\u001b[0m\u001b[0;34m=\u001b[0m\u001b[0mscoring\u001b[0m\u001b[0;34m)\u001b[0m\u001b[0;34m\u001b[0m\u001b[0;34m\u001b[0m\u001b[0m\n\u001b[0;32m--> 147\u001b[0;31m     \u001b[0mbaseline_score\u001b[0m \u001b[0;34m=\u001b[0m \u001b[0m_weights_scorer\u001b[0m\u001b[0;34m(\u001b[0m\u001b[0mscorer\u001b[0m\u001b[0;34m,\u001b[0m \u001b[0mestimator\u001b[0m\u001b[0;34m,\u001b[0m \u001b[0mX\u001b[0m\u001b[0;34m,\u001b[0m \u001b[0my\u001b[0m\u001b[0;34m,\u001b[0m \u001b[0msample_weight\u001b[0m\u001b[0;34m)\u001b[0m\u001b[0;34m\u001b[0m\u001b[0;34m\u001b[0m\u001b[0m\n\u001b[0m\u001b[1;32m    148\u001b[0m \u001b[0;34m\u001b[0m\u001b[0m\n\u001b[1;32m    149\u001b[0m     scores = Parallel(n_jobs=n_jobs)(delayed(_calculate_permutation_scores)(\n",
      "\u001b[0;32m/shared-libs/python3.7/py/lib/python3.7/site-packages/sklearn/inspection/_permutation_importance.py\u001b[0m in \u001b[0;36m_weights_scorer\u001b[0;34m(scorer, estimator, X, y, sample_weight)\u001b[0m\n\u001b[1;32m     14\u001b[0m     \u001b[0;32mif\u001b[0m \u001b[0msample_weight\u001b[0m \u001b[0;32mis\u001b[0m \u001b[0;32mnot\u001b[0m \u001b[0;32mNone\u001b[0m\u001b[0;34m:\u001b[0m\u001b[0;34m\u001b[0m\u001b[0;34m\u001b[0m\u001b[0m\n\u001b[1;32m     15\u001b[0m         \u001b[0;32mreturn\u001b[0m \u001b[0mscorer\u001b[0m\u001b[0;34m(\u001b[0m\u001b[0mestimator\u001b[0m\u001b[0;34m,\u001b[0m \u001b[0mX\u001b[0m\u001b[0;34m,\u001b[0m \u001b[0my\u001b[0m\u001b[0;34m,\u001b[0m \u001b[0msample_weight\u001b[0m\u001b[0;34m)\u001b[0m\u001b[0;34m\u001b[0m\u001b[0;34m\u001b[0m\u001b[0m\n\u001b[0;32m---> 16\u001b[0;31m     \u001b[0;32mreturn\u001b[0m \u001b[0mscorer\u001b[0m\u001b[0;34m(\u001b[0m\u001b[0mestimator\u001b[0m\u001b[0;34m,\u001b[0m \u001b[0mX\u001b[0m\u001b[0;34m,\u001b[0m \u001b[0my\u001b[0m\u001b[0;34m)\u001b[0m\u001b[0;34m\u001b[0m\u001b[0;34m\u001b[0m\u001b[0m\n\u001b[0m\u001b[1;32m     17\u001b[0m \u001b[0;34m\u001b[0m\u001b[0m\n\u001b[1;32m     18\u001b[0m \u001b[0;34m\u001b[0m\u001b[0m\n",
      "\u001b[0;32m/shared-libs/python3.7/py/lib/python3.7/site-packages/sklearn/metrics/_scorer.py\u001b[0m in \u001b[0;36m_passthrough_scorer\u001b[0;34m(estimator, *args, **kwargs)\u001b[0m\n\u001b[1;32m    395\u001b[0m \u001b[0;32mdef\u001b[0m \u001b[0m_passthrough_scorer\u001b[0m\u001b[0;34m(\u001b[0m\u001b[0mestimator\u001b[0m\u001b[0;34m,\u001b[0m \u001b[0;34m*\u001b[0m\u001b[0margs\u001b[0m\u001b[0;34m,\u001b[0m \u001b[0;34m**\u001b[0m\u001b[0mkwargs\u001b[0m\u001b[0;34m)\u001b[0m\u001b[0;34m:\u001b[0m\u001b[0;34m\u001b[0m\u001b[0;34m\u001b[0m\u001b[0m\n\u001b[1;32m    396\u001b[0m     \u001b[0;34m\"\"\"Function that wraps estimator.score\"\"\"\u001b[0m\u001b[0;34m\u001b[0m\u001b[0;34m\u001b[0m\u001b[0m\n\u001b[0;32m--> 397\u001b[0;31m     \u001b[0;32mreturn\u001b[0m \u001b[0mestimator\u001b[0m\u001b[0;34m.\u001b[0m\u001b[0mscore\u001b[0m\u001b[0;34m(\u001b[0m\u001b[0;34m*\u001b[0m\u001b[0margs\u001b[0m\u001b[0;34m,\u001b[0m \u001b[0;34m**\u001b[0m\u001b[0mkwargs\u001b[0m\u001b[0;34m)\u001b[0m\u001b[0;34m\u001b[0m\u001b[0;34m\u001b[0m\u001b[0m\n\u001b[0m\u001b[1;32m    398\u001b[0m \u001b[0;34m\u001b[0m\u001b[0m\n\u001b[1;32m    399\u001b[0m \u001b[0;34m\u001b[0m\u001b[0m\n",
      "\u001b[0;32m/shared-libs/python3.7/py/lib/python3.7/site-packages/sklearn/utils/metaestimators.py\u001b[0m in \u001b[0;36m<lambda>\u001b[0;34m(*args, **kwargs)\u001b[0m\n\u001b[1;32m    118\u001b[0m \u001b[0;34m\u001b[0m\u001b[0m\n\u001b[1;32m    119\u001b[0m         \u001b[0;31m# lambda, but not partial, allows help() to work with update_wrapper\u001b[0m\u001b[0;34m\u001b[0m\u001b[0;34m\u001b[0m\u001b[0;34m\u001b[0m\u001b[0m\n\u001b[0;32m--> 120\u001b[0;31m         \u001b[0mout\u001b[0m \u001b[0;34m=\u001b[0m \u001b[0;32mlambda\u001b[0m \u001b[0;34m*\u001b[0m\u001b[0margs\u001b[0m\u001b[0;34m,\u001b[0m \u001b[0;34m**\u001b[0m\u001b[0mkwargs\u001b[0m\u001b[0;34m:\u001b[0m \u001b[0mself\u001b[0m\u001b[0;34m.\u001b[0m\u001b[0mfn\u001b[0m\u001b[0;34m(\u001b[0m\u001b[0mobj\u001b[0m\u001b[0;34m,\u001b[0m \u001b[0;34m*\u001b[0m\u001b[0margs\u001b[0m\u001b[0;34m,\u001b[0m \u001b[0;34m**\u001b[0m\u001b[0mkwargs\u001b[0m\u001b[0;34m)\u001b[0m\u001b[0;34m\u001b[0m\u001b[0;34m\u001b[0m\u001b[0m\n\u001b[0m\u001b[1;32m    121\u001b[0m         \u001b[0;31m# update the docstring of the returned function\u001b[0m\u001b[0;34m\u001b[0m\u001b[0;34m\u001b[0m\u001b[0;34m\u001b[0m\u001b[0m\n\u001b[1;32m    122\u001b[0m         \u001b[0mupdate_wrapper\u001b[0m\u001b[0;34m(\u001b[0m\u001b[0mout\u001b[0m\u001b[0;34m,\u001b[0m \u001b[0mself\u001b[0m\u001b[0;34m.\u001b[0m\u001b[0mfn\u001b[0m\u001b[0;34m)\u001b[0m\u001b[0;34m\u001b[0m\u001b[0;34m\u001b[0m\u001b[0m\n",
      "\u001b[0;32m/shared-libs/python3.7/py/lib/python3.7/site-packages/sklearn/pipeline.py\u001b[0m in \u001b[0;36mscore\u001b[0;34m(self, X, y, sample_weight)\u001b[0m\n\u001b[1;32m    616\u001b[0m         \u001b[0mXt\u001b[0m \u001b[0;34m=\u001b[0m \u001b[0mX\u001b[0m\u001b[0;34m\u001b[0m\u001b[0;34m\u001b[0m\u001b[0m\n\u001b[1;32m    617\u001b[0m         \u001b[0;32mfor\u001b[0m \u001b[0m_\u001b[0m\u001b[0;34m,\u001b[0m \u001b[0mname\u001b[0m\u001b[0;34m,\u001b[0m \u001b[0mtransform\u001b[0m \u001b[0;32min\u001b[0m \u001b[0mself\u001b[0m\u001b[0;34m.\u001b[0m\u001b[0m_iter\u001b[0m\u001b[0;34m(\u001b[0m\u001b[0mwith_final\u001b[0m\u001b[0;34m=\u001b[0m\u001b[0;32mFalse\u001b[0m\u001b[0;34m)\u001b[0m\u001b[0;34m:\u001b[0m\u001b[0;34m\u001b[0m\u001b[0;34m\u001b[0m\u001b[0m\n\u001b[0;32m--> 618\u001b[0;31m             \u001b[0mXt\u001b[0m \u001b[0;34m=\u001b[0m \u001b[0mtransform\u001b[0m\u001b[0;34m.\u001b[0m\u001b[0mtransform\u001b[0m\u001b[0;34m(\u001b[0m\u001b[0mXt\u001b[0m\u001b[0;34m)\u001b[0m\u001b[0;34m\u001b[0m\u001b[0;34m\u001b[0m\u001b[0m\n\u001b[0m\u001b[1;32m    619\u001b[0m         \u001b[0mscore_params\u001b[0m \u001b[0;34m=\u001b[0m \u001b[0;34m{\u001b[0m\u001b[0;34m}\u001b[0m\u001b[0;34m\u001b[0m\u001b[0;34m\u001b[0m\u001b[0m\n\u001b[1;32m    620\u001b[0m         \u001b[0;32mif\u001b[0m \u001b[0msample_weight\u001b[0m \u001b[0;32mis\u001b[0m \u001b[0;32mnot\u001b[0m \u001b[0;32mNone\u001b[0m\u001b[0;34m:\u001b[0m\u001b[0;34m\u001b[0m\u001b[0;34m\u001b[0m\u001b[0m\n",
      "\u001b[0;32m/shared-libs/python3.7/py/lib/python3.7/site-packages/sklearn/compose/_column_transformer.py\u001b[0m in \u001b[0;36mtransform\u001b[0;34m(self, X)\u001b[0m\n\u001b[1;32m    562\u001b[0m                 \u001b[0;34m\"data given during fit.\"\u001b[0m\u001b[0;34m\u001b[0m\u001b[0;34m\u001b[0m\u001b[0m\n\u001b[1;32m    563\u001b[0m             )\n\u001b[0;32m--> 564\u001b[0;31m         \u001b[0mXs\u001b[0m \u001b[0;34m=\u001b[0m \u001b[0mself\u001b[0m\u001b[0;34m.\u001b[0m\u001b[0m_fit_transform\u001b[0m\u001b[0;34m(\u001b[0m\u001b[0mX\u001b[0m\u001b[0;34m,\u001b[0m \u001b[0;32mNone\u001b[0m\u001b[0;34m,\u001b[0m \u001b[0m_transform_one\u001b[0m\u001b[0;34m,\u001b[0m \u001b[0mfitted\u001b[0m\u001b[0;34m=\u001b[0m\u001b[0;32mTrue\u001b[0m\u001b[0;34m)\u001b[0m\u001b[0;34m\u001b[0m\u001b[0;34m\u001b[0m\u001b[0m\n\u001b[0m\u001b[1;32m    565\u001b[0m         \u001b[0mself\u001b[0m\u001b[0;34m.\u001b[0m\u001b[0m_validate_output\u001b[0m\u001b[0;34m(\u001b[0m\u001b[0mXs\u001b[0m\u001b[0;34m)\u001b[0m\u001b[0;34m\u001b[0m\u001b[0;34m\u001b[0m\u001b[0m\n\u001b[1;32m    566\u001b[0m \u001b[0;34m\u001b[0m\u001b[0m\n",
      "\u001b[0;32m/shared-libs/python3.7/py/lib/python3.7/site-packages/sklearn/compose/_column_transformer.py\u001b[0m in \u001b[0;36m_fit_transform\u001b[0;34m(self, X, y, func, fitted)\u001b[0m\n\u001b[1;32m    441\u001b[0m                     message=self._log_message(name, idx, len(transformers)))\n\u001b[1;32m    442\u001b[0m                 for idx, (name, trans, column, weight) in enumerate(\n\u001b[0;32m--> 443\u001b[0;31m                         self._iter(fitted=fitted, replace_strings=True), 1))\n\u001b[0m\u001b[1;32m    444\u001b[0m         \u001b[0;32mexcept\u001b[0m \u001b[0mValueError\u001b[0m \u001b[0;32mas\u001b[0m \u001b[0me\u001b[0m\u001b[0;34m:\u001b[0m\u001b[0;34m\u001b[0m\u001b[0;34m\u001b[0m\u001b[0m\n\u001b[1;32m    445\u001b[0m             \u001b[0;32mif\u001b[0m \u001b[0;34m\"Expected 2D array, got 1D array instead\"\u001b[0m \u001b[0;32min\u001b[0m \u001b[0mstr\u001b[0m\u001b[0;34m(\u001b[0m\u001b[0me\u001b[0m\u001b[0;34m)\u001b[0m\u001b[0;34m:\u001b[0m\u001b[0;34m\u001b[0m\u001b[0;34m\u001b[0m\u001b[0m\n",
      "\u001b[0;32m/shared-libs/python3.7/py/lib/python3.7/site-packages/joblib/parallel.py\u001b[0m in \u001b[0;36m__call__\u001b[0;34m(self, iterable)\u001b[0m\n\u001b[1;32m   1039\u001b[0m             \u001b[0;31m# remaining jobs.\u001b[0m\u001b[0;34m\u001b[0m\u001b[0;34m\u001b[0m\u001b[0;34m\u001b[0m\u001b[0m\n\u001b[1;32m   1040\u001b[0m             \u001b[0mself\u001b[0m\u001b[0;34m.\u001b[0m\u001b[0m_iterating\u001b[0m \u001b[0;34m=\u001b[0m \u001b[0;32mFalse\u001b[0m\u001b[0;34m\u001b[0m\u001b[0;34m\u001b[0m\u001b[0m\n\u001b[0;32m-> 1041\u001b[0;31m             \u001b[0;32mif\u001b[0m \u001b[0mself\u001b[0m\u001b[0;34m.\u001b[0m\u001b[0mdispatch_one_batch\u001b[0m\u001b[0;34m(\u001b[0m\u001b[0miterator\u001b[0m\u001b[0;34m)\u001b[0m\u001b[0;34m:\u001b[0m\u001b[0;34m\u001b[0m\u001b[0;34m\u001b[0m\u001b[0m\n\u001b[0m\u001b[1;32m   1042\u001b[0m                 \u001b[0mself\u001b[0m\u001b[0;34m.\u001b[0m\u001b[0m_iterating\u001b[0m \u001b[0;34m=\u001b[0m \u001b[0mself\u001b[0m\u001b[0;34m.\u001b[0m\u001b[0m_original_iterator\u001b[0m \u001b[0;32mis\u001b[0m \u001b[0;32mnot\u001b[0m \u001b[0;32mNone\u001b[0m\u001b[0;34m\u001b[0m\u001b[0;34m\u001b[0m\u001b[0m\n\u001b[1;32m   1043\u001b[0m \u001b[0;34m\u001b[0m\u001b[0m\n",
      "\u001b[0;32m/shared-libs/python3.7/py/lib/python3.7/site-packages/joblib/parallel.py\u001b[0m in \u001b[0;36mdispatch_one_batch\u001b[0;34m(self, iterator)\u001b[0m\n\u001b[1;32m    829\u001b[0m                 \u001b[0mbig_batch_size\u001b[0m \u001b[0;34m=\u001b[0m \u001b[0mbatch_size\u001b[0m \u001b[0;34m*\u001b[0m \u001b[0mn_jobs\u001b[0m\u001b[0;34m\u001b[0m\u001b[0;34m\u001b[0m\u001b[0m\n\u001b[1;32m    830\u001b[0m \u001b[0;34m\u001b[0m\u001b[0m\n\u001b[0;32m--> 831\u001b[0;31m                 \u001b[0mislice\u001b[0m \u001b[0;34m=\u001b[0m \u001b[0mlist\u001b[0m\u001b[0;34m(\u001b[0m\u001b[0mitertools\u001b[0m\u001b[0;34m.\u001b[0m\u001b[0mislice\u001b[0m\u001b[0;34m(\u001b[0m\u001b[0miterator\u001b[0m\u001b[0;34m,\u001b[0m \u001b[0mbig_batch_size\u001b[0m\u001b[0;34m)\u001b[0m\u001b[0;34m)\u001b[0m\u001b[0;34m\u001b[0m\u001b[0;34m\u001b[0m\u001b[0m\n\u001b[0m\u001b[1;32m    832\u001b[0m                 \u001b[0;32mif\u001b[0m \u001b[0mlen\u001b[0m\u001b[0;34m(\u001b[0m\u001b[0mislice\u001b[0m\u001b[0;34m)\u001b[0m \u001b[0;34m==\u001b[0m \u001b[0;36m0\u001b[0m\u001b[0;34m:\u001b[0m\u001b[0;34m\u001b[0m\u001b[0;34m\u001b[0m\u001b[0m\n\u001b[1;32m    833\u001b[0m                     \u001b[0;32mreturn\u001b[0m \u001b[0;32mFalse\u001b[0m\u001b[0;34m\u001b[0m\u001b[0;34m\u001b[0m\u001b[0m\n",
      "\u001b[0;32m/shared-libs/python3.7/py/lib/python3.7/site-packages/sklearn/compose/_column_transformer.py\u001b[0m in \u001b[0;36m<genexpr>\u001b[0;34m(.0)\u001b[0m\n\u001b[1;32m    440\u001b[0m                     \u001b[0mmessage_clsname\u001b[0m\u001b[0;34m=\u001b[0m\u001b[0;34m'ColumnTransformer'\u001b[0m\u001b[0;34m,\u001b[0m\u001b[0;34m\u001b[0m\u001b[0;34m\u001b[0m\u001b[0m\n\u001b[1;32m    441\u001b[0m                     message=self._log_message(name, idx, len(transformers)))\n\u001b[0;32m--> 442\u001b[0;31m                 for idx, (name, trans, column, weight) in enumerate(\n\u001b[0m\u001b[1;32m    443\u001b[0m                         self._iter(fitted=fitted, replace_strings=True), 1))\n\u001b[1;32m    444\u001b[0m         \u001b[0;32mexcept\u001b[0m \u001b[0mValueError\u001b[0m \u001b[0;32mas\u001b[0m \u001b[0me\u001b[0m\u001b[0;34m:\u001b[0m\u001b[0;34m\u001b[0m\u001b[0;34m\u001b[0m\u001b[0m\n",
      "\u001b[0;32m/shared-libs/python3.7/py/lib/python3.7/site-packages/sklearn/utils/__init__.py\u001b[0m in \u001b[0;36m_safe_indexing\u001b[0;34m(X, indices, axis)\u001b[0m\n\u001b[1;32m    335\u001b[0m     \u001b[0;32mif\u001b[0m \u001b[0maxis\u001b[0m \u001b[0;34m==\u001b[0m \u001b[0;36m1\u001b[0m \u001b[0;32mand\u001b[0m \u001b[0mindices_dtype\u001b[0m \u001b[0;34m==\u001b[0m \u001b[0;34m'str'\u001b[0m \u001b[0;32mand\u001b[0m \u001b[0;32mnot\u001b[0m \u001b[0mhasattr\u001b[0m\u001b[0;34m(\u001b[0m\u001b[0mX\u001b[0m\u001b[0;34m,\u001b[0m \u001b[0;34m'loc'\u001b[0m\u001b[0;34m)\u001b[0m\u001b[0;34m:\u001b[0m\u001b[0;34m\u001b[0m\u001b[0;34m\u001b[0m\u001b[0m\n\u001b[1;32m    336\u001b[0m         raise ValueError(\n\u001b[0;32m--> 337\u001b[0;31m             \u001b[0;34m\"Specifying the columns using strings is only supported for \"\u001b[0m\u001b[0;34m\u001b[0m\u001b[0;34m\u001b[0m\u001b[0m\n\u001b[0m\u001b[1;32m    338\u001b[0m             \u001b[0;34m\"pandas DataFrames\"\u001b[0m\u001b[0;34m\u001b[0m\u001b[0;34m\u001b[0m\u001b[0m\n\u001b[1;32m    339\u001b[0m         )\n",
      "\u001b[0;31mValueError\u001b[0m: Specifying the columns using strings is only supported for pandas DataFrames"
     ]
    }
   ]
  },
  {
   "cell_type": "code",
   "metadata": {
    "tags": [],
    "cell_id": "00014-6a6f6252-b19d-4aa4-a959-81483ef1308f",
    "deepnote_cell_type": "code"
   },
   "source": "",
   "execution_count": null,
   "outputs": []
  },
  {
   "cell_type": "markdown",
   "source": "<a style='text-decoration:none;line-height:16px;display:flex;color:#5B5B62;padding:10px;justify-content:end;' href='https://deepnote.com?utm_source=created-in-deepnote-cell&projectId=ae2d5407-15eb-472e-9a2e-ceb75c9fcac0' target=\"_blank\">\n<img alt='Created in deepnote.com' style='display:inline;max-height:16px;margin:0px;margin-right:7.5px;' src='data:image/svg+xml;base64,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' > </img>\nCreated in <span style='font-weight:600;margin-left:4px;'>Deepnote</span></a>",
   "metadata": {
    "tags": [],
    "created_in_deepnote_cell": true,
    "deepnote_cell_type": "markdown"
   }
  }
 ],
 "nbformat": 4,
 "nbformat_minor": 2,
 "metadata": {
  "orig_nbformat": 2,
  "deepnote": {
   "is_reactive": false
  },
  "deepnote_notebook_id": "2d81720b-6a35-4ef0-968e-aa8dd6524ed5",
  "deepnote_execution_queue": []
 }
}